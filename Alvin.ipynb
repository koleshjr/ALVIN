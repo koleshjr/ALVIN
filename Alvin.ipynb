{
  "cells": [
    {
      "cell_type": "markdown",
      "metadata": {
        "id": "HPBKQt5vhoak"
      },
      "source": [
        "## Module Installation"
      ]
    },
    {
      "cell_type": "code",
      "execution_count": null,
      "metadata": {
        "id": "gEjmfdnThm6A",
        "colab": {
          "base_uri": "https://localhost:8080/"
        },
        "outputId": "ea90c04a-818d-425a-8e19-fb83b9dd1474"
      },
      "outputs": [
        {
          "output_type": "stream",
          "name": "stdout",
          "text": [
            "\u001b[K     |████████████████████████████████| 76.6 MB 1.3 MB/s \n",
            "\u001b[?25hMounted at /content/drive\n"
          ]
        }
      ],
      "source": [
        "!pip install catboost -q\n",
        "from google.colab import drive\n",
        "drive.mount('/content/drive')"
      ]
    },
    {
      "cell_type": "markdown",
      "metadata": {
        "id": "iYdpBYYceneg"
      },
      "source": [
        "## Importing libraries"
      ]
    },
    {
      "cell_type": "code",
      "execution_count": null,
      "metadata": {
        "id": "06kkNxjIdgSW"
      },
      "outputs": [],
      "source": [
        "# Dataframe and Plotting libraries\n",
        "import time\n",
        "import pandas as pd\n",
        "import numpy as np\n",
        "import seaborn as sns\n",
        "import matplotlib.pyplot as plt\n",
        "import imblearn.over_sampling as ovs\n",
        "\n",
        "from sklearn.metrics import log_loss\n",
        "from sklearn.preprocessing import LabelEncoder\n",
        "from sklearn.feature_extraction.text import TfidfVectorizer\n",
        "from sklearn.model_selection import StratifiedKFold\n",
        "\n",
        "from sklearn.ensemble import *\n",
        "from sklearn.cluster import KMeans\n",
        "from sklearn.multiclass import OneVsRestClassifier\n",
        "from sklearn.neural_network import MLPClassifier\n",
        "from catboost import CatBoostClassifier\n",
        "from lightgbm import LGBMClassifier\n",
        "from xgboost import XGBClassifier\n",
        "\n",
        "pd.set_option('display.max_columns', None)\n",
        "import warnings\n",
        "warnings.filterwarnings('ignore')\n",
        "path = '/content/drive/MyDrive/Alvin/'\n",
        "seed = 21"
      ]
    },
    {
      "cell_type": "markdown",
      "metadata": {
        "id": "J8AhJ0cKer7b"
      },
      "source": [
        "## 1. Load the dataset"
      ]
    },
    {
      "cell_type": "code",
      "execution_count": null,
      "metadata": {
        "id": "aPn2dmoMexCU"
      },
      "outputs": [],
      "source": [
        "# Load the files into a Pandas Dataframe\n",
        "Train = pd.read_csv(path+'Train.csv', parse_dates=['PURCHASED_AT', 'MERCHANT_CATEGORIZED_AT'])\n",
        "Test = pd.read_csv(path+'Test.csv', parse_dates=['PURCHASED_AT', 'MERCHANT_CATEGORIZED_AT'])\n",
        "extra = pd.read_csv(path+'extra_data.csv', parse_dates=['PURCHASED_AT', 'MERCHANT_CATEGORIZED_AT'])"
      ]
    },
    {
      "cell_type": "code",
      "execution_count": null,
      "metadata": {
        "colab": {
          "base_uri": "https://localhost:8080/"
        },
        "id": "HSj_1Qz7ezsw",
        "outputId": "994f013f-b89f-4126-c04d-9fbf5ee96efb"
      },
      "outputs": [
        {
          "output_type": "stream",
          "name": "stdout",
          "text": [
            "Train data shape : (373, 12)\n",
            "Test data shape : (558, 11)\n"
          ]
        }
      ],
      "source": [
        "# Let’s observe the shape of our datasets.\n",
        "print('Train data shape :', Train.shape)\n",
        "print('Test data shape :', Test.shape)"
      ]
    },
    {
      "cell_type": "code",
      "execution_count": null,
      "metadata": {
        "colab": {
          "base_uri": "https://localhost:8080/",
          "height": 427
        },
        "id": "aeKToQ98lOVe",
        "outputId": "fe6741b4-c7a8-4762-c333-7de0a4fdf972"
      },
      "outputs": [
        {
          "output_type": "execute_result",
          "data": {
            "text/plain": [
              "           MERCHANT_CATEGORIZED_AT                      MERCHANT_NAME  \\\n",
              "0 2022-05-04 10:25:50.588042+00:00  UONSDA CHURCH  MOGERE MWAYO TITHE   \n",
              "1 2021-10-25 16:18:38.586837+00:00                          PARK N GO   \n",
              "2 2022-05-20 14:17:30.917297+00:00         SAFARICOM OFFERS  TUNUKIWA   \n",
              "3 2022-04-12 15:59:14.139347+00:00            ZILLIONS CREDIT LIMITED   \n",
              "4 2022-05-04 10:24:26.709045+00:00                    MICHAEL MUSEMBI   \n",
              "\n",
              "  MERCHANT_CATEGORIZED_AS  PURCHASE_VALUE              PURCHASED_AT  \\\n",
              "0         Rent / Mortgage            1700 2022-05-04 13:56:00+00:00   \n",
              "1        Transport & Fuel             100 2021-10-24 14:12:00+00:00   \n",
              "2             Data & WiFi              20 2022-05-27 12:46:00+00:00   \n",
              "3          Loan Repayment            3800 2022-02-07 12:16:00+00:00   \n",
              "4            Bills & Fees              60 2022-05-04 15:28:00+00:00   \n",
              "\n",
              "   IS_PURCHASE_PAID_VIA_MPESA_SEND_MONEY  USER_AGE USER_GENDER  \\\n",
              "0                                  False       NaN        Male   \n",
              "1                                  False      25.0      Female   \n",
              "2                                  False       NaN        Male   \n",
              "3                                  False       NaN        Male   \n",
              "4                                  False       NaN        Male   \n",
              "\n",
              "   USER_HOUSEHOLD  USER_INCOME      USER_ID Transaction_ID  \n",
              "0               3        10000  ID_ZX4DCF4K    ID_04mk78fa  \n",
              "1               4        90000  ID_U9WZMGJZ    ID_04xkfb07  \n",
              "2               3        10000  ID_ZX4DCF4K    ID_051urwuw  \n",
              "3               5       252000  ID_3JA0MAFB    ID_0e1om7rz  \n",
              "4               3        10000  ID_ZX4DCF4K    ID_0kfcoawb  "
            ],
            "text/html": [
              "\n",
              "  <div id=\"df-6fc36286-d867-4123-80ae-78f2c4d502ca\">\n",
              "    <div class=\"colab-df-container\">\n",
              "      <div>\n",
              "<style scoped>\n",
              "    .dataframe tbody tr th:only-of-type {\n",
              "        vertical-align: middle;\n",
              "    }\n",
              "\n",
              "    .dataframe tbody tr th {\n",
              "        vertical-align: top;\n",
              "    }\n",
              "\n",
              "    .dataframe thead th {\n",
              "        text-align: right;\n",
              "    }\n",
              "</style>\n",
              "<table border=\"1\" class=\"dataframe\">\n",
              "  <thead>\n",
              "    <tr style=\"text-align: right;\">\n",
              "      <th></th>\n",
              "      <th>MERCHANT_CATEGORIZED_AT</th>\n",
              "      <th>MERCHANT_NAME</th>\n",
              "      <th>MERCHANT_CATEGORIZED_AS</th>\n",
              "      <th>PURCHASE_VALUE</th>\n",
              "      <th>PURCHASED_AT</th>\n",
              "      <th>IS_PURCHASE_PAID_VIA_MPESA_SEND_MONEY</th>\n",
              "      <th>USER_AGE</th>\n",
              "      <th>USER_GENDER</th>\n",
              "      <th>USER_HOUSEHOLD</th>\n",
              "      <th>USER_INCOME</th>\n",
              "      <th>USER_ID</th>\n",
              "      <th>Transaction_ID</th>\n",
              "    </tr>\n",
              "  </thead>\n",
              "  <tbody>\n",
              "    <tr>\n",
              "      <th>0</th>\n",
              "      <td>2022-05-04 10:25:50.588042+00:00</td>\n",
              "      <td>UONSDA CHURCH  MOGERE MWAYO TITHE</td>\n",
              "      <td>Rent / Mortgage</td>\n",
              "      <td>1700</td>\n",
              "      <td>2022-05-04 13:56:00+00:00</td>\n",
              "      <td>False</td>\n",
              "      <td>NaN</td>\n",
              "      <td>Male</td>\n",
              "      <td>3</td>\n",
              "      <td>10000</td>\n",
              "      <td>ID_ZX4DCF4K</td>\n",
              "      <td>ID_04mk78fa</td>\n",
              "    </tr>\n",
              "    <tr>\n",
              "      <th>1</th>\n",
              "      <td>2021-10-25 16:18:38.586837+00:00</td>\n",
              "      <td>PARK N GO</td>\n",
              "      <td>Transport &amp; Fuel</td>\n",
              "      <td>100</td>\n",
              "      <td>2021-10-24 14:12:00+00:00</td>\n",
              "      <td>False</td>\n",
              "      <td>25.0</td>\n",
              "      <td>Female</td>\n",
              "      <td>4</td>\n",
              "      <td>90000</td>\n",
              "      <td>ID_U9WZMGJZ</td>\n",
              "      <td>ID_04xkfb07</td>\n",
              "    </tr>\n",
              "    <tr>\n",
              "      <th>2</th>\n",
              "      <td>2022-05-20 14:17:30.917297+00:00</td>\n",
              "      <td>SAFARICOM OFFERS  TUNUKIWA</td>\n",
              "      <td>Data &amp; WiFi</td>\n",
              "      <td>20</td>\n",
              "      <td>2022-05-27 12:46:00+00:00</td>\n",
              "      <td>False</td>\n",
              "      <td>NaN</td>\n",
              "      <td>Male</td>\n",
              "      <td>3</td>\n",
              "      <td>10000</td>\n",
              "      <td>ID_ZX4DCF4K</td>\n",
              "      <td>ID_051urwuw</td>\n",
              "    </tr>\n",
              "    <tr>\n",
              "      <th>3</th>\n",
              "      <td>2022-04-12 15:59:14.139347+00:00</td>\n",
              "      <td>ZILLIONS CREDIT LIMITED</td>\n",
              "      <td>Loan Repayment</td>\n",
              "      <td>3800</td>\n",
              "      <td>2022-02-07 12:16:00+00:00</td>\n",
              "      <td>False</td>\n",
              "      <td>NaN</td>\n",
              "      <td>Male</td>\n",
              "      <td>5</td>\n",
              "      <td>252000</td>\n",
              "      <td>ID_3JA0MAFB</td>\n",
              "      <td>ID_0e1om7rz</td>\n",
              "    </tr>\n",
              "    <tr>\n",
              "      <th>4</th>\n",
              "      <td>2022-05-04 10:24:26.709045+00:00</td>\n",
              "      <td>MICHAEL MUSEMBI</td>\n",
              "      <td>Bills &amp; Fees</td>\n",
              "      <td>60</td>\n",
              "      <td>2022-05-04 15:28:00+00:00</td>\n",
              "      <td>False</td>\n",
              "      <td>NaN</td>\n",
              "      <td>Male</td>\n",
              "      <td>3</td>\n",
              "      <td>10000</td>\n",
              "      <td>ID_ZX4DCF4K</td>\n",
              "      <td>ID_0kfcoawb</td>\n",
              "    </tr>\n",
              "  </tbody>\n",
              "</table>\n",
              "</div>\n",
              "      <button class=\"colab-df-convert\" onclick=\"convertToInteractive('df-6fc36286-d867-4123-80ae-78f2c4d502ca')\"\n",
              "              title=\"Convert this dataframe to an interactive table.\"\n",
              "              style=\"display:none;\">\n",
              "        \n",
              "  <svg xmlns=\"http://www.w3.org/2000/svg\" height=\"24px\"viewBox=\"0 0 24 24\"\n",
              "       width=\"24px\">\n",
              "    <path d=\"M0 0h24v24H0V0z\" fill=\"none\"/>\n",
              "    <path d=\"M18.56 5.44l.94 2.06.94-2.06 2.06-.94-2.06-.94-.94-2.06-.94 2.06-2.06.94zm-11 1L8.5 8.5l.94-2.06 2.06-.94-2.06-.94L8.5 2.5l-.94 2.06-2.06.94zm10 10l.94 2.06.94-2.06 2.06-.94-2.06-.94-.94-2.06-.94 2.06-2.06.94z\"/><path d=\"M17.41 7.96l-1.37-1.37c-.4-.4-.92-.59-1.43-.59-.52 0-1.04.2-1.43.59L10.3 9.45l-7.72 7.72c-.78.78-.78 2.05 0 2.83L4 21.41c.39.39.9.59 1.41.59.51 0 1.02-.2 1.41-.59l7.78-7.78 2.81-2.81c.8-.78.8-2.07 0-2.86zM5.41 20L4 18.59l7.72-7.72 1.47 1.35L5.41 20z\"/>\n",
              "  </svg>\n",
              "      </button>\n",
              "      \n",
              "  <style>\n",
              "    .colab-df-container {\n",
              "      display:flex;\n",
              "      flex-wrap:wrap;\n",
              "      gap: 12px;\n",
              "    }\n",
              "\n",
              "    .colab-df-convert {\n",
              "      background-color: #E8F0FE;\n",
              "      border: none;\n",
              "      border-radius: 50%;\n",
              "      cursor: pointer;\n",
              "      display: none;\n",
              "      fill: #1967D2;\n",
              "      height: 32px;\n",
              "      padding: 0 0 0 0;\n",
              "      width: 32px;\n",
              "    }\n",
              "\n",
              "    .colab-df-convert:hover {\n",
              "      background-color: #E2EBFA;\n",
              "      box-shadow: 0px 1px 2px rgba(60, 64, 67, 0.3), 0px 1px 3px 1px rgba(60, 64, 67, 0.15);\n",
              "      fill: #174EA6;\n",
              "    }\n",
              "\n",
              "    [theme=dark] .colab-df-convert {\n",
              "      background-color: #3B4455;\n",
              "      fill: #D2E3FC;\n",
              "    }\n",
              "\n",
              "    [theme=dark] .colab-df-convert:hover {\n",
              "      background-color: #434B5C;\n",
              "      box-shadow: 0px 1px 3px 1px rgba(0, 0, 0, 0.15);\n",
              "      filter: drop-shadow(0px 1px 2px rgba(0, 0, 0, 0.3));\n",
              "      fill: #FFFFFF;\n",
              "    }\n",
              "  </style>\n",
              "\n",
              "      <script>\n",
              "        const buttonEl =\n",
              "          document.querySelector('#df-6fc36286-d867-4123-80ae-78f2c4d502ca button.colab-df-convert');\n",
              "        buttonEl.style.display =\n",
              "          google.colab.kernel.accessAllowed ? 'block' : 'none';\n",
              "\n",
              "        async function convertToInteractive(key) {\n",
              "          const element = document.querySelector('#df-6fc36286-d867-4123-80ae-78f2c4d502ca');\n",
              "          const dataTable =\n",
              "            await google.colab.kernel.invokeFunction('convertToInteractive',\n",
              "                                                     [key], {});\n",
              "          if (!dataTable) return;\n",
              "\n",
              "          const docLinkHtml = 'Like what you see? Visit the ' +\n",
              "            '<a target=\"_blank\" href=https://colab.research.google.com/notebooks/data_table.ipynb>data table notebook</a>'\n",
              "            + ' to learn more about interactive tables.';\n",
              "          element.innerHTML = '';\n",
              "          dataTable['output_type'] = 'display_data';\n",
              "          await google.colab.output.renderOutput(dataTable, element);\n",
              "          const docLink = document.createElement('div');\n",
              "          docLink.innerHTML = docLinkHtml;\n",
              "          element.appendChild(docLink);\n",
              "        }\n",
              "      </script>\n",
              "    </div>\n",
              "  </div>\n",
              "  "
            ]
          },
          "metadata": {},
          "execution_count": 5
        }
      ],
      "source": [
        "# Inspect the training data\n",
        "Train.head()"
      ]
    },
    {
      "cell_type": "markdown",
      "metadata": {
        "id": "uR7H9KmYtqqg"
      },
      "source": [
        "## 2. EDA,Preprocessing and Feature Engineering"
      ]
    },
    {
      "cell_type": "markdown",
      "metadata": {
        "id": "6Gp_xSOrtyfj"
      },
      "source": [
        "### Plots"
      ]
    },
    {
      "cell_type": "code",
      "execution_count": null,
      "metadata": {
        "id": "3_E4cGDvstrK",
        "colab": {
          "base_uri": "https://localhost:8080/",
          "height": 141
        },
        "outputId": "47483752-fb20-4fba-f4be-5c32217c0556"
      },
      "outputs": [
        {
          "output_type": "execute_result",
          "data": {
            "text/plain": [
              "<BarContainer object of 373 artists>"
            ]
          },
          "metadata": {},
          "execution_count": 6
        },
        {
          "output_type": "display_data",
          "data": {
            "text/plain": [
              "<Figure size 800x600 with 1 Axes>"
            ],
            "image/png": "[encoded data removed]"
          },
          "metadata": {
            "needs_background": "light"
          }
        }
      ],
      "source": [
        "# Show a bar graph of the purchase_value vs the target in the train data (merchant_categorized_as)\n",
        "plt.figure(dpi=200, figsize=(4,3))\n",
        "plt.xticks(rotation=90)\n",
        "plt.bar(data=Train, x='MERCHANT_CATEGORIZED_AS', height='PURCHASE_VALUE')"
      ]
    },
    {
      "cell_type": "code",
      "execution_count": null,
      "metadata": {
        "id": "FpsRo4-0OgUC",
        "colab": {
          "base_uri": "https://localhost:8080/",
          "height": 54
        },
        "outputId": "bb27e72e-ea57-442f-e503-b4e21f2b4073"
      },
      "outputs": [
        {
          "output_type": "display_data",
          "data": {
            "text/plain": [
              "<Figure size 1440x1080 with 4 Axes>"
            ],
            "image/png": "[encoded data removed]"
          },
          "metadata": {
            "needs_background": "light"
          }
        }
      ],
      "source": [
        "#Numerical Features Histograms (Train)\n",
        "num_feats = list(Train.select_dtypes(include=['int64', 'float64', 'int32']).columns)\n",
        "Train[num_feats].hist(figsize=(20,15));"
      ]
    },
    {
      "cell_type": "code",
      "execution_count": null,
      "metadata": {
        "id": "DafluIfIOgUD",
        "colab": {
          "base_uri": "https://localhost:8080/",
          "height": 54
        },
        "outputId": "492496bf-b92d-4b77-90ce-539d3502e5e7"
      },
      "outputs": [
        {
          "output_type": "display_data",
          "data": {
            "text/plain": [
              "<Figure size 1440x1080 with 4 Axes>"
            ],
            "image/png": "[encoded data removed]"
          },
          "metadata": {
            "needs_background": "light"
          }
        }
      ],
      "source": [
        "#Numerical Features Histograms (Test)\n",
        "num_feats = list(Test.select_dtypes(include=['int64', 'float64', 'int32']).columns)\n",
        "Test[num_feats].hist(figsize=(20,15));"
      ]
    },
    {
      "cell_type": "markdown",
      "source": [
        "### Other EDA"
      ],
      "metadata": {
        "id": "J2kxA0aWfNwQ"
      }
    },
    {
      "cell_type": "code",
      "execution_count": null,
      "metadata": {
        "colab": {
          "base_uri": "https://localhost:8080/"
        },
        "id": "K9aLqQ_sOgUF",
        "outputId": "ef07c27d-d025-43ff-ef28-38a5b3da0c77"
      },
      "outputs": [
        {
          "output_type": "execute_result",
          "data": {
            "text/plain": [
              "((25,), (30,), (28,))"
            ]
          },
          "metadata": {},
          "execution_count": 9
        }
      ],
      "source": [
        "# check the number of users\n",
        "tr = Train.USER_ID.unique()\n",
        "ts = Test.USER_ID.unique()\n",
        "ex = extra.USER_ID.unique()\n",
        "\n",
        "np.intersect1d(tr, ts).shape, ts.shape, np.intersect1d(ts, ex).shape"
      ]
    },
    {
      "cell_type": "markdown",
      "source": [
        "#### Missing values"
      ],
      "metadata": {
        "id": "1OiAYIhhfQ9O"
      }
    },
    {
      "cell_type": "code",
      "execution_count": null,
      "metadata": {
        "colab": {
          "base_uri": "https://localhost:8080/"
        },
        "id": "AHANXSdvmdy8",
        "outputId": "3fc3c486-7337-4da5-8774-a5fa34199d3f"
      },
      "outputs": [
        {
          "output_type": "stream",
          "name": "stdout",
          "text": [
            "Missing values for Train:\n",
            " MERCHANT_CATEGORIZED_AT                    0\n",
            "MERCHANT_NAME                              0\n",
            "MERCHANT_CATEGORIZED_AS                    0\n",
            "PURCHASE_VALUE                             0\n",
            "PURCHASED_AT                               0\n",
            "IS_PURCHASE_PAID_VIA_MPESA_SEND_MONEY      0\n",
            "USER_AGE                                 312\n",
            "USER_GENDER                                6\n",
            "USER_HOUSEHOLD                             0\n",
            "USER_INCOME                                0\n",
            "USER_ID                                    0\n",
            "Transaction_ID                             0\n",
            "dtype: int64\n",
            "\n",
            "Missing values for Test:\n",
            " MERCHANT_CATEGORIZED_AT                    0\n",
            "MERCHANT_NAME                              0\n",
            "PURCHASE_VALUE                             0\n",
            "PURCHASED_AT                               0\n",
            "IS_PURCHASE_PAID_VIA_MPESA_SEND_MONEY      0\n",
            "USER_AGE                                 473\n",
            "USER_GENDER                                5\n",
            "USER_HOUSEHOLD                             0\n",
            "USER_INCOME                                0\n",
            "USER_ID                                    0\n",
            "Transaction_ID                             0\n",
            "dtype: int64\n",
            "\n",
            "Missing values for Test:\n",
            " MERCHANT_CATEGORIZED_AT                  10000\n",
            "MERCHANT_NAME                                0\n",
            "MERCHANT_CATEGORIZED_AS                  10000\n",
            "PURCHASE_VALUE                               0\n",
            "PURCHASED_AT                                 0\n",
            "IS_PURCHASE_PAID_VIA_MPESA_SEND_MONEY        0\n",
            "USER_AGE                                  8842\n",
            "USER_GENDER                                 34\n",
            "USER_HOUSEHOLD                               0\n",
            "USER_INCOME                                  0\n",
            "USER_ID                                      0\n",
            "Transaction_ID                               0\n",
            "dtype: int64\n"
          ]
        }
      ],
      "source": [
        "# We can also use the .isnull() method to check for empty values\n",
        "print('Missing values for Train:\\n', Train.isnull().sum())\n",
        "print('')\n",
        "print('Missing values for Test:\\n', Test.isnull().sum())\n",
        "print()\n",
        "print('Missing values for Test:\\n', extra.isnull().sum())"
      ]
    },
    {
      "cell_type": "code",
      "source": [
        "Train['USER_GENDER'].value_counts()"
      ],
      "metadata": {
        "id": "n8HP4oGpavmH",
        "outputId": "a86741d9-5b93-4966-d586-3648bb1a4b37",
        "colab": {
          "base_uri": "https://localhost:8080/"
        }
      },
      "execution_count": null,
      "outputs": [
        {
          "output_type": "execute_result",
          "data": {
            "text/plain": [
              "Male      197\n",
              "Female    170\n",
              "Name: USER_GENDER, dtype: int64"
            ]
          },
          "metadata": {},
          "execution_count": 11
        }
      ]
    },
    {
      "cell_type": "markdown",
      "source": [
        "for the missing data of gender, we can either fill it with either Male or Female since Male has larger value let's fill it with Male."
      ],
      "metadata": {
        "id": "7hEjawtAeZb1"
      }
    },
    {
      "cell_type": "code",
      "source": [
        "Train[\"USER_GENDER\"] = Train[\"USER_GENDER\"].apply(lambda x: \"Male\" if pd.isna(x) else x)\n",
        "Test[\"USER_GENDER\"] = Test[\"USER_GENDER\"].apply(lambda x: \"Male\" if pd.isna(x) else x)"
      ],
      "metadata": {
        "id": "iq0vYJaHeYOs"
      },
      "execution_count": null,
      "outputs": []
    },
    {
      "cell_type": "markdown",
      "source": [
        "For a baseline lets drop the age column (84% is alot of missing values)"
      ],
      "metadata": {
        "id": "6IP9rwLmfz6i"
      }
    },
    {
      "cell_type": "code",
      "source": [
        "Train.drop(['USER_AGE'], axis=1, inplace=True)\n",
        "Test.drop(['USER_AGE'], axis=1, inplace=True)"
      ],
      "metadata": {
        "id": "Hur3T0rtf2Yk"
      },
      "execution_count": null,
      "outputs": []
    },
    {
      "cell_type": "markdown",
      "source": [
        "#### Let's check for duplicates"
      ],
      "metadata": {
        "id": "qNVa36_gbQWS"
      }
    },
    {
      "cell_type": "code",
      "source": [
        "Train[Train.duplicated(Train.columns[1:-1].drop('MERCHANT_CATEGORIZED_AS'), keep=False)].sort_values('PURCHASED_AT')"
      ],
      "metadata": {
        "id": "qjHZAi9kbPjg",
        "outputId": "682d104a-77c9-4abb-ccde-a9fdd0cbc674",
        "colab": {
          "base_uri": "https://localhost:8080/",
          "height": 796
        }
      },
      "execution_count": null,
      "outputs": [
        {
          "output_type": "execute_result",
          "data": {
            "text/plain": [
              "             MERCHANT_CATEGORIZED_AT          MERCHANT_NAME  \\\n",
              "188 2022-03-16 13:08:19.703288+00:00         JIMMIE WAIRIMU   \n",
              "356 2022-03-16 13:05:51.851102+00:00         JIMMIE WAIRIMU   \n",
              "209 2022-03-16 13:08:19.703288+00:00   TELKOM KENYA LIMITED   \n",
              "227 2022-03-16 13:05:51.851102+00:00   TELKOM KENYA LIMITED   \n",
              "330 2021-12-01 08:30:46.660752+00:00      SAFARICOM LIMITED   \n",
              "370 2021-12-01 08:33:13.820670+00:00      SAFARICOM LIMITED   \n",
              "145 2021-08-06 11:28:16.860332+00:00                   JAVA   \n",
              "327 2021-12-01 08:33:13.820670+00:00                   JAVA   \n",
              "85  2021-08-06 11:28:03.855344+00:00            MIKE  KOECH   \n",
              "335 2021-11-03 14:49:24.056590+00:00            MIKE  KOECH   \n",
              "295 2022-03-16 13:05:51.851102+00:00     JOHN NJIRU GAKUNJU   \n",
              "333 2022-03-16 13:08:19.703288+00:00     JOHN NJIRU GAKUNJU   \n",
              "186 2022-03-16 13:08:19.703288+00:00  TOTAL K STATE HOUSE 1   \n",
              "347 2022-03-16 13:05:51.851102+00:00  TOTAL K STATE HOUSE 1   \n",
              "\n",
              "    MERCHANT_CATEGORIZED_AS  PURCHASE_VALUE              PURCHASED_AT  \\\n",
              "188            Bills & Fees           40000 2019-03-11 05:38:00+00:00   \n",
              "356            Bills & Fees           40000 2019-03-11 05:38:00+00:00   \n",
              "209             Data & WiFi             100 2019-06-20 08:41:00+00:00   \n",
              "227             Data & WiFi             100 2019-06-20 08:41:00+00:00   \n",
              "330             Data & WiFi             500 2021-01-15 15:40:00+00:00   \n",
              "370             Data & WiFi             500 2021-01-15 15:40:00+00:00   \n",
              "145               Going out             880 2021-08-04 15:03:00+00:00   \n",
              "327               Going out             880 2021-08-04 15:03:00+00:00   \n",
              "85                Groceries             130 2021-08-24 14:53:00+00:00   \n",
              "335               Groceries             130 2021-08-24 14:53:00+00:00   \n",
              "295           Miscellaneous             400 2021-10-11 17:12:00+00:00   \n",
              "333           Miscellaneous             400 2021-10-11 17:12:00+00:00   \n",
              "186        Transport & Fuel             300 2021-11-18 11:02:00+00:00   \n",
              "347               Groceries             300 2021-11-18 11:02:00+00:00   \n",
              "\n",
              "     IS_PURCHASE_PAID_VIA_MPESA_SEND_MONEY USER_GENDER  USER_HOUSEHOLD  \\\n",
              "188                                   True      Female               1   \n",
              "356                                   True      Female               1   \n",
              "209                                   True      Female               1   \n",
              "227                                   True      Female               1   \n",
              "330                                  False        Male               3   \n",
              "370                                  False        Male               3   \n",
              "145                                  False        Male               3   \n",
              "327                                  False        Male               3   \n",
              "85                                    True      Female               2   \n",
              "335                                   True      Female               2   \n",
              "295                                  False      Female               1   \n",
              "333                                  False      Female               1   \n",
              "186                                  False      Female               1   \n",
              "347                                  False      Female               1   \n",
              "\n",
              "     USER_INCOME      USER_ID Transaction_ID  \n",
              "188        10000  ID_40L9OTIM    ID_irnbaw9h  \n",
              "356        10000  ID_40L9OTIM    ID_yg77gagk  \n",
              "209        85000  ID_1I8XYBWK    ID_knsvgbug  \n",
              "227        85000  ID_1I8XYBWK    ID_ltunpaxl  \n",
              "330       200000  ID_ECX9BS4A    ID_w12ria65  \n",
              "370       200000  ID_ECX9BS4A    ID_zx5ajeqe  \n",
              "145       200000  ID_ECX9BS4A    ID_efpodiwb  \n",
              "327       200000  ID_ECX9BS4A    ID_vmy2bhah  \n",
              "85          8000  ID_L8QMYB09    ID_8xyhwvvf  \n",
              "335         8000  ID_L8QMYB09    ID_whbkraxr  \n",
              "295        85000  ID_1I8XYBWK    ID_slxs57u6  \n",
              "333        85000  ID_1I8XYBWK    ID_wdgm3rzo  \n",
              "186        85000  ID_1I8XYBWK    ID_iabzbcw4  \n",
              "347        85000  ID_1I8XYBWK    ID_xnrwzo61  "
            ],
            "text/html": [
              "\n",
              "  <div id=\"df-81c490f1-dae5-4f05-a4b7-cd0146fd5d41\">\n",
              "    <div class=\"colab-df-container\">\n",
              "      <div>\n",
              "<style scoped>\n",
              "    .dataframe tbody tr th:only-of-type {\n",
              "        vertical-align: middle;\n",
              "    }\n",
              "\n",
              "    .dataframe tbody tr th {\n",
              "        vertical-align: top;\n",
              "    }\n",
              "\n",
              "    .dataframe thead th {\n",
              "        text-align: right;\n",
              "    }\n",
              "</style>\n",
              "<table border=\"1\" class=\"dataframe\">\n",
              "  <thead>\n",
              "    <tr style=\"text-align: right;\">\n",
              "      <th></th>\n",
              "      <th>MERCHANT_CATEGORIZED_AT</th>\n",
              "      <th>MERCHANT_NAME</th>\n",
              "      <th>MERCHANT_CATEGORIZED_AS</th>\n",
              "      <th>PURCHASE_VALUE</th>\n",
              "      <th>PURCHASED_AT</th>\n",
              "      <th>IS_PURCHASE_PAID_VIA_MPESA_SEND_MONEY</th>\n",
              "      <th>USER_GENDER</th>\n",
              "      <th>USER_HOUSEHOLD</th>\n",
              "      <th>USER_INCOME</th>\n",
              "      <th>USER_ID</th>\n",
              "      <th>Transaction_ID</th>\n",
              "    </tr>\n",
              "  </thead>\n",
              "  <tbody>\n",
              "    <tr>\n",
              "      <th>188</th>\n",
              "      <td>2022-03-16 13:08:19.703288+00:00</td>\n",
              "      <td>JIMMIE WAIRIMU</td>\n",
              "      <td>Bills &amp; Fees</td>\n",
              "      <td>40000</td>\n",
              "      <td>2019-03-11 05:38:00+00:00</td>\n",
              "      <td>True</td>\n",
              "      <td>Female</td>\n",
              "      <td>1</td>\n",
              "      <td>10000</td>\n",
              "      <td>ID_40L9OTIM</td>\n",
              "      <td>ID_irnbaw9h</td>\n",
              "    </tr>\n",
              "    <tr>\n",
              "      <th>356</th>\n",
              "      <td>2022-03-16 13:05:51.851102+00:00</td>\n",
              "      <td>JIMMIE WAIRIMU</td>\n",
              "      <td>Bills &amp; Fees</td>\n",
              "      <td>40000</td>\n",
              "      <td>2019-03-11 05:38:00+00:00</td>\n",
              "      <td>True</td>\n",
              "      <td>Female</td>\n",
              "      <td>1</td>\n",
              "      <td>10000</td>\n",
              "      <td>ID_40L9OTIM</td>\n",
              "      <td>ID_yg77gagk</td>\n",
              "    </tr>\n",
              "    <tr>\n",
              "      <th>209</th>\n",
              "      <td>2022-03-16 13:08:19.703288+00:00</td>\n",
              "      <td>TELKOM KENYA LIMITED</td>\n",
              "      <td>Data &amp; WiFi</td>\n",
              "      <td>100</td>\n",
              "      <td>2019-06-20 08:41:00+00:00</td>\n",
              "      <td>True</td>\n",
              "      <td>Female</td>\n",
              "      <td>1</td>\n",
              "      <td>85000</td>\n",
              "      <td>ID_1I8XYBWK</td>\n",
              "      <td>ID_knsvgbug</td>\n",
              "    </tr>\n",
              "    <tr>\n",
              "      <th>227</th>\n",
              "      <td>2022-03-16 13:05:51.851102+00:00</td>\n",
              "      <td>TELKOM KENYA LIMITED</td>\n",
              "      <td>Data &amp; WiFi</td>\n",
              "      <td>100</td>\n",
              "      <td>2019-06-20 08:41:00+00:00</td>\n",
              "      <td>True</td>\n",
              "      <td>Female</td>\n",
              "      <td>1</td>\n",
              "      <td>85000</td>\n",
              "      <td>ID_1I8XYBWK</td>\n",
              "      <td>ID_ltunpaxl</td>\n",
              "    </tr>\n",
              "    <tr>\n",
              "      <th>330</th>\n",
              "      <td>2021-12-01 08:30:46.660752+00:00</td>\n",
              "      <td>SAFARICOM LIMITED</td>\n",
              "      <td>Data &amp; WiFi</td>\n",
              "      <td>500</td>\n",
              "      <td>2021-01-15 15:40:00+00:00</td>\n",
              "      <td>False</td>\n",
              "      <td>Male</td>\n",
              "      <td>3</td>\n",
              "      <td>200000</td>\n",
              "      <td>ID_ECX9BS4A</td>\n",
              "      <td>ID_w12ria65</td>\n",
              "    </tr>\n",
              "    <tr>\n",
              "      <th>370</th>\n",
              "      <td>2021-12-01 08:33:13.820670+00:00</td>\n",
              "      <td>SAFARICOM LIMITED</td>\n",
              "      <td>Data &amp; WiFi</td>\n",
              "      <td>500</td>\n",
              "      <td>2021-01-15 15:40:00+00:00</td>\n",
              "      <td>False</td>\n",
              "      <td>Male</td>\n",
              "      <td>3</td>\n",
              "      <td>200000</td>\n",
              "      <td>ID_ECX9BS4A</td>\n",
              "      <td>ID_zx5ajeqe</td>\n",
              "    </tr>\n",
              "    <tr>\n",
              "      <th>145</th>\n",
              "      <td>2021-08-06 11:28:16.860332+00:00</td>\n",
              "      <td>JAVA</td>\n",
              "      <td>Going out</td>\n",
              "      <td>880</td>\n",
              "      <td>2021-08-04 15:03:00+00:00</td>\n",
              "      <td>False</td>\n",
              "      <td>Male</td>\n",
              "      <td>3</td>\n",
              "      <td>200000</td>\n",
              "      <td>ID_ECX9BS4A</td>\n",
              "      <td>ID_efpodiwb</td>\n",
              "    </tr>\n",
              "    <tr>\n",
              "      <th>327</th>\n",
              "      <td>2021-12-01 08:33:13.820670+00:00</td>\n",
              "      <td>JAVA</td>\n",
              "      <td>Going out</td>\n",
              "      <td>880</td>\n",
              "      <td>2021-08-04 15:03:00+00:00</td>\n",
              "      <td>False</td>\n",
              "      <td>Male</td>\n",
              "      <td>3</td>\n",
              "      <td>200000</td>\n",
              "      <td>ID_ECX9BS4A</td>\n",
              "      <td>ID_vmy2bhah</td>\n",
              "    </tr>\n",
              "    <tr>\n",
              "      <th>85</th>\n",
              "      <td>2021-08-06 11:28:03.855344+00:00</td>\n",
              "      <td>MIKE  KOECH</td>\n",
              "      <td>Groceries</td>\n",
              "      <td>130</td>\n",
              "      <td>2021-08-24 14:53:00+00:00</td>\n",
              "      <td>True</td>\n",
              "      <td>Female</td>\n",
              "      <td>2</td>\n",
              "      <td>8000</td>\n",
              "      <td>ID_L8QMYB09</td>\n",
              "      <td>ID_8xyhwvvf</td>\n",
              "    </tr>\n",
              "    <tr>\n",
              "      <th>335</th>\n",
              "      <td>2021-11-03 14:49:24.056590+00:00</td>\n",
              "      <td>MIKE  KOECH</td>\n",
              "      <td>Groceries</td>\n",
              "      <td>130</td>\n",
              "      <td>2021-08-24 14:53:00+00:00</td>\n",
              "      <td>True</td>\n",
              "      <td>Female</td>\n",
              "      <td>2</td>\n",
              "      <td>8000</td>\n",
              "      <td>ID_L8QMYB09</td>\n",
              "      <td>ID_whbkraxr</td>\n",
              "    </tr>\n",
              "    <tr>\n",
              "      <th>295</th>\n",
              "      <td>2022-03-16 13:05:51.851102+00:00</td>\n",
              "      <td>JOHN NJIRU GAKUNJU</td>\n",
              "      <td>Miscellaneous</td>\n",
              "      <td>400</td>\n",
              "      <td>2021-10-11 17:12:00+00:00</td>\n",
              "      <td>False</td>\n",
              "      <td>Female</td>\n",
              "      <td>1</td>\n",
              "      <td>85000</td>\n",
              "      <td>ID_1I8XYBWK</td>\n",
              "      <td>ID_slxs57u6</td>\n",
              "    </tr>\n",
              "    <tr>\n",
              "      <th>333</th>\n",
              "      <td>2022-03-16 13:08:19.703288+00:00</td>\n",
              "      <td>JOHN NJIRU GAKUNJU</td>\n",
              "      <td>Miscellaneous</td>\n",
              "      <td>400</td>\n",
              "      <td>2021-10-11 17:12:00+00:00</td>\n",
              "      <td>False</td>\n",
              "      <td>Female</td>\n",
              "      <td>1</td>\n",
              "      <td>85000</td>\n",
              "      <td>ID_1I8XYBWK</td>\n",
              "      <td>ID_wdgm3rzo</td>\n",
              "    </tr>\n",
              "    <tr>\n",
              "      <th>186</th>\n",
              "      <td>2022-03-16 13:08:19.703288+00:00</td>\n",
              "      <td>TOTAL K STATE HOUSE 1</td>\n",
              "      <td>Transport &amp; Fuel</td>\n",
              "      <td>300</td>\n",
              "      <td>2021-11-18 11:02:00+00:00</td>\n",
              "      <td>False</td>\n",
              "      <td>Female</td>\n",
              "      <td>1</td>\n",
              "      <td>85000</td>\n",
              "      <td>ID_1I8XYBWK</td>\n",
              "      <td>ID_iabzbcw4</td>\n",
              "    </tr>\n",
              "    <tr>\n",
              "      <th>347</th>\n",
              "      <td>2022-03-16 13:05:51.851102+00:00</td>\n",
              "      <td>TOTAL K STATE HOUSE 1</td>\n",
              "      <td>Groceries</td>\n",
              "      <td>300</td>\n",
              "      <td>2021-11-18 11:02:00+00:00</td>\n",
              "      <td>False</td>\n",
              "      <td>Female</td>\n",
              "      <td>1</td>\n",
              "      <td>85000</td>\n",
              "      <td>ID_1I8XYBWK</td>\n",
              "      <td>ID_xnrwzo61</td>\n",
              "    </tr>\n",
              "  </tbody>\n",
              "</table>\n",
              "</div>\n",
              "      <button class=\"colab-df-convert\" onclick=\"convertToInteractive('df-81c490f1-dae5-4f05-a4b7-cd0146fd5d41')\"\n",
              "              title=\"Convert this dataframe to an interactive table.\"\n",
              "              style=\"display:none;\">\n",
              "        \n",
              "  <svg xmlns=\"http://www.w3.org/2000/svg\" height=\"24px\"viewBox=\"0 0 24 24\"\n",
              "       width=\"24px\">\n",
              "    <path d=\"M0 0h24v24H0V0z\" fill=\"none\"/>\n",
              "    <path d=\"M18.56 5.44l.94 2.06.94-2.06 2.06-.94-2.06-.94-.94-2.06-.94 2.06-2.06.94zm-11 1L8.5 8.5l.94-2.06 2.06-.94-2.06-.94L8.5 2.5l-.94 2.06-2.06.94zm10 10l.94 2.06.94-2.06 2.06-.94-2.06-.94-.94-2.06-.94 2.06-2.06.94z\"/><path d=\"M17.41 7.96l-1.37-1.37c-.4-.4-.92-.59-1.43-.59-.52 0-1.04.2-1.43.59L10.3 9.45l-7.72 7.72c-.78.78-.78 2.05 0 2.83L4 21.41c.39.39.9.59 1.41.59.51 0 1.02-.2 1.41-.59l7.78-7.78 2.81-2.81c.8-.78.8-2.07 0-2.86zM5.41 20L4 18.59l7.72-7.72 1.47 1.35L5.41 20z\"/>\n",
              "  </svg>\n",
              "      </button>\n",
              "      \n",
              "  <style>\n",
              "    .colab-df-container {\n",
              "      display:flex;\n",
              "      flex-wrap:wrap;\n",
              "      gap: 12px;\n",
              "    }\n",
              "\n",
              "    .colab-df-convert {\n",
              "      background-color: #E8F0FE;\n",
              "      border: none;\n",
              "      border-radius: 50%;\n",
              "      cursor: pointer;\n",
              "      display: none;\n",
              "      fill: #1967D2;\n",
              "      height: 32px;\n",
              "      padding: 0 0 0 0;\n",
              "      width: 32px;\n",
              "    }\n",
              "\n",
              "    .colab-df-convert:hover {\n",
              "      background-color: #E2EBFA;\n",
              "      box-shadow: 0px 1px 2px rgba(60, 64, 67, 0.3), 0px 1px 3px 1px rgba(60, 64, 67, 0.15);\n",
              "      fill: #174EA6;\n",
              "    }\n",
              "\n",
              "    [theme=dark] .colab-df-convert {\n",
              "      background-color: #3B4455;\n",
              "      fill: #D2E3FC;\n",
              "    }\n",
              "\n",
              "    [theme=dark] .colab-df-convert:hover {\n",
              "      background-color: #434B5C;\n",
              "      box-shadow: 0px 1px 3px 1px rgba(0, 0, 0, 0.15);\n",
              "      filter: drop-shadow(0px 1px 2px rgba(0, 0, 0, 0.3));\n",
              "      fill: #FFFFFF;\n",
              "    }\n",
              "  </style>\n",
              "\n",
              "      <script>\n",
              "        const buttonEl =\n",
              "          document.querySelector('#df-81c490f1-dae5-4f05-a4b7-cd0146fd5d41 button.colab-df-convert');\n",
              "        buttonEl.style.display =\n",
              "          google.colab.kernel.accessAllowed ? 'block' : 'none';\n",
              "\n",
              "        async function convertToInteractive(key) {\n",
              "          const element = document.querySelector('#df-81c490f1-dae5-4f05-a4b7-cd0146fd5d41');\n",
              "          const dataTable =\n",
              "            await google.colab.kernel.invokeFunction('convertToInteractive',\n",
              "                                                     [key], {});\n",
              "          if (!dataTable) return;\n",
              "\n",
              "          const docLinkHtml = 'Like what you see? Visit the ' +\n",
              "            '<a target=\"_blank\" href=https://colab.research.google.com/notebooks/data_table.ipynb>data table notebook</a>'\n",
              "            + ' to learn more about interactive tables.';\n",
              "          element.innerHTML = '';\n",
              "          dataTable['output_type'] = 'display_data';\n",
              "          await google.colab.output.renderOutput(dataTable, element);\n",
              "          const docLink = document.createElement('div');\n",
              "          docLink.innerHTML = docLinkHtml;\n",
              "          element.appendChild(docLink);\n",
              "        }\n",
              "      </script>\n",
              "    </div>\n",
              "  </div>\n",
              "  "
            ]
          },
          "metadata": {},
          "execution_count": 14
        }
      ]
    },
    {
      "cell_type": "markdown",
      "source": [
        "There are some duplicates in the training data. but at index 186 abd 347 there are two different classification for the same data so we need to drop either of them. since the time for the classification is ealier for index 347 let's drop the 186th row."
      ],
      "metadata": {
        "id": "0YU-F1AfcqPu"
      }
    },
    {
      "cell_type": "code",
      "source": [
        "Train = Train.drop(index=186).reset_index(drop=True)\n",
        "Train.shape"
      ],
      "metadata": {
        "id": "-EtCssX5dsRe",
        "outputId": "1af493ee-3f23-4abb-b801-d3c625f121b4",
        "colab": {
          "base_uri": "https://localhost:8080/"
        }
      },
      "execution_count": null,
      "outputs": [
        {
          "output_type": "execute_result",
          "data": {
            "text/plain": [
              "(372, 11)"
            ]
          },
          "metadata": {},
          "execution_count": 15
        }
      ]
    },
    {
      "cell_type": "markdown",
      "source": [
        "#### Lets combine all the Train and Test"
      ],
      "metadata": {
        "id": "5PpQaWBdiI06"
      }
    },
    {
      "cell_type": "code",
      "execution_count": null,
      "metadata": {
        "id": "UXWWI15thShU"
      },
      "outputs": [],
      "source": [
        "# the Transacation ID will be dropped since it has no value\n",
        "ID = Test['Transaction_ID']\n",
        "Train[\"train\"] = 1\n",
        "Test[\"train\"] = 0\n",
        "Extra = extra.drop(columns=['Transaction_ID', 'USER_AGE'])\n",
        "all_data = pd.concat([Train, Test])\n",
        "all_data.drop(['Transaction_ID'], axis=1, inplace=True)"
      ]
    },
    {
      "cell_type": "code",
      "source": [
        "Train.USER_HOUSEHOLD.describe()[['min', 'max']], Test.USER_HOUSEHOLD.describe()[['min', 'max']]"
      ],
      "metadata": {
        "id": "lxO0WdPijn4r",
        "outputId": "dfa12cfb-5d57-4b87-f6f7-2a6673c66333",
        "colab": {
          "base_uri": "https://localhost:8080/"
        }
      },
      "execution_count": null,
      "outputs": [
        {
          "output_type": "execute_result",
          "data": {
            "text/plain": [
              "(min    1.0\n",
              " max    7.0\n",
              " Name: USER_HOUSEHOLD, dtype: float64, min    1.0\n",
              " max    9.0\n",
              " Name: USER_HOUSEHOLD, dtype: float64)"
            ]
          },
          "metadata": {},
          "execution_count": 17
        }
      ]
    },
    {
      "cell_type": "markdown",
      "source": [
        "since some of users in the test set have more than the maximum train user household that is 7, we set the maximum user household value to 7"
      ],
      "metadata": {
        "id": "3819_pJckAvP"
      }
    },
    {
      "cell_type": "code",
      "execution_count": null,
      "metadata": {
        "id": "jwvxQA3TOgUJ"
      },
      "outputs": [],
      "source": [
        "# set max user household value to 7\n",
        "all_data['USER_HOUSEHOLD'] = all_data['USER_HOUSEHOLD'].apply(lambda x:[x, 7][x>7])"
      ]
    },
    {
      "cell_type": "markdown",
      "source": [
        "### Feature Engineering"
      ],
      "metadata": {
        "id": "uSR21HEdkck6"
      }
    },
    {
      "cell_type": "code",
      "execution_count": null,
      "metadata": {
        "id": "IasDAQA_OgUL"
      },
      "outputs": [],
      "source": [
        "# let's add price 5 price ranges to the purchase value and apply it to both train_test and extra data\n",
        "def price_range(x):\n",
        "    if x > 8e4:\n",
        "        return 4\n",
        "    elif x > 4e4:\n",
        "        return 3\n",
        "    elif x > 1e4:\n",
        "        return 2\n",
        "    elif x <= 100:\n",
        "        return 1\n",
        "    return 0\n",
        "\n",
        "all_data['price_range'] = all_data.PURCHASE_VALUE.apply(price_range)\n",
        "Extra['price_range'] = Extra.PURCHASE_VALUE.apply(price_range)\n"
      ]
    },
    {
      "cell_type": "code",
      "source": [
        "# let's add 4 income ranges to the user income and apply it to both train_test and extra data\n",
        "def income_range(x):\n",
        "    x /= 1e6\n",
        "    if x > .08:\n",
        "        return 3\n",
        "    elif x > .04:\n",
        "        return 2\n",
        "    elif x > .015:\n",
        "        return 1\n",
        "    return 0\n",
        "all_data['income_range'] = all_data.USER_INCOME.apply(income_range)\n",
        "Extra['income_range'] = Extra.USER_INCOME.apply(income_range)"
      ],
      "metadata": {
        "id": "UCN_zSWplHmM"
      },
      "execution_count": null,
      "outputs": []
    },
    {
      "cell_type": "markdown",
      "source": [
        "other features"
      ],
      "metadata": {
        "id": "iOCpQUMUmBPz"
      }
    },
    {
      "cell_type": "code",
      "execution_count": null,
      "metadata": {
        "id": "M-6YRKhZOgUM"
      },
      "outputs": [],
      "source": [
        "# purcahse value to income ratio\n",
        "all_data['prod_PURCHASE_INCOME'] = all_data['PURCHASE_VALUE'] / all_data['USER_INCOME'] \n",
        "# user income to user household ratio\n",
        "all_data['income_distribution'] = all_data['USER_INCOME'] / all_data['USER_HOUSEHOLD']\n",
        "\n",
        "# user types\n",
        "all_data['user_single'] = (all_data.USER_HOUSEHOLD == 1).astype(int) # single user\n",
        "all_data['user_couple'] = (all_data.USER_HOUSEHOLD == 2).astype(int) # couple user"
      ]
    },
    {
      "cell_type": "markdown",
      "source": [
        "count encoding for some features"
      ],
      "metadata": {
        "id": "6RSJqFB9mCuc"
      }
    },
    {
      "cell_type": "code",
      "execution_count": null,
      "metadata": {
        "colab": {
          "base_uri": "https://localhost:8080/",
          "height": 246
        },
        "id": "h-e_j7cQOgUN",
        "outputId": "c0212952-2d32-4fcb-deb8-32c559baa144"
      },
      "outputs": [
        {
          "output_type": "execute_result",
          "data": {
            "text/plain": [
              "           MERCHANT_CATEGORIZED_AT                      MERCHANT_NAME  \\\n",
              "0 2022-05-04 10:25:50.588042+00:00  UONSDA CHURCH  MOGERE MWAYO TITHE   \n",
              "1 2021-10-25 16:18:38.586837+00:00                          PARK N GO   \n",
              "\n",
              "  MERCHANT_CATEGORIZED_AS  PURCHASE_VALUE              PURCHASED_AT  \\\n",
              "0         Rent / Mortgage            1700 2022-05-04 13:56:00+00:00   \n",
              "1        Transport & Fuel             100 2021-10-24 14:12:00+00:00   \n",
              "\n",
              "   IS_PURCHASE_PAID_VIA_MPESA_SEND_MONEY USER_GENDER  USER_HOUSEHOLD  \\\n",
              "0                                  False        Male               3   \n",
              "1                                  False      Female               4   \n",
              "\n",
              "   USER_INCOME      USER_ID  train  price_range  income_range  \\\n",
              "0        10000  ID_ZX4DCF4K      1            0             0   \n",
              "1        90000  ID_U9WZMGJZ      1            1             3   \n",
              "\n",
              "   prod_PURCHASE_INCOME  income_distribution  user_single  user_couple  \\\n",
              "0              0.170000          3333.333333            0            0   \n",
              "1              0.001111         22500.000000            0            0   \n",
              "\n",
              "   count_PURCHASE_VALUE  count_USER_INCOME  count_USER_HOUSEHOLD  \\\n",
              "0                     4                188                   240   \n",
              "1                    78                 90                    91   \n",
              "\n",
              "   count_MERCHANT_NAME  \n",
              "0                    1  \n",
              "1                    2  "
            ],
            "text/html": [
              "\n",
              "  <div id=\"df-2bb418e5-42d2-471a-b6f4-5c720c0543a9\">\n",
              "    <div class=\"colab-df-container\">\n",
              "      <div>\n",
              "<style scoped>\n",
              "    .dataframe tbody tr th:only-of-type {\n",
              "        vertical-align: middle;\n",
              "    }\n",
              "\n",
              "    .dataframe tbody tr th {\n",
              "        vertical-align: top;\n",
              "    }\n",
              "\n",
              "    .dataframe thead th {\n",
              "        text-align: right;\n",
              "    }\n",
              "</style>\n",
              "<table border=\"1\" class=\"dataframe\">\n",
              "  <thead>\n",
              "    <tr style=\"text-align: right;\">\n",
              "      <th></th>\n",
              "      <th>MERCHANT_CATEGORIZED_AT</th>\n",
              "      <th>MERCHANT_NAME</th>\n",
              "      <th>MERCHANT_CATEGORIZED_AS</th>\n",
              "      <th>PURCHASE_VALUE</th>\n",
              "      <th>PURCHASED_AT</th>\n",
              "      <th>IS_PURCHASE_PAID_VIA_MPESA_SEND_MONEY</th>\n",
              "      <th>USER_GENDER</th>\n",
              "      <th>USER_HOUSEHOLD</th>\n",
              "      <th>USER_INCOME</th>\n",
              "      <th>USER_ID</th>\n",
              "      <th>train</th>\n",
              "      <th>price_range</th>\n",
              "      <th>income_range</th>\n",
              "      <th>prod_PURCHASE_INCOME</th>\n",
              "      <th>income_distribution</th>\n",
              "      <th>user_single</th>\n",
              "      <th>user_couple</th>\n",
              "      <th>count_PURCHASE_VALUE</th>\n",
              "      <th>count_USER_INCOME</th>\n",
              "      <th>count_USER_HOUSEHOLD</th>\n",
              "      <th>count_MERCHANT_NAME</th>\n",
              "    </tr>\n",
              "  </thead>\n",
              "  <tbody>\n",
              "    <tr>\n",
              "      <th>0</th>\n",
              "      <td>2022-05-04 10:25:50.588042+00:00</td>\n",
              "      <td>UONSDA CHURCH  MOGERE MWAYO TITHE</td>\n",
              "      <td>Rent / Mortgage</td>\n",
              "      <td>1700</td>\n",
              "      <td>2022-05-04 13:56:00+00:00</td>\n",
              "      <td>False</td>\n",
              "      <td>Male</td>\n",
              "      <td>3</td>\n",
              "      <td>10000</td>\n",
              "      <td>ID_ZX4DCF4K</td>\n",
              "      <td>1</td>\n",
              "      <td>0</td>\n",
              "      <td>0</td>\n",
              "      <td>0.170000</td>\n",
              "      <td>3333.333333</td>\n",
              "      <td>0</td>\n",
              "      <td>0</td>\n",
              "      <td>4</td>\n",
              "      <td>188</td>\n",
              "      <td>240</td>\n",
              "      <td>1</td>\n",
              "    </tr>\n",
              "    <tr>\n",
              "      <th>1</th>\n",
              "      <td>2021-10-25 16:18:38.586837+00:00</td>\n",
              "      <td>PARK N GO</td>\n",
              "      <td>Transport &amp; Fuel</td>\n",
              "      <td>100</td>\n",
              "      <td>2021-10-24 14:12:00+00:00</td>\n",
              "      <td>False</td>\n",
              "      <td>Female</td>\n",
              "      <td>4</td>\n",
              "      <td>90000</td>\n",
              "      <td>ID_U9WZMGJZ</td>\n",
              "      <td>1</td>\n",
              "      <td>1</td>\n",
              "      <td>3</td>\n",
              "      <td>0.001111</td>\n",
              "      <td>22500.000000</td>\n",
              "      <td>0</td>\n",
              "      <td>0</td>\n",
              "      <td>78</td>\n",
              "      <td>90</td>\n",
              "      <td>91</td>\n",
              "      <td>2</td>\n",
              "    </tr>\n",
              "  </tbody>\n",
              "</table>\n",
              "</div>\n",
              "      <button class=\"colab-df-convert\" onclick=\"convertToInteractive('df-2bb418e5-42d2-471a-b6f4-5c720c0543a9')\"\n",
              "              title=\"Convert this dataframe to an interactive table.\"\n",
              "              style=\"display:none;\">\n",
              "        \n",
              "  <svg xmlns=\"http://www.w3.org/2000/svg\" height=\"24px\"viewBox=\"0 0 24 24\"\n",
              "       width=\"24px\">\n",
              "    <path d=\"M0 0h24v24H0V0z\" fill=\"none\"/>\n",
              "    <path d=\"M18.56 5.44l.94 2.06.94-2.06 2.06-.94-2.06-.94-.94-2.06-.94 2.06-2.06.94zm-11 1L8.5 8.5l.94-2.06 2.06-.94-2.06-.94L8.5 2.5l-.94 2.06-2.06.94zm10 10l.94 2.06.94-2.06 2.06-.94-2.06-.94-.94-2.06-.94 2.06-2.06.94z\"/><path d=\"M17.41 7.96l-1.37-1.37c-.4-.4-.92-.59-1.43-.59-.52 0-1.04.2-1.43.59L10.3 9.45l-7.72 7.72c-.78.78-.78 2.05 0 2.83L4 21.41c.39.39.9.59 1.41.59.51 0 1.02-.2 1.41-.59l7.78-7.78 2.81-2.81c.8-.78.8-2.07 0-2.86zM5.41 20L4 18.59l7.72-7.72 1.47 1.35L5.41 20z\"/>\n",
              "  </svg>\n",
              "      </button>\n",
              "      \n",
              "  <style>\n",
              "    .colab-df-container {\n",
              "      display:flex;\n",
              "      flex-wrap:wrap;\n",
              "      gap: 12px;\n",
              "    }\n",
              "\n",
              "    .colab-df-convert {\n",
              "      background-color: #E8F0FE;\n",
              "      border: none;\n",
              "      border-radius: 50%;\n",
              "      cursor: pointer;\n",
              "      display: none;\n",
              "      fill: #1967D2;\n",
              "      height: 32px;\n",
              "      padding: 0 0 0 0;\n",
              "      width: 32px;\n",
              "    }\n",
              "\n",
              "    .colab-df-convert:hover {\n",
              "      background-color: #E2EBFA;\n",
              "      box-shadow: 0px 1px 2px rgba(60, 64, 67, 0.3), 0px 1px 3px 1px rgba(60, 64, 67, 0.15);\n",
              "      fill: #174EA6;\n",
              "    }\n",
              "\n",
              "    [theme=dark] .colab-df-convert {\n",
              "      background-color: #3B4455;\n",
              "      fill: #D2E3FC;\n",
              "    }\n",
              "\n",
              "    [theme=dark] .colab-df-convert:hover {\n",
              "      background-color: #434B5C;\n",
              "      box-shadow: 0px 1px 3px 1px rgba(0, 0, 0, 0.15);\n",
              "      filter: drop-shadow(0px 1px 2px rgba(0, 0, 0, 0.3));\n",
              "      fill: #FFFFFF;\n",
              "    }\n",
              "  </style>\n",
              "\n",
              "      <script>\n",
              "        const buttonEl =\n",
              "          document.querySelector('#df-2bb418e5-42d2-471a-b6f4-5c720c0543a9 button.colab-df-convert');\n",
              "        buttonEl.style.display =\n",
              "          google.colab.kernel.accessAllowed ? 'block' : 'none';\n",
              "\n",
              "        async function convertToInteractive(key) {\n",
              "          const element = document.querySelector('#df-2bb418e5-42d2-471a-b6f4-5c720c0543a9');\n",
              "          const dataTable =\n",
              "            await google.colab.kernel.invokeFunction('convertToInteractive',\n",
              "                                                     [key], {});\n",
              "          if (!dataTable) return;\n",
              "\n",
              "          const docLinkHtml = 'Like what you see? Visit the ' +\n",
              "            '<a target=\"_blank\" href=https://colab.research.google.com/notebooks/data_table.ipynb>data table notebook</a>'\n",
              "            + ' to learn more about interactive tables.';\n",
              "          element.innerHTML = '';\n",
              "          dataTable['output_type'] = 'display_data';\n",
              "          await google.colab.output.renderOutput(dataTable, element);\n",
              "          const docLink = document.createElement('div');\n",
              "          docLink.innerHTML = docLinkHtml;\n",
              "          element.appendChild(docLink);\n",
              "        }\n",
              "      </script>\n",
              "    </div>\n",
              "  </div>\n",
              "  "
            ]
          },
          "metadata": {},
          "execution_count": 22
        }
      ],
      "source": [
        "col = ['PURCHASE_VALUE','USER_INCOME','USER_HOUSEHOLD','MERCHANT_NAME']\n",
        "\n",
        "for i in col:\n",
        "    all_data['count_'+i] = all_data[i].map(all_data[i].value_counts())\n",
        "\n",
        "all_data.head(2)"
      ]
    },
    {
      "cell_type": "markdown",
      "source": [
        "#### Let's combine the all_data with extra for further feature engineering"
      ],
      "metadata": {
        "id": "SMaUEJYNmR9J"
      }
    },
    {
      "cell_type": "code",
      "execution_count": null,
      "metadata": {
        "colab": {
          "base_uri": "https://localhost:8080/"
        },
        "id": "RRCyOuqAOgUN",
        "outputId": "52c29c01-35db-4428-b05c-4fd2a490a825"
      },
      "outputs": [
        {
          "output_type": "execute_result",
          "data": {
            "text/plain": [
              "(10930, 22)"
            ]
          },
          "metadata": {},
          "execution_count": 23
        }
      ],
      "source": [
        "data = pd.concat([all_data.assign(ind=\"data\"), Extra.assign(ind=\"extra\")])\n",
        "data.shape"
      ]
    },
    {
      "cell_type": "markdown",
      "source": [
        "##### MERCHANT_CLUSTERING\n",
        "\n",
        "What we want to do is through domain knowledge cluster the merchant into various known categories eg education and health using known terminologies frequently associated with them. We clean data that does not represent well. For example, a merchant with the name school in it, you may well think 100% that falls in the education category but then has cafeteria in it. Most of the time the cafeteria bills are not paid in fees. You pay them personaly e.g campus cafeteria so that does not represent the education field well. Then group by that and find the price range(purchase value) min, max and mean associated with them. We do this in both extra and train to get a good representation of all the data and this proved very very very useful.All unknown and unambiguous merchants in train are filled with a new category. "
      ],
      "metadata": {
        "id": "Jx48mQqxmq59"
      }
    },
    {
      "cell_type": "markdown",
      "metadata": {
        "id": "v_mz6l_Kk3zA"
      },
      "source": [
        "###### DATA_WIFI\n",
        "* Its obvious each country have telcos that lead in data provision and through domain knowledge the below are the most common terms associated with data and wifi and remember we also have extra so i think we should concat them all so that we have a whole representations of all the available merchant names available for training"
      ]
    },
    {
      "cell_type": "code",
      "execution_count": null,
      "metadata": {
        "colab": {
          "base_uri": "https://localhost:8080/"
        },
        "id": "bOBIfOw2k3zC",
        "outputId": "9dd3ee5d-8251-439a-e3ee-8f707fcb4d48"
      },
      "outputs": [
        {
          "output_type": "stream",
          "name": "stdout",
          "text": [
            "26\n"
          ]
        },
        {
          "output_type": "execute_result",
          "data": {
            "text/plain": [
              "Data & WiFi         40\n",
              "Miscellaneous        3\n",
              "Bills & Fees         2\n",
              "Health               1\n",
              "Family & Friends     1\n",
              "Name: MERCHANT_CATEGORIZED_AS, dtype: int64"
            ]
          },
          "metadata": {},
          "execution_count": 24
        }
      ],
      "source": [
        "data_wifi = data.loc[data['MERCHANT_NAME'].str.contains(\n",
        "    \"wifi|data|safaricom|tunukiwa|zuku|faiba|airtel|telkom|airtime|bundle|poa\",\n",
        "     case=False)]\n",
        "print(data_wifi.MERCHANT_NAME.nunique())\n",
        "data_wifi.MERCHANT_CATEGORIZED_AS.value_counts()"
      ]
    },
    {
      "cell_type": "code",
      "execution_count": null,
      "metadata": {
        "colab": {
          "base_uri": "https://localhost:8080/"
        },
        "id": "xEGJww7uk3zC",
        "outputId": "b4148bf6-7618-42d9-8df4-0ee889f589d8"
      },
      "outputs": [
        {
          "output_type": "execute_result",
          "data": {
            "text/plain": [
              "array(['SAFARICOM OFFERS  TUNUKIWA', 'SAFARICOM LIMITED',\n",
              "       'SAFARICOM POST', 'SAFARICOM POST PAID', 'SAFARICOM HOME',\n",
              "       'MYAIRTIME LIMITED', 'SAFARICOM POSTPAID', 'TELKOM KENYA LIMITED',\n",
              "       'POA', 'ZUKU  FOR', 'SAFARICOM POSTPAID BUNDLES',\n",
              "       'SAFARICOM OFFERS', 'SAFARICOM LIMITED  ON', 'ZUKU',\n",
              "       'SAFARICOM OFFERS   TUNUKIWA ON', 'SAFARICOM OFFERS  TUNUKIWA ON',\n",
              "       'SAFARICOM SACCO DEPOSIT CONTRIBUTION',\n",
              "       'SAFARICOM POSTPAID BUNDLES  BUNDLES', 'SAFARICOM TEST',\n",
              "       'WIFI GURU LIMITED  B61', 'SAFARICOM RETAIL BURUBURU',\n",
              "       'HOSTPOA ONLINE SOLUTIONS', 'SAFARICOM RETAIL GALLERIA MALL',\n",
              "       'SAFARICOM WI-FI ZONE', 'SAFARICOM RETAIL MOI AVE',\n",
              "       'MAWINGU AIRTIME LIMITED'], dtype=object)"
            ]
          },
          "metadata": {},
          "execution_count": 25
        }
      ],
      "source": [
        "data_wifi.MERCHANT_NAME.unique()"
      ]
    },
    {
      "cell_type": "markdown",
      "metadata": {
        "id": "5jVKvS2Ok3zF"
      },
      "source": [
        "###### HEALTH\n",
        "* Kenya is an english and kiswahili speaking country so most of the common words used in health care are the ones show below "
      ]
    },
    {
      "cell_type": "code",
      "execution_count": null,
      "metadata": {
        "colab": {
          "base_uri": "https://localhost:8080/"
        },
        "id": "wPyjPsg7k3zF",
        "outputId": "b4f15b48-db27-404d-d3b2-f1856c60ce66"
      },
      "outputs": [
        {
          "output_type": "stream",
          "name": "stdout",
          "text": [
            "116\n"
          ]
        },
        {
          "output_type": "execute_result",
          "data": {
            "text/plain": [
              "Health              4\n",
              "Bills & Fees        2\n",
              "Family & Friends    1\n",
              "Name: MERCHANT_CATEGORIZED_AS, dtype: int64"
            ]
          },
          "metadata": {},
          "execution_count": 26
        }
      ],
      "source": [
        "health_related = data.loc[data['MERCHANT_NAME'].str.contains(\n",
        "    \"health|medic|hosp|chemist|pharma|clinic|dr |nhif|dawa|afya\",\n",
        "     case=False)]\n",
        "print(health_related.MERCHANT_NAME.nunique())\n",
        "health_related.MERCHANT_CATEGORIZED_AS.value_counts()"
      ]
    },
    {
      "cell_type": "code",
      "execution_count": null,
      "metadata": {
        "id": "zm_3yyVPk3zF"
      },
      "outputs": [],
      "source": [
        "# lets exclude alchemist - alchemist is a bar/chill place in kenya\n",
        "health_related = health_related[health_related[\"MERCHANT_NAME\"].str.contains(\"alchemist\", case=False) == False]"
      ]
    },
    {
      "cell_type": "markdown",
      "metadata": {
        "id": "Eym_AFayk3zI"
      },
      "source": [
        "###### FUEL and Transport Related\n",
        "* There are companies that specifically deal with fuel and the common names are shown below\n",
        "* plus add other terms associated with transport sector\n",
        "* but here most of the petrol stations are usually associated with places to eat e.g kfc, pizza in, chicken in, coffeeshops and shops so you might want to clean those "
      ]
    },
    {
      "cell_type": "code",
      "execution_count": null,
      "metadata": {
        "colab": {
          "base_uri": "https://localhost:8080/"
        },
        "id": "lel_BO2xk3zJ",
        "outputId": "4db56ae7-e2ed-44f6-f26f-8a2e8ff292d6"
      },
      "outputs": [
        {
          "output_type": "stream",
          "name": "stdout",
          "text": [
            "202\n"
          ]
        },
        {
          "output_type": "execute_result",
          "data": {
            "text/plain": [
              "Transport & Fuel    17\n",
              "Going out            3\n",
              "Miscellaneous        2\n",
              "Groceries            2\n",
              "Loan Repayment       1\n",
              "Bills & Fees         1\n",
              "Shopping             1\n",
              "Name: MERCHANT_CATEGORIZED_AS, dtype: int64"
            ]
          },
          "metadata": {},
          "execution_count": 28
        }
      ],
      "source": [
        "fuel_related = data.loc[data['MERCHANT_NAME'].str.contains(\n",
        "    \"rubis|total|ola |shell|gas|petro|oilibya|petrol|oil|car |park|jet|energy|auto|motor|engen|aviation|sgr\",\n",
        "     case=False)]\n",
        "print(fuel_related.MERCHANT_NAME.nunique())\n",
        "fuel_related.MERCHANT_CATEGORIZED_AS.value_counts()"
      ]
    },
    {
      "cell_type": "code",
      "execution_count": null,
      "metadata": {
        "colab": {
          "base_uri": "https://localhost:8080/",
          "height": 211
        },
        "id": "gyE1MTrck3zL",
        "outputId": "d6a756fd-8c2f-4229-8ec7-668b2719caea"
      },
      "outputs": [
        {
          "output_type": "execute_result",
          "data": {
            "text/plain": [
              "              MERCHANT_CATEGORIZED_AT           MERCHANT_NAME  \\\n",
              "59   2022-05-31 13:27:55.175840+00:00  TOTALENERGIES KITISURU   \n",
              "247  2022-05-31 13:21:55.629867+00:00            KAPS PARKING   \n",
              "\n",
              "    MERCHANT_CATEGORIZED_AS  PURCHASE_VALUE              PURCHASED_AT  \\\n",
              "59            Miscellaneous            1000 2022-05-30 11:29:00+00:00   \n",
              "247           Miscellaneous             100 2022-05-14 19:00:00+00:00   \n",
              "\n",
              "     IS_PURCHASE_PAID_VIA_MPESA_SEND_MONEY USER_GENDER  USER_HOUSEHOLD  \\\n",
              "59                                   False        Male               5   \n",
              "247                                  False      Female               1   \n",
              "\n",
              "     USER_INCOME      USER_ID  train  price_range  income_range  \\\n",
              "59        150000  ID_O8P8YS18    1.0            0             3   \n",
              "247        23000  ID_Y0386AT9    1.0            1             1   \n",
              "\n",
              "     prod_PURCHASE_INCOME  income_distribution  user_single  user_couple  \\\n",
              "59               0.006667              30000.0          0.0          0.0   \n",
              "247              0.004348              23000.0          1.0          0.0   \n",
              "\n",
              "     count_PURCHASE_VALUE  count_USER_INCOME  count_USER_HOUSEHOLD  \\\n",
              "59                   47.0               42.0                 189.0   \n",
              "247                  78.0               51.0                 308.0   \n",
              "\n",
              "     count_MERCHANT_NAME   ind  \n",
              "59                   3.0  data  \n",
              "247                 15.0  data  "
            ],
            "text/html": [
              "\n",
              "  <div id=\"df-3d4b28c2-5c9b-4075-b7e0-47e811b86b51\">\n",
              "    <div class=\"colab-df-container\">\n",
              "      <div>\n",
              "<style scoped>\n",
              "    .dataframe tbody tr th:only-of-type {\n",
              "        vertical-align: middle;\n",
              "    }\n",
              "\n",
              "    .dataframe tbody tr th {\n",
              "        vertical-align: top;\n",
              "    }\n",
              "\n",
              "    .dataframe thead th {\n",
              "        text-align: right;\n",
              "    }\n",
              "</style>\n",
              "<table border=\"1\" class=\"dataframe\">\n",
              "  <thead>\n",
              "    <tr style=\"text-align: right;\">\n",
              "      <th></th>\n",
              "      <th>MERCHANT_CATEGORIZED_AT</th>\n",
              "      <th>MERCHANT_NAME</th>\n",
              "      <th>MERCHANT_CATEGORIZED_AS</th>\n",
              "      <th>PURCHASE_VALUE</th>\n",
              "      <th>PURCHASED_AT</th>\n",
              "      <th>IS_PURCHASE_PAID_VIA_MPESA_SEND_MONEY</th>\n",
              "      <th>USER_GENDER</th>\n",
              "      <th>USER_HOUSEHOLD</th>\n",
              "      <th>USER_INCOME</th>\n",
              "      <th>USER_ID</th>\n",
              "      <th>train</th>\n",
              "      <th>price_range</th>\n",
              "      <th>income_range</th>\n",
              "      <th>prod_PURCHASE_INCOME</th>\n",
              "      <th>income_distribution</th>\n",
              "      <th>user_single</th>\n",
              "      <th>user_couple</th>\n",
              "      <th>count_PURCHASE_VALUE</th>\n",
              "      <th>count_USER_INCOME</th>\n",
              "      <th>count_USER_HOUSEHOLD</th>\n",
              "      <th>count_MERCHANT_NAME</th>\n",
              "      <th>ind</th>\n",
              "    </tr>\n",
              "  </thead>\n",
              "  <tbody>\n",
              "    <tr>\n",
              "      <th>59</th>\n",
              "      <td>2022-05-31 13:27:55.175840+00:00</td>\n",
              "      <td>TOTALENERGIES KITISURU</td>\n",
              "      <td>Miscellaneous</td>\n",
              "      <td>1000</td>\n",
              "      <td>2022-05-30 11:29:00+00:00</td>\n",
              "      <td>False</td>\n",
              "      <td>Male</td>\n",
              "      <td>5</td>\n",
              "      <td>150000</td>\n",
              "      <td>ID_O8P8YS18</td>\n",
              "      <td>1.0</td>\n",
              "      <td>0</td>\n",
              "      <td>3</td>\n",
              "      <td>0.006667</td>\n",
              "      <td>30000.0</td>\n",
              "      <td>0.0</td>\n",
              "      <td>0.0</td>\n",
              "      <td>47.0</td>\n",
              "      <td>42.0</td>\n",
              "      <td>189.0</td>\n",
              "      <td>3.0</td>\n",
              "      <td>data</td>\n",
              "    </tr>\n",
              "    <tr>\n",
              "      <th>247</th>\n",
              "      <td>2022-05-31 13:21:55.629867+00:00</td>\n",
              "      <td>KAPS PARKING</td>\n",
              "      <td>Miscellaneous</td>\n",
              "      <td>100</td>\n",
              "      <td>2022-05-14 19:00:00+00:00</td>\n",
              "      <td>False</td>\n",
              "      <td>Female</td>\n",
              "      <td>1</td>\n",
              "      <td>23000</td>\n",
              "      <td>ID_Y0386AT9</td>\n",
              "      <td>1.0</td>\n",
              "      <td>1</td>\n",
              "      <td>1</td>\n",
              "      <td>0.004348</td>\n",
              "      <td>23000.0</td>\n",
              "      <td>1.0</td>\n",
              "      <td>0.0</td>\n",
              "      <td>78.0</td>\n",
              "      <td>51.0</td>\n",
              "      <td>308.0</td>\n",
              "      <td>15.0</td>\n",
              "      <td>data</td>\n",
              "    </tr>\n",
              "  </tbody>\n",
              "</table>\n",
              "</div>\n",
              "      <button class=\"colab-df-convert\" onclick=\"convertToInteractive('df-3d4b28c2-5c9b-4075-b7e0-47e811b86b51')\"\n",
              "              title=\"Convert this dataframe to an interactive table.\"\n",
              "              style=\"display:none;\">\n",
              "        \n",
              "  <svg xmlns=\"http://www.w3.org/2000/svg\" height=\"24px\"viewBox=\"0 0 24 24\"\n",
              "       width=\"24px\">\n",
              "    <path d=\"M0 0h24v24H0V0z\" fill=\"none\"/>\n",
              "    <path d=\"M18.56 5.44l.94 2.06.94-2.06 2.06-.94-2.06-.94-.94-2.06-.94 2.06-2.06.94zm-11 1L8.5 8.5l.94-2.06 2.06-.94-2.06-.94L8.5 2.5l-.94 2.06-2.06.94zm10 10l.94 2.06.94-2.06 2.06-.94-2.06-.94-.94-2.06-.94 2.06-2.06.94z\"/><path d=\"M17.41 7.96l-1.37-1.37c-.4-.4-.92-.59-1.43-.59-.52 0-1.04.2-1.43.59L10.3 9.45l-7.72 7.72c-.78.78-.78 2.05 0 2.83L4 21.41c.39.39.9.59 1.41.59.51 0 1.02-.2 1.41-.59l7.78-7.78 2.81-2.81c.8-.78.8-2.07 0-2.86zM5.41 20L4 18.59l7.72-7.72 1.47 1.35L5.41 20z\"/>\n",
              "  </svg>\n",
              "      </button>\n",
              "      \n",
              "  <style>\n",
              "    .colab-df-container {\n",
              "      display:flex;\n",
              "      flex-wrap:wrap;\n",
              "      gap: 12px;\n",
              "    }\n",
              "\n",
              "    .colab-df-convert {\n",
              "      background-color: #E8F0FE;\n",
              "      border: none;\n",
              "      border-radius: 50%;\n",
              "      cursor: pointer;\n",
              "      display: none;\n",
              "      fill: #1967D2;\n",
              "      height: 32px;\n",
              "      padding: 0 0 0 0;\n",
              "      width: 32px;\n",
              "    }\n",
              "\n",
              "    .colab-df-convert:hover {\n",
              "      background-color: #E2EBFA;\n",
              "      box-shadow: 0px 1px 2px rgba(60, 64, 67, 0.3), 0px 1px 3px 1px rgba(60, 64, 67, 0.15);\n",
              "      fill: #174EA6;\n",
              "    }\n",
              "\n",
              "    [theme=dark] .colab-df-convert {\n",
              "      background-color: #3B4455;\n",
              "      fill: #D2E3FC;\n",
              "    }\n",
              "\n",
              "    [theme=dark] .colab-df-convert:hover {\n",
              "      background-color: #434B5C;\n",
              "      box-shadow: 0px 1px 3px 1px rgba(0, 0, 0, 0.15);\n",
              "      filter: drop-shadow(0px 1px 2px rgba(0, 0, 0, 0.3));\n",
              "      fill: #FFFFFF;\n",
              "    }\n",
              "  </style>\n",
              "\n",
              "      <script>\n",
              "        const buttonEl =\n",
              "          document.querySelector('#df-3d4b28c2-5c9b-4075-b7e0-47e811b86b51 button.colab-df-convert');\n",
              "        buttonEl.style.display =\n",
              "          google.colab.kernel.accessAllowed ? 'block' : 'none';\n",
              "\n",
              "        async function convertToInteractive(key) {\n",
              "          const element = document.querySelector('#df-3d4b28c2-5c9b-4075-b7e0-47e811b86b51');\n",
              "          const dataTable =\n",
              "            await google.colab.kernel.invokeFunction('convertToInteractive',\n",
              "                                                     [key], {});\n",
              "          if (!dataTable) return;\n",
              "\n",
              "          const docLinkHtml = 'Like what you see? Visit the ' +\n",
              "            '<a target=\"_blank\" href=https://colab.research.google.com/notebooks/data_table.ipynb>data table notebook</a>'\n",
              "            + ' to learn more about interactive tables.';\n",
              "          element.innerHTML = '';\n",
              "          dataTable['output_type'] = 'display_data';\n",
              "          await google.colab.output.renderOutput(dataTable, element);\n",
              "          const docLink = document.createElement('div');\n",
              "          docLink.innerHTML = docLinkHtml;\n",
              "          element.appendChild(docLink);\n",
              "        }\n",
              "      </script>\n",
              "    </div>\n",
              "  </div>\n",
              "  "
            ]
          },
          "metadata": {},
          "execution_count": 29
        }
      ],
      "source": [
        "fuel_related[fuel_related.MERCHANT_CATEGORIZED_AS == \"Miscellaneous\"]"
      ]
    },
    {
      "cell_type": "code",
      "execution_count": null,
      "metadata": {
        "colab": {
          "base_uri": "https://localhost:8080/"
        },
        "id": "qOJx_on1k3zL",
        "outputId": "f8d3124e-7454-4154-8ce6-fa7a6b2fde7b"
      },
      "outputs": [
        {
          "output_type": "stream",
          "name": "stdout",
          "text": [
            "(452, 22)\n"
          ]
        },
        {
          "output_type": "execute_result",
          "data": {
            "text/plain": [
              "Transport & Fuel    17\n",
              "Miscellaneous        2\n",
              "Bills & Fees         1\n",
              "Shopping             1\n",
              "Going out            1\n",
              "Groceries            1\n",
              "Name: MERCHANT_CATEGORIZED_AS, dtype: int64"
            ]
          },
          "metadata": {},
          "execution_count": 30
        }
      ],
      "source": [
        "# lets exclude some of the names\n",
        "fuel_related = fuel_related[fuel_related[\"MERCHANT_NAME\"].str.contains(\n",
        "    \"kfc|enjoy|caffe|java|pizza|chicken|brioche|shop|mart|club|mogo|planet|pharma|chemist|rivers|fruits|creamy|holdings|estim\",\n",
        "     case=False) == False]\n",
        "print(fuel_related.shape)\n",
        "fuel_related.MERCHANT_CATEGORIZED_AS.value_counts()"
      ]
    },
    {
      "cell_type": "markdown",
      "metadata": {
        "id": "pOpCd0Udk3zO"
      },
      "source": [
        "###### business related\n",
        "* Each country has big shoppping centres so its the same here big names include the names shown below\n",
        "* Also its easy to identify shops by using the name shops in the name because most small merchants use shops in their name\n",
        "* butcheries its also easier to identify them since most of them end with butchery\n",
        "* We also have markets where people go to buy groceries and more\n",
        "* Online shops such as Jumia and kilimall are also not left behind"
      ]
    },
    {
      "cell_type": "code",
      "execution_count": null,
      "metadata": {
        "colab": {
          "base_uri": "https://localhost:8080/"
        },
        "id": "05QhxwOck3zO",
        "outputId": "ac0e3bad-a8af-4abc-fb4a-70284d1cd2e0"
      },
      "outputs": [
        {
          "output_type": "stream",
          "name": "stdout",
          "text": [
            "316\n"
          ]
        },
        {
          "output_type": "execute_result",
          "data": {
            "text/plain": [
              "Groceries           18\n",
              "Shopping             8\n",
              "Going out            3\n",
              "Bills & Fees         2\n",
              "Family & Friends     1\n",
              "Transport & Fuel     1\n",
              "Miscellaneous        1\n",
              "Name: MERCHANT_CATEGORIZED_AS, dtype: int64"
            ]
          },
          "metadata": {},
          "execution_count": 31
        }
      ],
      "source": [
        "shopping_related = data.loc[data['MERCHANT_NAME'].str.contains(\n",
        "    \"naivas |tuskys|mart |market|mall|supermarket|naivas|uchumi|carrefour|clean shelf|bata|shop|butchery|hardware|jumia|kilimall|stores|quick\",\n",
        "     case=False)]\n",
        "print(shopping_related.MERCHANT_NAME.nunique())\n",
        "shopping_related.MERCHANT_CATEGORIZED_AS.value_counts()"
      ]
    },
    {
      "cell_type": "code",
      "execution_count": null,
      "metadata": {
        "colab": {
          "base_uri": "https://localhost:8080/",
          "height": 162
        },
        "id": "n_DU_gDrk3zP",
        "outputId": "b91dc829-1432-47a6-9d76-2f5888cee747"
      },
      "outputs": [
        {
          "output_type": "execute_result",
          "data": {
            "text/plain": [
              "              MERCHANT_CATEGORIZED_AT  MERCHANT_NAME MERCHANT_CATEGORIZED_AS  \\\n",
              "292  2022-06-01 10:25:16.713100+00:00  RIO GIFT SHOP           Miscellaneous   \n",
              "\n",
              "     PURCHASE_VALUE              PURCHASED_AT  \\\n",
              "292            2500 2022-06-06 10:45:00+00:00   \n",
              "\n",
              "     IS_PURCHASE_PAID_VIA_MPESA_SEND_MONEY USER_GENDER  USER_HOUSEHOLD  \\\n",
              "292                                  False      Female               1   \n",
              "\n",
              "     USER_INCOME      USER_ID  train  price_range  income_range  \\\n",
              "292        23000  ID_Y0386AT9    1.0            0             1   \n",
              "\n",
              "     prod_PURCHASE_INCOME  income_distribution  user_single  user_couple  \\\n",
              "292              0.108696              23000.0          1.0          0.0   \n",
              "\n",
              "     count_PURCHASE_VALUE  count_USER_INCOME  count_USER_HOUSEHOLD  \\\n",
              "292                   3.0               51.0                 308.0   \n",
              "\n",
              "     count_MERCHANT_NAME   ind  \n",
              "292                  2.0  data  "
            ],
            "text/html": [
              "\n",
              "  <div id=\"df-9ce57343-0ed6-4311-8006-14ad2ceac39a\">\n",
              "    <div class=\"colab-df-container\">\n",
              "      <div>\n",
              "<style scoped>\n",
              "    .dataframe tbody tr th:only-of-type {\n",
              "        vertical-align: middle;\n",
              "    }\n",
              "\n",
              "    .dataframe tbody tr th {\n",
              "        vertical-align: top;\n",
              "    }\n",
              "\n",
              "    .dataframe thead th {\n",
              "        text-align: right;\n",
              "    }\n",
              "</style>\n",
              "<table border=\"1\" class=\"dataframe\">\n",
              "  <thead>\n",
              "    <tr style=\"text-align: right;\">\n",
              "      <th></th>\n",
              "      <th>MERCHANT_CATEGORIZED_AT</th>\n",
              "      <th>MERCHANT_NAME</th>\n",
              "      <th>MERCHANT_CATEGORIZED_AS</th>\n",
              "      <th>PURCHASE_VALUE</th>\n",
              "      <th>PURCHASED_AT</th>\n",
              "      <th>IS_PURCHASE_PAID_VIA_MPESA_SEND_MONEY</th>\n",
              "      <th>USER_GENDER</th>\n",
              "      <th>USER_HOUSEHOLD</th>\n",
              "      <th>USER_INCOME</th>\n",
              "      <th>USER_ID</th>\n",
              "      <th>train</th>\n",
              "      <th>price_range</th>\n",
              "      <th>income_range</th>\n",
              "      <th>prod_PURCHASE_INCOME</th>\n",
              "      <th>income_distribution</th>\n",
              "      <th>user_single</th>\n",
              "      <th>user_couple</th>\n",
              "      <th>count_PURCHASE_VALUE</th>\n",
              "      <th>count_USER_INCOME</th>\n",
              "      <th>count_USER_HOUSEHOLD</th>\n",
              "      <th>count_MERCHANT_NAME</th>\n",
              "      <th>ind</th>\n",
              "    </tr>\n",
              "  </thead>\n",
              "  <tbody>\n",
              "    <tr>\n",
              "      <th>292</th>\n",
              "      <td>2022-06-01 10:25:16.713100+00:00</td>\n",
              "      <td>RIO GIFT SHOP</td>\n",
              "      <td>Miscellaneous</td>\n",
              "      <td>2500</td>\n",
              "      <td>2022-06-06 10:45:00+00:00</td>\n",
              "      <td>False</td>\n",
              "      <td>Female</td>\n",
              "      <td>1</td>\n",
              "      <td>23000</td>\n",
              "      <td>ID_Y0386AT9</td>\n",
              "      <td>1.0</td>\n",
              "      <td>0</td>\n",
              "      <td>1</td>\n",
              "      <td>0.108696</td>\n",
              "      <td>23000.0</td>\n",
              "      <td>1.0</td>\n",
              "      <td>0.0</td>\n",
              "      <td>3.0</td>\n",
              "      <td>51.0</td>\n",
              "      <td>308.0</td>\n",
              "      <td>2.0</td>\n",
              "      <td>data</td>\n",
              "    </tr>\n",
              "  </tbody>\n",
              "</table>\n",
              "</div>\n",
              "      <button class=\"colab-df-convert\" onclick=\"convertToInteractive('df-9ce57343-0ed6-4311-8006-14ad2ceac39a')\"\n",
              "              title=\"Convert this dataframe to an interactive table.\"\n",
              "              style=\"display:none;\">\n",
              "        \n",
              "  <svg xmlns=\"http://www.w3.org/2000/svg\" height=\"24px\"viewBox=\"0 0 24 24\"\n",
              "       width=\"24px\">\n",
              "    <path d=\"M0 0h24v24H0V0z\" fill=\"none\"/>\n",
              "    <path d=\"M18.56 5.44l.94 2.06.94-2.06 2.06-.94-2.06-.94-.94-2.06-.94 2.06-2.06.94zm-11 1L8.5 8.5l.94-2.06 2.06-.94-2.06-.94L8.5 2.5l-.94 2.06-2.06.94zm10 10l.94 2.06.94-2.06 2.06-.94-2.06-.94-.94-2.06-.94 2.06-2.06.94z\"/><path d=\"M17.41 7.96l-1.37-1.37c-.4-.4-.92-.59-1.43-.59-.52 0-1.04.2-1.43.59L10.3 9.45l-7.72 7.72c-.78.78-.78 2.05 0 2.83L4 21.41c.39.39.9.59 1.41.59.51 0 1.02-.2 1.41-.59l7.78-7.78 2.81-2.81c.8-.78.8-2.07 0-2.86zM5.41 20L4 18.59l7.72-7.72 1.47 1.35L5.41 20z\"/>\n",
              "  </svg>\n",
              "      </button>\n",
              "      \n",
              "  <style>\n",
              "    .colab-df-container {\n",
              "      display:flex;\n",
              "      flex-wrap:wrap;\n",
              "      gap: 12px;\n",
              "    }\n",
              "\n",
              "    .colab-df-convert {\n",
              "      background-color: #E8F0FE;\n",
              "      border: none;\n",
              "      border-radius: 50%;\n",
              "      cursor: pointer;\n",
              "      display: none;\n",
              "      fill: #1967D2;\n",
              "      height: 32px;\n",
              "      padding: 0 0 0 0;\n",
              "      width: 32px;\n",
              "    }\n",
              "\n",
              "    .colab-df-convert:hover {\n",
              "      background-color: #E2EBFA;\n",
              "      box-shadow: 0px 1px 2px rgba(60, 64, 67, 0.3), 0px 1px 3px 1px rgba(60, 64, 67, 0.15);\n",
              "      fill: #174EA6;\n",
              "    }\n",
              "\n",
              "    [theme=dark] .colab-df-convert {\n",
              "      background-color: #3B4455;\n",
              "      fill: #D2E3FC;\n",
              "    }\n",
              "\n",
              "    [theme=dark] .colab-df-convert:hover {\n",
              "      background-color: #434B5C;\n",
              "      box-shadow: 0px 1px 3px 1px rgba(0, 0, 0, 0.15);\n",
              "      filter: drop-shadow(0px 1px 2px rgba(0, 0, 0, 0.3));\n",
              "      fill: #FFFFFF;\n",
              "    }\n",
              "  </style>\n",
              "\n",
              "      <script>\n",
              "        const buttonEl =\n",
              "          document.querySelector('#df-9ce57343-0ed6-4311-8006-14ad2ceac39a button.colab-df-convert');\n",
              "        buttonEl.style.display =\n",
              "          google.colab.kernel.accessAllowed ? 'block' : 'none';\n",
              "\n",
              "        async function convertToInteractive(key) {\n",
              "          const element = document.querySelector('#df-9ce57343-0ed6-4311-8006-14ad2ceac39a');\n",
              "          const dataTable =\n",
              "            await google.colab.kernel.invokeFunction('convertToInteractive',\n",
              "                                                     [key], {});\n",
              "          if (!dataTable) return;\n",
              "\n",
              "          const docLinkHtml = 'Like what you see? Visit the ' +\n",
              "            '<a target=\"_blank\" href=https://colab.research.google.com/notebooks/data_table.ipynb>data table notebook</a>'\n",
              "            + ' to learn more about interactive tables.';\n",
              "          element.innerHTML = '';\n",
              "          dataTable['output_type'] = 'display_data';\n",
              "          await google.colab.output.renderOutput(dataTable, element);\n",
              "          const docLink = document.createElement('div');\n",
              "          docLink.innerHTML = docLinkHtml;\n",
              "          element.appendChild(docLink);\n",
              "        }\n",
              "      </script>\n",
              "    </div>\n",
              "  </div>\n",
              "  "
            ]
          },
          "metadata": {},
          "execution_count": 32
        }
      ],
      "source": [
        "shopping_related[shopping_related.MERCHANT_CATEGORIZED_AS == \"Miscellaneous\"]"
      ]
    },
    {
      "cell_type": "markdown",
      "metadata": {
        "id": "sOyDPL1Lk3zR"
      },
      "source": [
        "###### Restaurants, Hotels, Bars and Lounges \n",
        "* Includes every place where people go to eat\n",
        "* We start from normal hotels, restaurants, lounges to high end ones as shown below"
      ]
    },
    {
      "cell_type": "code",
      "execution_count": null,
      "metadata": {
        "colab": {
          "base_uri": "https://localhost:8080/"
        },
        "id": "YKzv1hb9k3zR",
        "outputId": "ee0172c4-aeb5-47a6-ad64-67d87ddf74ca"
      },
      "outputs": [
        {
          "output_type": "stream",
          "name": "stdout",
          "text": [
            "363\n"
          ]
        },
        {
          "output_type": "execute_result",
          "data": {
            "text/plain": [
              "Going out    18\n",
              "Groceries     3\n",
              "Shopping      1\n",
              "Name: MERCHANT_CATEGORIZED_AS, dtype: int64"
            ]
          },
          "metadata": {},
          "execution_count": 33
        }
      ],
      "source": [
        "hotel_related = data.loc[data['MERCHANT_NAME'].str.contains(\n",
        "    \"hotel|restaurant|dishes|grill|lunch|bar|pub|bar |lounge|java|caffe|kfc|pizza|chicken|fish|\\\n",
        "    lounge|latte|club|inn|resort|brioche|alchemist|planet|creamy|gardens|recreation\",\n",
        "     case=False)]\n",
        "print(hotel_related.MERCHANT_NAME.nunique())\n",
        "hotel_related.MERCHANT_CATEGORIZED_AS.value_counts()"
      ]
    },
    {
      "cell_type": "code",
      "execution_count": null,
      "metadata": {
        "colab": {
          "base_uri": "https://localhost:8080/",
          "height": 260
        },
        "id": "QItmBNNek3zS",
        "outputId": "5685abb7-6ccb-44f8-d2eb-c0ae69ba75c2"
      },
      "outputs": [
        {
          "output_type": "execute_result",
          "data": {
            "text/plain": [
              "              MERCHANT_CATEGORIZED_AT         MERCHANT_NAME  \\\n",
              "83   2022-03-16 13:08:19.703288+00:00  MBAIRES RESTAURANT 6   \n",
              "118  2022-03-16 13:08:19.703288+00:00     THE SPOT POOL BAR   \n",
              "213  2022-03-16 13:07:12.505595+00:00              FISH BAY   \n",
              "\n",
              "    MERCHANT_CATEGORIZED_AS  PURCHASE_VALUE              PURCHASED_AT  \\\n",
              "83                Groceries            1520 2021-06-20 11:36:00+00:00   \n",
              "118               Groceries             300 2022-02-04 06:33:00+00:00   \n",
              "213               Groceries             430 2022-03-30 11:04:00+00:00   \n",
              "\n",
              "     IS_PURCHASE_PAID_VIA_MPESA_SEND_MONEY USER_GENDER  USER_HOUSEHOLD  \\\n",
              "83                                   False        Male               5   \n",
              "118                                  False        Male               1   \n",
              "213                                  False        Male               1   \n",
              "\n",
              "     USER_INCOME      USER_ID  train  price_range  income_range  \\\n",
              "83        750000  ID_D8FOVVBB    1.0            0             3   \n",
              "118       200000  ID_5Y35KI6Q    1.0            0             3   \n",
              "213       200000  ID_5Y35KI6Q    1.0            0             3   \n",
              "\n",
              "     prod_PURCHASE_INCOME  income_distribution  user_single  user_couple  \\\n",
              "83               0.002027             150000.0          0.0          0.0   \n",
              "118              0.001500             200000.0          1.0          0.0   \n",
              "213              0.002150             200000.0          1.0          0.0   \n",
              "\n",
              "     count_PURCHASE_VALUE  count_USER_INCOME  count_USER_HOUSEHOLD  \\\n",
              "83                    1.0               35.0                 189.0   \n",
              "118                  46.0              112.0                 308.0   \n",
              "213                   3.0              112.0                 308.0   \n",
              "\n",
              "     count_MERCHANT_NAME   ind  \n",
              "83                   1.0  data  \n",
              "118                  1.0  data  \n",
              "213                  2.0  data  "
            ],
            "text/html": [
              "\n",
              "  <div id=\"df-3e23652d-3bfb-4e7a-b233-7078723a2fd6\">\n",
              "    <div class=\"colab-df-container\">\n",
              "      <div>\n",
              "<style scoped>\n",
              "    .dataframe tbody tr th:only-of-type {\n",
              "        vertical-align: middle;\n",
              "    }\n",
              "\n",
              "    .dataframe tbody tr th {\n",
              "        vertical-align: top;\n",
              "    }\n",
              "\n",
              "    .dataframe thead th {\n",
              "        text-align: right;\n",
              "    }\n",
              "</style>\n",
              "<table border=\"1\" class=\"dataframe\">\n",
              "  <thead>\n",
              "    <tr style=\"text-align: right;\">\n",
              "      <th></th>\n",
              "      <th>MERCHANT_CATEGORIZED_AT</th>\n",
              "      <th>MERCHANT_NAME</th>\n",
              "      <th>MERCHANT_CATEGORIZED_AS</th>\n",
              "      <th>PURCHASE_VALUE</th>\n",
              "      <th>PURCHASED_AT</th>\n",
              "      <th>IS_PURCHASE_PAID_VIA_MPESA_SEND_MONEY</th>\n",
              "      <th>USER_GENDER</th>\n",
              "      <th>USER_HOUSEHOLD</th>\n",
              "      <th>USER_INCOME</th>\n",
              "      <th>USER_ID</th>\n",
              "      <th>train</th>\n",
              "      <th>price_range</th>\n",
              "      <th>income_range</th>\n",
              "      <th>prod_PURCHASE_INCOME</th>\n",
              "      <th>income_distribution</th>\n",
              "      <th>user_single</th>\n",
              "      <th>user_couple</th>\n",
              "      <th>count_PURCHASE_VALUE</th>\n",
              "      <th>count_USER_INCOME</th>\n",
              "      <th>count_USER_HOUSEHOLD</th>\n",
              "      <th>count_MERCHANT_NAME</th>\n",
              "      <th>ind</th>\n",
              "    </tr>\n",
              "  </thead>\n",
              "  <tbody>\n",
              "    <tr>\n",
              "      <th>83</th>\n",
              "      <td>2022-03-16 13:08:19.703288+00:00</td>\n",
              "      <td>MBAIRES RESTAURANT 6</td>\n",
              "      <td>Groceries</td>\n",
              "      <td>1520</td>\n",
              "      <td>2021-06-20 11:36:00+00:00</td>\n",
              "      <td>False</td>\n",
              "      <td>Male</td>\n",
              "      <td>5</td>\n",
              "      <td>750000</td>\n",
              "      <td>ID_D8FOVVBB</td>\n",
              "      <td>1.0</td>\n",
              "      <td>0</td>\n",
              "      <td>3</td>\n",
              "      <td>0.002027</td>\n",
              "      <td>150000.0</td>\n",
              "      <td>0.0</td>\n",
              "      <td>0.0</td>\n",
              "      <td>1.0</td>\n",
              "      <td>35.0</td>\n",
              "      <td>189.0</td>\n",
              "      <td>1.0</td>\n",
              "      <td>data</td>\n",
              "    </tr>\n",
              "    <tr>\n",
              "      <th>118</th>\n",
              "      <td>2022-03-16 13:08:19.703288+00:00</td>\n",
              "      <td>THE SPOT POOL BAR</td>\n",
              "      <td>Groceries</td>\n",
              "      <td>300</td>\n",
              "      <td>2022-02-04 06:33:00+00:00</td>\n",
              "      <td>False</td>\n",
              "      <td>Male</td>\n",
              "      <td>1</td>\n",
              "      <td>200000</td>\n",
              "      <td>ID_5Y35KI6Q</td>\n",
              "      <td>1.0</td>\n",
              "      <td>0</td>\n",
              "      <td>3</td>\n",
              "      <td>0.001500</td>\n",
              "      <td>200000.0</td>\n",
              "      <td>1.0</td>\n",
              "      <td>0.0</td>\n",
              "      <td>46.0</td>\n",
              "      <td>112.0</td>\n",
              "      <td>308.0</td>\n",
              "      <td>1.0</td>\n",
              "      <td>data</td>\n",
              "    </tr>\n",
              "    <tr>\n",
              "      <th>213</th>\n",
              "      <td>2022-03-16 13:07:12.505595+00:00</td>\n",
              "      <td>FISH BAY</td>\n",
              "      <td>Groceries</td>\n",
              "      <td>430</td>\n",
              "      <td>2022-03-30 11:04:00+00:00</td>\n",
              "      <td>False</td>\n",
              "      <td>Male</td>\n",
              "      <td>1</td>\n",
              "      <td>200000</td>\n",
              "      <td>ID_5Y35KI6Q</td>\n",
              "      <td>1.0</td>\n",
              "      <td>0</td>\n",
              "      <td>3</td>\n",
              "      <td>0.002150</td>\n",
              "      <td>200000.0</td>\n",
              "      <td>1.0</td>\n",
              "      <td>0.0</td>\n",
              "      <td>3.0</td>\n",
              "      <td>112.0</td>\n",
              "      <td>308.0</td>\n",
              "      <td>2.0</td>\n",
              "      <td>data</td>\n",
              "    </tr>\n",
              "  </tbody>\n",
              "</table>\n",
              "</div>\n",
              "      <button class=\"colab-df-convert\" onclick=\"convertToInteractive('df-3e23652d-3bfb-4e7a-b233-7078723a2fd6')\"\n",
              "              title=\"Convert this dataframe to an interactive table.\"\n",
              "              style=\"display:none;\">\n",
              "        \n",
              "  <svg xmlns=\"http://www.w3.org/2000/svg\" height=\"24px\"viewBox=\"0 0 24 24\"\n",
              "       width=\"24px\">\n",
              "    <path d=\"M0 0h24v24H0V0z\" fill=\"none\"/>\n",
              "    <path d=\"M18.56 5.44l.94 2.06.94-2.06 2.06-.94-2.06-.94-.94-2.06-.94 2.06-2.06.94zm-11 1L8.5 8.5l.94-2.06 2.06-.94-2.06-.94L8.5 2.5l-.94 2.06-2.06.94zm10 10l.94 2.06.94-2.06 2.06-.94-2.06-.94-.94-2.06-.94 2.06-2.06.94z\"/><path d=\"M17.41 7.96l-1.37-1.37c-.4-.4-.92-.59-1.43-.59-.52 0-1.04.2-1.43.59L10.3 9.45l-7.72 7.72c-.78.78-.78 2.05 0 2.83L4 21.41c.39.39.9.59 1.41.59.51 0 1.02-.2 1.41-.59l7.78-7.78 2.81-2.81c.8-.78.8-2.07 0-2.86zM5.41 20L4 18.59l7.72-7.72 1.47 1.35L5.41 20z\"/>\n",
              "  </svg>\n",
              "      </button>\n",
              "      \n",
              "  <style>\n",
              "    .colab-df-container {\n",
              "      display:flex;\n",
              "      flex-wrap:wrap;\n",
              "      gap: 12px;\n",
              "    }\n",
              "\n",
              "    .colab-df-convert {\n",
              "      background-color: #E8F0FE;\n",
              "      border: none;\n",
              "      border-radius: 50%;\n",
              "      cursor: pointer;\n",
              "      display: none;\n",
              "      fill: #1967D2;\n",
              "      height: 32px;\n",
              "      padding: 0 0 0 0;\n",
              "      width: 32px;\n",
              "    }\n",
              "\n",
              "    .colab-df-convert:hover {\n",
              "      background-color: #E2EBFA;\n",
              "      box-shadow: 0px 1px 2px rgba(60, 64, 67, 0.3), 0px 1px 3px 1px rgba(60, 64, 67, 0.15);\n",
              "      fill: #174EA6;\n",
              "    }\n",
              "\n",
              "    [theme=dark] .colab-df-convert {\n",
              "      background-color: #3B4455;\n",
              "      fill: #D2E3FC;\n",
              "    }\n",
              "\n",
              "    [theme=dark] .colab-df-convert:hover {\n",
              "      background-color: #434B5C;\n",
              "      box-shadow: 0px 1px 3px 1px rgba(0, 0, 0, 0.15);\n",
              "      filter: drop-shadow(0px 1px 2px rgba(0, 0, 0, 0.3));\n",
              "      fill: #FFFFFF;\n",
              "    }\n",
              "  </style>\n",
              "\n",
              "      <script>\n",
              "        const buttonEl =\n",
              "          document.querySelector('#df-3e23652d-3bfb-4e7a-b233-7078723a2fd6 button.colab-df-convert');\n",
              "        buttonEl.style.display =\n",
              "          google.colab.kernel.accessAllowed ? 'block' : 'none';\n",
              "\n",
              "        async function convertToInteractive(key) {\n",
              "          const element = document.querySelector('#df-3e23652d-3bfb-4e7a-b233-7078723a2fd6');\n",
              "          const dataTable =\n",
              "            await google.colab.kernel.invokeFunction('convertToInteractive',\n",
              "                                                     [key], {});\n",
              "          if (!dataTable) return;\n",
              "\n",
              "          const docLinkHtml = 'Like what you see? Visit the ' +\n",
              "            '<a target=\"_blank\" href=https://colab.research.google.com/notebooks/data_table.ipynb>data table notebook</a>'\n",
              "            + ' to learn more about interactive tables.';\n",
              "          element.innerHTML = '';\n",
              "          dataTable['output_type'] = 'display_data';\n",
              "          await google.colab.output.renderOutput(dataTable, element);\n",
              "          const docLink = document.createElement('div');\n",
              "          docLink.innerHTML = docLinkHtml;\n",
              "          element.appendChild(docLink);\n",
              "        }\n",
              "      </script>\n",
              "    </div>\n",
              "  </div>\n",
              "  "
            ]
          },
          "metadata": {},
          "execution_count": 34
        }
      ],
      "source": [
        "hotel_related[hotel_related.MERCHANT_CATEGORIZED_AS == \"Groceries\"]"
      ]
    },
    {
      "cell_type": "markdown",
      "metadata": {
        "id": "1k7A9WLIk3zT"
      },
      "source": [
        "###### SCHOOL RELATED \n",
        "* Globally and locally there are specific names associated with schools and fees as shown below \n",
        "* Some parts of the schools like cafeteria may not well depict the financial aspect on schools like fees so drop them\n"
      ]
    },
    {
      "cell_type": "code",
      "execution_count": null,
      "metadata": {
        "colab": {
          "base_uri": "https://localhost:8080/"
        },
        "id": "mhJyujGPk3zU",
        "outputId": "afbf274b-9aa7-4509-b4bb-884cc674c764"
      },
      "outputs": [
        {
          "output_type": "stream",
          "name": "stdout",
          "text": [
            "14\n"
          ]
        },
        {
          "output_type": "execute_result",
          "data": {
            "text/plain": [
              "Education    2\n",
              "Name: MERCHANT_CATEGORIZED_AS, dtype: int64"
            ]
          },
          "metadata": {},
          "execution_count": 35
        }
      ],
      "source": [
        "school_related = data.loc[data['MERCHANT_NAME'].str.contains(\n",
        "    \"school|university|campus|college|fees|karo |polytechnic|cbf|kindergarten\",\n",
        "     case=False)]\n",
        "\n",
        "print(school_related.MERCHANT_NAME.nunique())\n",
        "school_related.MERCHANT_CATEGORIZED_AS.value_counts()"
      ]
    },
    {
      "cell_type": "code",
      "execution_count": null,
      "metadata": {
        "colab": {
          "base_uri": "https://localhost:8080/"
        },
        "id": "Gd8PQsH8k3zV",
        "outputId": "c769bf37-3142-4326-b376-347a774eec58"
      },
      "outputs": [
        {
          "output_type": "execute_result",
          "data": {
            "text/plain": [
              "array(['LIPA KARO KCB ACCOUNT', 'CITAM BUSINESS FORUM   CBF ON',\n",
              "       'TRINITY INRENATIONAL KINDERGARTEN LTD VIA SCB  TEMI MBARI',\n",
              "       'STRATHMORE BUSINESS SCHOOL', 'SCHOOL PHOTOS-KILELESHWA',\n",
              "       'AGA KHAN UNIVERSITY HOSPITAL NBI INPATIENT BILLS  CASUALTYPZP',\n",
              "       'AGA KHAN UNIVERSITY HOSPITAL NBI PEDIATRIC CASUALTY',\n",
              "       'HEART TO HEART FOUNDATION  MIKISA SCHOOL',\n",
              "       'UNIVERSITY OF NAIROBI-EXAMINATION',\n",
              "       'KENYA SCHOOL OF LAW-STUDENT CAFETERIA',\n",
              "       'UNIVERSITY OF NAIROBI - CHSS VIA ABSA',\n",
              "       'AGA KHAN UNIVERSITY HOSPITAL - RUAKA MEDICAL CENTRE',\n",
              "       'MORINGA SCHOOL LIMITED', 'MIATHENE BOYS SECONDARY SCHOOL VIA NBK'],\n",
              "      dtype=object)"
            ]
          },
          "metadata": {},
          "execution_count": 36
        }
      ],
      "source": [
        "school_related.MERCHANT_NAME.unique()"
      ]
    },
    {
      "cell_type": "code",
      "execution_count": null,
      "metadata": {
        "id": "AGHRVTVuk3zV"
      },
      "outputs": [],
      "source": [
        "school_related = school_related[school_related[\"MERCHANT_NAME\"].str.contains(\"cafeteria|hospital\", case=False) == False]"
      ]
    },
    {
      "cell_type": "code",
      "execution_count": null,
      "metadata": {
        "colab": {
          "base_uri": "https://localhost:8080/"
        },
        "id": "Q2HzKyzbk3zV",
        "outputId": "dadaaf70-4254-4a80-a8db-b06aee56690e"
      },
      "outputs": [
        {
          "output_type": "execute_result",
          "data": {
            "text/plain": [
              "array(['LIPA KARO KCB ACCOUNT', 'CITAM BUSINESS FORUM   CBF ON',\n",
              "       'TRINITY INRENATIONAL KINDERGARTEN LTD VIA SCB  TEMI MBARI',\n",
              "       'STRATHMORE BUSINESS SCHOOL', 'SCHOOL PHOTOS-KILELESHWA',\n",
              "       'HEART TO HEART FOUNDATION  MIKISA SCHOOL',\n",
              "       'UNIVERSITY OF NAIROBI-EXAMINATION',\n",
              "       'UNIVERSITY OF NAIROBI - CHSS VIA ABSA', 'MORINGA SCHOOL LIMITED',\n",
              "       'MIATHENE BOYS SECONDARY SCHOOL VIA NBK'], dtype=object)"
            ]
          },
          "metadata": {},
          "execution_count": 38
        }
      ],
      "source": [
        "school_related.MERCHANT_NAME.unique()"
      ]
    },
    {
      "cell_type": "markdown",
      "metadata": {
        "id": "Fn7Xv6vYk3zW"
      },
      "source": [
        "###### Finance Related \n",
        "* Here we use banks, loan apps, credit institutions and investments\n",
        "* Remove all names with paybill because most of the time paybill is for normal expenditures"
      ]
    },
    {
      "cell_type": "code",
      "execution_count": null,
      "metadata": {
        "colab": {
          "base_uri": "https://localhost:8080/"
        },
        "id": "jArpV_nQk3zW",
        "outputId": "a49a9573-f7df-441f-aff8-a71d197a6929"
      },
      "outputs": [
        {
          "output_type": "stream",
          "name": "stdout",
          "text": [
            "245\n"
          ]
        },
        {
          "output_type": "execute_result",
          "data": {
            "text/plain": [
              "Bills & Fees        15\n",
              "Emergency fund       8\n",
              "Loan Repayment       5\n",
              "Groceries            5\n",
              "Transport & Fuel     4\n",
              "Shopping             2\n",
              "Education            1\n",
              "Rent / Mortgage      1\n",
              "Family & Friends     1\n",
              "Name: MERCHANT_CATEGORIZED_AS, dtype: int64"
            ]
          },
          "metadata": {},
          "execution_count": 39
        }
      ],
      "source": [
        "finance_related = data.loc[data['MERCHANT_NAME'].str.contains(\n",
        "    \"bank|loan|credit|insur|kcb|equity|ncba|barclays|coop|CO-OP|standard chartered|mshwari|m-shwari|zenka|tala|stanbic|saving|invest|\\\n",
        "    capital|trust|retirement|pension|xgo|bayes|mogo|sacco|holdings|ncba|kandamoja|cash|m-kopa|mkopa|kopa|enterprise|kra\",\n",
        "     case=False)]\n",
        "\n",
        "print(finance_related.MERCHANT_NAME.nunique())\n",
        "finance_related.MERCHANT_CATEGORIZED_AS.value_counts()"
      ]
    },
    {
      "cell_type": "code",
      "execution_count": null,
      "metadata": {
        "colab": {
          "base_uri": "https://localhost:8080/",
          "height": 427
        },
        "id": "CTZTBoiOk3zY",
        "outputId": "362605af-a2b3-4ae1-ef53-3d24d4ee17f5"
      },
      "outputs": [
        {
          "output_type": "execute_result",
          "data": {
            "text/plain": [
              "              MERCHANT_CATEGORIZED_AT                  MERCHANT_NAME  \\\n",
              "14   2022-03-16 13:08:19.703288+00:00  GARIDON ENTERPRISES VIA CO-OP   \n",
              "36   2022-05-31 13:27:24.704992+00:00                 KCB PAYBILL AC   \n",
              "56   2022-05-31 13:22:16.049027+00:00         EQUITY PAYBILL ACCOUNT   \n",
              "333  2022-03-16 13:08:19.703288+00:00         KEMAHMWA ENTERPRISE HQ   \n",
              "354  2022-03-16 13:08:19.703288+00:00         KEMAHMWA ENTERPRISE HQ   \n",
              "\n",
              "    MERCHANT_CATEGORIZED_AS  PURCHASE_VALUE              PURCHASED_AT  \\\n",
              "14                Groceries            4090 2020-12-28 13:29:00+00:00   \n",
              "36                Groceries             300 2022-05-31 12:04:00+00:00   \n",
              "56                Groceries             600 2022-05-31 17:02:00+00:00   \n",
              "333               Groceries             180 2022-04-01 06:08:00+00:00   \n",
              "354               Groceries              80 2022-03-31 05:48:00+00:00   \n",
              "\n",
              "     IS_PURCHASE_PAID_VIA_MPESA_SEND_MONEY USER_GENDER  USER_HOUSEHOLD  \\\n",
              "14                                   False      Female               1   \n",
              "36                                   False      Female               1   \n",
              "56                                    True      Female               1   \n",
              "333                                  False      Female               1   \n",
              "354                                  False      Female               1   \n",
              "\n",
              "     USER_INCOME      USER_ID  train  price_range  income_range  \\\n",
              "14        250000  ID_OZANC6XT    1.0            0             3   \n",
              "36         23000  ID_Y0386AT9    1.0            0             1   \n",
              "56         23000  ID_Y0386AT9    1.0            0             1   \n",
              "333       250000  ID_OZANC6XT    1.0            0             3   \n",
              "354       250000  ID_OZANC6XT    1.0            1             3   \n",
              "\n",
              "     prod_PURCHASE_INCOME  income_distribution  user_single  user_couple  \\\n",
              "14               0.016360             250000.0          1.0          0.0   \n",
              "36               0.013043              23000.0          1.0          0.0   \n",
              "56               0.026087              23000.0          1.0          0.0   \n",
              "333              0.000720             250000.0          1.0          0.0   \n",
              "354              0.000320             250000.0          1.0          0.0   \n",
              "\n",
              "     count_PURCHASE_VALUE  count_USER_INCOME  count_USER_HOUSEHOLD  \\\n",
              "14                    1.0               39.0                 308.0   \n",
              "36                   46.0               51.0                 308.0   \n",
              "56                    9.0               51.0                 308.0   \n",
              "333                   1.0               39.0                 308.0   \n",
              "354                   8.0               39.0                 308.0   \n",
              "\n",
              "     count_MERCHANT_NAME   ind  \n",
              "14                   1.0  data  \n",
              "36                   7.0  data  \n",
              "56                  19.0  data  \n",
              "333                  3.0  data  \n",
              "354                  3.0  data  "
            ],
            "text/html": [
              "\n",
              "  <div id=\"df-2cb9161e-d6fa-41d5-9df9-14a6f16fd424\">\n",
              "    <div class=\"colab-df-container\">\n",
              "      <div>\n",
              "<style scoped>\n",
              "    .dataframe tbody tr th:only-of-type {\n",
              "        vertical-align: middle;\n",
              "    }\n",
              "\n",
              "    .dataframe tbody tr th {\n",
              "        vertical-align: top;\n",
              "    }\n",
              "\n",
              "    .dataframe thead th {\n",
              "        text-align: right;\n",
              "    }\n",
              "</style>\n",
              "<table border=\"1\" class=\"dataframe\">\n",
              "  <thead>\n",
              "    <tr style=\"text-align: right;\">\n",
              "      <th></th>\n",
              "      <th>MERCHANT_CATEGORIZED_AT</th>\n",
              "      <th>MERCHANT_NAME</th>\n",
              "      <th>MERCHANT_CATEGORIZED_AS</th>\n",
              "      <th>PURCHASE_VALUE</th>\n",
              "      <th>PURCHASED_AT</th>\n",
              "      <th>IS_PURCHASE_PAID_VIA_MPESA_SEND_MONEY</th>\n",
              "      <th>USER_GENDER</th>\n",
              "      <th>USER_HOUSEHOLD</th>\n",
              "      <th>USER_INCOME</th>\n",
              "      <th>USER_ID</th>\n",
              "      <th>train</th>\n",
              "      <th>price_range</th>\n",
              "      <th>income_range</th>\n",
              "      <th>prod_PURCHASE_INCOME</th>\n",
              "      <th>income_distribution</th>\n",
              "      <th>user_single</th>\n",
              "      <th>user_couple</th>\n",
              "      <th>count_PURCHASE_VALUE</th>\n",
              "      <th>count_USER_INCOME</th>\n",
              "      <th>count_USER_HOUSEHOLD</th>\n",
              "      <th>count_MERCHANT_NAME</th>\n",
              "      <th>ind</th>\n",
              "    </tr>\n",
              "  </thead>\n",
              "  <tbody>\n",
              "    <tr>\n",
              "      <th>14</th>\n",
              "      <td>2022-03-16 13:08:19.703288+00:00</td>\n",
              "      <td>GARIDON ENTERPRISES VIA CO-OP</td>\n",
              "      <td>Groceries</td>\n",
              "      <td>4090</td>\n",
              "      <td>2020-12-28 13:29:00+00:00</td>\n",
              "      <td>False</td>\n",
              "      <td>Female</td>\n",
              "      <td>1</td>\n",
              "      <td>250000</td>\n",
              "      <td>ID_OZANC6XT</td>\n",
              "      <td>1.0</td>\n",
              "      <td>0</td>\n",
              "      <td>3</td>\n",
              "      <td>0.016360</td>\n",
              "      <td>250000.0</td>\n",
              "      <td>1.0</td>\n",
              "      <td>0.0</td>\n",
              "      <td>1.0</td>\n",
              "      <td>39.0</td>\n",
              "      <td>308.0</td>\n",
              "      <td>1.0</td>\n",
              "      <td>data</td>\n",
              "    </tr>\n",
              "    <tr>\n",
              "      <th>36</th>\n",
              "      <td>2022-05-31 13:27:24.704992+00:00</td>\n",
              "      <td>KCB PAYBILL AC</td>\n",
              "      <td>Groceries</td>\n",
              "      <td>300</td>\n",
              "      <td>2022-05-31 12:04:00+00:00</td>\n",
              "      <td>False</td>\n",
              "      <td>Female</td>\n",
              "      <td>1</td>\n",
              "      <td>23000</td>\n",
              "      <td>ID_Y0386AT9</td>\n",
              "      <td>1.0</td>\n",
              "      <td>0</td>\n",
              "      <td>1</td>\n",
              "      <td>0.013043</td>\n",
              "      <td>23000.0</td>\n",
              "      <td>1.0</td>\n",
              "      <td>0.0</td>\n",
              "      <td>46.0</td>\n",
              "      <td>51.0</td>\n",
              "      <td>308.0</td>\n",
              "      <td>7.0</td>\n",
              "      <td>data</td>\n",
              "    </tr>\n",
              "    <tr>\n",
              "      <th>56</th>\n",
              "      <td>2022-05-31 13:22:16.049027+00:00</td>\n",
              "      <td>EQUITY PAYBILL ACCOUNT</td>\n",
              "      <td>Groceries</td>\n",
              "      <td>600</td>\n",
              "      <td>2022-05-31 17:02:00+00:00</td>\n",
              "      <td>True</td>\n",
              "      <td>Female</td>\n",
              "      <td>1</td>\n",
              "      <td>23000</td>\n",
              "      <td>ID_Y0386AT9</td>\n",
              "      <td>1.0</td>\n",
              "      <td>0</td>\n",
              "      <td>1</td>\n",
              "      <td>0.026087</td>\n",
              "      <td>23000.0</td>\n",
              "      <td>1.0</td>\n",
              "      <td>0.0</td>\n",
              "      <td>9.0</td>\n",
              "      <td>51.0</td>\n",
              "      <td>308.0</td>\n",
              "      <td>19.0</td>\n",
              "      <td>data</td>\n",
              "    </tr>\n",
              "    <tr>\n",
              "      <th>333</th>\n",
              "      <td>2022-03-16 13:08:19.703288+00:00</td>\n",
              "      <td>KEMAHMWA ENTERPRISE HQ</td>\n",
              "      <td>Groceries</td>\n",
              "      <td>180</td>\n",
              "      <td>2022-04-01 06:08:00+00:00</td>\n",
              "      <td>False</td>\n",
              "      <td>Female</td>\n",
              "      <td>1</td>\n",
              "      <td>250000</td>\n",
              "      <td>ID_OZANC6XT</td>\n",
              "      <td>1.0</td>\n",
              "      <td>0</td>\n",
              "      <td>3</td>\n",
              "      <td>0.000720</td>\n",
              "      <td>250000.0</td>\n",
              "      <td>1.0</td>\n",
              "      <td>0.0</td>\n",
              "      <td>1.0</td>\n",
              "      <td>39.0</td>\n",
              "      <td>308.0</td>\n",
              "      <td>3.0</td>\n",
              "      <td>data</td>\n",
              "    </tr>\n",
              "    <tr>\n",
              "      <th>354</th>\n",
              "      <td>2022-03-16 13:08:19.703288+00:00</td>\n",
              "      <td>KEMAHMWA ENTERPRISE HQ</td>\n",
              "      <td>Groceries</td>\n",
              "      <td>80</td>\n",
              "      <td>2022-03-31 05:48:00+00:00</td>\n",
              "      <td>False</td>\n",
              "      <td>Female</td>\n",
              "      <td>1</td>\n",
              "      <td>250000</td>\n",
              "      <td>ID_OZANC6XT</td>\n",
              "      <td>1.0</td>\n",
              "      <td>1</td>\n",
              "      <td>3</td>\n",
              "      <td>0.000320</td>\n",
              "      <td>250000.0</td>\n",
              "      <td>1.0</td>\n",
              "      <td>0.0</td>\n",
              "      <td>8.0</td>\n",
              "      <td>39.0</td>\n",
              "      <td>308.0</td>\n",
              "      <td>3.0</td>\n",
              "      <td>data</td>\n",
              "    </tr>\n",
              "  </tbody>\n",
              "</table>\n",
              "</div>\n",
              "      <button class=\"colab-df-convert\" onclick=\"convertToInteractive('df-2cb9161e-d6fa-41d5-9df9-14a6f16fd424')\"\n",
              "              title=\"Convert this dataframe to an interactive table.\"\n",
              "              style=\"display:none;\">\n",
              "        \n",
              "  <svg xmlns=\"http://www.w3.org/2000/svg\" height=\"24px\"viewBox=\"0 0 24 24\"\n",
              "       width=\"24px\">\n",
              "    <path d=\"M0 0h24v24H0V0z\" fill=\"none\"/>\n",
              "    <path d=\"M18.56 5.44l.94 2.06.94-2.06 2.06-.94-2.06-.94-.94-2.06-.94 2.06-2.06.94zm-11 1L8.5 8.5l.94-2.06 2.06-.94-2.06-.94L8.5 2.5l-.94 2.06-2.06.94zm10 10l.94 2.06.94-2.06 2.06-.94-2.06-.94-.94-2.06-.94 2.06-2.06.94z\"/><path d=\"M17.41 7.96l-1.37-1.37c-.4-.4-.92-.59-1.43-.59-.52 0-1.04.2-1.43.59L10.3 9.45l-7.72 7.72c-.78.78-.78 2.05 0 2.83L4 21.41c.39.39.9.59 1.41.59.51 0 1.02-.2 1.41-.59l7.78-7.78 2.81-2.81c.8-.78.8-2.07 0-2.86zM5.41 20L4 18.59l7.72-7.72 1.47 1.35L5.41 20z\"/>\n",
              "  </svg>\n",
              "      </button>\n",
              "      \n",
              "  <style>\n",
              "    .colab-df-container {\n",
              "      display:flex;\n",
              "      flex-wrap:wrap;\n",
              "      gap: 12px;\n",
              "    }\n",
              "\n",
              "    .colab-df-convert {\n",
              "      background-color: #E8F0FE;\n",
              "      border: none;\n",
              "      border-radius: 50%;\n",
              "      cursor: pointer;\n",
              "      display: none;\n",
              "      fill: #1967D2;\n",
              "      height: 32px;\n",
              "      padding: 0 0 0 0;\n",
              "      width: 32px;\n",
              "    }\n",
              "\n",
              "    .colab-df-convert:hover {\n",
              "      background-color: #E2EBFA;\n",
              "      box-shadow: 0px 1px 2px rgba(60, 64, 67, 0.3), 0px 1px 3px 1px rgba(60, 64, 67, 0.15);\n",
              "      fill: #174EA6;\n",
              "    }\n",
              "\n",
              "    [theme=dark] .colab-df-convert {\n",
              "      background-color: #3B4455;\n",
              "      fill: #D2E3FC;\n",
              "    }\n",
              "\n",
              "    [theme=dark] .colab-df-convert:hover {\n",
              "      background-color: #434B5C;\n",
              "      box-shadow: 0px 1px 3px 1px rgba(0, 0, 0, 0.15);\n",
              "      filter: drop-shadow(0px 1px 2px rgba(0, 0, 0, 0.3));\n",
              "      fill: #FFFFFF;\n",
              "    }\n",
              "  </style>\n",
              "\n",
              "      <script>\n",
              "        const buttonEl =\n",
              "          document.querySelector('#df-2cb9161e-d6fa-41d5-9df9-14a6f16fd424 button.colab-df-convert');\n",
              "        buttonEl.style.display =\n",
              "          google.colab.kernel.accessAllowed ? 'block' : 'none';\n",
              "\n",
              "        async function convertToInteractive(key) {\n",
              "          const element = document.querySelector('#df-2cb9161e-d6fa-41d5-9df9-14a6f16fd424');\n",
              "          const dataTable =\n",
              "            await google.colab.kernel.invokeFunction('convertToInteractive',\n",
              "                                                     [key], {});\n",
              "          if (!dataTable) return;\n",
              "\n",
              "          const docLinkHtml = 'Like what you see? Visit the ' +\n",
              "            '<a target=\"_blank\" href=https://colab.research.google.com/notebooks/data_table.ipynb>data table notebook</a>'\n",
              "            + ' to learn more about interactive tables.';\n",
              "          element.innerHTML = '';\n",
              "          dataTable['output_type'] = 'display_data';\n",
              "          await google.colab.output.renderOutput(dataTable, element);\n",
              "          const docLink = document.createElement('div');\n",
              "          docLink.innerHTML = docLinkHtml;\n",
              "          element.appendChild(docLink);\n",
              "        }\n",
              "      </script>\n",
              "    </div>\n",
              "  </div>\n",
              "  "
            ]
          },
          "metadata": {},
          "execution_count": 40
        }
      ],
      "source": [
        "finance_related[finance_related['MERCHANT_CATEGORIZED_AS'] == 'Groceries']"
      ]
    },
    {
      "cell_type": "code",
      "execution_count": null,
      "metadata": {
        "id": "ydtg6pCxk3zY"
      },
      "outputs": [],
      "source": [
        "finance_related = finance_related[finance_related[\"MERCHANT_NAME\"].str.contains(\"karo|paybill\", case=False) == False]"
      ]
    },
    {
      "cell_type": "code",
      "execution_count": null,
      "metadata": {
        "colab": {
          "base_uri": "https://localhost:8080/"
        },
        "id": "0354Dw_qk3zY",
        "outputId": "2d3ec6e9-de22-4ed9-f9a0-3fe75615ae0f"
      },
      "outputs": [
        {
          "output_type": "execute_result",
          "data": {
            "text/plain": [
              "Bills & Fees        10\n",
              "Emergency fund       6\n",
              "Loan Repayment       5\n",
              "Transport & Fuel     4\n",
              "Groceries            3\n",
              "Rent / Mortgage      1\n",
              "Family & Friends     1\n",
              "Name: MERCHANT_CATEGORIZED_AS, dtype: int64"
            ]
          },
          "metadata": {},
          "execution_count": 42
        }
      ],
      "source": [
        "finance_related.MERCHANT_CATEGORIZED_AS.value_counts()"
      ]
    },
    {
      "cell_type": "markdown",
      "metadata": {
        "id": "YwLYo1QGk3zZ"
      },
      "source": [
        "###### Mode of Payment \n",
        "* the likes of paybills, paypal, pesa pap,direct pay, crypto and more"
      ]
    },
    {
      "cell_type": "code",
      "execution_count": null,
      "metadata": {
        "colab": {
          "base_uri": "https://localhost:8080/"
        },
        "id": "jWiVHT26k3zZ",
        "outputId": "b51a08eb-a91c-4cca-9a4d-9a4e483c4f5f"
      },
      "outputs": [
        {
          "output_type": "stream",
          "name": "stdout",
          "text": [
            "40\n"
          ]
        },
        {
          "output_type": "execute_result",
          "data": {
            "text/plain": [
              "Bills & Fees        6\n",
              "Groceries           2\n",
              "Shopping            2\n",
              "Data & WiFi         2\n",
              "Emergency fund      2\n",
              "Transport & Fuel    2\n",
              "Going out           1\n",
              "Family & Friends    1\n",
              "Name: MERCHANT_CATEGORIZED_AS, dtype: int64"
            ]
          },
          "metadata": {},
          "execution_count": 43
        }
      ],
      "source": [
        "payment_related = data.loc[data['MERCHANT_NAME'].str.contains(\"crypto|bitcoin|paybill|pesa|ipay|paytech\", case=False)]\n",
        "print(payment_related.MERCHANT_NAME.nunique())\n",
        "payment_related.MERCHANT_CATEGORIZED_AS.value_counts()"
      ]
    },
    {
      "cell_type": "code",
      "execution_count": null,
      "metadata": {
        "id": "Ac6omiLnk3zb"
      },
      "outputs": [],
      "source": [
        "payment_related = payment_related[payment_related[\"MERCHANT_NAME\"].str.contains(\"mpesa|m-pesa\", case=False) == False]"
      ]
    },
    {
      "cell_type": "code",
      "execution_count": null,
      "metadata": {
        "colab": {
          "base_uri": "https://localhost:8080/"
        },
        "id": "JPEwyzoek3zb",
        "outputId": "2986b982-e974-49c9-b2ab-5658d2900727"
      },
      "outputs": [
        {
          "output_type": "execute_result",
          "data": {
            "text/plain": [
              "array(['KCB PAYBILL AC', 'EQUITY PAYBILL ACCOUNT', 'IPAY LTD', 'PESAPAL',\n",
              "       'PESAPAL  FOR', 'PAYTECH -THE JUNCTION MALL', 'PAYTECH LIMITED',\n",
              "       'EQUITY PAYBILL', 'FAMILY BANK PESA PAP', 'KCB PAYBILL', 'PAYTECH',\n",
              "       'PESAPAL SABI', 'PAYTECH A  THE HUB KAREN', 'PESAPAL LIMITED',\n",
              "       'PESAPAL ON', 'PESAPAL 9', 'PAYTECH -SARIT CENTER',\n",
              "       'PAYTECH WETSGATE', 'PESAPAL   ON', 'PESAPAL II',\n",
              "       'BIASHARA PAYBILL VIA FAMILY BANK  TERKI',\n",
              "       'BIASHARA PAYBILL VIA FAMILY BANK  MANIA',\n",
              "       'PARKLANDS SPORTS CLUB PAYBILL  N95',\n",
              "       'PARKLANDS SPORTS CLUB PAYBILL  N94',\n",
              "       'PARKLANDS SPORTS CLUB PAYBILL  R27',\n",
              "       'PARKLANDS SPORTS CLUB PAYBILL', 'IPAY LTD  WEST',\n",
              "       'PAYTECH -THE JUNCTION MALL  KDA', 'BAYES COLLECTIONS PAYBILL',\n",
              "       'IPAY LTD  RAFU', 'PESAPAL  2',\n",
              "       'JUDICIARY PAYBILL VIA KCB  EZER6PLK',\n",
              "       'JUDICIARY PAYBILL VIA KCB  EZFBM6AK',\n",
              "       'JUDICIARY PAYBILL VIA KCB  EZCYR4GJ', 'SPORTPESA  SPORTPESA',\n",
              "       'SPORTPESA'], dtype=object)"
            ]
          },
          "metadata": {},
          "execution_count": 45
        }
      ],
      "source": [
        "payment_related.MERCHANT_NAME.unique()"
      ]
    },
    {
      "cell_type": "markdown",
      "metadata": {
        "id": "5dTxHuVjk3zo"
      },
      "source": [
        "###### Bills related \n",
        "* water,rent,trash,power"
      ]
    },
    {
      "cell_type": "code",
      "execution_count": null,
      "metadata": {
        "colab": {
          "base_uri": "https://localhost:8080/"
        },
        "id": "McF1b2JTk3zo",
        "outputId": "59069317-1b12-4bf8-fca5-3f4fb2d79b7e"
      },
      "outputs": [
        {
          "output_type": "stream",
          "name": "stdout",
          "text": [
            "20\n"
          ]
        },
        {
          "output_type": "execute_result",
          "data": {
            "text/plain": [
              "Bills & Fees    10\n",
              "Name: MERCHANT_CATEGORIZED_AS, dtype: int64"
            ]
          },
          "metadata": {},
          "execution_count": 46
        }
      ],
      "source": [
        "bills_related = data.loc[data['MERCHANT_NAME'].str.contains(\"rent|apartment|water|kplc|trash|bins\", case=False)]\n",
        "print(bills_related.MERCHANT_NAME.nunique())\n",
        "bills_related.MERCHANT_CATEGORIZED_AS.value_counts()"
      ]
    },
    {
      "cell_type": "code",
      "execution_count": null,
      "metadata": {
        "id": "Q7O8XQMSk3zp"
      },
      "outputs": [],
      "source": [
        "bills_related = bills_related[bills_related[\"MERCHANT_NAME\"].str.contains(\"bar|front|pub\", case=False) == False]"
      ]
    },
    {
      "cell_type": "code",
      "execution_count": null,
      "metadata": {
        "colab": {
          "base_uri": "https://localhost:8080/"
        },
        "id": "519V91S7k3zq",
        "outputId": "3fb8c176-a68d-4ac9-ec57-2a16ae7a7588"
      },
      "outputs": [
        {
          "output_type": "execute_result",
          "data": {
            "text/plain": [
              "Bills & Fees    10\n",
              "Name: MERCHANT_CATEGORIZED_AS, dtype: int64"
            ]
          },
          "metadata": {},
          "execution_count": 48
        }
      ],
      "source": [
        "bills_related.MERCHANT_CATEGORIZED_AS.value_counts()"
      ]
    },
    {
      "cell_type": "code",
      "source": [
        ""
      ],
      "metadata": {
        "id": "9pXZyIfprIZj"
      },
      "execution_count": null,
      "outputs": []
    },
    {
      "cell_type": "markdown",
      "metadata": {
        "id": "JO_9AXN7k3zq"
      },
      "source": [
        "###### Others\n",
        "* These includes things like tithes and offerings, and church development fees, ecitizen, county goverment payments and more\n"
      ]
    },
    {
      "cell_type": "code",
      "execution_count": null,
      "metadata": {
        "colab": {
          "base_uri": "https://localhost:8080/"
        },
        "id": "Sg37gSDdk3zq",
        "outputId": "dd97c570-fca4-4a75-fbb0-d0ee4090e4d0"
      },
      "outputs": [
        {
          "output_type": "stream",
          "name": "stdout",
          "text": [
            "78\n"
          ]
        },
        {
          "output_type": "execute_result",
          "data": {
            "text/plain": [
              "Miscellaneous       2\n",
              "Rent / Mortgage     1\n",
              "Transport & Fuel    1\n",
              "Bills & Fees        1\n",
              "Name: MERCHANT_CATEGORIZED_AS, dtype: int64"
            ]
          },
          "metadata": {},
          "execution_count": 49
        }
      ],
      "source": [
        "others_related = data.loc[data['MERCHANT_NAME'].str.contains(\n",
        "    \"church|offerin|tithe|kanisa|sadaka|fungu|county|citizen|kra|association|sportpesa\",\n",
        "     case=False)]\n",
        "print(others_related.MERCHANT_NAME.nunique())\n",
        "others_related.MERCHANT_CATEGORIZED_AS.value_counts()"
      ]
    },
    {
      "cell_type": "code",
      "execution_count": null,
      "metadata": {
        "colab": {
          "base_uri": "https://localhost:8080/",
          "height": 197
        },
        "id": "I69ELEDJk3zq",
        "outputId": "13f36a77-f59b-4466-f96c-3b81b9cd9175"
      },
      "outputs": [
        {
          "output_type": "execute_result",
          "data": {
            "text/plain": [
              "            MERCHANT_CATEGORIZED_AT                      MERCHANT_NAME  \\\n",
              "0  2022-05-04 10:25:50.588042+00:00  UONSDA CHURCH  MOGERE MWAYO TITHE   \n",
              "\n",
              "  MERCHANT_CATEGORIZED_AS  PURCHASE_VALUE              PURCHASED_AT  \\\n",
              "0         Rent / Mortgage            1700 2022-05-04 13:56:00+00:00   \n",
              "\n",
              "   IS_PURCHASE_PAID_VIA_MPESA_SEND_MONEY USER_GENDER  USER_HOUSEHOLD  \\\n",
              "0                                  False        Male               3   \n",
              "\n",
              "   USER_INCOME      USER_ID  train  price_range  income_range  \\\n",
              "0        10000  ID_ZX4DCF4K    1.0            0             0   \n",
              "\n",
              "   prod_PURCHASE_INCOME  income_distribution  user_single  user_couple  \\\n",
              "0                  0.17          3333.333333          0.0          0.0   \n",
              "\n",
              "   count_PURCHASE_VALUE  count_USER_INCOME  count_USER_HOUSEHOLD  \\\n",
              "0                   4.0              188.0                 240.0   \n",
              "\n",
              "   count_MERCHANT_NAME   ind  \n",
              "0                  1.0  data  "
            ],
            "text/html": [
              "\n",
              "  <div id=\"df-8df2174f-2ea2-4c25-81c3-d18c88281c35\">\n",
              "    <div class=\"colab-df-container\">\n",
              "      <div>\n",
              "<style scoped>\n",
              "    .dataframe tbody tr th:only-of-type {\n",
              "        vertical-align: middle;\n",
              "    }\n",
              "\n",
              "    .dataframe tbody tr th {\n",
              "        vertical-align: top;\n",
              "    }\n",
              "\n",
              "    .dataframe thead th {\n",
              "        text-align: right;\n",
              "    }\n",
              "</style>\n",
              "<table border=\"1\" class=\"dataframe\">\n",
              "  <thead>\n",
              "    <tr style=\"text-align: right;\">\n",
              "      <th></th>\n",
              "      <th>MERCHANT_CATEGORIZED_AT</th>\n",
              "      <th>MERCHANT_NAME</th>\n",
              "      <th>MERCHANT_CATEGORIZED_AS</th>\n",
              "      <th>PURCHASE_VALUE</th>\n",
              "      <th>PURCHASED_AT</th>\n",
              "      <th>IS_PURCHASE_PAID_VIA_MPESA_SEND_MONEY</th>\n",
              "      <th>USER_GENDER</th>\n",
              "      <th>USER_HOUSEHOLD</th>\n",
              "      <th>USER_INCOME</th>\n",
              "      <th>USER_ID</th>\n",
              "      <th>train</th>\n",
              "      <th>price_range</th>\n",
              "      <th>income_range</th>\n",
              "      <th>prod_PURCHASE_INCOME</th>\n",
              "      <th>income_distribution</th>\n",
              "      <th>user_single</th>\n",
              "      <th>user_couple</th>\n",
              "      <th>count_PURCHASE_VALUE</th>\n",
              "      <th>count_USER_INCOME</th>\n",
              "      <th>count_USER_HOUSEHOLD</th>\n",
              "      <th>count_MERCHANT_NAME</th>\n",
              "      <th>ind</th>\n",
              "    </tr>\n",
              "  </thead>\n",
              "  <tbody>\n",
              "    <tr>\n",
              "      <th>0</th>\n",
              "      <td>2022-05-04 10:25:50.588042+00:00</td>\n",
              "      <td>UONSDA CHURCH  MOGERE MWAYO TITHE</td>\n",
              "      <td>Rent / Mortgage</td>\n",
              "      <td>1700</td>\n",
              "      <td>2022-05-04 13:56:00+00:00</td>\n",
              "      <td>False</td>\n",
              "      <td>Male</td>\n",
              "      <td>3</td>\n",
              "      <td>10000</td>\n",
              "      <td>ID_ZX4DCF4K</td>\n",
              "      <td>1.0</td>\n",
              "      <td>0</td>\n",
              "      <td>0</td>\n",
              "      <td>0.17</td>\n",
              "      <td>3333.333333</td>\n",
              "      <td>0.0</td>\n",
              "      <td>0.0</td>\n",
              "      <td>4.0</td>\n",
              "      <td>188.0</td>\n",
              "      <td>240.0</td>\n",
              "      <td>1.0</td>\n",
              "      <td>data</td>\n",
              "    </tr>\n",
              "  </tbody>\n",
              "</table>\n",
              "</div>\n",
              "      <button class=\"colab-df-convert\" onclick=\"convertToInteractive('df-8df2174f-2ea2-4c25-81c3-d18c88281c35')\"\n",
              "              title=\"Convert this dataframe to an interactive table.\"\n",
              "              style=\"display:none;\">\n",
              "        \n",
              "  <svg xmlns=\"http://www.w3.org/2000/svg\" height=\"24px\"viewBox=\"0 0 24 24\"\n",
              "       width=\"24px\">\n",
              "    <path d=\"M0 0h24v24H0V0z\" fill=\"none\"/>\n",
              "    <path d=\"M18.56 5.44l.94 2.06.94-2.06 2.06-.94-2.06-.94-.94-2.06-.94 2.06-2.06.94zm-11 1L8.5 8.5l.94-2.06 2.06-.94-2.06-.94L8.5 2.5l-.94 2.06-2.06.94zm10 10l.94 2.06.94-2.06 2.06-.94-2.06-.94-.94-2.06-.94 2.06-2.06.94z\"/><path d=\"M17.41 7.96l-1.37-1.37c-.4-.4-.92-.59-1.43-.59-.52 0-1.04.2-1.43.59L10.3 9.45l-7.72 7.72c-.78.78-.78 2.05 0 2.83L4 21.41c.39.39.9.59 1.41.59.51 0 1.02-.2 1.41-.59l7.78-7.78 2.81-2.81c.8-.78.8-2.07 0-2.86zM5.41 20L4 18.59l7.72-7.72 1.47 1.35L5.41 20z\"/>\n",
              "  </svg>\n",
              "      </button>\n",
              "      \n",
              "  <style>\n",
              "    .colab-df-container {\n",
              "      display:flex;\n",
              "      flex-wrap:wrap;\n",
              "      gap: 12px;\n",
              "    }\n",
              "\n",
              "    .colab-df-convert {\n",
              "      background-color: #E8F0FE;\n",
              "      border: none;\n",
              "      border-radius: 50%;\n",
              "      cursor: pointer;\n",
              "      display: none;\n",
              "      fill: #1967D2;\n",
              "      height: 32px;\n",
              "      padding: 0 0 0 0;\n",
              "      width: 32px;\n",
              "    }\n",
              "\n",
              "    .colab-df-convert:hover {\n",
              "      background-color: #E2EBFA;\n",
              "      box-shadow: 0px 1px 2px rgba(60, 64, 67, 0.3), 0px 1px 3px 1px rgba(60, 64, 67, 0.15);\n",
              "      fill: #174EA6;\n",
              "    }\n",
              "\n",
              "    [theme=dark] .colab-df-convert {\n",
              "      background-color: #3B4455;\n",
              "      fill: #D2E3FC;\n",
              "    }\n",
              "\n",
              "    [theme=dark] .colab-df-convert:hover {\n",
              "      background-color: #434B5C;\n",
              "      box-shadow: 0px 1px 3px 1px rgba(0, 0, 0, 0.15);\n",
              "      filter: drop-shadow(0px 1px 2px rgba(0, 0, 0, 0.3));\n",
              "      fill: #FFFFFF;\n",
              "    }\n",
              "  </style>\n",
              "\n",
              "      <script>\n",
              "        const buttonEl =\n",
              "          document.querySelector('#df-8df2174f-2ea2-4c25-81c3-d18c88281c35 button.colab-df-convert');\n",
              "        buttonEl.style.display =\n",
              "          google.colab.kernel.accessAllowed ? 'block' : 'none';\n",
              "\n",
              "        async function convertToInteractive(key) {\n",
              "          const element = document.querySelector('#df-8df2174f-2ea2-4c25-81c3-d18c88281c35');\n",
              "          const dataTable =\n",
              "            await google.colab.kernel.invokeFunction('convertToInteractive',\n",
              "                                                     [key], {});\n",
              "          if (!dataTable) return;\n",
              "\n",
              "          const docLinkHtml = 'Like what you see? Visit the ' +\n",
              "            '<a target=\"_blank\" href=https://colab.research.google.com/notebooks/data_table.ipynb>data table notebook</a>'\n",
              "            + ' to learn more about interactive tables.';\n",
              "          element.innerHTML = '';\n",
              "          dataTable['output_type'] = 'display_data';\n",
              "          await google.colab.output.renderOutput(dataTable, element);\n",
              "          const docLink = document.createElement('div');\n",
              "          docLink.innerHTML = docLinkHtml;\n",
              "          element.appendChild(docLink);\n",
              "        }\n",
              "      </script>\n",
              "    </div>\n",
              "  </div>\n",
              "  "
            ]
          },
          "metadata": {},
          "execution_count": 50
        }
      ],
      "source": [
        "others_related[others_related['MERCHANT_CATEGORIZED_AS'] == 'Rent / Mortgage']"
      ]
    },
    {
      "cell_type": "markdown",
      "metadata": {
        "id": "Ydi8JgZGk3zr"
      },
      "source": [
        "How can a tithe be categorized as rent/mortgage most definitely an outlier"
      ]
    },
    {
      "cell_type": "code",
      "execution_count": null,
      "metadata": {
        "id": "0AH9clNuk3zs"
      },
      "outputs": [],
      "source": [
        "others_related = others_related[others_related[\"MERCHANT_NAME\"].str.contains(\"auto|level\", case=False) == False]"
      ]
    },
    {
      "cell_type": "markdown",
      "source": [
        "###### Adding the bins to the data"
      ],
      "metadata": {
        "id": "tWvw-KEftPXC"
      }
    },
    {
      "cell_type": "code",
      "execution_count": null,
      "metadata": {
        "id": "x1DrVAlzOgUO"
      },
      "outputs": [],
      "source": [
        "# fetch the merchant names from the clustered dataframes\n",
        "\n",
        "data_wifi = data_wifi.MERCHANT_NAME.unique()\n",
        "health_related = health_related.MERCHANT_NAME.unique()\n",
        "fuel_related = fuel_related.MERCHANT_NAME.unique()\n",
        "shopping_related = shopping_related.MERCHANT_NAME.unique()\n",
        "hotel_related = hotel_related.MERCHANT_NAME.unique()\n",
        "school_related = school_related.MERCHANT_NAME.unique()\n",
        "finance_related = finance_related.MERCHANT_NAME.unique()\n",
        "payment_related = payment_related.MERCHANT_NAME.unique()\n",
        "bills_related = bills_related.MERCHANT_NAME.unique()\n",
        "others_related = others_related.MERCHANT_NAME.unique()\n",
        "\n",
        "\n",
        "def merch_bin(x):\n",
        "    bases = [data_wifi, health_related, fuel_related, shopping_related, hotel_related, \n",
        "    school_related, finance_related, bills_related, others_related]\n",
        "    for i, cla in enumerate(bases):\n",
        "        if x in cla:\n",
        "            return i \n",
        "    return 9 # if not found in the classes assign it as others\n",
        "\n",
        "# lets add the clusters to the data\n",
        "data['MERCHANT_NAME_bin'] = data['MERCHANT_NAME'].apply(merch_bin)"
      ]
    },
    {
      "cell_type": "markdown",
      "source": [
        "##### Aggregate Features\n"
      ],
      "metadata": {
        "id": "OD3Cw-2huGLK"
      }
    },
    {
      "cell_type": "markdown",
      "source": [
        "lets add aggregate values of the purchase value and income of the user by grouping the data by the bins\n",
        "\n",
        "\n"
      ],
      "metadata": {
        "id": "JDlO7AERtdzC"
      }
    },
    {
      "cell_type": "code",
      "execution_count": null,
      "metadata": {
        "id": "1mOyhFY1OgUP"
      },
      "outputs": [],
      "source": [
        "merch_bin_groups = data.groupby('MERCHANT_NAME_bin').agg(\n",
        "\n",
        "\n",
        "             purchase_merch_bin_min = (\"PURCHASE_VALUE\", \"min\"),\n",
        "             purchase_merch_bin_max = (\"PURCHASE_VALUE\", \"max\"),        \n",
        "             purchase_merch_bin_sum = (\"PURCHASE_VALUE\", \"sum\"),\n",
        "             purchase_merch_bin_mean = (\"PURCHASE_VALUE\", \"mean\"),\n",
        "             purchase_merch_bin_count = (\"PURCHASE_VALUE\", \"count\"),\n",
        "    \n",
        "             income_merch_bin_min = (\"USER_INCOME\", \"min\"),\n",
        "             income_merch_bin_max = (\"USER_INCOME\", \"max\"),        \n",
        "             income_merch_bin_sum = (\"USER_INCOME\", \"sum\"),\n",
        "             income_merch_bin_mean = (\"USER_INCOME\", \"mean\"),\n",
        "    \n",
        "             ).reset_index()\n",
        "\n",
        "data = pd.merge(data, merch_bin_groups, on=['MERCHANT_NAME_bin'], how ='left')"
      ]
    },
    {
      "cell_type": "markdown",
      "source": [
        "lets add aggregate values of the purchase value and income of the user by grouping the data by the MERCHANT_NAME"
      ],
      "metadata": {
        "id": "PMK5vLwctsby"
      }
    },
    {
      "cell_type": "code",
      "execution_count": null,
      "metadata": {
        "id": "cM8yA4mOOgUP"
      },
      "outputs": [],
      "source": [
        "merch_groups = data.groupby('MERCHANT_NAME').agg(\n",
        "\n",
        "\n",
        "             purchase_merch_min = (\"PURCHASE_VALUE\", \"min\"),\n",
        "             purchase_merch_max = (\"PURCHASE_VALUE\", \"max\"),        \n",
        "             purchase_merch_sum = (\"PURCHASE_VALUE\", \"sum\"),\n",
        "             purchase_merch_mean = (\"PURCHASE_VALUE\", \"mean\"),\n",
        "             purchase_merch_count = (\"PURCHASE_VALUE\", \"count\"),\n",
        "    \n",
        "             income_merch_min = (\"USER_INCOME\", \"min\"),\n",
        "             income_merch_max = (\"USER_INCOME\", \"max\"),        \n",
        "             income_merch_sum = (\"USER_INCOME\", \"sum\"),\n",
        "             income_merch_mean = (\"USER_INCOME\", \"mean\"),\n",
        "    \n",
        "             ).reset_index()\n",
        "\n",
        "data = pd.merge(data, merch_groups,on=['MERCHANT_NAME'], how ='left')"
      ]
    },
    {
      "cell_type": "markdown",
      "source": [
        "Separte the data from extra data"
      ],
      "metadata": {
        "id": "9lQ9IYsMtzBX"
      }
    },
    {
      "cell_type": "code",
      "execution_count": null,
      "metadata": {
        "colab": {
          "base_uri": "https://localhost:8080/"
        },
        "id": "vT40HyZTOgUQ",
        "outputId": "cca2c16a-1323-4b24-cd5b-0e186ec585ad"
      },
      "outputs": [
        {
          "output_type": "execute_result",
          "data": {
            "text/plain": [
              "(930, 40)"
            ]
          },
          "metadata": {},
          "execution_count": 55
        }
      ],
      "source": [
        "all_data, Extra = data[data[\"ind\"].eq(\"data\")], data[data[\"ind\"].eq(\"extra\")]\n",
        "all_data = all_data.drop(columns = ['ind'])\n",
        "\n",
        "all_data.shape"
      ]
    },
    {
      "cell_type": "markdown",
      "source": [
        "#### More feature engineering"
      ],
      "metadata": {
        "id": "-0Gun6DLuVGG"
      }
    },
    {
      "cell_type": "markdown",
      "source": [
        "##### Date features"
      ],
      "metadata": {
        "id": "HJ5jDkc9ukJt"
      }
    },
    {
      "cell_type": "code",
      "execution_count": null,
      "metadata": {
        "id": "oVhM8zo4OgUQ"
      },
      "outputs": [],
      "source": [
        "# change the column MERCHANT_CATEGORIZED_AT to datetime format\n",
        "all_data.MERCHANT_CATEGORIZED_AT = pd.to_datetime(all_data.MERCHANT_CATEGORIZED_AT)"
      ]
    },
    {
      "cell_type": "code",
      "execution_count": null,
      "metadata": {
        "id": "fv8MOd4kOgUR"
      },
      "outputs": [],
      "source": [
        "# add the day, month, dayofweek, hour and quarter date  features for PURCHASED_AT column\n",
        "dt_ft = ['day', 'month', 'dayofweek', 'hour', 'quarter']\n",
        "for ft in dt_ft:\n",
        "    exec(f'all_data[\"PURCHASED_AT_{ft}\"] = all_data.PURCHASED_AT.dt.{ft}.astype(str)')\n",
        "\n",
        "# add the day, month, and hour  features for MERCHANT_CATEGORIZED_AT column\n",
        "dt_ft = ['day', 'month', 'hour']\n",
        "for ft in dt_ft:\n",
        "    exec(f'all_data[\"MERCHANT_CATEGORIZED_AT_{ft}\"] = all_data.MERCHANT_CATEGORIZED_AT.dt.{ft}')"
      ]
    },
    {
      "cell_type": "code",
      "execution_count": null,
      "metadata": {
        "id": "rvRlT9CoOgUS"
      },
      "outputs": [],
      "source": [
        "def hour_cluster(x):\n",
        "    x = int(x)\n",
        "    if (x > 4) and (x <= 8):\n",
        "        return 0\n",
        "    elif (x > 8) and (x <= 12 ):\n",
        "        return 1\n",
        "    elif (x > 12) and (x <= 16):\n",
        "        return 2\n",
        "    elif (x > 16) and (x <= 20) :\n",
        "        return 3\n",
        "    elif (x > 20) and (x <= 24):\n",
        "        return 4\n",
        "    elif (x <= 4):\n",
        "        return 5\n",
        "\n",
        "# cluster the Purchasing hours to 6 classes\n",
        "all_data['PURCHASED_AT_hour'] = all_data['PURCHASED_AT_hour'].apply(hour_cluster)"
      ]
    },
    {
      "cell_type": "markdown",
      "source": [
        "##### Feature Combination"
      ],
      "metadata": {
        "id": "iydrM6t8vXMO"
      }
    },
    {
      "cell_type": "code",
      "execution_count": null,
      "metadata": {
        "id": "7kxJm-GeOgUS"
      },
      "outputs": [],
      "source": [
        "fts_to_be_combined = [\n",
        "    ('IS_PURCHASE_PAID_VIA_MPESA_SEND_MONEY', 'price_range'),\n",
        "    ('IS_PURCHASE_PAID_VIA_MPESA_SEND_MONEY', 'PURCHASED_AT_quarter'),\n",
        "    ('IS_PURCHASE_PAID_VIA_MPESA_SEND_MONEY', 'PURCHASED_AT_dayofweek'),\n",
        "    ('IS_PURCHASE_PAID_VIA_MPESA_SEND_MONEY', 'PURCHASED_AT_day'),\n",
        "    ('IS_PURCHASE_PAID_VIA_MPESA_SEND_MONEY', 'PURCHASED_AT_hour'),\n",
        "    ('IS_PURCHASE_PAID_VIA_MPESA_SEND_MONEY', 'MERCHANT_NAME_bin'),\n",
        "    ('price_range', 'PURCHASED_AT_quarter'),\n",
        "    ('price_range', 'PURCHASED_AT_dayofweek'),\n",
        "    ('price_range', 'PURCHASED_AT_quarter'),\n",
        "    ('price_range', 'PURCHASED_AT_hour'),\n",
        "    ('price_range', 'USER_GENDER'),\n",
        "    ('USER_GENDER', 'USER_HOUSEHOLD'),\n",
        "]\n",
        "\n",
        "for ft1, ft2 in fts_to_be_combined:\n",
        "    all_data[f'{ft1}_{ft2}'] = all_data[ft1].astype(str) + all_data[ft2].astype(str)"
      ]
    },
    {
      "cell_type": "markdown",
      "source": [
        "##### Automatic clustring of MERCHANT_NAME"
      ],
      "metadata": {
        "id": "oDT9sa-fvdHe"
      }
    },
    {
      "cell_type": "code",
      "execution_count": null,
      "metadata": {
        "colab": {
          "base_uri": "https://localhost:8080/",
          "height": 72
        },
        "id": "MIcEcMuKOgUU",
        "outputId": "b3ca4f91-e57f-4d20-e837-1733a33f5ab6"
      },
      "outputs": [
        {
          "output_type": "stream",
          "name": "stdout",
          "text": [
            "(930, 648)\n"
          ]
        },
        {
          "output_type": "display_data",
          "data": {
            "text/plain": [
              "<Figure size 576x216 with 1 Axes>"
            ],
            "image/png": "[encoded data removed]"
          },
          "metadata": {
            "needs_background": "light"
          }
        }
      ],
      "source": [
        "# CountVectorizer with 2 words\n",
        "vectorizer = TfidfVectorizer(analyzer='word', ngram_range=(2, 2))\n",
        "\n",
        "X_v = vectorizer.fit_transform(all_data.MERCHANT_NAME)\n",
        "print(X_v.shape)\n",
        "\n",
        "\n",
        "distortions = []\n",
        "R = range(5, 18)\n",
        "for i in R:\n",
        "    km = KMeans(\n",
        "        n_clusters=i, init='k-means++',\n",
        "        n_init=32, max_iter=1000,\n",
        "        tol=1e-04, random_state=0\n",
        "    )\n",
        "    km.fit(X_v)\n",
        "    distortions.append(km.inertia_)\n",
        "\n",
        "# plot\n",
        "plt.figure(figsize=(8,3))\n",
        "plt.plot(R, distortions, marker='o')\n",
        "plt.xlabel('Number of clusters')\n",
        "plt.ylabel('Distortion')\n",
        "plt.show()"
      ]
    },
    {
      "cell_type": "markdown",
      "source": [
        "as we can see from the plot 14 classes gives relatively lower loss"
      ],
      "metadata": {
        "id": "-ZDf4q3vvwJD"
      }
    },
    {
      "cell_type": "code",
      "execution_count": null,
      "metadata": {
        "id": "3bVm7Gx1OgUV"
      },
      "outputs": [],
      "source": [
        "classes = 14\n",
        "km = KMeans(\n",
        "        n_clusters=classes, init='k-means++',\n",
        "        n_init=32, max_iter=1000,\n",
        "        tol=1e-04, random_state=0\n",
        "    )\n",
        "km.fit(X_v)\n",
        "trans = km.predict(X_v)\n",
        "all_data[f'merchant_vectorizer'] = trans"
      ]
    },
    {
      "cell_type": "code",
      "execution_count": null,
      "metadata": {
        "colab": {
          "base_uri": "https://localhost:8080/",
          "height": 72
        },
        "id": "03-1FU5mOgUV",
        "outputId": "20a05ed6-c534-49aa-967b-a6f989689b13"
      },
      "outputs": [
        {
          "output_type": "stream",
          "name": "stdout",
          "text": [
            "(930, 1793)\n"
          ]
        },
        {
          "output_type": "display_data",
          "data": {
            "text/plain": [
              "<Figure size 576x216 with 1 Axes>"
            ],
            "image/png": "[encoded data removed]"
          },
          "metadata": {
            "needs_background": "light"
          }
        }
      ],
      "source": [
        "# words starting from length 1\n",
        "vectorizer = TfidfVectorizer(ngram_range=(1, 4))\n",
        "\n",
        "X_v = vectorizer.fit_transform(all_data.MERCHANT_NAME)\n",
        "print(X_v.shape)\n",
        "\n",
        "distortions = []\n",
        "R = range(5, 18)\n",
        "for i in R:\n",
        "    km = KMeans(\n",
        "        n_clusters=i, init='random',\n",
        "        n_init=4, max_iter=1000,\n",
        "        tol=1e-04, random_state=0\n",
        "    )\n",
        "    km.fit(X_v)\n",
        "    distortions.append(km.inertia_)\n",
        "\n",
        "# plot\n",
        "plt.figure(figsize=(8,3))\n",
        "plt.plot(R, distortions, marker='o')\n",
        "plt.xlabel('Number of clusters')\n",
        "plt.ylabel('Distortion')\n",
        "plt.show()"
      ]
    },
    {
      "cell_type": "markdown",
      "source": [
        "as we can see from the plot 16 classes gives relatively lower loss"
      ],
      "metadata": {
        "id": "yAvj9Seov9Vp"
      }
    },
    {
      "cell_type": "code",
      "execution_count": null,
      "metadata": {
        "id": "0XNT_tJiOgUW"
      },
      "outputs": [],
      "source": [
        "classes = 16\n",
        "km = KMeans(\n",
        "        n_clusters=classes, init='k-means++',\n",
        "        n_init=20, max_iter=1000,\n",
        "        tol=1e-04, random_state=seed\n",
        "    )\n",
        "km.fit(X_v)\n",
        "trans = km.predict(X_v)\n",
        "all_data['merchant_vectorizer2'] = trans"
      ]
    },
    {
      "cell_type": "markdown",
      "source": [
        "##### Decomposition of features\n",
        "let's add the decomposed features of the aggregate features that were calculated from the MERCHANT_NAME"
      ],
      "metadata": {
        "id": "lZOb_L0OwHmX"
      }
    },
    {
      "cell_type": "code",
      "source": [
        "agg_cols = [i for i in all_data.columns if '_merch_' in i and 'bin' not in i]\n",
        "print(len(agg_cols))\n",
        "agg_cols"
      ],
      "metadata": {
        "id": "shy5PXdiwqPv",
        "outputId": "a4c32013-8cdb-482b-a6b7-a5b1aa53b69b",
        "colab": {
          "base_uri": "https://localhost:8080/"
        }
      },
      "execution_count": null,
      "outputs": [
        {
          "output_type": "stream",
          "name": "stdout",
          "text": [
            "9\n"
          ]
        },
        {
          "output_type": "execute_result",
          "data": {
            "text/plain": [
              "['purchase_merch_min',\n",
              " 'purchase_merch_max',\n",
              " 'purchase_merch_sum',\n",
              " 'purchase_merch_mean',\n",
              " 'purchase_merch_count',\n",
              " 'income_merch_min',\n",
              " 'income_merch_max',\n",
              " 'income_merch_sum',\n",
              " 'income_merch_mean']"
            ]
          },
          "metadata": {},
          "execution_count": 64
        }
      ]
    },
    {
      "cell_type": "code",
      "source": [
        "from sklearn.decomposition import PCA\n",
        "from sklearn.preprocessing import StandardScaler\n",
        "\n",
        "\n",
        "# add decompose the 9 features to 4 features\n",
        "transformed = PCA(n_components=4, random_state=0).fit_transform(\n",
        "    StandardScaler().fit_transform(all_data[agg_cols])\n",
        "    )\n",
        "\n",
        "for i in range(transformed.shape[1]):\n",
        "    all_data[f'pca_ft_{i+1}'] = transformed[:, i]"
      ],
      "metadata": {
        "id": "spUU0D4if8nV"
      },
      "execution_count": null,
      "outputs": []
    },
    {
      "cell_type": "markdown",
      "source": [
        "### Processing"
      ],
      "metadata": {
        "id": "HJSfy6cBw38V"
      }
    },
    {
      "cell_type": "code",
      "execution_count": null,
      "metadata": {
        "id": "dHjnINwcOgUY"
      },
      "outputs": [],
      "source": [
        "# since we generated the date features from it let's drop them\n",
        "all_data.drop(['MERCHANT_CATEGORIZED_AT','PURCHASED_AT'], axis=1, inplace=True)"
      ]
    },
    {
      "cell_type": "markdown",
      "source": [
        "Dummy values for IS_PURCHASE_PAID_VIA_MPESA_SEND_MONEY and USER_GENDER"
      ],
      "metadata": {
        "id": "rYaqbIeZxH7E"
      }
    },
    {
      "cell_type": "code",
      "execution_count": null,
      "metadata": {
        "id": "JyXneBqlOgUZ"
      },
      "outputs": [],
      "source": [
        "all_data = pd.get_dummies(all_data, columns=['IS_PURCHASE_PAID_VIA_MPESA_SEND_MONEY', 'USER_GENDER'])"
      ]
    },
    {
      "cell_type": "markdown",
      "source": [
        "Label Encoding for categorical columns"
      ],
      "metadata": {
        "id": "zTvXVYYnxYPU"
      }
    },
    {
      "cell_type": "code",
      "execution_count": null,
      "metadata": {
        "id": "Mu48po8vOgUZ"
      },
      "outputs": [],
      "source": [
        "cat_fts = [c for c in all_data.select_dtypes(include=['bool', 'object']).columns if c != 'MERCHANT_CATEGORIZED_AS']\n",
        "\n",
        "le = LabelEncoder()\n",
        "for ft in cat_fts:\n",
        "    all_data[ft] = le.fit_transform(all_data[ft])"
      ]
    },
    {
      "cell_type": "markdown",
      "source": [
        "Separate train and test from all_data"
      ],
      "metadata": {
        "id": "YWiid0t1xewO"
      }
    },
    {
      "cell_type": "code",
      "execution_count": null,
      "metadata": {
        "id": "iq8d5afVhShZ"
      },
      "outputs": [],
      "source": [
        "train_df = all_data[all_data[\"train\"] == 1].drop([\"train\"], axis=1)\n",
        "test_df = all_data[all_data[\"train\"] == 0].drop([\"train\", 'MERCHANT_CATEGORIZED_AS'], axis=1)"
      ]
    },
    {
      "cell_type": "code",
      "execution_count": null,
      "metadata": {
        "colab": {
          "base_uri": "https://localhost:8080/"
        },
        "id": "Ur_WN81srqMF",
        "outputId": "bed1ca32-4c6f-4878-9a99-d44d1fd6dd39"
      },
      "outputs": [
        {
          "output_type": "stream",
          "name": "stdout",
          "text": [
            "Train:  (372, 64)\n",
            "Test:  (558, 63)\n"
          ]
        }
      ],
      "source": [
        "print(\"Train: \", train_df.shape)\n",
        "print(\"Test: \", test_df.shape)"
      ]
    },
    {
      "cell_type": "markdown",
      "metadata": {
        "id": "4ofAVhkhuarx"
      },
      "source": [
        "## 3. Modeling\n",
        "\n",
        "\n"
      ]
    },
    {
      "cell_type": "code",
      "execution_count": null,
      "metadata": {
        "id": "v0Y0uKWguZ9n",
        "colab": {
          "base_uri": "https://localhost:8080/"
        },
        "outputId": "65c44414-9608-49cc-9259-0fce37692439"
      },
      "outputs": [
        {
          "output_type": "execute_result",
          "data": {
            "text/plain": [
              "((372, 55), (558, 55))"
            ]
          },
          "metadata": {},
          "execution_count": 71
        }
      ],
      "source": [
        "# Separate the features from the target in the training data\n",
        "\n",
        "main_cols = train_df.columns.difference([\n",
        "    'MERCHANT_CATEGORIZED_AS',\n",
        "    'purchase_merch_max', 'purchase_merch_sum', 'purchase_merch_mean', 'purchase_merch_count', \n",
        "    'income_merch_min', 'income_merch_max', 'income_merch_sum', 'income_merch_mean',\n",
        "    ])\n",
        "\n",
        "labels_train = Train['MERCHANT_CATEGORIZED_AS'].astype('category').cat.categories.tolist()\n",
        "lab_map = dict(zip(labels_train, range(len(labels_train))))\n",
        "\n",
        "X = train_df[main_cols]\n",
        "y = train_df[\"MERCHANT_CATEGORIZED_AS\"].map(lab_map)\n",
        "test = test_df[main_cols]\n",
        "\n",
        "X.shape, test.shape"
      ]
    },
    {
      "cell_type": "markdown",
      "source": [
        "Apply SMOTE to overcome the imbalance"
      ],
      "metadata": {
        "id": "CzuYGcMXxyY2"
      }
    },
    {
      "cell_type": "code",
      "execution_count": null,
      "metadata": {
        "id": "pS8-_PAiOgUd"
      },
      "outputs": [],
      "source": [
        "oversample = ovs.SMOTE(k_neighbors=1, random_state=0)\n",
        "X, y = oversample.fit_resample(X, y)"
      ]
    },
    {
      "cell_type": "markdown",
      "metadata": {
        "id": "T2SGpaag1QSD"
      },
      "source": [
        "## 4. Model Building and Experiments\n",
        "\n"
      ]
    },
    {
      "cell_type": "markdown",
      "metadata": {
        "id": "nFIQ61EpOgUj"
      },
      "source": [
        "### 4.1 1st level"
      ]
    },
    {
      "cell_type": "markdown",
      "source": [
        "#### Splitted predictions"
      ],
      "metadata": {
        "id": "uvAjeMuqzAnm"
      }
    },
    {
      "cell_type": "code",
      "execution_count": null,
      "metadata": {
        "id": "reLMed2VOgUk"
      },
      "outputs": [],
      "source": [
        "# class for training more than one models and averging the results\n",
        "class My_model:\n",
        "    def __init__(self, models):\n",
        "        self.models = models\n",
        "\n",
        "    def fit_eval_pred(self, X, y, eval_set, val, test, verbose=True):\n",
        "        results_eval = []\n",
        "        results_test = []\n",
        "        for i, model in enumerate(self.models):\n",
        "            if verbose:\n",
        "                print(f\"[Training]............................... Model_{i+1}\")\n",
        "            st = time.time()\n",
        "            try:\n",
        "                model.fit(X, y, eval_set=eval_set, verbose=False)\n",
        "            except Exception as e:\n",
        "                model.fit(X, y)\n",
        "            if verbose:\n",
        "                print(f\"[Prediction]............................. Model_{i+1}\")\n",
        "            p = model.predict_proba(val)\n",
        "            results_eval.append(p)\n",
        "            results_test.append(model.predict_proba(test))\n",
        "            if verbose:\n",
        "                print(f\"Log loss = {log_loss(eval_set[0][1], p)}\", end=\" \"*6)\n",
        "                print(f\"Time {time.time() - st :.2f}sec\")\n",
        "\n",
        "        results_eval = np.mean(results_eval, axis=0)\n",
        "        results_test = np.mean(results_test, axis=0)\n",
        "\n",
        "        return results_eval, results_test\n"
      ]
    },
    {
      "cell_type": "code",
      "execution_count": null,
      "metadata": {
        "id": "1wU5ofd51tHr"
      },
      "outputs": [],
      "source": [
        "# custom function gives models \n",
        "def get_models(seed=21):\n",
        "    rnf_params = {'max_depth': 12, 'max_features':'sqrt', 'n_estimators': 900, 'random_state': seed}\n",
        "    xgb_params = {\"eta\":0.1, 'n_estimators': 200, 'random_state':seed, 'objective':'mlogloss',\n",
        "            \"eval_metric\":'mlogloss', \"subsample\" : 1.0, \"colsample_bytree\" : .8}\n",
        "    cat_params = {\"iterations\":10000, \"learning_rate\":0.09, \"verbose\":100, \"random_state\":seed,\n",
        "            'use_best_model':True, 'early_stopping_rounds':100, }\n",
        "    lgb_params = {'learning_rate':0.01, 'n_estimators':10000, 'random_state':seed,\n",
        "            'early_stopping_round':100, 'verbose':-1, 'subsample':1., 'colsample_bytree':0.6}\n",
        "\n",
        "    et_params = {'n_estimators':1000, 'max_features': 'sqrt', 'max_depth':16, 'random_state':seed,\n",
        "                  'min_samples_leaf':2,  'verbose':0, 'n_jobs': -1}\n",
        "    bag_params = {'n_jobs':-1, 'max_features':1.0, 'random_state':seed}\n",
        "\n",
        "    _models = [\n",
        "            CatBoostClassifier(**cat_params),   \n",
        "            LGBMClassifier(**lgb_params),\n",
        "            XGBClassifier(**xgb_params),\n",
        "            RandomForestClassifier(**rnf_params),\n",
        "            OneVsRestClassifier(ExtraTreesClassifier(**et_params)),\n",
        "            BaggingClassifier(GradientBoostingClassifier(max_features='log2'), n_jobs=-1, max_features=1.0, random_state=seed)\n",
        "    ]\n",
        "    return _models\n"
      ]
    },
    {
      "cell_type": "code",
      "execution_count": null,
      "metadata": {
        "id": "y9bYfFC21sJq",
        "colab": {
          "base_uri": "https://localhost:8080/"
        },
        "outputId": "e7555a2d-ae35-4a8b-c548-3d588003b683"
      },
      "outputs": [
        {
          "output_type": "stream",
          "name": "stdout",
          "text": [
            "----------------------------------------------------------------------------------------------------\n",
            "Fold-1\n",
            "[Training]............................... Model_1\n",
            "[Prediction]............................. Model_1\n",
            "Log loss = 0.3481571180579099      Time 64.96sec\n",
            "[Training]............................... Model_2\n",
            "[Prediction]............................. Model_2\n",
            "Log loss = 0.415434732156648      Time 17.41sec\n",
            "[Training]............................... Model_3\n",
            "[Prediction]............................. Model_3\n",
            "Log loss = 0.4407356773902263      Time 3.56sec\n",
            "[Training]............................... Model_4\n",
            "[Prediction]............................. Model_4\n",
            "Log loss = 0.4693014596943518      Time 3.26sec\n",
            "[Training]............................... Model_5\n",
            "[Prediction]............................. Model_5\n",
            "Log loss = 0.44590043558273657      Time 34.58sec\n",
            "[Training]............................... Model_6\n",
            "[Prediction]............................. Model_6\n",
            "Log loss = 0.42174179932159694      Time 17.97sec\n",
            "log loss = 0.3767919944581336\n",
            "----------------------------------------------------------------------------------------------------\n",
            "\n",
            "\n",
            "\n",
            "----------------------------------------------------------------------------------------------------\n",
            "Fold-2\n",
            "[Training]............................... Model_1\n",
            "[Prediction]............................. Model_1\n",
            "Log loss = 0.295716360146892      Time 88.52sec\n",
            "[Training]............................... Model_2\n",
            "[Prediction]............................. Model_2\n",
            "Log loss = 0.35812390826141577      Time 27.83sec\n",
            "[Training]............................... Model_3\n",
            "[Prediction]............................. Model_3\n",
            "Log loss = 0.37862533260035913      Time 3.44sec\n",
            "[Training]............................... Model_4\n",
            "[Prediction]............................. Model_4\n",
            "Log loss = 0.44916762847892944      Time 3.07sec\n",
            "[Training]............................... Model_5\n",
            "[Prediction]............................. Model_5\n",
            "Log loss = 0.4258388300326713      Time 32.71sec\n",
            "[Training]............................... Model_6\n",
            "[Prediction]............................. Model_6\n",
            "Log loss = 0.39872106775977056      Time 18.62sec\n",
            "log loss = 0.3398209316514837\n",
            "----------------------------------------------------------------------------------------------------\n",
            "\n",
            "\n",
            "\n",
            "----------------------------------------------------------------------------------------------------\n",
            "Fold-3\n",
            "[Training]............................... Model_1\n",
            "[Prediction]............................. Model_1\n",
            "Log loss = 0.32683999861262913      Time 53.60sec\n",
            "[Training]............................... Model_2\n",
            "[Prediction]............................. Model_2\n",
            "Log loss = 0.36842619405387      Time 20.75sec\n",
            "[Training]............................... Model_3\n",
            "[Prediction]............................. Model_3\n",
            "Log loss = 0.3879089277946468      Time 3.33sec\n",
            "[Training]............................... Model_4\n",
            "[Prediction]............................. Model_4\n",
            "Log loss = 0.6265162146302867      Time 2.89sec\n",
            "[Training]............................... Model_5\n",
            "[Prediction]............................. Model_5\n",
            "Log loss = 0.5755836554892572      Time 31.64sec\n",
            "[Training]............................... Model_6\n",
            "[Prediction]............................. Model_6\n",
            "Log loss = 0.40139900835525694      Time 17.31sec\n",
            "log loss = 0.3618181614640297\n",
            "----------------------------------------------------------------------------------------------------\n",
            "\n",
            "\n",
            "\n",
            "----------------------------------------------------------------------------------------------------\n",
            "Fold-4\n",
            "[Training]............................... Model_1\n",
            "[Prediction]............................. Model_1\n",
            "Log loss = 0.3453026069389481      Time 59.09sec\n",
            "[Training]............................... Model_2\n",
            "[Prediction]............................. Model_2\n",
            "Log loss = 0.37354931088965243      Time 20.93sec\n",
            "[Training]............................... Model_3\n",
            "[Prediction]............................. Model_3\n",
            "Log loss = 0.37596423646694355      Time 3.51sec\n",
            "[Training]............................... Model_4\n",
            "[Prediction]............................. Model_4\n",
            "Log loss = 0.49047780166529986      Time 3.14sec\n",
            "[Training]............................... Model_5\n",
            "[Prediction]............................. Model_5\n",
            "Log loss = 0.45724066234390376      Time 44.77sec\n",
            "[Training]............................... Model_6\n",
            "[Prediction]............................. Model_6\n",
            "Log loss = 0.3974829036242305      Time 30.37sec\n",
            "log loss = 0.3713499382203553\n",
            "----------------------------------------------------------------------------------------------------\n",
            "\n",
            "\n",
            "\n",
            "----------------------------------------------------------------------------------------------------\n",
            "Fold-5\n",
            "[Training]............................... Model_1\n",
            "[Prediction]............................. Model_1\n",
            "Log loss = 0.20469040374650435      Time 133.19sec\n",
            "[Training]............................... Model_2\n",
            "[Prediction]............................. Model_2\n",
            "Log loss = 0.28421581660411377      Time 21.25sec\n",
            "[Training]............................... Model_3\n",
            "[Prediction]............................. Model_3\n",
            "Log loss = 0.31304273806024796      Time 3.96sec\n",
            "[Training]............................... Model_4\n",
            "[Prediction]............................. Model_4\n",
            "Log loss = 0.358142738483663      Time 2.88sec\n",
            "[Training]............................... Model_5\n",
            "[Prediction]............................. Model_5\n",
            "Log loss = 0.31686025415223734      Time 32.19sec\n",
            "[Training]............................... Model_6\n",
            "[Prediction]............................. Model_6\n",
            "Log loss = 0.33326848404870607      Time 17.38sec\n",
            "log loss = 0.25545066597042687\n",
            "----------------------------------------------------------------------------------------------------\n",
            "\n",
            "\n",
            "\n",
            "Average log loss = 0.34104633835288584\n",
            "Total log loss 0.7635866987564295\n"
          ]
        }
      ],
      "source": [
        "results = []\n",
        "pres = pd.DataFrame({\"y\":y }, index=X.index)\n",
        "ns = 5\n",
        "tot = []\n",
        "\n",
        "\n",
        "skf = StratifiedKFold(n_splits=ns, random_state=seed, shuffle=True)\n",
        "for fold, (train_index, test_index) in enumerate(skf.split(X, y)):\n",
        "    print(100*\"-\")\n",
        "    print(f\"Fold-{fold+1}\")\n",
        "    X_train, X_test = X.loc[train_index], X.loc[test_index]\n",
        "    y_train, y_test = y.loc[train_index], y.loc[test_index]\n",
        "    \n",
        "    \n",
        "    sampler = ovs.SMOTEN(random_state=0, k_neighbors=0)\n",
        "    X_train, y_train = sampler.fit_resample(X_train, y_train)\n",
        "   \n",
        "\n",
        "\n",
        "    main_model = My_model(get_models())\n",
        "    pred_train, pred_test = main_model.fit_eval_pred(X_train, y_train, [(X_test, y_test)], X_test, test)\n",
        "    try:\n",
        "      loss = log_loss(y_test, pred_train)\n",
        "      print(f\"log loss = {loss}\")\n",
        "      tot += [loss]\n",
        "    except Exception as e:\n",
        "      print(e)\n",
        "    results.append(pred_test)\n",
        "    pres.loc[test_index, labels_train] = pred_train\n",
        "\n",
        "    print(100*\"-\")\n",
        "    print(\"\\n\\n\")\n",
        "\n",
        "print(f\"Average log loss = {sum(tot) / len(tot)}\")\n",
        "print(f\"Total log loss {log_loss(y[:train_df.shape[0]], pres[pres.columns[1:]][:train_df.shape[0]])}\")\n",
        "# 3.1515003792833696"
      ]
    },
    {
      "cell_type": "code",
      "execution_count": null,
      "metadata": {
        "id": "9Va3PDZJOgUo"
      },
      "outputs": [],
      "source": [
        "# Average log loss = 0.34104633835288584\n",
        "# Total log loss 0.7635866987564295\n",
        "splitted_pred = np.mean(results, axis=0)"
      ]
    },
    {
      "cell_type": "markdown",
      "source": [
        "#### Full Data Predictions"
      ],
      "metadata": {
        "id": "hgTH8AKkzFzO"
      }
    },
    {
      "cell_type": "code",
      "source": [
        "# model function based on voting classifier         \n",
        "def model(seed=21, weights=None):\n",
        "\n",
        "    rnf_params = {'max_depth': 12, 'max_features':'sqrt', 'n_estimators': 1000, 'random_state': seed}\n",
        "    lgb_params = {'learning_rate':0.01, 'n_estimators':800, 'random_state':seed, 'verbose':-1, 'subsample':1.0, 'colsample_bytree' : 0.6}\n",
        "    xgb_params = {\"eta\":0.1, 'n_estimators': 200, 'random_state':seed, 'objective':'mlogloss',\n",
        "                \"eval_metric\":'mlogloss', \"subsample\" : 1.0, \"colsample_bytree\" : .8}\n",
        "    cat_params = {\"iterations\":1000, \"learning_rate\":0.01, \"verbose\":0, \"random_state\":seed}\n",
        "    gbc_params = {'learning_rate':0.01, 'n_estimators':1000, 'max_depth':3, 'random_state':seed, \n",
        "                  'max_features':'log2', 'validation_fraction':0.1}\n",
        "\n",
        "    models = [\n",
        "            ('lgb', LGBMClassifier(**lgb_params)),\n",
        "            ('rnd', RandomForestClassifier(**rnf_params)),\n",
        "            ('xgb', XGBClassifier(**xgb_params)),\n",
        "            ('cat', CatBoostClassifier(**cat_params)),\n",
        "            ('gbc', GradientBoostingClassifier(**gbc_params)),\n",
        "            ('bag', BaggingClassifier(RandomForestClassifier(), n_jobs=-1, max_features=0.9, random_state=seed)),\n",
        "    ]\n",
        "    return VotingClassifier(estimators=models, voting='soft', flatten_transform=True, verbose=1, weights=weights)"
      ],
      "metadata": {
        "id": "BpXFMsa3y90P"
      },
      "execution_count": null,
      "outputs": []
    },
    {
      "cell_type": "code",
      "execution_count": null,
      "metadata": {
        "colab": {
          "base_uri": "https://localhost:8080/"
        },
        "id": "fRM2O8y9OgUp",
        "outputId": "1d02cd34-0770-4bd1-8b44-c923b49f3a2c"
      },
      "outputs": [
        {
          "output_type": "stream",
          "name": "stdout",
          "text": [
            "\n",
            "\n",
            "------------------------------------------------------------\n",
            "seed = 0\n",
            "[Voting] ...................... (1 of 6) Processing lgb, total=  20.1s\n",
            "[Voting] ...................... (2 of 6) Processing rnd, total=   3.3s\n",
            "[Voting] ...................... (3 of 6) Processing xgb, total=   3.5s\n",
            "[Voting] ...................... (4 of 6) Processing cat, total=  47.7s\n",
            "[Voting] ...................... (5 of 6) Processing gbc, total=  24.8s\n",
            "[Voting] ...................... (6 of 6) Processing bag, total=   2.4s\n",
            "0.1062110029836474\n",
            "\n",
            "\n",
            "------------------------------------------------------------\n",
            "seed = 21\n",
            "[Voting] ...................... (1 of 6) Processing lgb, total=  20.6s\n",
            "[Voting] ...................... (2 of 6) Processing rnd, total=   3.5s\n",
            "[Voting] ...................... (3 of 6) Processing xgb, total=   3.7s\n",
            "[Voting] ...................... (4 of 6) Processing cat, total=  48.4s\n",
            "[Voting] ...................... (5 of 6) Processing gbc, total=  24.4s\n",
            "[Voting] ...................... (6 of 6) Processing bag, total=   2.4s\n",
            "0.10655992935364554\n",
            "\n",
            "\n",
            "------------------------------------------------------------\n",
            "seed = 251\n",
            "[Voting] ...................... (1 of 6) Processing lgb, total=  19.5s\n",
            "[Voting] ...................... (2 of 6) Processing rnd, total=   3.0s\n",
            "[Voting] ...................... (3 of 6) Processing xgb, total=   3.5s\n",
            "[Voting] ...................... (4 of 6) Processing cat, total=  46.4s\n",
            "[Voting] ...................... (5 of 6) Processing gbc, total=  23.8s\n",
            "[Voting] ...................... (6 of 6) Processing bag, total=   2.5s\n",
            "0.10710917303902165\n",
            "\n",
            "\n",
            "------------------------------------------------------------\n",
            "seed = 871\n",
            "[Voting] ...................... (1 of 6) Processing lgb, total=  19.3s\n",
            "[Voting] ...................... (2 of 6) Processing rnd, total=   3.0s\n",
            "[Voting] ...................... (3 of 6) Processing xgb, total=   3.5s\n",
            "[Voting] ...................... (4 of 6) Processing cat, total=  46.2s\n",
            "[Voting] ...................... (5 of 6) Processing gbc, total=  24.0s\n",
            "[Voting] ...................... (6 of 6) Processing bag, total=   2.4s\n",
            "0.10655894605612984\n",
            "\n",
            "\n",
            "------------------------------------------------------------\n",
            "seed = 1992\n",
            "[Voting] ...................... (1 of 6) Processing lgb, total=  19.4s\n",
            "[Voting] ...................... (2 of 6) Processing rnd, total=   2.9s\n",
            "[Voting] ...................... (3 of 6) Processing xgb, total=   3.5s\n",
            "[Voting] ...................... (4 of 6) Processing cat, total=  46.6s\n",
            "[Voting] ...................... (5 of 6) Processing gbc, total=  24.1s\n",
            "[Voting] ...................... (6 of 6) Processing bag, total=   2.3s\n",
            "0.10692931172711885\n"
          ]
        }
      ],
      "source": [
        "results2 = []\n",
        "for s in [0, 21, 251, 871, 1992]: # run over different seeds and average the results\n",
        "    print(\"\\n\\n\"+'-'*60+f\"\\nseed = {s}\")\n",
        "    clf = model(seed=s)\n",
        "    clf.fit(X, y)\n",
        "    print(log_loss(y, clf.predict_proba(X)))\n",
        "\n",
        "    results2.append(clf.predict_proba(test))"
      ]
    },
    {
      "cell_type": "code",
      "execution_count": null,
      "metadata": {
        "colab": {
          "base_uri": "https://localhost:8080/"
        },
        "id": "PLbwnjFNOgUq",
        "outputId": "105a0e6e-3241-4996-ac9f-02cfeb2d424f"
      },
      "outputs": [
        {
          "output_type": "execute_result",
          "data": {
            "text/plain": [
              "(558, 13)"
            ]
          },
          "metadata": {},
          "execution_count": 79
        }
      ],
      "source": [
        "full_pred = np.mean(results2, axis=0)\n",
        "full_pred.shape"
      ]
    },
    {
      "cell_type": "markdown",
      "metadata": {
        "id": "XmdKomQEOgUs"
      },
      "source": [
        "### 4.2 3rd level"
      ]
    },
    {
      "cell_type": "code",
      "execution_count": null,
      "metadata": {
        "id": "34F6WECkOgUt"
      },
      "outputs": [],
      "source": [
        "# Class to simplify training and prediction\n",
        "class BaseModel(object):\n",
        "\n",
        "    def __init__(self, model, params):\n",
        "        self.model = model(**params)\n",
        "\n",
        "    def __str__(self):\n",
        "        return str(model).split('(')[0]\n",
        "\n",
        "    def train(self, X, y):\n",
        "        self.model.fit(X, y)\n",
        "    \n",
        "    def predict(self, X):\n",
        "        return self.model.predict_proba(X)\n",
        "\n",
        "# get a splitted prediction of the train and test from one model\n",
        "def get_predicions(model, name, params, splitter, X, y, test, verbose=1):\n",
        "\n",
        "    train_pred = np.zeros((X.shape[0], 13))\n",
        "    test_preds = []\n",
        "    print(name)\n",
        "    for i, (train_index, test_index) in enumerate(splitter.split(X, y)):\n",
        "        if verbose:\n",
        "            print(f\"fold {i} \", end=\" \")\n",
        "        clf = BaseModel(model, params)\n",
        "        x_tr = X.loc[train_index]\n",
        "        y_tr = y[train_index]\n",
        "        x_te = X.loc[test_index]\n",
        "        st = time.time()\n",
        "        clf.train(x_tr, y_tr)\n",
        "\n",
        "        train_pred[test_index] = clf.predict(x_te)\n",
        "        test_preds.append(clf.predict(test))\n",
        "        if verbose:\n",
        "            print(f\"Time {time.time()-st:.2f}\")\n",
        "    if verbose:\n",
        "        print()\n",
        "\n",
        "    test_pred = np.mean(test_preds, axis=0)\n",
        "    cols = [f'{str(name)}_{i}' for i in range(13)]\n",
        "\n",
        "    return pd.DataFrame(train_pred, columns=cols), pd.DataFrame(test_pred, columns=cols)\n",
        "\n",
        "# generate a dataframe from different models using their predictions as feature for stacking\n",
        "def get_full_df(models_list, splitter, X, y, test, verbose=1):\n",
        "    train_df = pd.DataFrame()\n",
        "    test_df = pd.DataFrame()\n",
        "\n",
        "    for nam, mod, par in models_list:\n",
        "        tr_df, ts_df = get_predicions(mod, nam, par, splitter, X, y, test, verbose)\n",
        "        for col in tr_df.columns:\n",
        "            train_df[col] = tr_df[col]\n",
        "            test_df[col] = ts_df[col]\n",
        "        \n",
        "    return train_df, test_df"
      ]
    },
    {
      "cell_type": "code",
      "execution_count": null,
      "metadata": {
        "colab": {
          "base_uri": "https://localhost:8080/"
        },
        "id": "X3_zsjgVOgUu",
        "outputId": "b62b6ba6-af6b-49d6-b8bc-ee0ab1e80f6e"
      },
      "outputs": [
        {
          "output_type": "stream",
          "name": "stdout",
          "text": [
            "cat\n",
            "fold 0  Time 30.24\n",
            "fold 1  Time 30.44\n",
            "fold 2  Time 30.41\n",
            "fold 3  Time 30.58\n",
            "fold 4  Time 30.46\n",
            "\n",
            "lgb\n",
            "fold 0  Time 9.14\n",
            "fold 1  Time 9.15\n",
            "fold 2  Time 8.99\n",
            "fold 3  Time 9.11\n",
            "fold 4  Time 9.21\n",
            "\n",
            "xgb\n",
            "fold 0  Time 2.93\n",
            "fold 1  Time 2.95\n",
            "fold 2  Time 2.94\n",
            "fold 3  Time 2.96\n",
            "fold 4  Time 2.97\n",
            "\n",
            "rnf\n",
            "fold 0  Time 3.02\n",
            "fold 1  Time 3.03\n",
            "fold 2  Time 3.01\n",
            "fold 3  Time 3.05\n",
            "fold 4  Time 3.07\n",
            "\n",
            "etc\n",
            "fold 0  Time 2.69\n",
            "fold 1  Time 2.77\n",
            "fold 2  Time 2.77\n",
            "fold 3  Time 2.79\n",
            "fold 4  Time 2.78\n",
            "\n",
            "gbc\n",
            "fold 0  Time 31.16\n",
            "fold 1  Time 26.18\n",
            "fold 2  Time 33.03\n",
            "fold 3  Time 35.97\n",
            "fold 4  Time 40.72\n",
            "\n"
          ]
        }
      ],
      "source": [
        "# lower level models for stacking\n",
        "et_params = {'n_estimators':1000, 'max_features': 'sqrt', 'max_depth':16, 'random_state':seed,\n",
        "                'min_samples_leaf':2,  'verbose':0, 'n_jobs': -1}\n",
        "\n",
        "gbc_params = {'learning_rate':0.001, 'n_estimators':1000, 'subsample':1, 'min_samples_split':2, \n",
        "                'min_samples_leaf':1, 'max_depth':4,  'random_state':seed, 'max_features':'log2',  \n",
        "                'validation_fraction':0.1}\n",
        "\n",
        "rnf_params = {'max_depth': 12, 'max_features':'sqrt', 'n_estimators': 1000, 'random_state': seed}\n",
        "lgb_params = {'learning_rate':0.01, 'n_estimators':400, 'random_state':seed, 'verbose':-1, 'subsample':1.0, 'colsample_bytree' : 0.6}\n",
        "xgb_params = {\"eta\":0.1, 'n_estimators': 200, 'random_state':seed, \"subsample\" : 1.0, \n",
        "              \"colsample_bytree\" : .8, 'objective':'mlogloss', 'eval_metric':'mlogloss'}\n",
        "cat_params = {\"iterations\":700, \"learning_rate\":0.01, \"verbose\":0, \"random_state\":seed}\n",
        "\n",
        "models = [\n",
        "        ('cat', CatBoostClassifier, cat_params),   \n",
        "        ('lgb', LGBMClassifier, lgb_params),\n",
        "        ('xgb', XGBClassifier, xgb_params),\n",
        "        ('rnf', RandomForestClassifier, rnf_params),\n",
        "        ('etc', ExtraTreesClassifier, et_params),\n",
        "        ('gbc', GradientBoostingClassifier, gbc_params),\n",
        "]\n",
        "skf = StratifiedKFold(n_splits=5, random_state=seed, shuffle=True)\n",
        "Train_df, Test_df = get_full_df(models, skf, X, y, test)"
      ]
    },
    {
      "cell_type": "code",
      "execution_count": null,
      "metadata": {
        "id": "OTiJVXEHOgUw"
      },
      "outputs": [],
      "source": [
        "# train a neural net with no hidden layers in the second stage from the predictions of the lower level models\n",
        "mlp_params = {\"hidden_layer_sizes\":(), 'activation':'relu', 'solver':'adam',\n",
        "        \"learning_rate_init\":0.001, \"max_iter\":100, \"random_state\":seed, \"verbose\":False,\n",
        "        'learning_rate':'invscaling', 'batch_size':26}"
      ]
    },
    {
      "cell_type": "code",
      "execution_count": null,
      "metadata": {
        "colab": {
          "base_uri": "https://localhost:8080/"
        },
        "id": "C85B1ORvOgUx",
        "outputId": "c32cf364-bb4d-476c-b41b-50a5f88d1126"
      },
      "outputs": [
        {
          "output_type": "stream",
          "name": "stdout",
          "text": [
            "Fold 1\n",
            "log loss = 0.4286346632308669\n",
            "Fold 2\n",
            "log loss = 0.3990070945138576\n",
            "Fold 3\n",
            "log loss = 0.38090943951520917\n",
            "Fold 4\n",
            "log loss = 0.3605670484992281\n",
            "Fold 5\n",
            "log loss = 0.2923482277332944\n",
            "\n",
            "AVG log loss = 0.3722932946984912\n"
          ]
        }
      ],
      "source": [
        "preds = []\n",
        "tot = 0 \n",
        "for fold, (tr_inx, ts_inx) in enumerate(skf.split(Train_df, y)):\n",
        "    tr_df, y_tr = Train_df.loc[tr_inx], y[tr_inx] # training\n",
        "    ts_df, y_ts = Train_df.loc[ts_inx], y[ts_inx] # validation\n",
        "    \n",
        "    print(f\"Fold {fold+1}\")\n",
        "\n",
        "    main_clf = MLPClassifier(**mlp_params)\n",
        "    main_clf.fit(tr_df, y_tr)\n",
        "\n",
        "    p = main_clf.predict_proba(ts_df) # for validation loss\n",
        "    print(f\"log loss = {log_loss(y_ts, p)}\")\n",
        "\n",
        "    preds.append(main_clf.predict_proba(Test_df)) # Testing data prediction\n",
        "\n",
        "    tot += log_loss(y_ts, p)\n",
        "print()\n",
        "print(\"AVG log loss =\", tot/5)\n",
        "# 0.37786380412946546"
      ]
    },
    {
      "cell_type": "code",
      "execution_count": null,
      "metadata": {
        "id": "jEWeL5OzOgUy"
      },
      "outputs": [],
      "source": [
        "# AVG log loss = 0.3722932946984912\n",
        "stacked_pred = np.mean(preds, axis=0)"
      ]
    },
    {
      "cell_type": "markdown",
      "metadata": {
        "id": "XJnV9lsd2-s-"
      },
      "source": [
        "## 5. Making the submission"
      ]
    },
    {
      "cell_type": "code",
      "execution_count": null,
      "metadata": {
        "colab": {
          "base_uri": "https://localhost:8080/"
        },
        "id": "0ruMEX5ZEvVa",
        "outputId": "f5f99a44-9589-49ab-9844-b414895485c5"
      },
      "outputs": [
        {
          "output_type": "execute_result",
          "data": {
            "text/plain": [
              "(558, 13)"
            ]
          },
          "metadata": {},
          "execution_count": 88
        }
      ],
      "source": [
        "# using the proportion 33:33:33 average the predictions\n",
        "avg_pred = splitted_pred*.33 + full_pred*.33 + stacked_pred*.33\n",
        "avg_pred.shape"
      ]
    },
    {
      "cell_type": "code",
      "execution_count": null,
      "metadata": {
        "colab": {
          "base_uri": "https://localhost:8080/",
          "height": 285
        },
        "id": "tq-J25SqOgU1",
        "outputId": "866384b3-34e3-4f45-89a9-06ff11f55ffd"
      },
      "outputs": [
        {
          "output_type": "execute_result",
          "data": {
            "text/plain": [
              "  Transaction_ID  Bills & Fees  Data & WiFi  Education  Emergency fund  \\\n",
              "0    ID_00x9h2yx      0.129177     0.012778   0.002665        0.491580   \n",
              "1    ID_01db594f      0.014846     0.001946   0.000321        0.006612   \n",
              "2    ID_07pm99no      0.027607     0.002263   0.000874        0.005071   \n",
              "3    ID_09jryhkd      0.315177     0.017227   0.014521        0.021028   \n",
              "4    ID_0ccv924c      0.698791     0.009845   0.001779        0.066533   \n",
              "\n",
              "   Family & Friends  Going out  Groceries    Health  Loan Repayment  \\\n",
              "0          0.201146   0.010847   0.030392  0.006654        0.005605   \n",
              "1          0.003522   0.919335   0.010247  0.001073        0.000735   \n",
              "2          0.008310   0.460114   0.142731  0.001653        0.001578   \n",
              "3          0.034157   0.052741   0.014949  0.012954        0.090586   \n",
              "4          0.027956   0.034549   0.018702  0.005718        0.036612   \n",
              "\n",
              "   Miscellaneous  Rent / Mortgage  Shopping  Transport & Fuel  \n",
              "0       0.035548         0.007249  0.045082          0.011278  \n",
              "1       0.013070         0.000551  0.006866          0.010876  \n",
              "2       0.244892         0.001129  0.016891          0.076888  \n",
              "3       0.284796         0.089963  0.020100          0.021801  \n",
              "4       0.022892         0.031271  0.017260          0.018092  "
            ],
            "text/html": [
              "\n",
              "  <div id=\"df-a57ee68c-32bf-480e-b90c-fa04e5b8d5b6\">\n",
              "    <div class=\"colab-df-container\">\n",
              "      <div>\n",
              "<style scoped>\n",
              "    .dataframe tbody tr th:only-of-type {\n",
              "        vertical-align: middle;\n",
              "    }\n",
              "\n",
              "    .dataframe tbody tr th {\n",
              "        vertical-align: top;\n",
              "    }\n",
              "\n",
              "    .dataframe thead th {\n",
              "        text-align: right;\n",
              "    }\n",
              "</style>\n",
              "<table border=\"1\" class=\"dataframe\">\n",
              "  <thead>\n",
              "    <tr style=\"text-align: right;\">\n",
              "      <th></th>\n",
              "      <th>Transaction_ID</th>\n",
              "      <th>Bills &amp; Fees</th>\n",
              "      <th>Data &amp; WiFi</th>\n",
              "      <th>Education</th>\n",
              "      <th>Emergency fund</th>\n",
              "      <th>Family &amp; Friends</th>\n",
              "      <th>Going out</th>\n",
              "      <th>Groceries</th>\n",
              "      <th>Health</th>\n",
              "      <th>Loan Repayment</th>\n",
              "      <th>Miscellaneous</th>\n",
              "      <th>Rent / Mortgage</th>\n",
              "      <th>Shopping</th>\n",
              "      <th>Transport &amp; Fuel</th>\n",
              "    </tr>\n",
              "  </thead>\n",
              "  <tbody>\n",
              "    <tr>\n",
              "      <th>0</th>\n",
              "      <td>ID_00x9h2yx</td>\n",
              "      <td>0.129177</td>\n",
              "      <td>0.012778</td>\n",
              "      <td>0.002665</td>\n",
              "      <td>0.491580</td>\n",
              "      <td>0.201146</td>\n",
              "      <td>0.010847</td>\n",
              "      <td>0.030392</td>\n",
              "      <td>0.006654</td>\n",
              "      <td>0.005605</td>\n",
              "      <td>0.035548</td>\n",
              "      <td>0.007249</td>\n",
              "      <td>0.045082</td>\n",
              "      <td>0.011278</td>\n",
              "    </tr>\n",
              "    <tr>\n",
              "      <th>1</th>\n",
              "      <td>ID_01db594f</td>\n",
              "      <td>0.014846</td>\n",
              "      <td>0.001946</td>\n",
              "      <td>0.000321</td>\n",
              "      <td>0.006612</td>\n",
              "      <td>0.003522</td>\n",
              "      <td>0.919335</td>\n",
              "      <td>0.010247</td>\n",
              "      <td>0.001073</td>\n",
              "      <td>0.000735</td>\n",
              "      <td>0.013070</td>\n",
              "      <td>0.000551</td>\n",
              "      <td>0.006866</td>\n",
              "      <td>0.010876</td>\n",
              "    </tr>\n",
              "    <tr>\n",
              "      <th>2</th>\n",
              "      <td>ID_07pm99no</td>\n",
              "      <td>0.027607</td>\n",
              "      <td>0.002263</td>\n",
              "      <td>0.000874</td>\n",
              "      <td>0.005071</td>\n",
              "      <td>0.008310</td>\n",
              "      <td>0.460114</td>\n",
              "      <td>0.142731</td>\n",
              "      <td>0.001653</td>\n",
              "      <td>0.001578</td>\n",
              "      <td>0.244892</td>\n",
              "      <td>0.001129</td>\n",
              "      <td>0.016891</td>\n",
              "      <td>0.076888</td>\n",
              "    </tr>\n",
              "    <tr>\n",
              "      <th>3</th>\n",
              "      <td>ID_09jryhkd</td>\n",
              "      <td>0.315177</td>\n",
              "      <td>0.017227</td>\n",
              "      <td>0.014521</td>\n",
              "      <td>0.021028</td>\n",
              "      <td>0.034157</td>\n",
              "      <td>0.052741</td>\n",
              "      <td>0.014949</td>\n",
              "      <td>0.012954</td>\n",
              "      <td>0.090586</td>\n",
              "      <td>0.284796</td>\n",
              "      <td>0.089963</td>\n",
              "      <td>0.020100</td>\n",
              "      <td>0.021801</td>\n",
              "    </tr>\n",
              "    <tr>\n",
              "      <th>4</th>\n",
              "      <td>ID_0ccv924c</td>\n",
              "      <td>0.698791</td>\n",
              "      <td>0.009845</td>\n",
              "      <td>0.001779</td>\n",
              "      <td>0.066533</td>\n",
              "      <td>0.027956</td>\n",
              "      <td>0.034549</td>\n",
              "      <td>0.018702</td>\n",
              "      <td>0.005718</td>\n",
              "      <td>0.036612</td>\n",
              "      <td>0.022892</td>\n",
              "      <td>0.031271</td>\n",
              "      <td>0.017260</td>\n",
              "      <td>0.018092</td>\n",
              "    </tr>\n",
              "  </tbody>\n",
              "</table>\n",
              "</div>\n",
              "      <button class=\"colab-df-convert\" onclick=\"convertToInteractive('df-a57ee68c-32bf-480e-b90c-fa04e5b8d5b6')\"\n",
              "              title=\"Convert this dataframe to an interactive table.\"\n",
              "              style=\"display:none;\">\n",
              "        \n",
              "  <svg xmlns=\"http://www.w3.org/2000/svg\" height=\"24px\"viewBox=\"0 0 24 24\"\n",
              "       width=\"24px\">\n",
              "    <path d=\"M0 0h24v24H0V0z\" fill=\"none\"/>\n",
              "    <path d=\"M18.56 5.44l.94 2.06.94-2.06 2.06-.94-2.06-.94-.94-2.06-.94 2.06-2.06.94zm-11 1L8.5 8.5l.94-2.06 2.06-.94-2.06-.94L8.5 2.5l-.94 2.06-2.06.94zm10 10l.94 2.06.94-2.06 2.06-.94-2.06-.94-.94-2.06-.94 2.06-2.06.94z\"/><path d=\"M17.41 7.96l-1.37-1.37c-.4-.4-.92-.59-1.43-.59-.52 0-1.04.2-1.43.59L10.3 9.45l-7.72 7.72c-.78.78-.78 2.05 0 2.83L4 21.41c.39.39.9.59 1.41.59.51 0 1.02-.2 1.41-.59l7.78-7.78 2.81-2.81c.8-.78.8-2.07 0-2.86zM5.41 20L4 18.59l7.72-7.72 1.47 1.35L5.41 20z\"/>\n",
              "  </svg>\n",
              "      </button>\n",
              "      \n",
              "  <style>\n",
              "    .colab-df-container {\n",
              "      display:flex;\n",
              "      flex-wrap:wrap;\n",
              "      gap: 12px;\n",
              "    }\n",
              "\n",
              "    .colab-df-convert {\n",
              "      background-color: #E8F0FE;\n",
              "      border: none;\n",
              "      border-radius: 50%;\n",
              "      cursor: pointer;\n",
              "      display: none;\n",
              "      fill: #1967D2;\n",
              "      height: 32px;\n",
              "      padding: 0 0 0 0;\n",
              "      width: 32px;\n",
              "    }\n",
              "\n",
              "    .colab-df-convert:hover {\n",
              "      background-color: #E2EBFA;\n",
              "      box-shadow: 0px 1px 2px rgba(60, 64, 67, 0.3), 0px 1px 3px 1px rgba(60, 64, 67, 0.15);\n",
              "      fill: #174EA6;\n",
              "    }\n",
              "\n",
              "    [theme=dark] .colab-df-convert {\n",
              "      background-color: #3B4455;\n",
              "      fill: #D2E3FC;\n",
              "    }\n",
              "\n",
              "    [theme=dark] .colab-df-convert:hover {\n",
              "      background-color: #434B5C;\n",
              "      box-shadow: 0px 1px 3px 1px rgba(0, 0, 0, 0.15);\n",
              "      filter: drop-shadow(0px 1px 2px rgba(0, 0, 0, 0.3));\n",
              "      fill: #FFFFFF;\n",
              "    }\n",
              "  </style>\n",
              "\n",
              "      <script>\n",
              "        const buttonEl =\n",
              "          document.querySelector('#df-a57ee68c-32bf-480e-b90c-fa04e5b8d5b6 button.colab-df-convert');\n",
              "        buttonEl.style.display =\n",
              "          google.colab.kernel.accessAllowed ? 'block' : 'none';\n",
              "\n",
              "        async function convertToInteractive(key) {\n",
              "          const element = document.querySelector('#df-a57ee68c-32bf-480e-b90c-fa04e5b8d5b6');\n",
              "          const dataTable =\n",
              "            await google.colab.kernel.invokeFunction('convertToInteractive',\n",
              "                                                     [key], {});\n",
              "          if (!dataTable) return;\n",
              "\n",
              "          const docLinkHtml = 'Like what you see? Visit the ' +\n",
              "            '<a target=\"_blank\" href=https://colab.research.google.com/notebooks/data_table.ipynb>data table notebook</a>'\n",
              "            + ' to learn more about interactive tables.';\n",
              "          element.innerHTML = '';\n",
              "          dataTable['output_type'] = 'display_data';\n",
              "          await google.colab.output.renderOutput(dataTable, element);\n",
              "          const docLink = document.createElement('div');\n",
              "          docLink.innerHTML = docLinkHtml;\n",
              "          element.appendChild(docLink);\n",
              "        }\n",
              "      </script>\n",
              "    </div>\n",
              "  </div>\n",
              "  "
            ]
          },
          "metadata": {},
          "execution_count": 89
        }
      ],
      "source": [
        "preds = avg_pred\n",
        "preds_df = pd.DataFrame(preds, columns=labels_train)\n",
        "preds_df = pd.concat(objs=[pd.DataFrame({\"Transaction_ID\":ID}), preds_df], axis=\"columns\")\n",
        "preds_df.head()"
      ]
    },
    {
      "cell_type": "markdown",
      "metadata": {
        "id": "xway9nYc3s1m"
      },
      "source": [
        "Save results in the CSV file."
      ]
    },
    {
      "cell_type": "code",
      "execution_count": null,
      "metadata": {
        "id": "XoLeuE4M3uSs"
      },
      "outputs": [],
      "source": [
        "# Create the submission csv file\n",
        "preds_df.to_csv('/content/best_score.csv', index=False)"
      ]
    },
    {
      "cell_type": "code",
      "source": [
        ""
      ],
      "metadata": {
        "id": "R3PSv6089H6_"
      },
      "execution_count": null,
      "outputs": []
    }
  ],
  "metadata": {
    "colab": {
      "collapsed_sections": [],
      "name": "Alvin.ipynb",
      "provenance": []
    },
    "kernelspec": {
      "display_name": "Python 3.8.10 ('env')",
      "language": "python",
      "name": "python3"
    },
    "language_info": {
      "codemirror_mode": {
        "name": "ipython",
        "version": 3
      },
      "file_extension": ".py",
      "mimetype": "text/x-python",
      "name": "python",
      "nbconvert_exporter": "python",
      "pygments_lexer": "ipython3",
      "version": "3.8.10"
    },
    "vscode": {
      "interpreter": {
        "hash": "cca8ba6e424ea098e03391f9473d43e52ce39ba0653d5333abec2813b5a5e14d"
      }
    }
  },
  "nbformat": 4,
  "nbformat_minor": 0
}