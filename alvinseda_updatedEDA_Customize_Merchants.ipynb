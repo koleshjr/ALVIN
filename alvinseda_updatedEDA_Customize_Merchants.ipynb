{
  "cells": [
    {
      "cell_type": "markdown",
      "metadata": {
        "id": "view-in-github",
        "colab_type": "text"
      },
      "source": [
        "<a href=\"https://colab.research.google.com/github/koleshjr/collab_projects/blob/main/alvinseda_updatedEDA_Customize_Merchants.ipynb\" target=\"_parent\"><img src=\"https://colab.research.google.com/assets/colab-badge.svg\" alt=\"Open In Colab\"/></a>"
      ]
    },
    {
      "cell_type": "markdown",
      "metadata": {
        "id": "mZLscu2Qk3yQ"
      },
      "source": [
        "# ALVIN'S EDA"
      ]
    },
    {
      "cell_type": "code",
      "execution_count": 355,
      "metadata": {
        "colab": {
          "base_uri": "https://localhost:8080/"
        },
        "id": "qMrVwbhRk5lo",
        "outputId": "f9dffb42-09e7-474c-857e-171bf1afa899"
      },
      "outputs": [
        {
          "output_type": "stream",
          "name": "stdout",
          "text": [
            "Drive already mounted at /content/drive; to attempt to forcibly remount, call drive.mount(\"/content/drive\", force_remount=True).\n"
          ]
        }
      ],
      "source": [
        "from google.colab import drive\n",
        "drive.mount('/content/drive')"
      ]
    },
    {
      "cell_type": "code",
      "execution_count": 356,
      "metadata": {
        "id": "NibA07HVlZyh"
      },
      "outputs": [],
      "source": [
        "# !pip install catboost"
      ]
    },
    {
      "cell_type": "markdown",
      "metadata": {
        "id": "X5XONJdCk3yU"
      },
      "source": [
        "### Import all the necessary Libraries"
      ]
    },
    {
      "cell_type": "code",
      "execution_count": 357,
      "metadata": {
        "id": "_CpTF3unk3yV"
      },
      "outputs": [],
      "source": [
        "#Import some libraries\n",
        "import pandas as pd\n",
        "import numpy as np\n",
        "import gc\n",
        "import matplotlib.pyplot as plt\n",
        "import plotly.express as px\n",
        "from pylab import rcParams\n",
        "import seaborn as sb\n",
        "sb.set_style('darkgrid')\n",
        "rcParams['figure.figsize'] = 8,8\n",
        "import warnings\n",
        "warnings.filterwarnings(\"ignore\")\n",
        "%matplotlib inline\n",
        "# from imblearn.over_sampling import SMOTE\n",
        "\n",
        "pd.options.display.max_rows = 2200"
      ]
    },
    {
      "cell_type": "code",
      "execution_count": 358,
      "metadata": {
        "id": "IScujX6Vk3yY"
      },
      "outputs": [],
      "source": [
        "path = \"/content/drive/MyDrive/Final_alvin/\""
      ]
    },
    {
      "cell_type": "markdown",
      "metadata": {
        "id": "li3KXBktk3yZ"
      },
      "source": [
        "### Load the datasets and find statistical information about them"
      ]
    },
    {
      "cell_type": "code",
      "execution_count": 359,
      "metadata": {
        "id": "9uCHG2F1k3ya"
      },
      "outputs": [],
      "source": [
        "#import data\n",
        "train = pd.read_csv(path+'Train.csv')\n",
        "test=  pd.read_csv(path+'Test.csv')\n",
        "submission = pd.read_csv(path+'SampleSubmission.csv')\n",
        "vardef = pd.read_csv(path+\"VariableDefinitions.csv\")\n",
        "extra = pd.read_csv(path+\"extra_data.csv\")"
      ]
    },
    {
      "cell_type": "code",
      "execution_count": 360,
      "metadata": {
        "colab": {
          "base_uri": "https://localhost:8080/"
        },
        "id": "AUC_WKUVk3yb",
        "outputId": "b8cdf915-e268-460a-84fe-8bc22e8920ab"
      },
      "outputs": [
        {
          "output_type": "execute_result",
          "data": {
            "text/plain": [
              "((373, 12), (558, 11), (10000, 12))"
            ]
          },
          "metadata": {},
          "execution_count": 360
        }
      ],
      "source": [
        "train.shape,test.shape,extra.shape"
      ]
    },
    {
      "cell_type": "code",
      "execution_count": 361,
      "metadata": {
        "colab": {
          "base_uri": "https://localhost:8080/",
          "height": 427
        },
        "id": "PXazIUSWk3yc",
        "outputId": "8387a69b-3e81-4617-8688-7ff6e928716d"
      },
      "outputs": [
        {
          "output_type": "execute_result",
          "data": {
            "text/plain": [
              "         MERCHANT_CATEGORIZED_AT                      MERCHANT_NAME  \\\n",
              "0  2022-05-04 10:25:50.588042+00  UONSDA CHURCH  MOGERE MWAYO TITHE   \n",
              "1  2021-10-25 16:18:38.586837+00                          PARK N GO   \n",
              "2  2022-05-20 14:17:30.917297+00         SAFARICOM OFFERS  TUNUKIWA   \n",
              "3  2022-04-12 15:59:14.139347+00            ZILLIONS CREDIT LIMITED   \n",
              "4  2022-05-04 10:24:26.709045+00                    MICHAEL MUSEMBI   \n",
              "\n",
              "  MERCHANT_CATEGORIZED_AS  PURCHASE_VALUE            PURCHASED_AT  \\\n",
              "0         Rent / Mortgage            1700  2022-05-04 13:56:00+00   \n",
              "1        Transport & Fuel             100  2021-10-24 14:12:00+00   \n",
              "2             Data & WiFi              20  2022-05-27 12:46:00+00   \n",
              "3          Loan Repayment            3800  2022-02-07 12:16:00+00   \n",
              "4            Bills & Fees              60  2022-05-04 15:28:00+00   \n",
              "\n",
              "   IS_PURCHASE_PAID_VIA_MPESA_SEND_MONEY  USER_AGE USER_GENDER  \\\n",
              "0                                  False       NaN        Male   \n",
              "1                                  False      25.0      Female   \n",
              "2                                  False       NaN        Male   \n",
              "3                                  False       NaN        Male   \n",
              "4                                  False       NaN        Male   \n",
              "\n",
              "   USER_HOUSEHOLD  USER_INCOME      USER_ID Transaction_ID  \n",
              "0               3        10000  ID_ZX4DCF4K    ID_04mk78fa  \n",
              "1               4        90000  ID_U9WZMGJZ    ID_04xkfb07  \n",
              "2               3        10000  ID_ZX4DCF4K    ID_051urwuw  \n",
              "3               5       252000  ID_3JA0MAFB    ID_0e1om7rz  \n",
              "4               3        10000  ID_ZX4DCF4K    ID_0kfcoawb  "
            ],
            "text/html": [
              "\n",
              "  <div id=\"df-e2f65b4e-e5d1-410b-b068-e0ddab98c0de\">\n",
              "    <div class=\"colab-df-container\">\n",
              "      <div>\n",
              "<style scoped>\n",
              "    .dataframe tbody tr th:only-of-type {\n",
              "        vertical-align: middle;\n",
              "    }\n",
              "\n",
              "    .dataframe tbody tr th {\n",
              "        vertical-align: top;\n",
              "    }\n",
              "\n",
              "    .dataframe thead th {\n",
              "        text-align: right;\n",
              "    }\n",
              "</style>\n",
              "<table border=\"1\" class=\"dataframe\">\n",
              "  <thead>\n",
              "    <tr style=\"text-align: right;\">\n",
              "      <th></th>\n",
              "      <th>MERCHANT_CATEGORIZED_AT</th>\n",
              "      <th>MERCHANT_NAME</th>\n",
              "      <th>MERCHANT_CATEGORIZED_AS</th>\n",
              "      <th>PURCHASE_VALUE</th>\n",
              "      <th>PURCHASED_AT</th>\n",
              "      <th>IS_PURCHASE_PAID_VIA_MPESA_SEND_MONEY</th>\n",
              "      <th>USER_AGE</th>\n",
              "      <th>USER_GENDER</th>\n",
              "      <th>USER_HOUSEHOLD</th>\n",
              "      <th>USER_INCOME</th>\n",
              "      <th>USER_ID</th>\n",
              "      <th>Transaction_ID</th>\n",
              "    </tr>\n",
              "  </thead>\n",
              "  <tbody>\n",
              "    <tr>\n",
              "      <th>0</th>\n",
              "      <td>2022-05-04 10:25:50.588042+00</td>\n",
              "      <td>UONSDA CHURCH  MOGERE MWAYO TITHE</td>\n",
              "      <td>Rent / Mortgage</td>\n",
              "      <td>1700</td>\n",
              "      <td>2022-05-04 13:56:00+00</td>\n",
              "      <td>False</td>\n",
              "      <td>NaN</td>\n",
              "      <td>Male</td>\n",
              "      <td>3</td>\n",
              "      <td>10000</td>\n",
              "      <td>ID_ZX4DCF4K</td>\n",
              "      <td>ID_04mk78fa</td>\n",
              "    </tr>\n",
              "    <tr>\n",
              "      <th>1</th>\n",
              "      <td>2021-10-25 16:18:38.586837+00</td>\n",
              "      <td>PARK N GO</td>\n",
              "      <td>Transport &amp; Fuel</td>\n",
              "      <td>100</td>\n",
              "      <td>2021-10-24 14:12:00+00</td>\n",
              "      <td>False</td>\n",
              "      <td>25.0</td>\n",
              "      <td>Female</td>\n",
              "      <td>4</td>\n",
              "      <td>90000</td>\n",
              "      <td>ID_U9WZMGJZ</td>\n",
              "      <td>ID_04xkfb07</td>\n",
              "    </tr>\n",
              "    <tr>\n",
              "      <th>2</th>\n",
              "      <td>2022-05-20 14:17:30.917297+00</td>\n",
              "      <td>SAFARICOM OFFERS  TUNUKIWA</td>\n",
              "      <td>Data &amp; WiFi</td>\n",
              "      <td>20</td>\n",
              "      <td>2022-05-27 12:46:00+00</td>\n",
              "      <td>False</td>\n",
              "      <td>NaN</td>\n",
              "      <td>Male</td>\n",
              "      <td>3</td>\n",
              "      <td>10000</td>\n",
              "      <td>ID_ZX4DCF4K</td>\n",
              "      <td>ID_051urwuw</td>\n",
              "    </tr>\n",
              "    <tr>\n",
              "      <th>3</th>\n",
              "      <td>2022-04-12 15:59:14.139347+00</td>\n",
              "      <td>ZILLIONS CREDIT LIMITED</td>\n",
              "      <td>Loan Repayment</td>\n",
              "      <td>3800</td>\n",
              "      <td>2022-02-07 12:16:00+00</td>\n",
              "      <td>False</td>\n",
              "      <td>NaN</td>\n",
              "      <td>Male</td>\n",
              "      <td>5</td>\n",
              "      <td>252000</td>\n",
              "      <td>ID_3JA0MAFB</td>\n",
              "      <td>ID_0e1om7rz</td>\n",
              "    </tr>\n",
              "    <tr>\n",
              "      <th>4</th>\n",
              "      <td>2022-05-04 10:24:26.709045+00</td>\n",
              "      <td>MICHAEL MUSEMBI</td>\n",
              "      <td>Bills &amp; Fees</td>\n",
              "      <td>60</td>\n",
              "      <td>2022-05-04 15:28:00+00</td>\n",
              "      <td>False</td>\n",
              "      <td>NaN</td>\n",
              "      <td>Male</td>\n",
              "      <td>3</td>\n",
              "      <td>10000</td>\n",
              "      <td>ID_ZX4DCF4K</td>\n",
              "      <td>ID_0kfcoawb</td>\n",
              "    </tr>\n",
              "  </tbody>\n",
              "</table>\n",
              "</div>\n",
              "      <button class=\"colab-df-convert\" onclick=\"convertToInteractive('df-e2f65b4e-e5d1-410b-b068-e0ddab98c0de')\"\n",
              "              title=\"Convert this dataframe to an interactive table.\"\n",
              "              style=\"display:none;\">\n",
              "        \n",
              "  <svg xmlns=\"http://www.w3.org/2000/svg\" height=\"24px\"viewBox=\"0 0 24 24\"\n",
              "       width=\"24px\">\n",
              "    <path d=\"M0 0h24v24H0V0z\" fill=\"none\"/>\n",
              "    <path d=\"M18.56 5.44l.94 2.06.94-2.06 2.06-.94-2.06-.94-.94-2.06-.94 2.06-2.06.94zm-11 1L8.5 8.5l.94-2.06 2.06-.94-2.06-.94L8.5 2.5l-.94 2.06-2.06.94zm10 10l.94 2.06.94-2.06 2.06-.94-2.06-.94-.94-2.06-.94 2.06-2.06.94z\"/><path d=\"M17.41 7.96l-1.37-1.37c-.4-.4-.92-.59-1.43-.59-.52 0-1.04.2-1.43.59L10.3 9.45l-7.72 7.72c-.78.78-.78 2.05 0 2.83L4 21.41c.39.39.9.59 1.41.59.51 0 1.02-.2 1.41-.59l7.78-7.78 2.81-2.81c.8-.78.8-2.07 0-2.86zM5.41 20L4 18.59l7.72-7.72 1.47 1.35L5.41 20z\"/>\n",
              "  </svg>\n",
              "      </button>\n",
              "      \n",
              "  <style>\n",
              "    .colab-df-container {\n",
              "      display:flex;\n",
              "      flex-wrap:wrap;\n",
              "      gap: 12px;\n",
              "    }\n",
              "\n",
              "    .colab-df-convert {\n",
              "      background-color: #E8F0FE;\n",
              "      border: none;\n",
              "      border-radius: 50%;\n",
              "      cursor: pointer;\n",
              "      display: none;\n",
              "      fill: #1967D2;\n",
              "      height: 32px;\n",
              "      padding: 0 0 0 0;\n",
              "      width: 32px;\n",
              "    }\n",
              "\n",
              "    .colab-df-convert:hover {\n",
              "      background-color: #E2EBFA;\n",
              "      box-shadow: 0px 1px 2px rgba(60, 64, 67, 0.3), 0px 1px 3px 1px rgba(60, 64, 67, 0.15);\n",
              "      fill: #174EA6;\n",
              "    }\n",
              "\n",
              "    [theme=dark] .colab-df-convert {\n",
              "      background-color: #3B4455;\n",
              "      fill: #D2E3FC;\n",
              "    }\n",
              "\n",
              "    [theme=dark] .colab-df-convert:hover {\n",
              "      background-color: #434B5C;\n",
              "      box-shadow: 0px 1px 3px 1px rgba(0, 0, 0, 0.15);\n",
              "      filter: drop-shadow(0px 1px 2px rgba(0, 0, 0, 0.3));\n",
              "      fill: #FFFFFF;\n",
              "    }\n",
              "  </style>\n",
              "\n",
              "      <script>\n",
              "        const buttonEl =\n",
              "          document.querySelector('#df-e2f65b4e-e5d1-410b-b068-e0ddab98c0de button.colab-df-convert');\n",
              "        buttonEl.style.display =\n",
              "          google.colab.kernel.accessAllowed ? 'block' : 'none';\n",
              "\n",
              "        async function convertToInteractive(key) {\n",
              "          const element = document.querySelector('#df-e2f65b4e-e5d1-410b-b068-e0ddab98c0de');\n",
              "          const dataTable =\n",
              "            await google.colab.kernel.invokeFunction('convertToInteractive',\n",
              "                                                     [key], {});\n",
              "          if (!dataTable) return;\n",
              "\n",
              "          const docLinkHtml = 'Like what you see? Visit the ' +\n",
              "            '<a target=\"_blank\" href=https://colab.research.google.com/notebooks/data_table.ipynb>data table notebook</a>'\n",
              "            + ' to learn more about interactive tables.';\n",
              "          element.innerHTML = '';\n",
              "          dataTable['output_type'] = 'display_data';\n",
              "          await google.colab.output.renderOutput(dataTable, element);\n",
              "          const docLink = document.createElement('div');\n",
              "          docLink.innerHTML = docLinkHtml;\n",
              "          element.appendChild(docLink);\n",
              "        }\n",
              "      </script>\n",
              "    </div>\n",
              "  </div>\n",
              "  "
            ]
          },
          "metadata": {},
          "execution_count": 361
        }
      ],
      "source": [
        "train.head()"
      ]
    },
    {
      "cell_type": "code",
      "execution_count": 362,
      "metadata": {
        "colab": {
          "base_uri": "https://localhost:8080/"
        },
        "id": "dtsmAGHPk3yc",
        "outputId": "f4d25342-7c13-4314-c2a6-073cd86629d9"
      },
      "outputs": [
        {
          "output_type": "stream",
          "name": "stdout",
          "text": [
            "<class 'pandas.core.frame.DataFrame'>\n",
            "RangeIndex: 373 entries, 0 to 372\n",
            "Data columns (total 12 columns):\n",
            " #   Column                                 Non-Null Count  Dtype  \n",
            "---  ------                                 --------------  -----  \n",
            " 0   MERCHANT_CATEGORIZED_AT                373 non-null    object \n",
            " 1   MERCHANT_NAME                          373 non-null    object \n",
            " 2   MERCHANT_CATEGORIZED_AS                373 non-null    object \n",
            " 3   PURCHASE_VALUE                         373 non-null    int64  \n",
            " 4   PURCHASED_AT                           373 non-null    object \n",
            " 5   IS_PURCHASE_PAID_VIA_MPESA_SEND_MONEY  373 non-null    bool   \n",
            " 6   USER_AGE                               61 non-null     float64\n",
            " 7   USER_GENDER                            367 non-null    object \n",
            " 8   USER_HOUSEHOLD                         373 non-null    int64  \n",
            " 9   USER_INCOME                            373 non-null    int64  \n",
            " 10  USER_ID                                373 non-null    object \n",
            " 11  Transaction_ID                         373 non-null    object \n",
            "dtypes: bool(1), float64(1), int64(3), object(7)\n",
            "memory usage: 32.5+ KB\n"
          ]
        }
      ],
      "source": [
        "train.info()"
      ]
    },
    {
      "cell_type": "code",
      "execution_count": 363,
      "metadata": {
        "colab": {
          "base_uri": "https://localhost:8080/",
          "height": 175
        },
        "id": "zLz5JUzbk3ye",
        "outputId": "94a22385-79b9-42e8-bc15-195523b2d1ba"
      },
      "outputs": [
        {
          "output_type": "execute_result",
          "data": {
            "text/plain": [
              "                count           mean            std     min      25%      50%  \\\n",
              "PURCHASE_VALUE  373.0    4506.522788   15722.261797    10.0    150.0    690.0   \n",
              "USER_AGE         61.0      25.803279       1.423841    25.0     25.0     25.0   \n",
              "USER_HOUSEHOLD  373.0       2.831099       1.600033     1.0      1.0      3.0   \n",
              "USER_INCOME     373.0  146235.924933  166521.780346  8000.0  23000.0  90000.0   \n",
              "\n",
              "                     75%        max  \n",
              "PURCHASE_VALUE    2000.0   150000.0  \n",
              "USER_AGE            27.0       32.0  \n",
              "USER_HOUSEHOLD       4.0        7.0  \n",
              "USER_INCOME     200000.0  1000000.0  "
            ],
            "text/html": [
              "\n",
              "  <div id=\"df-b207e6de-636f-4f8c-bb05-6bb83a33fd71\">\n",
              "    <div class=\"colab-df-container\">\n",
              "      <div>\n",
              "<style scoped>\n",
              "    .dataframe tbody tr th:only-of-type {\n",
              "        vertical-align: middle;\n",
              "    }\n",
              "\n",
              "    .dataframe tbody tr th {\n",
              "        vertical-align: top;\n",
              "    }\n",
              "\n",
              "    .dataframe thead th {\n",
              "        text-align: right;\n",
              "    }\n",
              "</style>\n",
              "<table border=\"1\" class=\"dataframe\">\n",
              "  <thead>\n",
              "    <tr style=\"text-align: right;\">\n",
              "      <th></th>\n",
              "      <th>count</th>\n",
              "      <th>mean</th>\n",
              "      <th>std</th>\n",
              "      <th>min</th>\n",
              "      <th>25%</th>\n",
              "      <th>50%</th>\n",
              "      <th>75%</th>\n",
              "      <th>max</th>\n",
              "    </tr>\n",
              "  </thead>\n",
              "  <tbody>\n",
              "    <tr>\n",
              "      <th>PURCHASE_VALUE</th>\n",
              "      <td>373.0</td>\n",
              "      <td>4506.522788</td>\n",
              "      <td>15722.261797</td>\n",
              "      <td>10.0</td>\n",
              "      <td>150.0</td>\n",
              "      <td>690.0</td>\n",
              "      <td>2000.0</td>\n",
              "      <td>150000.0</td>\n",
              "    </tr>\n",
              "    <tr>\n",
              "      <th>USER_AGE</th>\n",
              "      <td>61.0</td>\n",
              "      <td>25.803279</td>\n",
              "      <td>1.423841</td>\n",
              "      <td>25.0</td>\n",
              "      <td>25.0</td>\n",
              "      <td>25.0</td>\n",
              "      <td>27.0</td>\n",
              "      <td>32.0</td>\n",
              "    </tr>\n",
              "    <tr>\n",
              "      <th>USER_HOUSEHOLD</th>\n",
              "      <td>373.0</td>\n",
              "      <td>2.831099</td>\n",
              "      <td>1.600033</td>\n",
              "      <td>1.0</td>\n",
              "      <td>1.0</td>\n",
              "      <td>3.0</td>\n",
              "      <td>4.0</td>\n",
              "      <td>7.0</td>\n",
              "    </tr>\n",
              "    <tr>\n",
              "      <th>USER_INCOME</th>\n",
              "      <td>373.0</td>\n",
              "      <td>146235.924933</td>\n",
              "      <td>166521.780346</td>\n",
              "      <td>8000.0</td>\n",
              "      <td>23000.0</td>\n",
              "      <td>90000.0</td>\n",
              "      <td>200000.0</td>\n",
              "      <td>1000000.0</td>\n",
              "    </tr>\n",
              "  </tbody>\n",
              "</table>\n",
              "</div>\n",
              "      <button class=\"colab-df-convert\" onclick=\"convertToInteractive('df-b207e6de-636f-4f8c-bb05-6bb83a33fd71')\"\n",
              "              title=\"Convert this dataframe to an interactive table.\"\n",
              "              style=\"display:none;\">\n",
              "        \n",
              "  <svg xmlns=\"http://www.w3.org/2000/svg\" height=\"24px\"viewBox=\"0 0 24 24\"\n",
              "       width=\"24px\">\n",
              "    <path d=\"M0 0h24v24H0V0z\" fill=\"none\"/>\n",
              "    <path d=\"M18.56 5.44l.94 2.06.94-2.06 2.06-.94-2.06-.94-.94-2.06-.94 2.06-2.06.94zm-11 1L8.5 8.5l.94-2.06 2.06-.94-2.06-.94L8.5 2.5l-.94 2.06-2.06.94zm10 10l.94 2.06.94-2.06 2.06-.94-2.06-.94-.94-2.06-.94 2.06-2.06.94z\"/><path d=\"M17.41 7.96l-1.37-1.37c-.4-.4-.92-.59-1.43-.59-.52 0-1.04.2-1.43.59L10.3 9.45l-7.72 7.72c-.78.78-.78 2.05 0 2.83L4 21.41c.39.39.9.59 1.41.59.51 0 1.02-.2 1.41-.59l7.78-7.78 2.81-2.81c.8-.78.8-2.07 0-2.86zM5.41 20L4 18.59l7.72-7.72 1.47 1.35L5.41 20z\"/>\n",
              "  </svg>\n",
              "      </button>\n",
              "      \n",
              "  <style>\n",
              "    .colab-df-container {\n",
              "      display:flex;\n",
              "      flex-wrap:wrap;\n",
              "      gap: 12px;\n",
              "    }\n",
              "\n",
              "    .colab-df-convert {\n",
              "      background-color: #E8F0FE;\n",
              "      border: none;\n",
              "      border-radius: 50%;\n",
              "      cursor: pointer;\n",
              "      display: none;\n",
              "      fill: #1967D2;\n",
              "      height: 32px;\n",
              "      padding: 0 0 0 0;\n",
              "      width: 32px;\n",
              "    }\n",
              "\n",
              "    .colab-df-convert:hover {\n",
              "      background-color: #E2EBFA;\n",
              "      box-shadow: 0px 1px 2px rgba(60, 64, 67, 0.3), 0px 1px 3px 1px rgba(60, 64, 67, 0.15);\n",
              "      fill: #174EA6;\n",
              "    }\n",
              "\n",
              "    [theme=dark] .colab-df-convert {\n",
              "      background-color: #3B4455;\n",
              "      fill: #D2E3FC;\n",
              "    }\n",
              "\n",
              "    [theme=dark] .colab-df-convert:hover {\n",
              "      background-color: #434B5C;\n",
              "      box-shadow: 0px 1px 3px 1px rgba(0, 0, 0, 0.15);\n",
              "      filter: drop-shadow(0px 1px 2px rgba(0, 0, 0, 0.3));\n",
              "      fill: #FFFFFF;\n",
              "    }\n",
              "  </style>\n",
              "\n",
              "      <script>\n",
              "        const buttonEl =\n",
              "          document.querySelector('#df-b207e6de-636f-4f8c-bb05-6bb83a33fd71 button.colab-df-convert');\n",
              "        buttonEl.style.display =\n",
              "          google.colab.kernel.accessAllowed ? 'block' : 'none';\n",
              "\n",
              "        async function convertToInteractive(key) {\n",
              "          const element = document.querySelector('#df-b207e6de-636f-4f8c-bb05-6bb83a33fd71');\n",
              "          const dataTable =\n",
              "            await google.colab.kernel.invokeFunction('convertToInteractive',\n",
              "                                                     [key], {});\n",
              "          if (!dataTable) return;\n",
              "\n",
              "          const docLinkHtml = 'Like what you see? Visit the ' +\n",
              "            '<a target=\"_blank\" href=https://colab.research.google.com/notebooks/data_table.ipynb>data table notebook</a>'\n",
              "            + ' to learn more about interactive tables.';\n",
              "          element.innerHTML = '';\n",
              "          dataTable['output_type'] = 'display_data';\n",
              "          await google.colab.output.renderOutput(dataTable, element);\n",
              "          const docLink = document.createElement('div');\n",
              "          docLink.innerHTML = docLinkHtml;\n",
              "          element.appendChild(docLink);\n",
              "        }\n",
              "      </script>\n",
              "    </div>\n",
              "  </div>\n",
              "  "
            ]
          },
          "metadata": {},
          "execution_count": 363
        }
      ],
      "source": [
        "train.describe().T"
      ]
    },
    {
      "cell_type": "markdown",
      "metadata": {
        "id": "fmaAVssWk3yf"
      },
      "source": [
        "### Missing values for train, test and extra"
      ]
    },
    {
      "cell_type": "code",
      "execution_count": 364,
      "metadata": {
        "colab": {
          "base_uri": "https://localhost:8080/",
          "height": 426
        },
        "id": "oLiPzZlVk3yf",
        "outputId": "53e3fef9-20b7-4dcf-8b39-8756cd8015ed"
      },
      "outputs": [
        {
          "output_type": "execute_result",
          "data": {
            "text/plain": [
              "                                                                 column_name  \\\n",
              "MERCHANT_CATEGORIZED_AT                              MERCHANT_CATEGORIZED_AT   \n",
              "MERCHANT_NAME                                                  MERCHANT_NAME   \n",
              "MERCHANT_CATEGORIZED_AS                              MERCHANT_CATEGORIZED_AS   \n",
              "PURCHASE_VALUE                                                PURCHASE_VALUE   \n",
              "PURCHASED_AT                                                    PURCHASED_AT   \n",
              "IS_PURCHASE_PAID_VIA_MPESA_SEND_MONEY  IS_PURCHASE_PAID_VIA_MPESA_SEND_MONEY   \n",
              "USER_AGE                                                            USER_AGE   \n",
              "USER_GENDER                                                      USER_GENDER   \n",
              "USER_HOUSEHOLD                                                USER_HOUSEHOLD   \n",
              "USER_INCOME                                                      USER_INCOME   \n",
              "USER_ID                                                              USER_ID   \n",
              "Transaction_ID                                                Transaction_ID   \n",
              "\n",
              "                                       percent_missing  \n",
              "MERCHANT_CATEGORIZED_AT                       0.000000  \n",
              "MERCHANT_NAME                                 0.000000  \n",
              "MERCHANT_CATEGORIZED_AS                       0.000000  \n",
              "PURCHASE_VALUE                                0.000000  \n",
              "PURCHASED_AT                                  0.000000  \n",
              "IS_PURCHASE_PAID_VIA_MPESA_SEND_MONEY         0.000000  \n",
              "USER_AGE                                     83.646113  \n",
              "USER_GENDER                                   1.608579  \n",
              "USER_HOUSEHOLD                                0.000000  \n",
              "USER_INCOME                                   0.000000  \n",
              "USER_ID                                       0.000000  \n",
              "Transaction_ID                                0.000000  "
            ],
            "text/html": [
              "\n",
              "  <div id=\"df-b51ee22c-11fb-4d77-88ca-7c08c8c1d60e\">\n",
              "    <div class=\"colab-df-container\">\n",
              "      <div>\n",
              "<style scoped>\n",
              "    .dataframe tbody tr th:only-of-type {\n",
              "        vertical-align: middle;\n",
              "    }\n",
              "\n",
              "    .dataframe tbody tr th {\n",
              "        vertical-align: top;\n",
              "    }\n",
              "\n",
              "    .dataframe thead th {\n",
              "        text-align: right;\n",
              "    }\n",
              "</style>\n",
              "<table border=\"1\" class=\"dataframe\">\n",
              "  <thead>\n",
              "    <tr style=\"text-align: right;\">\n",
              "      <th></th>\n",
              "      <th>column_name</th>\n",
              "      <th>percent_missing</th>\n",
              "    </tr>\n",
              "  </thead>\n",
              "  <tbody>\n",
              "    <tr>\n",
              "      <th>MERCHANT_CATEGORIZED_AT</th>\n",
              "      <td>MERCHANT_CATEGORIZED_AT</td>\n",
              "      <td>0.000000</td>\n",
              "    </tr>\n",
              "    <tr>\n",
              "      <th>MERCHANT_NAME</th>\n",
              "      <td>MERCHANT_NAME</td>\n",
              "      <td>0.000000</td>\n",
              "    </tr>\n",
              "    <tr>\n",
              "      <th>MERCHANT_CATEGORIZED_AS</th>\n",
              "      <td>MERCHANT_CATEGORIZED_AS</td>\n",
              "      <td>0.000000</td>\n",
              "    </tr>\n",
              "    <tr>\n",
              "      <th>PURCHASE_VALUE</th>\n",
              "      <td>PURCHASE_VALUE</td>\n",
              "      <td>0.000000</td>\n",
              "    </tr>\n",
              "    <tr>\n",
              "      <th>PURCHASED_AT</th>\n",
              "      <td>PURCHASED_AT</td>\n",
              "      <td>0.000000</td>\n",
              "    </tr>\n",
              "    <tr>\n",
              "      <th>IS_PURCHASE_PAID_VIA_MPESA_SEND_MONEY</th>\n",
              "      <td>IS_PURCHASE_PAID_VIA_MPESA_SEND_MONEY</td>\n",
              "      <td>0.000000</td>\n",
              "    </tr>\n",
              "    <tr>\n",
              "      <th>USER_AGE</th>\n",
              "      <td>USER_AGE</td>\n",
              "      <td>83.646113</td>\n",
              "    </tr>\n",
              "    <tr>\n",
              "      <th>USER_GENDER</th>\n",
              "      <td>USER_GENDER</td>\n",
              "      <td>1.608579</td>\n",
              "    </tr>\n",
              "    <tr>\n",
              "      <th>USER_HOUSEHOLD</th>\n",
              "      <td>USER_HOUSEHOLD</td>\n",
              "      <td>0.000000</td>\n",
              "    </tr>\n",
              "    <tr>\n",
              "      <th>USER_INCOME</th>\n",
              "      <td>USER_INCOME</td>\n",
              "      <td>0.000000</td>\n",
              "    </tr>\n",
              "    <tr>\n",
              "      <th>USER_ID</th>\n",
              "      <td>USER_ID</td>\n",
              "      <td>0.000000</td>\n",
              "    </tr>\n",
              "    <tr>\n",
              "      <th>Transaction_ID</th>\n",
              "      <td>Transaction_ID</td>\n",
              "      <td>0.000000</td>\n",
              "    </tr>\n",
              "  </tbody>\n",
              "</table>\n",
              "</div>\n",
              "      <button class=\"colab-df-convert\" onclick=\"convertToInteractive('df-b51ee22c-11fb-4d77-88ca-7c08c8c1d60e')\"\n",
              "              title=\"Convert this dataframe to an interactive table.\"\n",
              "              style=\"display:none;\">\n",
              "        \n",
              "  <svg xmlns=\"http://www.w3.org/2000/svg\" height=\"24px\"viewBox=\"0 0 24 24\"\n",
              "       width=\"24px\">\n",
              "    <path d=\"M0 0h24v24H0V0z\" fill=\"none\"/>\n",
              "    <path d=\"M18.56 5.44l.94 2.06.94-2.06 2.06-.94-2.06-.94-.94-2.06-.94 2.06-2.06.94zm-11 1L8.5 8.5l.94-2.06 2.06-.94-2.06-.94L8.5 2.5l-.94 2.06-2.06.94zm10 10l.94 2.06.94-2.06 2.06-.94-2.06-.94-.94-2.06-.94 2.06-2.06.94z\"/><path d=\"M17.41 7.96l-1.37-1.37c-.4-.4-.92-.59-1.43-.59-.52 0-1.04.2-1.43.59L10.3 9.45l-7.72 7.72c-.78.78-.78 2.05 0 2.83L4 21.41c.39.39.9.59 1.41.59.51 0 1.02-.2 1.41-.59l7.78-7.78 2.81-2.81c.8-.78.8-2.07 0-2.86zM5.41 20L4 18.59l7.72-7.72 1.47 1.35L5.41 20z\"/>\n",
              "  </svg>\n",
              "      </button>\n",
              "      \n",
              "  <style>\n",
              "    .colab-df-container {\n",
              "      display:flex;\n",
              "      flex-wrap:wrap;\n",
              "      gap: 12px;\n",
              "    }\n",
              "\n",
              "    .colab-df-convert {\n",
              "      background-color: #E8F0FE;\n",
              "      border: none;\n",
              "      border-radius: 50%;\n",
              "      cursor: pointer;\n",
              "      display: none;\n",
              "      fill: #1967D2;\n",
              "      height: 32px;\n",
              "      padding: 0 0 0 0;\n",
              "      width: 32px;\n",
              "    }\n",
              "\n",
              "    .colab-df-convert:hover {\n",
              "      background-color: #E2EBFA;\n",
              "      box-shadow: 0px 1px 2px rgba(60, 64, 67, 0.3), 0px 1px 3px 1px rgba(60, 64, 67, 0.15);\n",
              "      fill: #174EA6;\n",
              "    }\n",
              "\n",
              "    [theme=dark] .colab-df-convert {\n",
              "      background-color: #3B4455;\n",
              "      fill: #D2E3FC;\n",
              "    }\n",
              "\n",
              "    [theme=dark] .colab-df-convert:hover {\n",
              "      background-color: #434B5C;\n",
              "      box-shadow: 0px 1px 3px 1px rgba(0, 0, 0, 0.15);\n",
              "      filter: drop-shadow(0px 1px 2px rgba(0, 0, 0, 0.3));\n",
              "      fill: #FFFFFF;\n",
              "    }\n",
              "  </style>\n",
              "\n",
              "      <script>\n",
              "        const buttonEl =\n",
              "          document.querySelector('#df-b51ee22c-11fb-4d77-88ca-7c08c8c1d60e button.colab-df-convert');\n",
              "        buttonEl.style.display =\n",
              "          google.colab.kernel.accessAllowed ? 'block' : 'none';\n",
              "\n",
              "        async function convertToInteractive(key) {\n",
              "          const element = document.querySelector('#df-b51ee22c-11fb-4d77-88ca-7c08c8c1d60e');\n",
              "          const dataTable =\n",
              "            await google.colab.kernel.invokeFunction('convertToInteractive',\n",
              "                                                     [key], {});\n",
              "          if (!dataTable) return;\n",
              "\n",
              "          const docLinkHtml = 'Like what you see? Visit the ' +\n",
              "            '<a target=\"_blank\" href=https://colab.research.google.com/notebooks/data_table.ipynb>data table notebook</a>'\n",
              "            + ' to learn more about interactive tables.';\n",
              "          element.innerHTML = '';\n",
              "          dataTable['output_type'] = 'display_data';\n",
              "          await google.colab.output.renderOutput(dataTable, element);\n",
              "          const docLink = document.createElement('div');\n",
              "          docLink.innerHTML = docLinkHtml;\n",
              "          element.appendChild(docLink);\n",
              "        }\n",
              "      </script>\n",
              "    </div>\n",
              "  </div>\n",
              "  "
            ]
          },
          "metadata": {},
          "execution_count": 364
        }
      ],
      "source": [
        "#check for missing values\n",
        "percent_missing = train.isnull().sum() * 100 / len(train)\n",
        "missing_value_train = pd.DataFrame({'column_name': train.columns,\n",
        "                                 'percent_missing': percent_missing})\n",
        "missing_value_train"
      ]
    },
    {
      "cell_type": "code",
      "execution_count": 365,
      "metadata": {
        "colab": {
          "base_uri": "https://localhost:8080/",
          "height": 395
        },
        "id": "7gMDJlX_k3yh",
        "outputId": "366c9464-d100-422e-f8a7-5e6fa1b9acf4"
      },
      "outputs": [
        {
          "output_type": "execute_result",
          "data": {
            "text/plain": [
              "                                                                 column_name  \\\n",
              "MERCHANT_CATEGORIZED_AT                              MERCHANT_CATEGORIZED_AT   \n",
              "MERCHANT_NAME                                                  MERCHANT_NAME   \n",
              "PURCHASE_VALUE                                                PURCHASE_VALUE   \n",
              "PURCHASED_AT                                                    PURCHASED_AT   \n",
              "IS_PURCHASE_PAID_VIA_MPESA_SEND_MONEY  IS_PURCHASE_PAID_VIA_MPESA_SEND_MONEY   \n",
              "USER_AGE                                                            USER_AGE   \n",
              "USER_GENDER                                                      USER_GENDER   \n",
              "USER_HOUSEHOLD                                                USER_HOUSEHOLD   \n",
              "USER_INCOME                                                      USER_INCOME   \n",
              "USER_ID                                                              USER_ID   \n",
              "Transaction_ID                                                Transaction_ID   \n",
              "\n",
              "                                       percent_missing  \n",
              "MERCHANT_CATEGORIZED_AT                       0.000000  \n",
              "MERCHANT_NAME                                 0.000000  \n",
              "PURCHASE_VALUE                                0.000000  \n",
              "PURCHASED_AT                                  0.000000  \n",
              "IS_PURCHASE_PAID_VIA_MPESA_SEND_MONEY         0.000000  \n",
              "USER_AGE                                     84.767025  \n",
              "USER_GENDER                                   0.896057  \n",
              "USER_HOUSEHOLD                                0.000000  \n",
              "USER_INCOME                                   0.000000  \n",
              "USER_ID                                       0.000000  \n",
              "Transaction_ID                                0.000000  "
            ],
            "text/html": [
              "\n",
              "  <div id=\"df-621343ae-f336-490a-8246-7273aa32e17e\">\n",
              "    <div class=\"colab-df-container\">\n",
              "      <div>\n",
              "<style scoped>\n",
              "    .dataframe tbody tr th:only-of-type {\n",
              "        vertical-align: middle;\n",
              "    }\n",
              "\n",
              "    .dataframe tbody tr th {\n",
              "        vertical-align: top;\n",
              "    }\n",
              "\n",
              "    .dataframe thead th {\n",
              "        text-align: right;\n",
              "    }\n",
              "</style>\n",
              "<table border=\"1\" class=\"dataframe\">\n",
              "  <thead>\n",
              "    <tr style=\"text-align: right;\">\n",
              "      <th></th>\n",
              "      <th>column_name</th>\n",
              "      <th>percent_missing</th>\n",
              "    </tr>\n",
              "  </thead>\n",
              "  <tbody>\n",
              "    <tr>\n",
              "      <th>MERCHANT_CATEGORIZED_AT</th>\n",
              "      <td>MERCHANT_CATEGORIZED_AT</td>\n",
              "      <td>0.000000</td>\n",
              "    </tr>\n",
              "    <tr>\n",
              "      <th>MERCHANT_NAME</th>\n",
              "      <td>MERCHANT_NAME</td>\n",
              "      <td>0.000000</td>\n",
              "    </tr>\n",
              "    <tr>\n",
              "      <th>PURCHASE_VALUE</th>\n",
              "      <td>PURCHASE_VALUE</td>\n",
              "      <td>0.000000</td>\n",
              "    </tr>\n",
              "    <tr>\n",
              "      <th>PURCHASED_AT</th>\n",
              "      <td>PURCHASED_AT</td>\n",
              "      <td>0.000000</td>\n",
              "    </tr>\n",
              "    <tr>\n",
              "      <th>IS_PURCHASE_PAID_VIA_MPESA_SEND_MONEY</th>\n",
              "      <td>IS_PURCHASE_PAID_VIA_MPESA_SEND_MONEY</td>\n",
              "      <td>0.000000</td>\n",
              "    </tr>\n",
              "    <tr>\n",
              "      <th>USER_AGE</th>\n",
              "      <td>USER_AGE</td>\n",
              "      <td>84.767025</td>\n",
              "    </tr>\n",
              "    <tr>\n",
              "      <th>USER_GENDER</th>\n",
              "      <td>USER_GENDER</td>\n",
              "      <td>0.896057</td>\n",
              "    </tr>\n",
              "    <tr>\n",
              "      <th>USER_HOUSEHOLD</th>\n",
              "      <td>USER_HOUSEHOLD</td>\n",
              "      <td>0.000000</td>\n",
              "    </tr>\n",
              "    <tr>\n",
              "      <th>USER_INCOME</th>\n",
              "      <td>USER_INCOME</td>\n",
              "      <td>0.000000</td>\n",
              "    </tr>\n",
              "    <tr>\n",
              "      <th>USER_ID</th>\n",
              "      <td>USER_ID</td>\n",
              "      <td>0.000000</td>\n",
              "    </tr>\n",
              "    <tr>\n",
              "      <th>Transaction_ID</th>\n",
              "      <td>Transaction_ID</td>\n",
              "      <td>0.000000</td>\n",
              "    </tr>\n",
              "  </tbody>\n",
              "</table>\n",
              "</div>\n",
              "      <button class=\"colab-df-convert\" onclick=\"convertToInteractive('df-621343ae-f336-490a-8246-7273aa32e17e')\"\n",
              "              title=\"Convert this dataframe to an interactive table.\"\n",
              "              style=\"display:none;\">\n",
              "        \n",
              "  <svg xmlns=\"http://www.w3.org/2000/svg\" height=\"24px\"viewBox=\"0 0 24 24\"\n",
              "       width=\"24px\">\n",
              "    <path d=\"M0 0h24v24H0V0z\" fill=\"none\"/>\n",
              "    <path d=\"M18.56 5.44l.94 2.06.94-2.06 2.06-.94-2.06-.94-.94-2.06-.94 2.06-2.06.94zm-11 1L8.5 8.5l.94-2.06 2.06-.94-2.06-.94L8.5 2.5l-.94 2.06-2.06.94zm10 10l.94 2.06.94-2.06 2.06-.94-2.06-.94-.94-2.06-.94 2.06-2.06.94z\"/><path d=\"M17.41 7.96l-1.37-1.37c-.4-.4-.92-.59-1.43-.59-.52 0-1.04.2-1.43.59L10.3 9.45l-7.72 7.72c-.78.78-.78 2.05 0 2.83L4 21.41c.39.39.9.59 1.41.59.51 0 1.02-.2 1.41-.59l7.78-7.78 2.81-2.81c.8-.78.8-2.07 0-2.86zM5.41 20L4 18.59l7.72-7.72 1.47 1.35L5.41 20z\"/>\n",
              "  </svg>\n",
              "      </button>\n",
              "      \n",
              "  <style>\n",
              "    .colab-df-container {\n",
              "      display:flex;\n",
              "      flex-wrap:wrap;\n",
              "      gap: 12px;\n",
              "    }\n",
              "\n",
              "    .colab-df-convert {\n",
              "      background-color: #E8F0FE;\n",
              "      border: none;\n",
              "      border-radius: 50%;\n",
              "      cursor: pointer;\n",
              "      display: none;\n",
              "      fill: #1967D2;\n",
              "      height: 32px;\n",
              "      padding: 0 0 0 0;\n",
              "      width: 32px;\n",
              "    }\n",
              "\n",
              "    .colab-df-convert:hover {\n",
              "      background-color: #E2EBFA;\n",
              "      box-shadow: 0px 1px 2px rgba(60, 64, 67, 0.3), 0px 1px 3px 1px rgba(60, 64, 67, 0.15);\n",
              "      fill: #174EA6;\n",
              "    }\n",
              "\n",
              "    [theme=dark] .colab-df-convert {\n",
              "      background-color: #3B4455;\n",
              "      fill: #D2E3FC;\n",
              "    }\n",
              "\n",
              "    [theme=dark] .colab-df-convert:hover {\n",
              "      background-color: #434B5C;\n",
              "      box-shadow: 0px 1px 3px 1px rgba(0, 0, 0, 0.15);\n",
              "      filter: drop-shadow(0px 1px 2px rgba(0, 0, 0, 0.3));\n",
              "      fill: #FFFFFF;\n",
              "    }\n",
              "  </style>\n",
              "\n",
              "      <script>\n",
              "        const buttonEl =\n",
              "          document.querySelector('#df-621343ae-f336-490a-8246-7273aa32e17e button.colab-df-convert');\n",
              "        buttonEl.style.display =\n",
              "          google.colab.kernel.accessAllowed ? 'block' : 'none';\n",
              "\n",
              "        async function convertToInteractive(key) {\n",
              "          const element = document.querySelector('#df-621343ae-f336-490a-8246-7273aa32e17e');\n",
              "          const dataTable =\n",
              "            await google.colab.kernel.invokeFunction('convertToInteractive',\n",
              "                                                     [key], {});\n",
              "          if (!dataTable) return;\n",
              "\n",
              "          const docLinkHtml = 'Like what you see? Visit the ' +\n",
              "            '<a target=\"_blank\" href=https://colab.research.google.com/notebooks/data_table.ipynb>data table notebook</a>'\n",
              "            + ' to learn more about interactive tables.';\n",
              "          element.innerHTML = '';\n",
              "          dataTable['output_type'] = 'display_data';\n",
              "          await google.colab.output.renderOutput(dataTable, element);\n",
              "          const docLink = document.createElement('div');\n",
              "          docLink.innerHTML = docLinkHtml;\n",
              "          element.appendChild(docLink);\n",
              "        }\n",
              "      </script>\n",
              "    </div>\n",
              "  </div>\n",
              "  "
            ]
          },
          "metadata": {},
          "execution_count": 365
        }
      ],
      "source": [
        "#check for missing values\n",
        "percent_missing = test.isnull().sum() * 100 / len(test)\n",
        "missing_value_test = pd.DataFrame({'column_name': test.columns,\n",
        "                                 'percent_missing': percent_missing})\n",
        "missing_value_test"
      ]
    },
    {
      "cell_type": "code",
      "execution_count": 366,
      "metadata": {
        "colab": {
          "base_uri": "https://localhost:8080/",
          "height": 426
        },
        "id": "cE32FYjck3yi",
        "outputId": "115f26c6-d3b8-44ce-a811-64d0a37d37f0"
      },
      "outputs": [
        {
          "output_type": "execute_result",
          "data": {
            "text/plain": [
              "                                                                 column_name  \\\n",
              "MERCHANT_CATEGORIZED_AT                              MERCHANT_CATEGORIZED_AT   \n",
              "MERCHANT_NAME                                                  MERCHANT_NAME   \n",
              "MERCHANT_CATEGORIZED_AS                              MERCHANT_CATEGORIZED_AS   \n",
              "PURCHASE_VALUE                                                PURCHASE_VALUE   \n",
              "PURCHASED_AT                                                    PURCHASED_AT   \n",
              "IS_PURCHASE_PAID_VIA_MPESA_SEND_MONEY  IS_PURCHASE_PAID_VIA_MPESA_SEND_MONEY   \n",
              "USER_AGE                                                            USER_AGE   \n",
              "USER_GENDER                                                      USER_GENDER   \n",
              "USER_HOUSEHOLD                                                USER_HOUSEHOLD   \n",
              "USER_INCOME                                                      USER_INCOME   \n",
              "USER_ID                                                              USER_ID   \n",
              "Transaction_ID                                                Transaction_ID   \n",
              "\n",
              "                                       percent_missing  \n",
              "MERCHANT_CATEGORIZED_AT                         100.00  \n",
              "MERCHANT_NAME                                     0.00  \n",
              "MERCHANT_CATEGORIZED_AS                         100.00  \n",
              "PURCHASE_VALUE                                    0.00  \n",
              "PURCHASED_AT                                      0.00  \n",
              "IS_PURCHASE_PAID_VIA_MPESA_SEND_MONEY             0.00  \n",
              "USER_AGE                                         88.42  \n",
              "USER_GENDER                                       0.34  \n",
              "USER_HOUSEHOLD                                    0.00  \n",
              "USER_INCOME                                       0.00  \n",
              "USER_ID                                           0.00  \n",
              "Transaction_ID                                    0.00  "
            ],
            "text/html": [
              "\n",
              "  <div id=\"df-29d9b5ff-e623-4949-b6a6-62909ab68f46\">\n",
              "    <div class=\"colab-df-container\">\n",
              "      <div>\n",
              "<style scoped>\n",
              "    .dataframe tbody tr th:only-of-type {\n",
              "        vertical-align: middle;\n",
              "    }\n",
              "\n",
              "    .dataframe tbody tr th {\n",
              "        vertical-align: top;\n",
              "    }\n",
              "\n",
              "    .dataframe thead th {\n",
              "        text-align: right;\n",
              "    }\n",
              "</style>\n",
              "<table border=\"1\" class=\"dataframe\">\n",
              "  <thead>\n",
              "    <tr style=\"text-align: right;\">\n",
              "      <th></th>\n",
              "      <th>column_name</th>\n",
              "      <th>percent_missing</th>\n",
              "    </tr>\n",
              "  </thead>\n",
              "  <tbody>\n",
              "    <tr>\n",
              "      <th>MERCHANT_CATEGORIZED_AT</th>\n",
              "      <td>MERCHANT_CATEGORIZED_AT</td>\n",
              "      <td>100.00</td>\n",
              "    </tr>\n",
              "    <tr>\n",
              "      <th>MERCHANT_NAME</th>\n",
              "      <td>MERCHANT_NAME</td>\n",
              "      <td>0.00</td>\n",
              "    </tr>\n",
              "    <tr>\n",
              "      <th>MERCHANT_CATEGORIZED_AS</th>\n",
              "      <td>MERCHANT_CATEGORIZED_AS</td>\n",
              "      <td>100.00</td>\n",
              "    </tr>\n",
              "    <tr>\n",
              "      <th>PURCHASE_VALUE</th>\n",
              "      <td>PURCHASE_VALUE</td>\n",
              "      <td>0.00</td>\n",
              "    </tr>\n",
              "    <tr>\n",
              "      <th>PURCHASED_AT</th>\n",
              "      <td>PURCHASED_AT</td>\n",
              "      <td>0.00</td>\n",
              "    </tr>\n",
              "    <tr>\n",
              "      <th>IS_PURCHASE_PAID_VIA_MPESA_SEND_MONEY</th>\n",
              "      <td>IS_PURCHASE_PAID_VIA_MPESA_SEND_MONEY</td>\n",
              "      <td>0.00</td>\n",
              "    </tr>\n",
              "    <tr>\n",
              "      <th>USER_AGE</th>\n",
              "      <td>USER_AGE</td>\n",
              "      <td>88.42</td>\n",
              "    </tr>\n",
              "    <tr>\n",
              "      <th>USER_GENDER</th>\n",
              "      <td>USER_GENDER</td>\n",
              "      <td>0.34</td>\n",
              "    </tr>\n",
              "    <tr>\n",
              "      <th>USER_HOUSEHOLD</th>\n",
              "      <td>USER_HOUSEHOLD</td>\n",
              "      <td>0.00</td>\n",
              "    </tr>\n",
              "    <tr>\n",
              "      <th>USER_INCOME</th>\n",
              "      <td>USER_INCOME</td>\n",
              "      <td>0.00</td>\n",
              "    </tr>\n",
              "    <tr>\n",
              "      <th>USER_ID</th>\n",
              "      <td>USER_ID</td>\n",
              "      <td>0.00</td>\n",
              "    </tr>\n",
              "    <tr>\n",
              "      <th>Transaction_ID</th>\n",
              "      <td>Transaction_ID</td>\n",
              "      <td>0.00</td>\n",
              "    </tr>\n",
              "  </tbody>\n",
              "</table>\n",
              "</div>\n",
              "      <button class=\"colab-df-convert\" onclick=\"convertToInteractive('df-29d9b5ff-e623-4949-b6a6-62909ab68f46')\"\n",
              "              title=\"Convert this dataframe to an interactive table.\"\n",
              "              style=\"display:none;\">\n",
              "        \n",
              "  <svg xmlns=\"http://www.w3.org/2000/svg\" height=\"24px\"viewBox=\"0 0 24 24\"\n",
              "       width=\"24px\">\n",
              "    <path d=\"M0 0h24v24H0V0z\" fill=\"none\"/>\n",
              "    <path d=\"M18.56 5.44l.94 2.06.94-2.06 2.06-.94-2.06-.94-.94-2.06-.94 2.06-2.06.94zm-11 1L8.5 8.5l.94-2.06 2.06-.94-2.06-.94L8.5 2.5l-.94 2.06-2.06.94zm10 10l.94 2.06.94-2.06 2.06-.94-2.06-.94-.94-2.06-.94 2.06-2.06.94z\"/><path d=\"M17.41 7.96l-1.37-1.37c-.4-.4-.92-.59-1.43-.59-.52 0-1.04.2-1.43.59L10.3 9.45l-7.72 7.72c-.78.78-.78 2.05 0 2.83L4 21.41c.39.39.9.59 1.41.59.51 0 1.02-.2 1.41-.59l7.78-7.78 2.81-2.81c.8-.78.8-2.07 0-2.86zM5.41 20L4 18.59l7.72-7.72 1.47 1.35L5.41 20z\"/>\n",
              "  </svg>\n",
              "      </button>\n",
              "      \n",
              "  <style>\n",
              "    .colab-df-container {\n",
              "      display:flex;\n",
              "      flex-wrap:wrap;\n",
              "      gap: 12px;\n",
              "    }\n",
              "\n",
              "    .colab-df-convert {\n",
              "      background-color: #E8F0FE;\n",
              "      border: none;\n",
              "      border-radius: 50%;\n",
              "      cursor: pointer;\n",
              "      display: none;\n",
              "      fill: #1967D2;\n",
              "      height: 32px;\n",
              "      padding: 0 0 0 0;\n",
              "      width: 32px;\n",
              "    }\n",
              "\n",
              "    .colab-df-convert:hover {\n",
              "      background-color: #E2EBFA;\n",
              "      box-shadow: 0px 1px 2px rgba(60, 64, 67, 0.3), 0px 1px 3px 1px rgba(60, 64, 67, 0.15);\n",
              "      fill: #174EA6;\n",
              "    }\n",
              "\n",
              "    [theme=dark] .colab-df-convert {\n",
              "      background-color: #3B4455;\n",
              "      fill: #D2E3FC;\n",
              "    }\n",
              "\n",
              "    [theme=dark] .colab-df-convert:hover {\n",
              "      background-color: #434B5C;\n",
              "      box-shadow: 0px 1px 3px 1px rgba(0, 0, 0, 0.15);\n",
              "      filter: drop-shadow(0px 1px 2px rgba(0, 0, 0, 0.3));\n",
              "      fill: #FFFFFF;\n",
              "    }\n",
              "  </style>\n",
              "\n",
              "      <script>\n",
              "        const buttonEl =\n",
              "          document.querySelector('#df-29d9b5ff-e623-4949-b6a6-62909ab68f46 button.colab-df-convert');\n",
              "        buttonEl.style.display =\n",
              "          google.colab.kernel.accessAllowed ? 'block' : 'none';\n",
              "\n",
              "        async function convertToInteractive(key) {\n",
              "          const element = document.querySelector('#df-29d9b5ff-e623-4949-b6a6-62909ab68f46');\n",
              "          const dataTable =\n",
              "            await google.colab.kernel.invokeFunction('convertToInteractive',\n",
              "                                                     [key], {});\n",
              "          if (!dataTable) return;\n",
              "\n",
              "          const docLinkHtml = 'Like what you see? Visit the ' +\n",
              "            '<a target=\"_blank\" href=https://colab.research.google.com/notebooks/data_table.ipynb>data table notebook</a>'\n",
              "            + ' to learn more about interactive tables.';\n",
              "          element.innerHTML = '';\n",
              "          dataTable['output_type'] = 'display_data';\n",
              "          await google.colab.output.renderOutput(dataTable, element);\n",
              "          const docLink = document.createElement('div');\n",
              "          docLink.innerHTML = docLinkHtml;\n",
              "          element.appendChild(docLink);\n",
              "        }\n",
              "      </script>\n",
              "    </div>\n",
              "  </div>\n",
              "  "
            ]
          },
          "metadata": {},
          "execution_count": 366
        }
      ],
      "source": [
        "#check for missing values\n",
        "percent_missing = extra.isnull().sum() * 100 / len(extra)\n",
        "missing_value_extra = pd.DataFrame({'column_name': extra.columns,\n",
        "                                 'percent_missing': percent_missing})\n",
        "missing_value_extra"
      ]
    },
    {
      "cell_type": "code",
      "execution_count": 367,
      "metadata": {
        "id": "GqAp63Wyk3yi"
      },
      "outputs": [],
      "source": [
        "extra = extra.drop(columns = ['MERCHANT_CATEGORIZED_AS','MERCHANT_CATEGORIZED_AT'])"
      ]
    },
    {
      "cell_type": "code",
      "execution_count": 368,
      "metadata": {
        "id": "y5BT2mHrk3yj"
      },
      "outputs": [],
      "source": [
        "cat_columns = [col for col in train.select_dtypes('object').columns]\n",
        "\n",
        "num_columns = [col for col in train.select_dtypes(['int', 'float']).columns]"
      ]
    },
    {
      "cell_type": "markdown",
      "metadata": {
        "id": "4CZfjt6Nk3yj"
      },
      "source": [
        "### Lets fill the categorical ones with male \n",
        "* I chose this because the missing gender is only for one person. So he/she may either be a male or female so used male"
      ]
    },
    {
      "cell_type": "code",
      "execution_count": 369,
      "metadata": {
        "colab": {
          "base_uri": "https://localhost:8080/"
        },
        "id": "SHI0EUh7k3yk",
        "outputId": "3f2d1000-284e-429c-cbf1-a071e2871edc"
      },
      "outputs": [
        {
          "output_type": "execute_result",
          "data": {
            "text/plain": [
              "Male      197\n",
              "Female    170\n",
              "Name: USER_GENDER, dtype: int64"
            ]
          },
          "metadata": {},
          "execution_count": 369
        }
      ],
      "source": [
        "train['USER_GENDER'].value_counts()"
      ]
    },
    {
      "cell_type": "code",
      "execution_count": 370,
      "metadata": {
        "colab": {
          "base_uri": "https://localhost:8080/"
        },
        "id": "-yPRktpok3yk",
        "outputId": "a0f05d9d-972f-4b90-d822-1ad69056d92a"
      },
      "outputs": [
        {
          "output_type": "execute_result",
          "data": {
            "text/plain": [
              "IS_PURCHASE_PAID_VIA_MPESA_SEND_MONEY      0\n",
              "MERCHANT_CATEGORIZED_AS                    0\n",
              "MERCHANT_CATEGORIZED_AT                    0\n",
              "MERCHANT_NAME                              0\n",
              "PURCHASED_AT                               0\n",
              "PURCHASE_VALUE                             0\n",
              "Transaction_ID                             0\n",
              "USER_AGE                                 312\n",
              "USER_GENDER                                0\n",
              "USER_HOUSEHOLD                             0\n",
              "USER_ID                                    0\n",
              "USER_INCOME                                0\n",
              "dtype: int64"
            ]
          },
          "metadata": {},
          "execution_count": 370
        }
      ],
      "source": [
        "for col in train.columns:\n",
        "\n",
        "  if col in ['USER_GENDER']:\n",
        "    train[col] = train[col].fillna('Male')\n",
        "    \n",
        "\n",
        "# Confirm that there aren't any missing values\n",
        "train[train.columns.difference(['cost_category'])].isna().sum()"
      ]
    },
    {
      "cell_type": "code",
      "execution_count": 371,
      "metadata": {
        "colab": {
          "base_uri": "https://localhost:8080/"
        },
        "id": "MbIQxyrDk3yl",
        "outputId": "fa5204d3-b299-4759-f190-aff1541cb826"
      },
      "outputs": [
        {
          "output_type": "execute_result",
          "data": {
            "text/plain": [
              "IS_PURCHASE_PAID_VIA_MPESA_SEND_MONEY      0\n",
              "MERCHANT_CATEGORIZED_AT                    0\n",
              "MERCHANT_NAME                              0\n",
              "PURCHASED_AT                               0\n",
              "PURCHASE_VALUE                             0\n",
              "Transaction_ID                             0\n",
              "USER_AGE                                 473\n",
              "USER_GENDER                                0\n",
              "USER_HOUSEHOLD                             0\n",
              "USER_ID                                    0\n",
              "USER_INCOME                                0\n",
              "dtype: int64"
            ]
          },
          "metadata": {},
          "execution_count": 371
        }
      ],
      "source": [
        "for col in test.columns:\n",
        "\n",
        "  if col in ['USER_GENDER']:\n",
        "    test[col] = test[col].fillna('Male')\n",
        "    \n",
        "\n",
        "# Confirm that there aren't any missing values\n",
        "test[test.columns.difference(['cost_category'])].isna().sum()"
      ]
    },
    {
      "cell_type": "code",
      "execution_count": 372,
      "metadata": {
        "colab": {
          "base_uri": "https://localhost:8080/"
        },
        "id": "kIpJJ0YPk3yl",
        "outputId": "4027ee83-1cfb-4a8d-d852-05776d5ff4c9"
      },
      "outputs": [
        {
          "output_type": "execute_result",
          "data": {
            "text/plain": [
              "IS_PURCHASE_PAID_VIA_MPESA_SEND_MONEY       0\n",
              "MERCHANT_NAME                               0\n",
              "PURCHASED_AT                                0\n",
              "PURCHASE_VALUE                              0\n",
              "Transaction_ID                              0\n",
              "USER_AGE                                 8842\n",
              "USER_GENDER                                 0\n",
              "USER_HOUSEHOLD                              0\n",
              "USER_ID                                     0\n",
              "USER_INCOME                                 0\n",
              "dtype: int64"
            ]
          },
          "metadata": {},
          "execution_count": 372
        }
      ],
      "source": [
        "for col in extra.columns:\n",
        "\n",
        "  if col in ['USER_GENDER']:\n",
        "    extra[col] = extra[col].fillna('Male')\n",
        "    \n",
        "\n",
        "# Confirm that there aren't any missing values\n",
        "extra[extra.columns.difference(['cost_category'])].isna().sum()"
      ]
    },
    {
      "cell_type": "markdown",
      "metadata": {
        "id": "dEtmsX_kk3ym"
      },
      "source": [
        "### For a baseline lets drop the age column (84% is alot of missing values)"
      ]
    },
    {
      "cell_type": "code",
      "execution_count": 373,
      "metadata": {
        "colab": {
          "base_uri": "https://localhost:8080/"
        },
        "id": "TQo0-DoLk3ym",
        "outputId": "28d23d2a-2c04-47e9-889f-4adc2f015d97"
      },
      "outputs": [
        {
          "output_type": "execute_result",
          "data": {
            "text/plain": [
              "((373, 11), (558, 10), (10000, 9))"
            ]
          },
          "metadata": {},
          "execution_count": 373
        }
      ],
      "source": [
        "train = train.drop(columns = 'USER_AGE')\n",
        "test = test.drop(columns = 'USER_AGE')\n",
        "extra = extra.drop(columns = 'USER_AGE')\n",
        "train.shape,test.shape,extra.shape"
      ]
    },
    {
      "cell_type": "markdown",
      "metadata": {
        "id": "yRSXKjxwk3yn"
      },
      "source": [
        "## Categorical Data"
      ]
    },
    {
      "cell_type": "code",
      "execution_count": 374,
      "metadata": {
        "colab": {
          "base_uri": "https://localhost:8080/"
        },
        "id": "OvrYzxiYk3yn",
        "outputId": "8a25fed8-3135-46e1-d2fc-c7277f74e07e"
      },
      "outputs": [
        {
          "output_type": "execute_result",
          "data": {
            "text/plain": [
              "MERCHANT_CATEGORIZED_AT                   58\n",
              "MERCHANT_NAME                            218\n",
              "MERCHANT_CATEGORIZED_AS                   13\n",
              "PURCHASE_VALUE                           150\n",
              "PURCHASED_AT                             365\n",
              "IS_PURCHASE_PAID_VIA_MPESA_SEND_MONEY      2\n",
              "USER_GENDER                                2\n",
              "USER_HOUSEHOLD                             7\n",
              "USER_INCOME                               15\n",
              "USER_ID                                   25\n",
              "Transaction_ID                           373\n",
              "dtype: int64"
            ]
          },
          "metadata": {},
          "execution_count": 374
        }
      ],
      "source": [
        "# check unique values in dataset\n",
        "train.apply(lambda x: len(x.unique()))"
      ]
    },
    {
      "cell_type": "code",
      "execution_count": 375,
      "metadata": {
        "colab": {
          "base_uri": "https://localhost:8080/"
        },
        "id": "m1aAP_Zek3yo",
        "outputId": "32045d4a-177a-4bc6-e3cd-c3a8dc18e432"
      },
      "outputs": [
        {
          "output_type": "execute_result",
          "data": {
            "text/plain": [
              "MERCHANT_CATEGORIZED_AT                   57\n",
              "MERCHANT_NAME                            314\n",
              "PURCHASE_VALUE                           213\n",
              "PURCHASED_AT                             535\n",
              "IS_PURCHASE_PAID_VIA_MPESA_SEND_MONEY      2\n",
              "USER_GENDER                                2\n",
              "USER_HOUSEHOLD                             9\n",
              "USER_INCOME                               17\n",
              "USER_ID                                   30\n",
              "Transaction_ID                           558\n",
              "dtype: int64"
            ]
          },
          "metadata": {},
          "execution_count": 375
        }
      ],
      "source": [
        "# check unique values in dataset\n",
        "test.apply(lambda x: len(x.unique()))"
      ]
    },
    {
      "cell_type": "markdown",
      "metadata": {
        "id": "Zm6FzTg2k3yo"
      },
      "source": [
        "### Levels In the Categorical Data + Date with a lot of classes\n",
        "### Categorized at \n"
      ]
    },
    {
      "cell_type": "code",
      "execution_count": 376,
      "metadata": {
        "colab": {
          "base_uri": "https://localhost:8080/"
        },
        "id": "AWUk5I-gk3yp",
        "outputId": "906cd901-a626-4131-f273-6b3565834434"
      },
      "outputs": [
        {
          "output_type": "execute_result",
          "data": {
            "text/plain": [
              "2022-04-12 15:59:14.139347+00    42\n",
              "2022-03-16 13:08:19.703288+00    35\n",
              "2022-03-16 13:05:51.851102+00    35\n",
              "2022-04-12 15:57:05.758311+00    30\n",
              "2022-05-31 13:27:24.704992+00    20\n",
              "2021-09-01 02:20:12.680427+00    18\n",
              "2021-09-01 02:19:31.317098+00    15\n",
              "2021-10-05 12:29:13.14963+00     13\n",
              "2022-06-01 10:23:56.42678+00     13\n",
              "2021-10-25 16:27:55.188211+00    12\n",
              "2022-06-01 10:25:16.7131+00      11\n",
              "2022-03-10 18:25:42.112294+00     8\n",
              "2022-05-31 13:27:55.17584+00      8\n",
              "2022-05-12 15:46:32.634262+00     7\n",
              "2021-10-05 12:45:58.000193+00     6\n",
              "2021-12-01 08:30:46.660752+00     6\n",
              "2022-03-10 18:21:31.781487+00     6\n",
              "2022-05-31 13:21:55.629867+00     6\n",
              "2021-10-25 16:18:38.586837+00     5\n",
              "2022-04-12 15:57:15.179609+00     5\n",
              "2022-04-12 15:59:29.101096+00     5\n",
              "2021-11-30 10:51:36.702996+00     4\n",
              "2021-12-01 08:33:13.82067+00      4\n",
              "2022-05-12 15:40:05.951342+00     3\n",
              "2022-02-23 13:37:55.038678+00     3\n",
              "2021-08-06 11:28:03.723042+00     3\n",
              "2021-08-06 11:28:03.855344+00     3\n",
              "2022-05-13 06:55:53.403538+00     3\n",
              "2022-02-23 13:31:09.552091+00     3\n",
              "2021-08-06 11:28:16.860332+00     3\n",
              "2021-08-06 11:28:16.846937+00     2\n",
              "2022-04-11 16:27:13.588397+00     2\n",
              "2022-05-04 18:39:01.19219+00      2\n",
              "2021-11-30 10:52:38.553994+00     2\n",
              "2022-04-08 10:56:46.107675+00     2\n",
              "2022-03-16 13:07:12.505595+00     2\n",
              "2021-12-20 16:47:22.619499+00     2\n",
              "2022-05-31 13:22:16.049027+00     2\n",
              "2022-04-08 10:51:16.328443+00     2\n",
              "2021-11-26 08:29:58.261766+00     2\n",
              "2021-10-25 16:29:12.89004+00      1\n",
              "2022-05-04 18:37:59.629671+00     1\n",
              "2021-10-05 12:29:36.542506+00     1\n",
              "2021-12-01 08:33:48.059715+00     1\n",
              "2022-05-04 18:37:59.899018+00     1\n",
              "2021-11-03 14:49:24.05659+00      1\n",
              "2022-05-04 10:25:50.588042+00     1\n",
              "2021-08-06 11:28:16.857538+00     1\n",
              "2021-08-06 11:28:03.954322+00     1\n",
              "2022-04-08 10:57:52.718675+00     1\n",
              "2022-03-16 13:05:03.450626+00     1\n",
              "2022-05-30 17:06:43.204499+00     1\n",
              "2022-04-08 10:57:13.116409+00     1\n",
              "2022-05-20 14:18:40.136044+00     1\n",
              "2022-01-07 09:41:44.286084+00     1\n",
              "2022-05-04 10:24:26.709045+00     1\n",
              "2022-05-20 14:17:30.917297+00     1\n",
              "2022-05-12 15:40:40.039879+00     1\n",
              "Name: MERCHANT_CATEGORIZED_AT, dtype: int64"
            ]
          },
          "metadata": {},
          "execution_count": 376
        }
      ],
      "source": [
        "train['MERCHANT_CATEGORIZED_AT'].value_counts()"
      ]
    },
    {
      "cell_type": "code",
      "execution_count": 377,
      "metadata": {
        "colab": {
          "base_uri": "https://localhost:8080/"
        },
        "id": "YdbK3P-fk3yp",
        "outputId": "9ad9115a-d3e9-4063-b2b7-aaf7ec793204"
      },
      "outputs": [
        {
          "output_type": "execute_result",
          "data": {
            "text/plain": [
              "2022-04-12 15:57:05.758311+00    67\n",
              "2022-04-12 15:59:14.139347+00    58\n",
              "2022-03-16 13:05:51.851102+00    49\n",
              "2022-03-16 13:08:19.703288+00    48\n",
              "2022-05-31 13:27:24.704992+00    29\n",
              "2021-09-01 02:20:12.680427+00    23\n",
              "2021-09-01 02:19:31.317098+00    20\n",
              "2022-06-01 10:23:56.42678+00     18\n",
              "2021-10-05 12:29:13.14963+00     17\n",
              "2021-10-05 12:45:58.000193+00    17\n",
              "2022-06-01 10:25:16.7131+00      16\n",
              "2022-05-12 15:40:05.951342+00    13\n",
              "2022-04-12 15:59:29.101096+00    13\n",
              "2021-10-25 16:27:55.188211+00    11\n",
              "2022-03-10 18:21:31.781487+00    11\n",
              "2021-10-25 16:18:38.586837+00    10\n",
              "2022-05-31 13:21:55.629867+00     9\n",
              "2021-12-01 08:30:46.660752+00     9\n",
              "2022-05-12 15:46:32.634262+00     7\n",
              "2022-03-10 18:25:42.112294+00     7\n",
              "2022-05-04 18:39:01.19219+00      7\n",
              "2022-04-08 10:56:46.107675+00     7\n",
              "2022-02-23 13:31:09.552091+00     7\n",
              "2022-04-12 15:57:15.179609+00     6\n",
              "2022-02-23 13:37:55.038678+00     6\n",
              "2022-05-31 13:27:55.17584+00      6\n",
              "2021-12-01 08:33:13.82067+00      6\n",
              "2022-05-04 18:39:01.881199+00     5\n",
              "2022-03-16 13:07:12.505595+00     5\n",
              "2021-11-30 10:51:36.702996+00     4\n",
              "2021-11-26 08:29:58.261766+00     4\n",
              "2022-04-08 10:57:52.718675+00     4\n",
              "2022-05-17 09:37:14.32481+00      4\n",
              "2021-08-06 11:28:16.857538+00     3\n",
              "2022-01-07 09:39:55.446642+00     3\n",
              "2022-05-04 18:37:59.899018+00     3\n",
              "2022-03-16 13:05:03.450626+00     2\n",
              "2021-08-06 11:28:16.846937+00     2\n",
              "2021-10-25 16:29:12.89004+00      2\n",
              "2022-05-04 18:37:59.629671+00     2\n",
              "2021-11-30 10:52:38.553994+00     2\n",
              "2021-08-06 11:28:03.723042+00     1\n",
              "2022-05-12 15:40:40.039879+00     1\n",
              "2021-08-06 11:28:03.855344+00     1\n",
              "2021-10-05 12:29:36.542506+00     1\n",
              "2022-01-25 08:48:47.92674+00      1\n",
              "2021-08-06 11:28:03.289361+00     1\n",
              "2022-05-20 14:17:30.917297+00     1\n",
              "2022-06-06 14:56:01.649597+00     1\n",
              "2021-08-30 15:33:08.560476+00     1\n",
              "2022-02-23 13:31:27.577374+00     1\n",
              "2021-11-26 08:27:16.457175+00     1\n",
              "2021-08-06 11:28:16.860332+00     1\n",
              "2022-06-06 14:58:46.021599+00     1\n",
              "2022-05-04 10:24:26.709045+00     1\n",
              "2021-10-25 16:19:06.928128+00     1\n",
              "2022-05-13 06:55:53.403538+00     1\n",
              "Name: MERCHANT_CATEGORIZED_AT, dtype: int64"
            ]
          },
          "metadata": {},
          "execution_count": 377
        }
      ],
      "source": [
        "test['MERCHANT_CATEGORIZED_AT'].value_counts()"
      ]
    },
    {
      "cell_type": "markdown",
      "metadata": {
        "id": "30KikRzuk3yp"
      },
      "source": [
        "#### get the year, month, date, day feature from this feature, see if it helps"
      ]
    },
    {
      "cell_type": "markdown",
      "metadata": {
        "id": "KbfHg-8hk3yq"
      },
      "source": [
        "### User_Income"
      ]
    },
    {
      "cell_type": "code",
      "execution_count": 378,
      "metadata": {
        "colab": {
          "base_uri": "https://localhost:8080/"
        },
        "id": "NFM08Dbrk3yq",
        "outputId": "e49eb2bd-8b2c-49f2-c82b-5e61f8943132"
      },
      "outputs": [
        {
          "output_type": "execute_result",
          "data": {
            "text/plain": [
              "10000      70\n",
              "85000      63\n",
              "252000     49\n",
              "200000     49\n",
              "90000      38\n",
              "250000     19\n",
              "150000     17\n",
              "23000      17\n",
              "8000       14\n",
              "750000     13\n",
              "30000       7\n",
              "60000       6\n",
              "100000      4\n",
              "350000      4\n",
              "1000000     3\n",
              "Name: USER_INCOME, dtype: int64"
            ]
          },
          "metadata": {},
          "execution_count": 378
        }
      ],
      "source": [
        "train['USER_INCOME'].value_counts()"
      ]
    },
    {
      "cell_type": "code",
      "execution_count": 379,
      "metadata": {
        "colab": {
          "base_uri": "https://localhost:8080/"
        },
        "id": "ZMJoeH6mk3yq",
        "outputId": "7cf30f67-5d97-464c-b6ce-5acca030eef4"
      },
      "outputs": [
        {
          "output_type": "execute_result",
          "data": {
            "text/plain": [
              "10000      118\n",
              "85000      101\n",
              "252000      73\n",
              "200000      63\n",
              "90000       52\n",
              "23000       34\n",
              "150000      25\n",
              "750000      22\n",
              "250000      20\n",
              "8000        16\n",
              "30000       10\n",
              "350000       9\n",
              "100000       9\n",
              "60000        3\n",
              "1000000      1\n",
              "80000        1\n",
              "36000        1\n",
              "Name: USER_INCOME, dtype: int64"
            ]
          },
          "metadata": {},
          "execution_count": 379
        }
      ],
      "source": [
        "test['USER_INCOME'].value_counts()"
      ]
    },
    {
      "cell_type": "markdown",
      "metadata": {
        "id": "KCoHQcJhk3yr"
      },
      "source": [
        "#### Since there are two more new user_income levels in test and more in extra data decided to cluster them\n",
        "* clustering was based on near price ranges as seen below"
      ]
    },
    {
      "cell_type": "code",
      "execution_count": 380,
      "metadata": {
        "colab": {
          "base_uri": "https://localhost:8080/"
        },
        "id": "6yc43kHak3ys",
        "outputId": "b73af943-7398-4e37-e59d-677fa019d597"
      },
      "outputs": [
        {
          "output_type": "stream",
          "name": "stdout",
          "text": [
            "15\n",
            "15\n",
            "15\n"
          ]
        }
      ],
      "source": [
        "def income_clusters(x):\n",
        "    one=[10000]\n",
        "    two=[85000, 80000]\n",
        "    three=[252000]\n",
        "    four =[200000]\n",
        "    five=[90000]\n",
        "    six =[250000]\n",
        "    seven=[150000]\n",
        "    eight=[23000,21500 ,20000]\n",
        "    nine=[8000,5000]\n",
        "    ten=[750000]\n",
        "    eleven=[30000,36000,35000]\n",
        "    twelve =[60000]\n",
        "    thirteen=[100000]\n",
        "    fourteen = [350000]\n",
        "    fifteen = [1000000]\n",
        "    \n",
        "    if x in one:\n",
        "        return 10000\n",
        "    elif x in two:\n",
        "        return 85000\n",
        "    elif x in three:\n",
        "        return 252000\n",
        "    elif x in four:\n",
        "        return 200000   \n",
        "    elif x in five:\n",
        "        return 90000\n",
        "    if x in six:\n",
        "        return 250000\n",
        "    elif x in seven:\n",
        "        return 150000\n",
        "    elif x in eight:\n",
        "        return 23000\n",
        "    elif x in nine:\n",
        "        return 8000 \n",
        "    elif x in ten:\n",
        "        return 750000\n",
        "    if x in eleven:\n",
        "        return 30000\n",
        "    elif x in twelve:\n",
        "        return 60000\n",
        "    elif x in thirteen:\n",
        "        return 100000\n",
        "    elif x in fourteen:\n",
        "        return 350000 \n",
        "    elif x in fifteen:\n",
        "        return 1000000 \n",
        "test['USER_INCOME'] = test['USER_INCOME'].apply(income_clusters)\n",
        "train['USER_INCOME'] = train['USER_INCOME'].apply(income_clusters)\n",
        "extra['USER_INCOME'] = extra['USER_INCOME'].apply(income_clusters)\n",
        "print(train['USER_INCOME'].nunique())\n",
        "print(test['USER_INCOME'].nunique())\n",
        "print(extra['USER_INCOME'].nunique())    "
      ]
    },
    {
      "cell_type": "markdown",
      "metadata": {
        "id": "RGDcyn2ak3yt"
      },
      "source": [
        "### User_ID"
      ]
    },
    {
      "cell_type": "code",
      "execution_count": 381,
      "metadata": {
        "colab": {
          "base_uri": "https://localhost:8080/"
        },
        "id": "zPzVWSdvk3yt",
        "outputId": "55d61705-cc7a-4766-85f7-5ee11befde9f"
      },
      "outputs": [
        {
          "output_type": "execute_result",
          "data": {
            "text/plain": [
              "ID_1I8XYBWK    56\n",
              "ID_3JA0MAFB    49\n",
              "ID_ECX9BS4A    44\n",
              "ID_ZX4DCF4K    43\n",
              "ID_U9WZMGJZ    38\n",
              "ID_Y0386AT9    17\n",
              "ID_L8QMYB09    14\n",
              "ID_O8P8YS18    14\n",
              "ID_OZANC6XT    13\n",
              "ID_D8FOVVBB    13\n",
              "ID_40L9OTIM     9\n",
              "ID_GR569FUO     7\n",
              "ID_J8O7LHZ2     7\n",
              "ID_WO19RXAS     7\n",
              "ID_R4T8Q46J     6\n",
              "ID_KARF7R4R     6\n",
              "ID_OYT3IDV6     5\n",
              "ID_5Y35KI6Q     5\n",
              "ID_GAQ3PX9G     4\n",
              "ID_3XJU0KQ9     4\n",
              "ID_UJ0YSYEV     4\n",
              "ID_180RJKP4     3\n",
              "ID_CVK8ERW1     2\n",
              "ID_BMPPYJ2U     2\n",
              "ID_A7LQCJFS     1\n",
              "Name: USER_ID, dtype: int64"
            ]
          },
          "metadata": {},
          "execution_count": 381
        }
      ],
      "source": [
        "train['USER_ID'].value_counts()"
      ]
    },
    {
      "cell_type": "code",
      "execution_count": 382,
      "metadata": {
        "colab": {
          "base_uri": "https://localhost:8080/"
        },
        "id": "m8BEhz3-k3yt",
        "outputId": "a0d3d759-4489-4843-eb0e-d099474fbaf3"
      },
      "outputs": [
        {
          "output_type": "execute_result",
          "data": {
            "text/plain": [
              "ID_1I8XYBWK    92\n",
              "ID_3JA0MAFB    73\n",
              "ID_ZX4DCF4K    65\n",
              "ID_ECX9BS4A    54\n",
              "ID_U9WZMGJZ    52\n",
              "ID_Y0386AT9    34\n",
              "ID_D8FOVVBB    22\n",
              "ID_GR569FUO    20\n",
              "ID_OYT3IDV6    19\n",
              "ID_O8P8YS18    17\n",
              "ID_L8QMYB09    16\n",
              "ID_OZANC6XT    12\n",
              "ID_40L9OTIM     9\n",
              "ID_3XJU0KQ9     9\n",
              "ID_WO19RXAS     9\n",
              "ID_J8O7LHZ2     9\n",
              "ID_5Y35KI6Q     8\n",
              "ID_KARF7R4R     8\n",
              "ID_CVK8ERW1     6\n",
              "ID_GAQ3PX9G     6\n",
              "ID_R4T8Q46J     5\n",
              "ID_1AMEATOU     3\n",
              "ID_UJ0YSYEV     2\n",
              "ID_A7LQCJFS     2\n",
              "ID_180RJKP4     1\n",
              "ID_QIBWKFP0     1\n",
              "ID_BMPPYJ2U     1\n",
              "ID_9OCPCLOX     1\n",
              "ID_KVE1YQI4     1\n",
              "ID_90M21S6P     1\n",
              "Name: USER_ID, dtype: int64"
            ]
          },
          "metadata": {},
          "execution_count": 382
        }
      ],
      "source": [
        "test['USER_ID'].value_counts()"
      ]
    },
    {
      "cell_type": "markdown",
      "metadata": {
        "id": "xbe57-S2k3yt"
      },
      "source": [
        "#### 5 new customers, meaning that we have to consider this in the stratification scheme \n",
        "* well i never succeeded in this decided to go with StratifiedKFold instead"
      ]
    },
    {
      "cell_type": "markdown",
      "metadata": {
        "id": "BI65XtrQk3yu"
      },
      "source": [
        "### User_ Household"
      ]
    },
    {
      "cell_type": "code",
      "execution_count": 383,
      "metadata": {
        "colab": {
          "base_uri": "https://localhost:8080/"
        },
        "id": "Scej1K1Sk3yu",
        "outputId": "1f30d2be-1d36-436a-8e93-e1bb8861c573"
      },
      "outputs": [
        {
          "output_type": "execute_result",
          "data": {
            "text/plain": [
              "1    126\n",
              "3    100\n",
              "5     76\n",
              "4     38\n",
              "2     26\n",
              "7      4\n",
              "6      3\n",
              "Name: USER_HOUSEHOLD, dtype: int64"
            ]
          },
          "metadata": {},
          "execution_count": 383
        }
      ],
      "source": [
        "train['USER_HOUSEHOLD'].value_counts()"
      ]
    },
    {
      "cell_type": "code",
      "execution_count": 384,
      "metadata": {
        "colab": {
          "base_uri": "https://localhost:8080/"
        },
        "id": "Hn2qBoTzk3yu",
        "outputId": "afa04c30-75d7-45c7-f7db-f102d75089fc"
      },
      "outputs": [
        {
          "output_type": "execute_result",
          "data": {
            "text/plain": [
              "1    183\n",
              "3    140\n",
              "5    113\n",
              "2     55\n",
              "4     53\n",
              "7      9\n",
              "9      3\n",
              "6      1\n",
              "8      1\n",
              "Name: USER_HOUSEHOLD, dtype: int64"
            ]
          },
          "metadata": {},
          "execution_count": 384
        }
      ],
      "source": [
        "test['USER_HOUSEHOLD'].value_counts()"
      ]
    },
    {
      "cell_type": "markdown",
      "metadata": {
        "id": "Z7J2y-pOk3yv"
      },
      "source": [
        "#### More  user_household data in test and extra so cluster them in train"
      ]
    },
    {
      "cell_type": "code",
      "execution_count": 385,
      "metadata": {
        "colab": {
          "base_uri": "https://localhost:8080/"
        },
        "id": "VkMO-r3qk3yv",
        "outputId": "0bcc1b76-37d7-483b-afd2-11e73d65e5b2"
      },
      "outputs": [
        {
          "output_type": "stream",
          "name": "stdout",
          "text": [
            "7\n",
            "7\n",
            "7\n"
          ]
        }
      ],
      "source": [
        "def house_clusters(x):\n",
        "    one=[1]\n",
        "    two=[2]\n",
        "    three=[3]\n",
        "    four =[4]\n",
        "    five=[5]\n",
        "    six =[6]\n",
        "    seven=[7,8,9]\n",
        "\n",
        "    \n",
        "\n",
        "    if x == 1:\n",
        "        return 1\n",
        "    if x == 2:\n",
        "        return 2\n",
        "    if x == 3:\n",
        "        return 3\n",
        "    if x == 4:\n",
        "        return 4\n",
        "    if x == 5:\n",
        "        return 5\n",
        "    if x == 6:\n",
        "        return 6\n",
        "    if x >= 7:\n",
        "        return 7\n",
        "\n",
        "   \n",
        "test['USER_HOUSEHOLD'] = test['USER_HOUSEHOLD'].apply(house_clusters)\n",
        "extra['USER_HOUSEHOLD'] = extra['USER_HOUSEHOLD'].apply(house_clusters)\n",
        "print(train['USER_HOUSEHOLD'].nunique())\n",
        "print(test['USER_HOUSEHOLD'].nunique())\n",
        "print(extra['USER_HOUSEHOLD'].nunique())\n",
        "    "
      ]
    },
    {
      "cell_type": "markdown",
      "metadata": {
        "id": "6yA6hb7uk3yv"
      },
      "source": [
        "### Merchant_Name"
      ]
    },
    {
      "cell_type": "code",
      "execution_count": 386,
      "metadata": {
        "colab": {
          "base_uri": "https://localhost:8080/"
        },
        "id": "E5N-aBhWk3yw",
        "outputId": "03ab26bf-3fee-4e02-c1a5-c90d4a1e9253"
      },
      "outputs": [
        {
          "output_type": "execute_result",
          "data": {
            "text/plain": [
              "SAFARICOM OFFERS  TUNUKIWA                          14\n",
              "M-SHWARI ACCOUNT                                    12\n",
              "PETER KENDA                                         10\n",
              "SAFARICOM LIMITED                                   10\n",
              "EQUITY PAYBILL ACCOUNT                               8\n",
              "KPLC PREPAID                                         8\n",
              "CARREFOUR SRT                                        7\n",
              "LEAH NGOGA                                           7\n",
              "SAFARICOM HOME                                       6\n",
              "FATUMA OSORE                                         6\n",
              "SAFARICOM POST PAID                                  5\n",
              "ELIZABETH NYAMBURA                                   5\n",
              "JACKSON ANDIVA                                       4\n",
              "RAPHAEL MWANGI                                       4\n",
              "NHIF                                                 4\n",
              "KAPS PARKING                                         4\n",
              "JERUSA OTIENO                                        4\n",
              "CEDRIC OCHOLA                                        4\n",
              "TELKOM KENYA LIMITED                                 4\n",
              "PETER NJOORA KENDA                                   3\n",
              "DENIS OTIENO                                         3\n",
              "KILELESHWA SUPERSHINE                                3\n",
              "TEOFILO LIGAWA                                       3\n",
              "OILIBYA WAIYAKI                                      3\n",
              "VENDIT LIMITED                                       3\n",
              "TUSKYS -T MALL                                       3\n",
              "KUNE FOOD LAB KENYA LIMITED                          3\n",
              "ENVY VIVA CORPORATE                                  3\n",
              "NAIVAS                                               2\n",
              "JOHN NJIRU GAKUNJU                                   2\n",
              "CHRISTINE OOKO                                       2\n",
              "JERUSA A OTIENO                                      2\n",
              "FLORENCE KANANA                                      2\n",
              "TOTAL K STATE HOUSE 1                                2\n",
              "PETROCITY ENTERPRISES LIMITED                        2\n",
              "MIKE  KOECH                                          2\n",
              "SAMWEL  KIMANI                                       2\n",
              "NAIVAS LIFESTYLE                                     2\n",
              "PESAPAL                                              2\n",
              "PARK N GO                                            2\n",
              "IM BANK C2B                                          2\n",
              "SAMWEL KIMANI                                        2\n",
              "TOTAL - KIAMBU ROAD                                  2\n",
              "ONESMUS  GAKURU                                      2\n",
              "JAVA                                                 2\n",
              "JIMMIE WAIRIMU                                       2\n",
              "SAFARICOM POST                                       2\n",
              "NAIVAS KITENGELA                                     2\n",
              "FARMERS BUTCHERY                                     2\n",
              "KEMAHMWA ENTERPRISE HQ                               2\n",
              "SAFARICOM POSTPAID BUNDLES                           2\n",
              "ALBERT  MBOGO                                        2\n",
              "GLADWELL MBURU                                       2\n",
              "KCB PAYBILL AC                                       2\n",
              "JOSEPH NTHENGE                                       2\n",
              "MICHAEL MUSEMBI                                      2\n",
              "ERIC CHESI                                           2\n",
              "ZILLIONS CREDIT LIMITED                              2\n",
              "NCBA LOOP                                            1\n",
              "VITAMIX FRESH FRUITS AND JUICES                      1\n",
              "AUDRINE  MAKAKA                                      1\n",
              "DENIS OCHIENG OTIENO                                 1\n",
              "NIFTY TIGONI LIMITED                                 1\n",
              "NAOMI  WANJOHI                                       1\n",
              "SHOP AND                                             1\n",
              "MOFFAT OMWENO                                        1\n",
              "MIRIAM  MUNGAI                                       1\n",
              "KRA - NAIROBI COUNTY REVENUE                         1\n",
              "QUENSIN  ROHEYIA                                     1\n",
              "KENNEDY MUREITHI                                     1\n",
              "MELISA ANYONJE MALALA                                1\n",
              "MOSES NGURE                                          1\n",
              "ALCHEMIIST - LEGEND BAR                              1\n",
              "JACKLINE  OMOLO                                      1\n",
              "NIMROD ZIRO                                          1\n",
              "TOTALENERGIES ATHI RIVER 1                           1\n",
              "NAIVAS AGA KHAN WALK                                 1\n",
              "CRAFT - CHUPA CHAP                                   1\n",
              "APS ABC PARKING                                      1\n",
              "ARNELLE OMONDI                                       1\n",
              "ONAIRES CATERERS                                     1\n",
              "JOSEPH MATENGE                                       1\n",
              "PATRICK  MUNYAO                                      1\n",
              "GITHUNGURI SELFRIDGES SUPERMARKET                    1\n",
              "JAVA CIATA MALL                                      1\n",
              "RAPHAEL OWAKO                                        1\n",
              "MARSH WAVOMBA                                        1\n",
              "LANGATA CREAMY                                       1\n",
              "FISH BAY                                             1\n",
              "LOICE OBANDA OTIENO                                  1\n",
              "ASL TD                                               1\n",
              "MICHAEL ACHOCHI                                      1\n",
              "TOTAL ENERGIES KILELESHWA-LEMPIRAS LIMITED           1\n",
              "TUSKYS -CHAP CHAP THIGIRI                            1\n",
              "CITAM BUSINESS FORUM   CBF ON                        1\n",
              "ESTHER  NDIRITU                                      1\n",
              "EQUITY PAYBILL                                       1\n",
              "MARIEKA WINES AND SPIRIT                             1\n",
              "CAPTURE ADVENTURES                                   1\n",
              "RUBIS                                                1\n",
              "PIZZA IN BELLEVUE                                    1\n",
              "NCBA BANK                                            1\n",
              "GREAT IMPACT                                         1\n",
              "RODGERS SIMIYU                                       1\n",
              "COLLINS OUMA                                         1\n",
              "RIO GIFT SHOP                                        1\n",
              "ZUKU  FOR                                            1\n",
              "POA                                                  1\n",
              "MAMBO ITALIA-LAVINGTON                               1\n",
              "FAMILY BANK PESA PAP                                 1\n",
              "JOSEPHINE THUKU                                      1\n",
              "NIMROD MWATELA                                       1\n",
              "LEILA KAINGU                                         1\n",
              "PAYTECH LIMITED                                      1\n",
              "ROBERT KARIUKI                                       1\n",
              "SHELL ST AUSTINS SERVICES STATION                    1\n",
              "KENGELES-GARDEN BAR                                  1\n",
              "NAIROBI JAVA HOUSE SARIT CENTRE                      1\n",
              "KILELESHWA WARD NEIGHBORHOOD ASSOCIATION  KIWANA     1\n",
              "SEVEN EIGHT SIX BUTCHERY                             1\n",
              "NELLY BIKUNDO                                        1\n",
              "THE ORIGINS                                          1\n",
              "NAIROBI JAVA                                         1\n",
              "BETHSHEBA NYAUNDI                                    1\n",
              "DEEJINA LIMITED                                      1\n",
              "HARRISON JUMA AYUAK                                  1\n",
              "NEBERT GITAU                                         1\n",
              "LILIAN OTIENO                                        1\n",
              "OLA ENERGY KILIMANI- TYRE PLUS LIMITED               1\n",
              "AGGREY  MWANGALE                                     1\n",
              "MOHAMED  ZIMBA                                       1\n",
              "PAUL  MUASYA                                         1\n",
              "TOTAL K STATE HOUSE- SHOP                            1\n",
              "UONSDA CHURCH  MOGERE MWAYO TITHE                    1\n",
              "PALAZZO LIMITED - PARKING                            1\n",
              "JULLY AKIN                                           1\n",
              "KILIMANJARO LUNCHEONETTE                             1\n",
              "SILVANO  NGARI                                       1\n",
              "KANGA HARDWARE                                       1\n",
              "TOTALENERGIES KITISURU                               1\n",
              "ASHAKI GRILL AND BBQ                                 1\n",
              "VIBE NAIROBI LIMITED                                 1\n",
              "IPAY LTD                                             1\n",
              "BRIOCHE RUBIS LANGATA                                1\n",
              "QUICK MART FRESH N EASY BYPASS                       1\n",
              "MABENAN CYBER                                        1\n",
              "MEMORIES PRODUCTION STUDIO                           1\n",
              "LILIAN GICHU                                         1\n",
              "CAPTON ENTERPRISES NRBI WEST                         1\n",
              "MYAIRTIME LIMITED                                    1\n",
              "CAFETERIA AND TIN TIN RESTAURANT                     1\n",
              "MBAIRES RESTAURANT 6                                 1\n",
              "CAROLINE KURIA                                       1\n",
              "SKY-GARDEN                                           1\n",
              "JAVA AGAKHAN MAIN                                    1\n",
              "ZURI MEDICAL FUND  EVAN OMONDI                       1\n",
              "GLADYS WANJIRU MWANGI                                1\n",
              "MOGO AUTO LIMITED  KDA                               1\n",
              "THREE BINS SERVICES                                  1\n",
              "GARIDON ENTERPRISES VIA CO-OP                        1\n",
              "TABITHA RAORE                                        1\n",
              "KFC WOODVALE                                         1\n",
              "ENOCK  MAKORI                                        1\n",
              "WAFULA ANNE                                          1\n",
              "IM BANK                                              1\n",
              "JIWEKE TAVERN                                        1\n",
              "CHRISPIN MALOBA                                      1\n",
              "GALITOS BELLEVUE                                     1\n",
              "SIXTUS ABOLALA                                       1\n",
              "IDEAL APPLIANCES                                     1\n",
              "BETHSEBA  MAKOKHA                                    1\n",
              "HELLEN  MURIGI                                       1\n",
              "HILDA  EREGWA                                        1\n",
              "NCBA BANK KENYA PLC 1                                1\n",
              "STEPHEN  OSANGO                                      1\n",
              "DR CECILIA                                           1\n",
              "PESAPAL  FOR                                         1\n",
              "FAHARI RETIREMENT PLAN                               1\n",
              "NAIVAS SUPERMARKET                                   1\n",
              "WINTA WOLDEGABRIEL +254795225400                     1\n",
              "ART MARKET KILELESHWA                                1\n",
              "SAFARICOM POSTPAID                                   1\n",
              "KELVIN OWINO                                         1\n",
              "LIBERTY LIFE                                         1\n",
              "KEZIA  NDINI                                         1\n",
              "DESMOND MATIMU                                       1\n",
              "VINCENT KARIUKI MBURU                                1\n",
              "GLADYS MAURINE                                       1\n",
              "NAIROBI WATER  SEWERAGE CO LTD                       1\n",
              "METROMART LTD                                        1\n",
              "TOTALENERGIES MACHAKOS                               1\n",
              "PAYTECH -THE JUNCTION MALL                           1\n",
              "HUHUS PIZZA LIMITED HO                               1\n",
              "GOODLIFE PHARMACY -SARIT CENTRE 2                    1\n",
              "OWETTE DISHES                                        1\n",
              "VICTOR  WAWERU                                       1\n",
              "BAABAX EXPRESS LIMITED                               1\n",
              "BRIAN  MUNANGWE                                      1\n",
              "SAMUEL  KIBUI                                        1\n",
              "MARY MBUCHA                                          1\n",
              "CITAM KITENGELA   OFFERING  ON                       1\n",
              "BETH GICHU                                           1\n",
              "REPUBLIQOUR HUB                                      1\n",
              "MORRIS  MULWA                                        1\n",
              "LIPA KARO KCB ACCOUNT                                1\n",
              "MBCI   OFFERING  ON                                  1\n",
              "ELIVIN KWAMBOKA MOYWAYWA                             1\n",
              "THE SPOT POOL BAR                                    1\n",
              "STATES BARBERSHOP                                    1\n",
              "CETRICK  MUKALAVAI                                   1\n",
              "OUTSKIRTS PLACE                                      1\n",
              "NABO CAPITAL LTD C2B                                 1\n",
              "WANZA SEKETA                                         1\n",
              "DEEPAL  PATEL                                        1\n",
              "OAKS  CORKS - ONLINE                                 1\n",
              "QUICK MART                                           1\n",
              "OLIVIA AKINYI                                        1\n",
              "RUBIS ENJOY UN AVENUE                                1\n",
              "Name: MERCHANT_NAME, dtype: int64"
            ]
          },
          "metadata": {},
          "execution_count": 386
        }
      ],
      "source": [
        "train['MERCHANT_NAME'].value_counts()"
      ]
    },
    {
      "cell_type": "code",
      "execution_count": 387,
      "metadata": {
        "colab": {
          "base_uri": "https://localhost:8080/"
        },
        "id": "WQGej1opk3yw",
        "outputId": "966c4d0f-76e0-455e-e60e-96a4914e83ce"
      },
      "outputs": [
        {
          "output_type": "execute_result",
          "data": {
            "text/plain": [
              "FATUMA OSORE                                         17\n",
              "PETER KENDA                                          14\n",
              "SAFARICOM OFFERS  TUNUKIWA                           13\n",
              "KPLC PREPAID                                         12\n",
              "KAPS PARKING                                         11\n",
              "EQUITY PAYBILL ACCOUNT                               11\n",
              "M-SHWARI ACCOUNT                                     10\n",
              "SAFARICOM HOME                                        8\n",
              "SAFARICOM LIMITED                                     8\n",
              "LEAH NGOGA                                            8\n",
              "JACKSON ANDIVA                                        7\n",
              "QUICK MART KIAMBU                                     7\n",
              "RAPHAEL MWANGI                                        7\n",
              "TELKOM KENYA LIMITED                                  5\n",
              "TEOFILO LIGAWA                                        5\n",
              "KCB PAYBILL AC                                        5\n",
              "SAFARICOM POST PAID                                   5\n",
              "CEDRIC OCHOLA                                         5\n",
              "CARREFOUR SRT                                         5\n",
              "MYAIRTIME LIMITED                                     5\n",
              "PETER NJOORA KENDA                                    5\n",
              "JERUSA A OTIENO                                       5\n",
              "DENIS OTIENO                                          4\n",
              "ENVY VIVA CORPORATE                                   4\n",
              "TABITHA RAORE                                         4\n",
              "SAMWEL KIMANI                                         4\n",
              "TUSKYS -T MALL                                        4\n",
              "SHOP AND                                              4\n",
              "NAIVAS LIFESTYLE                                      4\n",
              "METROMART LTD                                         3\n",
              "JERUSA OTIENO                                         3\n",
              "ONESMUS  GAKURU                                       3\n",
              "ELIZABETH NYAMBURA                                    3\n",
              "MBCI   OFFERING  ON                                   3\n",
              "JOSEPH MOGERE                                         3\n",
              "ZUKU  FOR                                             3\n",
              "XGO KENYA LIMITED                                     3\n",
              "ZASH LOAN                                             3\n",
              "TOTAL K STATE HOUSE 1                                 3\n",
              "GITHUNGURI SELFRIDGES SUPERMARKET                     3\n",
              "MICHAEL MUSEMBI                                       2\n",
              "MARIEKA WINES AND SPIRIT                              2\n",
              "TOTAL ROSSLYN SERVICE STATION                         2\n",
              "CAKES BY EUDIE LIMITED                                2\n",
              "DUNCAN  NDUGO                                         2\n",
              "TOTALENERGIES KITISURU                                2\n",
              "KILELESHWA SUPERSHINE                                 2\n",
              "MARY MUGURE KIGO                                      2\n",
              "BAYES                                                 2\n",
              "PETER NGANGA KARUGA                                   2\n",
              "NAIVAS AGA KHAN WALK                                  2\n",
              "GEORGE KAMAU                                          2\n",
              "HOUSE OF CHIC                                         2\n",
              "ALBERT  MBOGO                                         2\n",
              "RISPER  KWANYA                                        2\n",
              "KANDAMOJA APP                                         2\n",
              "TONY WEST LIMITED 5                                   2\n",
              "STANBIC BANK                                          2\n",
              "KRA - NAIROBI COUNTY REVENUE                          2\n",
              "CREDITAREA CAPITAL LIMITED                            2\n",
              "HENRY NG'ENDA                                         2\n",
              "CASH NOW  CASHNOW                                     2\n",
              "JASON WANJOHI                                         2\n",
              "ZALENA KITCHEN                                        2\n",
              "WAKANDA CREDIT LIMITED                                2\n",
              "STEPHEN  OSANGO                                       2\n",
              "PURTIY MWAGIRU                                        2\n",
              "AGNES NGANGA                                          2\n",
              "MYDAWA  FOR                                           2\n",
              "LAURELS LATTE                                         2\n",
              "ZUKU                                                  2\n",
              "ELIVIN KWAMBOKA MOYWAYWA                              2\n",
              "HARRISON JUMA AYUAK                                   2\n",
              "MUCHIRI NDAMBIRI                                      2\n",
              "JOSPHINE WAMBUI HOTEL                                 2\n",
              "KUNE FOOD LAB KENYA LIMITED                           2\n",
              "RUBIS SABAKI                                          2\n",
              "M-SHWARI LOCK SAVINGS                                 2\n",
              "NCBA LOOP                                             2\n",
              "ABSA BANK KENYA PLC                                   2\n",
              "MZIZI NETWORKS                                        2\n",
              "HUHUS PIZZA LIMITED HO                                2\n",
              "ELIZABETH WANGARI                                     2\n",
              "SAFARICOM POSTPAID                                    2\n",
              "NAIROBI JAVA                                          2\n",
              "HENRY MOGERE                                          1\n",
              "ALLSTAR GAS SUPPLIES                                  1\n",
              "ALEX  SAKWA                                           1\n",
              "JUMIA KE  VZEOAQ                                      1\n",
              "CHANDARANA YAYA 1                                     1\n",
              "JULLY AKIN                                            1\n",
              "ENGEN KENYA                                           1\n",
              "ESTHER WANJIKU KARANJA                                1\n",
              "JACINTA MWONGELI KALOKI VIA SMEP                      1\n",
              "DORCAS  WANJOHI                                       1\n",
              "VMX FITNESS LTD  LUCIA MUNANIE WAMBUA                 1\n",
              "FRACIAH  KAGAI                                        1\n",
              "JUDY                                                  1\n",
              "DIRECT PAY                                            1\n",
              "CRAFT - CHUPA CHAP                                    1\n",
              "MICHAEL  NJERU                                        1\n",
              "JOEL  RABEL                                           1\n",
              "DAVID MWANIKI NJOKA                                   1\n",
              "SAFARICOM POSTPAID BUNDLES                            1\n",
              "GLADYS MAURINE                                        1\n",
              "IVY SHIKUMU                                           1\n",
              "JOHN  KIOKO                                           1\n",
              "ODHIAMBO OCHIMBO                                      1\n",
              "NAIVAS KITENGELA                                      1\n",
              "JACKLINE MWAI                                         1\n",
              "FREDRICK  OMENYO                                      1\n",
              "CARREFOUR                                             1\n",
              "STEPHANIE WANGUI                                      1\n",
              "HELLEN OTIENO                                         1\n",
              "SHELL WINDSER                                         1\n",
              "NAIVAS KAMAKIS                                        1\n",
              "WINFRIDA KHATIALA MULAMA                              1\n",
              "MICHELLE  RODROT                                      1\n",
              "THOMAS GITHINJI GATHIOMI                              1\n",
              "JOHN WAITHERA                                         1\n",
              "PATRICK  MASESE                                       1\n",
              "KELVIN NJOKA                                          1\n",
              "ROGERS MORANGA                                        1\n",
              "FAMILY BANK PESA PAP                                  1\n",
              "TOTAL BODY TRANSFORMATION  LUCIA MUNANIE              1\n",
              "RHODA RICHARD                                         1\n",
              "FARMER'S CHOICE STOCKISTS                             1\n",
              "MAMLAKA  HILL                                         1\n",
              "RUSHAB PETROLEUM LIMITED 1                            1\n",
              "MARGARET  GACOMBA                                     1\n",
              "THE WINNING POST LIMITED 1                            1\n",
              "PESAPAL  FOR                                          1\n",
              "RODNEY  WAITE                                         1\n",
              "K UNITY SACCO LIMITED                                 1\n",
              "LEE MBITHI                                            1\n",
              "ELIAS MBURU                                           1\n",
              "PATRICIA  ROMANA                                      1\n",
              "ANASTACIA CHEROBON                                    1\n",
              "NOVACARE PHARMACY                                     1\n",
              "LIBERTY LIFE                                          1\n",
              "SAFARICOM POST                                        1\n",
              "JOHN ONYANGO                                          1\n",
              "GALITOS BELLEVUE                                      1\n",
              "ANKOLE GRILL LIMITED                                  1\n",
              "SHARON GESORA                                         1\n",
              "BERNARD NDUNG'U                                       1\n",
              "GO TV                                                 1\n",
              "CHARLENNE AKETCH OBBO ONYANGO                         1\n",
              "FAYAZ BAKERS KILIFI TOWN SHOP                         1\n",
              "UONSDA CHURCH  TITHE-MAIN                             1\n",
              "TERESA NYARUNDA                                       1\n",
              "CBD-680                                               1\n",
              "JUDY  MUSISIA                                         1\n",
              "THE NGONG ROAD FOREST ASSOCIATION1                    1\n",
              "FATHALLA  ABOUBAKR                                    1\n",
              "POA                                                   1\n",
              "CARREFOUR GLR                                         1\n",
              "NAIROBI FAIRY NIGHT LIGHTS LIMITED  EVAN              1\n",
              "NAOMI  GATHUU                                         1\n",
              "TRASH MANAGER LIMITED                                 1\n",
              "TOTALENERGIES MADARAKA 1                              1\n",
              "SMOOTHIE DJS ENTERPRISE 2                             1\n",
              "STEPHEN  GITHII                                       1\n",
              "JOSEPHINE THUKU                                       1\n",
              "MOUREEN MOMANYI                                       1\n",
              "O-STREAM CREDIT HELA                                  1\n",
              "TINGG CELLULANT                                       1\n",
              "DUKE NYAMARI                                          1\n",
              "STEDMARK GARDENS  RECREATION CENTER KAREN NAIROBI     1\n",
              "THE BOSSBABY                                          1\n",
              "RHODA  MBITHU                                         1\n",
              "JOSEPH NTHENGE                                        1\n",
              "AUDRINE  MAKAKA                                       1\n",
              "PETER  KIHIU                                          1\n",
              "FARMERS BUTCHERY                                      1\n",
              "UCHUMI SUPERMARKET NAIROBI WEST 3                     1\n",
              "FLORENCE KANANA                                       1\n",
              "PIZZA HUT YAYA                                        1\n",
              "FREDRICK  NGATIA                                      1\n",
              "GHARIB HABIB                                          1\n",
              "ALMA APARTMENTS MANAGEMENT CO LTD                     1\n",
              "KEN WINES AND SPIRITS                                 1\n",
              "CHAPA COPY COMPANY - KILELESHWA                       1\n",
              "MARK  MUSISIA                                         1\n",
              "JUDITH MOSIGISI                                       1\n",
              "BLIZZ WINES AND SPIRITS DISTRIBUTORS                  1\n",
              "DORINE ADHIAMBO                                       1\n",
              "OILIBYA WAIYAKI                                       1\n",
              "MATHEW RAPANDO                                        1\n",
              "EDWIN  OMBATI                                         1\n",
              "REUBEN WEMO MEDICAL FUND  MICHEL ON                   1\n",
              "SILVANO  NGARI                                        1\n",
              "JULIA ODOYO                                           1\n",
              "CITAM KAREN   TITHE  ON                               1\n",
              "SAFARICOM LIMITED  ON                                 1\n",
              "WANGARI KINYANJUI                                     1\n",
              "INNOCENT KOJWANG                                      1\n",
              "PLANTY FLOWER AND GARDEN                              1\n",
              "SERENI STORES AND MINIMATT                            1\n",
              "SAFARICOM OFFERS                                      1\n",
              "SMART GYMS                                            1\n",
              "SHOP LOCAL -ALMA                                      1\n",
              "VALENTINE PUB WINE AND SPIRITS  V                     1\n",
              "BRAVINE SUNGAH STOWER                                 1\n",
              "MOGO AUTO LIMITED  KDA                                1\n",
              "KCB PAYBILL                                           1\n",
              "VENY  MAUTI                                           1\n",
              "MARY MUNGAI                                           1\n",
              "ZIMELE UNIT TRUST                                     1\n",
              "CHRISTOHER ONGAYA                                     1\n",
              "SEVEN EIGHT SIX BUTCHERY                              1\n",
              "SAFARILINK AVIATION LIMITED                           1\n",
              "JACKSON  MUSYOKI                                      1\n",
              "NELLY WANJIRU KURIA                                   1\n",
              "ACCESS AFYA                                           1\n",
              "BIG FISH                                              1\n",
              "QUICK MART RUAKA                                      1\n",
              "CHRISTINE MUTISYA                                     1\n",
              "SERENI STORES                                         1\n",
              "PETER  INDIMULI                                       1\n",
              "BARISTAPRO KENYA LTD                                  1\n",
              "CO-OPERATIVE BANK COLLECTION ACCOUNT                  1\n",
              "CARREFOUR  GLR                                        1\n",
              "JANE OKELLO                                           1\n",
              "COCO JAMBO                                            1\n",
              "PESAPAL                                               1\n",
              "JOHN NJIRU GAKUNJU                                    1\n",
              "UONSDA CHURCH  OFFERING-MAIN                          1\n",
              "BATA                                                  1\n",
              "MOTOR CONSULT SERVICES LIMITED VIA NIC BANK           1\n",
              "KENNEDY MUMIA                                         1\n",
              "GOODLIFE PHARMACY WESTLANDS SQUARE                    1\n",
              "ARNICA PHARMACEUTICALS                                1\n",
              "SHELL RIDGEWAYS                                       1\n",
              "KENDRICK  NAMAL                                       1\n",
              "JAVA AGAKHAN MAIN                                     1\n",
              "MBCI  FOR                                             1\n",
              "DUNTON OKOTH                                          1\n",
              "CECILIA  MWANGI                                       1\n",
              "KENYA REVENUE AUTHORITY                               1\n",
              "LOISHOOK  GODWIN                                      1\n",
              "ANTONY  MAKAU                                         1\n",
              "CAROLINE KURIA                                        1\n",
              "ZAVON HEZRON                                          1\n",
              "THE BARNYARD LOUNGE AND GRILL                         1\n",
              "JACKLINE IMINZA                                       1\n",
              "FELIX  KAINDI                                         1\n",
              "ROBERT KARIUKI                                        1\n",
              "PAYTECH LIMITED                                       1\n",
              "LAWRENCE KIMONDO NGATA                                1\n",
              "JULIUS  ANDABWA                                       1\n",
              "ALPHA CAR WASH                                        1\n",
              "MOGO AUTO LIMITED                                     1\n",
              "VITAMIX FRESH FRUITS AND JUICES                       1\n",
              "FRIDAH OWINO                                          1\n",
              "SAMWEL WANGAI                                         1\n",
              "CHRISTINE OOKO                                        1\n",
              "ALLAN WAMBURA                                         1\n",
              "IPAY LTD                                              1\n",
              "JANET MBOGO                                           1\n",
              "GEORGE  GACHERU                                       1\n",
              "RIO GIFT SHOP                                         1\n",
              "TUSKYS -CHAP CHAP THIGIRI                             1\n",
              "STEPHEN  MUGA                                         1\n",
              "SIMON MUNYIRI                                         1\n",
              "BUY DIRECT LIMITED 2                                  1\n",
              "PALLET CAFE LTD                                       1\n",
              "JAMES MUTEGI                                          1\n",
              "PAUL  NGICHO                                          1\n",
              "ARDEN AXIDA ABUOCH                                    1\n",
              "TOTAL - KIAMBU ROAD                                   1\n",
              "TOTAL SIGONA SERVICE STATION                          1\n",
              "CAPTON ENTERPRISES NRBI WEST                          1\n",
              "PHILIP KAGIRI                                         1\n",
              "MAXWELL  OCHIENG                                      1\n",
              "GRIFFINS OBWOGI                                       1\n",
              "MWIRERI BAR                                           1\n",
              "AGNES  KASYOKI                                        1\n",
              "ZURI MEDICAL FUND  EVAN                               1\n",
              "BRIAN OKUKU                                           1\n",
              "MINT N                                                1\n",
              "SKY-GARDEN                                            1\n",
              "CLENICE MBECHE                                        1\n",
              "SHELL UTHIRU TRAVELLERS STATION                       1\n",
              "CLAPPERTON  MUSYOKI                                   1\n",
              "FRANCIS  KABOCHI                                      1\n",
              "DEEJINA LIMITED                                       1\n",
              "JAMES NJOROGE                                         1\n",
              "KEMAHMWA ENTERPRISE HQ                                1\n",
              "JOAN  SAINEPU                                         1\n",
              "FOUR SQUARE FINE CUTS                                 1\n",
              "SANAVAC COMPANY                                       1\n",
              "THE MIKALSENS                                         1\n",
              "LILIAN  MITEI                                         1\n",
              "BOLT FASHIONS                                         1\n",
              "FYTY CARWASH                                          1\n",
              "PETER MANTHI                                          1\n",
              "ASL TD                                                1\n",
              "KENYA MEAT PROCESSORS-DELI                            1\n",
              "JAMES  EKISE                                          1\n",
              "MARTIN NJERU                                          1\n",
              "SENSES ROOFTOP LOUNGE LIMITED                         1\n",
              "TOTAL ENERGIES KILELESHWA-LEMPIRAS LIMITED            1\n",
              "PATRICK KIMUYU                                        1\n",
              "ARTCAFFE TWO RIVERS                                   1\n",
              "JIWEKE TAVERN                                         1\n",
              "ESTHER  NDIRITU                                       1\n",
              "BILLY OMOLO                                           1\n",
              "AMBROSE MWALILI                                       1\n",
              "NAIVAS MOI AVENUE                                     1\n",
              "KELVIN  THUO                                          1\n",
              "GOOGLE PLAYSTORE  GOOGLE PLAY PURCHASE                1\n",
              "FISH BAY                                              1\n",
              "DECATHLON HUB TILL 5                                  1\n",
              "Name: MERCHANT_NAME, dtype: int64"
            ]
          },
          "metadata": {},
          "execution_count": 387
        }
      ],
      "source": [
        "test['MERCHANT_NAME'].value_counts()"
      ]
    },
    {
      "cell_type": "markdown",
      "metadata": {
        "id": "zv3QhEwHk3yw"
      },
      "source": [
        "#### Even though merchant name, using domain knowledge might be useful because there is no way safaricom sells groceries but there are so many unknown vendors that may add noise to this plus there are new merchants in the test so maybe after the baseline we can work this out .\n",
        "* This is our golf feature, if we can work a way around this feature in a good way then we can really bag the first prize\n"
      ]
    },
    {
      "cell_type": "markdown",
      "metadata": {
        "id": "TIaRtvU4k3yx"
      },
      "source": [
        "### Binary Columns "
      ]
    },
    {
      "cell_type": "code",
      "execution_count": 388,
      "metadata": {
        "colab": {
          "base_uri": "https://localhost:8080/"
        },
        "id": "Awj5b6tmk3yy",
        "outputId": "5c6eccfb-a953-42c6-e955-42f63177bd5b"
      },
      "outputs": [
        {
          "output_type": "execute_result",
          "data": {
            "text/plain": [
              "False    203\n",
              "True     170\n",
              "Name: IS_PURCHASE_PAID_VIA_MPESA_SEND_MONEY, dtype: int64"
            ]
          },
          "metadata": {},
          "execution_count": 388
        }
      ],
      "source": [
        "train['IS_PURCHASE_PAID_VIA_MPESA_SEND_MONEY'].value_counts()"
      ]
    },
    {
      "cell_type": "code",
      "execution_count": 389,
      "metadata": {
        "colab": {
          "base_uri": "https://localhost:8080/"
        },
        "id": "JTSSumwzk3yy",
        "outputId": "4d6216da-830f-4b60-c12c-5023e1385895"
      },
      "outputs": [
        {
          "output_type": "execute_result",
          "data": {
            "text/plain": [
              "False    299\n",
              "True     259\n",
              "Name: IS_PURCHASE_PAID_VIA_MPESA_SEND_MONEY, dtype: int64"
            ]
          },
          "metadata": {},
          "execution_count": 389
        }
      ],
      "source": [
        "test['IS_PURCHASE_PAID_VIA_MPESA_SEND_MONEY'].value_counts()"
      ]
    },
    {
      "cell_type": "code",
      "execution_count": 390,
      "metadata": {
        "colab": {
          "base_uri": "https://localhost:8080/"
        },
        "id": "7D2_CRvJk3yz",
        "outputId": "e57aca30-ee40-4faa-a31e-d2899e6cf091"
      },
      "outputs": [
        {
          "output_type": "execute_result",
          "data": {
            "text/plain": [
              "Male      203\n",
              "Female    170\n",
              "Name: USER_GENDER, dtype: int64"
            ]
          },
          "metadata": {},
          "execution_count": 390
        }
      ],
      "source": [
        "train['USER_GENDER'].value_counts()"
      ]
    },
    {
      "cell_type": "code",
      "execution_count": 391,
      "metadata": {
        "colab": {
          "base_uri": "https://localhost:8080/"
        },
        "id": "ese4atqbk3yz",
        "outputId": "49c593ae-57c3-4cbd-e047-9c60016aff9d"
      },
      "outputs": [
        {
          "output_type": "execute_result",
          "data": {
            "text/plain": [
              "Male      312\n",
              "Female    246\n",
              "Name: USER_GENDER, dtype: int64"
            ]
          },
          "metadata": {},
          "execution_count": 391
        }
      ],
      "source": [
        "test['USER_GENDER'].value_counts()"
      ]
    },
    {
      "cell_type": "markdown",
      "metadata": {
        "id": "P2gB3kV-k3yz"
      },
      "source": [
        "#### So the binary columns are almost equally balanced so fine"
      ]
    },
    {
      "cell_type": "markdown",
      "metadata": {
        "id": "OA-KQxwKk3y1"
      },
      "source": [
        "## NUMERICAL COLUMNS"
      ]
    },
    {
      "cell_type": "markdown",
      "metadata": {
        "id": "E7gQYlyAk3y1"
      },
      "source": [
        "### Purchase Value before and after log transformation"
      ]
    },
    {
      "cell_type": "code",
      "execution_count": 392,
      "metadata": {
        "colab": {
          "base_uri": "https://localhost:8080/",
          "height": 106
        },
        "id": "2a5O2kj6k3y1",
        "outputId": "49988fa6-d713-4901-8c10-7c7937d9bef9"
      },
      "outputs": [
        {
          "output_type": "execute_result",
          "data": {
            "text/plain": [
              "<matplotlib.axes._subplots.AxesSubplot at 0x7f5ed2b47f50>"
            ]
          },
          "metadata": {},
          "execution_count": 392
        },
        {
          "output_type": "display_data",
          "data": {
            "text/plain": [
              "<Figure size 432x288 with 1 Axes>"
            ],
            "image/png": "[encoded data removed]"
          },
          "metadata": {
            "needs_background": "light"
          }
        }
      ],
      "source": [
        "sb.distplot(train['PURCHASE_VALUE'])"
      ]
    },
    {
      "cell_type": "code",
      "execution_count": 393,
      "metadata": {
        "colab": {
          "base_uri": "https://localhost:8080/",
          "height": 106
        },
        "id": "IqKm4Fdfk3y1",
        "outputId": "715f1fdf-82c9-4d08-f48b-467e025900aa"
      },
      "outputs": [
        {
          "output_type": "execute_result",
          "data": {
            "text/plain": [
              "<matplotlib.axes._subplots.AxesSubplot at 0x7f5ed2ee4d50>"
            ]
          },
          "metadata": {},
          "execution_count": 393
        },
        {
          "output_type": "display_data",
          "data": {
            "text/plain": [
              "<Figure size 432x288 with 1 Axes>"
            ],
            "image/png": "[encoded data removed]"
          },
          "metadata": {
            "needs_background": "light"
          }
        }
      ],
      "source": [
        "sb.boxplot(train['PURCHASE_VALUE'])"
      ]
    },
    {
      "cell_type": "code",
      "execution_count": 394,
      "metadata": {
        "colab": {
          "base_uri": "https://localhost:8080/",
          "height": 106
        },
        "id": "hNfX1WYsk3y2",
        "outputId": "51098c3f-78a5-44ed-9676-227b22dd0d91"
      },
      "outputs": [
        {
          "output_type": "execute_result",
          "data": {
            "text/plain": [
              "<matplotlib.axes._subplots.AxesSubplot at 0x7f5ed2b12e10>"
            ]
          },
          "metadata": {},
          "execution_count": 394
        },
        {
          "output_type": "display_data",
          "data": {
            "text/plain": [
              "<Figure size 432x288 with 1 Axes>"
            ],
            "image/png": "[encoded data removed]"
          },
          "metadata": {
            "needs_background": "light"
          }
        }
      ],
      "source": [
        "sb.distplot(np.log1p(train['PURCHASE_VALUE']))"
      ]
    },
    {
      "cell_type": "code",
      "execution_count": 395,
      "metadata": {
        "colab": {
          "base_uri": "https://localhost:8080/",
          "height": 106
        },
        "id": "-4H8dvQ4k3y2",
        "outputId": "d9b31d42-7e7e-4731-bf9d-aa660fadbe5c"
      },
      "outputs": [
        {
          "output_type": "execute_result",
          "data": {
            "text/plain": [
              "<matplotlib.axes._subplots.AxesSubplot at 0x7f5ed2ae8590>"
            ]
          },
          "metadata": {},
          "execution_count": 395
        },
        {
          "output_type": "display_data",
          "data": {
            "text/plain": [
              "<Figure size 432x288 with 1 Axes>"
            ],
            "image/png": "[encoded data removed]"
          },
          "metadata": {
            "needs_background": "light"
          }
        }
      ],
      "source": [
        "sb.boxplot(np.log1p(train['PURCHASE_VALUE']))"
      ]
    },
    {
      "cell_type": "code",
      "execution_count": 396,
      "metadata": {
        "colab": {
          "base_uri": "https://localhost:8080/",
          "height": 106
        },
        "id": "8ruZYcVxk3y2",
        "outputId": "a09226c1-529c-4f12-e796-5256111dc918"
      },
      "outputs": [
        {
          "output_type": "execute_result",
          "data": {
            "text/plain": [
              "<matplotlib.axes._subplots.AxesSubplot at 0x7f5ed29cae90>"
            ]
          },
          "metadata": {},
          "execution_count": 396
        },
        {
          "output_type": "display_data",
          "data": {
            "text/plain": [
              "<Figure size 432x288 with 1 Axes>"
            ],
            "image/png": "[encoded data removed]"
          },
          "metadata": {
            "needs_background": "light"
          }
        }
      ],
      "source": [
        "sb.boxplot(test['PURCHASE_VALUE'])"
      ]
    },
    {
      "cell_type": "code",
      "execution_count": 397,
      "metadata": {
        "colab": {
          "base_uri": "https://localhost:8080/",
          "height": 106
        },
        "id": "9aRdBMACk3y2",
        "outputId": "f80e371d-3f49-4e30-8393-a731f1a354a1"
      },
      "outputs": [
        {
          "output_type": "execute_result",
          "data": {
            "text/plain": [
              "<matplotlib.axes._subplots.AxesSubplot at 0x7f5ed2941950>"
            ]
          },
          "metadata": {},
          "execution_count": 397
        },
        {
          "output_type": "display_data",
          "data": {
            "text/plain": [
              "<Figure size 432x288 with 1 Axes>"
            ],
            "image/png": "[encoded data removed]"
          },
          "metadata": {
            "needs_background": "light"
          }
        }
      ],
      "source": [
        "sb.distplot(np.log1p(test['PURCHASE_VALUE']))"
      ]
    },
    {
      "cell_type": "code",
      "execution_count": 398,
      "metadata": {
        "colab": {
          "base_uri": "https://localhost:8080/",
          "height": 106
        },
        "id": "AwKMtuQUk3y3",
        "outputId": "50e6349f-2fa7-480f-e300-81282b7d1f61"
      },
      "outputs": [
        {
          "output_type": "execute_result",
          "data": {
            "text/plain": [
              "<matplotlib.axes._subplots.AxesSubplot at 0x7f5ed2a0efd0>"
            ]
          },
          "metadata": {},
          "execution_count": 398
        },
        {
          "output_type": "display_data",
          "data": {
            "text/plain": [
              "<Figure size 432x288 with 1 Axes>"
            ],
            "image/png": "[encoded data removed]"
          },
          "metadata": {
            "needs_background": "light"
          }
        }
      ],
      "source": [
        "sb.boxplot(test['PURCHASE_VALUE'])"
      ]
    },
    {
      "cell_type": "code",
      "execution_count": 399,
      "metadata": {
        "colab": {
          "base_uri": "https://localhost:8080/",
          "height": 106
        },
        "id": "xOW8q2z_k3y3",
        "outputId": "e57e439e-b83a-4b43-8955-c6aee93219de"
      },
      "outputs": [
        {
          "output_type": "execute_result",
          "data": {
            "text/plain": [
              "<matplotlib.axes._subplots.AxesSubplot at 0x7f5ed2860b50>"
            ]
          },
          "metadata": {},
          "execution_count": 399
        },
        {
          "output_type": "display_data",
          "data": {
            "text/plain": [
              "<Figure size 432x288 with 1 Axes>"
            ],
            "image/png": "[encoded data removed]"
          },
          "metadata": {
            "needs_background": "light"
          }
        }
      ],
      "source": [
        "sb.boxplot(np.log1p(test['PURCHASE_VALUE']))"
      ]
    },
    {
      "cell_type": "code",
      "execution_count": 400,
      "metadata": {
        "colab": {
          "base_uri": "https://localhost:8080/",
          "height": 106
        },
        "id": "O4xawNpQk3y4",
        "outputId": "f44caa48-6601-45d6-c83c-35cc19199175"
      },
      "outputs": [
        {
          "output_type": "execute_result",
          "data": {
            "text/plain": [
              "<matplotlib.axes._subplots.AxesSubplot at 0x7f5ed27cc890>"
            ]
          },
          "metadata": {},
          "execution_count": 400
        },
        {
          "output_type": "display_data",
          "data": {
            "text/plain": [
              "<Figure size 432x288 with 1 Axes>"
            ],
            "image/png": "[encoded data removed]"
          },
          "metadata": {
            "needs_background": "light"
          }
        }
      ],
      "source": [
        "sb.boxplot(np.log1p(extra['PURCHASE_VALUE']))"
      ]
    },
    {
      "cell_type": "markdown",
      "metadata": {
        "id": "Y2qd_jx5k3y4"
      },
      "source": [
        "#### Notice how when we log transform purchase value everything behaves as a gaussian transformation so this transformation is a must have\n",
        "* Turns out it made the CV score worse why? maybe we need to have those extremes for the categories that are expensive in regards to PURCHASE VALUE"
      ]
    },
    {
      "cell_type": "code",
      "execution_count": 401,
      "metadata": {
        "id": "Zy8zCubzk3y6"
      },
      "outputs": [],
      "source": [
        "# train['PURCHASE_VALUE'] = np.log1p(train['PURCHASE_VALUE'])\n",
        "# test['PURCHASE_VALUE'] = np.log1p(test['PURCHASE_VALUE'])\n",
        "# extra['PURCHASE_VALUE'] = np.log1p(extra['PURCHASE_VALUE'])"
      ]
    },
    {
      "cell_type": "markdown",
      "metadata": {
        "id": "YJ9tieJhk3y6"
      },
      "source": [
        "### DATE COLUMNS\n",
        "### Purchased_At "
      ]
    },
    {
      "cell_type": "code",
      "execution_count": 402,
      "metadata": {
        "colab": {
          "base_uri": "https://localhost:8080/"
        },
        "id": "9EhQSxJsk3y7",
        "outputId": "1503bd88-6669-4190-f48f-c9401b59ea8d"
      },
      "outputs": [
        {
          "output_type": "execute_result",
          "data": {
            "text/plain": [
              "Index(['MERCHANT_CATEGORIZED_AT', 'MERCHANT_NAME', 'MERCHANT_CATEGORIZED_AS',\n",
              "       'PURCHASE_VALUE', 'PURCHASED_AT',\n",
              "       'IS_PURCHASE_PAID_VIA_MPESA_SEND_MONEY', 'USER_GENDER',\n",
              "       'USER_HOUSEHOLD', 'USER_INCOME', 'USER_ID', 'Transaction_ID'],\n",
              "      dtype='object')"
            ]
          },
          "metadata": {},
          "execution_count": 402
        }
      ],
      "source": [
        "train.columns"
      ]
    },
    {
      "cell_type": "code",
      "execution_count": 403,
      "metadata": {
        "colab": {
          "base_uri": "https://localhost:8080/",
          "height": 1000
        },
        "id": "fs6EfmDZk3y7",
        "outputId": "5f4e7c40-dfe0-4273-fc52-32ff853f2219"
      },
      "outputs": [
        {
          "output_type": "stream",
          "name": "stdout",
          "text": [
            "2021-11-18 11:02:00+00    2\n",
            "2021-08-24 14:53:00+00    2\n",
            "2021-08-04 15:03:00+00    2\n",
            "2021-01-15 15:40:00+00    2\n",
            "2021-10-22 15:49:00+00    2\n",
            "2021-10-11 17:12:00+00    2\n",
            "2019-06-20 08:41:00+00    2\n",
            "2019-03-11 05:38:00+00    2\n",
            "2022-04-07 12:10:00+00    1\n",
            "2022-01-21 11:29:00+00    1\n",
            "2022-02-26 15:38:00+00    1\n",
            "2022-05-14 19:00:00+00    1\n",
            "2022-04-09 07:11:00+00    1\n",
            "2021-12-02 18:37:00+00    1\n",
            "2018-12-05 09:36:00+00    1\n",
            "2022-03-07 20:16:00+00    1\n",
            "2021-12-22 12:13:00+00    1\n",
            "2021-11-19 11:24:00+00    1\n",
            "2022-02-09 04:58:00+00    1\n",
            "2021-11-30 08:24:00+00    1\n",
            "2021-09-11 12:26:00+00    1\n",
            "2022-05-25 10:00:00+00    1\n",
            "2019-03-25 09:46:00+00    1\n",
            "2022-05-12 05:50:00+00    1\n",
            "2021-10-02 14:16:00+00    1\n",
            "2020-03-24 10:10:00+00    1\n",
            "2022-04-05 09:19:00+00    1\n",
            "2021-11-08 10:31:00+00    1\n",
            "2021-09-23 14:40:00+00    1\n",
            "2021-09-27 11:18:00+00    1\n",
            "2021-10-18 06:42:00+00    1\n",
            "2021-11-01 08:56:00+00    1\n",
            "2022-03-27 16:30:00+00    1\n",
            "2021-10-23 17:46:00+00    1\n",
            "2022-06-01 08:40:00+00    1\n",
            "2022-06-02 19:18:00+00    1\n",
            "2021-10-18 14:34:00+00    1\n",
            "2022-06-02 18:59:00+00    1\n",
            "2021-10-20 05:10:00+00    1\n",
            "2022-03-02 08:55:00+00    1\n",
            "2022-03-18 07:05:00+00    1\n",
            "2022-04-12 06:19:00+00    1\n",
            "2022-04-15 18:31:00+00    1\n",
            "2022-01-23 10:53:00+00    1\n",
            "2022-04-14 10:34:00+00    1\n",
            "2021-06-09 11:10:00+00    1\n",
            "2021-11-14 16:32:00+00    1\n",
            "2021-10-01 10:23:00+00    1\n",
            "2021-09-27 15:54:00+00    1\n",
            "2022-04-28 15:13:00+00    1\n",
            "2021-11-19 11:23:00+00    1\n",
            "2021-09-02 10:32:00+00    1\n",
            "2022-06-02 15:23:00+00    1\n",
            "2022-05-01 12:59:00+00    1\n",
            "2022-04-06 07:31:00+00    1\n",
            "2022-03-27 14:00:00+00    1\n",
            "2021-09-30 09:14:00+00    1\n",
            "2022-04-27 13:29:00+00    1\n",
            "2022-04-14 11:51:00+00    1\n",
            "2022-05-18 15:46:00+00    1\n",
            "2022-06-05 17:33:00+00    1\n",
            "2022-04-14 10:42:00+00    1\n",
            "2022-01-06 21:26:00+00    1\n",
            "2022-01-28 13:05:00+00    1\n",
            "2020-01-23 12:40:00+00    1\n",
            "2021-11-19 11:06:00+00    1\n",
            "2022-05-15 08:30:00+00    1\n",
            "2021-10-19 09:02:00+00    1\n",
            "2022-04-05 15:03:00+00    1\n",
            "2022-04-02 06:59:00+00    1\n",
            "2019-09-01 17:42:00+00    1\n",
            "2022-02-22 10:49:00+00    1\n",
            "2022-03-16 07:10:00+00    1\n",
            "2021-11-29 07:46:00+00    1\n",
            "2021-07-30 03:23:00+00    1\n",
            "2022-03-19 21:16:00+00    1\n",
            "2022-04-09 11:11:00+00    1\n",
            "2022-02-20 09:11:00+00    1\n",
            "2021-11-29 15:40:00+00    1\n",
            "2022-04-14 16:42:00+00    1\n",
            "2022-04-27 12:51:00+00    1\n",
            "2022-04-20 12:07:00+00    1\n",
            "2021-07-21 14:36:00+00    1\n",
            "2022-04-09 16:24:00+00    1\n",
            "2021-09-15 12:02:00+00    1\n",
            "2021-09-23 12:28:00+00    1\n",
            "2021-11-03 09:35:00+00    1\n",
            "2022-05-11 15:11:00+00    1\n",
            "2021-10-16 09:30:00+00    1\n",
            "2022-04-13 08:07:00+00    1\n",
            "2022-03-30 11:04:00+00    1\n",
            "2021-10-08 11:07:00+00    1\n",
            "2021-09-28 14:26:00+00    1\n",
            "2021-09-24 10:32:00+00    1\n",
            "2022-05-04 13:56:00+00    1\n",
            "2021-09-17 13:20:00+00    1\n",
            "2021-11-29 16:12:00+00    1\n",
            "2022-04-03 05:57:00+00    1\n",
            "2022-06-02 07:53:00+00    1\n",
            "2022-01-14 06:38:00+00    1\n",
            "2021-09-03 16:00:00+00    1\n",
            "2021-09-17 09:38:00+00    1\n",
            "2022-03-05 20:34:00+00    1\n",
            "2022-02-25 07:47:00+00    1\n",
            "2022-02-28 15:41:00+00    1\n",
            "2022-04-02 09:40:00+00    1\n",
            "2022-04-17 12:35:00+00    1\n",
            "2022-05-23 08:33:00+00    1\n",
            "2022-04-01 06:08:00+00    1\n",
            "2022-04-28 11:22:00+00    1\n",
            "2022-02-07 16:15:00+00    1\n",
            "2021-10-27 15:41:00+00    1\n",
            "2022-05-29 05:26:00+00    1\n",
            "2022-06-02 08:19:00+00    1\n",
            "2020-11-20 10:48:00+00    1\n",
            "2022-05-02 13:09:00+00    1\n",
            "2022-02-06 11:30:00+00    1\n",
            "2021-09-13 11:03:00+00    1\n",
            "2021-11-08 11:41:00+00    1\n",
            "2022-04-10 07:29:00+00    1\n",
            "2021-10-08 10:33:00+00    1\n",
            "2022-04-03 08:39:00+00    1\n",
            "2021-08-26 13:38:00+00    1\n",
            "2021-12-27 20:14:00+00    1\n",
            "2022-04-19 15:16:00+00    1\n",
            "2022-03-22 10:59:00+00    1\n",
            "2022-05-03 07:23:00+00    1\n",
            "2022-02-17 06:08:00+00    1\n",
            "2021-06-11 18:25:00+00    1\n",
            "2022-05-31 14:57:00+00    1\n",
            "2022-04-29 05:16:00+00    1\n",
            "2020-10-04 21:29:00+00    1\n",
            "2020-05-29 08:09:00+00    1\n",
            "2019-07-16 16:39:00+00    1\n",
            "2022-03-31 05:48:00+00    1\n",
            "2019-07-10 04:46:00+00    1\n",
            "2022-01-02 14:46:00+00    1\n",
            "2022-03-26 07:36:00+00    1\n",
            "2021-09-03 06:24:00+00    1\n",
            "2022-05-29 10:31:00+00    1\n",
            "2019-07-03 07:31:00+00    1\n",
            "2019-12-27 09:04:00+00    1\n",
            "2022-01-23 08:53:00+00    1\n",
            "2022-02-06 10:50:00+00    1\n",
            "2021-10-07 10:38:00+00    1\n",
            "2022-06-06 10:45:00+00    1\n",
            "2022-05-21 16:52:00+00    1\n",
            "2022-01-15 11:50:00+00    1\n",
            "2021-11-04 11:57:00+00    1\n",
            "2021-09-21 11:23:00+00    1\n",
            "2021-09-05 06:28:00+00    1\n",
            "2022-01-12 05:19:00+00    1\n",
            "2021-12-02 18:57:00+00    1\n",
            "2021-09-02 18:06:00+00    1\n",
            "2022-04-12 10:40:00+00    1\n",
            "2021-09-28 18:21:00+00    1\n",
            "2021-10-16 07:11:00+00    1\n",
            "2022-04-06 10:57:00+00    1\n",
            "2021-07-25 10:54:00+00    1\n",
            "2022-06-02 15:25:00+00    1\n",
            "2022-04-29 19:27:00+00    1\n",
            "2022-06-06 08:07:00+00    1\n",
            "2022-03-14 08:21:00+00    1\n",
            "2022-05-25 10:22:00+00    1\n",
            "2021-12-17 18:51:00+00    1\n",
            "2022-05-04 13:42:00+00    1\n",
            "2021-11-19 11:59:00+00    1\n",
            "2019-12-31 12:25:00+00    1\n",
            "2021-09-08 05:56:00+00    1\n",
            "2022-01-10 03:04:00+00    1\n",
            "2022-06-06 14:55:00+00    1\n",
            "2021-08-08 07:11:00+00    1\n",
            "2021-07-21 17:46:00+00    1\n",
            "2021-10-09 17:56:00+00    1\n",
            "2022-03-15 10:00:00+00    1\n",
            "2021-05-13 14:28:00+00    1\n",
            "2022-06-05 17:12:00+00    1\n",
            "2020-08-01 08:03:00+00    1\n",
            "2022-02-08 09:51:00+00    1\n",
            "2021-10-19 17:27:00+00    1\n",
            "2022-03-19 11:06:00+00    1\n",
            "2021-12-05 07:20:00+00    1\n",
            "2022-04-26 13:37:00+00    1\n",
            "2022-03-23 11:17:00+00    1\n",
            "2022-05-12 19:07:00+00    1\n",
            "2022-05-12 13:31:00+00    1\n",
            "2022-04-03 05:40:00+00    1\n",
            "2021-09-13 11:51:00+00    1\n",
            "2019-10-05 16:02:00+00    1\n",
            "2022-01-06 05:41:00+00    1\n",
            "2022-03-25 14:33:00+00    1\n",
            "2021-11-30 17:00:00+00    1\n",
            "2022-04-07 06:10:00+00    1\n",
            "2022-05-30 11:29:00+00    1\n",
            "2021-09-22 10:58:00+00    1\n",
            "2021-10-22 06:56:00+00    1\n",
            "2022-05-31 17:02:00+00    1\n",
            "2021-09-21 10:13:00+00    1\n",
            "2022-03-18 06:20:00+00    1\n",
            "2022-03-19 08:52:00+00    1\n",
            "2022-03-29 10:56:00+00    1\n",
            "2021-10-14 12:58:00+00    1\n",
            "2021-03-23 10:23:00+00    1\n",
            "2022-06-02 19:16:00+00    1\n",
            "2022-04-06 09:15:00+00    1\n",
            "2022-03-16 07:12:00+00    1\n",
            "2020-08-17 15:49:00+00    1\n",
            "2022-03-07 16:44:00+00    1\n",
            "2021-10-24 14:12:00+00    1\n",
            "2020-03-21 06:59:00+00    1\n",
            "2022-04-21 19:46:00+00    1\n",
            "2022-06-02 11:09:00+00    1\n",
            "2021-08-28 08:34:00+00    1\n",
            "2022-04-10 10:42:00+00    1\n",
            "2022-05-23 11:23:00+00    1\n",
            "2021-10-08 15:29:00+00    1\n",
            "2021-12-21 18:48:00+00    1\n",
            "2021-06-20 11:36:00+00    1\n",
            "2021-11-24 10:23:00+00    1\n",
            "2022-05-04 13:38:00+00    1\n",
            "2021-08-05 16:40:00+00    1\n",
            "2022-04-08 22:31:00+00    1\n",
            "2021-08-23 13:16:00+00    1\n",
            "2022-04-13 09:01:00+00    1\n",
            "2021-10-04 17:40:00+00    1\n",
            "2021-10-29 15:52:00+00    1\n",
            "2022-04-16 14:34:00+00    1\n",
            "2021-10-29 15:38:00+00    1\n",
            "2021-09-11 18:03:00+00    1\n",
            "2022-01-10 14:12:00+00    1\n",
            "2021-11-18 16:58:00+00    1\n",
            "2021-06-30 14:47:00+00    1\n",
            "2022-05-18 14:30:00+00    1\n",
            "2022-05-30 16:52:00+00    1\n",
            "2021-10-26 15:51:00+00    1\n",
            "2022-03-21 16:05:00+00    1\n",
            "2021-11-04 11:18:00+00    1\n",
            "2021-12-18 15:15:00+00    1\n",
            "2022-03-11 06:49:00+00    1\n",
            "2020-12-28 13:29:00+00    1\n",
            "2021-09-23 08:15:00+00    1\n",
            "2021-06-17 11:17:00+00    1\n",
            "2021-07-16 13:34:00+00    1\n",
            "2021-09-06 07:47:00+00    1\n",
            "2022-06-02 06:42:00+00    1\n",
            "2022-02-19 10:34:00+00    1\n",
            "2022-05-13 14:04:00+00    1\n",
            "2021-10-06 17:11:00+00    1\n",
            "2022-01-08 12:56:00+00    1\n",
            "2022-05-04 15:28:00+00    1\n",
            "2022-02-07 12:16:00+00    1\n",
            "2022-05-27 12:46:00+00    1\n",
            "2021-09-05 15:42:00+00    1\n",
            "2022-03-03 17:48:00+00    1\n",
            "2021-08-07 17:12:00+00    1\n",
            "2019-05-20 15:27:00+00    1\n",
            "2019-12-18 10:41:00+00    1\n",
            "2022-04-21 12:54:00+00    1\n",
            "2022-02-12 09:29:00+00    1\n",
            "2021-09-29 13:32:00+00    1\n",
            "2021-09-08 05:57:00+00    1\n",
            "2021-10-06 17:18:00+00    1\n",
            "2022-05-31 12:04:00+00    1\n",
            "2021-05-06 14:14:00+00    1\n",
            "2022-04-20 15:22:00+00    1\n",
            "2021-09-07 02:25:00+00    1\n",
            "2021-08-25 04:59:00+00    1\n",
            "2021-08-19 15:29:00+00    1\n",
            "2021-11-30 08:03:00+00    1\n",
            "2021-09-04 17:00:00+00    1\n",
            "2022-04-08 21:21:00+00    1\n",
            "2021-09-29 16:20:00+00    1\n",
            "2020-09-15 17:53:00+00    1\n",
            "2019-08-30 13:37:00+00    1\n",
            "2022-05-26 10:23:00+00    1\n",
            "2022-05-15 13:58:00+00    1\n",
            "2022-04-28 06:56:00+00    1\n",
            "2021-10-19 17:32:00+00    1\n",
            "2021-12-14 13:24:00+00    1\n",
            "2021-08-26 07:25:00+00    1\n",
            "2022-03-18 09:08:00+00    1\n",
            "2021-09-22 12:56:00+00    1\n",
            "2021-08-28 08:25:00+00    1\n",
            "2022-03-23 09:17:00+00    1\n",
            "2020-05-10 05:18:00+00    1\n",
            "2022-01-13 19:26:00+00    1\n",
            "2021-08-31 07:04:00+00    1\n",
            "2022-04-14 20:48:00+00    1\n",
            "2021-10-07 11:49:00+00    1\n",
            "2022-05-12 16:03:00+00    1\n",
            "2021-09-13 16:57:00+00    1\n",
            "2021-08-29 16:06:00+00    1\n",
            "2021-10-24 11:23:00+00    1\n",
            "2021-10-05 15:04:00+00    1\n",
            "2022-03-28 16:07:00+00    1\n",
            "2022-03-19 12:53:00+00    1\n",
            "2022-03-26 11:06:00+00    1\n",
            "2019-07-03 16:09:00+00    1\n",
            "2021-07-29 12:23:00+00    1\n",
            "2021-09-03 06:23:00+00    1\n",
            "2021-09-01 04:08:00+00    1\n",
            "2022-05-09 14:54:00+00    1\n",
            "2022-03-27 16:27:00+00    1\n",
            "2021-08-28 11:34:00+00    1\n",
            "2021-06-02 09:12:00+00    1\n",
            "2022-03-27 12:26:00+00    1\n",
            "2021-10-20 14:13:00+00    1\n",
            "2022-03-12 16:52:00+00    1\n",
            "2021-11-03 07:52:00+00    1\n",
            "2022-03-27 14:33:00+00    1\n",
            "2020-04-06 15:55:00+00    1\n",
            "2022-05-15 17:56:00+00    1\n",
            "2021-09-06 07:45:00+00    1\n",
            "2021-10-09 08:53:00+00    1\n",
            "2021-08-03 06:18:00+00    1\n",
            "2021-10-21 04:28:00+00    1\n",
            "2021-10-23 19:42:00+00    1\n",
            "2022-04-11 16:02:00+00    1\n",
            "2022-04-24 17:34:00+00    1\n",
            "2022-04-12 15:34:00+00    1\n",
            "2022-05-12 08:26:00+00    1\n",
            "2022-03-24 16:27:00+00    1\n",
            "2021-06-19 15:05:00+00    1\n",
            "2022-05-13 13:03:00+00    1\n",
            "2021-09-12 11:39:00+00    1\n",
            "2022-04-23 02:30:00+00    1\n",
            "2021-10-15 22:01:00+00    1\n",
            "2021-12-22 17:15:00+00    1\n",
            "2022-04-17 12:07:00+00    1\n",
            "2022-02-04 08:38:00+00    1\n",
            "2021-09-10 08:44:00+00    1\n",
            "2022-05-30 14:40:00+00    1\n",
            "2022-03-27 11:38:00+00    1\n",
            "2022-04-09 00:22:00+00    1\n",
            "2021-10-13 16:36:00+00    1\n",
            "2022-04-12 20:33:00+00    1\n",
            "2022-05-30 13:07:00+00    1\n",
            "2021-08-29 11:28:00+00    1\n",
            "2022-04-14 12:43:00+00    1\n",
            "2021-09-12 18:45:00+00    1\n",
            "2021-12-15 15:09:00+00    1\n",
            "2021-09-19 10:25:00+00    1\n",
            "2022-06-02 19:03:00+00    1\n",
            "2021-10-02 18:15:00+00    1\n",
            "2022-04-14 11:45:00+00    1\n",
            "2022-03-25 15:38:00+00    1\n",
            "2022-01-21 00:45:00+00    1\n",
            "2021-09-01 11:38:00+00    1\n",
            "2022-04-26 18:45:00+00    1\n",
            "2022-05-31 14:01:00+00    1\n",
            "2019-06-03 15:26:00+00    1\n",
            "2022-05-17 13:55:00+00    1\n",
            "2022-04-02 13:42:00+00    1\n",
            "2022-05-31 07:30:00+00    1\n",
            "2022-06-02 18:57:00+00    1\n",
            "2022-02-04 06:33:00+00    1\n",
            "2021-12-22 16:39:00+00    1\n",
            "2021-10-29 16:09:00+00    1\n",
            "2021-08-11 16:09:00+00    1\n",
            "2021-10-04 15:17:00+00    1\n",
            "2022-01-14 22:05:00+00    1\n",
            "2022-04-08 12:38:00+00    1\n",
            "2021-12-09 11:25:00+00    1\n",
            "2021-11-05 08:31:00+00    1\n",
            "2022-03-22 04:06:00+00    1\n",
            "Name: PURCHASED_AT, dtype: int64\n"
          ]
        },
        {
          "output_type": "execute_result",
          "data": {
            "text/plain": [
              "Text(0.5, 0, 'PURCHASED_AT')"
            ]
          },
          "metadata": {},
          "execution_count": 403
        },
        {
          "output_type": "display_data",
          "data": {
            "text/plain": [
              "<Figure size 720x360 with 1 Axes>"
            ],
            "image/png": "[encoded data removed]"
          },
          "metadata": {
            "needs_background": "light"
          }
        }
      ],
      "source": [
        "print(train['PURCHASED_AT'].value_counts())\n",
        "plt.figure(figsize=(10,5))\n",
        "train['PURCHASED_AT'].value_counts(normalize=True).plot(kind='bar')\n",
        "plt.ylabel('counts')\n",
        "plt.xlabel('PURCHASED_AT')"
      ]
    },
    {
      "cell_type": "markdown",
      "metadata": {
        "id": "HyKxASetk3y7"
      },
      "source": [
        "#### On this, only few dates have more than one feature\n",
        "\n",
        "* is it really important? feed it into the model and let the model do the rest\n",
        "* More Features can be obtained from this e.g diff and cyclic features \n",
        "* No good feature came out of this really except one which was the diff of both which we will see later\n"
      ]
    },
    {
      "cell_type": "markdown",
      "metadata": {
        "id": "vaVNNjXbk3y7"
      },
      "source": [
        "### Meerchannt Categorized at we have looked at it above"
      ]
    },
    {
      "cell_type": "markdown",
      "metadata": {
        "id": "Q0VUtjFTk3y7"
      },
      "source": [
        "### Single Level Columns(One in extra drop it)"
      ]
    },
    {
      "cell_type": "code",
      "execution_count": 404,
      "metadata": {
        "id": "Hz7vGsG4k3y7",
        "colab": {
          "base_uri": "https://localhost:8080/"
        },
        "outputId": "2fdea244-a0ab-4576-ac7a-50b738335726"
      },
      "outputs": [
        {
          "output_type": "execute_result",
          "data": {
            "text/plain": [
              "((373, 11), (558, 10), (10000, 8))"
            ]
          },
          "metadata": {},
          "execution_count": 404
        }
      ],
      "source": [
        "extra = extra.drop(columns = ['IS_PURCHASE_PAID_VIA_MPESA_SEND_MONEY'])\n",
        "train.shape,test.shape,extra.shape"
      ]
    },
    {
      "cell_type": "markdown",
      "metadata": {
        "id": "vHVvnaSKk3y9"
      },
      "source": [
        "## Target Column"
      ]
    },
    {
      "cell_type": "code",
      "execution_count": 405,
      "metadata": {
        "id": "7hfIeW9lk3y9",
        "colab": {
          "base_uri": "https://localhost:8080/",
          "height": 350
        },
        "outputId": "ee534fc8-ad49-49bf-a795-eb2a132c55a1"
      },
      "outputs": [
        {
          "output_type": "stream",
          "name": "stdout",
          "text": [
            "Bills & Fees        78\n",
            "Groceries           50\n",
            "Data & WiFi         43\n",
            "Miscellaneous       43\n",
            "Family & Friends    41\n",
            "Going out           41\n",
            "Transport & Fuel    29\n",
            "Shopping            21\n",
            "Emergency fund      12\n",
            "Health               6\n",
            "Loan Repayment       5\n",
            "Rent / Mortgage      2\n",
            "Education            2\n",
            "Name: MERCHANT_CATEGORIZED_AS, dtype: int64\n"
          ]
        },
        {
          "output_type": "execute_result",
          "data": {
            "text/plain": [
              "Text(0.5, 0, 'MERCHANT_CATEGORIZED_AS')"
            ]
          },
          "metadata": {},
          "execution_count": 405
        },
        {
          "output_type": "display_data",
          "data": {
            "text/plain": [
              "<Figure size 720x360 with 1 Axes>"
            ],
            "image/png": "[encoded data removed]"
          },
          "metadata": {
            "needs_background": "light"
          }
        }
      ],
      "source": [
        "print(train['MERCHANT_CATEGORIZED_AS'].value_counts())\n",
        "plt.figure(figsize=(10,5))\n",
        "train['MERCHANT_CATEGORIZED_AS'].value_counts(normalize=True).plot(kind='bar')\n",
        "plt.ylabel('counts')\n",
        "plt.xlabel('MERCHANT_CATEGORIZED_AS')"
      ]
    },
    {
      "cell_type": "markdown",
      "metadata": {
        "id": "s1nSjUbFk3y9"
      },
      "source": [
        "#### Health - 6, Loan Repayment  -5. Rent / Mortgage - 2,Education -2\n",
        "#### the above classes are highly imbalanced "
      ]
    },
    {
      "cell_type": "markdown",
      "metadata": {
        "id": "KzHnQFRok3y-"
      },
      "source": [
        "## Convcat both datasets for more FE"
      ]
    },
    {
      "cell_type": "code",
      "execution_count": 406,
      "metadata": {
        "id": "_CbVrdS8k3y-"
      },
      "outputs": [],
      "source": [
        "#CONCATENATING BOTH THE TEST AND TRAIN FOR EASY DATA MANIPULATON\n",
        "ntrain = train.shape[0]\n",
        "ntest = test.shape[0]\n",
        "data = pd.concat((train, test)).reset_index(drop=True)"
      ]
    },
    {
      "cell_type": "markdown",
      "metadata": {
        "id": "IUmneBN4k3y-"
      },
      "source": [
        "### Binning"
      ]
    },
    {
      "cell_type": "code",
      "execution_count": 407,
      "metadata": {
        "id": "9rwY2om_k3y-"
      },
      "outputs": [],
      "source": [
        "def price_range(x):\n",
        "    if x > 8e4:\n",
        "        return 0\n",
        "    elif x > 4e4:\n",
        "        return 1\n",
        "    elif x > 1e4:\n",
        "        return 2\n",
        "    return 3\n",
        "data['price_range'] = data.PURCHASE_VALUE.apply(price_range)\n",
        "extra['price_range'] = extra.PURCHASE_VALUE.apply(price_range)\n",
        "\n",
        "def income_range(x):\n",
        "    x /= 1e6\n",
        "    # print(x)\n",
        "    if x > .08:\n",
        "        return 0\n",
        "    elif x > .04:\n",
        "        return 1\n",
        "    elif x > .015:\n",
        "        return 2\n",
        "    return 3\n",
        "data['income_range'] = data.USER_INCOME.apply(income_range)\n",
        "extra['income_range'] = extra.USER_INCOME.apply(income_range)"
      ]
    },
    {
      "cell_type": "markdown",
      "metadata": {
        "id": "2LhArCzGk3y_"
      },
      "source": [
        "### Feature Interaction"
      ]
    },
    {
      "cell_type": "code",
      "execution_count": 408,
      "metadata": {
        "id": "7D0iuey3k3y_"
      },
      "outputs": [],
      "source": [
        "data['prod_PURCHASE_INCOME'] = data['PURCHASE_VALUE']/ data['USER_INCOME']"
      ]
    },
    {
      "cell_type": "markdown",
      "metadata": {
        "id": "pKNWYT7pk3y_"
      },
      "source": [
        "#### Very powerful feature this one"
      ]
    },
    {
      "cell_type": "markdown",
      "metadata": {
        "id": "2B9dvJOqk3zA"
      },
      "source": [
        "### Count Encoding\n",
        "* This also played a huge impact on the Model"
      ]
    },
    {
      "cell_type": "code",
      "execution_count": 409,
      "metadata": {
        "id": "CxHvhtfsk3zA"
      },
      "outputs": [],
      "source": [
        "col = ['PURCHASE_VALUE','USER_INCOME','USER_HOUSEHOLD','MERCHANT_NAME']\n",
        "\n",
        "## Count of unique features\n",
        "for i in col:\n",
        "    data['count_'+i] = data[i].map(data[i].value_counts())"
      ]
    },
    {
      "cell_type": "markdown",
      "metadata": {
        "id": "v_mz6l_Kk3zA"
      },
      "source": [
        "## DATA_WIFI\n",
        "* Its obvious each country have telcos that lead in data provision and through domain knowledge the below are the most common terms associated with data and wifi and remember we also have extra so i think we should concat them all so that we have a whole representations of all the available merchant names available for training"
      ]
    },
    {
      "cell_type": "code",
      "execution_count": 410,
      "metadata": {
        "id": "nf8g5KFuk3zB",
        "colab": {
          "base_uri": "https://localhost:8080/"
        },
        "outputId": "67c28d87-b050-463d-a290-c4d241f0799e"
      },
      "outputs": [
        {
          "output_type": "execute_result",
          "data": {
            "text/plain": [
              "(10931, 19)"
            ]
          },
          "metadata": {},
          "execution_count": 410
        }
      ],
      "source": [
        "#CONCATENATING BOTH THE TEST AND TRAIN FOR EASY DATA MANIPULATON\n",
        "all_data = pd.concat([data.assign(ind=\"data\"), extra.assign(ind=\"extra\")])\n",
        "all_data.shape"
      ]
    },
    {
      "cell_type": "code",
      "execution_count": 411,
      "metadata": {
        "id": "bOBIfOw2k3zC"
      },
      "outputs": [],
      "source": [
        "data_wifi = all_data.loc[all_data['MERCHANT_NAME'].str.contains(\"wifi|data|safaricom|tunukiwa|zuku|faiba|airtel|telkom|airtime|bundle|poa\", case=False)]"
      ]
    },
    {
      "cell_type": "code",
      "execution_count": 412,
      "metadata": {
        "id": "xEGJww7uk3zC",
        "outputId": "e3491f7a-3ab6-4645-ca07-87abefda3a32",
        "colab": {
          "base_uri": "https://localhost:8080/"
        }
      },
      "outputs": [
        {
          "output_type": "execute_result",
          "data": {
            "text/plain": [
              "26"
            ]
          },
          "metadata": {},
          "execution_count": 412
        }
      ],
      "source": [
        "data_wifi.MERCHANT_NAME.nunique()"
      ]
    },
    {
      "cell_type": "code",
      "execution_count": 413,
      "metadata": {
        "id": "ZwHBzLiok3zD",
        "outputId": "bf5639ac-a42e-434e-cf44-80414328e132",
        "scrolled": true,
        "colab": {
          "base_uri": "https://localhost:8080/"
        }
      },
      "outputs": [
        {
          "output_type": "execute_result",
          "data": {
            "text/plain": [
              "Data & WiFi         40\n",
              "Miscellaneous        3\n",
              "Bills & Fees         2\n",
              "Health               1\n",
              "Family & Friends     1\n",
              "Name: MERCHANT_CATEGORIZED_AS, dtype: int64"
            ]
          },
          "metadata": {},
          "execution_count": 413
        }
      ],
      "source": [
        "data_wifi.MERCHANT_CATEGORIZED_AS.value_counts()"
      ]
    },
    {
      "cell_type": "code",
      "execution_count": 414,
      "metadata": {
        "id": "tnWtjFqKk3zD",
        "outputId": "de9d6745-adf7-4cd2-f90b-52ffef9774c8",
        "colab": {
          "base_uri": "https://localhost:8080/"
        }
      },
      "outputs": [
        {
          "output_type": "execute_result",
          "data": {
            "text/plain": [
              "array(['SAFARICOM OFFERS  TUNUKIWA', 'SAFARICOM LIMITED',\n",
              "       'SAFARICOM POST', 'SAFARICOM POST PAID', 'SAFARICOM HOME',\n",
              "       'MYAIRTIME LIMITED', 'SAFARICOM POSTPAID', 'TELKOM KENYA LIMITED',\n",
              "       'POA', 'ZUKU  FOR', 'SAFARICOM POSTPAID BUNDLES',\n",
              "       'SAFARICOM OFFERS', 'SAFARICOM LIMITED  ON', 'ZUKU',\n",
              "       'SAFARICOM OFFERS   TUNUKIWA ON', 'SAFARICOM OFFERS  TUNUKIWA ON',\n",
              "       'SAFARICOM SACCO DEPOSIT CONTRIBUTION',\n",
              "       'SAFARICOM POSTPAID BUNDLES  BUNDLES', 'SAFARICOM TEST',\n",
              "       'WIFI GURU LIMITED  B61', 'SAFARICOM RETAIL BURUBURU',\n",
              "       'HOSTPOA ONLINE SOLUTIONS', 'SAFARICOM RETAIL GALLERIA MALL',\n",
              "       'SAFARICOM WI-FI ZONE', 'SAFARICOM RETAIL MOI AVE',\n",
              "       'MAWINGU AIRTIME LIMITED'], dtype=object)"
            ]
          },
          "metadata": {},
          "execution_count": 414
        }
      ],
      "source": [
        "data_wifi.MERCHANT_NAME.unique()"
      ]
    },
    {
      "cell_type": "markdown",
      "metadata": {
        "id": "5jVKvS2Ok3zF"
      },
      "source": [
        "## HEALTH\n",
        "* Kenya is an english and kiswahili speaking country so most of the common words used in health care are the ones show below "
      ]
    },
    {
      "cell_type": "code",
      "execution_count": 415,
      "metadata": {
        "id": "wPyjPsg7k3zF",
        "outputId": "3ad94ada-8511-442b-cfb6-0e5b14ef7f97",
        "colab": {
          "base_uri": "https://localhost:8080/"
        }
      },
      "outputs": [
        {
          "output_type": "execute_result",
          "data": {
            "text/plain": [
              "(224, 19)"
            ]
          },
          "metadata": {},
          "execution_count": 415
        }
      ],
      "source": [
        "health_related = all_data.loc[all_data['MERCHANT_NAME'].str.contains(\"health|medic|hosp|chemist|pharma|clinic|dr |nhif|dawa|afya\", case=False)]\n",
        "health_related.shape"
      ]
    },
    {
      "cell_type": "code",
      "execution_count": 416,
      "metadata": {
        "id": "zm_3yyVPk3zF",
        "outputId": "26968963-763a-431e-b101-736db35c8ae3",
        "colab": {
          "base_uri": "https://localhost:8080/"
        }
      },
      "outputs": [
        {
          "output_type": "execute_result",
          "data": {
            "text/plain": [
              "116"
            ]
          },
          "metadata": {},
          "execution_count": 416
        }
      ],
      "source": [
        "health_related.MERCHANT_NAME.nunique()"
      ]
    },
    {
      "cell_type": "code",
      "execution_count": 417,
      "metadata": {
        "id": "o1lMmM-rk3zG",
        "outputId": "5725cde2-ae85-46f6-e4b8-7f5fd9d708b1",
        "colab": {
          "base_uri": "https://localhost:8080/"
        }
      },
      "outputs": [
        {
          "output_type": "execute_result",
          "data": {
            "text/plain": [
              "Health              4\n",
              "Bills & Fees        2\n",
              "Family & Friends    1\n",
              "Name: MERCHANT_CATEGORIZED_AS, dtype: int64"
            ]
          },
          "metadata": {},
          "execution_count": 417
        }
      ],
      "source": [
        "health_related.MERCHANT_CATEGORIZED_AS.value_counts()"
      ]
    },
    {
      "cell_type": "code",
      "execution_count": 418,
      "metadata": {
        "id": "GjENir8zk3zG"
      },
      "outputs": [],
      "source": [
        "health_related = health_related[health_related[\"MERCHANT_NAME\"].str.contains(\"alchemist\", case=False) == False]"
      ]
    },
    {
      "cell_type": "code",
      "execution_count": 419,
      "metadata": {
        "id": "LNqzSIeqk3zH",
        "outputId": "31b966a3-edcf-4b31-e0d2-6a63fb7962f7",
        "colab": {
          "base_uri": "https://localhost:8080/"
        }
      },
      "outputs": [
        {
          "output_type": "execute_result",
          "data": {
            "text/plain": [
              "array(['ZURI MEDICAL FUND  EVAN OMONDI', 'NHIF', 'DR CECILIA',\n",
              "       'GOODLIFE PHARMACY -SARIT CENTRE 2',\n",
              "       'GOODLIFE PHARMACY WESTLANDS SQUARE', 'ARNICA PHARMACEUTICALS',\n",
              "       'ACCESS AFYA', 'ZURI MEDICAL FUND  EVAN', 'MYDAWA  FOR',\n",
              "       'REUBEN WEMO MEDICAL FUND  MICHEL ON', 'NOVACARE PHARMACY',\n",
              "       'AVA PHARMACY', 'PHARMAPLUS PHARMACEUTICALS', 'HEALTHLINK MATCARE',\n",
              "       'PHARMA PLUS - SHELL KAREN BRANCH  KAREN',\n",
              "       'BIG FISH STOMACH CLINIC', 'TF  PHARMACY', 'DENS HEALTH',\n",
              "       'SAGE PHARMACY', 'BREEZEPHARM CHEMIST KIAMBU NAIROBI',\n",
              "       'LATEMA ROAD HEALTH CARE CHEMIST - NAIROBI',\n",
              "       'NAIROBI ADVENTIST HOSPITAL LIMITED  PATRICIA ROMANA ON',\n",
              "       'MEDICI SECURE SERVICES LTD', 'GOODLIFE PHARMACY WATERFRONT MALL',\n",
              "       'GOODLIFE PHARMACY-TOTAL LANGATA', 'NEEM PHARMACY VALLEY ARCADE',\n",
              "       'PHARMA PLUS - SHELL KAREN BRANCH  KAREN ON',\n",
              "       'AVA PHARMACY LIMITED  AVA ON', 'JAVA NAIROBI HOSPITAL',\n",
              "       'HEALTH CARE', 'NEEM PHARMACY', 'ELDORET HOSPITAL',\n",
              "       'PHARMAPLUS PHARMACEUTICALS LTD - KINGARA  KING',\n",
              "       'GOODLIFE PHARMACY -WATAMU',\n",
              "       'PHARMAPLUS PHARMACEUTICALS LTD CAPITAL CENTRE  CPL ON',\n",
              "       'THE MATER HOSPITAL - WESTLANDS CLINIC',\n",
              "       'DOVEYPHARMA CHEMIST- WESTLANDS', 'HEALTHY U-VAN SALE 1',\n",
              "       'MIRUS PHARMACY', 'FORT REHAN CHEMIST', 'UTUGI ELDAD PHARMACY',\n",
              "       'HEALTH STAR PHARMACY',\n",
              "       'JUJA MODERN HOSPITAL LIMITED  JACKLINE NJOKI',\n",
              "       'AFYA ALPHA RICE AND MAIZE MILLERS', 'MELLCOM CHEMIST',\n",
              "       'GOODLIFE PHARMACY LAVINGTON', 'DOVEYPHARMA LIMITED - JF CENTER',\n",
              "       'KILIMANI CHILDRENS CLINIC LIMITED  SHANI NJERI',\n",
              "       'DIAL UP PHARMACEUTICAL', 'DOVEYPHARMA CHEMIST KILIMANI',\n",
              "       'GACHIO CHEMIST', 'AGA KHAN HOSPITAL KILIFI CLINIC',\n",
              "       'GOODLIFE PHARMACY KILIFI', 'BERN  PHARMACEUTICALS',\n",
              "       'NEILLAH MEDICAL FUND  NEILLAH MEDICAL FUND',\n",
              "       'AFRICARE CHEMIST KILIFI', 'PWANI MEDICAL CENTRE HOSPITAL ROAD',\n",
              "       'PREMIER HOSPITAL LTD', 'BASH CHEMIST', 'BREEZEPHARM CHEMIST LTD',\n",
              "       'MAKAO PHARMACY', 'PHARMART CHEMIST DIANI', 'HEALTHY U',\n",
              "       'MAENDELEO MEDICARE PHARMACY MONROVIA STREET NAIROBI',\n",
              "       'ELIEZER CHEMIST VIA KOPO KOPO',\n",
              "       'AFRICA GREATNESS PHARMACEUTICALS',\n",
              "       'GOODLIFE PHARMACY SARIT CENTER WESTLANDS',\n",
              "       'HOSPITALITY FOODS PRIVATE LTD', 'LIVELLE MEDICAL EXPRESS LIMITED',\n",
              "       'AFRCA GREATNESS PHARMACEUTICAL CONSULTANT SPRINGVALLEY',\n",
              "       'GOODLIFE PHARMACY GARDEN CITY MALL', 'BUDGET PHARMACEUTICALS LTD',\n",
              "       'NEEM PHARMACY KILELESHWA BRANCH', 'MEDIMARKET PHARMACY LIMITED',\n",
              "       'GERTRUDE GARDEN CHILDREN HOSPITAL', 'LIFEMED PHARMACY KILIMANI',\n",
              "       'AGA KHAN UNIVERSITY HOSPITAL NBI INPATIENT BILLS  CASUALTYPZP',\n",
              "       'PORTAL PHARMACY LTD-TWO RIVERS MALL', 'DAHLIA PHARMACY LIMITED',\n",
              "       'GOODLIFE PHARMACY VALLEY ARCADE',\n",
              "       'AGA KHAN UNIVERSITY HOSPITAL NBI PEDIATRIC CASUALTY',\n",
              "       'NEEM PHARMACY KILIMANI', 'PHARMAPLUS PHARMACEUTICALS LTD B  LAV',\n",
              "       'SAVANNAH HEALTHCARE SERVICES', 'NEEM PHARMACY MSA RD',\n",
              "       \"BELINDA'S MEDICAL FUND  ASHLEY S FRIEND\",\n",
              "       'AVENUE HEALTHCARE LTD  JOSIAH TEYA',\n",
              "       \"BELINDA'S MEDICAL FUND  ANGELINDIA\",\n",
              "       'NAIROBI JAVA HOUSE KENYA MEDICAL ASSOCIATION',\n",
              "       \"BELINDA'S MEDICAL FUND  ASHLEY\", 'DAMCOPHARMACYLTD',\n",
              "       'ISABELA OSORO MEDICAL FUND  ASHLEY',\n",
              "       'THE MATER HOSPITAL - KASARANI CLINIC', 'PRO LYFE CHEMIST',\n",
              "       'TAVILI PHARMACY', 'MATER HOSPITAL',\n",
              "       \"JESSE KAY CHILDREN'S HOSPITAL VIA NCBA\",\n",
              "       'ABUNDRO HEALTH SERVICES',\n",
              "       'PHARMAPLUS PHARMACEUTICALS LIMITED KIAMBU  KIAMBU',\n",
              "       'AGA KHAN UNIVERSITY HOSPITAL - RUAKA MEDICAL CENTRE',\n",
              "       'WILLBASE PHARMACY LIMITED', 'LA VIDA PHARMACEUTICALS LIMITED',\n",
              "       'DR JOE WANYOIKE GICHUHI', 'KIKWETU CHEMIST', 'MAXIPHARM PHARMACY',\n",
              "       'PENDA HEALTH LIMITED KAWANGWARE', 'GARLANDS HOSPITAL',\n",
              "       'PESCA PHARMACY LIMITED',\n",
              "       \"NAIROBI WOMEN'S HOSPITAL-ONGATA RONGAI  MAVINE SAM\",\n",
              "       'HOPEPHARM PHARMACEUTICAL LIMITED',\n",
              "       'ROYPHARM CHEMISTVIA COOP BANK', 'RUARAKA UHAI NEEMA HOSPITAL',\n",
              "       'ARNICA PHARMACEUTICALS LTD'], dtype=object)"
            ]
          },
          "metadata": {},
          "execution_count": 419
        }
      ],
      "source": [
        "health_related.MERCHANT_NAME.unique()"
      ]
    },
    {
      "cell_type": "markdown",
      "metadata": {
        "id": "Eym_AFayk3zI"
      },
      "source": [
        "## FUEL and Transport Related\n",
        "* There are companies that specifically deal with fuel and the common names are shown below\n",
        "* but here most of the petrol stations are usually associated with places to eat e.g kfc, pizza in, chicken in, coffeeshops and shops so you might want to clean those "
      ]
    },
    {
      "cell_type": "code",
      "execution_count": 420,
      "metadata": {
        "id": "lel_BO2xk3zJ",
        "outputId": "a69458e1-005b-40df-c45a-2222e681b55f",
        "colab": {
          "base_uri": "https://localhost:8080/"
        }
      },
      "outputs": [
        {
          "output_type": "execute_result",
          "data": {
            "text/plain": [
              "(510, 19)"
            ]
          },
          "metadata": {},
          "execution_count": 420
        }
      ],
      "source": [
        "fuel_related = all_data.loc[all_data['MERCHANT_NAME'].str.contains(\"rubis|total|ola |shell|gas|petro|oilibya|petrol|oil|car |park|jet|energy|auto|motor|engen|aviation|sgr\", case=False)]\n",
        "fuel_related.shape"
      ]
    },
    {
      "cell_type": "code",
      "execution_count": 421,
      "metadata": {
        "id": "5v3KPA1xk3zK",
        "outputId": "d2ef5799-7e61-432c-9ec2-e6cb597e7d82",
        "colab": {
          "base_uri": "https://localhost:8080/"
        }
      },
      "outputs": [
        {
          "output_type": "execute_result",
          "data": {
            "text/plain": [
              "202"
            ]
          },
          "metadata": {},
          "execution_count": 421
        }
      ],
      "source": [
        "fuel_related.MERCHANT_NAME.nunique()"
      ]
    },
    {
      "cell_type": "code",
      "execution_count": 422,
      "metadata": {
        "id": "INGFViMzk3zL",
        "outputId": "25d5074e-59fe-41ef-e23f-4daa641a53e5",
        "colab": {
          "base_uri": "https://localhost:8080/"
        }
      },
      "outputs": [
        {
          "output_type": "execute_result",
          "data": {
            "text/plain": [
              "Transport & Fuel    18\n",
              "Going out            3\n",
              "Miscellaneous        2\n",
              "Groceries            2\n",
              "Loan Repayment       1\n",
              "Bills & Fees         1\n",
              "Shopping             1\n",
              "Name: MERCHANT_CATEGORIZED_AS, dtype: int64"
            ]
          },
          "metadata": {},
          "execution_count": 422
        }
      ],
      "source": [
        "fuel_related.MERCHANT_CATEGORIZED_AS.value_counts()"
      ]
    },
    {
      "cell_type": "code",
      "execution_count": 423,
      "metadata": {
        "id": "o22c0EK0k3zL",
        "outputId": "83c97e90-f353-4bce-96e7-bfb20c79fe8b",
        "colab": {
          "base_uri": "https://localhost:8080/"
        }
      },
      "outputs": [
        {
          "output_type": "execute_result",
          "data": {
            "text/plain": [
              "array(['PARK N GO', 'OILIBYA WAIYAKI', 'MOGO AUTO LIMITED  KDA',\n",
              "       'TOTALENERGIES KITISURU', 'BRIOCHE RUBIS LANGATA', 'KAPS PARKING',\n",
              "       'PETROCITY ENTERPRISES LIMITED', 'PALAZZO LIMITED - PARKING',\n",
              "       'TOTALENERGIES MACHAKOS', 'TOTAL K STATE HOUSE 1',\n",
              "       'APS ABC PARKING', 'TOTAL - KIAMBU ROAD',\n",
              "       'TOTALENERGIES ATHI RIVER 1',\n",
              "       'OLA ENERGY KILIMANI- TYRE PLUS LIMITED',\n",
              "       'SHELL ST AUSTINS SERVICES STATION', 'RUBIS',\n",
              "       'TOTAL K STATE HOUSE- SHOP',\n",
              "       'TOTAL ENERGIES KILELESHWA-LEMPIRAS LIMITED',\n",
              "       'RUBIS ENJOY UN AVENUE',\n",
              "       'MOTOR CONSULT SERVICES LIMITED VIA NIC BANK', 'SHELL RIDGEWAYS',\n",
              "       'ALPHA CAR WASH', 'SAFARILINK AVIATION LIMITED',\n",
              "       'MOGO AUTO LIMITED', 'TOTAL ROSSLYN SERVICE STATION',\n",
              "       'SHELL UTHIRU TRAVELLERS STATION', 'TOTAL SIGONA SERVICE STATION',\n",
              "       'RUBIS SABAKI', 'ALLSTAR GAS SUPPLIES', 'SHELL WINDSER',\n",
              "       'ENGEN KENYA', 'TOTALENERGIES MADARAKA 1',\n",
              "       'TOTAL BODY TRANSFORMATION  LUCIA MUNANIE',\n",
              "       'RUSHAB PETROLEUM LIMITED 1', 'NAIVAS SHELL SYOKIMAU',\n",
              "       'PARK N GO  GALLERIA-SP ON', 'PARK N', 'SHELL KAREN SS',\n",
              "       'TOTALENERGIES DAGORETTI CORNER',\n",
              "       'PHARMA PLUS - SHELL KAREN BRANCH  KAREN', 'SHELL TECO',\n",
              "       'CITYCOM OIL', 'SHELL', 'SHELL MOI', 'TOTAL NAIVASHA',\n",
              "       'TEXAS  ENERGY', 'STATEHOUSE TOTAL', 'PETROCITY ENTERPRISES',\n",
              "       'SHELL KAREN', 'TEXAS ENERGY', 'TOTAL', 'SHELL NAIVASHA',\n",
              "       'AUTOXPRESS', 'TOTALENERGIES KIMENDE 2',\n",
              "       'SHELL HURLINGHAM SERVICE STATION', 'MIDAX PETROLEUM',\n",
              "       'ART CAFFE RUBIS BYPASS', 'SHELL MACHAKOS SERVICE STATION',\n",
              "       'SHELL SPANNERIGHT SERVICE STATION',\n",
              "       'NAIVAS SUPERMARKET CIATA MALL OPP PARK', 'SHELL BARAKA SHOP',\n",
              "       'GOODLIFE PHARMACY-TOTAL LANGATA', 'GULF PETROL  STATION',\n",
              "       'SHELL LAVINGTON GREEN SERVICE STATION',\n",
              "       'PHARMA PLUS - SHELL KAREN BRANCH  KAREN ON', 'SHELL KAREN SHOP',\n",
              "       'BEYOND FRUITS- SHELL SPANNERIGHT', 'LIBYA OIL WESTLANDS FUEL',\n",
              "       'TOTALENERGIES KAREN 1', 'LAKE OIL GROUP LTD KILIMANI  YAYA',\n",
              "       'PARK N GO  YAYA-SP ON', 'KFC SHELL', 'SHELL BARAKA',\n",
              "       'AMAZON PARK', 'RUBIS VALLEY', 'TOTAL AIRPORT', 'JAMBO JET',\n",
              "       'ELDORET  PETROLEUM', 'TOTAL SOUTH', 'EMUNYANI OIL CO LTD',\n",
              "       'TOTAL SOUTH C', 'KFC SHELL LAVIGTON DRIVE THROUGH',\n",
              "       'PARK N GO  YAYA-SP', 'RUBIS MACHAKOS JUNCTION 2',\n",
              "       'RUBIS EXPRESS DAGORETTI', 'GREEN PARK', 'SHELL RUAI',\n",
              "       'SHELL STATION SQUARE SERVICE STATION', 'TOTAL ARCADE',\n",
              "       'TOTAL SURVEY', 'BIG SQUARE SHELL', 'RUBIS EXPRESS OJIJO',\n",
              "       'SHELL MEMBLEY SERVICE STATION SERVCO PETROLEUM LIMITED',\n",
              "       'KEMUM ENGENEERING SYSTEM', 'OIL LIBYA PARKLANDS - FUSION CENTRE',\n",
              "       'ONE WAY AUTOMOTIVE SOLUTIONS - MEBLY', 'KIKUYU SHELL LTD',\n",
              "       'MAISH GASPOINT', 'SPRING VALLEY TOTAL', 'PRIFRASI AUTOHARDWARE',\n",
              "       'ABC TOTAL SHOP', 'PETROCITY VOK', 'RUBIS KILIFI', 'TIGER OIL LTD',\n",
              "       'AINUSHAMSI ENERGY MAZERAS', 'SHELL NANYUKI SERVICE STATION',\n",
              "       'TOTAL VOI', 'GREEN PARK HOTEL TAVETA', 'MOGAS KILIFI STAGE',\n",
              "       'SHELL VOI SERVICE STATION', 'LIDOS CAR SHINE',\n",
              "       'PETROCITY ENTERPRICES LTD MTWAPA', 'GREEN PARK HOTEL-RECEPTION',\n",
              "       'TOTAL RUAKA - ATLAS PETROLEUM', 'SPEEDWAY ENERGY',\n",
              "       'AUTOXPRESS NYALI', 'TWO RIVERS THEME PARK - RIDES  TWO RIVERS',\n",
              "       'PARKLANDS SPORTS CLUB PAYBILL  N95',\n",
              "       'PARKLANDS SPORTS CLUB PAYBILL  N94',\n",
              "       'SHELL WESTVIEW SERVICE STATION', 'JAVA SHELL BARAKA',\n",
              "       'JAMBO JET  ACQV3R', 'SHELL BARAKA SS',\n",
              "       'PARKLANDS SPORTS CLUB PAYBILL  R27',\n",
              "       'THIKA ROAD TOTAL SERVICE STATION', 'SHELL THOME SERVICE STATION',\n",
              "       'PARKLANDS SPORTS CLUB PAYBILL', 'JAMBO JET  B6W42', 'PARK PLACE',\n",
              "       'SHELL WILSON AIRPORT SERVICE STATION', 'RUBIS EXPRESS KARATINA',\n",
              "       'TOTAL KITUSURU', 'OILIBYA BELLEVUE', 'SHELL LIMURU ROAD',\n",
              "       'ASTROL PETROLEUM COMPANY LIMITED - GRILL',\n",
              "       'NEW SIGONA SHELL STATION', 'SIGONA SHELL SHOP',\n",
              "       'MOWAKA AUTO CENTER', 'SAYAZI ENERGY LIMITED',\n",
              "       'BLUE SKY ENERGY LTD', 'KFC SHELL BURUBURU',\n",
              "       'LEMPIRAS LIMITED - TOTAL KILELESHWA', 'PARK N GO  CIATA',\n",
              "       'PLANET YOGURT -RUBISGIGIRI', 'KUKITO-RUBISGIGIRI',\n",
              "       'AUTO SHINE AND SPARKLE', 'JAVA TOTAL MBAGATHI',\n",
              "       'SOAPY JOES CAR WASH AND DETAIL', 'PARK WINES AND SPIRIT',\n",
              "       'CREAMY INN PARKLANDS', 'APS KENRAIL PARKING',\n",
              "       'TOTAL AIRPORT VIEW-ISLAND 5', 'SHELL KARIOKOR SERVICE STATION',\n",
              "       'INFINITE SHELL KAHAWA-FORECOURT', 'SHELL NEW RUIRU',\n",
              "       'MIDAX PETROLEUM LTD - SHELL GARDEN CITY 2',\n",
              "       'TOTAL SERVICE STATION CHOKAA', 'RUBIS PANGANI',\n",
              "       'SHELL EASTERN BYPASS SERVICE STATION', 'VEEW OIL 2',\n",
              "       'TOTALENERGIES KISERIAN 1', 'TOTALENERGIES ONGATA RONGAI',\n",
              "       'SHELL ONGATA RONGAI', 'SOTIK TOTAL',\n",
              "       'PARADISE SAFARI PARK LIMITED', 'KINGS OIL INVESTMENTS LIMITED',\n",
              "       'JAMBO JET  JAMBOJET', 'TOTAL NEW UKUNDA SERVICE STATION',\n",
              "       'TOTALENERGIES GIGIRI 1', 'UTAWALA TOTAL', 'RUBIS THIKA ROAD',\n",
              "       'PETRO WAIYAKI', 'BE ENERGY RACECOURSE STATION',\n",
              "       'JAMBO JET  U8NW5T',\n",
              "       'BROWNSTONE AGENCIES LIMITED - NAIROBI SGR MINI MART SHOP  MINI1',\n",
              "       'ESTIMMAS INVESTMENTS - HURLIGHAM TOTALSS 3',\n",
              "       'ZM GAS AND SERVICE STATION LTD', 'RUBIS RIRONI JUNCTION',\n",
              "       'NEPTUNE AUTO PARTS', 'SHELL RUAKA', 'TOTAL KENYATTA AVENUE SS',\n",
              "       'SHELL KEROKA SERVICE STATION', 'AUTOXPRESS GARDEN CITY MALL',\n",
              "       'DESTINY PARK GARDENS KITCHEN', 'KAMEL PARK LTD  DARIUS MORURI',\n",
              "       'SAHARA WEST PARK', 'RUBIS ENJOY BANANA', 'THE PARKING TAVERN',\n",
              "       'TOTALENERGIES MAI MAHIU', 'PEWA PARK 5', 'GIGIRI TOTAL',\n",
              "       'AUTOXPRESS GIGIRI', 'FAVE GAS OIL PETROL STATION',\n",
              "       'AUTOMOBILE ASSOCIATION OF KENYA', 'VINCENT OMONDI MGASSA',\n",
              "       'MONSTER AUTO', 'MAMBA PETROLEUM', 'RUBIS EXPRESS',\n",
              "       'THIKA HIGHWAY TOTAL SERVICE STATION', 'JAVA PARKLANDS',\n",
              "       'TOTALENERGIES SURVEY', 'CHPTER HOLDINGS LIMITED  ZOLA AFRICANNA'],\n",
              "      dtype=object)"
            ]
          },
          "metadata": {},
          "execution_count": 423
        }
      ],
      "source": [
        "fuel_related.MERCHANT_NAME.unique()"
      ]
    },
    {
      "cell_type": "code",
      "execution_count": 424,
      "metadata": {
        "id": "gyE1MTrck3zL",
        "outputId": "28c34cee-ae9b-472d-fb42-5de87792e218",
        "colab": {
          "base_uri": "https://localhost:8080/",
          "height": 211
        }
      },
      "outputs": [
        {
          "output_type": "execute_result",
          "data": {
            "text/plain": [
              "           MERCHANT_CATEGORIZED_AT           MERCHANT_NAME  \\\n",
              "59    2022-05-31 13:27:55.17584+00  TOTALENERGIES KITISURU   \n",
              "248  2022-05-31 13:21:55.629867+00            KAPS PARKING   \n",
              "\n",
              "    MERCHANT_CATEGORIZED_AS  PURCHASE_VALUE            PURCHASED_AT  \\\n",
              "59            Miscellaneous            1000  2022-05-30 11:29:00+00   \n",
              "248           Miscellaneous             100  2022-05-14 19:00:00+00   \n",
              "\n",
              "    IS_PURCHASE_PAID_VIA_MPESA_SEND_MONEY USER_GENDER  USER_HOUSEHOLD  \\\n",
              "59                                  False        Male               5   \n",
              "248                                 False      Female               1   \n",
              "\n",
              "     USER_INCOME      USER_ID Transaction_ID  price_range  income_range  \\\n",
              "59        150000  ID_O8P8YS18    ID_6nmz9tea            3             0   \n",
              "248        23000  ID_Y0386AT9    ID_o4dnv6ws            3             2   \n",
              "\n",
              "     prod_PURCHASE_INCOME  count_PURCHASE_VALUE  count_USER_INCOME  \\\n",
              "59               0.006667                  47.0               42.0   \n",
              "248              0.004348                  78.0               51.0   \n",
              "\n",
              "     count_USER_HOUSEHOLD  count_MERCHANT_NAME   ind  \n",
              "59                  189.0                  3.0  data  \n",
              "248                 309.0                 15.0  data  "
            ],
            "text/html": [
              "\n",
              "  <div id=\"df-98078fdb-29de-40ad-b4c6-da51f067f881\">\n",
              "    <div class=\"colab-df-container\">\n",
              "      <div>\n",
              "<style scoped>\n",
              "    .dataframe tbody tr th:only-of-type {\n",
              "        vertical-align: middle;\n",
              "    }\n",
              "\n",
              "    .dataframe tbody tr th {\n",
              "        vertical-align: top;\n",
              "    }\n",
              "\n",
              "    .dataframe thead th {\n",
              "        text-align: right;\n",
              "    }\n",
              "</style>\n",
              "<table border=\"1\" class=\"dataframe\">\n",
              "  <thead>\n",
              "    <tr style=\"text-align: right;\">\n",
              "      <th></th>\n",
              "      <th>MERCHANT_CATEGORIZED_AT</th>\n",
              "      <th>MERCHANT_NAME</th>\n",
              "      <th>MERCHANT_CATEGORIZED_AS</th>\n",
              "      <th>PURCHASE_VALUE</th>\n",
              "      <th>PURCHASED_AT</th>\n",
              "      <th>IS_PURCHASE_PAID_VIA_MPESA_SEND_MONEY</th>\n",
              "      <th>USER_GENDER</th>\n",
              "      <th>USER_HOUSEHOLD</th>\n",
              "      <th>USER_INCOME</th>\n",
              "      <th>USER_ID</th>\n",
              "      <th>Transaction_ID</th>\n",
              "      <th>price_range</th>\n",
              "      <th>income_range</th>\n",
              "      <th>prod_PURCHASE_INCOME</th>\n",
              "      <th>count_PURCHASE_VALUE</th>\n",
              "      <th>count_USER_INCOME</th>\n",
              "      <th>count_USER_HOUSEHOLD</th>\n",
              "      <th>count_MERCHANT_NAME</th>\n",
              "      <th>ind</th>\n",
              "    </tr>\n",
              "  </thead>\n",
              "  <tbody>\n",
              "    <tr>\n",
              "      <th>59</th>\n",
              "      <td>2022-05-31 13:27:55.17584+00</td>\n",
              "      <td>TOTALENERGIES KITISURU</td>\n",
              "      <td>Miscellaneous</td>\n",
              "      <td>1000</td>\n",
              "      <td>2022-05-30 11:29:00+00</td>\n",
              "      <td>False</td>\n",
              "      <td>Male</td>\n",
              "      <td>5</td>\n",
              "      <td>150000</td>\n",
              "      <td>ID_O8P8YS18</td>\n",
              "      <td>ID_6nmz9tea</td>\n",
              "      <td>3</td>\n",
              "      <td>0</td>\n",
              "      <td>0.006667</td>\n",
              "      <td>47.0</td>\n",
              "      <td>42.0</td>\n",
              "      <td>189.0</td>\n",
              "      <td>3.0</td>\n",
              "      <td>data</td>\n",
              "    </tr>\n",
              "    <tr>\n",
              "      <th>248</th>\n",
              "      <td>2022-05-31 13:21:55.629867+00</td>\n",
              "      <td>KAPS PARKING</td>\n",
              "      <td>Miscellaneous</td>\n",
              "      <td>100</td>\n",
              "      <td>2022-05-14 19:00:00+00</td>\n",
              "      <td>False</td>\n",
              "      <td>Female</td>\n",
              "      <td>1</td>\n",
              "      <td>23000</td>\n",
              "      <td>ID_Y0386AT9</td>\n",
              "      <td>ID_o4dnv6ws</td>\n",
              "      <td>3</td>\n",
              "      <td>2</td>\n",
              "      <td>0.004348</td>\n",
              "      <td>78.0</td>\n",
              "      <td>51.0</td>\n",
              "      <td>309.0</td>\n",
              "      <td>15.0</td>\n",
              "      <td>data</td>\n",
              "    </tr>\n",
              "  </tbody>\n",
              "</table>\n",
              "</div>\n",
              "      <button class=\"colab-df-convert\" onclick=\"convertToInteractive('df-98078fdb-29de-40ad-b4c6-da51f067f881')\"\n",
              "              title=\"Convert this dataframe to an interactive table.\"\n",
              "              style=\"display:none;\">\n",
              "        \n",
              "  <svg xmlns=\"http://www.w3.org/2000/svg\" height=\"24px\"viewBox=\"0 0 24 24\"\n",
              "       width=\"24px\">\n",
              "    <path d=\"M0 0h24v24H0V0z\" fill=\"none\"/>\n",
              "    <path d=\"M18.56 5.44l.94 2.06.94-2.06 2.06-.94-2.06-.94-.94-2.06-.94 2.06-2.06.94zm-11 1L8.5 8.5l.94-2.06 2.06-.94-2.06-.94L8.5 2.5l-.94 2.06-2.06.94zm10 10l.94 2.06.94-2.06 2.06-.94-2.06-.94-.94-2.06-.94 2.06-2.06.94z\"/><path d=\"M17.41 7.96l-1.37-1.37c-.4-.4-.92-.59-1.43-.59-.52 0-1.04.2-1.43.59L10.3 9.45l-7.72 7.72c-.78.78-.78 2.05 0 2.83L4 21.41c.39.39.9.59 1.41.59.51 0 1.02-.2 1.41-.59l7.78-7.78 2.81-2.81c.8-.78.8-2.07 0-2.86zM5.41 20L4 18.59l7.72-7.72 1.47 1.35L5.41 20z\"/>\n",
              "  </svg>\n",
              "      </button>\n",
              "      \n",
              "  <style>\n",
              "    .colab-df-container {\n",
              "      display:flex;\n",
              "      flex-wrap:wrap;\n",
              "      gap: 12px;\n",
              "    }\n",
              "\n",
              "    .colab-df-convert {\n",
              "      background-color: #E8F0FE;\n",
              "      border: none;\n",
              "      border-radius: 50%;\n",
              "      cursor: pointer;\n",
              "      display: none;\n",
              "      fill: #1967D2;\n",
              "      height: 32px;\n",
              "      padding: 0 0 0 0;\n",
              "      width: 32px;\n",
              "    }\n",
              "\n",
              "    .colab-df-convert:hover {\n",
              "      background-color: #E2EBFA;\n",
              "      box-shadow: 0px 1px 2px rgba(60, 64, 67, 0.3), 0px 1px 3px 1px rgba(60, 64, 67, 0.15);\n",
              "      fill: #174EA6;\n",
              "    }\n",
              "\n",
              "    [theme=dark] .colab-df-convert {\n",
              "      background-color: #3B4455;\n",
              "      fill: #D2E3FC;\n",
              "    }\n",
              "\n",
              "    [theme=dark] .colab-df-convert:hover {\n",
              "      background-color: #434B5C;\n",
              "      box-shadow: 0px 1px 3px 1px rgba(0, 0, 0, 0.15);\n",
              "      filter: drop-shadow(0px 1px 2px rgba(0, 0, 0, 0.3));\n",
              "      fill: #FFFFFF;\n",
              "    }\n",
              "  </style>\n",
              "\n",
              "      <script>\n",
              "        const buttonEl =\n",
              "          document.querySelector('#df-98078fdb-29de-40ad-b4c6-da51f067f881 button.colab-df-convert');\n",
              "        buttonEl.style.display =\n",
              "          google.colab.kernel.accessAllowed ? 'block' : 'none';\n",
              "\n",
              "        async function convertToInteractive(key) {\n",
              "          const element = document.querySelector('#df-98078fdb-29de-40ad-b4c6-da51f067f881');\n",
              "          const dataTable =\n",
              "            await google.colab.kernel.invokeFunction('convertToInteractive',\n",
              "                                                     [key], {});\n",
              "          if (!dataTable) return;\n",
              "\n",
              "          const docLinkHtml = 'Like what you see? Visit the ' +\n",
              "            '<a target=\"_blank\" href=https://colab.research.google.com/notebooks/data_table.ipynb>data table notebook</a>'\n",
              "            + ' to learn more about interactive tables.';\n",
              "          element.innerHTML = '';\n",
              "          dataTable['output_type'] = 'display_data';\n",
              "          await google.colab.output.renderOutput(dataTable, element);\n",
              "          const docLink = document.createElement('div');\n",
              "          docLink.innerHTML = docLinkHtml;\n",
              "          element.appendChild(docLink);\n",
              "        }\n",
              "      </script>\n",
              "    </div>\n",
              "  </div>\n",
              "  "
            ]
          },
          "metadata": {},
          "execution_count": 424
        }
      ],
      "source": [
        "fuel_related[fuel_related.MERCHANT_CATEGORIZED_AS == \"Miscellaneous\"]"
      ]
    },
    {
      "cell_type": "code",
      "execution_count": 425,
      "metadata": {
        "id": "qOJx_on1k3zL"
      },
      "outputs": [],
      "source": [
        "fuel_related = fuel_related[fuel_related[\"MERCHANT_NAME\"].str.contains(\"kfc|enjoy|caffe|java|pizza|chicken|brioche|shop|mart|club|mogo|planet|pharma|chemist|rivers|fruits|creamy|holdings|estim\", case=False) == False]"
      ]
    },
    {
      "cell_type": "code",
      "execution_count": 426,
      "metadata": {
        "id": "wK6aQDJJk3zL"
      },
      "outputs": [],
      "source": [
        "# fuel_related[fuel_related[\"MERCHANT_NAME\"]=='']\n"
      ]
    },
    {
      "cell_type": "code",
      "execution_count": 427,
      "metadata": {
        "id": "jLHO52KFk3zN",
        "outputId": "d0721aba-9629-4016-aeeb-90933ccc3058",
        "colab": {
          "base_uri": "https://localhost:8080/"
        }
      },
      "outputs": [
        {
          "output_type": "execute_result",
          "data": {
            "text/plain": [
              "(453, 19)"
            ]
          },
          "metadata": {},
          "execution_count": 427
        }
      ],
      "source": [
        "fuel_related.shape"
      ]
    },
    {
      "cell_type": "code",
      "execution_count": 428,
      "metadata": {
        "id": "YlxM9kSnk3zN",
        "outputId": "8fdf7757-18d0-49f6-bb69-da5e6d0617a5",
        "colab": {
          "base_uri": "https://localhost:8080/"
        }
      },
      "outputs": [
        {
          "output_type": "execute_result",
          "data": {
            "text/plain": [
              "Transport & Fuel    18\n",
              "Miscellaneous        2\n",
              "Bills & Fees         1\n",
              "Shopping             1\n",
              "Going out            1\n",
              "Groceries            1\n",
              "Name: MERCHANT_CATEGORIZED_AS, dtype: int64"
            ]
          },
          "metadata": {},
          "execution_count": 428
        }
      ],
      "source": [
        "fuel_related.MERCHANT_CATEGORIZED_AS.value_counts()"
      ]
    },
    {
      "cell_type": "code",
      "execution_count": 429,
      "metadata": {
        "id": "H7gsDL-Tk3zO"
      },
      "outputs": [],
      "source": [
        "# fuel_related[fuel_related['MERCHANT_CATEGORIZED_AS'] == 'Miscellaneous']"
      ]
    },
    {
      "cell_type": "code",
      "execution_count": 430,
      "metadata": {
        "id": "UZk4FQsrk3zO",
        "outputId": "5553a0ea-fc4e-4876-cef7-25c4d94d21f4",
        "colab": {
          "base_uri": "https://localhost:8080/"
        }
      },
      "outputs": [
        {
          "output_type": "execute_result",
          "data": {
            "text/plain": [
              "array(['PARK N GO', 'OILIBYA WAIYAKI', 'TOTALENERGIES KITISURU',\n",
              "       'KAPS PARKING', 'PETROCITY ENTERPRISES LIMITED',\n",
              "       'PALAZZO LIMITED - PARKING', 'TOTALENERGIES MACHAKOS',\n",
              "       'TOTAL K STATE HOUSE 1', 'APS ABC PARKING', 'TOTAL - KIAMBU ROAD',\n",
              "       'TOTALENERGIES ATHI RIVER 1',\n",
              "       'OLA ENERGY KILIMANI- TYRE PLUS LIMITED',\n",
              "       'SHELL ST AUSTINS SERVICES STATION', 'RUBIS',\n",
              "       'TOTAL ENERGIES KILELESHWA-LEMPIRAS LIMITED',\n",
              "       'MOTOR CONSULT SERVICES LIMITED VIA NIC BANK', 'SHELL RIDGEWAYS',\n",
              "       'ALPHA CAR WASH', 'SAFARILINK AVIATION LIMITED',\n",
              "       'TOTAL ROSSLYN SERVICE STATION', 'SHELL UTHIRU TRAVELLERS STATION',\n",
              "       'TOTAL SIGONA SERVICE STATION', 'RUBIS SABAKI',\n",
              "       'ALLSTAR GAS SUPPLIES', 'SHELL WINDSER', 'ENGEN KENYA',\n",
              "       'TOTALENERGIES MADARAKA 1',\n",
              "       'TOTAL BODY TRANSFORMATION  LUCIA MUNANIE',\n",
              "       'RUSHAB PETROLEUM LIMITED 1', 'NAIVAS SHELL SYOKIMAU',\n",
              "       'PARK N GO  GALLERIA-SP ON', 'PARK N', 'SHELL KAREN SS',\n",
              "       'TOTALENERGIES DAGORETTI CORNER', 'SHELL TECO', 'CITYCOM OIL',\n",
              "       'SHELL', 'SHELL MOI', 'TOTAL NAIVASHA', 'TEXAS  ENERGY',\n",
              "       'STATEHOUSE TOTAL', 'PETROCITY ENTERPRISES', 'SHELL KAREN',\n",
              "       'TEXAS ENERGY', 'TOTAL', 'SHELL NAIVASHA', 'AUTOXPRESS',\n",
              "       'TOTALENERGIES KIMENDE 2', 'SHELL HURLINGHAM SERVICE STATION',\n",
              "       'MIDAX PETROLEUM', 'SHELL MACHAKOS SERVICE STATION',\n",
              "       'SHELL SPANNERIGHT SERVICE STATION',\n",
              "       'NAIVAS SUPERMARKET CIATA MALL OPP PARK', 'GULF PETROL  STATION',\n",
              "       'SHELL LAVINGTON GREEN SERVICE STATION',\n",
              "       'LIBYA OIL WESTLANDS FUEL', 'TOTALENERGIES KAREN 1',\n",
              "       'LAKE OIL GROUP LTD KILIMANI  YAYA', 'PARK N GO  YAYA-SP ON',\n",
              "       'SHELL BARAKA', 'AMAZON PARK', 'RUBIS VALLEY', 'TOTAL AIRPORT',\n",
              "       'JAMBO JET', 'ELDORET  PETROLEUM', 'TOTAL SOUTH',\n",
              "       'EMUNYANI OIL CO LTD', 'TOTAL SOUTH C', 'PARK N GO  YAYA-SP',\n",
              "       'RUBIS MACHAKOS JUNCTION 2', 'RUBIS EXPRESS DAGORETTI',\n",
              "       'GREEN PARK', 'SHELL RUAI', 'SHELL STATION SQUARE SERVICE STATION',\n",
              "       'TOTAL ARCADE', 'TOTAL SURVEY', 'BIG SQUARE SHELL',\n",
              "       'RUBIS EXPRESS OJIJO',\n",
              "       'SHELL MEMBLEY SERVICE STATION SERVCO PETROLEUM LIMITED',\n",
              "       'KEMUM ENGENEERING SYSTEM', 'OIL LIBYA PARKLANDS - FUSION CENTRE',\n",
              "       'ONE WAY AUTOMOTIVE SOLUTIONS - MEBLY', 'KIKUYU SHELL LTD',\n",
              "       'MAISH GASPOINT', 'SPRING VALLEY TOTAL', 'PRIFRASI AUTOHARDWARE',\n",
              "       'PETROCITY VOK', 'RUBIS KILIFI', 'TIGER OIL LTD',\n",
              "       'AINUSHAMSI ENERGY MAZERAS', 'SHELL NANYUKI SERVICE STATION',\n",
              "       'TOTAL VOI', 'GREEN PARK HOTEL TAVETA', 'MOGAS KILIFI STAGE',\n",
              "       'SHELL VOI SERVICE STATION', 'LIDOS CAR SHINE',\n",
              "       'PETROCITY ENTERPRICES LTD MTWAPA', 'GREEN PARK HOTEL-RECEPTION',\n",
              "       'TOTAL RUAKA - ATLAS PETROLEUM', 'SPEEDWAY ENERGY',\n",
              "       'AUTOXPRESS NYALI', 'SHELL WESTVIEW SERVICE STATION',\n",
              "       'JAMBO JET  ACQV3R', 'SHELL BARAKA SS',\n",
              "       'THIKA ROAD TOTAL SERVICE STATION', 'SHELL THOME SERVICE STATION',\n",
              "       'JAMBO JET  B6W42', 'PARK PLACE',\n",
              "       'SHELL WILSON AIRPORT SERVICE STATION', 'RUBIS EXPRESS KARATINA',\n",
              "       'TOTAL KITUSURU', 'OILIBYA BELLEVUE', 'SHELL LIMURU ROAD',\n",
              "       'ASTROL PETROLEUM COMPANY LIMITED - GRILL',\n",
              "       'NEW SIGONA SHELL STATION', 'MOWAKA AUTO CENTER',\n",
              "       'SAYAZI ENERGY LIMITED', 'BLUE SKY ENERGY LTD',\n",
              "       'LEMPIRAS LIMITED - TOTAL KILELESHWA', 'PARK N GO  CIATA',\n",
              "       'KUKITO-RUBISGIGIRI', 'AUTO SHINE AND SPARKLE',\n",
              "       'SOAPY JOES CAR WASH AND DETAIL', 'PARK WINES AND SPIRIT',\n",
              "       'APS KENRAIL PARKING', 'TOTAL AIRPORT VIEW-ISLAND 5',\n",
              "       'SHELL KARIOKOR SERVICE STATION',\n",
              "       'INFINITE SHELL KAHAWA-FORECOURT', 'SHELL NEW RUIRU',\n",
              "       'MIDAX PETROLEUM LTD - SHELL GARDEN CITY 2',\n",
              "       'TOTAL SERVICE STATION CHOKAA', 'RUBIS PANGANI',\n",
              "       'SHELL EASTERN BYPASS SERVICE STATION', 'VEEW OIL 2',\n",
              "       'TOTALENERGIES KISERIAN 1', 'TOTALENERGIES ONGATA RONGAI',\n",
              "       'SHELL ONGATA RONGAI', 'SOTIK TOTAL',\n",
              "       'PARADISE SAFARI PARK LIMITED', 'KINGS OIL INVESTMENTS LIMITED',\n",
              "       'JAMBO JET  JAMBOJET', 'TOTAL NEW UKUNDA SERVICE STATION',\n",
              "       'TOTALENERGIES GIGIRI 1', 'UTAWALA TOTAL', 'RUBIS THIKA ROAD',\n",
              "       'PETRO WAIYAKI', 'BE ENERGY RACECOURSE STATION',\n",
              "       'JAMBO JET  U8NW5T', 'ZM GAS AND SERVICE STATION LTD',\n",
              "       'RUBIS RIRONI JUNCTION', 'NEPTUNE AUTO PARTS', 'SHELL RUAKA',\n",
              "       'TOTAL KENYATTA AVENUE SS', 'SHELL KEROKA SERVICE STATION',\n",
              "       'AUTOXPRESS GARDEN CITY MALL', 'DESTINY PARK GARDENS KITCHEN',\n",
              "       'KAMEL PARK LTD  DARIUS MORURI', 'SAHARA WEST PARK',\n",
              "       'THE PARKING TAVERN', 'TOTALENERGIES MAI MAHIU', 'PEWA PARK 5',\n",
              "       'GIGIRI TOTAL', 'AUTOXPRESS GIGIRI', 'FAVE GAS OIL PETROL STATION',\n",
              "       'AUTOMOBILE ASSOCIATION OF KENYA', 'VINCENT OMONDI MGASSA',\n",
              "       'MONSTER AUTO', 'MAMBA PETROLEUM', 'RUBIS EXPRESS',\n",
              "       'THIKA HIGHWAY TOTAL SERVICE STATION', 'TOTALENERGIES SURVEY'],\n",
              "      dtype=object)"
            ]
          },
          "metadata": {},
          "execution_count": 430
        }
      ],
      "source": [
        "fuel_related.MERCHANT_NAME.unique()"
      ]
    },
    {
      "cell_type": "markdown",
      "metadata": {
        "id": "pOpCd0Udk3zO"
      },
      "source": [
        "## business related\n",
        "* Each country has big shoppping centres so its the same here big names include the names shown below\n",
        "* Also its easy to identify shops by using the name shops in the name because most small merchants use shops in their name\n",
        "* butcheries its also easier to identify them since most of them end with butchery\n",
        "* We also have markets where people go to buy groceries and more\n",
        "* Online shops such as Jumia and kilimall are also not left behind"
      ]
    },
    {
      "cell_type": "code",
      "execution_count": 431,
      "metadata": {
        "id": "05QhxwOck3zO",
        "outputId": "982fb4c2-bf18-491b-d56c-51b744432e4c",
        "colab": {
          "base_uri": "https://localhost:8080/"
        }
      },
      "outputs": [
        {
          "output_type": "execute_result",
          "data": {
            "text/plain": [
              "(1410, 19)"
            ]
          },
          "metadata": {},
          "execution_count": 431
        }
      ],
      "source": [
        "shopping_related = all_data.loc[all_data['MERCHANT_NAME'].str.contains(\"naivas |tuskys|mart |market|mall|supermarket|naivas|uchumi|carrefour|clean shelf|bata|shop|butchery|hardware|jumia|kilimall|stores|quick\", case=False)]\n",
        "shopping_related.shape"
      ]
    },
    {
      "cell_type": "code",
      "execution_count": 432,
      "metadata": {
        "id": "n_DU_gDrk3zP",
        "outputId": "753619ba-8fd9-40f6-d917-7a76be6570a3",
        "colab": {
          "base_uri": "https://localhost:8080/"
        }
      },
      "outputs": [
        {
          "output_type": "execute_result",
          "data": {
            "text/plain": [
              "316"
            ]
          },
          "metadata": {},
          "execution_count": 432
        }
      ],
      "source": [
        "shopping_related.MERCHANT_NAME.nunique()"
      ]
    },
    {
      "cell_type": "code",
      "execution_count": 433,
      "metadata": {
        "id": "3AsdAvavk3zP",
        "outputId": "ec5e897a-a88b-44c8-f384-4e35207c9588",
        "colab": {
          "base_uri": "https://localhost:8080/"
        }
      },
      "outputs": [
        {
          "output_type": "execute_result",
          "data": {
            "text/plain": [
              "Groceries           18\n",
              "Shopping             8\n",
              "Going out            3\n",
              "Bills & Fees         2\n",
              "Family & Friends     1\n",
              "Transport & Fuel     1\n",
              "Miscellaneous        1\n",
              "Name: MERCHANT_CATEGORIZED_AS, dtype: int64"
            ]
          },
          "metadata": {},
          "execution_count": 433
        }
      ],
      "source": [
        "shopping_related.MERCHANT_CATEGORIZED_AS.value_counts()"
      ]
    },
    {
      "cell_type": "code",
      "execution_count": 434,
      "metadata": {
        "id": "quvFtMLdk3zQ",
        "outputId": "d34e4a68-ffd7-4647-ec2a-c569ce4a6041",
        "colab": {
          "base_uri": "https://localhost:8080/"
        }
      },
      "outputs": [
        {
          "output_type": "execute_result",
          "data": {
            "text/plain": [
              "array(['NAIVAS KITENGELA', 'FARMERS BUTCHERY', 'TUSKYS -T MALL',\n",
              "       'KANGA HARDWARE', 'QUICK MART FRESH N EASY BYPASS',\n",
              "       'CARREFOUR SRT', 'STATES BARBERSHOP', 'QUICK MART',\n",
              "       'NAIVAS SUPERMARKET', 'NAIVAS LIFESTYLE', 'ART MARKET KILELESHWA',\n",
              "       'NAIVAS', 'METROMART LTD', 'PAYTECH -THE JUNCTION MALL',\n",
              "       'NAIVAS AGA KHAN WALK', 'GITHUNGURI SELFRIDGES SUPERMARKET',\n",
              "       'JAVA CIATA MALL', 'TUSKYS -CHAP CHAP THIGIRI',\n",
              "       'SEVEN EIGHT SIX BUTCHERY', 'RIO GIFT SHOP',\n",
              "       'TOTAL K STATE HOUSE- SHOP', 'SHOP AND', 'BATA',\n",
              "       'QUICK MART KIAMBU', 'CARREFOUR  GLR',\n",
              "       'SERENI STORES AND MINIMATT', 'SMART GYMS', 'SHOP LOCAL -ALMA',\n",
              "       'QUICK MART RUAKA', 'SERENI STORES', 'NAIVAS MOI AVENUE',\n",
              "       'NAIVAS KAMAKIS', 'CARREFOUR', 'JUMIA KE  VZEOAQ',\n",
              "       'UCHUMI SUPERMARKET NAIROBI WEST 3',\n",
              "       'FAYAZ BAKERS KILIFI TOWN SHOP', 'CARREFOUR GLR',\n",
              "       'CRISTMART COLLECTIONS', 'FAIRLANE SUPERMARKETS LTD',\n",
              "       'NAIVAS SHELL SYOKIMAU', 'ALICE SHOP', 'CLEANSHELF SUPERMARKETS',\n",
              "       'TRIPLE M BUTCHERY', 'UPENDO GENERAL SHOP 5', 'NAIVAS NGONG',\n",
              "       'QUICKMART NGONG-MILELE MALL', 'NAIVAS WATERFRONT',\n",
              "       'NAIVAS SYOKIMAU', 'TOTAL NAIVASHA', 'BATA KAREN', 'SOC STORES',\n",
              "       'NAIVAS WATERFRONT KAREN', 'NAIVAS DEVELOPMENT HOUSE',\n",
              "       'NAIVASHA GENERAL', 'SHELL NAIVASHA',\n",
              "       'LOWER KAREN FAMILY MART LIMITED', 'JAMAA SUPERMARKET',\n",
              "       'NAIVAS RONALD', 'CARREFOUR TWO',\n",
              "       'NEW MUTHOKINJU HARDWARE LTD JUJA', 'QUICK MART TOM MBOYA',\n",
              "       'TRACCO HARDWARE', 'TIANA GENERAL HARDWARE LTD  ROMANA',\n",
              "       'CLEANSHELF SUPERMARKETS - RUAKA', 'JUMIA KE  GDKZEQ ON',\n",
              "       'QUICK MART PIONEER NRB', 'NAIVAS MOI', 'CARREFOUR VLM',\n",
              "       'CARREFOUR JCN', 'JUMIA KE', 'NAIROBI SMALL', 'JUMIA-KE',\n",
              "       'CHANDARANA SUPERMARKET', 'BATA GARDEN CITY', 'ANANAS FOOD MARKET',\n",
              "       'CHANDARANA SUPERMARKET LTD - ADLIFE BRANCH',\n",
              "       'KAREN PROVISION STORES', 'WESTGATE SHOPPING MALL LTD  FELIX ON',\n",
              "       'BIGGY SMALLS LIQUOR STORE',\n",
              "       'NAIVAS SUPERMARKET CIATA MALL OPP PARK',\n",
              "       'VALLEY ARCADE STOP AND SHOP', 'PAULO SHOP',\n",
              "       'NAIVAS NGONG GREENHOUSE', 'SHELL BARAKA SHOP',\n",
              "       'QUICK MART LAVINGTON', 'GOODLIFE PHARMACY WATERFRONT MALL',\n",
              "       'MY SHOP WESTLANDS', 'WESTGATE SHOPPING MALL LTD  ESTHER ON',\n",
              "       'SHELL KAREN SHOP', 'EMUNYANI STOP-N-SHOP',\n",
              "       'MARIE STOPES KENYATTA MARKET CENTRE',\n",
              "       'NGONG HEIGHTS SUPERMARKET LIMITED',\n",
              "       'CHANDARANA SUPERMARKET ELDORET', 'SHOP AND SAVE DISCOUNT MART',\n",
              "       'SHOPRITE', 'CARREFOUR ONLINE',\n",
              "       'NAIROBI JAVA HOUSE THE JUNCTION MALL',\n",
              "       'CHANDARANA SUPERMARKET KAKAMEGA BRANCH',\n",
              "       'QUICK MART MTWAPA CHAP CHAP', 'ART CAFFE LAVINGTON MALL',\n",
              "       'JUMIA KE  ZPBJV2', 'NGONG ROAD MY SHOP', 'SWEETWORLD SUPERMARKET',\n",
              "       'DELMART SUPERMARKET', 'EQUATOR NAIVASHA', 'NAIVAS WEST',\n",
              "       'NAIVAS DEVELOPMENT', 'ZOWARI BUTCHERY AND RESTAURANT',\n",
              "       'LAKE NAIVASHA', 'JOMACA HARDWARE', 'CARREFOUR TWO RIVERS 5',\n",
              "       'HARDWARE ONE O ONE LIMITED', 'PIC N SAV BEAUTY SHOP',\n",
              "       'KOBIS HARDWARE  TOOLSNAIROBI WESTNAIROBI', 'BATA WESTGATE MALL',\n",
              "       'GADGET SHOP WESTGATE 7', 'MEATLAND BUTCHERY',\n",
              "       'WESTGATE SHOPPING MALL', 'WESTGATE SHOPPING MALL  RESTAURANT ON',\n",
              "       'TIX BABERSHOP', 'WESTGATE SHOPPING MALL  BOWLING ON',\n",
              "       'BATA SARIT', 'CORNER SHOP', 'CARREFOUR WGT',\n",
              "       'MT LONGONOT HARDWARE STORE STALL A35', 'OYUGIS SUPERMARKET',\n",
              "       'BIG BROTHERS STORES', '7 ELEVEN KIAMBU MALL VIA M-PAYA',\n",
              "       'MIAMI BARBERSHOP AND SALON 3', 'THE BENCH BUTCHERY',\n",
              "       'BESTMART LIMITED', 'DROP AND SHOP SUPERMARKET MEMBLEY',\n",
              "       'TUMAINI BUTCHERY', 'KINANGOP BUTCHERY',\n",
              "       'NAIVAS SUPERMARKET KASARANI', 'CLEAN SHELF SUPERMARKETS-KIAMBU',\n",
              "       'TWIGA MART SUPERMARKET', 'GMART SELF SERVICE STORE',\n",
              "       'PASSOVER MEMBLY BUTCHERY', 'QUICK MART RUIRU', 'JUMIA KE  GEEANN',\n",
              "       'CARREFOUR TRM', 'GRACE MINI BUTCHERY VIA KOPO KOPO',\n",
              "       'CHICKEN INN DELTA SHOP', 'PITCHFACE MARKETING DIVISION LTD',\n",
              "       'CARREFOUR TWO RIVERS', 'CARREFOUR TWO RIVERS 2',\n",
              "       'BATA TWO RIVERS', 'CARREFOUR TWO RIVERS 7',\n",
              "       'CLEANSHELF SUPERMARKETS -KIKUYU', 'MAKIWA HARDWARE',\n",
              "       'QUEENSMART SUPERMARKET', 'MUHIM SHOP  MIKE',\n",
              "       'CHANDARANA SUPERMARKET ROSSLYNE RIVIERA MALL', 'TIMBER HARDWARE',\n",
              "       'NAIROBI HARDWARE', 'BENAN HARDWARE STORE  BENAN',\n",
              "       'OLEJOKEZI HARDWAREVIA COOP BANK',\n",
              "       'PIGEON TILES AND HARDWARE LIMITED  PIGEON',\n",
              "       'FINEST HARDWARE VIA CO-OP BANK', 'CARREFOUR GCM',\n",
              "       'FLAVOR TOWN CAFE-VILLAGE MARKET', 'TEXAS BUTCHERY RESTAURANT',\n",
              "       'VINEYARD HARDWARE STORES', 'AYANY GENERAL HARDWARE',\n",
              "       'BRISTOL HARDWARE STORE', 'NAIVAS MOUNTAIN VIEW',\n",
              "       'PRIFRASI AUTOHARDWARE',\n",
              "       'NISSI HARDWARE AND CONSTRUCTION LTD  MIKE', 'ABC TOTAL SHOP',\n",
              "       'POPULAR SUPERMARKET', 'CARREFOUR NCM', 'FAYAZ KONGOWEA  SHOP',\n",
              "       'NAIVAS KILIFI', 'MJUMBE SHOP  LUCIA',\n",
              "       'AL-MADINA HARDWARE VIA KCB  LUCIA',\n",
              "       'KIOKO ENTERPRISES KILIFI RETAIL SHOP', 'TUSKYS -KILIFI',\n",
              "       'FAYAZ  MTWAPA  SHOP', 'MSENANGU BUTCHERY',\n",
              "       'QUICK MART MTWAPA MALL', 'NAIVAS LIKONI', 'CARREFOUR DIANI',\n",
              "       \"VICTOR'S GENERAL SHOP\", 'TBC VILLAGE MARKET',\n",
              "       'LINTONS PLACE VILLAGE MARKET  LIVM',\n",
              "       'CHANDARANA BUFFALO MALL NAIVASHA', 'TBC THIKA RD MALL',\n",
              "       'GOOD HOPE SHOP VOK', 'CARREFOUR TWO RIVERS 3',\n",
              "       'PHARMART CHEMIST DIANI', 'BUFFALO CURIO SHOP AND GRILL',\n",
              "       'SUPER MARKET SKYLAR', 'FLAMART SUPERMARKET',\n",
              "       'HA MWALIMU SHOP VIA COOP BANK', 'FLAMART SUPERMARKET-2',\n",
              "       'NAIVAS KAWANGAWARE', 'KATEX SUPERMARKETS VIA MPAYA',\n",
              "       'HA WAMBURU SHOP', 'BEMWA STORES', 'CARREFOUR TWO RIVERS 6',\n",
              "       'TUSKYS - EMBAKASI', 'NAIVAS CAPITAL CENTER',\n",
              "       'SMART GYMS LIMITED  VALENTINE NJOROG', 'V SUPERMARKET LIMITED',\n",
              "       'DPO-JUMIA FOOD', 'AWESOME CROSS BUTCHERY AT MEAT AND MILK CENTER',\n",
              "       'NAIVAS WEST END PLAZA', 'TUSKYS DIAMOND PLAZA',\n",
              "       'QUICK MART LIMITED', 'JAVA NAIVASHA',\n",
              "       'TOTS LIQUOR STORES LIMITED CIATA', 'MINISO VILLAGE MARKET 2',\n",
              "       'THE WINE SHOP LTD', 'CARREFOUR SRT 8', 'SPRING CHOICE BUTCHERY 2',\n",
              "       'GILANI BUTCHERY', 'SHOPRITE KENYA', 'QUICK MART WAIYAKI WAY',\n",
              "       'GOODLIFE PHARMACY GARDEN CITY MALL',\n",
              "       'CASTROS MAN CAVE BARBER SHOP', 'JUMIA KE  K0N4B2',\n",
              "       'KARIASUPERMARKETDANDORAPH4', 'JUMIA KE  LRG7P1',\n",
              "       'JAMBOSHOP LIMITED', 'SIGONA SHELL SHOP',\n",
              "       'MEDIMARKET PHARMACY LIMITED', 'VIRTUAL SUPERMARKETS LIMITED',\n",
              "       'HOMECARE  HARDWARE - YAYA CENTRE BRANCH', 'JUMIA KE  DMKPQY',\n",
              "       'PORTAL PHARMACY LTD-TWO RIVERS MALL', 'JUMIA KE  ZZVB4M',\n",
              "       'NAIVAS LAVINGTON', 'JIJI ONLINE MARKETPLACE KENYA LIMITED',\n",
              "       'JUMIA KE  D7YJ2', 'PAYTECH -THE JUNCTION MALL  KDA',\n",
              "       'SENDY KENYA MARKETPLACE LTD', 'TASYA MART LTD',\n",
              "       'CLEAN SHELF SUPERMARKETS-ONGATA RONGAI',\n",
              "       'SAFARICOM RETAIL GALLERIA MALL', 'JC VINEYARD BEAUTY SHOP',\n",
              "       'NAIVAS NAIROBI CBD EPRESS', 'BELLEVUE MY SHOP',\n",
              "       'MASS MARKET HARVEST', 'NAIVAS SOUTH C BRANCH', 'QUICK MART FEDHA',\n",
              "       'JANDEE STORES', 'CHANDARANA SUPERMARKET SIGNATURE BRANCH',\n",
              "       'FAIR PRICE MINI SHOP 1', 'TUSKYS KAREN',\n",
              "       'SPRINGSSTAR SUPERMARKET', 'DAMWA BOOKSHOP', 'BATA HILTON',\n",
              "       'SHIVLING SUPERMARKET HOMABAY', 'MAXX MART AFRICA LIMITED',\n",
              "       \"TAI'S CHICKEN BUTCHERY KIKUYU\",\n",
              "       'BROWNSTONE AGENCIES LIMITED - NAIROBI SGR MINI MART SHOP  MINI1',\n",
              "       'MAMKEN MINIMART - SYOKIMAU', 'VIDEYA SUPERMARKET',\n",
              "       'SUZIETAH SNACKS SHOP', 'FRESH  CUTZ  BUTCHERY',\n",
              "       'LEVI BEAUTY SHOP', 'JOYMART SUPERMARKET VIA KCB',\n",
              "       'COOLMART SUPERMARKET', 'AVENUE BOOKSHOP', 'TUSKYS -UNITED',\n",
              "       'CARREFOUR SRT 7', 'NAIVAS THIKA ROAD', 'CIC MONEY MARKET FUND',\n",
              "       'WOTE MINI SUPERMARKET 3', 'TUSKYS -CHAPCHAP KAKAMEGA',\n",
              "       'AFRITOPIA LIMITED - NAIVASHA', 'LAKE NAIVASHA HOLIDAY INN 2',\n",
              "       'TUSKYS -IMARA', 'QUICK MART MACHAKOS PIONEER',\n",
              "       'ELF HARDWARE CENTRE VIA NBK  ELF', 'AUTOXPRESS GARDEN CITY MALL',\n",
              "       'DELAMERE FRUITSHOP', 'MAYGEN BUTCHERY', 'KACH FRIES MEGA MALL',\n",
              "       'NAIVAS QWETU', 'KAMINDI SELFRIDGES SUPERMARKETS LTD',\n",
              "       'EMIRATES BUTCHERY', 'JOYLAND MINIMART LTD', 'LIQUIDITY SHOP',\n",
              "       'TUSKYS -CHIGWARE', 'SPRING VALLEY COFFEE - VILLAGE MARKET',\n",
              "       'CARREFOUR TWO RIVERS 9', 'AFRITOPIA VILLAGE MARKET',\n",
              "       'THE PEOPLES SHOP',\n",
              "       'READY AND FRESH CAFFE AND JUICE SHOP LTD - CO-OP', 'ITARE SHOP',\n",
              "       'KABIRIA ECOMATT SUPERMARKET1', 'TUSKYS - UTHIRU',\n",
              "       'THE PARAMOUNT STORES', 'NICE SUPERMARKET', 'BONALI BUTCHERY',\n",
              "       'CHESS MPESA AND GEN SHOP', 'GRAVITY SUPERMARKET', 'ECONOMY SHOP',\n",
              "       'GODS FAVOUR SHOP', 'QUICK MART RONGAI', 'SPOTLESS GEN SHOP',\n",
              "       'BARAKA BUTCHERY', 'BENROSE BUTCHERY', 'CORNOR SHOP',\n",
              "       'QUICK MART RONGAI EXPRESS', \"GOD'S FAVOUR SHOP\", 'TUSKYS -ONGATA',\n",
              "       'TUSKYS -PIONEER', 'MASS MARKET BANKERS',\n",
              "       'YADAH SPA AND BEUTY SHOP', 'TUSKYS KARASHA',\n",
              "       'SHREEJI WHOLESALERS AND HARDWARE LTD RONGO  SHREEJI',\n",
              "       'WARIDI SHOP AND MPESA', 'HOMECARE AND HARDWARE LIMITED1'],\n",
              "      dtype=object)"
            ]
          },
          "metadata": {},
          "execution_count": 434
        }
      ],
      "source": [
        "shopping_related.MERCHANT_NAME.unique()"
      ]
    },
    {
      "cell_type": "code",
      "execution_count": 435,
      "metadata": {
        "id": "S-ZMfkpJk3zQ",
        "outputId": "e4140b93-6b30-4a43-f39a-12834529c44d",
        "colab": {
          "base_uri": "https://localhost:8080/",
          "height": 162
        }
      },
      "outputs": [
        {
          "output_type": "execute_result",
          "data": {
            "text/plain": [
              "         MERCHANT_CATEGORIZED_AT  MERCHANT_NAME MERCHANT_CATEGORIZED_AS  \\\n",
              "293  2022-06-01 10:25:16.7131+00  RIO GIFT SHOP           Miscellaneous   \n",
              "\n",
              "     PURCHASE_VALUE            PURCHASED_AT  \\\n",
              "293            2500  2022-06-06 10:45:00+00   \n",
              "\n",
              "    IS_PURCHASE_PAID_VIA_MPESA_SEND_MONEY USER_GENDER  USER_HOUSEHOLD  \\\n",
              "293                                 False      Female               1   \n",
              "\n",
              "     USER_INCOME      USER_ID Transaction_ID  price_range  income_range  \\\n",
              "293        23000  ID_Y0386AT9    ID_sgw3a4jj            3             2   \n",
              "\n",
              "     prod_PURCHASE_INCOME  count_PURCHASE_VALUE  count_USER_INCOME  \\\n",
              "293              0.108696                   3.0               51.0   \n",
              "\n",
              "     count_USER_HOUSEHOLD  count_MERCHANT_NAME   ind  \n",
              "293                 309.0                  2.0  data  "
            ],
            "text/html": [
              "\n",
              "  <div id=\"df-6c16ac37-f7ee-4ab3-9ef5-e6938c22dff8\">\n",
              "    <div class=\"colab-df-container\">\n",
              "      <div>\n",
              "<style scoped>\n",
              "    .dataframe tbody tr th:only-of-type {\n",
              "        vertical-align: middle;\n",
              "    }\n",
              "\n",
              "    .dataframe tbody tr th {\n",
              "        vertical-align: top;\n",
              "    }\n",
              "\n",
              "    .dataframe thead th {\n",
              "        text-align: right;\n",
              "    }\n",
              "</style>\n",
              "<table border=\"1\" class=\"dataframe\">\n",
              "  <thead>\n",
              "    <tr style=\"text-align: right;\">\n",
              "      <th></th>\n",
              "      <th>MERCHANT_CATEGORIZED_AT</th>\n",
              "      <th>MERCHANT_NAME</th>\n",
              "      <th>MERCHANT_CATEGORIZED_AS</th>\n",
              "      <th>PURCHASE_VALUE</th>\n",
              "      <th>PURCHASED_AT</th>\n",
              "      <th>IS_PURCHASE_PAID_VIA_MPESA_SEND_MONEY</th>\n",
              "      <th>USER_GENDER</th>\n",
              "      <th>USER_HOUSEHOLD</th>\n",
              "      <th>USER_INCOME</th>\n",
              "      <th>USER_ID</th>\n",
              "      <th>Transaction_ID</th>\n",
              "      <th>price_range</th>\n",
              "      <th>income_range</th>\n",
              "      <th>prod_PURCHASE_INCOME</th>\n",
              "      <th>count_PURCHASE_VALUE</th>\n",
              "      <th>count_USER_INCOME</th>\n",
              "      <th>count_USER_HOUSEHOLD</th>\n",
              "      <th>count_MERCHANT_NAME</th>\n",
              "      <th>ind</th>\n",
              "    </tr>\n",
              "  </thead>\n",
              "  <tbody>\n",
              "    <tr>\n",
              "      <th>293</th>\n",
              "      <td>2022-06-01 10:25:16.7131+00</td>\n",
              "      <td>RIO GIFT SHOP</td>\n",
              "      <td>Miscellaneous</td>\n",
              "      <td>2500</td>\n",
              "      <td>2022-06-06 10:45:00+00</td>\n",
              "      <td>False</td>\n",
              "      <td>Female</td>\n",
              "      <td>1</td>\n",
              "      <td>23000</td>\n",
              "      <td>ID_Y0386AT9</td>\n",
              "      <td>ID_sgw3a4jj</td>\n",
              "      <td>3</td>\n",
              "      <td>2</td>\n",
              "      <td>0.108696</td>\n",
              "      <td>3.0</td>\n",
              "      <td>51.0</td>\n",
              "      <td>309.0</td>\n",
              "      <td>2.0</td>\n",
              "      <td>data</td>\n",
              "    </tr>\n",
              "  </tbody>\n",
              "</table>\n",
              "</div>\n",
              "      <button class=\"colab-df-convert\" onclick=\"convertToInteractive('df-6c16ac37-f7ee-4ab3-9ef5-e6938c22dff8')\"\n",
              "              title=\"Convert this dataframe to an interactive table.\"\n",
              "              style=\"display:none;\">\n",
              "        \n",
              "  <svg xmlns=\"http://www.w3.org/2000/svg\" height=\"24px\"viewBox=\"0 0 24 24\"\n",
              "       width=\"24px\">\n",
              "    <path d=\"M0 0h24v24H0V0z\" fill=\"none\"/>\n",
              "    <path d=\"M18.56 5.44l.94 2.06.94-2.06 2.06-.94-2.06-.94-.94-2.06-.94 2.06-2.06.94zm-11 1L8.5 8.5l.94-2.06 2.06-.94-2.06-.94L8.5 2.5l-.94 2.06-2.06.94zm10 10l.94 2.06.94-2.06 2.06-.94-2.06-.94-.94-2.06-.94 2.06-2.06.94z\"/><path d=\"M17.41 7.96l-1.37-1.37c-.4-.4-.92-.59-1.43-.59-.52 0-1.04.2-1.43.59L10.3 9.45l-7.72 7.72c-.78.78-.78 2.05 0 2.83L4 21.41c.39.39.9.59 1.41.59.51 0 1.02-.2 1.41-.59l7.78-7.78 2.81-2.81c.8-.78.8-2.07 0-2.86zM5.41 20L4 18.59l7.72-7.72 1.47 1.35L5.41 20z\"/>\n",
              "  </svg>\n",
              "      </button>\n",
              "      \n",
              "  <style>\n",
              "    .colab-df-container {\n",
              "      display:flex;\n",
              "      flex-wrap:wrap;\n",
              "      gap: 12px;\n",
              "    }\n",
              "\n",
              "    .colab-df-convert {\n",
              "      background-color: #E8F0FE;\n",
              "      border: none;\n",
              "      border-radius: 50%;\n",
              "      cursor: pointer;\n",
              "      display: none;\n",
              "      fill: #1967D2;\n",
              "      height: 32px;\n",
              "      padding: 0 0 0 0;\n",
              "      width: 32px;\n",
              "    }\n",
              "\n",
              "    .colab-df-convert:hover {\n",
              "      background-color: #E2EBFA;\n",
              "      box-shadow: 0px 1px 2px rgba(60, 64, 67, 0.3), 0px 1px 3px 1px rgba(60, 64, 67, 0.15);\n",
              "      fill: #174EA6;\n",
              "    }\n",
              "\n",
              "    [theme=dark] .colab-df-convert {\n",
              "      background-color: #3B4455;\n",
              "      fill: #D2E3FC;\n",
              "    }\n",
              "\n",
              "    [theme=dark] .colab-df-convert:hover {\n",
              "      background-color: #434B5C;\n",
              "      box-shadow: 0px 1px 3px 1px rgba(0, 0, 0, 0.15);\n",
              "      filter: drop-shadow(0px 1px 2px rgba(0, 0, 0, 0.3));\n",
              "      fill: #FFFFFF;\n",
              "    }\n",
              "  </style>\n",
              "\n",
              "      <script>\n",
              "        const buttonEl =\n",
              "          document.querySelector('#df-6c16ac37-f7ee-4ab3-9ef5-e6938c22dff8 button.colab-df-convert');\n",
              "        buttonEl.style.display =\n",
              "          google.colab.kernel.accessAllowed ? 'block' : 'none';\n",
              "\n",
              "        async function convertToInteractive(key) {\n",
              "          const element = document.querySelector('#df-6c16ac37-f7ee-4ab3-9ef5-e6938c22dff8');\n",
              "          const dataTable =\n",
              "            await google.colab.kernel.invokeFunction('convertToInteractive',\n",
              "                                                     [key], {});\n",
              "          if (!dataTable) return;\n",
              "\n",
              "          const docLinkHtml = 'Like what you see? Visit the ' +\n",
              "            '<a target=\"_blank\" href=https://colab.research.google.com/notebooks/data_table.ipynb>data table notebook</a>'\n",
              "            + ' to learn more about interactive tables.';\n",
              "          element.innerHTML = '';\n",
              "          dataTable['output_type'] = 'display_data';\n",
              "          await google.colab.output.renderOutput(dataTable, element);\n",
              "          const docLink = document.createElement('div');\n",
              "          docLink.innerHTML = docLinkHtml;\n",
              "          element.appendChild(docLink);\n",
              "        }\n",
              "      </script>\n",
              "    </div>\n",
              "  </div>\n",
              "  "
            ]
          },
          "metadata": {},
          "execution_count": 435
        }
      ],
      "source": [
        "shopping_related[shopping_related.MERCHANT_CATEGORIZED_AS == \"Miscellaneous\"]"
      ]
    },
    {
      "cell_type": "markdown",
      "metadata": {
        "id": "xe32rbVyk3zQ"
      },
      "source": [
        "#### These are most likely outliers so we need to drop them or rename them "
      ]
    },
    {
      "cell_type": "markdown",
      "metadata": {
        "id": "sOyDPL1Lk3zR"
      },
      "source": [
        "## Restaurants, Hotels, Bars and Lounges \n",
        "* Includes every place where people go to eat\n",
        "* We start from normal hotels, restaurants, lounges to high end ones as shown below"
      ]
    },
    {
      "cell_type": "code",
      "execution_count": 436,
      "metadata": {
        "id": "YKzv1hb9k3zR",
        "outputId": "bd1235d6-807b-4373-eefd-d2f72995cd0d",
        "colab": {
          "base_uri": "https://localhost:8080/"
        }
      },
      "outputs": [
        {
          "output_type": "execute_result",
          "data": {
            "text/plain": [
              "(1021, 19)"
            ]
          },
          "metadata": {},
          "execution_count": 436
        }
      ],
      "source": [
        "hotel_related = all_data.loc[all_data['MERCHANT_NAME'].str.contains(\"hotel|restaurant|dishes|grill|lunch|bar|pub|bar |lounge|java|caffe|kfc|pizza|chicken|fish|lounge|latte|club|inn|resort|brioche|alchemist|planet|creamy|gardens|recreation\", case=False)]\n",
        "hotel_related.shape"
      ]
    },
    {
      "cell_type": "code",
      "execution_count": 437,
      "metadata": {
        "id": "QItmBNNek3zS",
        "outputId": "85dbe333-8eec-488a-c6e7-747ac061a919",
        "colab": {
          "base_uri": "https://localhost:8080/"
        }
      },
      "outputs": [
        {
          "output_type": "execute_result",
          "data": {
            "text/plain": [
              "363"
            ]
          },
          "metadata": {},
          "execution_count": 437
        }
      ],
      "source": [
        "hotel_related.MERCHANT_NAME.nunique()"
      ]
    },
    {
      "cell_type": "code",
      "execution_count": 438,
      "metadata": {
        "id": "zJYl1rfIk3zT",
        "outputId": "6205f0a4-d865-4e6e-9f63-31e77a821b0b",
        "colab": {
          "base_uri": "https://localhost:8080/"
        }
      },
      "outputs": [
        {
          "output_type": "execute_result",
          "data": {
            "text/plain": [
              "Going out    18\n",
              "Groceries     3\n",
              "Shopping      1\n",
              "Name: MERCHANT_CATEGORIZED_AS, dtype: int64"
            ]
          },
          "metadata": {},
          "execution_count": 438
        }
      ],
      "source": [
        "hotel_related.MERCHANT_CATEGORIZED_AS.value_counts()"
      ]
    },
    {
      "cell_type": "code",
      "execution_count": 439,
      "metadata": {
        "id": "GQjc34n1k3zT",
        "outputId": "a8b9ba97-b1f6-4cab-fb64-9cac18da81b8",
        "colab": {
          "base_uri": "https://localhost:8080/"
        }
      },
      "outputs": [
        {
          "output_type": "execute_result",
          "data": {
            "text/plain": [
              "array(['KFC WOODVALE', 'KILIMANJARO LUNCHEONETTE', 'JAVA AGAKHAN MAIN',\n",
              "       'ASHAKI GRILL AND BBQ', 'BRIOCHE RUBIS LANGATA',\n",
              "       'CAFETERIA AND TIN TIN RESTAURANT', 'MBAIRES RESTAURANT 6',\n",
              "       'REPUBLIQOUR HUB', 'THE SPOT POOL BAR', 'STATES BARBERSHOP',\n",
              "       'JAVA', 'HUHUS PIZZA LIMITED HO', 'OWETTE DISHES',\n",
              "       'JAVA CIATA MALL', 'LANGATA CREAMY', 'FISH BAY',\n",
              "       'ALCHEMIIST - LEGEND BAR', 'KENGELES-GARDEN BAR',\n",
              "       'NAIROBI JAVA HOUSE SARIT CENTRE', 'NAIROBI JAVA',\n",
              "       'PIZZA IN BELLEVUE', 'THE BARNYARD LOUNGE AND GRILL',\n",
              "       'INNOCENT KOJWANG', 'VALENTINE PUB WINE AND SPIRITS  V',\n",
              "       'BIG FISH', 'BARISTAPRO KENYA LTD',\n",
              "       'SENSES ROOFTOP LOUNGE LIMITED', 'ARTCAFFE TWO RIVERS',\n",
              "       'MWIRERI BAR', 'LAURELS LATTE', 'JOSPHINE WAMBUI HOTEL',\n",
              "       'STEDMARK GARDENS  RECREATION CENTER KAREN NAIROBI',\n",
              "       'PIZZA HUT YAYA', 'THE WINNING POST LIMITED 1',\n",
              "       'ANKOLE GRILL LIMITED', 'LANGATA CREAMY INN', 'SERENA HOTELS',\n",
              "       'BARAKA', 'PIZZA IN', 'URBAN GRADE DINNING', 'CK LAUNDRY LOUNGE',\n",
              "       'BIG FISH STOMACH CLINIC', 'PIZZA INN LANGATA', 'KFC',\n",
              "       'GALAXY RESORTS', 'CRAVE HOUSE RESTAURANT', 'ESERIANI RESORT',\n",
              "       'ARTCAFFE', 'ARTCAFFE ONN', 'ROASTRO GRILL  FRIES VIA BOA',\n",
              "       'KFC HUB', 'WELLS HOTEL', 'JAVA KENYA', 'KENCHIK INN',\n",
              "       'JAVA ROSSLYN', 'JAVA PEPONI', 'ART CAFFE RUBIS BYPASS',\n",
              "       'JAVA VALLEY', 'ART CAFFE', 'PIZZA INN',\n",
              "       \"TAI'S CHICKEN GRILL AND COFFEE\", 'KFC KAMAKIS DINE INN',\n",
              "       'CARIBEA BAR', 'CHICKEN INN UJA',\n",
              "       'MIALLE SEVENTY TWO RESORT LIMITED', 'SHELL BARAKA SHOP',\n",
              "       'BAR NEXT DOOR VENTURES LTD', 'ARTCAFFE JUNCTION',\n",
              "       'SPANNERIGHT CHICKEN INN', 'TEMPLE POINT RESORT',\n",
              "       'TURTLE BAY BEACH CLUB', 'ARTCAFFE YAYA', 'PIZZA PIZZA UJA',\n",
              "       'THE GRACEFUL CHINESE RESTAURANT WATERFRONT', 'NSK SOCIAL BAR',\n",
              "       'PAUL CAFFE LIMITED', 'HERON HOTEL  HERON ON',\n",
              "       'GRVL  GEMINI BAR ON', 'ARTCAFFE HUB', 'CLARRET LOUNGE THIGIRI',\n",
              "       'PIZZA INN- WESTLANDS', 'TECH INNOVATORS NETWORK LTD',\n",
              "       'TRADEMARK HOTEL -HERO BAR', 'MANARA RESTAURANT', 'KFC SHELL',\n",
              "       'HOTEL RIVERVIEW', 'MAYA HOTEL', 'NANTIE GARDENS', 'ASHAKI GRILL',\n",
              "       'SHELL BARAKA', 'PAUL CAFFE',\n",
              "       'NANTIE GARDENS HOMEOWNERS WELFARE GROUP  B70',\n",
              "       'JAVA NAIROBI HOSPITAL', 'THE  RIVER  GRILL',\n",
              "       'NAIROBI JAVA HOUSE NAKURU', 'MERCADO RESTAURANT', 'CHICKEN INN',\n",
              "       'NAIROBI JAVA HOUSE THE JUNCTION MALL', 'SIMBISA GRILLL',\n",
              "       'JAVA LAVINGTON', 'FOR YOU RESTAURANT', 'CREAMY',\n",
              "       'PAPAREMO BEACH RESTAURANT MALINDI', 'MUTHAIGA COUNTRY CLUB',\n",
              "       'ART CAFFE LAVINGTON MALL', 'KFC SHELL LAVIGTON DRIVE THROUGH',\n",
              "       'SEAFRONT SWAHILI DISHES', 'OASIS BAR  EDWIN',\n",
              "       'WATERHOLE SNACK BAR  MK', 'ALCHEMIST MAIN BAR', 'CASAVERA LOUNGE',\n",
              "       'ALCHEMIST - ROOF TOP BAR', 'NGONG ROAD- PIZZA INN',\n",
              "       'THE SOCIAL HOUSE RNB RESTAURANTS AND BARS',\n",
              "       'FINE BREEZE GRILL LTD  KAMAU', 'ANKOLE GRILL LTD',\n",
              "       'BARAZA RESTAURANT-DAGORETTI CORNER',\n",
              "       'WINGS ALCHEMIST VIA KOPO KOPO', 'AJS BAR',\n",
              "       'ZOWARI BUTCHERY AND RESTAURANT', 'ARTCAFFE TWO',\n",
              "       'JAVA ROSSLYN RIVEIRA', 'CIERO SPORTS LOUNGE', 'HEROES GRILL',\n",
              "       'CREAMY INN BELLEVUE', 'ALMAKAN COAST DISHES',\n",
              "       'ON THE GRIND COFFEE BAR LIMITED', 'PURPLE BARREL',\n",
              "       'THE TRADEMARK HOTEL', 'WESTGATE SHOPPING MALL  RESTAURANT ON',\n",
              "       'HUHUS PIZZA LTD', 'SIMBISA GRILLL SHACK',\n",
              "       'PINS ENTERTAINMENT LIMITED  RECREATION ON',\n",
              "       'THE PLACE BARRESTAURANT', 'KFC - KIMATHI',\n",
              "       'PLANET YOGHURT SARIT CENTER', 'JAVA MAMA NGINA',\n",
              "       \"TAI'S CHICKEN GRILL WANGIGE\", 'CREAMY INN WESTLANDS',\n",
              "       'JAVA ORBIT', 'CHICAGO THE PIZZA PLACE LTD',\n",
              "       'ART CAFFE WESTMINSTER', 'TRM CREAMY INN',\n",
              "       'MIAMI BARBERSHOP AND SALON 3', 'ANN WAMBARI',\n",
              "       'VALENTINE PUB WINE AND SPIRITS  V ON', 'CHARIOT HOTELS',\n",
              "       'PAUL BARAGU KIHORO', 'GIZZARD INN', 'THE MINT LOUNGE',\n",
              "       'CHICKEN INN KASARANI',\n",
              "       'TAMU TAMU HOTEL WOOD VALLEY GROOVE WESTLANDS',\n",
              "       'SCARLET BAR AND LOUNGE', '17 LOUNGE',\n",
              "       'ROLINNE INVESTMENTS COMPANY LIMITED -KCB', 'RED EAGLES LOUNGE',\n",
              "       'WEST WOOD HOTEL', 'PIZZA DELIGHT KENYA LIMITED', 'JIFICHE GRILL',\n",
              "       'KALABASH BAR AND RESTAURANT 1', 'NAIROBI PACIFIC HOTEL LTD',\n",
              "       'CHICKEN INN DELTA SHOP', 'OUTVEST LOUNGE AND GRILL 3',\n",
              "       'RUAKA FISH PLACE', 'JOWAC SPORTS CLUB VIA COOP BANK',\n",
              "       'JAVA TWO RIVERS EXPRESS', 'THIKA SPORT CLUB  CLUB',\n",
              "       'ARTCAFFE GARDEN CITY', 'ART CAFFE WESTGATE2',\n",
              "       'KAREN KITCHEN RESTAURANT AND GRILL',\n",
              "       'CLASSIC MOULDINGS LTD  MIKE MBARI', 'GREEN SPOT GARDENS',\n",
              "       'FOREST WAGTAIL RESTAURANT', 'KFC NORTHVIEW-FRONT COUNTER',\n",
              "       'TEXAS BUTCHERY RESTAURANT', 'ECHOES BAR AND RESTAURANT 2',\n",
              "       'KAMANGO GARDENS RESTAURANT 3', 'MAKEL SUITES AND LOUNGE',\n",
              "       'RUIRU SPORTS CLUB PAY BILL  G45', 'THIKA SPORT CLUB  SWIMMING',\n",
              "       'KFC- DINE IN MOMBASA RD', 'RUIRU SPORTS CLUB PAY BILL',\n",
              "       'TRINITY INRENATIONAL KINDERGARTEN LTD VIA SCB  TEMI MBARI',\n",
              "       'ISLAND GRILL LIMITED', 'BELOZI UPHILL HOTEL',\n",
              "       'APACHE INDIAN HOTEL',\n",
              "       'KENYA COMFORT HOTEL POPATLAL MADHAVJI AND BROS LTD',\n",
              "       'CHICKEN INN MTWAPA', 'VILLAGE  DISHES CATERING SERVICES  LTD',\n",
              "       'MOONRIVER BAY RESORT', 'WELLS HOTEL LIMITED',\n",
              "       'GREEN PARK HOTEL TAVETA', 'PIZZA INN MTWAPA',\n",
              "       'INTERLAND LTD- SILVER PALM SPA  RESORT', 'PIZZA INN LINKS ROAD',\n",
              "       'CHICKEN INN TWO RIVERS', 'JAVA DIANI', 'CHICKEN HUT LIMITED',\n",
              "       'ST AUSTIN A-PIZZA INN', 'REEF HOTELS CO LTD REEF MOONSHINE  REEF',\n",
              "       'JAVA CLYDE', 'TAITA ROCKS HOTEL VIA KCB', 'MADA HOTELS  KBBR',\n",
              "       'ASHNIL HOTELS LIMITED', 'BLACK GLIVE BAR  RESTAURANT',\n",
              "       'MODERN TAWAKAL HOTEL', 'GREEN PARK HOTEL-RECEPTION',\n",
              "       'CRAB SHACK RESTAURANT VIA KCB',\n",
              "       'DEROSCH LTD TA MAKUTI VILLAS RESORT Z',\n",
              "       'MNARANI CLUB MAIN BAR  LUCIA', 'PLAZA BEACH HOTEL',\n",
              "       'KAVENYA RESTAURANT LIMITED', 'CHICKEN INN LINKS ROAD',\n",
              "       'NAIROBI JAVA HOUSE HURLINGHAM', 'LIWAZA LOUNGE AND CAFA',\n",
              "       'PIZZA INN TWO RIVERS', 'BUFFALO CURIO SHOP AND GRILL',\n",
              "       'NAIROBI JAVA HOUSE UNIAFRIC HSE', 'COSTON FAST FOOD RESTAURANT',\n",
              "       'UONSDA CHURCH  KNH LUNCH KITTY', 'KOREANA CHICKEN',\n",
              "       'JAVA KENYA -RE', 'TUPELOAFRICAN RESTAURANT LTD',\n",
              "       'OLIVIERA RESTAURANT LTD', 'ART CAFFE NORTHERN BYPASS',\n",
              "       'CHICKEN INN WESTLANDS', 'HOT DISHES OLD MUTUAL',\n",
              "       'PARKLANDS SPORTS CLUB PAYBILL  N95',\n",
              "       'PARKLANDS SPORTS CLUB PAYBILL  N94', 'JAVA SHELL BARAKA',\n",
              "       'SHELL BARAKA SS', 'PARKLANDS SPORTS CLUB PAYBILL  R27',\n",
              "       'JAVA ABC', '1824 WHISKEY BAR', 'PRISTINE PARADISE HOTEL',\n",
              "       'JAVA NAIVASHA', \"BLACKY'S LOUNGE LIMITED VIA KCB\",\n",
              "       'BAVARIA GARDENS', 'PARKLANDS SPORTS CLUB PAYBILL',\n",
              "       'TWENTY TWENTY ENT-CALIBAR', 'NAIROBI JAVA HOUSE CAPITAL CENTER',\n",
              "       'NIXOMB LTD BARAKA', 'COCO JAMBO KILIMANI RESTAURANT  COCO',\n",
              "       'JAVA AIRSIDE', 'ART CAFFE OVAL', 'BARBEQUE FOR U LIMITED',\n",
              "       'JAVA PRESTIGE - NBI', 'AMBO GARDENS', 'TULIPS RESTAURANT',\n",
              "       'THE MORAN LOUNGE AND GRILL LTD',\n",
              "       'UONSDA CHURCH  MAIN LUNCH KITTY',\n",
              "       'UONSDA CHURCH  TUKULELUNCHMAIN', 'AROMAH THE RESTAURANT',\n",
              "       'CASTROS MAN CAVE BARBER SHOP', 'NAIROBI JAVA HOUSE AGAKHAN',\n",
              "       'ASTROL PETROLEUM COMPANY LIMITED - GRILL',\n",
              "       'EVERYTHING FISH NGONG ROAD', 'SWEET WATERS PUB',\n",
              "       'KFC SHELL BURUBURU', 'ROADHOUSE GRILL DENNIS PRITT RD',\n",
              "       'JAVA ASTROL', 'SALEHE SAFARIS HOTEL',\n",
              "       'PLANET YOGURT -RUBISGIGIRI', 'ARTCAFFE KILELESHWA',\n",
              "       'PEPCO MATTEO RESTAURANT LIMITED', 'JAVA TOTAL MBAGATHI',\n",
              "       'KFC KIMATHI DELIVERY', 'CREAMY INN PARKLANDS',\n",
              "       'FOURWAYS CREAMY INN', 'JAVA MONROVIA', 'CREAMY INN RIDGEWAYS',\n",
              "       'FISH CHICKEN BAR LTD 1', 'BARAKA RESCUE HOTEL VIA COOP BANK',\n",
              "       'GRAMS DISHES', 'BARAKA RESCUE HOTEL1', 'KFC RONGAI - DINE IN',\n",
              "       'KIFARU TOURIST RESTAURANT', 'RESTAURANT SUBTERRAN',\n",
              "       'SIXTY FOUR BAR', 'KUTRRH PUBLIC RESTAURANT',\n",
              "       'ROYAL VIEW RESTAURANT', 'NAIROBI JAVA HOUSE SOUTH C',\n",
              "       'SOUTH LINK RESTAURANT',\n",
              "       'NAIROBI JAVA HOUSE KENYA MEDICAL ASSOCIATION',\n",
              "       'BRIDGES ORGANIC RESTAURANT LTD NO 2', 'KAHIRO JUICE BAR',\n",
              "       'NAILD IT BEAUTY BAR', 'JEANS BAR AND RESTAURANT',\n",
              "       'RAINBOW CHICKEN', 'UNION TOWERS CHICHEN INN', 'DALLAS INN NAROK',\n",
              "       \"TAI'S CHICKEN BUTCHERY KIKUYU\", 'SIX EIGHTY CREAMY INN',\n",
              "       'SAN DELLA CHICKEN HOUSE', 'HOSTPINNACLE KENYA',\n",
              "       'YEMEN RESTAURANT LTD', 'THE BIG FISH WESTLAND', 'DELUXE DISHES',\n",
              "       'JUKWAA LOUNGE', 'BUZZ CUTS BARBER',\n",
              "       'THE LEGEND CHECK POINT HOTEL', 'INTERCHANGE BAR AND RESTAURANT',\n",
              "       'THE BIG FISH', 'IGNYTE GRILL',\n",
              "       'CARNIVORE RESTAURANT- HEINEKEN GOLD',\n",
              "       'SIGNATURE BAR AND RESTAURANT KAKAMEGA',\n",
              "       'LAKE NAIVASHA HOLIDAY INN 2', 'WAKALUCY FISH PALACE',\n",
              "       'GINGER SPICE RESTAURANT', 'ZIPANG BAR AND LOUNGE LIMITED',\n",
              "       'SIZZLIN GRILLS', 'KAMANGU GARDENS 2', 'KICHAKANI MEMBERS CLUB',\n",
              "       'ENKASARA RESORT LIMITED VIA CO-OP BANK', 'CHECK US INN',\n",
              "       'PALS RESTAURANT', 'CHEVON AND H0G GRILLS',\n",
              "       'LA VARANDA LOUNGE VIA COOP', 'NAIROBI JAVA HOUSE GIGIRI',\n",
              "       'DESTINY PARK GARDENS KITCHEN', 'BLUE LOUNGE TG', 'CLUB DECIMO',\n",
              "       'POLO RESTAURANT LIMITED 1', 'MOCHA HOTEL LIMITED VIA KCB  MOCHA',\n",
              "       'ROCKCITY GARDENS BAR', 'AZIZI LOUNGE', 'ASHAKI GRILL  BBQ',\n",
              "       'ROY RESORT', 'LAVARANDA LOUNGE', 'VIEW POINT CREAMY INN',\n",
              "       \"GRANDPA'S HOTEL WAKIRINYAGA BUILDING JOGOO ROAD HAMZA MAKADARA\",\n",
              "       'SIXTY FOUR LOUNGE', 'GRACE BAR', 'REBAR THE', 'THE WINNING',\n",
              "       'REEF HOTELS', 'INNSCOR SOUTH', 'MERCURY LOUNGE AND BAR',\n",
              "       'MOORINGS RESTAURANT', 'HOMELAND LOUNGE',\n",
              "       'READY AND FRESH CAFFE AND JUICE SHOP LTD - CO-OP',\n",
              "       'PICK CHICK INN', 'CHICKEN INN RONGAI', 'BARAKA RESCUE HOTEL',\n",
              "       'CHECK POINT HOTEL', 'CHICKEN DELIGHT', 'BARAKA BUTCHERY',\n",
              "       'LONDON HOTEL', 'ROGERS GRILL VIA KOPO KOPO', 'PIZZA INN RONGAI',\n",
              "       'GUSTEAU RESTAURANT', 'SANTA INN', 'THE PEACH RESTAURANT',\n",
              "       'CITY STAR RESTAURANT', 'JAYNETS HOTEL', 'JAVA PARKLANDS',\n",
              "       'AMBASSADOR CHICKEN INN', 'ARTCAFFE VALLEY ARCADE',\n",
              "       'CITY BLUE HOTELS LIMITED', 'JENGA BAR LIMITED', 'DALLAS INN',\n",
              "       'JAVA VALLEY ARCADE', 'KCB SPORTS CLUB -RUARAKA  KCB SPORTS CLUB'],\n",
              "      dtype=object)"
            ]
          },
          "metadata": {},
          "execution_count": 439
        }
      ],
      "source": [
        "hotel_related.MERCHANT_NAME.unique()"
      ]
    },
    {
      "cell_type": "code",
      "execution_count": 440,
      "metadata": {
        "id": "GVxyjo6Ok3zT",
        "outputId": "309e6494-a44d-4a4d-b587-0b0bd92ef239",
        "colab": {
          "base_uri": "https://localhost:8080/",
          "height": 260
        }
      },
      "outputs": [
        {
          "output_type": "execute_result",
          "data": {
            "text/plain": [
              "           MERCHANT_CATEGORIZED_AT         MERCHANT_NAME  \\\n",
              "83   2022-03-16 13:08:19.703288+00  MBAIRES RESTAURANT 6   \n",
              "118  2022-03-16 13:08:19.703288+00     THE SPOT POOL BAR   \n",
              "214  2022-03-16 13:07:12.505595+00              FISH BAY   \n",
              "\n",
              "    MERCHANT_CATEGORIZED_AS  PURCHASE_VALUE            PURCHASED_AT  \\\n",
              "83                Groceries            1520  2021-06-20 11:36:00+00   \n",
              "118               Groceries             300  2022-02-04 06:33:00+00   \n",
              "214               Groceries             430  2022-03-30 11:04:00+00   \n",
              "\n",
              "    IS_PURCHASE_PAID_VIA_MPESA_SEND_MONEY USER_GENDER  USER_HOUSEHOLD  \\\n",
              "83                                  False        Male               5   \n",
              "118                                 False        Male               1   \n",
              "214                                 False        Male               1   \n",
              "\n",
              "     USER_INCOME      USER_ID Transaction_ID  price_range  income_range  \\\n",
              "83        750000  ID_D8FOVVBB    ID_8nm4dtf6            3             0   \n",
              "118       200000  ID_5Y35KI6Q    ID_bh6lj683            3             0   \n",
              "214       200000  ID_5Y35KI6Q    ID_kzsqrnba            3             0   \n",
              "\n",
              "     prod_PURCHASE_INCOME  count_PURCHASE_VALUE  count_USER_INCOME  \\\n",
              "83               0.002027                   1.0               35.0   \n",
              "118              0.001500                  47.0              112.0   \n",
              "214              0.002150                   3.0              112.0   \n",
              "\n",
              "     count_USER_HOUSEHOLD  count_MERCHANT_NAME   ind  \n",
              "83                  189.0                  1.0  data  \n",
              "118                 309.0                  1.0  data  \n",
              "214                 309.0                  2.0  data  "
            ],
            "text/html": [
              "\n",
              "  <div id=\"df-a94ad8e0-b1e6-4860-a982-db251b764192\">\n",
              "    <div class=\"colab-df-container\">\n",
              "      <div>\n",
              "<style scoped>\n",
              "    .dataframe tbody tr th:only-of-type {\n",
              "        vertical-align: middle;\n",
              "    }\n",
              "\n",
              "    .dataframe tbody tr th {\n",
              "        vertical-align: top;\n",
              "    }\n",
              "\n",
              "    .dataframe thead th {\n",
              "        text-align: right;\n",
              "    }\n",
              "</style>\n",
              "<table border=\"1\" class=\"dataframe\">\n",
              "  <thead>\n",
              "    <tr style=\"text-align: right;\">\n",
              "      <th></th>\n",
              "      <th>MERCHANT_CATEGORIZED_AT</th>\n",
              "      <th>MERCHANT_NAME</th>\n",
              "      <th>MERCHANT_CATEGORIZED_AS</th>\n",
              "      <th>PURCHASE_VALUE</th>\n",
              "      <th>PURCHASED_AT</th>\n",
              "      <th>IS_PURCHASE_PAID_VIA_MPESA_SEND_MONEY</th>\n",
              "      <th>USER_GENDER</th>\n",
              "      <th>USER_HOUSEHOLD</th>\n",
              "      <th>USER_INCOME</th>\n",
              "      <th>USER_ID</th>\n",
              "      <th>Transaction_ID</th>\n",
              "      <th>price_range</th>\n",
              "      <th>income_range</th>\n",
              "      <th>prod_PURCHASE_INCOME</th>\n",
              "      <th>count_PURCHASE_VALUE</th>\n",
              "      <th>count_USER_INCOME</th>\n",
              "      <th>count_USER_HOUSEHOLD</th>\n",
              "      <th>count_MERCHANT_NAME</th>\n",
              "      <th>ind</th>\n",
              "    </tr>\n",
              "  </thead>\n",
              "  <tbody>\n",
              "    <tr>\n",
              "      <th>83</th>\n",
              "      <td>2022-03-16 13:08:19.703288+00</td>\n",
              "      <td>MBAIRES RESTAURANT 6</td>\n",
              "      <td>Groceries</td>\n",
              "      <td>1520</td>\n",
              "      <td>2021-06-20 11:36:00+00</td>\n",
              "      <td>False</td>\n",
              "      <td>Male</td>\n",
              "      <td>5</td>\n",
              "      <td>750000</td>\n",
              "      <td>ID_D8FOVVBB</td>\n",
              "      <td>ID_8nm4dtf6</td>\n",
              "      <td>3</td>\n",
              "      <td>0</td>\n",
              "      <td>0.002027</td>\n",
              "      <td>1.0</td>\n",
              "      <td>35.0</td>\n",
              "      <td>189.0</td>\n",
              "      <td>1.0</td>\n",
              "      <td>data</td>\n",
              "    </tr>\n",
              "    <tr>\n",
              "      <th>118</th>\n",
              "      <td>2022-03-16 13:08:19.703288+00</td>\n",
              "      <td>THE SPOT POOL BAR</td>\n",
              "      <td>Groceries</td>\n",
              "      <td>300</td>\n",
              "      <td>2022-02-04 06:33:00+00</td>\n",
              "      <td>False</td>\n",
              "      <td>Male</td>\n",
              "      <td>1</td>\n",
              "      <td>200000</td>\n",
              "      <td>ID_5Y35KI6Q</td>\n",
              "      <td>ID_bh6lj683</td>\n",
              "      <td>3</td>\n",
              "      <td>0</td>\n",
              "      <td>0.001500</td>\n",
              "      <td>47.0</td>\n",
              "      <td>112.0</td>\n",
              "      <td>309.0</td>\n",
              "      <td>1.0</td>\n",
              "      <td>data</td>\n",
              "    </tr>\n",
              "    <tr>\n",
              "      <th>214</th>\n",
              "      <td>2022-03-16 13:07:12.505595+00</td>\n",
              "      <td>FISH BAY</td>\n",
              "      <td>Groceries</td>\n",
              "      <td>430</td>\n",
              "      <td>2022-03-30 11:04:00+00</td>\n",
              "      <td>False</td>\n",
              "      <td>Male</td>\n",
              "      <td>1</td>\n",
              "      <td>200000</td>\n",
              "      <td>ID_5Y35KI6Q</td>\n",
              "      <td>ID_kzsqrnba</td>\n",
              "      <td>3</td>\n",
              "      <td>0</td>\n",
              "      <td>0.002150</td>\n",
              "      <td>3.0</td>\n",
              "      <td>112.0</td>\n",
              "      <td>309.0</td>\n",
              "      <td>2.0</td>\n",
              "      <td>data</td>\n",
              "    </tr>\n",
              "  </tbody>\n",
              "</table>\n",
              "</div>\n",
              "      <button class=\"colab-df-convert\" onclick=\"convertToInteractive('df-a94ad8e0-b1e6-4860-a982-db251b764192')\"\n",
              "              title=\"Convert this dataframe to an interactive table.\"\n",
              "              style=\"display:none;\">\n",
              "        \n",
              "  <svg xmlns=\"http://www.w3.org/2000/svg\" height=\"24px\"viewBox=\"0 0 24 24\"\n",
              "       width=\"24px\">\n",
              "    <path d=\"M0 0h24v24H0V0z\" fill=\"none\"/>\n",
              "    <path d=\"M18.56 5.44l.94 2.06.94-2.06 2.06-.94-2.06-.94-.94-2.06-.94 2.06-2.06.94zm-11 1L8.5 8.5l.94-2.06 2.06-.94-2.06-.94L8.5 2.5l-.94 2.06-2.06.94zm10 10l.94 2.06.94-2.06 2.06-.94-2.06-.94-.94-2.06-.94 2.06-2.06.94z\"/><path d=\"M17.41 7.96l-1.37-1.37c-.4-.4-.92-.59-1.43-.59-.52 0-1.04.2-1.43.59L10.3 9.45l-7.72 7.72c-.78.78-.78 2.05 0 2.83L4 21.41c.39.39.9.59 1.41.59.51 0 1.02-.2 1.41-.59l7.78-7.78 2.81-2.81c.8-.78.8-2.07 0-2.86zM5.41 20L4 18.59l7.72-7.72 1.47 1.35L5.41 20z\"/>\n",
              "  </svg>\n",
              "      </button>\n",
              "      \n",
              "  <style>\n",
              "    .colab-df-container {\n",
              "      display:flex;\n",
              "      flex-wrap:wrap;\n",
              "      gap: 12px;\n",
              "    }\n",
              "\n",
              "    .colab-df-convert {\n",
              "      background-color: #E8F0FE;\n",
              "      border: none;\n",
              "      border-radius: 50%;\n",
              "      cursor: pointer;\n",
              "      display: none;\n",
              "      fill: #1967D2;\n",
              "      height: 32px;\n",
              "      padding: 0 0 0 0;\n",
              "      width: 32px;\n",
              "    }\n",
              "\n",
              "    .colab-df-convert:hover {\n",
              "      background-color: #E2EBFA;\n",
              "      box-shadow: 0px 1px 2px rgba(60, 64, 67, 0.3), 0px 1px 3px 1px rgba(60, 64, 67, 0.15);\n",
              "      fill: #174EA6;\n",
              "    }\n",
              "\n",
              "    [theme=dark] .colab-df-convert {\n",
              "      background-color: #3B4455;\n",
              "      fill: #D2E3FC;\n",
              "    }\n",
              "\n",
              "    [theme=dark] .colab-df-convert:hover {\n",
              "      background-color: #434B5C;\n",
              "      box-shadow: 0px 1px 3px 1px rgba(0, 0, 0, 0.15);\n",
              "      filter: drop-shadow(0px 1px 2px rgba(0, 0, 0, 0.3));\n",
              "      fill: #FFFFFF;\n",
              "    }\n",
              "  </style>\n",
              "\n",
              "      <script>\n",
              "        const buttonEl =\n",
              "          document.querySelector('#df-a94ad8e0-b1e6-4860-a982-db251b764192 button.colab-df-convert');\n",
              "        buttonEl.style.display =\n",
              "          google.colab.kernel.accessAllowed ? 'block' : 'none';\n",
              "\n",
              "        async function convertToInteractive(key) {\n",
              "          const element = document.querySelector('#df-a94ad8e0-b1e6-4860-a982-db251b764192');\n",
              "          const dataTable =\n",
              "            await google.colab.kernel.invokeFunction('convertToInteractive',\n",
              "                                                     [key], {});\n",
              "          if (!dataTable) return;\n",
              "\n",
              "          const docLinkHtml = 'Like what you see? Visit the ' +\n",
              "            '<a target=\"_blank\" href=https://colab.research.google.com/notebooks/data_table.ipynb>data table notebook</a>'\n",
              "            + ' to learn more about interactive tables.';\n",
              "          element.innerHTML = '';\n",
              "          dataTable['output_type'] = 'display_data';\n",
              "          await google.colab.output.renderOutput(dataTable, element);\n",
              "          const docLink = document.createElement('div');\n",
              "          docLink.innerHTML = docLinkHtml;\n",
              "          element.appendChild(docLink);\n",
              "        }\n",
              "      </script>\n",
              "    </div>\n",
              "  </div>\n",
              "  "
            ]
          },
          "metadata": {},
          "execution_count": 440
        }
      ],
      "source": [
        "hotel_related[hotel_related.MERCHANT_CATEGORIZED_AS == \"Groceries\"]"
      ]
    },
    {
      "cell_type": "markdown",
      "metadata": {
        "id": "1k7A9WLIk3zT"
      },
      "source": [
        "## SCHOOL RELATED \n",
        "* Globally and locally there are specific names associated with schools and fees as shown below \n",
        "* Some parts of the schools like cafeteria may not well depict the financial aspect on schools like fees so drop them\n"
      ]
    },
    {
      "cell_type": "code",
      "execution_count": 441,
      "metadata": {
        "id": "mhJyujGPk3zU",
        "outputId": "955928ed-5b77-4534-830f-eb1a6ba1cca5",
        "colab": {
          "base_uri": "https://localhost:8080/"
        }
      },
      "outputs": [
        {
          "output_type": "execute_result",
          "data": {
            "text/plain": [
              "(17, 19)"
            ]
          },
          "metadata": {},
          "execution_count": 441
        }
      ],
      "source": [
        "school_related = all_data.loc[all_data['MERCHANT_NAME'].str.contains(\"school|university|campus|college|fees|karo |polytechnic|cbf|kindergarten\", case=False)]\n",
        "school_related.shape"
      ]
    },
    {
      "cell_type": "code",
      "execution_count": 442,
      "metadata": {
        "id": "EOl_OdEJk3zU",
        "outputId": "4de3dfa7-5e55-4ccc-963d-b17341bb837c",
        "colab": {
          "base_uri": "https://localhost:8080/"
        }
      },
      "outputs": [
        {
          "output_type": "execute_result",
          "data": {
            "text/plain": [
              "14"
            ]
          },
          "metadata": {},
          "execution_count": 442
        }
      ],
      "source": [
        "school_related.MERCHANT_NAME.nunique()"
      ]
    },
    {
      "cell_type": "code",
      "execution_count": 443,
      "metadata": {
        "id": "lgOS-0ZUk3zV",
        "outputId": "b4b2c314-d339-4ab4-8df1-e77528157b04",
        "colab": {
          "base_uri": "https://localhost:8080/"
        }
      },
      "outputs": [
        {
          "output_type": "execute_result",
          "data": {
            "text/plain": [
              "Education    2\n",
              "Name: MERCHANT_CATEGORIZED_AS, dtype: int64"
            ]
          },
          "metadata": {},
          "execution_count": 443
        }
      ],
      "source": [
        "school_related.MERCHANT_CATEGORIZED_AS.value_counts()"
      ]
    },
    {
      "cell_type": "code",
      "execution_count": 444,
      "metadata": {
        "id": "Gd8PQsH8k3zV",
        "outputId": "12ec1c3c-bc47-4767-da0b-0ff4a6e10f67",
        "colab": {
          "base_uri": "https://localhost:8080/"
        }
      },
      "outputs": [
        {
          "output_type": "execute_result",
          "data": {
            "text/plain": [
              "array(['LIPA KARO KCB ACCOUNT', 'CITAM BUSINESS FORUM   CBF ON',\n",
              "       'TRINITY INRENATIONAL KINDERGARTEN LTD VIA SCB  TEMI MBARI',\n",
              "       'STRATHMORE BUSINESS SCHOOL', 'SCHOOL PHOTOS-KILELESHWA',\n",
              "       'AGA KHAN UNIVERSITY HOSPITAL NBI INPATIENT BILLS  CASUALTYPZP',\n",
              "       'AGA KHAN UNIVERSITY HOSPITAL NBI PEDIATRIC CASUALTY',\n",
              "       'HEART TO HEART FOUNDATION  MIKISA SCHOOL',\n",
              "       'UNIVERSITY OF NAIROBI-EXAMINATION',\n",
              "       'KENYA SCHOOL OF LAW-STUDENT CAFETERIA',\n",
              "       'UNIVERSITY OF NAIROBI - CHSS VIA ABSA',\n",
              "       'AGA KHAN UNIVERSITY HOSPITAL - RUAKA MEDICAL CENTRE',\n",
              "       'MORINGA SCHOOL LIMITED', 'MIATHENE BOYS SECONDARY SCHOOL VIA NBK'],\n",
              "      dtype=object)"
            ]
          },
          "metadata": {},
          "execution_count": 444
        }
      ],
      "source": [
        "school_related.MERCHANT_NAME.unique()"
      ]
    },
    {
      "cell_type": "code",
      "execution_count": 445,
      "metadata": {
        "id": "AGHRVTVuk3zV"
      },
      "outputs": [],
      "source": [
        "school_related = school_related[school_related[\"MERCHANT_NAME\"].str.contains(\"cafeteria|hospital\", case=False) == False]"
      ]
    },
    {
      "cell_type": "code",
      "execution_count": 446,
      "metadata": {
        "id": "Q2HzKyzbk3zV",
        "outputId": "b51523d2-dab8-453a-b1aa-ee353c7ecf01",
        "colab": {
          "base_uri": "https://localhost:8080/"
        }
      },
      "outputs": [
        {
          "output_type": "execute_result",
          "data": {
            "text/plain": [
              "array(['LIPA KARO KCB ACCOUNT', 'CITAM BUSINESS FORUM   CBF ON',\n",
              "       'TRINITY INRENATIONAL KINDERGARTEN LTD VIA SCB  TEMI MBARI',\n",
              "       'STRATHMORE BUSINESS SCHOOL', 'SCHOOL PHOTOS-KILELESHWA',\n",
              "       'HEART TO HEART FOUNDATION  MIKISA SCHOOL',\n",
              "       'UNIVERSITY OF NAIROBI-EXAMINATION',\n",
              "       'UNIVERSITY OF NAIROBI - CHSS VIA ABSA', 'MORINGA SCHOOL LIMITED',\n",
              "       'MIATHENE BOYS SECONDARY SCHOOL VIA NBK'], dtype=object)"
            ]
          },
          "metadata": {},
          "execution_count": 446
        }
      ],
      "source": [
        "school_related.MERCHANT_NAME.unique()"
      ]
    },
    {
      "cell_type": "markdown",
      "metadata": {
        "id": "Fn7Xv6vYk3zW"
      },
      "source": [
        "## Finance Related \n",
        "* Here we use banks, loan apps, credit institutions and investments\n",
        "* Remove all names with paybill because most of the time paybill is for normal expenditures"
      ]
    },
    {
      "cell_type": "code",
      "execution_count": 447,
      "metadata": {
        "id": "jArpV_nQk3zW",
        "outputId": "eb6a3758-c517-4d94-9a6c-b6af8751cb69",
        "colab": {
          "base_uri": "https://localhost:8080/"
        }
      },
      "outputs": [
        {
          "output_type": "execute_result",
          "data": {
            "text/plain": [
              "(1663, 19)"
            ]
          },
          "metadata": {},
          "execution_count": 447
        }
      ],
      "source": [
        "finance_related = all_data.loc[all_data['MERCHANT_NAME'].str.contains(\"bank|loan|credit|insur|kcb|equity|ncba|barclays|coop|CO-OP|standard chartered|mshwari|m-shwari|zenka|tala|stanbic|saving|invest|capital|trust|retirement|pension|xgo|bayes|mogo|sacco|holdings|ncba|kandamoja|cash|m-kopa|mkopa|kopa|enterprise|kra\", case=False)]\n",
        "finance_related.shape"
      ]
    },
    {
      "cell_type": "code",
      "execution_count": 448,
      "metadata": {
        "id": "oS1sjzaJk3zX",
        "outputId": "543e6ff2-368e-4993-8747-ec25eab143ed",
        "colab": {
          "base_uri": "https://localhost:8080/"
        }
      },
      "outputs": [
        {
          "output_type": "execute_result",
          "data": {
            "text/plain": [
              "254"
            ]
          },
          "metadata": {},
          "execution_count": 448
        }
      ],
      "source": [
        "finance_related.MERCHANT_NAME.nunique()"
      ]
    },
    {
      "cell_type": "code",
      "execution_count": 449,
      "metadata": {
        "id": "suQI4wTZk3zX",
        "outputId": "8b36ff5c-7e65-433f-f3a1-13ce1d26e31d",
        "colab": {
          "base_uri": "https://localhost:8080/"
        }
      },
      "outputs": [
        {
          "output_type": "execute_result",
          "data": {
            "text/plain": [
              "Bills & Fees        15\n",
              "Emergency fund       9\n",
              "Loan Repayment       5\n",
              "Groceries            5\n",
              "Transport & Fuel     4\n",
              "Shopping             2\n",
              "Education            1\n",
              "Rent / Mortgage      1\n",
              "Family & Friends     1\n",
              "Name: MERCHANT_CATEGORIZED_AS, dtype: int64"
            ]
          },
          "metadata": {},
          "execution_count": 449
        }
      ],
      "source": [
        "finance_related.MERCHANT_CATEGORIZED_AS.value_counts()"
      ]
    },
    {
      "cell_type": "code",
      "execution_count": 450,
      "metadata": {
        "id": "CTZTBoiOk3zY",
        "outputId": "d9e1f6ec-4ea7-4cbc-e25b-fa74bde11922",
        "colab": {
          "base_uri": "https://localhost:8080/",
          "height": 427
        }
      },
      "outputs": [
        {
          "output_type": "execute_result",
          "data": {
            "text/plain": [
              "           MERCHANT_CATEGORIZED_AT                  MERCHANT_NAME  \\\n",
              "14   2022-03-16 13:08:19.703288+00  GARIDON ENTERPRISES VIA CO-OP   \n",
              "36   2022-05-31 13:27:24.704992+00                 KCB PAYBILL AC   \n",
              "56   2022-05-31 13:22:16.049027+00         EQUITY PAYBILL ACCOUNT   \n",
              "334  2022-03-16 13:08:19.703288+00         KEMAHMWA ENTERPRISE HQ   \n",
              "355  2022-03-16 13:08:19.703288+00         KEMAHMWA ENTERPRISE HQ   \n",
              "\n",
              "    MERCHANT_CATEGORIZED_AS  PURCHASE_VALUE            PURCHASED_AT  \\\n",
              "14                Groceries            4090  2020-12-28 13:29:00+00   \n",
              "36                Groceries             300  2022-05-31 12:04:00+00   \n",
              "56                Groceries             600  2022-05-31 17:02:00+00   \n",
              "334               Groceries             180  2022-04-01 06:08:00+00   \n",
              "355               Groceries              80  2022-03-31 05:48:00+00   \n",
              "\n",
              "    IS_PURCHASE_PAID_VIA_MPESA_SEND_MONEY USER_GENDER  USER_HOUSEHOLD  \\\n",
              "14                                  False      Female               1   \n",
              "36                                  False      Female               1   \n",
              "56                                   True      Female               1   \n",
              "334                                 False      Female               1   \n",
              "355                                 False      Female               1   \n",
              "\n",
              "     USER_INCOME      USER_ID Transaction_ID  price_range  income_range  \\\n",
              "14        250000  ID_OZANC6XT    ID_1i4muuzs            3             0   \n",
              "36         23000  ID_Y0386AT9    ID_43z93z6b            3             2   \n",
              "56         23000  ID_Y0386AT9    ID_6jn9k711            3             2   \n",
              "334       250000  ID_OZANC6XT    ID_we56bbtu            3             0   \n",
              "355       250000  ID_OZANC6XT    ID_yfx37t1i            3             0   \n",
              "\n",
              "     prod_PURCHASE_INCOME  count_PURCHASE_VALUE  count_USER_INCOME  \\\n",
              "14               0.016360                   1.0               39.0   \n",
              "36               0.013043                  47.0               51.0   \n",
              "56               0.026087                   9.0               51.0   \n",
              "334              0.000720                   1.0               39.0   \n",
              "355              0.000320                   8.0               39.0   \n",
              "\n",
              "     count_USER_HOUSEHOLD  count_MERCHANT_NAME   ind  \n",
              "14                  309.0                  1.0  data  \n",
              "36                  309.0                  7.0  data  \n",
              "56                  309.0                 19.0  data  \n",
              "334                 309.0                  3.0  data  \n",
              "355                 309.0                  3.0  data  "
            ],
            "text/html": [
              "\n",
              "  <div id=\"df-c6e35368-6b8a-45fd-8457-f47cec2abfb5\">\n",
              "    <div class=\"colab-df-container\">\n",
              "      <div>\n",
              "<style scoped>\n",
              "    .dataframe tbody tr th:only-of-type {\n",
              "        vertical-align: middle;\n",
              "    }\n",
              "\n",
              "    .dataframe tbody tr th {\n",
              "        vertical-align: top;\n",
              "    }\n",
              "\n",
              "    .dataframe thead th {\n",
              "        text-align: right;\n",
              "    }\n",
              "</style>\n",
              "<table border=\"1\" class=\"dataframe\">\n",
              "  <thead>\n",
              "    <tr style=\"text-align: right;\">\n",
              "      <th></th>\n",
              "      <th>MERCHANT_CATEGORIZED_AT</th>\n",
              "      <th>MERCHANT_NAME</th>\n",
              "      <th>MERCHANT_CATEGORIZED_AS</th>\n",
              "      <th>PURCHASE_VALUE</th>\n",
              "      <th>PURCHASED_AT</th>\n",
              "      <th>IS_PURCHASE_PAID_VIA_MPESA_SEND_MONEY</th>\n",
              "      <th>USER_GENDER</th>\n",
              "      <th>USER_HOUSEHOLD</th>\n",
              "      <th>USER_INCOME</th>\n",
              "      <th>USER_ID</th>\n",
              "      <th>Transaction_ID</th>\n",
              "      <th>price_range</th>\n",
              "      <th>income_range</th>\n",
              "      <th>prod_PURCHASE_INCOME</th>\n",
              "      <th>count_PURCHASE_VALUE</th>\n",
              "      <th>count_USER_INCOME</th>\n",
              "      <th>count_USER_HOUSEHOLD</th>\n",
              "      <th>count_MERCHANT_NAME</th>\n",
              "      <th>ind</th>\n",
              "    </tr>\n",
              "  </thead>\n",
              "  <tbody>\n",
              "    <tr>\n",
              "      <th>14</th>\n",
              "      <td>2022-03-16 13:08:19.703288+00</td>\n",
              "      <td>GARIDON ENTERPRISES VIA CO-OP</td>\n",
              "      <td>Groceries</td>\n",
              "      <td>4090</td>\n",
              "      <td>2020-12-28 13:29:00+00</td>\n",
              "      <td>False</td>\n",
              "      <td>Female</td>\n",
              "      <td>1</td>\n",
              "      <td>250000</td>\n",
              "      <td>ID_OZANC6XT</td>\n",
              "      <td>ID_1i4muuzs</td>\n",
              "      <td>3</td>\n",
              "      <td>0</td>\n",
              "      <td>0.016360</td>\n",
              "      <td>1.0</td>\n",
              "      <td>39.0</td>\n",
              "      <td>309.0</td>\n",
              "      <td>1.0</td>\n",
              "      <td>data</td>\n",
              "    </tr>\n",
              "    <tr>\n",
              "      <th>36</th>\n",
              "      <td>2022-05-31 13:27:24.704992+00</td>\n",
              "      <td>KCB PAYBILL AC</td>\n",
              "      <td>Groceries</td>\n",
              "      <td>300</td>\n",
              "      <td>2022-05-31 12:04:00+00</td>\n",
              "      <td>False</td>\n",
              "      <td>Female</td>\n",
              "      <td>1</td>\n",
              "      <td>23000</td>\n",
              "      <td>ID_Y0386AT9</td>\n",
              "      <td>ID_43z93z6b</td>\n",
              "      <td>3</td>\n",
              "      <td>2</td>\n",
              "      <td>0.013043</td>\n",
              "      <td>47.0</td>\n",
              "      <td>51.0</td>\n",
              "      <td>309.0</td>\n",
              "      <td>7.0</td>\n",
              "      <td>data</td>\n",
              "    </tr>\n",
              "    <tr>\n",
              "      <th>56</th>\n",
              "      <td>2022-05-31 13:22:16.049027+00</td>\n",
              "      <td>EQUITY PAYBILL ACCOUNT</td>\n",
              "      <td>Groceries</td>\n",
              "      <td>600</td>\n",
              "      <td>2022-05-31 17:02:00+00</td>\n",
              "      <td>True</td>\n",
              "      <td>Female</td>\n",
              "      <td>1</td>\n",
              "      <td>23000</td>\n",
              "      <td>ID_Y0386AT9</td>\n",
              "      <td>ID_6jn9k711</td>\n",
              "      <td>3</td>\n",
              "      <td>2</td>\n",
              "      <td>0.026087</td>\n",
              "      <td>9.0</td>\n",
              "      <td>51.0</td>\n",
              "      <td>309.0</td>\n",
              "      <td>19.0</td>\n",
              "      <td>data</td>\n",
              "    </tr>\n",
              "    <tr>\n",
              "      <th>334</th>\n",
              "      <td>2022-03-16 13:08:19.703288+00</td>\n",
              "      <td>KEMAHMWA ENTERPRISE HQ</td>\n",
              "      <td>Groceries</td>\n",
              "      <td>180</td>\n",
              "      <td>2022-04-01 06:08:00+00</td>\n",
              "      <td>False</td>\n",
              "      <td>Female</td>\n",
              "      <td>1</td>\n",
              "      <td>250000</td>\n",
              "      <td>ID_OZANC6XT</td>\n",
              "      <td>ID_we56bbtu</td>\n",
              "      <td>3</td>\n",
              "      <td>0</td>\n",
              "      <td>0.000720</td>\n",
              "      <td>1.0</td>\n",
              "      <td>39.0</td>\n",
              "      <td>309.0</td>\n",
              "      <td>3.0</td>\n",
              "      <td>data</td>\n",
              "    </tr>\n",
              "    <tr>\n",
              "      <th>355</th>\n",
              "      <td>2022-03-16 13:08:19.703288+00</td>\n",
              "      <td>KEMAHMWA ENTERPRISE HQ</td>\n",
              "      <td>Groceries</td>\n",
              "      <td>80</td>\n",
              "      <td>2022-03-31 05:48:00+00</td>\n",
              "      <td>False</td>\n",
              "      <td>Female</td>\n",
              "      <td>1</td>\n",
              "      <td>250000</td>\n",
              "      <td>ID_OZANC6XT</td>\n",
              "      <td>ID_yfx37t1i</td>\n",
              "      <td>3</td>\n",
              "      <td>0</td>\n",
              "      <td>0.000320</td>\n",
              "      <td>8.0</td>\n",
              "      <td>39.0</td>\n",
              "      <td>309.0</td>\n",
              "      <td>3.0</td>\n",
              "      <td>data</td>\n",
              "    </tr>\n",
              "  </tbody>\n",
              "</table>\n",
              "</div>\n",
              "      <button class=\"colab-df-convert\" onclick=\"convertToInteractive('df-c6e35368-6b8a-45fd-8457-f47cec2abfb5')\"\n",
              "              title=\"Convert this dataframe to an interactive table.\"\n",
              "              style=\"display:none;\">\n",
              "        \n",
              "  <svg xmlns=\"http://www.w3.org/2000/svg\" height=\"24px\"viewBox=\"0 0 24 24\"\n",
              "       width=\"24px\">\n",
              "    <path d=\"M0 0h24v24H0V0z\" fill=\"none\"/>\n",
              "    <path d=\"M18.56 5.44l.94 2.06.94-2.06 2.06-.94-2.06-.94-.94-2.06-.94 2.06-2.06.94zm-11 1L8.5 8.5l.94-2.06 2.06-.94-2.06-.94L8.5 2.5l-.94 2.06-2.06.94zm10 10l.94 2.06.94-2.06 2.06-.94-2.06-.94-.94-2.06-.94 2.06-2.06.94z\"/><path d=\"M17.41 7.96l-1.37-1.37c-.4-.4-.92-.59-1.43-.59-.52 0-1.04.2-1.43.59L10.3 9.45l-7.72 7.72c-.78.78-.78 2.05 0 2.83L4 21.41c.39.39.9.59 1.41.59.51 0 1.02-.2 1.41-.59l7.78-7.78 2.81-2.81c.8-.78.8-2.07 0-2.86zM5.41 20L4 18.59l7.72-7.72 1.47 1.35L5.41 20z\"/>\n",
              "  </svg>\n",
              "      </button>\n",
              "      \n",
              "  <style>\n",
              "    .colab-df-container {\n",
              "      display:flex;\n",
              "      flex-wrap:wrap;\n",
              "      gap: 12px;\n",
              "    }\n",
              "\n",
              "    .colab-df-convert {\n",
              "      background-color: #E8F0FE;\n",
              "      border: none;\n",
              "      border-radius: 50%;\n",
              "      cursor: pointer;\n",
              "      display: none;\n",
              "      fill: #1967D2;\n",
              "      height: 32px;\n",
              "      padding: 0 0 0 0;\n",
              "      width: 32px;\n",
              "    }\n",
              "\n",
              "    .colab-df-convert:hover {\n",
              "      background-color: #E2EBFA;\n",
              "      box-shadow: 0px 1px 2px rgba(60, 64, 67, 0.3), 0px 1px 3px 1px rgba(60, 64, 67, 0.15);\n",
              "      fill: #174EA6;\n",
              "    }\n",
              "\n",
              "    [theme=dark] .colab-df-convert {\n",
              "      background-color: #3B4455;\n",
              "      fill: #D2E3FC;\n",
              "    }\n",
              "\n",
              "    [theme=dark] .colab-df-convert:hover {\n",
              "      background-color: #434B5C;\n",
              "      box-shadow: 0px 1px 3px 1px rgba(0, 0, 0, 0.15);\n",
              "      filter: drop-shadow(0px 1px 2px rgba(0, 0, 0, 0.3));\n",
              "      fill: #FFFFFF;\n",
              "    }\n",
              "  </style>\n",
              "\n",
              "      <script>\n",
              "        const buttonEl =\n",
              "          document.querySelector('#df-c6e35368-6b8a-45fd-8457-f47cec2abfb5 button.colab-df-convert');\n",
              "        buttonEl.style.display =\n",
              "          google.colab.kernel.accessAllowed ? 'block' : 'none';\n",
              "\n",
              "        async function convertToInteractive(key) {\n",
              "          const element = document.querySelector('#df-c6e35368-6b8a-45fd-8457-f47cec2abfb5');\n",
              "          const dataTable =\n",
              "            await google.colab.kernel.invokeFunction('convertToInteractive',\n",
              "                                                     [key], {});\n",
              "          if (!dataTable) return;\n",
              "\n",
              "          const docLinkHtml = 'Like what you see? Visit the ' +\n",
              "            '<a target=\"_blank\" href=https://colab.research.google.com/notebooks/data_table.ipynb>data table notebook</a>'\n",
              "            + ' to learn more about interactive tables.';\n",
              "          element.innerHTML = '';\n",
              "          dataTable['output_type'] = 'display_data';\n",
              "          await google.colab.output.renderOutput(dataTable, element);\n",
              "          const docLink = document.createElement('div');\n",
              "          docLink.innerHTML = docLinkHtml;\n",
              "          element.appendChild(docLink);\n",
              "        }\n",
              "      </script>\n",
              "    </div>\n",
              "  </div>\n",
              "  "
            ]
          },
          "metadata": {},
          "execution_count": 450
        }
      ],
      "source": [
        "finance_related[finance_related['MERCHANT_CATEGORIZED_AS'] == 'Groceries']"
      ]
    },
    {
      "cell_type": "code",
      "execution_count": 451,
      "metadata": {
        "id": "stBT8rJ9k3zY",
        "outputId": "941d95df-45d0-4f18-9e51-d8c55ec78739",
        "colab": {
          "base_uri": "https://localhost:8080/"
        }
      },
      "outputs": [
        {
          "output_type": "execute_result",
          "data": {
            "text/plain": [
              "array(['ZILLIONS CREDIT LIMITED', 'M-SHWARI ACCOUNT',\n",
              "       'GARIDON ENTERPRISES VIA CO-OP', 'IM BANK', 'KCB PAYBILL AC',\n",
              "       'NCBA BANK KENYA PLC 1', 'MOGO AUTO LIMITED  KDA',\n",
              "       'EQUITY PAYBILL ACCOUNT', 'CAPTON ENTERPRISES NRBI WEST',\n",
              "       'LIPA KARO KCB ACCOUNT', 'IM BANK C2B', 'NABO CAPITAL LTD C2B',\n",
              "       'PETROCITY ENTERPRISES LIMITED', 'FAHARI RETIREMENT PLAN',\n",
              "       'NCBA LOOP', 'KRA - NAIROBI COUNTY REVENUE', 'EQUITY PAYBILL',\n",
              "       'NCBA BANK', 'FAMILY BANK PESA PAP', 'KEMAHMWA ENTERPRISE HQ',\n",
              "       'M-SHWARI LOCK SAVINGS',\n",
              "       'MOTOR CONSULT SERVICES LIMITED VIA NIC BANK',\n",
              "       'WAKANDA CREDIT LIMITED', 'KCB PAYBILL', 'ZIMELE UNIT TRUST',\n",
              "       'CO-OPERATIVE BANK COLLECTION ACCOUNT', 'MOGO AUTO LIMITED',\n",
              "       'XGO KENYA LIMITED', 'ZASH LOAN', 'STANBIC BANK',\n",
              "       'CASH NOW  CASHNOW', 'ABSA BANK KENYA PLC', 'BAYES',\n",
              "       'KANDAMOJA APP', 'CREDITAREA CAPITAL LIMITED',\n",
              "       'SMOOTHIE DJS ENTERPRISE 2', 'O-STREAM CREDIT HELA',\n",
              "       'K UNITY SACCO LIMITED', 'KRA', 'CYBERMENU ENTERPRISE',\n",
              "       'EUZAC ENTERPRISES', 'PETROCITY ENTERPRISES', 'CHARITY CAPITAL',\n",
              "       'HOSANNA ENTERPRISES', 'ANNOITED SUPPLIER ENTERPRISE',\n",
              "       'PRISCILLA KAMBURA MUNENE VIA COOP BANK',\n",
              "       'MADISON GENERAL INSURANCE KENYA LIMITED  KCX',\n",
              "       'NURIA ENTERPRISES  PATRICIA ROMANA', 'HELICO ENTERPRISES  HELICO',\n",
              "       'NCBA BANK LTD CORPORATE  KKL ON', 'NABO CAPITAL LTD C2B  GHTM37',\n",
              "       'DUKA XPRESS ENTERPRISES', 'EAZZYPAY EQUITY BANK ACCOUNT',\n",
              "       'NABO CAPITAL LTD C2B  PQHAAY', 'HELICO ENTERPRISES  PATRICIA',\n",
              "       'EAZZYPAY EQUITY', 'JABANATION ENTERPRISES 1', 'PASHA ENTERPRISES',\n",
              "       'HELICO ENTERPRISES  HELICO ON', 'M-SHWARI',\n",
              "       'MELPRI ENTERPRISES  W ON', 'WINES AND LIQUOR ENTERPRISES',\n",
              "       'MELPRI ENTERPRISES', 'PAINTRITE ENTERPRISES LTD',\n",
              "       'MILA INVESTMENTS LTD 4',\n",
              "       'SIA QSR KENYA LIMITED - HUB KAREN COLLECTION VIA STANBIC',\n",
              "       'ONE MOVE HAIR AND BEAUTY VIA CO-OP',\n",
              "       'DEE HAIR AND BEAUTY SALON VIA COOP BANK',\n",
              "       \"CHRISTIE'S ENTERPRISES LTD\",\n",
              "       'SAFARICOM SACCO DEPOSIT CONTRIBUTION', 'MH INVESTMENT',\n",
              "       'NEPHYLL INSURANCE', 'WESON INVESTMENT LIMITED',\n",
              "       'RAINLEX INVESTMENTS NGONG', 'RESOLUTION INSURANCE',\n",
              "       'MARGARET WAIRIMU MUCHEMI VIA COOP', 'SAJ ENTERPRISES',\n",
              "       'RAINLEX INVESTMENT LTD  ANANSI LTD ON',\n",
              "       'RAINLEX INVESTMENT LTD  ANANSI LTD',\n",
              "       'PHARMAPLUS PHARMACEUTICALS LTD CAPITAL CENTRE  CPL ON',\n",
              "       'GOFAM INVESTMENTS LIMITED VIA CO-OP',\n",
              "       'CREDIT REFERENCE BUREAU AFRICA LTD', 'SAMADA INVESTMENTS',\n",
              "       'JIMNAT INVESTMENTS', 'MASRUR ENTERPRISES LIMITED',\n",
              "       'SMARTRIX ENTERPRISES',\n",
              "       'FREVIO INVESTMENTS LIMITED  WYCLIFFE ODHIAMBO ON',\n",
              "       'SOGGY ACRES AND INVESTMENT', 'LESRA ENTERPRISES',\n",
              "       'UWAYS INVESTMENTS', 'MEMSTER  ENTERPRISE',\n",
              "       'THE LIQUOR TAP WINES AND SPIRITS -KCB', '2NK SACCO MAIN',\n",
              "       'ELERMO ENTERPRISES', 'ROLINNE INVESTMENTS COMPANY LIMITED -KCB',\n",
              "       'VASILIKA ENTERPRISE -KCB', 'JOSEVU ENTERPRISES',\n",
              "       'LIPANOW LIMITED VIA STANBIC',\n",
              "       'TEAM INVESTMENT CONCEPT LIMITED- ROASTED TRUTH RIVERSIDE',\n",
              "       'JOWAC SPORTS CLUB VIA COOP BANK',\n",
              "       'STEPH THE CHEF LIMITED VIA IM BANK', 'BONIE ENTERPRISES',\n",
              "       'BRIHEN INVESTMENTS - JIBU LOWER KABETE',\n",
              "       'OLEJOKEZI HARDWAREVIA COOP BANK',\n",
              "       'FINEST HARDWARE VIA CO-OP BANK',\n",
              "       'METROPOL CREDIT REFERENCE BUREAU LTD',\n",
              "       'PG BISON KENYA LIMITED VIA CITI BANK',\n",
              "       'ZIMELE UNIT TRUST - FIXED INCOME FUND', 'LIPPET ENTERPRISES',\n",
              "       'PRIMAC INVESTMENTS',\n",
              "       'TEAM INVESTMENT CONCEPT LIMITED - ROASTED TRUTH LOWER KABETE',\n",
              "       'NAIROBI CITY COUNTY NATIONAL BANK REVENUE ACCOUNT',\n",
              "       'JEBTA ENTERPRISES', 'KAGGIAH HOLDINGS LTD',\n",
              "       'QWETU BASE INVESTMENT LIMITED', 'QWETU BASE INVESTMENT LIMITED 2',\n",
              "       'TEAM INVESTMENT -ROASTED TRUTH LAVINGTON',\n",
              "       'BIASHARA PAYBILL VIA FAMILY BANK  TERKI',\n",
              "       'SAJ ENTERPRISES - HEAD OFFICE',\n",
              "       'KRA - NAIROBI COUNTY REVENUE  PK-ON-AB4DA63',\n",
              "       'US VISA SERVICE VIA CITI BANK',\n",
              "       'BIASHARA PAYBILL VIA FAMILY BANK  MANIA', 'TUNGULE INVESTMENT CO',\n",
              "       'AQUADELIGHT INVESTMENTS LIMITED',\n",
              "       'AL-MADINA HARDWARE VIA KCB  LUCIA',\n",
              "       'KIOKO ENTERPRISES KILIFI RETAIL SHOP',\n",
              "       'ZAKIM INSURANCE AGENCY  KDB', 'HARRIET WANGUI NDERITU -KCB',\n",
              "       'PLAYTONS ENTERPRISES', 'ALUME HUWO ENTERPRISES MALINDI',\n",
              "       'TAITA ROCKS HOTEL VIA KCB', 'MWAKIKI INVESTMENT LTD',\n",
              "       'CRAB SHACK RESTAURANT VIA KCB', 'SAHEIM ENTERPRISES',\n",
              "       'GARIDON ENTERPRISE -KCB', 'SAVING HOME LIMITED',\n",
              "       'RAFLAN ENTERPRISES', 'PROSPEROUS ENTERPRISE',\n",
              "       'RAMADHAN KHAMISI NGIGA -KCB',\n",
              "       'CHANGAMKA AFRIKA INVESTMENTS LIMITED1',\n",
              "       'WIMBELDON ENTERPRISES LTD', 'HA MWALIMU SHOP VIA COOP BANK',\n",
              "       '2NK SACCO MAIN 1', 'WALKOM ENTERPRISES',\n",
              "       'SIA QSR KENYA LIMITED A  TWO RIVERS COLLECTION VIA STANBIC',\n",
              "       'KUKAROO EATERIES ENTERPRISE', 'MISKY INVESTMENT LIMITED',\n",
              "       'NAIVAS CAPITAL CENTER',\n",
              "       'KAMP INSURANCE AGENCY LTD  OFFICE INSURANCE',\n",
              "       'KAMP INSURANCE AGENCY LTD  KCQ', 'GOGOL INVESTMENTS LIMITED',\n",
              "       'THE PILL BOX LTD -KCB', \"BLACKY'S LOUNGE LIMITED VIA KCB\",\n",
              "       'GOLF MIKE ENTERPRISE  VAL', 'NAIROBI JAVA HOUSE CAPITAL CENTER',\n",
              "       'CHANCERY ENTERPRISES VENTURERS', 'FOODBERG INVESTMENT',\n",
              "       'CRAVING YELLOW LTD VIA IM BANK', 'NON SOLO GELATO VIA KCB',\n",
              "       'SHANGWE AFRICA ENTERPRISES', 'ATANA OAKTREE BRANDS LIMITED -KCB',\n",
              "       'NAIROBI CITY COUNTY NATIONAL BANK REVENUE ACCOUNT  PKN KCV',\n",
              "       'ITCARE LIMITED VIA KCB  ITCARE', 'ZENKA FINANCE LIMITED C2B',\n",
              "       'HITAJ CAPITAL KENYA LTD  MOKASH',\n",
              "       'KRA - NAIROBI COUNTY REVENUE  PK-ON-C8DAB72',\n",
              "       'SALESIANS OF DON BOSCO HOUSE VIA EQUITY BANK',\n",
              "       'FAIRO HAIRBEAUTY PARLOUR VIA COOP BANK',\n",
              "       'PAY LOAN INVESTMENT LTD  J3CI', 'EXELUS INVESTMENTS LIMITED',\n",
              "       'TOP GRADE MEATRY2 -KCB', 'CALMOST COMMERCIAL ENTERPRISE LTD',\n",
              "       'BROADNETT INVESTMENT B', 'CRISPY BITES VIA STANBIC  CRISPY',\n",
              "       'COCO JAMBO ENTERPRISE 1', 'FOREFRONT ENTERPRISES',\n",
              "       'MADISON INSURANCE COMPANY VIA NCBA 1',\n",
              "       'NCBA BANK LTD CORPORATE  K3C',\n",
              "       'JUBILEE GENERAL INSURANCE LIMITED - PREMIUM ACCOUNT  KDA',\n",
              "       'KRA - NAIROBI COUNTY REVENUE  PK-ON-D1FCB1CD',\n",
              "       'PAY LOAN INVESTMENT LTD  CASHNOW',\n",
              "       'PAY LOAN INVESTMENT LTD  M1CE',\n",
              "       'KRA - NAIROBI COUNTY REVENUE  PK-ON-FE1A0AB5',\n",
              "       'PROGRESSIVE CREDIT LTD', 'PROGRESSIVE CREDIT LIMITED',\n",
              "       'PAUL CHEGE MAINGI VIA COOP BANK',\n",
              "       'NAIROBI CITY COUNTY NATIONAL BANK REVENUE ACCOUNT  SUNKEN',\n",
              "       'BARAKA RESCUE HOTEL VIA COOP BANK',\n",
              "       'SKYDRINK WINES AND SPIRITS VIA COOP BANK',\n",
              "       'VALLEY SPRINGS ENTERPRISES LTD',\n",
              "       'SHEREHEZ WINES SPIRITSORONGAI VIA COOP BANK',\n",
              "       'ROSE BOUTIQUE VIA FAMILY BANK', 'BAYES COLLECTIONS PAYBILL',\n",
              "       'GALITOS CAPITAL CENTRE', 'NALLA EMPIRE ENTERPRISES',\n",
              "       'TERESIA MWANGI - HI-STYLE LADIES COLLECTION - CO-OP',\n",
              "       'KINGS OIL INVESTMENTS LIMITED', 'M-KOPA KENYA LTD',\n",
              "       'NAHASHONA MWANGIA KAHEMBE - KCB', 'REJO ENTERPRISES',\n",
              "       'KAMEGO ENTERPRISES LIMITED', 'GENJU ENTERPRISES',\n",
              "       'BRIMAKS TECHNOLOGYS VIA COOP BANK',\n",
              "       'KENNEDY OTIENO OKOTH VIA KCB', 'CO-OPERATIVE BANK MONEY TRANSFER',\n",
              "       'SIA QSR KENYA LIMITED A  NEXTGEN COLLECTION VIA STANBIC',\n",
              "       'THE WHISKY FARM INVESTMENT LIMITED',\n",
              "       'LILY WHITE PRODUCTS ENTERPRISES LIMITED', 'INCOTEC INVESTMENTS',\n",
              "       'ALOE VANILLA ENTERPRISES', 'CHACAMBA INVESTMENTS',\n",
              "       'JUDICIARY PAYBILL VIA KCB  EZER6PLK',\n",
              "       'JUDICIARY PAYBILL VIA KCB  EZFBM6AK',\n",
              "       'JUDICIARY PAYBILL VIA KCB  EZCYR4GJ', 'JAYCROFT INVESTMENTS',\n",
              "       'DYNA STAR ENTERPRISESVIA COOP BANK',\n",
              "       \"JESSE KAY CHILDREN'S HOSPITAL VIA NCBA\", 'CITY TRENDS INVESTMENT',\n",
              "       'JAIMAKI ENTERPRISES', 'JOYMART SUPERMARKET VIA KCB',\n",
              "       'KIBANGABOOKS ENTERPRISES - CO-OP',\n",
              "       'ESTIMMAS INVESTMENTS - HURLIGHAM TOTALSS 3',\n",
              "       'MENELIK PLACE VIA COOP BANK', 'CLEMENT KARANJA ENTERPRISES',\n",
              "       'LA MIGUELA HOLDINGS', 'STEPMA ENTERPRISES',\n",
              "       'SAMSON NDUNGU VIA GT BANK',\n",
              "       'ENKASARA RESORT LIMITED VIA CO-OP BANK',\n",
              "       'TIIKAYA PROPERTY HOLDINGS LIMITED', 'LA VARANDA LOUNGE VIA COOP',\n",
              "       'YOUR M-SHWARI', 'HENRY MUNENE NJERU - CO-OP',\n",
              "       'MOCHA HOTEL LIMITED VIA KCB  MOCHA', 'THUNDERDOME BBQ LTD -KCB',\n",
              "       'GEORGE KARANJA GICHUHI VIA COOP BANK', 'MARITOZZ ENTERPRISE',\n",
              "       'KIOKO ENTERPRISES',\n",
              "       'READY AND FRESH CAFFE AND JUICE SHOP LTD - CO-OP',\n",
              "       'LYNK JOBS LIMITED  SARAHLOAN', 'ROIMEN INVESTMENT LTD  S1',\n",
              "       'JAKES FRY VIA NCBA', 'FASTECH CABLE ENTERPRISES',\n",
              "       'SOLUTION SACCO LIMITED', 'MASS MARKET BANKERS', 'ELIS ENTERPRISE',\n",
              "       'ROYPHARM CHEMISTVIA COOP BANK', 'KCB INSURANCE AGENCY LIMITED',\n",
              "       'QEEBA INVESTMENTS -KCB', 'LEGGIEWISE ENTERPRISE',\n",
              "       'THE HOOD ENTERPRISES',\n",
              "       'KCB SPORTS CLUB -RUARAKA  KCB SPORTS CLUB',\n",
              "       'CHPTER HOLDINGS LIMITED  ZOLA AFRICANNA',\n",
              "       'MH INVESTMENT AND DEVELOPMENT COMPANY LTD VIA CO-OP BANK',\n",
              "       'GEORGE MAINA KARIUKI VIA CO-OP'], dtype=object)"
            ]
          },
          "metadata": {},
          "execution_count": 451
        }
      ],
      "source": [
        "finance_related.MERCHANT_NAME.unique()"
      ]
    },
    {
      "cell_type": "code",
      "execution_count": 452,
      "metadata": {
        "id": "ydtg6pCxk3zY"
      },
      "outputs": [],
      "source": [
        "finance_related = finance_related[finance_related[\"MERCHANT_NAME\"].str.contains(\"karo|paybill\", case=False) == False]"
      ]
    },
    {
      "cell_type": "code",
      "execution_count": 453,
      "metadata": {
        "id": "0354Dw_qk3zY",
        "outputId": "efa591f1-c81d-4eef-e4d6-070bdb61b56f",
        "colab": {
          "base_uri": "https://localhost:8080/"
        }
      },
      "outputs": [
        {
          "output_type": "execute_result",
          "data": {
            "text/plain": [
              "Bills & Fees        10\n",
              "Emergency fund       7\n",
              "Loan Repayment       5\n",
              "Transport & Fuel     4\n",
              "Groceries            3\n",
              "Rent / Mortgage      1\n",
              "Family & Friends     1\n",
              "Name: MERCHANT_CATEGORIZED_AS, dtype: int64"
            ]
          },
          "metadata": {},
          "execution_count": 453
        }
      ],
      "source": [
        "finance_related.MERCHANT_CATEGORIZED_AS.value_counts()"
      ]
    },
    {
      "cell_type": "code",
      "execution_count": 454,
      "metadata": {
        "id": "kBNzt-ock3zZ",
        "outputId": "2b4e4111-9b68-4f4f-c182-fcc33bff3b31",
        "colab": {
          "base_uri": "https://localhost:8080/"
        }
      },
      "outputs": [
        {
          "output_type": "execute_result",
          "data": {
            "text/plain": [
              "array(['ZILLIONS CREDIT LIMITED', 'M-SHWARI ACCOUNT',\n",
              "       'GARIDON ENTERPRISES VIA CO-OP', 'IM BANK',\n",
              "       'NCBA BANK KENYA PLC 1', 'MOGO AUTO LIMITED  KDA',\n",
              "       'CAPTON ENTERPRISES NRBI WEST', 'IM BANK C2B',\n",
              "       'NABO CAPITAL LTD C2B', 'PETROCITY ENTERPRISES LIMITED',\n",
              "       'FAHARI RETIREMENT PLAN', 'NCBA LOOP',\n",
              "       'KRA - NAIROBI COUNTY REVENUE', 'NCBA BANK',\n",
              "       'FAMILY BANK PESA PAP', 'KEMAHMWA ENTERPRISE HQ',\n",
              "       'M-SHWARI LOCK SAVINGS',\n",
              "       'MOTOR CONSULT SERVICES LIMITED VIA NIC BANK',\n",
              "       'WAKANDA CREDIT LIMITED', 'ZIMELE UNIT TRUST',\n",
              "       'CO-OPERATIVE BANK COLLECTION ACCOUNT', 'MOGO AUTO LIMITED',\n",
              "       'XGO KENYA LIMITED', 'ZASH LOAN', 'STANBIC BANK',\n",
              "       'CASH NOW  CASHNOW', 'ABSA BANK KENYA PLC', 'BAYES',\n",
              "       'KANDAMOJA APP', 'CREDITAREA CAPITAL LIMITED',\n",
              "       'SMOOTHIE DJS ENTERPRISE 2', 'O-STREAM CREDIT HELA',\n",
              "       'K UNITY SACCO LIMITED', 'KRA', 'CYBERMENU ENTERPRISE',\n",
              "       'EUZAC ENTERPRISES', 'PETROCITY ENTERPRISES', 'CHARITY CAPITAL',\n",
              "       'HOSANNA ENTERPRISES', 'ANNOITED SUPPLIER ENTERPRISE',\n",
              "       'PRISCILLA KAMBURA MUNENE VIA COOP BANK',\n",
              "       'MADISON GENERAL INSURANCE KENYA LIMITED  KCX',\n",
              "       'NURIA ENTERPRISES  PATRICIA ROMANA', 'HELICO ENTERPRISES  HELICO',\n",
              "       'NCBA BANK LTD CORPORATE  KKL ON', 'NABO CAPITAL LTD C2B  GHTM37',\n",
              "       'DUKA XPRESS ENTERPRISES', 'EAZZYPAY EQUITY BANK ACCOUNT',\n",
              "       'NABO CAPITAL LTD C2B  PQHAAY', 'HELICO ENTERPRISES  PATRICIA',\n",
              "       'EAZZYPAY EQUITY', 'JABANATION ENTERPRISES 1', 'PASHA ENTERPRISES',\n",
              "       'HELICO ENTERPRISES  HELICO ON', 'M-SHWARI',\n",
              "       'MELPRI ENTERPRISES  W ON', 'WINES AND LIQUOR ENTERPRISES',\n",
              "       'MELPRI ENTERPRISES', 'PAINTRITE ENTERPRISES LTD',\n",
              "       'MILA INVESTMENTS LTD 4',\n",
              "       'SIA QSR KENYA LIMITED - HUB KAREN COLLECTION VIA STANBIC',\n",
              "       'ONE MOVE HAIR AND BEAUTY VIA CO-OP',\n",
              "       'DEE HAIR AND BEAUTY SALON VIA COOP BANK',\n",
              "       \"CHRISTIE'S ENTERPRISES LTD\",\n",
              "       'SAFARICOM SACCO DEPOSIT CONTRIBUTION', 'MH INVESTMENT',\n",
              "       'NEPHYLL INSURANCE', 'WESON INVESTMENT LIMITED',\n",
              "       'RAINLEX INVESTMENTS NGONG', 'RESOLUTION INSURANCE',\n",
              "       'MARGARET WAIRIMU MUCHEMI VIA COOP', 'SAJ ENTERPRISES',\n",
              "       'RAINLEX INVESTMENT LTD  ANANSI LTD ON',\n",
              "       'RAINLEX INVESTMENT LTD  ANANSI LTD',\n",
              "       'PHARMAPLUS PHARMACEUTICALS LTD CAPITAL CENTRE  CPL ON',\n",
              "       'GOFAM INVESTMENTS LIMITED VIA CO-OP',\n",
              "       'CREDIT REFERENCE BUREAU AFRICA LTD', 'SAMADA INVESTMENTS',\n",
              "       'JIMNAT INVESTMENTS', 'MASRUR ENTERPRISES LIMITED',\n",
              "       'SMARTRIX ENTERPRISES',\n",
              "       'FREVIO INVESTMENTS LIMITED  WYCLIFFE ODHIAMBO ON',\n",
              "       'SOGGY ACRES AND INVESTMENT', 'LESRA ENTERPRISES',\n",
              "       'UWAYS INVESTMENTS', 'MEMSTER  ENTERPRISE',\n",
              "       'THE LIQUOR TAP WINES AND SPIRITS -KCB', '2NK SACCO MAIN',\n",
              "       'ELERMO ENTERPRISES', 'ROLINNE INVESTMENTS COMPANY LIMITED -KCB',\n",
              "       'VASILIKA ENTERPRISE -KCB', 'JOSEVU ENTERPRISES',\n",
              "       'LIPANOW LIMITED VIA STANBIC',\n",
              "       'TEAM INVESTMENT CONCEPT LIMITED- ROASTED TRUTH RIVERSIDE',\n",
              "       'JOWAC SPORTS CLUB VIA COOP BANK',\n",
              "       'STEPH THE CHEF LIMITED VIA IM BANK', 'BONIE ENTERPRISES',\n",
              "       'BRIHEN INVESTMENTS - JIBU LOWER KABETE',\n",
              "       'OLEJOKEZI HARDWAREVIA COOP BANK',\n",
              "       'FINEST HARDWARE VIA CO-OP BANK',\n",
              "       'METROPOL CREDIT REFERENCE BUREAU LTD',\n",
              "       'PG BISON KENYA LIMITED VIA CITI BANK',\n",
              "       'ZIMELE UNIT TRUST - FIXED INCOME FUND', 'LIPPET ENTERPRISES',\n",
              "       'PRIMAC INVESTMENTS',\n",
              "       'TEAM INVESTMENT CONCEPT LIMITED - ROASTED TRUTH LOWER KABETE',\n",
              "       'NAIROBI CITY COUNTY NATIONAL BANK REVENUE ACCOUNT',\n",
              "       'JEBTA ENTERPRISES', 'KAGGIAH HOLDINGS LTD',\n",
              "       'QWETU BASE INVESTMENT LIMITED', 'QWETU BASE INVESTMENT LIMITED 2',\n",
              "       'TEAM INVESTMENT -ROASTED TRUTH LAVINGTON',\n",
              "       'SAJ ENTERPRISES - HEAD OFFICE',\n",
              "       'KRA - NAIROBI COUNTY REVENUE  PK-ON-AB4DA63',\n",
              "       'US VISA SERVICE VIA CITI BANK', 'TUNGULE INVESTMENT CO',\n",
              "       'AQUADELIGHT INVESTMENTS LIMITED',\n",
              "       'AL-MADINA HARDWARE VIA KCB  LUCIA',\n",
              "       'KIOKO ENTERPRISES KILIFI RETAIL SHOP',\n",
              "       'ZAKIM INSURANCE AGENCY  KDB', 'HARRIET WANGUI NDERITU -KCB',\n",
              "       'PLAYTONS ENTERPRISES', 'ALUME HUWO ENTERPRISES MALINDI',\n",
              "       'TAITA ROCKS HOTEL VIA KCB', 'MWAKIKI INVESTMENT LTD',\n",
              "       'CRAB SHACK RESTAURANT VIA KCB', 'SAHEIM ENTERPRISES',\n",
              "       'GARIDON ENTERPRISE -KCB', 'SAVING HOME LIMITED',\n",
              "       'RAFLAN ENTERPRISES', 'PROSPEROUS ENTERPRISE',\n",
              "       'RAMADHAN KHAMISI NGIGA -KCB',\n",
              "       'CHANGAMKA AFRIKA INVESTMENTS LIMITED1',\n",
              "       'WIMBELDON ENTERPRISES LTD', 'HA MWALIMU SHOP VIA COOP BANK',\n",
              "       '2NK SACCO MAIN 1', 'WALKOM ENTERPRISES',\n",
              "       'SIA QSR KENYA LIMITED A  TWO RIVERS COLLECTION VIA STANBIC',\n",
              "       'MISKY INVESTMENT LIMITED', 'NAIVAS CAPITAL CENTER',\n",
              "       'KAMP INSURANCE AGENCY LTD  OFFICE INSURANCE',\n",
              "       'KAMP INSURANCE AGENCY LTD  KCQ', 'GOGOL INVESTMENTS LIMITED',\n",
              "       'THE PILL BOX LTD -KCB', \"BLACKY'S LOUNGE LIMITED VIA KCB\",\n",
              "       'GOLF MIKE ENTERPRISE  VAL', 'NAIROBI JAVA HOUSE CAPITAL CENTER',\n",
              "       'CHANCERY ENTERPRISES VENTURERS', 'FOODBERG INVESTMENT',\n",
              "       'CRAVING YELLOW LTD VIA IM BANK', 'NON SOLO GELATO VIA KCB',\n",
              "       'SHANGWE AFRICA ENTERPRISES', 'ATANA OAKTREE BRANDS LIMITED -KCB',\n",
              "       'NAIROBI CITY COUNTY NATIONAL BANK REVENUE ACCOUNT  PKN KCV',\n",
              "       'ITCARE LIMITED VIA KCB  ITCARE', 'ZENKA FINANCE LIMITED C2B',\n",
              "       'HITAJ CAPITAL KENYA LTD  MOKASH',\n",
              "       'KRA - NAIROBI COUNTY REVENUE  PK-ON-C8DAB72',\n",
              "       'SALESIANS OF DON BOSCO HOUSE VIA EQUITY BANK',\n",
              "       'FAIRO HAIRBEAUTY PARLOUR VIA COOP BANK',\n",
              "       'PAY LOAN INVESTMENT LTD  J3CI', 'EXELUS INVESTMENTS LIMITED',\n",
              "       'TOP GRADE MEATRY2 -KCB', 'CALMOST COMMERCIAL ENTERPRISE LTD',\n",
              "       'BROADNETT INVESTMENT B', 'CRISPY BITES VIA STANBIC  CRISPY',\n",
              "       'COCO JAMBO ENTERPRISE 1', 'FOREFRONT ENTERPRISES',\n",
              "       'MADISON INSURANCE COMPANY VIA NCBA 1',\n",
              "       'NCBA BANK LTD CORPORATE  K3C',\n",
              "       'JUBILEE GENERAL INSURANCE LIMITED - PREMIUM ACCOUNT  KDA',\n",
              "       'KRA - NAIROBI COUNTY REVENUE  PK-ON-D1FCB1CD',\n",
              "       'PAY LOAN INVESTMENT LTD  CASHNOW',\n",
              "       'PAY LOAN INVESTMENT LTD  M1CE',\n",
              "       'KRA - NAIROBI COUNTY REVENUE  PK-ON-FE1A0AB5',\n",
              "       'PROGRESSIVE CREDIT LTD', 'PROGRESSIVE CREDIT LIMITED',\n",
              "       'PAUL CHEGE MAINGI VIA COOP BANK',\n",
              "       'NAIROBI CITY COUNTY NATIONAL BANK REVENUE ACCOUNT  SUNKEN',\n",
              "       'BARAKA RESCUE HOTEL VIA COOP BANK',\n",
              "       'SKYDRINK WINES AND SPIRITS VIA COOP BANK',\n",
              "       'VALLEY SPRINGS ENTERPRISES LTD',\n",
              "       'SHEREHEZ WINES SPIRITSORONGAI VIA COOP BANK',\n",
              "       'ROSE BOUTIQUE VIA FAMILY BANK', 'GALITOS CAPITAL CENTRE',\n",
              "       'NALLA EMPIRE ENTERPRISES',\n",
              "       'TERESIA MWANGI - HI-STYLE LADIES COLLECTION - CO-OP',\n",
              "       'KINGS OIL INVESTMENTS LIMITED', 'M-KOPA KENYA LTD',\n",
              "       'NAHASHONA MWANGIA KAHEMBE - KCB', 'REJO ENTERPRISES',\n",
              "       'KAMEGO ENTERPRISES LIMITED', 'GENJU ENTERPRISES',\n",
              "       'BRIMAKS TECHNOLOGYS VIA COOP BANK',\n",
              "       'KENNEDY OTIENO OKOTH VIA KCB', 'CO-OPERATIVE BANK MONEY TRANSFER',\n",
              "       'SIA QSR KENYA LIMITED A  NEXTGEN COLLECTION VIA STANBIC',\n",
              "       'THE WHISKY FARM INVESTMENT LIMITED',\n",
              "       'LILY WHITE PRODUCTS ENTERPRISES LIMITED', 'INCOTEC INVESTMENTS',\n",
              "       'ALOE VANILLA ENTERPRISES', 'CHACAMBA INVESTMENTS',\n",
              "       'JAYCROFT INVESTMENTS', 'DYNA STAR ENTERPRISESVIA COOP BANK',\n",
              "       \"JESSE KAY CHILDREN'S HOSPITAL VIA NCBA\", 'CITY TRENDS INVESTMENT',\n",
              "       'JAIMAKI ENTERPRISES', 'JOYMART SUPERMARKET VIA KCB',\n",
              "       'KIBANGABOOKS ENTERPRISES - CO-OP',\n",
              "       'ESTIMMAS INVESTMENTS - HURLIGHAM TOTALSS 3',\n",
              "       'MENELIK PLACE VIA COOP BANK', 'CLEMENT KARANJA ENTERPRISES',\n",
              "       'LA MIGUELA HOLDINGS', 'STEPMA ENTERPRISES',\n",
              "       'SAMSON NDUNGU VIA GT BANK',\n",
              "       'ENKASARA RESORT LIMITED VIA CO-OP BANK',\n",
              "       'TIIKAYA PROPERTY HOLDINGS LIMITED', 'LA VARANDA LOUNGE VIA COOP',\n",
              "       'YOUR M-SHWARI', 'HENRY MUNENE NJERU - CO-OP',\n",
              "       'MOCHA HOTEL LIMITED VIA KCB  MOCHA', 'THUNDERDOME BBQ LTD -KCB',\n",
              "       'GEORGE KARANJA GICHUHI VIA COOP BANK', 'MARITOZZ ENTERPRISE',\n",
              "       'KIOKO ENTERPRISES',\n",
              "       'READY AND FRESH CAFFE AND JUICE SHOP LTD - CO-OP',\n",
              "       'LYNK JOBS LIMITED  SARAHLOAN', 'ROIMEN INVESTMENT LTD  S1',\n",
              "       'JAKES FRY VIA NCBA', 'FASTECH CABLE ENTERPRISES',\n",
              "       'SOLUTION SACCO LIMITED', 'MASS MARKET BANKERS', 'ELIS ENTERPRISE',\n",
              "       'ROYPHARM CHEMISTVIA COOP BANK', 'KCB INSURANCE AGENCY LIMITED',\n",
              "       'QEEBA INVESTMENTS -KCB', 'LEGGIEWISE ENTERPRISE',\n",
              "       'THE HOOD ENTERPRISES',\n",
              "       'KCB SPORTS CLUB -RUARAKA  KCB SPORTS CLUB',\n",
              "       'CHPTER HOLDINGS LIMITED  ZOLA AFRICANNA',\n",
              "       'MH INVESTMENT AND DEVELOPMENT COMPANY LTD VIA CO-OP BANK',\n",
              "       'GEORGE MAINA KARIUKI VIA CO-OP'], dtype=object)"
            ]
          },
          "metadata": {},
          "execution_count": 454
        }
      ],
      "source": [
        "finance_related.MERCHANT_NAME.unique()"
      ]
    },
    {
      "cell_type": "markdown",
      "metadata": {
        "id": "YwLYo1QGk3zZ"
      },
      "source": [
        "### Mode of Payment \n",
        "* the likes of paybills, paypal, pesa pap,direct pay, crypto and more"
      ]
    },
    {
      "cell_type": "code",
      "execution_count": 455,
      "metadata": {
        "id": "jWiVHT26k3zZ",
        "outputId": "389ce08a-1fae-48d2-ed38-ea707e51a553",
        "colab": {
          "base_uri": "https://localhost:8080/"
        }
      },
      "outputs": [
        {
          "output_type": "execute_result",
          "data": {
            "text/plain": [
              "(337, 19)"
            ]
          },
          "metadata": {},
          "execution_count": 455
        }
      ],
      "source": [
        "payment_related = all_data.loc[all_data['MERCHANT_NAME'].str.contains(\"crypto|bitcoin|paybill|pesa|ipay|paytech\", case=False)]\n",
        "payment_related.shape"
      ]
    },
    {
      "cell_type": "code",
      "execution_count": 456,
      "metadata": {
        "id": "CCdYnbvIk3zZ",
        "outputId": "30045f7c-0e1a-43e2-e638-c7a5eba3f95c",
        "colab": {
          "base_uri": "https://localhost:8080/"
        }
      },
      "outputs": [
        {
          "output_type": "execute_result",
          "data": {
            "text/plain": [
              "40"
            ]
          },
          "metadata": {},
          "execution_count": 456
        }
      ],
      "source": [
        "payment_related.MERCHANT_NAME.nunique()"
      ]
    },
    {
      "cell_type": "code",
      "execution_count": 457,
      "metadata": {
        "id": "6PFpgm06k3za",
        "outputId": "fa591b34-a3fe-4673-bc7f-0d3b309ad086",
        "colab": {
          "base_uri": "https://localhost:8080/"
        }
      },
      "outputs": [
        {
          "output_type": "execute_result",
          "data": {
            "text/plain": [
              "Bills & Fees        6\n",
              "Groceries           2\n",
              "Shopping            2\n",
              "Data & WiFi         2\n",
              "Emergency fund      2\n",
              "Transport & Fuel    2\n",
              "Going out           1\n",
              "Family & Friends    1\n",
              "Name: MERCHANT_CATEGORIZED_AS, dtype: int64"
            ]
          },
          "metadata": {},
          "execution_count": 457
        }
      ],
      "source": [
        "\n",
        "payment_related.MERCHANT_CATEGORIZED_AS.value_counts()"
      ]
    },
    {
      "cell_type": "code",
      "execution_count": 458,
      "metadata": {
        "id": "h1lm411yk3za",
        "outputId": "1323aceb-cbea-4110-d5f4-9f639abddfa7",
        "colab": {
          "base_uri": "https://localhost:8080/"
        }
      },
      "outputs": [
        {
          "output_type": "execute_result",
          "data": {
            "text/plain": [
              "array(['KCB PAYBILL AC', 'EQUITY PAYBILL ACCOUNT', 'IPAY LTD', 'PESAPAL',\n",
              "       'PESAPAL  FOR', 'PAYTECH -THE JUNCTION MALL', 'PAYTECH LIMITED',\n",
              "       'EQUITY PAYBILL', 'FAMILY BANK PESA PAP', 'KCB PAYBILL', 'PAYTECH',\n",
              "       'YOUR M-PESA ACCOUNT', 'PESAPAL SABI', 'M-PESA',\n",
              "       'PAYTECH A  THE HUB KAREN', 'PESAPAL LIMITED', 'PESAPAL ON',\n",
              "       'PESAPAL 9', 'PAYTECH -SARIT CENTER', 'PAYTECH WETSGATE',\n",
              "       'PESAPAL   ON', 'PESAPAL II',\n",
              "       'BIASHARA PAYBILL VIA FAMILY BANK  TERKI',\n",
              "       'BIASHARA PAYBILL VIA FAMILY BANK  MANIA',\n",
              "       'PARKLANDS SPORTS CLUB PAYBILL  N95',\n",
              "       'PARKLANDS SPORTS CLUB PAYBILL  N94',\n",
              "       'PARKLANDS SPORTS CLUB PAYBILL  R27',\n",
              "       'PARKLANDS SPORTS CLUB PAYBILL', 'IPAY LTD  WEST',\n",
              "       'PAYTECH -THE JUNCTION MALL  KDA', 'BAYES COLLECTIONS PAYBILL',\n",
              "       'IPAY LTD  RAFU', 'PESAPAL  2',\n",
              "       'JUDICIARY PAYBILL VIA KCB  EZER6PLK',\n",
              "       'JUDICIARY PAYBILL VIA KCB  EZFBM6AK',\n",
              "       'JUDICIARY PAYBILL VIA KCB  EZCYR4GJ', 'SPORTPESA  SPORTPESA',\n",
              "       'SPORTPESA', 'CHESS MPESA AND GEN SHOP', 'WARIDI SHOP AND MPESA'],\n",
              "      dtype=object)"
            ]
          },
          "metadata": {},
          "execution_count": 458
        }
      ],
      "source": [
        "payment_related.MERCHANT_NAME.unique()"
      ]
    },
    {
      "cell_type": "code",
      "execution_count": 459,
      "metadata": {
        "id": "Ac6omiLnk3zb"
      },
      "outputs": [],
      "source": [
        "payment_related = payment_related[payment_related[\"MERCHANT_NAME\"].str.contains(\"mpesa|m-pesa\", case=False) == False]"
      ]
    },
    {
      "cell_type": "code",
      "execution_count": 460,
      "metadata": {
        "id": "JPEwyzoek3zb",
        "outputId": "56e12c86-cb94-400f-db6b-f1f6ecc10f58",
        "colab": {
          "base_uri": "https://localhost:8080/"
        }
      },
      "outputs": [
        {
          "output_type": "execute_result",
          "data": {
            "text/plain": [
              "array(['KCB PAYBILL AC', 'EQUITY PAYBILL ACCOUNT', 'IPAY LTD', 'PESAPAL',\n",
              "       'PESAPAL  FOR', 'PAYTECH -THE JUNCTION MALL', 'PAYTECH LIMITED',\n",
              "       'EQUITY PAYBILL', 'FAMILY BANK PESA PAP', 'KCB PAYBILL', 'PAYTECH',\n",
              "       'PESAPAL SABI', 'PAYTECH A  THE HUB KAREN', 'PESAPAL LIMITED',\n",
              "       'PESAPAL ON', 'PESAPAL 9', 'PAYTECH -SARIT CENTER',\n",
              "       'PAYTECH WETSGATE', 'PESAPAL   ON', 'PESAPAL II',\n",
              "       'BIASHARA PAYBILL VIA FAMILY BANK  TERKI',\n",
              "       'BIASHARA PAYBILL VIA FAMILY BANK  MANIA',\n",
              "       'PARKLANDS SPORTS CLUB PAYBILL  N95',\n",
              "       'PARKLANDS SPORTS CLUB PAYBILL  N94',\n",
              "       'PARKLANDS SPORTS CLUB PAYBILL  R27',\n",
              "       'PARKLANDS SPORTS CLUB PAYBILL', 'IPAY LTD  WEST',\n",
              "       'PAYTECH -THE JUNCTION MALL  KDA', 'BAYES COLLECTIONS PAYBILL',\n",
              "       'IPAY LTD  RAFU', 'PESAPAL  2',\n",
              "       'JUDICIARY PAYBILL VIA KCB  EZER6PLK',\n",
              "       'JUDICIARY PAYBILL VIA KCB  EZFBM6AK',\n",
              "       'JUDICIARY PAYBILL VIA KCB  EZCYR4GJ', 'SPORTPESA  SPORTPESA',\n",
              "       'SPORTPESA'], dtype=object)"
            ]
          },
          "metadata": {},
          "execution_count": 460
        }
      ],
      "source": [
        "payment_related.MERCHANT_NAME.unique()"
      ]
    },
    {
      "cell_type": "markdown",
      "metadata": {
        "id": "5dTxHuVjk3zo"
      },
      "source": [
        "## Bills related "
      ]
    },
    {
      "cell_type": "code",
      "execution_count": 461,
      "metadata": {
        "id": "McF1b2JTk3zo",
        "outputId": "c8a4e732-1ae7-45d0-f5ea-1881df6c1d7c",
        "colab": {
          "base_uri": "https://localhost:8080/"
        }
      },
      "outputs": [
        {
          "output_type": "execute_result",
          "data": {
            "text/plain": [
              "(103, 19)"
            ]
          },
          "metadata": {},
          "execution_count": 461
        }
      ],
      "source": [
        "bills_related = all_data.loc[all_data['MERCHANT_NAME'].str.contains(\"rent|apartment|water|kplc|trash|bins\", case=False)]\n",
        "bills_related.shape"
      ]
    },
    {
      "cell_type": "code",
      "execution_count": 462,
      "metadata": {
        "id": "RwklzoDAk3zo",
        "outputId": "c183a3a6-c6cf-4918-9781-153f49777b71",
        "colab": {
          "base_uri": "https://localhost:8080/"
        }
      },
      "outputs": [
        {
          "output_type": "stream",
          "name": "stdout",
          "text": [
            "20\n",
            "Bills & Fees    10\n",
            "Name: MERCHANT_CATEGORIZED_AS, dtype: int64\n",
            "['THREE BINS SERVICES' 'KPLC PREPAID' 'NAIROBI WATER  SEWERAGE CO LTD'\n",
            " 'TRASH MANAGER LIMITED' 'ALMA APARTMENTS MANAGEMENT CO LTD'\n",
            " 'NAIVAS WATERFRONT' 'KPLC  FOR' 'NAIVAS WATERFRONT KAREN'\n",
            " 'GOODLIFE PHARMACY WATERFRONT MALL'\n",
            " 'THE GRACEFUL CHINESE RESTAURANT WATERFRONT'\n",
            " 'YILMAZ CO LTD - FANCYBOXY KAREN WATERFRONT' 'WATERHOLE SNACK BAR  MK'\n",
            " 'KPLC' 'IVORY WATER TECHNO SOLUTION  MIKE' 'NATURAL CHILL WATERS'\n",
            " 'SWEET WATERS PUB' 'PUREBEST WATER' 'RUAKA PURIFIED WATER LIMITED'\n",
            " 'GATARAGWA WATER PROJECT' 'MOBIFIN PLUS RENT COLLECTION  NHA 0']\n"
          ]
        }
      ],
      "source": [
        "print(bills_related.MERCHANT_NAME.nunique())\n",
        "print(bills_related.MERCHANT_CATEGORIZED_AS.value_counts())\n",
        "print(bills_related.MERCHANT_NAME.unique())"
      ]
    },
    {
      "cell_type": "code",
      "execution_count": 463,
      "metadata": {
        "id": "Q7O8XQMSk3zp"
      },
      "outputs": [],
      "source": [
        "bills_related = bills_related[bills_related[\"MERCHANT_NAME\"].str.contains(\"bar|front|pub\", case=False) == False]"
      ]
    },
    {
      "cell_type": "code",
      "execution_count": 464,
      "metadata": {
        "id": "519V91S7k3zq",
        "outputId": "57d1e60f-ee8a-4165-ebf8-0bdc911c522d",
        "colab": {
          "base_uri": "https://localhost:8080/"
        }
      },
      "outputs": [
        {
          "output_type": "stream",
          "name": "stdout",
          "text": [
            "13\n",
            "Bills & Fees    10\n",
            "Name: MERCHANT_CATEGORIZED_AS, dtype: int64\n",
            "['THREE BINS SERVICES' 'KPLC PREPAID' 'NAIROBI WATER  SEWERAGE CO LTD'\n",
            " 'TRASH MANAGER LIMITED' 'ALMA APARTMENTS MANAGEMENT CO LTD' 'KPLC  FOR'\n",
            " 'KPLC' 'IVORY WATER TECHNO SOLUTION  MIKE' 'NATURAL CHILL WATERS'\n",
            " 'PUREBEST WATER' 'RUAKA PURIFIED WATER LIMITED' 'GATARAGWA WATER PROJECT'\n",
            " 'MOBIFIN PLUS RENT COLLECTION  NHA 0']\n"
          ]
        }
      ],
      "source": [
        "print(bills_related.MERCHANT_NAME.nunique())\n",
        "print(bills_related.MERCHANT_CATEGORIZED_AS.value_counts())\n",
        "print(bills_related.MERCHANT_NAME.unique())"
      ]
    },
    {
      "cell_type": "markdown",
      "metadata": {
        "id": "JO_9AXN7k3zq"
      },
      "source": [
        "## Others\n",
        "* These includes things like tithes and offerings, and church development fees, ecitizen, county goverment payments and more\n"
      ]
    },
    {
      "cell_type": "code",
      "execution_count": 465,
      "metadata": {
        "id": "Sg37gSDdk3zq",
        "outputId": "179107ac-abf1-436c-f54c-a2fda17ca771",
        "colab": {
          "base_uri": "https://localhost:8080/"
        }
      },
      "outputs": [
        {
          "output_type": "execute_result",
          "data": {
            "text/plain": [
              "(184, 19)"
            ]
          },
          "metadata": {},
          "execution_count": 465
        }
      ],
      "source": [
        "others_related = all_data.loc[all_data['MERCHANT_NAME'].str.contains(\"church|offerin|tithe|kanisa|sadaka|fungu|county|citizen|kra|association|sportpesa\", case=False)]\n",
        "others_related.shape\n"
      ]
    },
    {
      "cell_type": "code",
      "execution_count": 466,
      "metadata": {
        "id": "I69ELEDJk3zq",
        "outputId": "e03591b4-6428-4bb5-c9cb-9e0fad65dacf",
        "colab": {
          "base_uri": "https://localhost:8080/"
        }
      },
      "outputs": [
        {
          "output_type": "execute_result",
          "data": {
            "text/plain": [
              "78"
            ]
          },
          "metadata": {},
          "execution_count": 466
        }
      ],
      "source": [
        "others_related.MERCHANT_NAME.nunique()\n"
      ]
    },
    {
      "cell_type": "code",
      "execution_count": 467,
      "metadata": {
        "id": "xw6KAx7xk3zq",
        "outputId": "8932d01a-d4c3-46f9-c186-c9677286c8b0",
        "colab": {
          "base_uri": "https://localhost:8080/"
        }
      },
      "outputs": [
        {
          "output_type": "execute_result",
          "data": {
            "text/plain": [
              "Miscellaneous       2\n",
              "Rent / Mortgage     1\n",
              "Transport & Fuel    1\n",
              "Bills & Fees        1\n",
              "Name: MERCHANT_CATEGORIZED_AS, dtype: int64"
            ]
          },
          "metadata": {},
          "execution_count": 467
        }
      ],
      "source": [
        "others_related.MERCHANT_CATEGORIZED_AS.value_counts()\n"
      ]
    },
    {
      "cell_type": "code",
      "execution_count": 468,
      "metadata": {
        "id": "1Cl8eQT7k3zr",
        "outputId": "e8f8314b-d885-465d-a735-931741b76624",
        "colab": {
          "base_uri": "https://localhost:8080/",
          "height": 197
        }
      },
      "outputs": [
        {
          "output_type": "execute_result",
          "data": {
            "text/plain": [
              "         MERCHANT_CATEGORIZED_AT                      MERCHANT_NAME  \\\n",
              "0  2022-05-04 10:25:50.588042+00  UONSDA CHURCH  MOGERE MWAYO TITHE   \n",
              "\n",
              "  MERCHANT_CATEGORIZED_AS  PURCHASE_VALUE            PURCHASED_AT  \\\n",
              "0         Rent / Mortgage            1700  2022-05-04 13:56:00+00   \n",
              "\n",
              "  IS_PURCHASE_PAID_VIA_MPESA_SEND_MONEY USER_GENDER  USER_HOUSEHOLD  \\\n",
              "0                                 False        Male               3   \n",
              "\n",
              "   USER_INCOME      USER_ID Transaction_ID  price_range  income_range  \\\n",
              "0        10000  ID_ZX4DCF4K    ID_04mk78fa            3             3   \n",
              "\n",
              "   prod_PURCHASE_INCOME  count_PURCHASE_VALUE  count_USER_INCOME  \\\n",
              "0                  0.17                   4.0              188.0   \n",
              "\n",
              "   count_USER_HOUSEHOLD  count_MERCHANT_NAME   ind  \n",
              "0                 240.0                  1.0  data  "
            ],
            "text/html": [
              "\n",
              "  <div id=\"df-086a8a5c-8842-476f-89fd-0f5b15c9eff6\">\n",
              "    <div class=\"colab-df-container\">\n",
              "      <div>\n",
              "<style scoped>\n",
              "    .dataframe tbody tr th:only-of-type {\n",
              "        vertical-align: middle;\n",
              "    }\n",
              "\n",
              "    .dataframe tbody tr th {\n",
              "        vertical-align: top;\n",
              "    }\n",
              "\n",
              "    .dataframe thead th {\n",
              "        text-align: right;\n",
              "    }\n",
              "</style>\n",
              "<table border=\"1\" class=\"dataframe\">\n",
              "  <thead>\n",
              "    <tr style=\"text-align: right;\">\n",
              "      <th></th>\n",
              "      <th>MERCHANT_CATEGORIZED_AT</th>\n",
              "      <th>MERCHANT_NAME</th>\n",
              "      <th>MERCHANT_CATEGORIZED_AS</th>\n",
              "      <th>PURCHASE_VALUE</th>\n",
              "      <th>PURCHASED_AT</th>\n",
              "      <th>IS_PURCHASE_PAID_VIA_MPESA_SEND_MONEY</th>\n",
              "      <th>USER_GENDER</th>\n",
              "      <th>USER_HOUSEHOLD</th>\n",
              "      <th>USER_INCOME</th>\n",
              "      <th>USER_ID</th>\n",
              "      <th>Transaction_ID</th>\n",
              "      <th>price_range</th>\n",
              "      <th>income_range</th>\n",
              "      <th>prod_PURCHASE_INCOME</th>\n",
              "      <th>count_PURCHASE_VALUE</th>\n",
              "      <th>count_USER_INCOME</th>\n",
              "      <th>count_USER_HOUSEHOLD</th>\n",
              "      <th>count_MERCHANT_NAME</th>\n",
              "      <th>ind</th>\n",
              "    </tr>\n",
              "  </thead>\n",
              "  <tbody>\n",
              "    <tr>\n",
              "      <th>0</th>\n",
              "      <td>2022-05-04 10:25:50.588042+00</td>\n",
              "      <td>UONSDA CHURCH  MOGERE MWAYO TITHE</td>\n",
              "      <td>Rent / Mortgage</td>\n",
              "      <td>1700</td>\n",
              "      <td>2022-05-04 13:56:00+00</td>\n",
              "      <td>False</td>\n",
              "      <td>Male</td>\n",
              "      <td>3</td>\n",
              "      <td>10000</td>\n",
              "      <td>ID_ZX4DCF4K</td>\n",
              "      <td>ID_04mk78fa</td>\n",
              "      <td>3</td>\n",
              "      <td>3</td>\n",
              "      <td>0.17</td>\n",
              "      <td>4.0</td>\n",
              "      <td>188.0</td>\n",
              "      <td>240.0</td>\n",
              "      <td>1.0</td>\n",
              "      <td>data</td>\n",
              "    </tr>\n",
              "  </tbody>\n",
              "</table>\n",
              "</div>\n",
              "      <button class=\"colab-df-convert\" onclick=\"convertToInteractive('df-086a8a5c-8842-476f-89fd-0f5b15c9eff6')\"\n",
              "              title=\"Convert this dataframe to an interactive table.\"\n",
              "              style=\"display:none;\">\n",
              "        \n",
              "  <svg xmlns=\"http://www.w3.org/2000/svg\" height=\"24px\"viewBox=\"0 0 24 24\"\n",
              "       width=\"24px\">\n",
              "    <path d=\"M0 0h24v24H0V0z\" fill=\"none\"/>\n",
              "    <path d=\"M18.56 5.44l.94 2.06.94-2.06 2.06-.94-2.06-.94-.94-2.06-.94 2.06-2.06.94zm-11 1L8.5 8.5l.94-2.06 2.06-.94-2.06-.94L8.5 2.5l-.94 2.06-2.06.94zm10 10l.94 2.06.94-2.06 2.06-.94-2.06-.94-.94-2.06-.94 2.06-2.06.94z\"/><path d=\"M17.41 7.96l-1.37-1.37c-.4-.4-.92-.59-1.43-.59-.52 0-1.04.2-1.43.59L10.3 9.45l-7.72 7.72c-.78.78-.78 2.05 0 2.83L4 21.41c.39.39.9.59 1.41.59.51 0 1.02-.2 1.41-.59l7.78-7.78 2.81-2.81c.8-.78.8-2.07 0-2.86zM5.41 20L4 18.59l7.72-7.72 1.47 1.35L5.41 20z\"/>\n",
              "  </svg>\n",
              "      </button>\n",
              "      \n",
              "  <style>\n",
              "    .colab-df-container {\n",
              "      display:flex;\n",
              "      flex-wrap:wrap;\n",
              "      gap: 12px;\n",
              "    }\n",
              "\n",
              "    .colab-df-convert {\n",
              "      background-color: #E8F0FE;\n",
              "      border: none;\n",
              "      border-radius: 50%;\n",
              "      cursor: pointer;\n",
              "      display: none;\n",
              "      fill: #1967D2;\n",
              "      height: 32px;\n",
              "      padding: 0 0 0 0;\n",
              "      width: 32px;\n",
              "    }\n",
              "\n",
              "    .colab-df-convert:hover {\n",
              "      background-color: #E2EBFA;\n",
              "      box-shadow: 0px 1px 2px rgba(60, 64, 67, 0.3), 0px 1px 3px 1px rgba(60, 64, 67, 0.15);\n",
              "      fill: #174EA6;\n",
              "    }\n",
              "\n",
              "    [theme=dark] .colab-df-convert {\n",
              "      background-color: #3B4455;\n",
              "      fill: #D2E3FC;\n",
              "    }\n",
              "\n",
              "    [theme=dark] .colab-df-convert:hover {\n",
              "      background-color: #434B5C;\n",
              "      box-shadow: 0px 1px 3px 1px rgba(0, 0, 0, 0.15);\n",
              "      filter: drop-shadow(0px 1px 2px rgba(0, 0, 0, 0.3));\n",
              "      fill: #FFFFFF;\n",
              "    }\n",
              "  </style>\n",
              "\n",
              "      <script>\n",
              "        const buttonEl =\n",
              "          document.querySelector('#df-086a8a5c-8842-476f-89fd-0f5b15c9eff6 button.colab-df-convert');\n",
              "        buttonEl.style.display =\n",
              "          google.colab.kernel.accessAllowed ? 'block' : 'none';\n",
              "\n",
              "        async function convertToInteractive(key) {\n",
              "          const element = document.querySelector('#df-086a8a5c-8842-476f-89fd-0f5b15c9eff6');\n",
              "          const dataTable =\n",
              "            await google.colab.kernel.invokeFunction('convertToInteractive',\n",
              "                                                     [key], {});\n",
              "          if (!dataTable) return;\n",
              "\n",
              "          const docLinkHtml = 'Like what you see? Visit the ' +\n",
              "            '<a target=\"_blank\" href=https://colab.research.google.com/notebooks/data_table.ipynb>data table notebook</a>'\n",
              "            + ' to learn more about interactive tables.';\n",
              "          element.innerHTML = '';\n",
              "          dataTable['output_type'] = 'display_data';\n",
              "          await google.colab.output.renderOutput(dataTable, element);\n",
              "          const docLink = document.createElement('div');\n",
              "          docLink.innerHTML = docLinkHtml;\n",
              "          element.appendChild(docLink);\n",
              "        }\n",
              "      </script>\n",
              "    </div>\n",
              "  </div>\n",
              "  "
            ]
          },
          "metadata": {},
          "execution_count": 468
        }
      ],
      "source": [
        "others_related[others_related['MERCHANT_CATEGORIZED_AS'] == 'Rent / Mortgage']\n"
      ]
    },
    {
      "cell_type": "markdown",
      "metadata": {
        "id": "Ydi8JgZGk3zr"
      },
      "source": [
        "#### How can a tithe be categorized as rent/mortgage most definitely an outlier"
      ]
    },
    {
      "cell_type": "code",
      "execution_count": 469,
      "metadata": {
        "id": "0AH9clNuk3zs"
      },
      "outputs": [],
      "source": [
        "others_related = others_related[others_related[\"MERCHANT_NAME\"].str.contains(\"auto|level\", case=False) == False]"
      ]
    },
    {
      "cell_type": "code",
      "execution_count": 470,
      "metadata": {
        "id": "y7IcI3Hak3zs",
        "outputId": "49e3c247-b32f-4071-f284-8e170c751ee6",
        "colab": {
          "base_uri": "https://localhost:8080/"
        }
      },
      "outputs": [
        {
          "output_type": "execute_result",
          "data": {
            "text/plain": [
              "array(['UONSDA CHURCH  MOGERE MWAYO TITHE',\n",
              "       'CITAM KITENGELA   OFFERING  ON', 'MBCI   OFFERING  ON',\n",
              "       'KRA - NAIROBI COUNTY REVENUE',\n",
              "       'KILELESHWA WARD NEIGHBORHOOD ASSOCIATION  KIWANA',\n",
              "       'UONSDA CHURCH  OFFERING-MAIN', 'CITAM KAREN   TITHE  ON',\n",
              "       'UONSDA CHURCH  TITHE-MAIN', 'THE NGONG ROAD FOREST ASSOCIATION1',\n",
              "       'KRA', 'THE PURPOSE CENTRE CHURCH A  RUACH RIVERS',\n",
              "       'ECITIZEN  FOR', 'CITAM KAREN  OFFERING',\n",
              "       'CITAM KITENGELA   TITHE  ON', 'CITAM KAREN  TITHE',\n",
              "       'ASSOCIATION OF', 'ECITIZEN  VAWQGBE ON', 'ECITIZEN  APZKQVL ON',\n",
              "       'ECITIZEN  UVPXCEN ON', 'ECITIZEN  ECAIKQH ON',\n",
              "       'ECITIZEN  YWUKGLH ON', 'ECITIZEN  QRMYAEZ ON',\n",
              "       'ECITIZEN  ITOUNYE', 'KIAMBU COUNTY GOVERNMENT',\n",
              "       'ECITIZEN  SQHTKWE',\n",
              "       'NAIROBI CITY COUNTY NATIONAL BANK REVENUE ACCOUNT',\n",
              "       'ECITIZEN  GZWLTPD', 'KRA - NAIROBI COUNTY REVENUE  PK-ON-AB4DA63',\n",
              "       'ECITIZEN  VWSHCPJ', 'ECITIZEN  XWLZUQF', 'ECITIZEN  AOUVSBF',\n",
              "       'ECITIZEN  STYIZHJ', 'UONSDA CHURCH  KNH LUNCH KITTY',\n",
              "       'UONSDA CHURCH  MOGERE MWAYO-TITHE',\n",
              "       'UONSDA CHURCH  MOGERE MWAYO-OFFERIN',\n",
              "       'UONSDA CHURCH  MOGERE- MAIN TITHE', 'UONSDA CHURCH  TITHE- MAIN',\n",
              "       'UONSDA CHURCH  MAIN TITHE', 'ECITIZEN  YTLVEJP',\n",
              "       'ECITIZEN  KXGLZJO', 'ECITIZEN  NQBDEGW', 'ECITIZEN  DCREFML',\n",
              "       'ECITIZEN  CRPAYLJ', 'ECITIZEN  GIXDHFZ', 'ECITIZEN  RLZFBIV',\n",
              "       'ECITIZEN  FZWQNKH', 'ECITIZEN  VFGIWEU', 'ECITIZEN  QNPZSME',\n",
              "       'ECITIZEN  XNSPEAD',\n",
              "       'NAIROBI CITY COUNTY NATIONAL BANK REVENUE ACCOUNT  PKN KCV',\n",
              "       'NEWLIFE SDA CHURCH  TMI', 'UONSDA CHURCH  MAIN LUNCH KITTY',\n",
              "       'UONSDA CHURCH  TUKULELUNCHMAIN', 'UONSDA CHURCH  MAIN-OFFERING',\n",
              "       'FIRST CHURCH OF CHRIST SCIENTIST NAIROBI',\n",
              "       'KRA - NAIROBI COUNTY REVENUE  PK-ON-C8DAB72', 'ECITIZEN  CYOSIQH',\n",
              "       'ECITIZEN  SBZNJHX', 'ECITIZEN  ZPINTEQ',\n",
              "       'KRA - NAIROBI COUNTY REVENUE  PK-ON-D1FCB1CD',\n",
              "       'KRA - NAIROBI COUNTY REVENUE  PK-ON-FE1A0AB5',\n",
              "       'KAHAWA SUKARI SDA CHURCH  TITHE OFFERING',\n",
              "       'NAIROBI CITY COUNTY NATIONAL BANK REVENUE ACCOUNT  SUNKEN',\n",
              "       'KARENGATA SDA CHURCH',\n",
              "       'NAIROBI COSMOPOLITAN CONFERENCE LIMITED  TITHE',\n",
              "       'SDA CHURCH LAVINGTON DEVELOPMENT  FOR DEVELOPMENT',\n",
              "       'SEVENTH DAY ADVENTIST CHURCH EAST AFRICA LIMITED  LMS',\n",
              "       'NAIROBI JAVA HOUSE KENYA MEDICAL ASSOCIATION',\n",
              "       'SEVENTH DAY ADVENTIST CHURCH NAIROBI EAST  THANKSGIVING',\n",
              "       'SPORTPESA  SPORTPESA', 'ECITIZEN  ISRUJKD', 'SPORTPESA',\n",
              "       'ECITIZEN  MGOFUCJ', 'ECITIZEN  YNGTQAI', 'ECITIZEN  TXREFDY',\n",
              "       'KENYA ASSOCIATION OF MANUFACTURERS  ERIKO AZUMA'], dtype=object)"
            ]
          },
          "metadata": {},
          "execution_count": 470
        }
      ],
      "source": [
        "others_related.MERCHANT_NAME.unique()"
      ]
    },
    {
      "cell_type": "markdown",
      "metadata": {
        "id": "n7V_qeSEk3zs"
      },
      "source": [
        "### Bringing it all together "
      ]
    },
    {
      "cell_type": "code",
      "execution_count": 471,
      "metadata": {
        "id": "eb-D0XZ6k3zs"
      },
      "outputs": [],
      "source": [
        "def merchant_clusters(x):\n",
        "    data= data_wifi.MERCHANT_NAME.unique()\n",
        "    health = health_related.MERCHANT_NAME.unique()\n",
        "    fuel = fuel_related.MERCHANT_NAME.unique()\n",
        "    hotel = hotel_related.MERCHANT_NAME.unique()\n",
        "    shopping = shopping_related.MERCHANT_NAME.unique()\n",
        "    school = school_related.MERCHANT_NAME.unique()\n",
        "    payment = payment_related.MERCHANT_NAME.unique()\n",
        "    finance = finance_related.MERCHANT_NAME.unique()\n",
        "    bills = bills_related.MERCHANT_NAME.unique()\n",
        "    others = others_related.MERCHANT_NAME.unique()\n",
        "    \n",
        "    \n",
        "    if x in data:\n",
        "        return 1\n",
        "    elif x in health:\n",
        "        return 2\n",
        "    elif x in fuel:\n",
        "        return 3\n",
        "    elif x in hotel:\n",
        "        return 4   \n",
        "    elif x in shopping:\n",
        "        return 5\n",
        "    if x in school:\n",
        "        return 6\n",
        "    elif x in finance:\n",
        "        return 8\n",
        "    elif x in payment:\n",
        "        return 7    \n",
        "    elif x in bills:\n",
        "        return 9\n",
        "    elif x in others:\n",
        "        return 10    \n",
        "\n",
        "    \n",
        "    \n",
        "\n",
        "all_data['MERCHANT_NAME_bins'] = all_data['MERCHANT_NAME'].apply(merchant_clusters)\n",
        "# extra['MERCHANT_NAME_bins'] = extra['MERCHANT_NAME'].apply(merchant_clusters)"
      ]
    },
    {
      "cell_type": "code",
      "execution_count": 472,
      "metadata": {
        "id": "M9GeqV6lk3zt",
        "outputId": "f690c547-5585-40d8-fcab-d609faf9f315",
        "colab": {
          "base_uri": "https://localhost:8080/"
        }
      },
      "outputs": [
        {
          "output_type": "execute_result",
          "data": {
            "text/plain": [
              "4131"
            ]
          },
          "metadata": {},
          "execution_count": 472
        }
      ],
      "source": [
        "all_data['MERCHANT_NAME_bins'].isnull().sum()"
      ]
    },
    {
      "cell_type": "markdown",
      "metadata": {
        "id": "1iV9bzzwk3zt"
      },
      "source": [
        "### Split the combined all_data dataset to data and extra"
      ]
    },
    {
      "cell_type": "code",
      "execution_count": 473,
      "metadata": {
        "id": "wQ0sB61Ok3zt",
        "outputId": "11f1aaef-a6c6-4ed3-a4a3-6237066fd77e",
        "colab": {
          "base_uri": "https://localhost:8080/"
        }
      },
      "outputs": [
        {
          "output_type": "execute_result",
          "data": {
            "text/plain": [
              "((931, 19), (10000, 11))"
            ]
          },
          "metadata": {},
          "execution_count": 473
        }
      ],
      "source": [
        "# Separate train and test data from the combined dataframe\n",
        "data, extra = all_data[all_data[\"ind\"].eq(\"data\")], all_data[all_data[\"ind\"].eq(\"extra\")]\n",
        "data = data.drop(columns = ['ind'])\n",
        "extra = extra.drop(columns = ['ind','MERCHANT_CATEGORIZED_AT','MERCHANT_CATEGORIZED_AS','IS_PURCHASE_PAID_VIA_MPESA_SEND_MONEY',\n",
        "                             'prod_PURCHASE_INCOME','count_PURCHASE_VALUE','count_USER_INCOME','count_USER_HOUSEHOLD','count_MERCHANT_NAME'])\n",
        "data.shape, extra.shape"
      ]
    },
    {
      "cell_type": "code",
      "execution_count": 474,
      "metadata": {
        "id": "3pycluLek3zu",
        "outputId": "d25eb802-c424-4d0d-e200-9b812262b232",
        "colab": {
          "base_uri": "https://localhost:8080/"
        }
      },
      "outputs": [
        {
          "output_type": "execute_result",
          "data": {
            "text/plain": [
              "MERCHANT_NAME            0\n",
              "PURCHASE_VALUE           0\n",
              "PURCHASED_AT             0\n",
              "USER_GENDER              0\n",
              "USER_HOUSEHOLD           0\n",
              "USER_INCOME              0\n",
              "USER_ID                  0\n",
              "Transaction_ID           0\n",
              "price_range              0\n",
              "income_range             0\n",
              "MERCHANT_NAME_bins    3653\n",
              "dtype: int64"
            ]
          },
          "metadata": {},
          "execution_count": 474
        }
      ],
      "source": [
        "extra.isnull().sum()"
      ]
    },
    {
      "cell_type": "code",
      "execution_count": 475,
      "metadata": {
        "id": "JhEAJJtsk3zu",
        "outputId": "a8e47945-80b8-46e3-c70c-020698e30bb4",
        "colab": {
          "base_uri": "https://localhost:8080/"
        }
      },
      "outputs": [
        {
          "output_type": "execute_result",
          "data": {
            "text/plain": [
              "(3653, 11)"
            ]
          },
          "metadata": {},
          "execution_count": 475
        }
      ],
      "source": [
        "miss = extra[extra['MERCHANT_NAME_bins'].isnull()]\n",
        "miss.shape"
      ]
    },
    {
      "cell_type": "code",
      "execution_count": 476,
      "metadata": {
        "id": "Uq9pNRtCk3zu",
        "outputId": "ea203a20-6bb1-47ae-ed4f-190d045c459b",
        "colab": {
          "base_uri": "https://localhost:8080/"
        }
      },
      "outputs": [
        {
          "output_type": "execute_result",
          "data": {
            "text/plain": [
              "MERCHANT_NAME            0\n",
              "PURCHASE_VALUE           0\n",
              "PURCHASED_AT             0\n",
              "USER_GENDER              0\n",
              "USER_HOUSEHOLD           0\n",
              "USER_INCOME              0\n",
              "USER_ID                  0\n",
              "Transaction_ID           0\n",
              "price_range              0\n",
              "income_range             0\n",
              "MERCHANT_NAME_bins    2828\n",
              "dtype: int64"
            ]
          },
          "metadata": {},
          "execution_count": 476
        }
      ],
      "source": [
        "miss = miss[miss[\"MERCHANT_NAME\"].str.contains(r'INVEST(?!$)') == False]\n",
        "miss = miss[miss[\"MERCHANT_NAME\"].str.contains(r'SHOP(?!$)') == False]\n",
        "miss = miss[miss[\"MERCHANT_NAME\"].str.contains(r'LT(?!$)') == False]\n",
        "miss = miss[miss[\"MERCHANT_NAME\"].str.contains(r'COUNTY(?!$)') == False]\n",
        "miss = miss[miss[\"MERCHANT_NAME\"].str.contains(r'INVESTMENT(?!$)') == False]\n",
        "miss = miss[miss[\"MERCHANT_NAME\"].str.contains(r'RENT(?!$)') == False]\n",
        "miss = miss[miss[\"MERCHANT_NAME\"].str.contains(r'HOTE(?!$)') == False]\n",
        "miss = miss[miss[\"MERCHANT_NAME\"].str.contains(r'LIMIT(?!$)') == False]\n",
        "miss = miss[miss[\"MERCHANT_NAME\"].str.contains(r'WINE(?!$)') == False]\n",
        "miss = miss[miss[\"MERCHANT_NAME\"].str.contains(r'ACCOUN(?!$)') == False]\n",
        "miss = miss[miss[\"MERCHANT_NAME\"].str.contains(r'ENTERPRIS(?!$)') == False]\n",
        "miss = miss[miss[\"MERCHANT_NAME\"].str.contains(r'SHO(?!$)') == False]\n",
        "miss = miss[miss[\"MERCHANT_NAME\"].str.contains(r'MAR(?!$)') == False]\n",
        "miss = miss[miss[\"MERCHANT_NAME\"].str.contains(r'INSUR(?!$)') == False]\n",
        "miss = miss[miss[\"MERCHANT_NAME\"].str.contains(r'STATI(?!$)') == False]\n",
        "miss = miss[miss[\"MERCHANT_NAME\"].str.contains(r'CHEM(?!$)') == False]\n",
        "miss.isnull().sum()"
      ]
    },
    {
      "cell_type": "code",
      "execution_count": 477,
      "metadata": {
        "id": "jXZWyktDk3zu",
        "outputId": "77a7ccc2-8833-4121-a338-e5b7604531a5",
        "colab": {
          "base_uri": "https://localhost:8080/"
        }
      },
      "outputs": [
        {
          "output_type": "execute_result",
          "data": {
            "text/plain": [
              "(6347, 11)"
            ]
          },
          "metadata": {},
          "execution_count": 477
        }
      ],
      "source": [
        "extra = extra.dropna()\n",
        "extra.shape"
      ]
    },
    {
      "cell_type": "code",
      "execution_count": 478,
      "metadata": {
        "id": "HMdEt7Idk3zv",
        "outputId": "8c635e84-9e66-48b2-f688-82b3a96e2be6",
        "colab": {
          "base_uri": "https://localhost:8080/"
        }
      },
      "outputs": [
        {
          "output_type": "execute_result",
          "data": {
            "text/plain": [
              "(9175, 11)"
            ]
          },
          "metadata": {},
          "execution_count": 478
        }
      ],
      "source": [
        "extra = pd.concat((extra, miss)).reset_index(drop=True)\n",
        "extra.shape"
      ]
    },
    {
      "cell_type": "code",
      "execution_count": 479,
      "metadata": {
        "colab": {
          "base_uri": "https://localhost:8080/"
        },
        "id": "_nKvq6kvk3zv",
        "outputId": "cd1ab1a6-fea1-4c9a-a690-062aa7d9a374"
      },
      "outputs": [
        {
          "output_type": "execute_result",
          "data": {
            "text/plain": [
              "MERCHANT_NAME            0\n",
              "PURCHASE_VALUE           0\n",
              "PURCHASED_AT             0\n",
              "USER_GENDER              0\n",
              "USER_HOUSEHOLD           0\n",
              "USER_INCOME              0\n",
              "USER_ID                  0\n",
              "Transaction_ID           0\n",
              "price_range              0\n",
              "income_range             0\n",
              "MERCHANT_NAME_bins    2828\n",
              "dtype: int64"
            ]
          },
          "metadata": {},
          "execution_count": 479
        }
      ],
      "source": [
        "extra.isnull().sum()"
      ]
    },
    {
      "cell_type": "markdown",
      "metadata": {
        "id": "po5EdTH1k3zw"
      },
      "source": [
        "### Filling in the resultant missing values\n",
        "* filled it with cluster 5(friends_smallbiz) which is a group of peoples names\n"
      ]
    },
    {
      "cell_type": "code",
      "execution_count": 480,
      "metadata": {
        "id": "egPSh7Vnk3zw"
      },
      "outputs": [],
      "source": [
        "miss_data = data[data['MERCHANT_NAME_bins'].isnull()]"
      ]
    },
    {
      "cell_type": "code",
      "execution_count": 481,
      "metadata": {
        "colab": {
          "base_uri": "https://localhost:8080/"
        },
        "id": "uiwUFuGFk3zw",
        "outputId": "bee0c64a-b568-4dba-8ae4-5c179acac478"
      },
      "outputs": [
        {
          "output_type": "execute_result",
          "data": {
            "text/plain": [
              "array(['MICHAEL MUSEMBI', 'JOSEPH NTHENGE', 'FATUMA OSORE',\n",
              "       'ELIZABETH NYAMBURA', 'TABITHA RAORE', 'ENVY VIVA CORPORATE',\n",
              "       'ENOCK  MAKORI', 'GLADWELL MBURU', 'WAFULA ANNE', 'JIWEKE TAVERN',\n",
              "       'CHRISPIN MALOBA', 'GALITOS BELLEVUE', 'SIXTUS ABOLALA',\n",
              "       'ALBERT  MBOGO', 'PETER NJOORA KENDA', 'IDEAL APPLIANCES',\n",
              "       'BETHSEBA  MAKOKHA', 'HELLEN  MURIGI', 'HILDA  EREGWA',\n",
              "       'TEOFILO LIGAWA', 'STEPHEN  OSANGO', 'PETER KENDA', 'ERIC CHESI',\n",
              "       'JERUSA OTIENO', 'SAMWEL KIMANI', 'SILVANO  NGARI',\n",
              "       'VIBE NAIROBI LIMITED', 'RAPHAEL MWANGI', 'MABENAN CYBER',\n",
              "       'KILELESHWA SUPERSHINE', 'MEMORIES PRODUCTION STUDIO',\n",
              "       'LILIAN GICHU', 'JACKSON ANDIVA', 'MIKE  KOECH', 'SAMWEL  KIMANI',\n",
              "       'CAROLINE KURIA', 'SKY-GARDEN', 'GLADYS WANJIRU MWANGI',\n",
              "       'SAMUEL  KIBUI', 'BETH GICHU', 'MORRIS  MULWA', 'LEAH NGOGA',\n",
              "       'DENIS OTIENO', 'ELIVIN KWAMBOKA MOYWAYWA', 'CETRICK  MUKALAVAI',\n",
              "       'OUTSKIRTS PLACE', 'WANZA SEKETA', 'DEEPAL  PATEL',\n",
              "       'OAKS  CORKS - ONLINE', 'OLIVIA AKINYI', 'MARY MBUCHA',\n",
              "       'BRIAN  MUNANGWE', 'ONESMUS  GAKURU', 'BAABAX EXPRESS LIMITED',\n",
              "       'WINTA WOLDEGABRIEL +254795225400', 'KELVIN OWINO', 'LIBERTY LIFE',\n",
              "       'KEZIA  NDINI', 'DESMOND MATIMU', 'VINCENT KARIUKI MBURU',\n",
              "       'GLADYS MAURINE', 'VICTOR  WAWERU', 'FLORENCE KANANA',\n",
              "       'JULLY AKIN', 'JERUSA A OTIENO', 'JIMMIE WAIRIMU',\n",
              "       'CRAFT - CHUPA CHAP', 'ARNELLE OMONDI', 'ONAIRES CATERERS',\n",
              "       'JOSEPH MATENGE', 'PATRICK  MUNYAO', 'VENDIT LIMITED',\n",
              "       'RAPHAEL OWAKO', 'MARSH WAVOMBA', 'LOICE OBANDA OTIENO', 'ASL TD',\n",
              "       'JACKLINE  OMOLO', 'CEDRIC OCHOLA',\n",
              "       'VITAMIX FRESH FRUITS AND JUICES', 'MOFFAT OMWENO',\n",
              "       'KUNE FOOD LAB KENYA LIMITED', 'QUENSIN  ROHEYIA',\n",
              "       'KENNEDY MUREITHI', 'MELISA ANYONJE MALALA', 'MOSES NGURE',\n",
              "       'MICHAEL ACHOCHI', 'THE ORIGINS', 'BETHSHEBA NYAUNDI',\n",
              "       'DEEJINA LIMITED', 'HARRISON JUMA AYUAK', 'NEBERT GITAU',\n",
              "       'LILIAN OTIENO', 'AGGREY  MWANGALE', 'MOHAMED  ZIMBA',\n",
              "       'PAUL  MUASYA', 'MARIEKA WINES AND SPIRIT', 'CAPTURE ADVENTURES',\n",
              "       'GREAT IMPACT', 'COLLINS OUMA', 'JOHN NJIRU GAKUNJU',\n",
              "       'CHRISTINE OOKO', 'JOSEPHINE THUKU', 'NIMROD MWATELA',\n",
              "       'NAOMI  WANJOHI', 'ROBERT KARIUKI', 'MAMBO ITALIA-LAVINGTON',\n",
              "       'RODGERS SIMIYU', 'ESTHER  NDIRITU', 'LEILA KAINGU',\n",
              "       'NELLY BIKUNDO', 'NIFTY TIGONI LIMITED', 'DENIS OCHIENG OTIENO',\n",
              "       'AUDRINE  MAKAKA', 'MIRIAM  MUNGAI', 'NIMROD ZIRO',\n",
              "       'RUBIS ENJOY UN AVENUE', 'KENNEDY MUMIA', 'AGNES NGANGA',\n",
              "       'KENDRICK  NAMAL', 'JOSEPH MOGERE', 'MBCI  FOR', 'DUNTON OKOTH',\n",
              "       'CECILIA  MWANGI', 'LOISHOOK  GODWIN', 'ANTONY  MAKAU',\n",
              "       'ZAVON HEZRON', 'JACKLINE IMINZA', 'MUCHIRI NDAMBIRI',\n",
              "       'FELIX  KAINDI', 'LAWRENCE KIMONDO NGATA', 'JULIUS  ANDABWA',\n",
              "       'ELIZABETH WANGARI', 'KENYA REVENUE AUTHORITY', 'COCO JAMBO',\n",
              "       'JANE OKELLO', \"HENRY NG'ENDA\", 'WANGARI KINYANJUI',\n",
              "       'PLANTY FLOWER AND GARDEN', 'HOUSE OF CHIC',\n",
              "       'BRAVINE SUNGAH STOWER', 'VENY  MAUTI', 'MARY MUNGAI',\n",
              "       'RISPER  KWANYA', 'CHRISTOHER ONGAYA', 'JACKSON  MUSYOKI',\n",
              "       'NELLY WANJIRU KURIA', 'CHRISTINE MUTISYA', 'TONY WEST LIMITED 5',\n",
              "       'PETER  INDIMULI', 'SAMWEL WANGAI', 'JAMES NJOROGE',\n",
              "       'JOAN  SAINEPU', 'FOUR SQUARE FINE CUTS', 'SANAVAC COMPANY',\n",
              "       'CAKES BY EUDIE LIMITED', 'THE MIKALSENS', 'LILIAN  MITEI',\n",
              "       'BOLT FASHIONS', 'FYTY CARWASH', 'PETER MANTHI',\n",
              "       'KENYA MEAT PROCESSORS-DELI', 'JAMES  EKISE',\n",
              "       'PETER NGANGA KARUGA', 'PATRICK KIMUYU', 'BILLY OMOLO',\n",
              "       'AMBROSE MWALILI', 'KELVIN  THUO',\n",
              "       'GOOGLE PLAYSTORE  GOOGLE PLAY PURCHASE', 'DUNCAN  NDUGO',\n",
              "       'MARTIN NJERU', 'FRANCIS  KABOCHI', 'CLAPPERTON  MUSYOKI',\n",
              "       'ALLAN WAMBURA', 'JULIA ODOYO', 'JANET MBOGO', 'GEORGE  GACHERU',\n",
              "       'STEPHEN  MUGA', 'SIMON MUNYIRI', 'BUY DIRECT LIMITED 2',\n",
              "       'PALLET CAFE LTD', 'JASON WANJOHI', 'JAMES MUTEGI', 'PAUL  NGICHO',\n",
              "       'ARDEN AXIDA ABUOCH', 'PHILIP KAGIRI', 'MAXWELL  OCHIENG',\n",
              "       'GRIFFINS OBWOGI', 'ZALENA KITCHEN', 'AGNES  KASYOKI',\n",
              "       'BRIAN OKUKU', 'MINT N', 'MZIZI NETWORKS', 'CLENICE MBECHE',\n",
              "       'FRIDAH OWINO', 'JUDY', 'VMX FITNESS LTD  LUCIA MUNANIE WAMBUA',\n",
              "       'PURTIY MWAGIRU', 'JOEL  RABEL', 'KELVIN NJOKA',\n",
              "       'WINFRIDA KHATIALA MULAMA', 'HELLEN OTIENO', 'FREDRICK  OMENYO',\n",
              "       'IVY SHIKUMU', 'DAVID MWANIKI NJOKA', 'JOHN  KIOKO',\n",
              "       'ODHIAMBO OCHIMBO', 'JACKLINE MWAI', 'STEPHANIE WANGUI',\n",
              "       'MICHELLE  RODROT', 'THOMAS GITHINJI GATHIOMI', 'PATRICK  MASESE',\n",
              "       'ROGERS MORANGA', 'MICHAEL  NJERU', 'FRACIAH  KAGAI',\n",
              "       'CHANDARANA YAYA 1', 'HENRY MOGERE', 'DORCAS  WANJOHI',\n",
              "       'DIRECT PAY', 'JACINTA MWONGELI KALOKI VIA SMEP',\n",
              "       'ESTHER WANJIKU KARANJA', 'ALEX  SAKWA', 'JOHN WAITHERA',\n",
              "       'RHODA RICHARD', 'STEPHEN  GITHII', 'MOUREEN MOMANYI',\n",
              "       'TINGG CELLULANT', 'DUKE NYAMARI', 'GEORGE KAMAU', 'THE BOSSBABY',\n",
              "       'RHODA  MBITHU', 'PETER  KIHIU', 'FREDRICK  NGATIA',\n",
              "       'GHARIB HABIB', 'KEN WINES AND SPIRITS',\n",
              "       'CHAPA COPY COMPANY - KILELESHWA', 'MARK  MUSISIA',\n",
              "       'JUDITH MOSIGISI', 'BLIZZ WINES AND SPIRITS DISTRIBUTORS',\n",
              "       'DORINE ADHIAMBO', 'MATHEW RAPANDO', 'EDWIN  OMBATI',\n",
              "       'NAOMI  GATHUU', 'NAIROBI FAIRY NIGHT LIGHTS LIMITED  EVAN',\n",
              "       'MARY MUGURE KIGO', 'MAMLAKA  HILL', 'MARGARET  GACOMBA',\n",
              "       'RODNEY  WAITE', 'LEE MBITHI', 'ELIAS MBURU', 'PATRICIA  ROMANA',\n",
              "       'ANASTACIA CHEROBON', \"FARMER'S CHOICE STOCKISTS\", 'JOHN ONYANGO',\n",
              "       'SHARON GESORA', \"BERNARD NDUNG'U\", 'GO TV',\n",
              "       'CHARLENNE AKETCH OBBO ONYANGO', 'TERESA NYARUNDA', 'CBD-680',\n",
              "       'JUDY  MUSISIA', 'FATHALLA  ABOUBAKR', 'DECATHLON HUB TILL 5'],\n",
              "      dtype=object)"
            ]
          },
          "metadata": {},
          "execution_count": 481
        }
      ],
      "source": [
        "miss_data['MERCHANT_NAME'].unique()"
      ]
    },
    {
      "cell_type": "code",
      "execution_count": 482,
      "metadata": {
        "id": "pcQJms2uk3zw"
      },
      "outputs": [],
      "source": [
        "for col in data.columns:\n",
        "\n",
        "  if col in ['MERCHANT_NAME_bins']:\n",
        "    data[col] = data[col].fillna(10)\n",
        "    \n"
      ]
    },
    {
      "cell_type": "code",
      "execution_count": 483,
      "metadata": {
        "id": "pltYkbUzk3zx"
      },
      "outputs": [],
      "source": [
        "for col in extra.columns:\n",
        "\n",
        "  if col in ['MERCHANT_NAME_bins']:\n",
        "    extra[col] = extra[col].fillna(10)\n",
        "    \n"
      ]
    },
    {
      "cell_type": "markdown",
      "metadata": {
        "id": "1MRtyzCrk3zx"
      },
      "source": [
        "## GroupBy Features using Extra Data\n",
        "* Well at first i thought of trying it with user_id but then i thought what of the new users who are not represented so i went with merchant name instead \n",
        "* Now coming to realize, that grouping with user id makes sense all thanks to you so i will try and let you know the improvement to the CV"
      ]
    },
    {
      "cell_type": "code",
      "execution_count": 484,
      "metadata": {
        "colab": {
          "base_uri": "https://localhost:8080/",
          "height": 357
        },
        "id": "8yetr8jYk3zx",
        "outputId": "5f191a61-0815-4c86-b7c1-8aef1a5ead0f"
      },
      "outputs": [
        {
          "output_type": "execute_result",
          "data": {
            "text/plain": [
              "  MERCHANT_NAME  PURCHASE_VALUE            PURCHASED_AT USER_GENDER  \\\n",
              "0   ACCESS AFYA               1  2021-07-05 11:07:00+00        Male   \n",
              "1           POA            1500  2021-06-21 19:40:00+00        Male   \n",
              "2           POA            1500  2021-04-22 18:41:00+00        Male   \n",
              "3   ACCESS AFYA               1  2021-07-29 13:03:00+00        Male   \n",
              "4           POA            1500  2021-01-22 15:45:00+00        Male   \n",
              "\n",
              "   USER_HOUSEHOLD  USER_INCOME      USER_ID Transaction_ID  price_range  \\\n",
              "0               1        10000  ID_R4T8Q46J    ID_rgne8ij5            3   \n",
              "1               1        10000  ID_R4T8Q46J    ID_4i2b28b6            3   \n",
              "2               1        10000  ID_R4T8Q46J    ID_6dvi32yc            3   \n",
              "3               1        10000  ID_R4T8Q46J    ID_sfk1yxbm            3   \n",
              "4               1        10000  ID_R4T8Q46J    ID_plxh7ovt            3   \n",
              "\n",
              "   income_range  MERCHANT_NAME_bins  \n",
              "0             3                 2.0  \n",
              "1             3                 1.0  \n",
              "2             3                 1.0  \n",
              "3             3                 2.0  \n",
              "4             3                 1.0  "
            ],
            "text/html": [
              "\n",
              "  <div id=\"df-1664bab7-ba28-486d-b566-00e3b09427df\">\n",
              "    <div class=\"colab-df-container\">\n",
              "      <div>\n",
              "<style scoped>\n",
              "    .dataframe tbody tr th:only-of-type {\n",
              "        vertical-align: middle;\n",
              "    }\n",
              "\n",
              "    .dataframe tbody tr th {\n",
              "        vertical-align: top;\n",
              "    }\n",
              "\n",
              "    .dataframe thead th {\n",
              "        text-align: right;\n",
              "    }\n",
              "</style>\n",
              "<table border=\"1\" class=\"dataframe\">\n",
              "  <thead>\n",
              "    <tr style=\"text-align: right;\">\n",
              "      <th></th>\n",
              "      <th>MERCHANT_NAME</th>\n",
              "      <th>PURCHASE_VALUE</th>\n",
              "      <th>PURCHASED_AT</th>\n",
              "      <th>USER_GENDER</th>\n",
              "      <th>USER_HOUSEHOLD</th>\n",
              "      <th>USER_INCOME</th>\n",
              "      <th>USER_ID</th>\n",
              "      <th>Transaction_ID</th>\n",
              "      <th>price_range</th>\n",
              "      <th>income_range</th>\n",
              "      <th>MERCHANT_NAME_bins</th>\n",
              "    </tr>\n",
              "  </thead>\n",
              "  <tbody>\n",
              "    <tr>\n",
              "      <th>0</th>\n",
              "      <td>ACCESS AFYA</td>\n",
              "      <td>1</td>\n",
              "      <td>2021-07-05 11:07:00+00</td>\n",
              "      <td>Male</td>\n",
              "      <td>1</td>\n",
              "      <td>10000</td>\n",
              "      <td>ID_R4T8Q46J</td>\n",
              "      <td>ID_rgne8ij5</td>\n",
              "      <td>3</td>\n",
              "      <td>3</td>\n",
              "      <td>2.0</td>\n",
              "    </tr>\n",
              "    <tr>\n",
              "      <th>1</th>\n",
              "      <td>POA</td>\n",
              "      <td>1500</td>\n",
              "      <td>2021-06-21 19:40:00+00</td>\n",
              "      <td>Male</td>\n",
              "      <td>1</td>\n",
              "      <td>10000</td>\n",
              "      <td>ID_R4T8Q46J</td>\n",
              "      <td>ID_4i2b28b6</td>\n",
              "      <td>3</td>\n",
              "      <td>3</td>\n",
              "      <td>1.0</td>\n",
              "    </tr>\n",
              "    <tr>\n",
              "      <th>2</th>\n",
              "      <td>POA</td>\n",
              "      <td>1500</td>\n",
              "      <td>2021-04-22 18:41:00+00</td>\n",
              "      <td>Male</td>\n",
              "      <td>1</td>\n",
              "      <td>10000</td>\n",
              "      <td>ID_R4T8Q46J</td>\n",
              "      <td>ID_6dvi32yc</td>\n",
              "      <td>3</td>\n",
              "      <td>3</td>\n",
              "      <td>1.0</td>\n",
              "    </tr>\n",
              "    <tr>\n",
              "      <th>3</th>\n",
              "      <td>ACCESS AFYA</td>\n",
              "      <td>1</td>\n",
              "      <td>2021-07-29 13:03:00+00</td>\n",
              "      <td>Male</td>\n",
              "      <td>1</td>\n",
              "      <td>10000</td>\n",
              "      <td>ID_R4T8Q46J</td>\n",
              "      <td>ID_sfk1yxbm</td>\n",
              "      <td>3</td>\n",
              "      <td>3</td>\n",
              "      <td>2.0</td>\n",
              "    </tr>\n",
              "    <tr>\n",
              "      <th>4</th>\n",
              "      <td>POA</td>\n",
              "      <td>1500</td>\n",
              "      <td>2021-01-22 15:45:00+00</td>\n",
              "      <td>Male</td>\n",
              "      <td>1</td>\n",
              "      <td>10000</td>\n",
              "      <td>ID_R4T8Q46J</td>\n",
              "      <td>ID_plxh7ovt</td>\n",
              "      <td>3</td>\n",
              "      <td>3</td>\n",
              "      <td>1.0</td>\n",
              "    </tr>\n",
              "  </tbody>\n",
              "</table>\n",
              "</div>\n",
              "      <button class=\"colab-df-convert\" onclick=\"convertToInteractive('df-1664bab7-ba28-486d-b566-00e3b09427df')\"\n",
              "              title=\"Convert this dataframe to an interactive table.\"\n",
              "              style=\"display:none;\">\n",
              "        \n",
              "  <svg xmlns=\"http://www.w3.org/2000/svg\" height=\"24px\"viewBox=\"0 0 24 24\"\n",
              "       width=\"24px\">\n",
              "    <path d=\"M0 0h24v24H0V0z\" fill=\"none\"/>\n",
              "    <path d=\"M18.56 5.44l.94 2.06.94-2.06 2.06-.94-2.06-.94-.94-2.06-.94 2.06-2.06.94zm-11 1L8.5 8.5l.94-2.06 2.06-.94-2.06-.94L8.5 2.5l-.94 2.06-2.06.94zm10 10l.94 2.06.94-2.06 2.06-.94-2.06-.94-.94-2.06-.94 2.06-2.06.94z\"/><path d=\"M17.41 7.96l-1.37-1.37c-.4-.4-.92-.59-1.43-.59-.52 0-1.04.2-1.43.59L10.3 9.45l-7.72 7.72c-.78.78-.78 2.05 0 2.83L4 21.41c.39.39.9.59 1.41.59.51 0 1.02-.2 1.41-.59l7.78-7.78 2.81-2.81c.8-.78.8-2.07 0-2.86zM5.41 20L4 18.59l7.72-7.72 1.47 1.35L5.41 20z\"/>\n",
              "  </svg>\n",
              "      </button>\n",
              "      \n",
              "  <style>\n",
              "    .colab-df-container {\n",
              "      display:flex;\n",
              "      flex-wrap:wrap;\n",
              "      gap: 12px;\n",
              "    }\n",
              "\n",
              "    .colab-df-convert {\n",
              "      background-color: #E8F0FE;\n",
              "      border: none;\n",
              "      border-radius: 50%;\n",
              "      cursor: pointer;\n",
              "      display: none;\n",
              "      fill: #1967D2;\n",
              "      height: 32px;\n",
              "      padding: 0 0 0 0;\n",
              "      width: 32px;\n",
              "    }\n",
              "\n",
              "    .colab-df-convert:hover {\n",
              "      background-color: #E2EBFA;\n",
              "      box-shadow: 0px 1px 2px rgba(60, 64, 67, 0.3), 0px 1px 3px 1px rgba(60, 64, 67, 0.15);\n",
              "      fill: #174EA6;\n",
              "    }\n",
              "\n",
              "    [theme=dark] .colab-df-convert {\n",
              "      background-color: #3B4455;\n",
              "      fill: #D2E3FC;\n",
              "    }\n",
              "\n",
              "    [theme=dark] .colab-df-convert:hover {\n",
              "      background-color: #434B5C;\n",
              "      box-shadow: 0px 1px 3px 1px rgba(0, 0, 0, 0.15);\n",
              "      filter: drop-shadow(0px 1px 2px rgba(0, 0, 0, 0.3));\n",
              "      fill: #FFFFFF;\n",
              "    }\n",
              "  </style>\n",
              "\n",
              "      <script>\n",
              "        const buttonEl =\n",
              "          document.querySelector('#df-1664bab7-ba28-486d-b566-00e3b09427df button.colab-df-convert');\n",
              "        buttonEl.style.display =\n",
              "          google.colab.kernel.accessAllowed ? 'block' : 'none';\n",
              "\n",
              "        async function convertToInteractive(key) {\n",
              "          const element = document.querySelector('#df-1664bab7-ba28-486d-b566-00e3b09427df');\n",
              "          const dataTable =\n",
              "            await google.colab.kernel.invokeFunction('convertToInteractive',\n",
              "                                                     [key], {});\n",
              "          if (!dataTable) return;\n",
              "\n",
              "          const docLinkHtml = 'Like what you see? Visit the ' +\n",
              "            '<a target=\"_blank\" href=https://colab.research.google.com/notebooks/data_table.ipynb>data table notebook</a>'\n",
              "            + ' to learn more about interactive tables.';\n",
              "          element.innerHTML = '';\n",
              "          dataTable['output_type'] = 'display_data';\n",
              "          await google.colab.output.renderOutput(dataTable, element);\n",
              "          const docLink = document.createElement('div');\n",
              "          docLink.innerHTML = docLinkHtml;\n",
              "          element.appendChild(docLink);\n",
              "        }\n",
              "      </script>\n",
              "    </div>\n",
              "  </div>\n",
              "  "
            ]
          },
          "metadata": {},
          "execution_count": 484
        }
      ],
      "source": [
        "extra.head()"
      ]
    },
    {
      "cell_type": "code",
      "execution_count": 485,
      "metadata": {
        "id": "uHr3KS9vk3zy"
      },
      "outputs": [],
      "source": [
        "from sklearn.preprocessing import LabelEncoder\n",
        "le = LabelEncoder()\n",
        "\n",
        "le_columns = ['USER_GENDER']\n",
        "\n",
        "for col in le_columns:\n",
        "   extra[col] = le.fit_transform(extra[col])"
      ]
    },
    {
      "cell_type": "code",
      "execution_count": 486,
      "metadata": {
        "id": "QCBmtS7Wk3zy"
      },
      "outputs": [],
      "source": [
        "merch_bins_groups = extra.groupby('MERCHANT_NAME_bins').agg(\n",
        "\n",
        "\n",
        "             bins_purchase_merch_min = (\"PURCHASE_VALUE\", \"min\"),\n",
        "             bins_purchase_merch_max = (\"PURCHASE_VALUE\", \"max\"),        \n",
        "             bins_purchase_merch_sum = (\"PURCHASE_VALUE\", \"sum\"),\n",
        "             bins_purchase_merch_mean = (\"PURCHASE_VALUE\", \"mean\"),\n",
        "             bins_purchase_merch_count = (\"PURCHASE_VALUE\", \"count\"),\n",
        "    \n",
        "             bins_income_min = (\"USER_INCOME\", \"min\"),\n",
        "             bins_income_max = (\"USER_INCOME\", \"max\"),        \n",
        "             bins_income_sum = (\"USER_INCOME\", \"sum\"),\n",
        "             bins_income_mean = (\"USER_INCOME\", \"mean\"),\n",
        "    \n",
        "                   \n",
        "\n",
        "                \n",
        "             \n",
        "             ).reset_index()"
      ]
    },
    {
      "cell_type": "code",
      "execution_count": 487,
      "metadata": {
        "colab": {
          "base_uri": "https://localhost:8080/"
        },
        "id": "H3xZvfrzk3zz",
        "outputId": "88dd7663-c491-476a-88a0-d2f1000ddf08"
      },
      "outputs": [
        {
          "output_type": "execute_result",
          "data": {
            "text/plain": [
              "MERCHANT_NAME_bins           10\n",
              "bins_purchase_merch_min       6\n",
              "bins_purchase_merch_max       8\n",
              "bins_purchase_merch_sum      10\n",
              "bins_purchase_merch_mean     10\n",
              "bins_purchase_merch_count    10\n",
              "bins_income_min               2\n",
              "bins_income_max               3\n",
              "bins_income_sum              10\n",
              "bins_income_mean             10\n",
              "dtype: int64"
            ]
          },
          "metadata": {},
          "execution_count": 487
        }
      ],
      "source": [
        "# check unique values in dataset\n",
        "merch_bins_groups.apply(lambda x: len(x.unique()))"
      ]
    },
    {
      "cell_type": "code",
      "execution_count": 488,
      "metadata": {
        "id": "akph58kek3zz"
      },
      "outputs": [],
      "source": [
        "# extra_groups.head(5)"
      ]
    },
    {
      "cell_type": "code",
      "execution_count": 489,
      "metadata": {
        "id": "qJzvC8C_k3zz"
      },
      "outputs": [],
      "source": [
        "# extra_groups.columns"
      ]
    },
    {
      "cell_type": "code",
      "execution_count": 490,
      "metadata": {
        "colab": {
          "base_uri": "https://localhost:8080/"
        },
        "id": "5botesick3zz",
        "outputId": "3b590f5e-c26a-4f6c-a210-4a2283dc80d7"
      },
      "outputs": [
        {
          "output_type": "execute_result",
          "data": {
            "text/plain": [
              "(931, 28)"
            ]
          },
          "metadata": {},
          "execution_count": 490
        }
      ],
      "source": [
        "data = pd.merge(data,merch_bins_groups,on=['MERCHANT_NAME_bins'],how ='left')\n",
        "data.shape"
      ]
    },
    {
      "cell_type": "markdown",
      "metadata": {
        "id": "4ejXgiutk3z1"
      },
      "source": [
        "### Merchant_Name groups"
      ]
    },
    {
      "cell_type": "code",
      "execution_count": 491,
      "metadata": {
        "id": "Je2liUjxk3z1"
      },
      "outputs": [],
      "source": [
        "merch_groups = extra.groupby('MERCHANT_NAME').agg(\n",
        "\n",
        "\n",
        "             purchase_merch_min = (\"PURCHASE_VALUE\", \"min\"),\n",
        "             purchase_merch_max = (\"PURCHASE_VALUE\", \"max\"),        \n",
        "             purchase_merch_sum = (\"PURCHASE_VALUE\", \"sum\"),\n",
        "             purchase_merch_mean = (\"PURCHASE_VALUE\", \"mean\"),\n",
        "             purchase_merch_count = (\"PURCHASE_VALUE\", \"count\"),\n",
        "    \n",
        "             income_min = (\"USER_INCOME\", \"min\"),\n",
        "             income_max = (\"USER_INCOME\", \"max\"),        \n",
        "             income_sum = (\"USER_INCOME\", \"sum\"),\n",
        "             income_mean = (\"USER_INCOME\", \"mean\"),\n",
        "    \n",
        "                   \n",
        "\n",
        "                \n",
        "             \n",
        "             ).reset_index()"
      ]
    },
    {
      "cell_type": "code",
      "execution_count": 492,
      "metadata": {
        "colab": {
          "base_uri": "https://localhost:8080/",
          "height": 357
        },
        "id": "jXBSa-PUk3z1",
        "outputId": "deda498b-3d97-40e2-b086-e1d2c5062c36"
      },
      "outputs": [
        {
          "output_type": "execute_result",
          "data": {
            "text/plain": [
              "                  MERCHANT_NAME  purchase_merch_min  purchase_merch_max  \\\n",
              "0                     17 LOUNGE                1000                1090   \n",
              "1              1824 WHISKEY BAR                 250                1350   \n",
              "2  254 BREWING COMPANY-TAP ROOM                1625                1625   \n",
              "3                2NK SACCO MAIN                 600                 600   \n",
              "4              2NK SACCO MAIN 1                 300                 300   \n",
              "\n",
              "   purchase_merch_sum  purchase_merch_mean  purchase_merch_count  income_min  \\\n",
              "0                2090               1045.0                     2      350000   \n",
              "1                3000                750.0                     4       10000   \n",
              "2                1625               1625.0                     1      252000   \n",
              "3                 600                600.0                     1      350000   \n",
              "4                 300                300.0                     1       10000   \n",
              "\n",
              "   income_max  income_sum  income_mean  \n",
              "0      350000      700000     350000.0  \n",
              "1       10000       40000      10000.0  \n",
              "2      252000      252000     252000.0  \n",
              "3      350000      350000     350000.0  \n",
              "4       10000       10000      10000.0  "
            ],
            "text/html": [
              "\n",
              "  <div id=\"df-c7cb27ab-f133-4e8d-8c57-8923a822514d\">\n",
              "    <div class=\"colab-df-container\">\n",
              "      <div>\n",
              "<style scoped>\n",
              "    .dataframe tbody tr th:only-of-type {\n",
              "        vertical-align: middle;\n",
              "    }\n",
              "\n",
              "    .dataframe tbody tr th {\n",
              "        vertical-align: top;\n",
              "    }\n",
              "\n",
              "    .dataframe thead th {\n",
              "        text-align: right;\n",
              "    }\n",
              "</style>\n",
              "<table border=\"1\" class=\"dataframe\">\n",
              "  <thead>\n",
              "    <tr style=\"text-align: right;\">\n",
              "      <th></th>\n",
              "      <th>MERCHANT_NAME</th>\n",
              "      <th>purchase_merch_min</th>\n",
              "      <th>purchase_merch_max</th>\n",
              "      <th>purchase_merch_sum</th>\n",
              "      <th>purchase_merch_mean</th>\n",
              "      <th>purchase_merch_count</th>\n",
              "      <th>income_min</th>\n",
              "      <th>income_max</th>\n",
              "      <th>income_sum</th>\n",
              "      <th>income_mean</th>\n",
              "    </tr>\n",
              "  </thead>\n",
              "  <tbody>\n",
              "    <tr>\n",
              "      <th>0</th>\n",
              "      <td>17 LOUNGE</td>\n",
              "      <td>1000</td>\n",
              "      <td>1090</td>\n",
              "      <td>2090</td>\n",
              "      <td>1045.0</td>\n",
              "      <td>2</td>\n",
              "      <td>350000</td>\n",
              "      <td>350000</td>\n",
              "      <td>700000</td>\n",
              "      <td>350000.0</td>\n",
              "    </tr>\n",
              "    <tr>\n",
              "      <th>1</th>\n",
              "      <td>1824 WHISKEY BAR</td>\n",
              "      <td>250</td>\n",
              "      <td>1350</td>\n",
              "      <td>3000</td>\n",
              "      <td>750.0</td>\n",
              "      <td>4</td>\n",
              "      <td>10000</td>\n",
              "      <td>10000</td>\n",
              "      <td>40000</td>\n",
              "      <td>10000.0</td>\n",
              "    </tr>\n",
              "    <tr>\n",
              "      <th>2</th>\n",
              "      <td>254 BREWING COMPANY-TAP ROOM</td>\n",
              "      <td>1625</td>\n",
              "      <td>1625</td>\n",
              "      <td>1625</td>\n",
              "      <td>1625.0</td>\n",
              "      <td>1</td>\n",
              "      <td>252000</td>\n",
              "      <td>252000</td>\n",
              "      <td>252000</td>\n",
              "      <td>252000.0</td>\n",
              "    </tr>\n",
              "    <tr>\n",
              "      <th>3</th>\n",
              "      <td>2NK SACCO MAIN</td>\n",
              "      <td>600</td>\n",
              "      <td>600</td>\n",
              "      <td>600</td>\n",
              "      <td>600.0</td>\n",
              "      <td>1</td>\n",
              "      <td>350000</td>\n",
              "      <td>350000</td>\n",
              "      <td>350000</td>\n",
              "      <td>350000.0</td>\n",
              "    </tr>\n",
              "    <tr>\n",
              "      <th>4</th>\n",
              "      <td>2NK SACCO MAIN 1</td>\n",
              "      <td>300</td>\n",
              "      <td>300</td>\n",
              "      <td>300</td>\n",
              "      <td>300.0</td>\n",
              "      <td>1</td>\n",
              "      <td>10000</td>\n",
              "      <td>10000</td>\n",
              "      <td>10000</td>\n",
              "      <td>10000.0</td>\n",
              "    </tr>\n",
              "  </tbody>\n",
              "</table>\n",
              "</div>\n",
              "      <button class=\"colab-df-convert\" onclick=\"convertToInteractive('df-c7cb27ab-f133-4e8d-8c57-8923a822514d')\"\n",
              "              title=\"Convert this dataframe to an interactive table.\"\n",
              "              style=\"display:none;\">\n",
              "        \n",
              "  <svg xmlns=\"http://www.w3.org/2000/svg\" height=\"24px\"viewBox=\"0 0 24 24\"\n",
              "       width=\"24px\">\n",
              "    <path d=\"M0 0h24v24H0V0z\" fill=\"none\"/>\n",
              "    <path d=\"M18.56 5.44l.94 2.06.94-2.06 2.06-.94-2.06-.94-.94-2.06-.94 2.06-2.06.94zm-11 1L8.5 8.5l.94-2.06 2.06-.94-2.06-.94L8.5 2.5l-.94 2.06-2.06.94zm10 10l.94 2.06.94-2.06 2.06-.94-2.06-.94-.94-2.06-.94 2.06-2.06.94z\"/><path d=\"M17.41 7.96l-1.37-1.37c-.4-.4-.92-.59-1.43-.59-.52 0-1.04.2-1.43.59L10.3 9.45l-7.72 7.72c-.78.78-.78 2.05 0 2.83L4 21.41c.39.39.9.59 1.41.59.51 0 1.02-.2 1.41-.59l7.78-7.78 2.81-2.81c.8-.78.8-2.07 0-2.86zM5.41 20L4 18.59l7.72-7.72 1.47 1.35L5.41 20z\"/>\n",
              "  </svg>\n",
              "      </button>\n",
              "      \n",
              "  <style>\n",
              "    .colab-df-container {\n",
              "      display:flex;\n",
              "      flex-wrap:wrap;\n",
              "      gap: 12px;\n",
              "    }\n",
              "\n",
              "    .colab-df-convert {\n",
              "      background-color: #E8F0FE;\n",
              "      border: none;\n",
              "      border-radius: 50%;\n",
              "      cursor: pointer;\n",
              "      display: none;\n",
              "      fill: #1967D2;\n",
              "      height: 32px;\n",
              "      padding: 0 0 0 0;\n",
              "      width: 32px;\n",
              "    }\n",
              "\n",
              "    .colab-df-convert:hover {\n",
              "      background-color: #E2EBFA;\n",
              "      box-shadow: 0px 1px 2px rgba(60, 64, 67, 0.3), 0px 1px 3px 1px rgba(60, 64, 67, 0.15);\n",
              "      fill: #174EA6;\n",
              "    }\n",
              "\n",
              "    [theme=dark] .colab-df-convert {\n",
              "      background-color: #3B4455;\n",
              "      fill: #D2E3FC;\n",
              "    }\n",
              "\n",
              "    [theme=dark] .colab-df-convert:hover {\n",
              "      background-color: #434B5C;\n",
              "      box-shadow: 0px 1px 3px 1px rgba(0, 0, 0, 0.15);\n",
              "      filter: drop-shadow(0px 1px 2px rgba(0, 0, 0, 0.3));\n",
              "      fill: #FFFFFF;\n",
              "    }\n",
              "  </style>\n",
              "\n",
              "      <script>\n",
              "        const buttonEl =\n",
              "          document.querySelector('#df-c7cb27ab-f133-4e8d-8c57-8923a822514d button.colab-df-convert');\n",
              "        buttonEl.style.display =\n",
              "          google.colab.kernel.accessAllowed ? 'block' : 'none';\n",
              "\n",
              "        async function convertToInteractive(key) {\n",
              "          const element = document.querySelector('#df-c7cb27ab-f133-4e8d-8c57-8923a822514d');\n",
              "          const dataTable =\n",
              "            await google.colab.kernel.invokeFunction('convertToInteractive',\n",
              "                                                     [key], {});\n",
              "          if (!dataTable) return;\n",
              "\n",
              "          const docLinkHtml = 'Like what you see? Visit the ' +\n",
              "            '<a target=\"_blank\" href=https://colab.research.google.com/notebooks/data_table.ipynb>data table notebook</a>'\n",
              "            + ' to learn more about interactive tables.';\n",
              "          element.innerHTML = '';\n",
              "          dataTable['output_type'] = 'display_data';\n",
              "          await google.colab.output.renderOutput(dataTable, element);\n",
              "          const docLink = document.createElement('div');\n",
              "          docLink.innerHTML = docLinkHtml;\n",
              "          element.appendChild(docLink);\n",
              "        }\n",
              "      </script>\n",
              "    </div>\n",
              "  </div>\n",
              "  "
            ]
          },
          "metadata": {},
          "execution_count": 492
        }
      ],
      "source": [
        "merch_groups.head()"
      ]
    },
    {
      "cell_type": "code",
      "execution_count": 493,
      "metadata": {
        "colab": {
          "base_uri": "https://localhost:8080/"
        },
        "id": "owr5NJ7Xk3z1",
        "outputId": "74f860a2-223a-4c65-cee8-50940562daac"
      },
      "outputs": [
        {
          "output_type": "execute_result",
          "data": {
            "text/plain": [
              "MERCHANT_NAME           2405\n",
              "purchase_merch_min       536\n",
              "purchase_merch_max       673\n",
              "purchase_merch_sum       872\n",
              "purchase_merch_mean      979\n",
              "purchase_merch_count      53\n",
              "income_min                15\n",
              "income_max                15\n",
              "income_sum               311\n",
              "income_mean              246\n",
              "dtype: int64"
            ]
          },
          "metadata": {},
          "execution_count": 493
        }
      ],
      "source": [
        "# check unique values in dataset\n",
        "merch_groups.apply(lambda x: len(x.unique()))"
      ]
    },
    {
      "cell_type": "code",
      "execution_count": 494,
      "metadata": {
        "colab": {
          "base_uri": "https://localhost:8080/"
        },
        "id": "grIz40mhk3z2",
        "outputId": "f23b6f5e-0a93-4a10-e9d2-560417151287"
      },
      "outputs": [
        {
          "output_type": "execute_result",
          "data": {
            "text/plain": [
              "(931, 37)"
            ]
          },
          "metadata": {},
          "execution_count": 494
        }
      ],
      "source": [
        "data = pd.merge(data,merch_groups,on=['MERCHANT_NAME'],how ='left')\n",
        "data.shape"
      ]
    },
    {
      "cell_type": "code",
      "execution_count": 495,
      "metadata": {
        "colab": {
          "base_uri": "https://localhost:8080/"
        },
        "id": "KaenmGEjk3z2",
        "outputId": "0d56c897-b2b7-4626-cbda-c5dc35bd7d61"
      },
      "outputs": [
        {
          "output_type": "execute_result",
          "data": {
            "text/plain": [
              "['PURCHASE_VALUE',\n",
              " 'USER_HOUSEHOLD',\n",
              " 'USER_INCOME',\n",
              " 'price_range',\n",
              " 'income_range',\n",
              " 'prod_PURCHASE_INCOME',\n",
              " 'count_PURCHASE_VALUE',\n",
              " 'count_USER_INCOME',\n",
              " 'count_USER_HOUSEHOLD',\n",
              " 'count_MERCHANT_NAME',\n",
              " 'MERCHANT_NAME_bins',\n",
              " 'bins_purchase_merch_min',\n",
              " 'bins_purchase_merch_max',\n",
              " 'bins_purchase_merch_sum',\n",
              " 'bins_purchase_merch_mean',\n",
              " 'bins_purchase_merch_count',\n",
              " 'bins_income_min',\n",
              " 'bins_income_max',\n",
              " 'bins_income_sum',\n",
              " 'bins_income_mean',\n",
              " 'purchase_merch_min',\n",
              " 'purchase_merch_max',\n",
              " 'purchase_merch_sum',\n",
              " 'purchase_merch_mean',\n",
              " 'purchase_merch_count',\n",
              " 'income_min',\n",
              " 'income_max',\n",
              " 'income_sum',\n",
              " 'income_mean']"
            ]
          },
          "metadata": {},
          "execution_count": 495
        }
      ],
      "source": [
        "# cat_columns = [col for col in extra.select_dtypes('object').columns]\n",
        "\n",
        "num_columns = [col for col in data.select_dtypes(['int', 'float']).columns if col not in ['MERCHANT_CATEGORIZED_AS',]]\n",
        "num_columns"
      ]
    },
    {
      "cell_type": "code",
      "execution_count": 496,
      "metadata": {
        "colab": {
          "base_uri": "https://localhost:8080/"
        },
        "id": "I4Gm0L1Wk3z2",
        "outputId": "4ef167a3-fb3f-4745-d284-a3847ee487a7"
      },
      "outputs": [
        {
          "output_type": "execute_result",
          "data": {
            "text/plain": [
              "['MERCHANT_NAME', 'PURCHASED_AT', 'USER_ID', 'Transaction_ID']"
            ]
          },
          "metadata": {},
          "execution_count": 496
        }
      ],
      "source": [
        "cat_columns = [col for col in extra.select_dtypes('object').columns]\n",
        "cat_columns"
      ]
    },
    {
      "cell_type": "markdown",
      "metadata": {
        "id": "V4dlhC0bk3z2"
      },
      "source": [
        "#### Fill the resultant missing values with Zeros\n",
        "* Zeros gave me the best result but -9999 gave almost the same cv score"
      ]
    },
    {
      "cell_type": "code",
      "execution_count": 497,
      "metadata": {
        "colab": {
          "base_uri": "https://localhost:8080/"
        },
        "id": "tjg0sHsVk3z2",
        "outputId": "80f5e397-c767-463a-c895-bdb043828279"
      },
      "outputs": [
        {
          "output_type": "execute_result",
          "data": {
            "text/plain": [
              "MERCHANT_CATEGORIZED_AT                    0\n",
              "MERCHANT_NAME                              0\n",
              "MERCHANT_CATEGORIZED_AS                  558\n",
              "PURCHASE_VALUE                             0\n",
              "PURCHASED_AT                               0\n",
              "IS_PURCHASE_PAID_VIA_MPESA_SEND_MONEY      0\n",
              "USER_GENDER                                0\n",
              "USER_HOUSEHOLD                             0\n",
              "USER_INCOME                                0\n",
              "USER_ID                                    0\n",
              "Transaction_ID                             0\n",
              "price_range                                0\n",
              "income_range                               0\n",
              "prod_PURCHASE_INCOME                       0\n",
              "count_PURCHASE_VALUE                       0\n",
              "count_USER_INCOME                          0\n",
              "count_USER_HOUSEHOLD                       0\n",
              "count_MERCHANT_NAME                        0\n",
              "MERCHANT_NAME_bins                         0\n",
              "bins_purchase_merch_min                    0\n",
              "bins_purchase_merch_max                    0\n",
              "bins_purchase_merch_sum                    0\n",
              "bins_purchase_merch_mean                   0\n",
              "bins_purchase_merch_count                  0\n",
              "bins_income_min                            0\n",
              "bins_income_max                            0\n",
              "bins_income_sum                            0\n",
              "bins_income_mean                           0\n",
              "purchase_merch_min                       506\n",
              "purchase_merch_max                       506\n",
              "purchase_merch_sum                       506\n",
              "purchase_merch_mean                      506\n",
              "purchase_merch_count                     506\n",
              "income_min                               506\n",
              "income_max                               506\n",
              "income_sum                               506\n",
              "income_mean                              506\n",
              "dtype: int64"
            ]
          },
          "metadata": {},
          "execution_count": 497
        }
      ],
      "source": [
        "data.isnull().sum()"
      ]
    },
    {
      "cell_type": "code",
      "execution_count": 498,
      "metadata": {
        "colab": {
          "base_uri": "https://localhost:8080/"
        },
        "id": "rh6qtNQWk3z3",
        "outputId": "7d5bb375-ee39-47d1-bd1c-656b4b597fd6"
      },
      "outputs": [
        {
          "output_type": "execute_result",
          "data": {
            "text/plain": [
              "MERCHANT_CATEGORIZED_AT                    0\n",
              "MERCHANT_NAME                              0\n",
              "MERCHANT_CATEGORIZED_AS                  558\n",
              "PURCHASE_VALUE                             0\n",
              "PURCHASED_AT                               0\n",
              "IS_PURCHASE_PAID_VIA_MPESA_SEND_MONEY      0\n",
              "USER_GENDER                                0\n",
              "USER_HOUSEHOLD                             0\n",
              "USER_INCOME                                0\n",
              "USER_ID                                    0\n",
              "Transaction_ID                             0\n",
              "price_range                                0\n",
              "income_range                               0\n",
              "prod_PURCHASE_INCOME                       0\n",
              "count_PURCHASE_VALUE                       0\n",
              "count_USER_INCOME                          0\n",
              "count_USER_HOUSEHOLD                       0\n",
              "count_MERCHANT_NAME                        0\n",
              "MERCHANT_NAME_bins                         0\n",
              "bins_purchase_merch_min                    0\n",
              "bins_purchase_merch_max                    0\n",
              "bins_purchase_merch_sum                    0\n",
              "bins_purchase_merch_mean                   0\n",
              "bins_purchase_merch_count                  0\n",
              "bins_income_min                            0\n",
              "bins_income_max                            0\n",
              "bins_income_sum                            0\n",
              "bins_income_mean                           0\n",
              "purchase_merch_min                         0\n",
              "purchase_merch_max                         0\n",
              "purchase_merch_sum                         0\n",
              "purchase_merch_mean                        0\n",
              "purchase_merch_count                       0\n",
              "income_min                                 0\n",
              "income_max                                 0\n",
              "income_sum                                 0\n",
              "income_mean                                0\n",
              "dtype: int64"
            ]
          },
          "metadata": {},
          "execution_count": 498
        }
      ],
      "source": [
        "for col in data.columns:\n",
        "    if col in num_columns:\n",
        "        data[col] = data[col].fillna(0)\n",
        "\n",
        "data.isnull().sum()"
      ]
    },
    {
      "cell_type": "markdown",
      "metadata": {
        "id": "SAL32Dy2k3z3"
      },
      "source": [
        "## Pandas Get Dummies"
      ]
    },
    {
      "cell_type": "code",
      "execution_count": 499,
      "metadata": {
        "colab": {
          "base_uri": "https://localhost:8080/",
          "height": 341
        },
        "id": "tjajvM-uk3z4",
        "outputId": "b33f2ec9-5eb7-4fe5-a855-7f79b89d09ba"
      },
      "outputs": [
        {
          "output_type": "execute_result",
          "data": {
            "text/plain": [
              "         MERCHANT_CATEGORIZED_AT                      MERCHANT_NAME  \\\n",
              "0  2022-05-04 10:25:50.588042+00  UONSDA CHURCH  MOGERE MWAYO TITHE   \n",
              "1  2021-10-25 16:18:38.586837+00                          PARK N GO   \n",
              "2  2022-05-20 14:17:30.917297+00         SAFARICOM OFFERS  TUNUKIWA   \n",
              "\n",
              "  MERCHANT_CATEGORIZED_AS  PURCHASE_VALUE            PURCHASED_AT  \\\n",
              "0         Rent / Mortgage            1700  2022-05-04 13:56:00+00   \n",
              "1        Transport & Fuel             100  2021-10-24 14:12:00+00   \n",
              "2             Data & WiFi              20  2022-05-27 12:46:00+00   \n",
              "\n",
              "   USER_HOUSEHOLD  USER_INCOME      USER_ID Transaction_ID  price_range  ...  \\\n",
              "0               3        10000  ID_ZX4DCF4K    ID_04mk78fa            3  ...   \n",
              "1               4        90000  ID_U9WZMGJZ    ID_04xkfb07            3  ...   \n",
              "2               3        10000  ID_ZX4DCF4K    ID_051urwuw            3  ...   \n",
              "\n",
              "   purchase_merch_mean  purchase_merch_count  income_min  income_max  \\\n",
              "0           888.571429                   7.0     10000.0     10000.0   \n",
              "1             0.000000                   0.0         0.0         0.0   \n",
              "2            41.930365                 876.0      8000.0    350000.0   \n",
              "\n",
              "   income_sum   income_mean  IS_PURCHASE_PAID_VIA_MPESA_SEND_MONEY_False  \\\n",
              "0     70000.0  10000.000000                                            1   \n",
              "1         0.0      0.000000                                            1   \n",
              "2  49761000.0  56804.794521                                            1   \n",
              "\n",
              "   IS_PURCHASE_PAID_VIA_MPESA_SEND_MONEY_True  USER_GENDER_Female  \\\n",
              "0                                           0                   0   \n",
              "1                                           0                   1   \n",
              "2                                           0                   0   \n",
              "\n",
              "   USER_GENDER_Male  \n",
              "0                 1  \n",
              "1                 0  \n",
              "2                 1  \n",
              "\n",
              "[3 rows x 39 columns]"
            ],
            "text/html": [
              "\n",
              "  <div id=\"df-2ddd3c4b-632c-47a4-b559-4b8ec0c36b47\">\n",
              "    <div class=\"colab-df-container\">\n",
              "      <div>\n",
              "<style scoped>\n",
              "    .dataframe tbody tr th:only-of-type {\n",
              "        vertical-align: middle;\n",
              "    }\n",
              "\n",
              "    .dataframe tbody tr th {\n",
              "        vertical-align: top;\n",
              "    }\n",
              "\n",
              "    .dataframe thead th {\n",
              "        text-align: right;\n",
              "    }\n",
              "</style>\n",
              "<table border=\"1\" class=\"dataframe\">\n",
              "  <thead>\n",
              "    <tr style=\"text-align: right;\">\n",
              "      <th></th>\n",
              "      <th>MERCHANT_CATEGORIZED_AT</th>\n",
              "      <th>MERCHANT_NAME</th>\n",
              "      <th>MERCHANT_CATEGORIZED_AS</th>\n",
              "      <th>PURCHASE_VALUE</th>\n",
              "      <th>PURCHASED_AT</th>\n",
              "      <th>USER_HOUSEHOLD</th>\n",
              "      <th>USER_INCOME</th>\n",
              "      <th>USER_ID</th>\n",
              "      <th>Transaction_ID</th>\n",
              "      <th>price_range</th>\n",
              "      <th>...</th>\n",
              "      <th>purchase_merch_mean</th>\n",
              "      <th>purchase_merch_count</th>\n",
              "      <th>income_min</th>\n",
              "      <th>income_max</th>\n",
              "      <th>income_sum</th>\n",
              "      <th>income_mean</th>\n",
              "      <th>IS_PURCHASE_PAID_VIA_MPESA_SEND_MONEY_False</th>\n",
              "      <th>IS_PURCHASE_PAID_VIA_MPESA_SEND_MONEY_True</th>\n",
              "      <th>USER_GENDER_Female</th>\n",
              "      <th>USER_GENDER_Male</th>\n",
              "    </tr>\n",
              "  </thead>\n",
              "  <tbody>\n",
              "    <tr>\n",
              "      <th>0</th>\n",
              "      <td>2022-05-04 10:25:50.588042+00</td>\n",
              "      <td>UONSDA CHURCH  MOGERE MWAYO TITHE</td>\n",
              "      <td>Rent / Mortgage</td>\n",
              "      <td>1700</td>\n",
              "      <td>2022-05-04 13:56:00+00</td>\n",
              "      <td>3</td>\n",
              "      <td>10000</td>\n",
              "      <td>ID_ZX4DCF4K</td>\n",
              "      <td>ID_04mk78fa</td>\n",
              "      <td>3</td>\n",
              "      <td>...</td>\n",
              "      <td>888.571429</td>\n",
              "      <td>7.0</td>\n",
              "      <td>10000.0</td>\n",
              "      <td>10000.0</td>\n",
              "      <td>70000.0</td>\n",
              "      <td>10000.000000</td>\n",
              "      <td>1</td>\n",
              "      <td>0</td>\n",
              "      <td>0</td>\n",
              "      <td>1</td>\n",
              "    </tr>\n",
              "    <tr>\n",
              "      <th>1</th>\n",
              "      <td>2021-10-25 16:18:38.586837+00</td>\n",
              "      <td>PARK N GO</td>\n",
              "      <td>Transport &amp; Fuel</td>\n",
              "      <td>100</td>\n",
              "      <td>2021-10-24 14:12:00+00</td>\n",
              "      <td>4</td>\n",
              "      <td>90000</td>\n",
              "      <td>ID_U9WZMGJZ</td>\n",
              "      <td>ID_04xkfb07</td>\n",
              "      <td>3</td>\n",
              "      <td>...</td>\n",
              "      <td>0.000000</td>\n",
              "      <td>0.0</td>\n",
              "      <td>0.0</td>\n",
              "      <td>0.0</td>\n",
              "      <td>0.0</td>\n",
              "      <td>0.000000</td>\n",
              "      <td>1</td>\n",
              "      <td>0</td>\n",
              "      <td>1</td>\n",
              "      <td>0</td>\n",
              "    </tr>\n",
              "    <tr>\n",
              "      <th>2</th>\n",
              "      <td>2022-05-20 14:17:30.917297+00</td>\n",
              "      <td>SAFARICOM OFFERS  TUNUKIWA</td>\n",
              "      <td>Data &amp; WiFi</td>\n",
              "      <td>20</td>\n",
              "      <td>2022-05-27 12:46:00+00</td>\n",
              "      <td>3</td>\n",
              "      <td>10000</td>\n",
              "      <td>ID_ZX4DCF4K</td>\n",
              "      <td>ID_051urwuw</td>\n",
              "      <td>3</td>\n",
              "      <td>...</td>\n",
              "      <td>41.930365</td>\n",
              "      <td>876.0</td>\n",
              "      <td>8000.0</td>\n",
              "      <td>350000.0</td>\n",
              "      <td>49761000.0</td>\n",
              "      <td>56804.794521</td>\n",
              "      <td>1</td>\n",
              "      <td>0</td>\n",
              "      <td>0</td>\n",
              "      <td>1</td>\n",
              "    </tr>\n",
              "  </tbody>\n",
              "</table>\n",
              "<p>3 rows × 39 columns</p>\n",
              "</div>\n",
              "      <button class=\"colab-df-convert\" onclick=\"convertToInteractive('df-2ddd3c4b-632c-47a4-b559-4b8ec0c36b47')\"\n",
              "              title=\"Convert this dataframe to an interactive table.\"\n",
              "              style=\"display:none;\">\n",
              "        \n",
              "  <svg xmlns=\"http://www.w3.org/2000/svg\" height=\"24px\"viewBox=\"0 0 24 24\"\n",
              "       width=\"24px\">\n",
              "    <path d=\"M0 0h24v24H0V0z\" fill=\"none\"/>\n",
              "    <path d=\"M18.56 5.44l.94 2.06.94-2.06 2.06-.94-2.06-.94-.94-2.06-.94 2.06-2.06.94zm-11 1L8.5 8.5l.94-2.06 2.06-.94-2.06-.94L8.5 2.5l-.94 2.06-2.06.94zm10 10l.94 2.06.94-2.06 2.06-.94-2.06-.94-.94-2.06-.94 2.06-2.06.94z\"/><path d=\"M17.41 7.96l-1.37-1.37c-.4-.4-.92-.59-1.43-.59-.52 0-1.04.2-1.43.59L10.3 9.45l-7.72 7.72c-.78.78-.78 2.05 0 2.83L4 21.41c.39.39.9.59 1.41.59.51 0 1.02-.2 1.41-.59l7.78-7.78 2.81-2.81c.8-.78.8-2.07 0-2.86zM5.41 20L4 18.59l7.72-7.72 1.47 1.35L5.41 20z\"/>\n",
              "  </svg>\n",
              "      </button>\n",
              "      \n",
              "  <style>\n",
              "    .colab-df-container {\n",
              "      display:flex;\n",
              "      flex-wrap:wrap;\n",
              "      gap: 12px;\n",
              "    }\n",
              "\n",
              "    .colab-df-convert {\n",
              "      background-color: #E8F0FE;\n",
              "      border: none;\n",
              "      border-radius: 50%;\n",
              "      cursor: pointer;\n",
              "      display: none;\n",
              "      fill: #1967D2;\n",
              "      height: 32px;\n",
              "      padding: 0 0 0 0;\n",
              "      width: 32px;\n",
              "    }\n",
              "\n",
              "    .colab-df-convert:hover {\n",
              "      background-color: #E2EBFA;\n",
              "      box-shadow: 0px 1px 2px rgba(60, 64, 67, 0.3), 0px 1px 3px 1px rgba(60, 64, 67, 0.15);\n",
              "      fill: #174EA6;\n",
              "    }\n",
              "\n",
              "    [theme=dark] .colab-df-convert {\n",
              "      background-color: #3B4455;\n",
              "      fill: #D2E3FC;\n",
              "    }\n",
              "\n",
              "    [theme=dark] .colab-df-convert:hover {\n",
              "      background-color: #434B5C;\n",
              "      box-shadow: 0px 1px 3px 1px rgba(0, 0, 0, 0.15);\n",
              "      filter: drop-shadow(0px 1px 2px rgba(0, 0, 0, 0.3));\n",
              "      fill: #FFFFFF;\n",
              "    }\n",
              "  </style>\n",
              "\n",
              "      <script>\n",
              "        const buttonEl =\n",
              "          document.querySelector('#df-2ddd3c4b-632c-47a4-b559-4b8ec0c36b47 button.colab-df-convert');\n",
              "        buttonEl.style.display =\n",
              "          google.colab.kernel.accessAllowed ? 'block' : 'none';\n",
              "\n",
              "        async function convertToInteractive(key) {\n",
              "          const element = document.querySelector('#df-2ddd3c4b-632c-47a4-b559-4b8ec0c36b47');\n",
              "          const dataTable =\n",
              "            await google.colab.kernel.invokeFunction('convertToInteractive',\n",
              "                                                     [key], {});\n",
              "          if (!dataTable) return;\n",
              "\n",
              "          const docLinkHtml = 'Like what you see? Visit the ' +\n",
              "            '<a target=\"_blank\" href=https://colab.research.google.com/notebooks/data_table.ipynb>data table notebook</a>'\n",
              "            + ' to learn more about interactive tables.';\n",
              "          element.innerHTML = '';\n",
              "          dataTable['output_type'] = 'display_data';\n",
              "          await google.colab.output.renderOutput(dataTable, element);\n",
              "          const docLink = document.createElement('div');\n",
              "          docLink.innerHTML = docLinkHtml;\n",
              "          element.appendChild(docLink);\n",
              "        }\n",
              "      </script>\n",
              "    </div>\n",
              "  </div>\n",
              "  "
            ]
          },
          "metadata": {},
          "execution_count": 499
        }
      ],
      "source": [
        "data = pd.get_dummies(data, columns = [\n",
        "'IS_PURCHASE_PAID_VIA_MPESA_SEND_MONEY','USER_GENDER',\n",
        "\n",
        "])\n",
        "data.head(3)"
      ]
    },
    {
      "cell_type": "markdown",
      "metadata": {
        "id": "K5ux53fnk3z4"
      },
      "source": [
        "##  Label Encoding"
      ]
    },
    {
      "cell_type": "code",
      "execution_count": 500,
      "metadata": {
        "id": "t00Sbnb5k3z5"
      },
      "outputs": [],
      "source": [
        "cat_columns = ['MERCHANT_CATEGORIZED_AS',  'USER_ID', 'Transaction_ID',\n",
        "       'MERCHANT_NAME'\n",
        "]\n"
      ]
    },
    {
      "cell_type": "code",
      "execution_count": 501,
      "metadata": {
        "id": "kiZ_MOo2k3z6"
      },
      "outputs": [],
      "source": [
        "from sklearn.preprocessing import LabelEncoder\n",
        "le = LabelEncoder()\n",
        "\n",
        "le_columns = [col for col in cat_columns if col not in ['MERCHANT_CATEGORIZED_AS','Transaction_ID']]\n",
        "\n",
        "for col in le_columns:\n",
        "   data[col] = le.fit_transform(data[col])"
      ]
    },
    {
      "cell_type": "code",
      "execution_count": 502,
      "metadata": {
        "colab": {
          "base_uri": "https://localhost:8080/",
          "height": 387
        },
        "id": "xdHFQOjLk3z7",
        "outputId": "f22b9535-c850-4a58-f64e-c4ef2e44e6ca"
      },
      "outputs": [
        {
          "output_type": "execute_result",
          "data": {
            "text/plain": [
              "         MERCHANT_CATEGORIZED_AT  MERCHANT_NAME MERCHANT_CATEGORIZED_AS  \\\n",
              "0  2022-05-04 10:25:50.588042+00            413         Rent / Mortgage   \n",
              "1  2021-10-25 16:18:38.586837+00            299        Transport & Fuel   \n",
              "2  2022-05-20 14:17:30.917297+00            348             Data & WiFi   \n",
              "3  2022-04-12 15:59:14.139347+00            434          Loan Repayment   \n",
              "4  2022-05-04 10:24:26.709045+00            244            Bills & Fees   \n",
              "\n",
              "   PURCHASE_VALUE            PURCHASED_AT  USER_HOUSEHOLD  USER_INCOME  \\\n",
              "0            1700  2022-05-04 13:56:00+00               3        10000   \n",
              "1             100  2021-10-24 14:12:00+00               4        90000   \n",
              "2              20  2022-05-27 12:46:00+00               3        10000   \n",
              "3            3800  2022-02-07 12:16:00+00               5       252000   \n",
              "4              60  2022-05-04 15:28:00+00               3        10000   \n",
              "\n",
              "   USER_ID Transaction_ID  price_range  ...  purchase_merch_mean  \\\n",
              "0       29    ID_04mk78fa            3  ...           888.571429   \n",
              "1       25    ID_04xkfb07            3  ...             0.000000   \n",
              "2       29    ID_051urwuw            3  ...            41.930365   \n",
              "3        3    ID_0e1om7rz            3  ...             0.000000   \n",
              "4       29    ID_0kfcoawb            3  ...            60.000000   \n",
              "\n",
              "   purchase_merch_count  income_min  income_max  income_sum   income_mean  \\\n",
              "0                   7.0     10000.0     10000.0     70000.0  10000.000000   \n",
              "1                   0.0         0.0         0.0         0.0      0.000000   \n",
              "2                 876.0      8000.0    350000.0  49761000.0  56804.794521   \n",
              "3                   0.0         0.0         0.0         0.0      0.000000   \n",
              "4                  10.0     10000.0     30000.0    140000.0  14000.000000   \n",
              "\n",
              "   IS_PURCHASE_PAID_VIA_MPESA_SEND_MONEY_False  \\\n",
              "0                                            1   \n",
              "1                                            1   \n",
              "2                                            1   \n",
              "3                                            1   \n",
              "4                                            1   \n",
              "\n",
              "   IS_PURCHASE_PAID_VIA_MPESA_SEND_MONEY_True  USER_GENDER_Female  \\\n",
              "0                                           0                   0   \n",
              "1                                           0                   1   \n",
              "2                                           0                   0   \n",
              "3                                           0                   0   \n",
              "4                                           0                   0   \n",
              "\n",
              "   USER_GENDER_Male  \n",
              "0                 1  \n",
              "1                 0  \n",
              "2                 1  \n",
              "3                 1  \n",
              "4                 1  \n",
              "\n",
              "[5 rows x 39 columns]"
            ],
            "text/html": [
              "\n",
              "  <div id=\"df-f57da756-a9a6-4f09-85ac-5fdcce8ee151\">\n",
              "    <div class=\"colab-df-container\">\n",
              "      <div>\n",
              "<style scoped>\n",
              "    .dataframe tbody tr th:only-of-type {\n",
              "        vertical-align: middle;\n",
              "    }\n",
              "\n",
              "    .dataframe tbody tr th {\n",
              "        vertical-align: top;\n",
              "    }\n",
              "\n",
              "    .dataframe thead th {\n",
              "        text-align: right;\n",
              "    }\n",
              "</style>\n",
              "<table border=\"1\" class=\"dataframe\">\n",
              "  <thead>\n",
              "    <tr style=\"text-align: right;\">\n",
              "      <th></th>\n",
              "      <th>MERCHANT_CATEGORIZED_AT</th>\n",
              "      <th>MERCHANT_NAME</th>\n",
              "      <th>MERCHANT_CATEGORIZED_AS</th>\n",
              "      <th>PURCHASE_VALUE</th>\n",
              "      <th>PURCHASED_AT</th>\n",
              "      <th>USER_HOUSEHOLD</th>\n",
              "      <th>USER_INCOME</th>\n",
              "      <th>USER_ID</th>\n",
              "      <th>Transaction_ID</th>\n",
              "      <th>price_range</th>\n",
              "      <th>...</th>\n",
              "      <th>purchase_merch_mean</th>\n",
              "      <th>purchase_merch_count</th>\n",
              "      <th>income_min</th>\n",
              "      <th>income_max</th>\n",
              "      <th>income_sum</th>\n",
              "      <th>income_mean</th>\n",
              "      <th>IS_PURCHASE_PAID_VIA_MPESA_SEND_MONEY_False</th>\n",
              "      <th>IS_PURCHASE_PAID_VIA_MPESA_SEND_MONEY_True</th>\n",
              "      <th>USER_GENDER_Female</th>\n",
              "      <th>USER_GENDER_Male</th>\n",
              "    </tr>\n",
              "  </thead>\n",
              "  <tbody>\n",
              "    <tr>\n",
              "      <th>0</th>\n",
              "      <td>2022-05-04 10:25:50.588042+00</td>\n",
              "      <td>413</td>\n",
              "      <td>Rent / Mortgage</td>\n",
              "      <td>1700</td>\n",
              "      <td>2022-05-04 13:56:00+00</td>\n",
              "      <td>3</td>\n",
              "      <td>10000</td>\n",
              "      <td>29</td>\n",
              "      <td>ID_04mk78fa</td>\n",
              "      <td>3</td>\n",
              "      <td>...</td>\n",
              "      <td>888.571429</td>\n",
              "      <td>7.0</td>\n",
              "      <td>10000.0</td>\n",
              "      <td>10000.0</td>\n",
              "      <td>70000.0</td>\n",
              "      <td>10000.000000</td>\n",
              "      <td>1</td>\n",
              "      <td>0</td>\n",
              "      <td>0</td>\n",
              "      <td>1</td>\n",
              "    </tr>\n",
              "    <tr>\n",
              "      <th>1</th>\n",
              "      <td>2021-10-25 16:18:38.586837+00</td>\n",
              "      <td>299</td>\n",
              "      <td>Transport &amp; Fuel</td>\n",
              "      <td>100</td>\n",
              "      <td>2021-10-24 14:12:00+00</td>\n",
              "      <td>4</td>\n",
              "      <td>90000</td>\n",
              "      <td>25</td>\n",
              "      <td>ID_04xkfb07</td>\n",
              "      <td>3</td>\n",
              "      <td>...</td>\n",
              "      <td>0.000000</td>\n",
              "      <td>0.0</td>\n",
              "      <td>0.0</td>\n",
              "      <td>0.0</td>\n",
              "      <td>0.0</td>\n",
              "      <td>0.000000</td>\n",
              "      <td>1</td>\n",
              "      <td>0</td>\n",
              "      <td>1</td>\n",
              "      <td>0</td>\n",
              "    </tr>\n",
              "    <tr>\n",
              "      <th>2</th>\n",
              "      <td>2022-05-20 14:17:30.917297+00</td>\n",
              "      <td>348</td>\n",
              "      <td>Data &amp; WiFi</td>\n",
              "      <td>20</td>\n",
              "      <td>2022-05-27 12:46:00+00</td>\n",
              "      <td>3</td>\n",
              "      <td>10000</td>\n",
              "      <td>29</td>\n",
              "      <td>ID_051urwuw</td>\n",
              "      <td>3</td>\n",
              "      <td>...</td>\n",
              "      <td>41.930365</td>\n",
              "      <td>876.0</td>\n",
              "      <td>8000.0</td>\n",
              "      <td>350000.0</td>\n",
              "      <td>49761000.0</td>\n",
              "      <td>56804.794521</td>\n",
              "      <td>1</td>\n",
              "      <td>0</td>\n",
              "      <td>0</td>\n",
              "      <td>1</td>\n",
              "    </tr>\n",
              "    <tr>\n",
              "      <th>3</th>\n",
              "      <td>2022-04-12 15:59:14.139347+00</td>\n",
              "      <td>434</td>\n",
              "      <td>Loan Repayment</td>\n",
              "      <td>3800</td>\n",
              "      <td>2022-02-07 12:16:00+00</td>\n",
              "      <td>5</td>\n",
              "      <td>252000</td>\n",
              "      <td>3</td>\n",
              "      <td>ID_0e1om7rz</td>\n",
              "      <td>3</td>\n",
              "      <td>...</td>\n",
              "      <td>0.000000</td>\n",
              "      <td>0.0</td>\n",
              "      <td>0.0</td>\n",
              "      <td>0.0</td>\n",
              "      <td>0.0</td>\n",
              "      <td>0.000000</td>\n",
              "      <td>1</td>\n",
              "      <td>0</td>\n",
              "      <td>0</td>\n",
              "      <td>1</td>\n",
              "    </tr>\n",
              "    <tr>\n",
              "      <th>4</th>\n",
              "      <td>2022-05-04 10:24:26.709045+00</td>\n",
              "      <td>244</td>\n",
              "      <td>Bills &amp; Fees</td>\n",
              "      <td>60</td>\n",
              "      <td>2022-05-04 15:28:00+00</td>\n",
              "      <td>3</td>\n",
              "      <td>10000</td>\n",
              "      <td>29</td>\n",
              "      <td>ID_0kfcoawb</td>\n",
              "      <td>3</td>\n",
              "      <td>...</td>\n",
              "      <td>60.000000</td>\n",
              "      <td>10.0</td>\n",
              "      <td>10000.0</td>\n",
              "      <td>30000.0</td>\n",
              "      <td>140000.0</td>\n",
              "      <td>14000.000000</td>\n",
              "      <td>1</td>\n",
              "      <td>0</td>\n",
              "      <td>0</td>\n",
              "      <td>1</td>\n",
              "    </tr>\n",
              "  </tbody>\n",
              "</table>\n",
              "<p>5 rows × 39 columns</p>\n",
              "</div>\n",
              "      <button class=\"colab-df-convert\" onclick=\"convertToInteractive('df-f57da756-a9a6-4f09-85ac-5fdcce8ee151')\"\n",
              "              title=\"Convert this dataframe to an interactive table.\"\n",
              "              style=\"display:none;\">\n",
              "        \n",
              "  <svg xmlns=\"http://www.w3.org/2000/svg\" height=\"24px\"viewBox=\"0 0 24 24\"\n",
              "       width=\"24px\">\n",
              "    <path d=\"M0 0h24v24H0V0z\" fill=\"none\"/>\n",
              "    <path d=\"M18.56 5.44l.94 2.06.94-2.06 2.06-.94-2.06-.94-.94-2.06-.94 2.06-2.06.94zm-11 1L8.5 8.5l.94-2.06 2.06-.94-2.06-.94L8.5 2.5l-.94 2.06-2.06.94zm10 10l.94 2.06.94-2.06 2.06-.94-2.06-.94-.94-2.06-.94 2.06-2.06.94z\"/><path d=\"M17.41 7.96l-1.37-1.37c-.4-.4-.92-.59-1.43-.59-.52 0-1.04.2-1.43.59L10.3 9.45l-7.72 7.72c-.78.78-.78 2.05 0 2.83L4 21.41c.39.39.9.59 1.41.59.51 0 1.02-.2 1.41-.59l7.78-7.78 2.81-2.81c.8-.78.8-2.07 0-2.86zM5.41 20L4 18.59l7.72-7.72 1.47 1.35L5.41 20z\"/>\n",
              "  </svg>\n",
              "      </button>\n",
              "      \n",
              "  <style>\n",
              "    .colab-df-container {\n",
              "      display:flex;\n",
              "      flex-wrap:wrap;\n",
              "      gap: 12px;\n",
              "    }\n",
              "\n",
              "    .colab-df-convert {\n",
              "      background-color: #E8F0FE;\n",
              "      border: none;\n",
              "      border-radius: 50%;\n",
              "      cursor: pointer;\n",
              "      display: none;\n",
              "      fill: #1967D2;\n",
              "      height: 32px;\n",
              "      padding: 0 0 0 0;\n",
              "      width: 32px;\n",
              "    }\n",
              "\n",
              "    .colab-df-convert:hover {\n",
              "      background-color: #E2EBFA;\n",
              "      box-shadow: 0px 1px 2px rgba(60, 64, 67, 0.3), 0px 1px 3px 1px rgba(60, 64, 67, 0.15);\n",
              "      fill: #174EA6;\n",
              "    }\n",
              "\n",
              "    [theme=dark] .colab-df-convert {\n",
              "      background-color: #3B4455;\n",
              "      fill: #D2E3FC;\n",
              "    }\n",
              "\n",
              "    [theme=dark] .colab-df-convert:hover {\n",
              "      background-color: #434B5C;\n",
              "      box-shadow: 0px 1px 3px 1px rgba(0, 0, 0, 0.15);\n",
              "      filter: drop-shadow(0px 1px 2px rgba(0, 0, 0, 0.3));\n",
              "      fill: #FFFFFF;\n",
              "    }\n",
              "  </style>\n",
              "\n",
              "      <script>\n",
              "        const buttonEl =\n",
              "          document.querySelector('#df-f57da756-a9a6-4f09-85ac-5fdcce8ee151 button.colab-df-convert');\n",
              "        buttonEl.style.display =\n",
              "          google.colab.kernel.accessAllowed ? 'block' : 'none';\n",
              "\n",
              "        async function convertToInteractive(key) {\n",
              "          const element = document.querySelector('#df-f57da756-a9a6-4f09-85ac-5fdcce8ee151');\n",
              "          const dataTable =\n",
              "            await google.colab.kernel.invokeFunction('convertToInteractive',\n",
              "                                                     [key], {});\n",
              "          if (!dataTable) return;\n",
              "\n",
              "          const docLinkHtml = 'Like what you see? Visit the ' +\n",
              "            '<a target=\"_blank\" href=https://colab.research.google.com/notebooks/data_table.ipynb>data table notebook</a>'\n",
              "            + ' to learn more about interactive tables.';\n",
              "          element.innerHTML = '';\n",
              "          dataTable['output_type'] = 'display_data';\n",
              "          await google.colab.output.renderOutput(dataTable, element);\n",
              "          const docLink = document.createElement('div');\n",
              "          docLink.innerHTML = docLinkHtml;\n",
              "          element.appendChild(docLink);\n",
              "        }\n",
              "      </script>\n",
              "    </div>\n",
              "  </div>\n",
              "  "
            ]
          },
          "metadata": {},
          "execution_count": 502
        }
      ],
      "source": [
        "data.head()"
      ]
    },
    {
      "cell_type": "markdown",
      "metadata": {
        "id": "-P6DNLCTk3z7"
      },
      "source": [
        "## Continous Features\n",
        "* The only continous feature we had was purchase_value\n"
      ]
    },
    {
      "cell_type": "markdown",
      "metadata": {
        "id": "9v4wy_Opk3z7"
      },
      "source": [
        "###  Add statistical Information on the Numerical Columns\n",
        "* did not work because the numerical columns behaved as levels of some sort so left it out"
      ]
    },
    {
      "cell_type": "code",
      "execution_count": 503,
      "metadata": {
        "id": "-XkT6lVNk3z7"
      },
      "outputs": [],
      "source": [
        "# num_cols = ['PURCHASE_VALUE']"
      ]
    },
    {
      "cell_type": "code",
      "execution_count": 504,
      "metadata": {
        "id": "ph8VLLKzk3z7"
      },
      "outputs": [],
      "source": [
        "# def add_stats(data, feats):\n",
        "    \n",
        "#     before_ = data.shape[1]\n",
        "#     cols = feats\n",
        "#     data['f_min']   = data[cols].fillna(0).min(axis = 1)\n",
        "#     data['f_max']   = data[cols].fillna(0).max(axis = 1)\n",
        "#     data['f_mean']  = data[cols].fillna(0).mean(axis = 1)\n",
        "#     data['f_sd']    = data[cols].fillna(0).std(axis = 1)\n",
        "#     data['f_median']= data[cols].fillna(0).median(axis = 1)\n",
        "#     data['f_sum']   = data[cols].fillna(0).sum(axis = 1)\n",
        "#     data['f_skew']  = data[cols].fillna(0).skew(axis=1)\n",
        "\n",
        "#     after_ = data.shape[1]\n",
        "#     new_cols = data.iloc[:,before_:after_].columns.tolist()\n",
        "    \n",
        "#     return data, new_cols"
      ]
    },
    {
      "cell_type": "code",
      "execution_count": 505,
      "metadata": {
        "id": "L5jxYZlok3z7"
      },
      "outputs": [],
      "source": [
        "# data, stat_cols = add_stats(data, [col for col in num_cols])"
      ]
    },
    {
      "cell_type": "code",
      "execution_count": 506,
      "metadata": {
        "id": "xv9FheyNk3z9"
      },
      "outputs": [],
      "source": [
        "# data.head()"
      ]
    },
    {
      "cell_type": "code",
      "execution_count": 507,
      "metadata": {
        "colab": {
          "base_uri": "https://localhost:8080/"
        },
        "id": "8kA-Gf9vk3z9",
        "outputId": "03332870-afa5-4018-f8a6-fe42847fdff0"
      },
      "outputs": [
        {
          "output_type": "execute_result",
          "data": {
            "text/plain": [
              "MERCHANT_CATEGORIZED_AT                          0\n",
              "MERCHANT_NAME                                    0\n",
              "MERCHANT_CATEGORIZED_AS                        558\n",
              "PURCHASE_VALUE                                   0\n",
              "PURCHASED_AT                                     0\n",
              "USER_HOUSEHOLD                                   0\n",
              "USER_INCOME                                      0\n",
              "USER_ID                                          0\n",
              "Transaction_ID                                   0\n",
              "price_range                                      0\n",
              "income_range                                     0\n",
              "prod_PURCHASE_INCOME                             0\n",
              "count_PURCHASE_VALUE                             0\n",
              "count_USER_INCOME                                0\n",
              "count_USER_HOUSEHOLD                             0\n",
              "count_MERCHANT_NAME                              0\n",
              "MERCHANT_NAME_bins                               0\n",
              "bins_purchase_merch_min                          0\n",
              "bins_purchase_merch_max                          0\n",
              "bins_purchase_merch_sum                          0\n",
              "bins_purchase_merch_mean                         0\n",
              "bins_purchase_merch_count                        0\n",
              "bins_income_min                                  0\n",
              "bins_income_max                                  0\n",
              "bins_income_sum                                  0\n",
              "bins_income_mean                                 0\n",
              "purchase_merch_min                               0\n",
              "purchase_merch_max                               0\n",
              "purchase_merch_sum                               0\n",
              "purchase_merch_mean                              0\n",
              "purchase_merch_count                             0\n",
              "income_min                                       0\n",
              "income_max                                       0\n",
              "income_sum                                       0\n",
              "income_mean                                      0\n",
              "IS_PURCHASE_PAID_VIA_MPESA_SEND_MONEY_False      0\n",
              "IS_PURCHASE_PAID_VIA_MPESA_SEND_MONEY_True       0\n",
              "USER_GENDER_Female                               0\n",
              "USER_GENDER_Male                                 0\n",
              "dtype: int64"
            ]
          },
          "metadata": {},
          "execution_count": 507
        }
      ],
      "source": [
        "data.isnull().sum()"
      ]
    },
    {
      "cell_type": "markdown",
      "metadata": {
        "id": "e7dZHt0Lk3z-"
      },
      "source": [
        "## Generate Date Features and count encode some of them\n",
        "* Here count encoding of some helped as seen in the model later\n",
        "* Those which didnt i dropped them"
      ]
    },
    {
      "cell_type": "code",
      "execution_count": 508,
      "metadata": {
        "id": "HwVXrjmKk3z-"
      },
      "outputs": [],
      "source": [
        "def basic_features(data, col):\n",
        "\n",
        "    data[col+'year'] = data[col].dt.year\n",
        "    data[col+'year'] = data[col+'year']-min(data[col+'year'])\n",
        "    data[col+'month'] = data[col].dt.month\n",
        "    data[col+'dayofweek'] = data[col].dt.dayofweek\n",
        "    \n",
        "\n",
        "    return data\n",
        "\n",
        "def ddiff_features(data, col1, col2):\n",
        "    \n",
        "    data[col1] = pd.to_datetime(data[col1])\n",
        "    data[col2] = pd.to_datetime(data[col2])\n",
        "    data['MD_'+col1+col2] = ((data[col1] - data[col2])/np.timedelta64(1, 'M')).astype(int, errors='ignore')\n",
        "    data['YD_'+col1+col2] = ((data[col1] - data[col2])/np.timedelta64(1, 'Y')).astype(int, errors='ignore')\n",
        "    data['DD_'+col1+col2] = ((data[col1] - data[col2])/np.timedelta64(1, 'D')).astype(int, errors='ignore')\n",
        "    \n",
        "    return data\n"
      ]
    },
    {
      "cell_type": "code",
      "execution_count": 509,
      "metadata": {
        "id": "S_pUBnEgk3z-"
      },
      "outputs": [],
      "source": [
        "data['PURCHASED_AT'] = pd.to_datetime(data['PURCHASED_AT'])\n",
        "data['MERCHANT_CATEGORIZED_AT'] = pd.to_datetime(data['MERCHANT_CATEGORIZED_AT'])"
      ]
    },
    {
      "cell_type": "code",
      "execution_count": 510,
      "metadata": {
        "id": "D-F2AJybk3z-"
      },
      "outputs": [],
      "source": [
        "data = basic_features(data, 'PURCHASED_AT')\n",
        "data = basic_features(data,'MERCHANT_CATEGORIZED_AT')"
      ]
    },
    {
      "cell_type": "code",
      "execution_count": 511,
      "metadata": {
        "id": "l5iqnEKok3z_"
      },
      "outputs": [],
      "source": [
        "data = ddiff_features(data, 'PURCHASED_AT','MERCHANT_CATEGORIZED_AT')"
      ]
    },
    {
      "cell_type": "code",
      "execution_count": 512,
      "metadata": {
        "id": "agsFeL24k3z_",
        "outputId": "1e51a630-8b50-48fb-a354-c5ee6e7fffb9",
        "colab": {
          "base_uri": "https://localhost:8080/"
        }
      },
      "outputs": [
        {
          "output_type": "execute_result",
          "data": {
            "text/plain": [
              "(931, 46)"
            ]
          },
          "metadata": {},
          "execution_count": 512
        }
      ],
      "source": [
        "data = data.drop(columns = ['PURCHASED_AT','MERCHANT_CATEGORIZED_AT'])\n",
        "data.shape"
      ]
    },
    {
      "cell_type": "code",
      "execution_count": 513,
      "metadata": {
        "id": "QKmUdJDyk3z_"
      },
      "outputs": [],
      "source": [
        "# data['month_day'] = data['PURCHASED_ATmonth'].astype(str) + '_' + data['PURCHASED_ATday'].astype(str)\n",
        "# data['month_wkday'] = data['PURCHASED_ATmonth'].astype(str) + '_' + data['PURCHASED_ATdayofweek'].astype(str)"
      ]
    },
    {
      "cell_type": "code",
      "execution_count": 514,
      "metadata": {
        "id": "Lqpekn07k30A",
        "outputId": "410c4fad-d274-4428-a44d-19277937c6c7",
        "colab": {
          "base_uri": "https://localhost:8080/",
          "height": 300
        }
      },
      "outputs": [
        {
          "output_type": "execute_result",
          "data": {
            "text/plain": [
              "   MERCHANT_NAME MERCHANT_CATEGORIZED_AS  PURCHASE_VALUE  USER_HOUSEHOLD  \\\n",
              "0            413         Rent / Mortgage            1700               3   \n",
              "1            299        Transport & Fuel             100               4   \n",
              "2            348             Data & WiFi              20               3   \n",
              "3            434          Loan Repayment            3800               5   \n",
              "4            244            Bills & Fees              60               3   \n",
              "\n",
              "   USER_INCOME  USER_ID Transaction_ID  price_range  income_range  \\\n",
              "0        10000       29    ID_04mk78fa            3             3   \n",
              "1        90000       25    ID_04xkfb07            3             0   \n",
              "2        10000       29    ID_051urwuw            3             3   \n",
              "3       252000        3    ID_0e1om7rz            3             0   \n",
              "4        10000       29    ID_0kfcoawb            3             3   \n",
              "\n",
              "   prod_PURCHASE_INCOME  ...  USER_GENDER_Male  PURCHASED_ATyear  \\\n",
              "0              0.170000  ...                 1                 4   \n",
              "1              0.001111  ...                 0                 3   \n",
              "2              0.002000  ...                 1                 4   \n",
              "3              0.015079  ...                 1                 4   \n",
              "4              0.006000  ...                 1                 4   \n",
              "\n",
              "   PURCHASED_ATmonth  PURCHASED_ATdayofweek  MERCHANT_CATEGORIZED_ATyear  \\\n",
              "0                  5                      2                            1   \n",
              "1                 10                      6                            0   \n",
              "2                  5                      4                            1   \n",
              "3                  2                      0                            1   \n",
              "4                  5                      2                            1   \n",
              "\n",
              "   MERCHANT_CATEGORIZED_ATmonth  MERCHANT_CATEGORIZED_ATdayofweek  \\\n",
              "0                             5                                 2   \n",
              "1                            10                                 0   \n",
              "2                             5                                 4   \n",
              "3                             4                                 1   \n",
              "4                             5                                 2   \n",
              "\n",
              "   MD_PURCHASED_ATMERCHANT_CATEGORIZED_AT  \\\n",
              "0                                       0   \n",
              "1                                       0   \n",
              "2                                       0   \n",
              "3                                      -2   \n",
              "4                                       0   \n",
              "\n",
              "   YD_PURCHASED_ATMERCHANT_CATEGORIZED_AT  \\\n",
              "0                                       0   \n",
              "1                                       0   \n",
              "2                                       0   \n",
              "3                                       0   \n",
              "4                                       0   \n",
              "\n",
              "   DD_PURCHASED_ATMERCHANT_CATEGORIZED_AT  \n",
              "0                                       0  \n",
              "1                                      -1  \n",
              "2                                       6  \n",
              "3                                     -64  \n",
              "4                                       0  \n",
              "\n",
              "[5 rows x 46 columns]"
            ],
            "text/html": [
              "\n",
              "  <div id=\"df-4d8d72f5-c5a2-4b31-8b19-b36d4111085e\">\n",
              "    <div class=\"colab-df-container\">\n",
              "      <div>\n",
              "<style scoped>\n",
              "    .dataframe tbody tr th:only-of-type {\n",
              "        vertical-align: middle;\n",
              "    }\n",
              "\n",
              "    .dataframe tbody tr th {\n",
              "        vertical-align: top;\n",
              "    }\n",
              "\n",
              "    .dataframe thead th {\n",
              "        text-align: right;\n",
              "    }\n",
              "</style>\n",
              "<table border=\"1\" class=\"dataframe\">\n",
              "  <thead>\n",
              "    <tr style=\"text-align: right;\">\n",
              "      <th></th>\n",
              "      <th>MERCHANT_NAME</th>\n",
              "      <th>MERCHANT_CATEGORIZED_AS</th>\n",
              "      <th>PURCHASE_VALUE</th>\n",
              "      <th>USER_HOUSEHOLD</th>\n",
              "      <th>USER_INCOME</th>\n",
              "      <th>USER_ID</th>\n",
              "      <th>Transaction_ID</th>\n",
              "      <th>price_range</th>\n",
              "      <th>income_range</th>\n",
              "      <th>prod_PURCHASE_INCOME</th>\n",
              "      <th>...</th>\n",
              "      <th>USER_GENDER_Male</th>\n",
              "      <th>PURCHASED_ATyear</th>\n",
              "      <th>PURCHASED_ATmonth</th>\n",
              "      <th>PURCHASED_ATdayofweek</th>\n",
              "      <th>MERCHANT_CATEGORIZED_ATyear</th>\n",
              "      <th>MERCHANT_CATEGORIZED_ATmonth</th>\n",
              "      <th>MERCHANT_CATEGORIZED_ATdayofweek</th>\n",
              "      <th>MD_PURCHASED_ATMERCHANT_CATEGORIZED_AT</th>\n",
              "      <th>YD_PURCHASED_ATMERCHANT_CATEGORIZED_AT</th>\n",
              "      <th>DD_PURCHASED_ATMERCHANT_CATEGORIZED_AT</th>\n",
              "    </tr>\n",
              "  </thead>\n",
              "  <tbody>\n",
              "    <tr>\n",
              "      <th>0</th>\n",
              "      <td>413</td>\n",
              "      <td>Rent / Mortgage</td>\n",
              "      <td>1700</td>\n",
              "      <td>3</td>\n",
              "      <td>10000</td>\n",
              "      <td>29</td>\n",
              "      <td>ID_04mk78fa</td>\n",
              "      <td>3</td>\n",
              "      <td>3</td>\n",
              "      <td>0.170000</td>\n",
              "      <td>...</td>\n",
              "      <td>1</td>\n",
              "      <td>4</td>\n",
              "      <td>5</td>\n",
              "      <td>2</td>\n",
              "      <td>1</td>\n",
              "      <td>5</td>\n",
              "      <td>2</td>\n",
              "      <td>0</td>\n",
              "      <td>0</td>\n",
              "      <td>0</td>\n",
              "    </tr>\n",
              "    <tr>\n",
              "      <th>1</th>\n",
              "      <td>299</td>\n",
              "      <td>Transport &amp; Fuel</td>\n",
              "      <td>100</td>\n",
              "      <td>4</td>\n",
              "      <td>90000</td>\n",
              "      <td>25</td>\n",
              "      <td>ID_04xkfb07</td>\n",
              "      <td>3</td>\n",
              "      <td>0</td>\n",
              "      <td>0.001111</td>\n",
              "      <td>...</td>\n",
              "      <td>0</td>\n",
              "      <td>3</td>\n",
              "      <td>10</td>\n",
              "      <td>6</td>\n",
              "      <td>0</td>\n",
              "      <td>10</td>\n",
              "      <td>0</td>\n",
              "      <td>0</td>\n",
              "      <td>0</td>\n",
              "      <td>-1</td>\n",
              "    </tr>\n",
              "    <tr>\n",
              "      <th>2</th>\n",
              "      <td>348</td>\n",
              "      <td>Data &amp; WiFi</td>\n",
              "      <td>20</td>\n",
              "      <td>3</td>\n",
              "      <td>10000</td>\n",
              "      <td>29</td>\n",
              "      <td>ID_051urwuw</td>\n",
              "      <td>3</td>\n",
              "      <td>3</td>\n",
              "      <td>0.002000</td>\n",
              "      <td>...</td>\n",
              "      <td>1</td>\n",
              "      <td>4</td>\n",
              "      <td>5</td>\n",
              "      <td>4</td>\n",
              "      <td>1</td>\n",
              "      <td>5</td>\n",
              "      <td>4</td>\n",
              "      <td>0</td>\n",
              "      <td>0</td>\n",
              "      <td>6</td>\n",
              "    </tr>\n",
              "    <tr>\n",
              "      <th>3</th>\n",
              "      <td>434</td>\n",
              "      <td>Loan Repayment</td>\n",
              "      <td>3800</td>\n",
              "      <td>5</td>\n",
              "      <td>252000</td>\n",
              "      <td>3</td>\n",
              "      <td>ID_0e1om7rz</td>\n",
              "      <td>3</td>\n",
              "      <td>0</td>\n",
              "      <td>0.015079</td>\n",
              "      <td>...</td>\n",
              "      <td>1</td>\n",
              "      <td>4</td>\n",
              "      <td>2</td>\n",
              "      <td>0</td>\n",
              "      <td>1</td>\n",
              "      <td>4</td>\n",
              "      <td>1</td>\n",
              "      <td>-2</td>\n",
              "      <td>0</td>\n",
              "      <td>-64</td>\n",
              "    </tr>\n",
              "    <tr>\n",
              "      <th>4</th>\n",
              "      <td>244</td>\n",
              "      <td>Bills &amp; Fees</td>\n",
              "      <td>60</td>\n",
              "      <td>3</td>\n",
              "      <td>10000</td>\n",
              "      <td>29</td>\n",
              "      <td>ID_0kfcoawb</td>\n",
              "      <td>3</td>\n",
              "      <td>3</td>\n",
              "      <td>0.006000</td>\n",
              "      <td>...</td>\n",
              "      <td>1</td>\n",
              "      <td>4</td>\n",
              "      <td>5</td>\n",
              "      <td>2</td>\n",
              "      <td>1</td>\n",
              "      <td>5</td>\n",
              "      <td>2</td>\n",
              "      <td>0</td>\n",
              "      <td>0</td>\n",
              "      <td>0</td>\n",
              "    </tr>\n",
              "  </tbody>\n",
              "</table>\n",
              "<p>5 rows × 46 columns</p>\n",
              "</div>\n",
              "      <button class=\"colab-df-convert\" onclick=\"convertToInteractive('df-4d8d72f5-c5a2-4b31-8b19-b36d4111085e')\"\n",
              "              title=\"Convert this dataframe to an interactive table.\"\n",
              "              style=\"display:none;\">\n",
              "        \n",
              "  <svg xmlns=\"http://www.w3.org/2000/svg\" height=\"24px\"viewBox=\"0 0 24 24\"\n",
              "       width=\"24px\">\n",
              "    <path d=\"M0 0h24v24H0V0z\" fill=\"none\"/>\n",
              "    <path d=\"M18.56 5.44l.94 2.06.94-2.06 2.06-.94-2.06-.94-.94-2.06-.94 2.06-2.06.94zm-11 1L8.5 8.5l.94-2.06 2.06-.94-2.06-.94L8.5 2.5l-.94 2.06-2.06.94zm10 10l.94 2.06.94-2.06 2.06-.94-2.06-.94-.94-2.06-.94 2.06-2.06.94z\"/><path d=\"M17.41 7.96l-1.37-1.37c-.4-.4-.92-.59-1.43-.59-.52 0-1.04.2-1.43.59L10.3 9.45l-7.72 7.72c-.78.78-.78 2.05 0 2.83L4 21.41c.39.39.9.59 1.41.59.51 0 1.02-.2 1.41-.59l7.78-7.78 2.81-2.81c.8-.78.8-2.07 0-2.86zM5.41 20L4 18.59l7.72-7.72 1.47 1.35L5.41 20z\"/>\n",
              "  </svg>\n",
              "      </button>\n",
              "      \n",
              "  <style>\n",
              "    .colab-df-container {\n",
              "      display:flex;\n",
              "      flex-wrap:wrap;\n",
              "      gap: 12px;\n",
              "    }\n",
              "\n",
              "    .colab-df-convert {\n",
              "      background-color: #E8F0FE;\n",
              "      border: none;\n",
              "      border-radius: 50%;\n",
              "      cursor: pointer;\n",
              "      display: none;\n",
              "      fill: #1967D2;\n",
              "      height: 32px;\n",
              "      padding: 0 0 0 0;\n",
              "      width: 32px;\n",
              "    }\n",
              "\n",
              "    .colab-df-convert:hover {\n",
              "      background-color: #E2EBFA;\n",
              "      box-shadow: 0px 1px 2px rgba(60, 64, 67, 0.3), 0px 1px 3px 1px rgba(60, 64, 67, 0.15);\n",
              "      fill: #174EA6;\n",
              "    }\n",
              "\n",
              "    [theme=dark] .colab-df-convert {\n",
              "      background-color: #3B4455;\n",
              "      fill: #D2E3FC;\n",
              "    }\n",
              "\n",
              "    [theme=dark] .colab-df-convert:hover {\n",
              "      background-color: #434B5C;\n",
              "      box-shadow: 0px 1px 3px 1px rgba(0, 0, 0, 0.15);\n",
              "      filter: drop-shadow(0px 1px 2px rgba(0, 0, 0, 0.3));\n",
              "      fill: #FFFFFF;\n",
              "    }\n",
              "  </style>\n",
              "\n",
              "      <script>\n",
              "        const buttonEl =\n",
              "          document.querySelector('#df-4d8d72f5-c5a2-4b31-8b19-b36d4111085e button.colab-df-convert');\n",
              "        buttonEl.style.display =\n",
              "          google.colab.kernel.accessAllowed ? 'block' : 'none';\n",
              "\n",
              "        async function convertToInteractive(key) {\n",
              "          const element = document.querySelector('#df-4d8d72f5-c5a2-4b31-8b19-b36d4111085e');\n",
              "          const dataTable =\n",
              "            await google.colab.kernel.invokeFunction('convertToInteractive',\n",
              "                                                     [key], {});\n",
              "          if (!dataTable) return;\n",
              "\n",
              "          const docLinkHtml = 'Like what you see? Visit the ' +\n",
              "            '<a target=\"_blank\" href=https://colab.research.google.com/notebooks/data_table.ipynb>data table notebook</a>'\n",
              "            + ' to learn more about interactive tables.';\n",
              "          element.innerHTML = '';\n",
              "          dataTable['output_type'] = 'display_data';\n",
              "          await google.colab.output.renderOutput(dataTable, element);\n",
              "          const docLink = document.createElement('div');\n",
              "          docLink.innerHTML = docLinkHtml;\n",
              "          element.appendChild(docLink);\n",
              "        }\n",
              "      </script>\n",
              "    </div>\n",
              "  </div>\n",
              "  "
            ]
          },
          "metadata": {},
          "execution_count": 514
        }
      ],
      "source": [
        "data.head()"
      ]
    },
    {
      "cell_type": "code",
      "execution_count": 515,
      "metadata": {
        "id": "6fWRYt87k30A"
      },
      "outputs": [],
      "source": [
        "col = ['DD_PURCHASED_ATMERCHANT_CATEGORIZED_AT']\n",
        "\n",
        "## Count of unique features\n",
        "for i in col:\n",
        "    data['count_'+i] = data[i].map(data[i].value_counts())"
      ]
    },
    {
      "cell_type": "code",
      "execution_count": 516,
      "metadata": {
        "id": "2EKSll0Rk30A"
      },
      "outputs": [],
      "source": [
        "# from sklearn.preprocessing import LabelEncoder\n",
        "# le = LabelEncoder()\n",
        "\n",
        "# le_columns = ['month_day','month_wkday']\n",
        "\n",
        "# for col in le_columns:\n",
        "#    data[col] = le.fit_transform(data[col])"
      ]
    },
    {
      "cell_type": "code",
      "execution_count": 517,
      "metadata": {
        "id": "16DDlSCck30B",
        "outputId": "e87519a0-c404-45d5-fc19-11f2dc5a04dc",
        "colab": {
          "base_uri": "https://localhost:8080/",
          "height": 300
        }
      },
      "outputs": [
        {
          "output_type": "execute_result",
          "data": {
            "text/plain": [
              "   MERCHANT_NAME MERCHANT_CATEGORIZED_AS  PURCHASE_VALUE  USER_HOUSEHOLD  \\\n",
              "0            413         Rent / Mortgage            1700               3   \n",
              "1            299        Transport & Fuel             100               4   \n",
              "2            348             Data & WiFi              20               3   \n",
              "3            434          Loan Repayment            3800               5   \n",
              "4            244            Bills & Fees              60               3   \n",
              "\n",
              "   USER_INCOME  USER_ID Transaction_ID  price_range  income_range  \\\n",
              "0        10000       29    ID_04mk78fa            3             3   \n",
              "1        90000       25    ID_04xkfb07            3             0   \n",
              "2        10000       29    ID_051urwuw            3             3   \n",
              "3       252000        3    ID_0e1om7rz            3             0   \n",
              "4        10000       29    ID_0kfcoawb            3             3   \n",
              "\n",
              "   prod_PURCHASE_INCOME  ...  PURCHASED_ATyear  PURCHASED_ATmonth  \\\n",
              "0              0.170000  ...                 4                  5   \n",
              "1              0.001111  ...                 3                 10   \n",
              "2              0.002000  ...                 4                  5   \n",
              "3              0.015079  ...                 4                  2   \n",
              "4              0.006000  ...                 4                  5   \n",
              "\n",
              "   PURCHASED_ATdayofweek  MERCHANT_CATEGORIZED_ATyear  \\\n",
              "0                      2                            1   \n",
              "1                      6                            0   \n",
              "2                      4                            1   \n",
              "3                      0                            1   \n",
              "4                      2                            1   \n",
              "\n",
              "   MERCHANT_CATEGORIZED_ATmonth  MERCHANT_CATEGORIZED_ATdayofweek  \\\n",
              "0                             5                                 2   \n",
              "1                            10                                 0   \n",
              "2                             5                                 4   \n",
              "3                             4                                 1   \n",
              "4                             5                                 2   \n",
              "\n",
              "   MD_PURCHASED_ATMERCHANT_CATEGORIZED_AT  \\\n",
              "0                                       0   \n",
              "1                                       0   \n",
              "2                                       0   \n",
              "3                                      -2   \n",
              "4                                       0   \n",
              "\n",
              "   YD_PURCHASED_ATMERCHANT_CATEGORIZED_AT  \\\n",
              "0                                       0   \n",
              "1                                       0   \n",
              "2                                       0   \n",
              "3                                       0   \n",
              "4                                       0   \n",
              "\n",
              "   DD_PURCHASED_ATMERCHANT_CATEGORIZED_AT  \\\n",
              "0                                       0   \n",
              "1                                      -1   \n",
              "2                                       6   \n",
              "3                                     -64   \n",
              "4                                       0   \n",
              "\n",
              "   count_DD_PURCHASED_ATMERCHANT_CATEGORIZED_AT  \n",
              "0                                            72  \n",
              "1                                            18  \n",
              "2                                            18  \n",
              "3                                             4  \n",
              "4                                            72  \n",
              "\n",
              "[5 rows x 47 columns]"
            ],
            "text/html": [
              "\n",
              "  <div id=\"df-4051b4e1-7cf7-46e9-bc01-78f778c6bfc3\">\n",
              "    <div class=\"colab-df-container\">\n",
              "      <div>\n",
              "<style scoped>\n",
              "    .dataframe tbody tr th:only-of-type {\n",
              "        vertical-align: middle;\n",
              "    }\n",
              "\n",
              "    .dataframe tbody tr th {\n",
              "        vertical-align: top;\n",
              "    }\n",
              "\n",
              "    .dataframe thead th {\n",
              "        text-align: right;\n",
              "    }\n",
              "</style>\n",
              "<table border=\"1\" class=\"dataframe\">\n",
              "  <thead>\n",
              "    <tr style=\"text-align: right;\">\n",
              "      <th></th>\n",
              "      <th>MERCHANT_NAME</th>\n",
              "      <th>MERCHANT_CATEGORIZED_AS</th>\n",
              "      <th>PURCHASE_VALUE</th>\n",
              "      <th>USER_HOUSEHOLD</th>\n",
              "      <th>USER_INCOME</th>\n",
              "      <th>USER_ID</th>\n",
              "      <th>Transaction_ID</th>\n",
              "      <th>price_range</th>\n",
              "      <th>income_range</th>\n",
              "      <th>prod_PURCHASE_INCOME</th>\n",
              "      <th>...</th>\n",
              "      <th>PURCHASED_ATyear</th>\n",
              "      <th>PURCHASED_ATmonth</th>\n",
              "      <th>PURCHASED_ATdayofweek</th>\n",
              "      <th>MERCHANT_CATEGORIZED_ATyear</th>\n",
              "      <th>MERCHANT_CATEGORIZED_ATmonth</th>\n",
              "      <th>MERCHANT_CATEGORIZED_ATdayofweek</th>\n",
              "      <th>MD_PURCHASED_ATMERCHANT_CATEGORIZED_AT</th>\n",
              "      <th>YD_PURCHASED_ATMERCHANT_CATEGORIZED_AT</th>\n",
              "      <th>DD_PURCHASED_ATMERCHANT_CATEGORIZED_AT</th>\n",
              "      <th>count_DD_PURCHASED_ATMERCHANT_CATEGORIZED_AT</th>\n",
              "    </tr>\n",
              "  </thead>\n",
              "  <tbody>\n",
              "    <tr>\n",
              "      <th>0</th>\n",
              "      <td>413</td>\n",
              "      <td>Rent / Mortgage</td>\n",
              "      <td>1700</td>\n",
              "      <td>3</td>\n",
              "      <td>10000</td>\n",
              "      <td>29</td>\n",
              "      <td>ID_04mk78fa</td>\n",
              "      <td>3</td>\n",
              "      <td>3</td>\n",
              "      <td>0.170000</td>\n",
              "      <td>...</td>\n",
              "      <td>4</td>\n",
              "      <td>5</td>\n",
              "      <td>2</td>\n",
              "      <td>1</td>\n",
              "      <td>5</td>\n",
              "      <td>2</td>\n",
              "      <td>0</td>\n",
              "      <td>0</td>\n",
              "      <td>0</td>\n",
              "      <td>72</td>\n",
              "    </tr>\n",
              "    <tr>\n",
              "      <th>1</th>\n",
              "      <td>299</td>\n",
              "      <td>Transport &amp; Fuel</td>\n",
              "      <td>100</td>\n",
              "      <td>4</td>\n",
              "      <td>90000</td>\n",
              "      <td>25</td>\n",
              "      <td>ID_04xkfb07</td>\n",
              "      <td>3</td>\n",
              "      <td>0</td>\n",
              "      <td>0.001111</td>\n",
              "      <td>...</td>\n",
              "      <td>3</td>\n",
              "      <td>10</td>\n",
              "      <td>6</td>\n",
              "      <td>0</td>\n",
              "      <td>10</td>\n",
              "      <td>0</td>\n",
              "      <td>0</td>\n",
              "      <td>0</td>\n",
              "      <td>-1</td>\n",
              "      <td>18</td>\n",
              "    </tr>\n",
              "    <tr>\n",
              "      <th>2</th>\n",
              "      <td>348</td>\n",
              "      <td>Data &amp; WiFi</td>\n",
              "      <td>20</td>\n",
              "      <td>3</td>\n",
              "      <td>10000</td>\n",
              "      <td>29</td>\n",
              "      <td>ID_051urwuw</td>\n",
              "      <td>3</td>\n",
              "      <td>3</td>\n",
              "      <td>0.002000</td>\n",
              "      <td>...</td>\n",
              "      <td>4</td>\n",
              "      <td>5</td>\n",
              "      <td>4</td>\n",
              "      <td>1</td>\n",
              "      <td>5</td>\n",
              "      <td>4</td>\n",
              "      <td>0</td>\n",
              "      <td>0</td>\n",
              "      <td>6</td>\n",
              "      <td>18</td>\n",
              "    </tr>\n",
              "    <tr>\n",
              "      <th>3</th>\n",
              "      <td>434</td>\n",
              "      <td>Loan Repayment</td>\n",
              "      <td>3800</td>\n",
              "      <td>5</td>\n",
              "      <td>252000</td>\n",
              "      <td>3</td>\n",
              "      <td>ID_0e1om7rz</td>\n",
              "      <td>3</td>\n",
              "      <td>0</td>\n",
              "      <td>0.015079</td>\n",
              "      <td>...</td>\n",
              "      <td>4</td>\n",
              "      <td>2</td>\n",
              "      <td>0</td>\n",
              "      <td>1</td>\n",
              "      <td>4</td>\n",
              "      <td>1</td>\n",
              "      <td>-2</td>\n",
              "      <td>0</td>\n",
              "      <td>-64</td>\n",
              "      <td>4</td>\n",
              "    </tr>\n",
              "    <tr>\n",
              "      <th>4</th>\n",
              "      <td>244</td>\n",
              "      <td>Bills &amp; Fees</td>\n",
              "      <td>60</td>\n",
              "      <td>3</td>\n",
              "      <td>10000</td>\n",
              "      <td>29</td>\n",
              "      <td>ID_0kfcoawb</td>\n",
              "      <td>3</td>\n",
              "      <td>3</td>\n",
              "      <td>0.006000</td>\n",
              "      <td>...</td>\n",
              "      <td>4</td>\n",
              "      <td>5</td>\n",
              "      <td>2</td>\n",
              "      <td>1</td>\n",
              "      <td>5</td>\n",
              "      <td>2</td>\n",
              "      <td>0</td>\n",
              "      <td>0</td>\n",
              "      <td>0</td>\n",
              "      <td>72</td>\n",
              "    </tr>\n",
              "  </tbody>\n",
              "</table>\n",
              "<p>5 rows × 47 columns</p>\n",
              "</div>\n",
              "      <button class=\"colab-df-convert\" onclick=\"convertToInteractive('df-4051b4e1-7cf7-46e9-bc01-78f778c6bfc3')\"\n",
              "              title=\"Convert this dataframe to an interactive table.\"\n",
              "              style=\"display:none;\">\n",
              "        \n",
              "  <svg xmlns=\"http://www.w3.org/2000/svg\" height=\"24px\"viewBox=\"0 0 24 24\"\n",
              "       width=\"24px\">\n",
              "    <path d=\"M0 0h24v24H0V0z\" fill=\"none\"/>\n",
              "    <path d=\"M18.56 5.44l.94 2.06.94-2.06 2.06-.94-2.06-.94-.94-2.06-.94 2.06-2.06.94zm-11 1L8.5 8.5l.94-2.06 2.06-.94-2.06-.94L8.5 2.5l-.94 2.06-2.06.94zm10 10l.94 2.06.94-2.06 2.06-.94-2.06-.94-.94-2.06-.94 2.06-2.06.94z\"/><path d=\"M17.41 7.96l-1.37-1.37c-.4-.4-.92-.59-1.43-.59-.52 0-1.04.2-1.43.59L10.3 9.45l-7.72 7.72c-.78.78-.78 2.05 0 2.83L4 21.41c.39.39.9.59 1.41.59.51 0 1.02-.2 1.41-.59l7.78-7.78 2.81-2.81c.8-.78.8-2.07 0-2.86zM5.41 20L4 18.59l7.72-7.72 1.47 1.35L5.41 20z\"/>\n",
              "  </svg>\n",
              "      </button>\n",
              "      \n",
              "  <style>\n",
              "    .colab-df-container {\n",
              "      display:flex;\n",
              "      flex-wrap:wrap;\n",
              "      gap: 12px;\n",
              "    }\n",
              "\n",
              "    .colab-df-convert {\n",
              "      background-color: #E8F0FE;\n",
              "      border: none;\n",
              "      border-radius: 50%;\n",
              "      cursor: pointer;\n",
              "      display: none;\n",
              "      fill: #1967D2;\n",
              "      height: 32px;\n",
              "      padding: 0 0 0 0;\n",
              "      width: 32px;\n",
              "    }\n",
              "\n",
              "    .colab-df-convert:hover {\n",
              "      background-color: #E2EBFA;\n",
              "      box-shadow: 0px 1px 2px rgba(60, 64, 67, 0.3), 0px 1px 3px 1px rgba(60, 64, 67, 0.15);\n",
              "      fill: #174EA6;\n",
              "    }\n",
              "\n",
              "    [theme=dark] .colab-df-convert {\n",
              "      background-color: #3B4455;\n",
              "      fill: #D2E3FC;\n",
              "    }\n",
              "\n",
              "    [theme=dark] .colab-df-convert:hover {\n",
              "      background-color: #434B5C;\n",
              "      box-shadow: 0px 1px 3px 1px rgba(0, 0, 0, 0.15);\n",
              "      filter: drop-shadow(0px 1px 2px rgba(0, 0, 0, 0.3));\n",
              "      fill: #FFFFFF;\n",
              "    }\n",
              "  </style>\n",
              "\n",
              "      <script>\n",
              "        const buttonEl =\n",
              "          document.querySelector('#df-4051b4e1-7cf7-46e9-bc01-78f778c6bfc3 button.colab-df-convert');\n",
              "        buttonEl.style.display =\n",
              "          google.colab.kernel.accessAllowed ? 'block' : 'none';\n",
              "\n",
              "        async function convertToInteractive(key) {\n",
              "          const element = document.querySelector('#df-4051b4e1-7cf7-46e9-bc01-78f778c6bfc3');\n",
              "          const dataTable =\n",
              "            await google.colab.kernel.invokeFunction('convertToInteractive',\n",
              "                                                     [key], {});\n",
              "          if (!dataTable) return;\n",
              "\n",
              "          const docLinkHtml = 'Like what you see? Visit the ' +\n",
              "            '<a target=\"_blank\" href=https://colab.research.google.com/notebooks/data_table.ipynb>data table notebook</a>'\n",
              "            + ' to learn more about interactive tables.';\n",
              "          element.innerHTML = '';\n",
              "          dataTable['output_type'] = 'display_data';\n",
              "          await google.colab.output.renderOutput(dataTable, element);\n",
              "          const docLink = document.createElement('div');\n",
              "          docLink.innerHTML = docLinkHtml;\n",
              "          element.appendChild(docLink);\n",
              "        }\n",
              "      </script>\n",
              "    </div>\n",
              "  </div>\n",
              "  "
            ]
          },
          "metadata": {},
          "execution_count": 517
        }
      ],
      "source": [
        "data.head()"
      ]
    },
    {
      "cell_type": "markdown",
      "metadata": {
        "id": "lzk-Z3_Ok30B"
      },
      "source": [
        "## Separate the combined dataset"
      ]
    },
    {
      "cell_type": "code",
      "execution_count": 518,
      "metadata": {
        "id": "4YswO5uPk30B",
        "outputId": "abd0f097-ed94-4622-d897-ed76c6d3b421",
        "colab": {
          "base_uri": "https://localhost:8080/"
        }
      },
      "outputs": [
        {
          "output_type": "execute_result",
          "data": {
            "text/plain": [
              "((373, 47), (558, 47))"
            ]
          },
          "metadata": {},
          "execution_count": 518
        }
      ],
      "source": [
        "# Separate train and test data from the combined dataframe\n",
        "train_df = data[:ntrain]\n",
        "test_df = data[ntrain:]\n",
        "\n",
        "# Check the shapes of the split dataset\n",
        "train_df.shape, test_df.shape"
      ]
    },
    {
      "cell_type": "markdown",
      "metadata": {
        "id": "oiT4kJsSk30C"
      },
      "source": [
        "### Label Encode the Target"
      ]
    },
    {
      "cell_type": "code",
      "execution_count": 519,
      "metadata": {
        "id": "1xDrrqfck30C",
        "outputId": "15d0a2a0-17f3-4e3a-f0c1-5f4b20b44bf5",
        "colab": {
          "base_uri": "https://localhost:8080/"
        }
      },
      "outputs": [
        {
          "output_type": "execute_result",
          "data": {
            "text/plain": [
              "Bills & Fees        78\n",
              "Groceries           50\n",
              "Data & WiFi         43\n",
              "Miscellaneous       43\n",
              "Family & Friends    41\n",
              "Going out           41\n",
              "Transport & Fuel    29\n",
              "Shopping            21\n",
              "Emergency fund      12\n",
              "Health               6\n",
              "Loan Repayment       5\n",
              "Rent / Mortgage      2\n",
              "Education            2\n",
              "Name: MERCHANT_CATEGORIZED_AS, dtype: int64"
            ]
          },
          "metadata": {},
          "execution_count": 519
        }
      ],
      "source": [
        "train['MERCHANT_CATEGORIZED_AS'].value_counts()"
      ]
    },
    {
      "cell_type": "code",
      "execution_count": 520,
      "metadata": {
        "id": "pxFmZwLck30C"
      },
      "outputs": [],
      "source": [
        "for col in ['MERCHANT_CATEGORIZED_AS']:\n",
        "   train_df[col] = le.fit_transform(train_df[col])"
      ]
    },
    {
      "cell_type": "markdown",
      "metadata": {
        "id": "TRs7LdGbk30C"
      },
      "source": [
        "## KMEANS Clustering\n",
        "* Decided to use MERCHANT_NAME because thats our gold feature and purchase value\n",
        "* Later decided onky on merchant_name which was the only one that led to an improvement"
      ]
    },
    {
      "cell_type": "code",
      "execution_count": 521,
      "metadata": {
        "id": "pO0NPqOuk30C"
      },
      "outputs": [],
      "source": [
        "\n",
        "clust = ['MERCHANT_NAME']\n",
        "train = train_df.copy()"
      ]
    },
    {
      "cell_type": "markdown",
      "metadata": {
        "id": "XMgqlLCKk30D"
      },
      "source": [
        "#### The function below just shows us what is the best number of clusters to use "
      ]
    },
    {
      "cell_type": "code",
      "execution_count": 522,
      "metadata": {
        "id": "SsTsinLhk30D",
        "outputId": "9fe18f54-1799-4122-b1e3-17e1ffd1ed69",
        "colab": {
          "base_uri": "https://localhost:8080/",
          "height": 72
        }
      },
      "outputs": [
        {
          "output_type": "stream",
          "name": "stdout",
          "text": [
            "MERCHANT_NAME 49142.470409205525\n"
          ]
        },
        {
          "output_type": "display_data",
          "data": {
            "text/plain": [
              "<Figure size 432x288 with 1 Axes>"
            ],
            "image/png": "[encoded data removed]"
          },
          "metadata": {
            "needs_background": "light"
          }
        }
      ],
      "source": [
        "from sklearn.cluster import KMeans\n",
        "for j in clust:\n",
        "    distortions = []\n",
        "    if train[j].dtype == object: # One-Hot encode data if it is categorical\n",
        "        dummies = pd.get_dummies(train[j], drop_first=True)\n",
        "        for i in range(1, 11):\n",
        "            km = KMeans(\n",
        "                n_clusters=i, init='k-means++',\n",
        "                n_init=20, max_iter=300,\n",
        "                tol=1e-04, random_state=0\n",
        "            )\n",
        "            km.fit(dummies)\n",
        "            distortions.append(km.inertia_)\n",
        "\n",
        "        # plot\n",
        "        print(j, km.inertia_)\n",
        "        plt.plot(range(1, 11), distortions, marker='o')\n",
        "        plt.xlabel('Number of clusters')\n",
        "        plt.ylabel('Distortion')\n",
        "        plt.show()\n",
        "    \n",
        "    else:\n",
        "        for i in range(1, 11):\n",
        "            km = KMeans(\n",
        "                n_clusters=i, init='k-means++',\n",
        "                n_init=20, max_iter=300,\n",
        "                tol=1e-04, random_state=0\n",
        "            )\n",
        "            km.fit(pd.DataFrame(train[j]))\n",
        "            distortions.append(km.inertia_)\n",
        "\n",
        "        # plot\n",
        "\n",
        "        print(j, km.inertia_)\n",
        "        plt.plot(range(1, 11), distortions, marker='o')\n",
        "        plt.xlabel('Number of clusters')\n",
        "        plt.ylabel('Distortion')\n",
        "        plt.show()\n",
        "\n"
      ]
    },
    {
      "cell_type": "markdown",
      "metadata": {
        "id": "a0dLhIGNk30D"
      },
      "source": [
        "#### Six gave the best score on the CV"
      ]
    },
    {
      "cell_type": "code",
      "execution_count": 523,
      "metadata": {
        "id": "exPIMJPMk30D"
      },
      "outputs": [],
      "source": [
        "kmeans = KMeans(\n",
        "        n_clusters=6, init='k-means++',\n",
        "        n_init=20, max_iter=300,\n",
        "        tol=1e-04, random_state=0\n",
        "    )"
      ]
    },
    {
      "cell_type": "code",
      "execution_count": 524,
      "metadata": {
        "id": "kqubfpvCk30F"
      },
      "outputs": [],
      "source": [
        "test = test_df.copy()"
      ]
    },
    {
      "cell_type": "code",
      "execution_count": 525,
      "metadata": {
        "id": "S2RPcRUEk30F"
      },
      "outputs": [],
      "source": [
        "%%capture \n",
        "#To avoid clumsy cell output\n",
        "\n",
        "for col in clust:\n",
        "    if train[col].dtype == object:\n",
        "        dummies = pd.get_dummies(train[col], drop_first=True)\n",
        "        test_dum = pd.get_dummies(test[col], drop_first=True)\n",
        "        kmeans.fit(dummies)\n",
        "        train[col+'_grouped'] = kmeans.labels_\n",
        "        test[col+'_grouped'] = kmeans.predict(test_dum)\n",
        "    else:\n",
        "        kmeans.fit(pd.DataFrame(train[col]))\n",
        "        train[col+'_grouped'] = kmeans.labels_\n",
        "        test[col+'_grouped'] = kmeans.predict(pd.DataFrame(test[col]))\n"
      ]
    },
    {
      "cell_type": "code",
      "execution_count": 526,
      "metadata": {
        "id": "jCcn3k_Bk30F",
        "outputId": "a6769d01-178c-4f36-b0a8-c521013db536",
        "colab": {
          "base_uri": "https://localhost:8080/"
        }
      },
      "outputs": [
        {
          "output_type": "execute_result",
          "data": {
            "text/plain": [
              "((373, 48), (558, 48))"
            ]
          },
          "metadata": {},
          "execution_count": 526
        }
      ],
      "source": [
        "train.shape, test.shape"
      ]
    },
    {
      "cell_type": "code",
      "execution_count": 527,
      "metadata": {
        "id": "w9n9nfYgk30F",
        "outputId": "b0a471d1-08f2-4d3b-bc4e-b1157bbcecb6",
        "colab": {
          "base_uri": "https://localhost:8080/",
          "height": 300
        }
      },
      "outputs": [
        {
          "output_type": "execute_result",
          "data": {
            "text/plain": [
              "   MERCHANT_NAME  MERCHANT_CATEGORIZED_AS  PURCHASE_VALUE  USER_HOUSEHOLD  \\\n",
              "0            413                       10            1700               3   \n",
              "1            299                       12             100               4   \n",
              "2            348                        1              20               3   \n",
              "3            434                        8            3800               5   \n",
              "4            244                        0              60               3   \n",
              "\n",
              "   USER_INCOME  USER_ID Transaction_ID  price_range  income_range  \\\n",
              "0        10000       29    ID_04mk78fa            3             3   \n",
              "1        90000       25    ID_04xkfb07            3             0   \n",
              "2        10000       29    ID_051urwuw            3             3   \n",
              "3       252000        3    ID_0e1om7rz            3             0   \n",
              "4        10000       29    ID_0kfcoawb            3             3   \n",
              "\n",
              "   prod_PURCHASE_INCOME  ...  PURCHASED_ATmonth  PURCHASED_ATdayofweek  \\\n",
              "0              0.170000  ...                  5                      2   \n",
              "1              0.001111  ...                 10                      6   \n",
              "2              0.002000  ...                  5                      4   \n",
              "3              0.015079  ...                  2                      0   \n",
              "4              0.006000  ...                  5                      2   \n",
              "\n",
              "   MERCHANT_CATEGORIZED_ATyear  MERCHANT_CATEGORIZED_ATmonth  \\\n",
              "0                            1                             5   \n",
              "1                            0                            10   \n",
              "2                            1                             5   \n",
              "3                            1                             4   \n",
              "4                            1                             5   \n",
              "\n",
              "   MERCHANT_CATEGORIZED_ATdayofweek  MD_PURCHASED_ATMERCHANT_CATEGORIZED_AT  \\\n",
              "0                                 2                                       0   \n",
              "1                                 0                                       0   \n",
              "2                                 4                                       0   \n",
              "3                                 1                                      -2   \n",
              "4                                 2                                       0   \n",
              "\n",
              "   YD_PURCHASED_ATMERCHANT_CATEGORIZED_AT  \\\n",
              "0                                       0   \n",
              "1                                       0   \n",
              "2                                       0   \n",
              "3                                       0   \n",
              "4                                       0   \n",
              "\n",
              "   DD_PURCHASED_ATMERCHANT_CATEGORIZED_AT  \\\n",
              "0                                       0   \n",
              "1                                      -1   \n",
              "2                                       6   \n",
              "3                                     -64   \n",
              "4                                       0   \n",
              "\n",
              "   count_DD_PURCHASED_ATMERCHANT_CATEGORIZED_AT  MERCHANT_NAME_grouped  \n",
              "0                                            72                      3  \n",
              "1                                            18                      5  \n",
              "2                                            18                      1  \n",
              "3                                             4                      3  \n",
              "4                                            72                      5  \n",
              "\n",
              "[5 rows x 48 columns]"
            ],
            "text/html": [
              "\n",
              "  <div id=\"df-80c3eda7-c57f-4d76-8996-3674adfcd975\">\n",
              "    <div class=\"colab-df-container\">\n",
              "      <div>\n",
              "<style scoped>\n",
              "    .dataframe tbody tr th:only-of-type {\n",
              "        vertical-align: middle;\n",
              "    }\n",
              "\n",
              "    .dataframe tbody tr th {\n",
              "        vertical-align: top;\n",
              "    }\n",
              "\n",
              "    .dataframe thead th {\n",
              "        text-align: right;\n",
              "    }\n",
              "</style>\n",
              "<table border=\"1\" class=\"dataframe\">\n",
              "  <thead>\n",
              "    <tr style=\"text-align: right;\">\n",
              "      <th></th>\n",
              "      <th>MERCHANT_NAME</th>\n",
              "      <th>MERCHANT_CATEGORIZED_AS</th>\n",
              "      <th>PURCHASE_VALUE</th>\n",
              "      <th>USER_HOUSEHOLD</th>\n",
              "      <th>USER_INCOME</th>\n",
              "      <th>USER_ID</th>\n",
              "      <th>Transaction_ID</th>\n",
              "      <th>price_range</th>\n",
              "      <th>income_range</th>\n",
              "      <th>prod_PURCHASE_INCOME</th>\n",
              "      <th>...</th>\n",
              "      <th>PURCHASED_ATmonth</th>\n",
              "      <th>PURCHASED_ATdayofweek</th>\n",
              "      <th>MERCHANT_CATEGORIZED_ATyear</th>\n",
              "      <th>MERCHANT_CATEGORIZED_ATmonth</th>\n",
              "      <th>MERCHANT_CATEGORIZED_ATdayofweek</th>\n",
              "      <th>MD_PURCHASED_ATMERCHANT_CATEGORIZED_AT</th>\n",
              "      <th>YD_PURCHASED_ATMERCHANT_CATEGORIZED_AT</th>\n",
              "      <th>DD_PURCHASED_ATMERCHANT_CATEGORIZED_AT</th>\n",
              "      <th>count_DD_PURCHASED_ATMERCHANT_CATEGORIZED_AT</th>\n",
              "      <th>MERCHANT_NAME_grouped</th>\n",
              "    </tr>\n",
              "  </thead>\n",
              "  <tbody>\n",
              "    <tr>\n",
              "      <th>0</th>\n",
              "      <td>413</td>\n",
              "      <td>10</td>\n",
              "      <td>1700</td>\n",
              "      <td>3</td>\n",
              "      <td>10000</td>\n",
              "      <td>29</td>\n",
              "      <td>ID_04mk78fa</td>\n",
              "      <td>3</td>\n",
              "      <td>3</td>\n",
              "      <td>0.170000</td>\n",
              "      <td>...</td>\n",
              "      <td>5</td>\n",
              "      <td>2</td>\n",
              "      <td>1</td>\n",
              "      <td>5</td>\n",
              "      <td>2</td>\n",
              "      <td>0</td>\n",
              "      <td>0</td>\n",
              "      <td>0</td>\n",
              "      <td>72</td>\n",
              "      <td>3</td>\n",
              "    </tr>\n",
              "    <tr>\n",
              "      <th>1</th>\n",
              "      <td>299</td>\n",
              "      <td>12</td>\n",
              "      <td>100</td>\n",
              "      <td>4</td>\n",
              "      <td>90000</td>\n",
              "      <td>25</td>\n",
              "      <td>ID_04xkfb07</td>\n",
              "      <td>3</td>\n",
              "      <td>0</td>\n",
              "      <td>0.001111</td>\n",
              "      <td>...</td>\n",
              "      <td>10</td>\n",
              "      <td>6</td>\n",
              "      <td>0</td>\n",
              "      <td>10</td>\n",
              "      <td>0</td>\n",
              "      <td>0</td>\n",
              "      <td>0</td>\n",
              "      <td>-1</td>\n",
              "      <td>18</td>\n",
              "      <td>5</td>\n",
              "    </tr>\n",
              "    <tr>\n",
              "      <th>2</th>\n",
              "      <td>348</td>\n",
              "      <td>1</td>\n",
              "      <td>20</td>\n",
              "      <td>3</td>\n",
              "      <td>10000</td>\n",
              "      <td>29</td>\n",
              "      <td>ID_051urwuw</td>\n",
              "      <td>3</td>\n",
              "      <td>3</td>\n",
              "      <td>0.002000</td>\n",
              "      <td>...</td>\n",
              "      <td>5</td>\n",
              "      <td>4</td>\n",
              "      <td>1</td>\n",
              "      <td>5</td>\n",
              "      <td>4</td>\n",
              "      <td>0</td>\n",
              "      <td>0</td>\n",
              "      <td>6</td>\n",
              "      <td>18</td>\n",
              "      <td>1</td>\n",
              "    </tr>\n",
              "    <tr>\n",
              "      <th>3</th>\n",
              "      <td>434</td>\n",
              "      <td>8</td>\n",
              "      <td>3800</td>\n",
              "      <td>5</td>\n",
              "      <td>252000</td>\n",
              "      <td>3</td>\n",
              "      <td>ID_0e1om7rz</td>\n",
              "      <td>3</td>\n",
              "      <td>0</td>\n",
              "      <td>0.015079</td>\n",
              "      <td>...</td>\n",
              "      <td>2</td>\n",
              "      <td>0</td>\n",
              "      <td>1</td>\n",
              "      <td>4</td>\n",
              "      <td>1</td>\n",
              "      <td>-2</td>\n",
              "      <td>0</td>\n",
              "      <td>-64</td>\n",
              "      <td>4</td>\n",
              "      <td>3</td>\n",
              "    </tr>\n",
              "    <tr>\n",
              "      <th>4</th>\n",
              "      <td>244</td>\n",
              "      <td>0</td>\n",
              "      <td>60</td>\n",
              "      <td>3</td>\n",
              "      <td>10000</td>\n",
              "      <td>29</td>\n",
              "      <td>ID_0kfcoawb</td>\n",
              "      <td>3</td>\n",
              "      <td>3</td>\n",
              "      <td>0.006000</td>\n",
              "      <td>...</td>\n",
              "      <td>5</td>\n",
              "      <td>2</td>\n",
              "      <td>1</td>\n",
              "      <td>5</td>\n",
              "      <td>2</td>\n",
              "      <td>0</td>\n",
              "      <td>0</td>\n",
              "      <td>0</td>\n",
              "      <td>72</td>\n",
              "      <td>5</td>\n",
              "    </tr>\n",
              "  </tbody>\n",
              "</table>\n",
              "<p>5 rows × 48 columns</p>\n",
              "</div>\n",
              "      <button class=\"colab-df-convert\" onclick=\"convertToInteractive('df-80c3eda7-c57f-4d76-8996-3674adfcd975')\"\n",
              "              title=\"Convert this dataframe to an interactive table.\"\n",
              "              style=\"display:none;\">\n",
              "        \n",
              "  <svg xmlns=\"http://www.w3.org/2000/svg\" height=\"24px\"viewBox=\"0 0 24 24\"\n",
              "       width=\"24px\">\n",
              "    <path d=\"M0 0h24v24H0V0z\" fill=\"none\"/>\n",
              "    <path d=\"M18.56 5.44l.94 2.06.94-2.06 2.06-.94-2.06-.94-.94-2.06-.94 2.06-2.06.94zm-11 1L8.5 8.5l.94-2.06 2.06-.94-2.06-.94L8.5 2.5l-.94 2.06-2.06.94zm10 10l.94 2.06.94-2.06 2.06-.94-2.06-.94-.94-2.06-.94 2.06-2.06.94z\"/><path d=\"M17.41 7.96l-1.37-1.37c-.4-.4-.92-.59-1.43-.59-.52 0-1.04.2-1.43.59L10.3 9.45l-7.72 7.72c-.78.78-.78 2.05 0 2.83L4 21.41c.39.39.9.59 1.41.59.51 0 1.02-.2 1.41-.59l7.78-7.78 2.81-2.81c.8-.78.8-2.07 0-2.86zM5.41 20L4 18.59l7.72-7.72 1.47 1.35L5.41 20z\"/>\n",
              "  </svg>\n",
              "      </button>\n",
              "      \n",
              "  <style>\n",
              "    .colab-df-container {\n",
              "      display:flex;\n",
              "      flex-wrap:wrap;\n",
              "      gap: 12px;\n",
              "    }\n",
              "\n",
              "    .colab-df-convert {\n",
              "      background-color: #E8F0FE;\n",
              "      border: none;\n",
              "      border-radius: 50%;\n",
              "      cursor: pointer;\n",
              "      display: none;\n",
              "      fill: #1967D2;\n",
              "      height: 32px;\n",
              "      padding: 0 0 0 0;\n",
              "      width: 32px;\n",
              "    }\n",
              "\n",
              "    .colab-df-convert:hover {\n",
              "      background-color: #E2EBFA;\n",
              "      box-shadow: 0px 1px 2px rgba(60, 64, 67, 0.3), 0px 1px 3px 1px rgba(60, 64, 67, 0.15);\n",
              "      fill: #174EA6;\n",
              "    }\n",
              "\n",
              "    [theme=dark] .colab-df-convert {\n",
              "      background-color: #3B4455;\n",
              "      fill: #D2E3FC;\n",
              "    }\n",
              "\n",
              "    [theme=dark] .colab-df-convert:hover {\n",
              "      background-color: #434B5C;\n",
              "      box-shadow: 0px 1px 3px 1px rgba(0, 0, 0, 0.15);\n",
              "      filter: drop-shadow(0px 1px 2px rgba(0, 0, 0, 0.3));\n",
              "      fill: #FFFFFF;\n",
              "    }\n",
              "  </style>\n",
              "\n",
              "      <script>\n",
              "        const buttonEl =\n",
              "          document.querySelector('#df-80c3eda7-c57f-4d76-8996-3674adfcd975 button.colab-df-convert');\n",
              "        buttonEl.style.display =\n",
              "          google.colab.kernel.accessAllowed ? 'block' : 'none';\n",
              "\n",
              "        async function convertToInteractive(key) {\n",
              "          const element = document.querySelector('#df-80c3eda7-c57f-4d76-8996-3674adfcd975');\n",
              "          const dataTable =\n",
              "            await google.colab.kernel.invokeFunction('convertToInteractive',\n",
              "                                                     [key], {});\n",
              "          if (!dataTable) return;\n",
              "\n",
              "          const docLinkHtml = 'Like what you see? Visit the ' +\n",
              "            '<a target=\"_blank\" href=https://colab.research.google.com/notebooks/data_table.ipynb>data table notebook</a>'\n",
              "            + ' to learn more about interactive tables.';\n",
              "          element.innerHTML = '';\n",
              "          dataTable['output_type'] = 'display_data';\n",
              "          await google.colab.output.renderOutput(dataTable, element);\n",
              "          const docLink = document.createElement('div');\n",
              "          docLink.innerHTML = docLinkHtml;\n",
              "          element.appendChild(docLink);\n",
              "        }\n",
              "      </script>\n",
              "    </div>\n",
              "  </div>\n",
              "  "
            ]
          },
          "metadata": {},
          "execution_count": 527
        }
      ],
      "source": [
        "train.head()"
      ]
    },
    {
      "cell_type": "markdown",
      "metadata": {
        "id": "NINqyAMAk30F"
      },
      "source": [
        "## Correlation"
      ]
    },
    {
      "cell_type": "markdown",
      "metadata": {
        "id": "hzktQspfk30F"
      },
      "source": [
        "### 1. Negative correlation with the target"
      ]
    },
    {
      "cell_type": "code",
      "execution_count": 528,
      "metadata": {
        "id": "E4_p_02bk30F",
        "outputId": "237e718c-2284-417a-aad5-027fc75d3b3b",
        "colab": {
          "base_uri": "https://localhost:8080/"
        }
      },
      "outputs": [
        {
          "output_type": "execute_result",
          "data": {
            "text/plain": [
              "count_MERCHANT_NAME                            -0.296200\n",
              "income_sum                                     -0.266409\n",
              "purchase_merch_count                           -0.264418\n",
              "USER_ID                                        -0.229815\n",
              "bins_income_min                                -0.210669\n",
              "purchase_merch_sum                             -0.200589\n",
              "count_DD_PURCHASED_ATMERCHANT_CATEGORIZED_AT   -0.199362\n",
              "purchase_merch_max                             -0.185164\n",
              "bins_purchase_merch_min                        -0.166804\n",
              "income_range                                   -0.161370\n",
              "MERCHANT_CATEGORIZED_ATyear                    -0.103929\n",
              "PURCHASED_ATyear                               -0.090130\n",
              "prod_PURCHASE_INCOME                           -0.089648\n",
              "count_USER_INCOME                              -0.087789\n",
              "IS_PURCHASE_PAID_VIA_MPESA_SEND_MONEY_True     -0.086870\n",
              "PURCHASE_VALUE                                 -0.074565\n",
              "USER_GENDER_Male                               -0.073213\n",
              "count_USER_HOUSEHOLD                           -0.070416\n",
              "bins_purchase_merch_max                        -0.063038\n",
              "bins_purchase_merch_count                      -0.037907\n",
              "income_max                                     -0.034729\n",
              "count_PURCHASE_VALUE                           -0.028634\n",
              "MERCHANT_CATEGORIZED_ATdayofweek               -0.014641\n",
              "USER_HOUSEHOLD                                 -0.012197\n",
              "bins_purchase_merch_mean                       -0.004233\n",
              "Name: MERCHANT_CATEGORIZED_AS, dtype: float64"
            ]
          },
          "metadata": {},
          "execution_count": 528
        }
      ],
      "source": [
        "train.corr()['MERCHANT_CATEGORIZED_AS'].sort_values()[train.corr()['MERCHANT_CATEGORIZED_AS'].sort_values() < 0]"
      ]
    },
    {
      "cell_type": "markdown",
      "metadata": {
        "id": "KLm1lkoRk30F"
      },
      "source": [
        "### 2. Positive correlation with the Target"
      ]
    },
    {
      "cell_type": "code",
      "execution_count": 529,
      "metadata": {
        "id": "DvHWgxJfk30F",
        "outputId": "abbf8881-65c8-4483-b6a3-71550981ad08",
        "colab": {
          "base_uri": "https://localhost:8080/"
        }
      },
      "outputs": [
        {
          "output_type": "execute_result",
          "data": {
            "text/plain": [
              "purchase_merch_mean                            0.004269\n",
              "bins_income_sum                                0.019549\n",
              "DD_PURCHASED_ATMERCHANT_CATEGORIZED_AT         0.024230\n",
              "MD_PURCHASED_ATMERCHANT_CATEGORIZED_AT         0.030059\n",
              "PURCHASED_ATdayofweek                          0.030761\n",
              "MERCHANT_NAME_bins                             0.039308\n",
              "USER_INCOME                                    0.041954\n",
              "YD_PURCHASED_ATMERCHANT_CATEGORIZED_AT         0.045564\n",
              "purchase_merch_min                             0.054583\n",
              "MERCHANT_CATEGORIZED_ATmonth                   0.057745\n",
              "bins_income_mean                               0.059346\n",
              "price_range                                    0.066434\n",
              "MERCHANT_NAME                                  0.067395\n",
              "income_mean                                    0.072313\n",
              "USER_GENDER_Female                             0.073213\n",
              "bins_purchase_merch_sum                        0.075089\n",
              "IS_PURCHASE_PAID_VIA_MPESA_SEND_MONEY_False    0.086870\n",
              "bins_income_max                                0.166548\n",
              "PURCHASED_ATmonth                              0.187533\n",
              "MERCHANT_NAME_grouped                          0.225183\n",
              "income_min                                     0.270843\n",
              "MERCHANT_CATEGORIZED_AS                        1.000000\n",
              "Name: MERCHANT_CATEGORIZED_AS, dtype: float64"
            ]
          },
          "metadata": {},
          "execution_count": 529
        }
      ],
      "source": [
        "train.corr()['MERCHANT_CATEGORIZED_AS'].sort_values()[train.corr()['MERCHANT_CATEGORIZED_AS'].sort_values() >0]"
      ]
    },
    {
      "cell_type": "markdown",
      "metadata": {
        "id": "cISUtAYSk30G"
      },
      "source": [
        "## Save the new datasets"
      ]
    },
    {
      "cell_type": "code",
      "execution_count": 530,
      "metadata": {
        "id": "AoDIJhBVk30G"
      },
      "outputs": [],
      "source": [
        "# train_df.to_csv('train_noagegroups.csv',index=False)\n",
        "# test_df.to_csv('test_noagegroups.csv',index=False)\n",
        "train.to_csv(path + 'alvintrain_merchantcustomied.csv',index=False)\n",
        "test.to_csv(path + 'alvintest_merchantcustomized.csv',index=False)"
      ]
    },
    {
      "cell_type": "code",
      "execution_count": 530,
      "metadata": {
        "id": "Iopdrwt3k30G"
      },
      "outputs": [],
      "source": [
        ""
      ]
    }
  ],
  "metadata": {
    "colab": {
      "name": "alvinseda- updatedEDA-Customize_Merchants.ipynb",
      "provenance": [],
      "collapsed_sections": [
        "4CZfjt6Nk3yj",
        "dEtmsX_kk3ym",
        "yRSXKjxwk3yn",
        "Zm6FzTg2k3yo",
        "30KikRzuk3yp",
        "KbfHg-8hk3yq",
        "KCoHQcJhk3yr",
        "RGDcyn2ak3yt",
        "xbe57-S2k3yt",
        "BI65XtrQk3yu",
        "Z7J2y-pOk3yv",
        "6yA6hb7uk3yv",
        "zv3QhEwHk3yw",
        "TIaRtvU4k3yx",
        "P2gB3kV-k3yz",
        "OA-KQxwKk3y1",
        "E7gQYlyAk3y1",
        "Y2qd_jx5k3y4",
        "YJ9tieJhk3y6",
        "HyKxASetk3y7",
        "vaVNNjXbk3y7",
        "Q0VUtjFTk3y7",
        "vHVvnaSKk3y9",
        "s1nSjUbFk3y9",
        "KzHnQFRok3y-",
        "IUmneBN4k3y-",
        "2LhArCzGk3y_",
        "pKNWYT7pk3y_",
        "2B9dvJOqk3zA",
        "v_mz6l_Kk3zA",
        "5jVKvS2Ok3zF",
        "Eym_AFayk3zI",
        "pOpCd0Udk3zO",
        "xe32rbVyk3zQ",
        "sOyDPL1Lk3zR",
        "1k7A9WLIk3zT",
        "Fn7Xv6vYk3zW",
        "YwLYo1QGk3zZ",
        "5dTxHuVjk3zo",
        "JO_9AXN7k3zq",
        "Ydi8JgZGk3zr",
        "n7V_qeSEk3zs",
        "1iV9bzzwk3zt",
        "po5EdTH1k3zw",
        "1MRtyzCrk3zx",
        "4ejXgiutk3z1",
        "V4dlhC0bk3z2",
        "SAL32Dy2k3z3",
        "K5ux53fnk3z4",
        "-P6DNLCTk3z7",
        "9v4wy_Opk3z7",
        "e7dZHt0Lk3z-",
        "lzk-Z3_Ok30B",
        "oiT4kJsSk30C",
        "TRs7LdGbk30C",
        "XMgqlLCKk30D",
        "a0dLhIGNk30D",
        "NINqyAMAk30F",
        "hzktQspfk30F",
        "KLm1lkoRk30F"
      ],
      "include_colab_link": true
    },
    "kernelspec": {
      "display_name": "Python 3 (ipykernel)",
      "language": "python",
      "name": "python3"
    },
    "language_info": {
      "codemirror_mode": {
        "name": "ipython",
        "version": 3
      },
      "file_extension": ".py",
      "mimetype": "text/x-python",
      "name": "python",
      "nbconvert_exporter": "python",
      "pygments_lexer": "ipython3",
      "version": "3.8.10"
    }
  },
  "nbformat": 4,
  "nbformat_minor": 0
}