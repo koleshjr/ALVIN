{
  "cells": [
    {
      "cell_type": "markdown",
      "metadata": {
        "id": "view-in-github",
        "colab_type": "text"
      },
      "source": [
        "<a href=\"https://colab.research.google.com/github/koleshjr/collab_projects/blob/main/alvinseda_updatedEDA.ipynb\" target=\"_parent\"><img src=\"https://colab.research.google.com/assets/colab-badge.svg\" alt=\"Open In Colab\"/></a>"
      ]
    },
    {
      "cell_type": "markdown",
      "metadata": {
        "id": "5xuDXe5qYSmj"
      },
      "source": [
        "# ALVIN'S EDA"
      ]
    },
    {
      "cell_type": "markdown",
      "metadata": {
        "id": "QEHvpWfOYSmn"
      },
      "source": [
        "### Import all the necessary Libraries"
      ]
    },
    {
      "cell_type": "code",
      "execution_count": null,
      "metadata": {
        "id": "k7D2QBEpYSmp"
      },
      "outputs": [],
      "source": [
        "#Import some libraries\n",
        "import pandas as pd\n",
        "import numpy as np\n",
        "import gc\n",
        "import matplotlib.pyplot as plt\n",
        "import plotly.express as px\n",
        "from pylab import rcParams\n",
        "import seaborn as sb\n",
        "sb.set_style('darkgrid')\n",
        "rcParams['figure.figsize'] = 8,8\n",
        "import warnings\n",
        "warnings.filterwarnings(\"ignore\")\n",
        "%matplotlib inline\n",
        "# from imblearn.over_sampling import SMOTE\n",
        "\n",
        "pd.options.display.max_rows = 2200"
      ]
    },
    {
      "cell_type": "code",
      "execution_count": null,
      "metadata": {
        "id": "UabjFRrQYSms"
      },
      "outputs": [],
      "source": [
        "path = \"./\""
      ]
    },
    {
      "cell_type": "markdown",
      "metadata": {
        "id": "bHVhaa2tYSmt"
      },
      "source": [
        "### Load the datasets and find statistical information about them"
      ]
    },
    {
      "cell_type": "code",
      "execution_count": null,
      "metadata": {
        "id": "OFCQXM6bYSmv"
      },
      "outputs": [],
      "source": [
        "#import data\n",
        "train = pd.read_csv(path+'/Train.csv')\n",
        "test=  pd.read_csv(path+'/Test.csv')\n",
        "submission = pd.read_csv(path+'/SampleSubmission.csv')\n",
        "vardef = pd.read_csv(path+\"/VariableDefinitions.csv\")\n",
        "extra = pd.read_csv(path+\"extra_data.csv\")"
      ]
    },
    {
      "cell_type": "code",
      "execution_count": null,
      "metadata": {
        "id": "nANh8SmSYSmw",
        "outputId": "18a342ae-8033-4711-c646-2d6e1570695f"
      },
      "outputs": [
        {
          "data": {
            "text/plain": [
              "((373, 12), (558, 11), (10000, 12))"
            ]
          },
          "execution_count": 4,
          "metadata": {},
          "output_type": "execute_result"
        }
      ],
      "source": [
        "train.shape,test.shape,extra.shape"
      ]
    },
    {
      "cell_type": "code",
      "execution_count": null,
      "metadata": {
        "id": "ar10NCkkYSmx",
        "outputId": "865406c1-eecb-41af-c4ad-57e7cce17c6a"
      },
      "outputs": [
        {
          "data": {
            "text/html": [
              "<div>\n",
              "<style scoped>\n",
              "    .dataframe tbody tr th:only-of-type {\n",
              "        vertical-align: middle;\n",
              "    }\n",
              "\n",
              "    .dataframe tbody tr th {\n",
              "        vertical-align: top;\n",
              "    }\n",
              "\n",
              "    .dataframe thead th {\n",
              "        text-align: right;\n",
              "    }\n",
              "</style>\n",
              "<table border=\"1\" class=\"dataframe\">\n",
              "  <thead>\n",
              "    <tr style=\"text-align: right;\">\n",
              "      <th></th>\n",
              "      <th>MERCHANT_CATEGORIZED_AT</th>\n",
              "      <th>MERCHANT_NAME</th>\n",
              "      <th>MERCHANT_CATEGORIZED_AS</th>\n",
              "      <th>PURCHASE_VALUE</th>\n",
              "      <th>PURCHASED_AT</th>\n",
              "      <th>IS_PURCHASE_PAID_VIA_MPESA_SEND_MONEY</th>\n",
              "      <th>USER_AGE</th>\n",
              "      <th>USER_GENDER</th>\n",
              "      <th>USER_HOUSEHOLD</th>\n",
              "      <th>USER_INCOME</th>\n",
              "      <th>USER_ID</th>\n",
              "      <th>Transaction_ID</th>\n",
              "    </tr>\n",
              "  </thead>\n",
              "  <tbody>\n",
              "    <tr>\n",
              "      <th>0</th>\n",
              "      <td>2022-05-04 10:25:50.588042+00</td>\n",
              "      <td>UONSDA CHURCH  MOGERE MWAYO TITHE</td>\n",
              "      <td>Rent / Mortgage</td>\n",
              "      <td>1700</td>\n",
              "      <td>2022-05-04 13:56:00+00</td>\n",
              "      <td>False</td>\n",
              "      <td>NaN</td>\n",
              "      <td>Male</td>\n",
              "      <td>3</td>\n",
              "      <td>10000</td>\n",
              "      <td>ID_ZX4DCF4K</td>\n",
              "      <td>ID_04mk78fa</td>\n",
              "    </tr>\n",
              "    <tr>\n",
              "      <th>1</th>\n",
              "      <td>2021-10-25 16:18:38.586837+00</td>\n",
              "      <td>PARK N GO</td>\n",
              "      <td>Transport &amp; Fuel</td>\n",
              "      <td>100</td>\n",
              "      <td>2021-10-24 14:12:00+00</td>\n",
              "      <td>False</td>\n",
              "      <td>25.0</td>\n",
              "      <td>Female</td>\n",
              "      <td>4</td>\n",
              "      <td>90000</td>\n",
              "      <td>ID_U9WZMGJZ</td>\n",
              "      <td>ID_04xkfb07</td>\n",
              "    </tr>\n",
              "    <tr>\n",
              "      <th>2</th>\n",
              "      <td>2022-05-20 14:17:30.917297+00</td>\n",
              "      <td>SAFARICOM OFFERS  TUNUKIWA</td>\n",
              "      <td>Data &amp; WiFi</td>\n",
              "      <td>20</td>\n",
              "      <td>2022-05-27 12:46:00+00</td>\n",
              "      <td>False</td>\n",
              "      <td>NaN</td>\n",
              "      <td>Male</td>\n",
              "      <td>3</td>\n",
              "      <td>10000</td>\n",
              "      <td>ID_ZX4DCF4K</td>\n",
              "      <td>ID_051urwuw</td>\n",
              "    </tr>\n",
              "    <tr>\n",
              "      <th>3</th>\n",
              "      <td>2022-04-12 15:59:14.139347+00</td>\n",
              "      <td>ZILLIONS CREDIT LIMITED</td>\n",
              "      <td>Loan Repayment</td>\n",
              "      <td>3800</td>\n",
              "      <td>2022-02-07 12:16:00+00</td>\n",
              "      <td>False</td>\n",
              "      <td>NaN</td>\n",
              "      <td>Male</td>\n",
              "      <td>5</td>\n",
              "      <td>252000</td>\n",
              "      <td>ID_3JA0MAFB</td>\n",
              "      <td>ID_0e1om7rz</td>\n",
              "    </tr>\n",
              "    <tr>\n",
              "      <th>4</th>\n",
              "      <td>2022-05-04 10:24:26.709045+00</td>\n",
              "      <td>MICHAEL MUSEMBI</td>\n",
              "      <td>Bills &amp; Fees</td>\n",
              "      <td>60</td>\n",
              "      <td>2022-05-04 15:28:00+00</td>\n",
              "      <td>False</td>\n",
              "      <td>NaN</td>\n",
              "      <td>Male</td>\n",
              "      <td>3</td>\n",
              "      <td>10000</td>\n",
              "      <td>ID_ZX4DCF4K</td>\n",
              "      <td>ID_0kfcoawb</td>\n",
              "    </tr>\n",
              "  </tbody>\n",
              "</table>\n",
              "</div>"
            ],
            "text/plain": [
              "         MERCHANT_CATEGORIZED_AT                      MERCHANT_NAME  \\\n",
              "0  2022-05-04 10:25:50.588042+00  UONSDA CHURCH  MOGERE MWAYO TITHE   \n",
              "1  2021-10-25 16:18:38.586837+00                          PARK N GO   \n",
              "2  2022-05-20 14:17:30.917297+00         SAFARICOM OFFERS  TUNUKIWA   \n",
              "3  2022-04-12 15:59:14.139347+00            ZILLIONS CREDIT LIMITED   \n",
              "4  2022-05-04 10:24:26.709045+00                    MICHAEL MUSEMBI   \n",
              "\n",
              "  MERCHANT_CATEGORIZED_AS  PURCHASE_VALUE            PURCHASED_AT  \\\n",
              "0         Rent / Mortgage            1700  2022-05-04 13:56:00+00   \n",
              "1        Transport & Fuel             100  2021-10-24 14:12:00+00   \n",
              "2             Data & WiFi              20  2022-05-27 12:46:00+00   \n",
              "3          Loan Repayment            3800  2022-02-07 12:16:00+00   \n",
              "4            Bills & Fees              60  2022-05-04 15:28:00+00   \n",
              "\n",
              "   IS_PURCHASE_PAID_VIA_MPESA_SEND_MONEY  USER_AGE USER_GENDER  \\\n",
              "0                                  False       NaN        Male   \n",
              "1                                  False      25.0      Female   \n",
              "2                                  False       NaN        Male   \n",
              "3                                  False       NaN        Male   \n",
              "4                                  False       NaN        Male   \n",
              "\n",
              "   USER_HOUSEHOLD  USER_INCOME      USER_ID Transaction_ID  \n",
              "0               3        10000  ID_ZX4DCF4K    ID_04mk78fa  \n",
              "1               4        90000  ID_U9WZMGJZ    ID_04xkfb07  \n",
              "2               3        10000  ID_ZX4DCF4K    ID_051urwuw  \n",
              "3               5       252000  ID_3JA0MAFB    ID_0e1om7rz  \n",
              "4               3        10000  ID_ZX4DCF4K    ID_0kfcoawb  "
            ]
          },
          "execution_count": 5,
          "metadata": {},
          "output_type": "execute_result"
        }
      ],
      "source": [
        "train.head()"
      ]
    },
    {
      "cell_type": "code",
      "execution_count": null,
      "metadata": {
        "id": "QZLEt0mnYSmy",
        "outputId": "9f9da8d9-1820-496f-88e9-4bbdf4f3cd01"
      },
      "outputs": [
        {
          "name": "stdout",
          "output_type": "stream",
          "text": [
            "<class 'pandas.core.frame.DataFrame'>\n",
            "RangeIndex: 373 entries, 0 to 372\n",
            "Data columns (total 12 columns):\n",
            " #   Column                                 Non-Null Count  Dtype  \n",
            "---  ------                                 --------------  -----  \n",
            " 0   MERCHANT_CATEGORIZED_AT                373 non-null    object \n",
            " 1   MERCHANT_NAME                          373 non-null    object \n",
            " 2   MERCHANT_CATEGORIZED_AS                373 non-null    object \n",
            " 3   PURCHASE_VALUE                         373 non-null    int64  \n",
            " 4   PURCHASED_AT                           373 non-null    object \n",
            " 5   IS_PURCHASE_PAID_VIA_MPESA_SEND_MONEY  373 non-null    bool   \n",
            " 6   USER_AGE                               61 non-null     float64\n",
            " 7   USER_GENDER                            367 non-null    object \n",
            " 8   USER_HOUSEHOLD                         373 non-null    int64  \n",
            " 9   USER_INCOME                            373 non-null    int64  \n",
            " 10  USER_ID                                373 non-null    object \n",
            " 11  Transaction_ID                         373 non-null    object \n",
            "dtypes: bool(1), float64(1), int64(3), object(7)\n",
            "memory usage: 32.5+ KB\n"
          ]
        }
      ],
      "source": [
        "train.info()"
      ]
    },
    {
      "cell_type": "code",
      "execution_count": null,
      "metadata": {
        "id": "0isZ9JGmYSm0",
        "outputId": "c706b450-986c-4580-8380-1ff10c11330e"
      },
      "outputs": [
        {
          "data": {
            "text/html": [
              "<div>\n",
              "<style scoped>\n",
              "    .dataframe tbody tr th:only-of-type {\n",
              "        vertical-align: middle;\n",
              "    }\n",
              "\n",
              "    .dataframe tbody tr th {\n",
              "        vertical-align: top;\n",
              "    }\n",
              "\n",
              "    .dataframe thead th {\n",
              "        text-align: right;\n",
              "    }\n",
              "</style>\n",
              "<table border=\"1\" class=\"dataframe\">\n",
              "  <thead>\n",
              "    <tr style=\"text-align: right;\">\n",
              "      <th></th>\n",
              "      <th>count</th>\n",
              "      <th>mean</th>\n",
              "      <th>std</th>\n",
              "      <th>min</th>\n",
              "      <th>25%</th>\n",
              "      <th>50%</th>\n",
              "      <th>75%</th>\n",
              "      <th>max</th>\n",
              "    </tr>\n",
              "  </thead>\n",
              "  <tbody>\n",
              "    <tr>\n",
              "      <th>PURCHASE_VALUE</th>\n",
              "      <td>373.0</td>\n",
              "      <td>4506.522788</td>\n",
              "      <td>15722.261797</td>\n",
              "      <td>10.0</td>\n",
              "      <td>150.0</td>\n",
              "      <td>690.0</td>\n",
              "      <td>2000.0</td>\n",
              "      <td>150000.0</td>\n",
              "    </tr>\n",
              "    <tr>\n",
              "      <th>USER_AGE</th>\n",
              "      <td>61.0</td>\n",
              "      <td>25.803279</td>\n",
              "      <td>1.423841</td>\n",
              "      <td>25.0</td>\n",
              "      <td>25.0</td>\n",
              "      <td>25.0</td>\n",
              "      <td>27.0</td>\n",
              "      <td>32.0</td>\n",
              "    </tr>\n",
              "    <tr>\n",
              "      <th>USER_HOUSEHOLD</th>\n",
              "      <td>373.0</td>\n",
              "      <td>2.831099</td>\n",
              "      <td>1.600033</td>\n",
              "      <td>1.0</td>\n",
              "      <td>1.0</td>\n",
              "      <td>3.0</td>\n",
              "      <td>4.0</td>\n",
              "      <td>7.0</td>\n",
              "    </tr>\n",
              "    <tr>\n",
              "      <th>USER_INCOME</th>\n",
              "      <td>373.0</td>\n",
              "      <td>146235.924933</td>\n",
              "      <td>166521.780346</td>\n",
              "      <td>8000.0</td>\n",
              "      <td>23000.0</td>\n",
              "      <td>90000.0</td>\n",
              "      <td>200000.0</td>\n",
              "      <td>1000000.0</td>\n",
              "    </tr>\n",
              "  </tbody>\n",
              "</table>\n",
              "</div>"
            ],
            "text/plain": [
              "                count           mean            std     min      25%      50%  \\\n",
              "PURCHASE_VALUE  373.0    4506.522788   15722.261797    10.0    150.0    690.0   \n",
              "USER_AGE         61.0      25.803279       1.423841    25.0     25.0     25.0   \n",
              "USER_HOUSEHOLD  373.0       2.831099       1.600033     1.0      1.0      3.0   \n",
              "USER_INCOME     373.0  146235.924933  166521.780346  8000.0  23000.0  90000.0   \n",
              "\n",
              "                     75%        max  \n",
              "PURCHASE_VALUE    2000.0   150000.0  \n",
              "USER_AGE            27.0       32.0  \n",
              "USER_HOUSEHOLD       4.0        7.0  \n",
              "USER_INCOME     200000.0  1000000.0  "
            ]
          },
          "execution_count": 7,
          "metadata": {},
          "output_type": "execute_result"
        }
      ],
      "source": [
        "train.describe().T"
      ]
    },
    {
      "cell_type": "markdown",
      "metadata": {
        "id": "Kyuht84tYSm2"
      },
      "source": [
        "### Missing values for train, test and extra"
      ]
    },
    {
      "cell_type": "code",
      "execution_count": null,
      "metadata": {
        "id": "y-nNPGHEYSm2",
        "outputId": "cef30523-da1c-49b8-a5a4-b35cba01583f"
      },
      "outputs": [
        {
          "data": {
            "text/html": [
              "<div>\n",
              "<style scoped>\n",
              "    .dataframe tbody tr th:only-of-type {\n",
              "        vertical-align: middle;\n",
              "    }\n",
              "\n",
              "    .dataframe tbody tr th {\n",
              "        vertical-align: top;\n",
              "    }\n",
              "\n",
              "    .dataframe thead th {\n",
              "        text-align: right;\n",
              "    }\n",
              "</style>\n",
              "<table border=\"1\" class=\"dataframe\">\n",
              "  <thead>\n",
              "    <tr style=\"text-align: right;\">\n",
              "      <th></th>\n",
              "      <th>column_name</th>\n",
              "      <th>percent_missing</th>\n",
              "    </tr>\n",
              "  </thead>\n",
              "  <tbody>\n",
              "    <tr>\n",
              "      <th>MERCHANT_CATEGORIZED_AT</th>\n",
              "      <td>MERCHANT_CATEGORIZED_AT</td>\n",
              "      <td>0.000000</td>\n",
              "    </tr>\n",
              "    <tr>\n",
              "      <th>MERCHANT_NAME</th>\n",
              "      <td>MERCHANT_NAME</td>\n",
              "      <td>0.000000</td>\n",
              "    </tr>\n",
              "    <tr>\n",
              "      <th>MERCHANT_CATEGORIZED_AS</th>\n",
              "      <td>MERCHANT_CATEGORIZED_AS</td>\n",
              "      <td>0.000000</td>\n",
              "    </tr>\n",
              "    <tr>\n",
              "      <th>PURCHASE_VALUE</th>\n",
              "      <td>PURCHASE_VALUE</td>\n",
              "      <td>0.000000</td>\n",
              "    </tr>\n",
              "    <tr>\n",
              "      <th>PURCHASED_AT</th>\n",
              "      <td>PURCHASED_AT</td>\n",
              "      <td>0.000000</td>\n",
              "    </tr>\n",
              "    <tr>\n",
              "      <th>IS_PURCHASE_PAID_VIA_MPESA_SEND_MONEY</th>\n",
              "      <td>IS_PURCHASE_PAID_VIA_MPESA_SEND_MONEY</td>\n",
              "      <td>0.000000</td>\n",
              "    </tr>\n",
              "    <tr>\n",
              "      <th>USER_AGE</th>\n",
              "      <td>USER_AGE</td>\n",
              "      <td>83.646113</td>\n",
              "    </tr>\n",
              "    <tr>\n",
              "      <th>USER_GENDER</th>\n",
              "      <td>USER_GENDER</td>\n",
              "      <td>1.608579</td>\n",
              "    </tr>\n",
              "    <tr>\n",
              "      <th>USER_HOUSEHOLD</th>\n",
              "      <td>USER_HOUSEHOLD</td>\n",
              "      <td>0.000000</td>\n",
              "    </tr>\n",
              "    <tr>\n",
              "      <th>USER_INCOME</th>\n",
              "      <td>USER_INCOME</td>\n",
              "      <td>0.000000</td>\n",
              "    </tr>\n",
              "    <tr>\n",
              "      <th>USER_ID</th>\n",
              "      <td>USER_ID</td>\n",
              "      <td>0.000000</td>\n",
              "    </tr>\n",
              "    <tr>\n",
              "      <th>Transaction_ID</th>\n",
              "      <td>Transaction_ID</td>\n",
              "      <td>0.000000</td>\n",
              "    </tr>\n",
              "  </tbody>\n",
              "</table>\n",
              "</div>"
            ],
            "text/plain": [
              "                                                                 column_name  \\\n",
              "MERCHANT_CATEGORIZED_AT                              MERCHANT_CATEGORIZED_AT   \n",
              "MERCHANT_NAME                                                  MERCHANT_NAME   \n",
              "MERCHANT_CATEGORIZED_AS                              MERCHANT_CATEGORIZED_AS   \n",
              "PURCHASE_VALUE                                                PURCHASE_VALUE   \n",
              "PURCHASED_AT                                                    PURCHASED_AT   \n",
              "IS_PURCHASE_PAID_VIA_MPESA_SEND_MONEY  IS_PURCHASE_PAID_VIA_MPESA_SEND_MONEY   \n",
              "USER_AGE                                                            USER_AGE   \n",
              "USER_GENDER                                                      USER_GENDER   \n",
              "USER_HOUSEHOLD                                                USER_HOUSEHOLD   \n",
              "USER_INCOME                                                      USER_INCOME   \n",
              "USER_ID                                                              USER_ID   \n",
              "Transaction_ID                                                Transaction_ID   \n",
              "\n",
              "                                       percent_missing  \n",
              "MERCHANT_CATEGORIZED_AT                       0.000000  \n",
              "MERCHANT_NAME                                 0.000000  \n",
              "MERCHANT_CATEGORIZED_AS                       0.000000  \n",
              "PURCHASE_VALUE                                0.000000  \n",
              "PURCHASED_AT                                  0.000000  \n",
              "IS_PURCHASE_PAID_VIA_MPESA_SEND_MONEY         0.000000  \n",
              "USER_AGE                                     83.646113  \n",
              "USER_GENDER                                   1.608579  \n",
              "USER_HOUSEHOLD                                0.000000  \n",
              "USER_INCOME                                   0.000000  \n",
              "USER_ID                                       0.000000  \n",
              "Transaction_ID                                0.000000  "
            ]
          },
          "execution_count": 8,
          "metadata": {},
          "output_type": "execute_result"
        }
      ],
      "source": [
        "#check for missing values\n",
        "percent_missing = train.isnull().sum() * 100 / len(train)\n",
        "missing_value_train = pd.DataFrame({'column_name': train.columns,\n",
        "                                 'percent_missing': percent_missing})\n",
        "missing_value_train"
      ]
    },
    {
      "cell_type": "code",
      "execution_count": null,
      "metadata": {
        "id": "rLQ6T4KmYSm4",
        "outputId": "16185a76-9cc5-4137-a629-28e960849915"
      },
      "outputs": [
        {
          "data": {
            "text/html": [
              "<div>\n",
              "<style scoped>\n",
              "    .dataframe tbody tr th:only-of-type {\n",
              "        vertical-align: middle;\n",
              "    }\n",
              "\n",
              "    .dataframe tbody tr th {\n",
              "        vertical-align: top;\n",
              "    }\n",
              "\n",
              "    .dataframe thead th {\n",
              "        text-align: right;\n",
              "    }\n",
              "</style>\n",
              "<table border=\"1\" class=\"dataframe\">\n",
              "  <thead>\n",
              "    <tr style=\"text-align: right;\">\n",
              "      <th></th>\n",
              "      <th>column_name</th>\n",
              "      <th>percent_missing</th>\n",
              "    </tr>\n",
              "  </thead>\n",
              "  <tbody>\n",
              "    <tr>\n",
              "      <th>MERCHANT_CATEGORIZED_AT</th>\n",
              "      <td>MERCHANT_CATEGORIZED_AT</td>\n",
              "      <td>0.000000</td>\n",
              "    </tr>\n",
              "    <tr>\n",
              "      <th>MERCHANT_NAME</th>\n",
              "      <td>MERCHANT_NAME</td>\n",
              "      <td>0.000000</td>\n",
              "    </tr>\n",
              "    <tr>\n",
              "      <th>PURCHASE_VALUE</th>\n",
              "      <td>PURCHASE_VALUE</td>\n",
              "      <td>0.000000</td>\n",
              "    </tr>\n",
              "    <tr>\n",
              "      <th>PURCHASED_AT</th>\n",
              "      <td>PURCHASED_AT</td>\n",
              "      <td>0.000000</td>\n",
              "    </tr>\n",
              "    <tr>\n",
              "      <th>IS_PURCHASE_PAID_VIA_MPESA_SEND_MONEY</th>\n",
              "      <td>IS_PURCHASE_PAID_VIA_MPESA_SEND_MONEY</td>\n",
              "      <td>0.000000</td>\n",
              "    </tr>\n",
              "    <tr>\n",
              "      <th>USER_AGE</th>\n",
              "      <td>USER_AGE</td>\n",
              "      <td>84.767025</td>\n",
              "    </tr>\n",
              "    <tr>\n",
              "      <th>USER_GENDER</th>\n",
              "      <td>USER_GENDER</td>\n",
              "      <td>0.896057</td>\n",
              "    </tr>\n",
              "    <tr>\n",
              "      <th>USER_HOUSEHOLD</th>\n",
              "      <td>USER_HOUSEHOLD</td>\n",
              "      <td>0.000000</td>\n",
              "    </tr>\n",
              "    <tr>\n",
              "      <th>USER_INCOME</th>\n",
              "      <td>USER_INCOME</td>\n",
              "      <td>0.000000</td>\n",
              "    </tr>\n",
              "    <tr>\n",
              "      <th>USER_ID</th>\n",
              "      <td>USER_ID</td>\n",
              "      <td>0.000000</td>\n",
              "    </tr>\n",
              "    <tr>\n",
              "      <th>Transaction_ID</th>\n",
              "      <td>Transaction_ID</td>\n",
              "      <td>0.000000</td>\n",
              "    </tr>\n",
              "  </tbody>\n",
              "</table>\n",
              "</div>"
            ],
            "text/plain": [
              "                                                                 column_name  \\\n",
              "MERCHANT_CATEGORIZED_AT                              MERCHANT_CATEGORIZED_AT   \n",
              "MERCHANT_NAME                                                  MERCHANT_NAME   \n",
              "PURCHASE_VALUE                                                PURCHASE_VALUE   \n",
              "PURCHASED_AT                                                    PURCHASED_AT   \n",
              "IS_PURCHASE_PAID_VIA_MPESA_SEND_MONEY  IS_PURCHASE_PAID_VIA_MPESA_SEND_MONEY   \n",
              "USER_AGE                                                            USER_AGE   \n",
              "USER_GENDER                                                      USER_GENDER   \n",
              "USER_HOUSEHOLD                                                USER_HOUSEHOLD   \n",
              "USER_INCOME                                                      USER_INCOME   \n",
              "USER_ID                                                              USER_ID   \n",
              "Transaction_ID                                                Transaction_ID   \n",
              "\n",
              "                                       percent_missing  \n",
              "MERCHANT_CATEGORIZED_AT                       0.000000  \n",
              "MERCHANT_NAME                                 0.000000  \n",
              "PURCHASE_VALUE                                0.000000  \n",
              "PURCHASED_AT                                  0.000000  \n",
              "IS_PURCHASE_PAID_VIA_MPESA_SEND_MONEY         0.000000  \n",
              "USER_AGE                                     84.767025  \n",
              "USER_GENDER                                   0.896057  \n",
              "USER_HOUSEHOLD                                0.000000  \n",
              "USER_INCOME                                   0.000000  \n",
              "USER_ID                                       0.000000  \n",
              "Transaction_ID                                0.000000  "
            ]
          },
          "execution_count": 9,
          "metadata": {},
          "output_type": "execute_result"
        }
      ],
      "source": [
        "#check for missing values\n",
        "percent_missing = test.isnull().sum() * 100 / len(test)\n",
        "missing_value_test = pd.DataFrame({'column_name': test.columns,\n",
        "                                 'percent_missing': percent_missing})\n",
        "missing_value_test"
      ]
    },
    {
      "cell_type": "code",
      "execution_count": null,
      "metadata": {
        "id": "6_zAQa-RYSm5",
        "outputId": "8ad2b03b-bc25-4b37-e50b-ef6ac9d46fa1"
      },
      "outputs": [
        {
          "data": {
            "text/html": [
              "<div>\n",
              "<style scoped>\n",
              "    .dataframe tbody tr th:only-of-type {\n",
              "        vertical-align: middle;\n",
              "    }\n",
              "\n",
              "    .dataframe tbody tr th {\n",
              "        vertical-align: top;\n",
              "    }\n",
              "\n",
              "    .dataframe thead th {\n",
              "        text-align: right;\n",
              "    }\n",
              "</style>\n",
              "<table border=\"1\" class=\"dataframe\">\n",
              "  <thead>\n",
              "    <tr style=\"text-align: right;\">\n",
              "      <th></th>\n",
              "      <th>column_name</th>\n",
              "      <th>percent_missing</th>\n",
              "    </tr>\n",
              "  </thead>\n",
              "  <tbody>\n",
              "    <tr>\n",
              "      <th>MERCHANT_CATEGORIZED_AT</th>\n",
              "      <td>MERCHANT_CATEGORIZED_AT</td>\n",
              "      <td>100.00</td>\n",
              "    </tr>\n",
              "    <tr>\n",
              "      <th>MERCHANT_NAME</th>\n",
              "      <td>MERCHANT_NAME</td>\n",
              "      <td>0.00</td>\n",
              "    </tr>\n",
              "    <tr>\n",
              "      <th>MERCHANT_CATEGORIZED_AS</th>\n",
              "      <td>MERCHANT_CATEGORIZED_AS</td>\n",
              "      <td>100.00</td>\n",
              "    </tr>\n",
              "    <tr>\n",
              "      <th>PURCHASE_VALUE</th>\n",
              "      <td>PURCHASE_VALUE</td>\n",
              "      <td>0.00</td>\n",
              "    </tr>\n",
              "    <tr>\n",
              "      <th>PURCHASED_AT</th>\n",
              "      <td>PURCHASED_AT</td>\n",
              "      <td>0.00</td>\n",
              "    </tr>\n",
              "    <tr>\n",
              "      <th>IS_PURCHASE_PAID_VIA_MPESA_SEND_MONEY</th>\n",
              "      <td>IS_PURCHASE_PAID_VIA_MPESA_SEND_MONEY</td>\n",
              "      <td>0.00</td>\n",
              "    </tr>\n",
              "    <tr>\n",
              "      <th>USER_AGE</th>\n",
              "      <td>USER_AGE</td>\n",
              "      <td>88.42</td>\n",
              "    </tr>\n",
              "    <tr>\n",
              "      <th>USER_GENDER</th>\n",
              "      <td>USER_GENDER</td>\n",
              "      <td>0.34</td>\n",
              "    </tr>\n",
              "    <tr>\n",
              "      <th>USER_HOUSEHOLD</th>\n",
              "      <td>USER_HOUSEHOLD</td>\n",
              "      <td>0.00</td>\n",
              "    </tr>\n",
              "    <tr>\n",
              "      <th>USER_INCOME</th>\n",
              "      <td>USER_INCOME</td>\n",
              "      <td>0.00</td>\n",
              "    </tr>\n",
              "    <tr>\n",
              "      <th>USER_ID</th>\n",
              "      <td>USER_ID</td>\n",
              "      <td>0.00</td>\n",
              "    </tr>\n",
              "    <tr>\n",
              "      <th>Transaction_ID</th>\n",
              "      <td>Transaction_ID</td>\n",
              "      <td>0.00</td>\n",
              "    </tr>\n",
              "  </tbody>\n",
              "</table>\n",
              "</div>"
            ],
            "text/plain": [
              "                                                                 column_name  \\\n",
              "MERCHANT_CATEGORIZED_AT                              MERCHANT_CATEGORIZED_AT   \n",
              "MERCHANT_NAME                                                  MERCHANT_NAME   \n",
              "MERCHANT_CATEGORIZED_AS                              MERCHANT_CATEGORIZED_AS   \n",
              "PURCHASE_VALUE                                                PURCHASE_VALUE   \n",
              "PURCHASED_AT                                                    PURCHASED_AT   \n",
              "IS_PURCHASE_PAID_VIA_MPESA_SEND_MONEY  IS_PURCHASE_PAID_VIA_MPESA_SEND_MONEY   \n",
              "USER_AGE                                                            USER_AGE   \n",
              "USER_GENDER                                                      USER_GENDER   \n",
              "USER_HOUSEHOLD                                                USER_HOUSEHOLD   \n",
              "USER_INCOME                                                      USER_INCOME   \n",
              "USER_ID                                                              USER_ID   \n",
              "Transaction_ID                                                Transaction_ID   \n",
              "\n",
              "                                       percent_missing  \n",
              "MERCHANT_CATEGORIZED_AT                         100.00  \n",
              "MERCHANT_NAME                                     0.00  \n",
              "MERCHANT_CATEGORIZED_AS                         100.00  \n",
              "PURCHASE_VALUE                                    0.00  \n",
              "PURCHASED_AT                                      0.00  \n",
              "IS_PURCHASE_PAID_VIA_MPESA_SEND_MONEY             0.00  \n",
              "USER_AGE                                         88.42  \n",
              "USER_GENDER                                       0.34  \n",
              "USER_HOUSEHOLD                                    0.00  \n",
              "USER_INCOME                                       0.00  \n",
              "USER_ID                                           0.00  \n",
              "Transaction_ID                                    0.00  "
            ]
          },
          "execution_count": 10,
          "metadata": {},
          "output_type": "execute_result"
        }
      ],
      "source": [
        "#check for missing values\n",
        "percent_missing = extra.isnull().sum() * 100 / len(extra)\n",
        "missing_value_extra = pd.DataFrame({'column_name': extra.columns,\n",
        "                                 'percent_missing': percent_missing})\n",
        "missing_value_extra"
      ]
    },
    {
      "cell_type": "code",
      "execution_count": null,
      "metadata": {
        "id": "GCQQ43W7YSm5"
      },
      "outputs": [],
      "source": [
        "extra = extra.drop(columns = ['MERCHANT_CATEGORIZED_AS','MERCHANT_CATEGORIZED_AT'])"
      ]
    },
    {
      "cell_type": "code",
      "execution_count": null,
      "metadata": {
        "id": "8_Fiu6gvYSm5"
      },
      "outputs": [],
      "source": [
        "cat_columns = [col for col in train.select_dtypes('object').columns]\n",
        "\n",
        "num_columns = [col for col in train.select_dtypes(['int', 'float']).columns]"
      ]
    },
    {
      "cell_type": "markdown",
      "metadata": {
        "id": "Y-egLKpbYSm6"
      },
      "source": [
        "### Lets fill the categorical ones with male \n",
        "* I chose this because the missing gender is only for one person. So he/she may either be a male or female so used male"
      ]
    },
    {
      "cell_type": "code",
      "execution_count": null,
      "metadata": {
        "id": "6zO2m1T2YSm8",
        "outputId": "0859a266-83c8-4251-f8bd-af3e6c870b76"
      },
      "outputs": [
        {
          "data": {
            "text/plain": [
              "Male      197\n",
              "Female    170\n",
              "Name: USER_GENDER, dtype: int64"
            ]
          },
          "execution_count": 13,
          "metadata": {},
          "output_type": "execute_result"
        }
      ],
      "source": [
        "train['USER_GENDER'].value_counts()"
      ]
    },
    {
      "cell_type": "code",
      "execution_count": null,
      "metadata": {
        "id": "scmFvfGvYSm8",
        "outputId": "92ae9672-3daa-47c5-cddf-1fa880246d26"
      },
      "outputs": [
        {
          "data": {
            "text/plain": [
              "IS_PURCHASE_PAID_VIA_MPESA_SEND_MONEY      0\n",
              "MERCHANT_CATEGORIZED_AS                    0\n",
              "MERCHANT_CATEGORIZED_AT                    0\n",
              "MERCHANT_NAME                              0\n",
              "PURCHASED_AT                               0\n",
              "PURCHASE_VALUE                             0\n",
              "Transaction_ID                             0\n",
              "USER_AGE                                 312\n",
              "USER_GENDER                                0\n",
              "USER_HOUSEHOLD                             0\n",
              "USER_ID                                    0\n",
              "USER_INCOME                                0\n",
              "dtype: int64"
            ]
          },
          "execution_count": 14,
          "metadata": {},
          "output_type": "execute_result"
        }
      ],
      "source": [
        "for col in train.columns:\n",
        "\n",
        "  if col in ['USER_GENDER']:\n",
        "    train[col] = train[col].fillna('Male')\n",
        "    \n",
        "\n",
        "# Confirm that there aren't any missing values\n",
        "train[train.columns.difference(['cost_category'])].isna().sum()"
      ]
    },
    {
      "cell_type": "code",
      "execution_count": null,
      "metadata": {
        "id": "flxdgRRLYSm9",
        "outputId": "e0d831cb-37f8-4c01-e1f1-536e48d47128"
      },
      "outputs": [
        {
          "data": {
            "text/plain": [
              "IS_PURCHASE_PAID_VIA_MPESA_SEND_MONEY      0\n",
              "MERCHANT_CATEGORIZED_AT                    0\n",
              "MERCHANT_NAME                              0\n",
              "PURCHASED_AT                               0\n",
              "PURCHASE_VALUE                             0\n",
              "Transaction_ID                             0\n",
              "USER_AGE                                 473\n",
              "USER_GENDER                                0\n",
              "USER_HOUSEHOLD                             0\n",
              "USER_ID                                    0\n",
              "USER_INCOME                                0\n",
              "dtype: int64"
            ]
          },
          "execution_count": 15,
          "metadata": {},
          "output_type": "execute_result"
        }
      ],
      "source": [
        "for col in test.columns:\n",
        "\n",
        "  if col in ['USER_GENDER']:\n",
        "    test[col] = test[col].fillna('Male')\n",
        "    \n",
        "\n",
        "# Confirm that there aren't any missing values\n",
        "test[test.columns.difference(['cost_category'])].isna().sum()"
      ]
    },
    {
      "cell_type": "code",
      "execution_count": null,
      "metadata": {
        "id": "tv3ignUVYSm9",
        "outputId": "fbf8cebf-8d39-4927-b00d-edf5444e6ddb"
      },
      "outputs": [
        {
          "data": {
            "text/plain": [
              "IS_PURCHASE_PAID_VIA_MPESA_SEND_MONEY       0\n",
              "MERCHANT_NAME                               0\n",
              "PURCHASED_AT                                0\n",
              "PURCHASE_VALUE                              0\n",
              "Transaction_ID                              0\n",
              "USER_AGE                                 8842\n",
              "USER_GENDER                                 0\n",
              "USER_HOUSEHOLD                              0\n",
              "USER_ID                                     0\n",
              "USER_INCOME                                 0\n",
              "dtype: int64"
            ]
          },
          "execution_count": 16,
          "metadata": {},
          "output_type": "execute_result"
        }
      ],
      "source": [
        "for col in extra.columns:\n",
        "\n",
        "  if col in ['USER_GENDER']:\n",
        "    extra[col] = extra[col].fillna('Male')\n",
        "    \n",
        "\n",
        "# Confirm that there aren't any missing values\n",
        "extra[extra.columns.difference(['cost_category'])].isna().sum()"
      ]
    },
    {
      "cell_type": "markdown",
      "metadata": {
        "id": "gNtDspwHYSm-"
      },
      "source": [
        "### For a baseline lets drop the age column (84% is alot of missing values)"
      ]
    },
    {
      "cell_type": "code",
      "execution_count": null,
      "metadata": {
        "id": "4vAtBbiKYSnA",
        "outputId": "7cfb3995-3f61-4ca9-e972-bbe64775c769"
      },
      "outputs": [
        {
          "data": {
            "text/plain": [
              "((373, 11), (558, 10), (10000, 9))"
            ]
          },
          "execution_count": 17,
          "metadata": {},
          "output_type": "execute_result"
        }
      ],
      "source": [
        "train = train.drop(columns = 'USER_AGE')\n",
        "test = test.drop(columns = 'USER_AGE')\n",
        "extra = extra.drop(columns = 'USER_AGE')\n",
        "train.shape,test.shape,extra.shape"
      ]
    },
    {
      "cell_type": "markdown",
      "metadata": {
        "id": "_WCAQ-b0YSnB"
      },
      "source": [
        "## Categorical Data"
      ]
    },
    {
      "cell_type": "code",
      "execution_count": null,
      "metadata": {
        "id": "rSks62BZYSnC",
        "outputId": "b06e6a49-4d5a-4548-c9c8-49eac428491d"
      },
      "outputs": [
        {
          "data": {
            "text/plain": [
              "MERCHANT_CATEGORIZED_AT                   58\n",
              "MERCHANT_NAME                            218\n",
              "MERCHANT_CATEGORIZED_AS                   13\n",
              "PURCHASE_VALUE                           150\n",
              "PURCHASED_AT                             365\n",
              "IS_PURCHASE_PAID_VIA_MPESA_SEND_MONEY      2\n",
              "USER_GENDER                                2\n",
              "USER_HOUSEHOLD                             7\n",
              "USER_INCOME                               15\n",
              "USER_ID                                   25\n",
              "Transaction_ID                           373\n",
              "dtype: int64"
            ]
          },
          "execution_count": 18,
          "metadata": {},
          "output_type": "execute_result"
        }
      ],
      "source": [
        "# check unique values in dataset\n",
        "train.apply(lambda x: len(x.unique()))"
      ]
    },
    {
      "cell_type": "code",
      "execution_count": null,
      "metadata": {
        "id": "4K0vo8dWYSnD",
        "outputId": "df96cac7-a17c-409e-bbe7-adb4aa0df214"
      },
      "outputs": [
        {
          "data": {
            "text/plain": [
              "MERCHANT_CATEGORIZED_AT                   57\n",
              "MERCHANT_NAME                            314\n",
              "PURCHASE_VALUE                           213\n",
              "PURCHASED_AT                             535\n",
              "IS_PURCHASE_PAID_VIA_MPESA_SEND_MONEY      2\n",
              "USER_GENDER                                2\n",
              "USER_HOUSEHOLD                             9\n",
              "USER_INCOME                               17\n",
              "USER_ID                                   30\n",
              "Transaction_ID                           558\n",
              "dtype: int64"
            ]
          },
          "execution_count": 19,
          "metadata": {},
          "output_type": "execute_result"
        }
      ],
      "source": [
        "# check unique values in dataset\n",
        "test.apply(lambda x: len(x.unique()))"
      ]
    },
    {
      "cell_type": "markdown",
      "metadata": {
        "id": "kvbI4ImpYSnE"
      },
      "source": [
        "### Levels In the Categorical Data + Date with a lot of classes\n",
        "### Categorized at \n"
      ]
    },
    {
      "cell_type": "code",
      "execution_count": null,
      "metadata": {
        "id": "8Phneu88YSnF",
        "outputId": "2c3788b0-fdb1-4726-d01f-44c82b66aca2"
      },
      "outputs": [
        {
          "data": {
            "text/plain": [
              "2022-04-12 15:59:14.139347+00    42\n",
              "2022-03-16 13:08:19.703288+00    35\n",
              "2022-03-16 13:05:51.851102+00    35\n",
              "2022-04-12 15:57:05.758311+00    30\n",
              "2022-05-31 13:27:24.704992+00    20\n",
              "2021-09-01 02:20:12.680427+00    18\n",
              "2021-09-01 02:19:31.317098+00    15\n",
              "2021-10-05 12:29:13.14963+00     13\n",
              "2022-06-01 10:23:56.42678+00     13\n",
              "2021-10-25 16:27:55.188211+00    12\n",
              "2022-06-01 10:25:16.7131+00      11\n",
              "2022-03-10 18:25:42.112294+00     8\n",
              "2022-05-31 13:27:55.17584+00      8\n",
              "2022-05-12 15:46:32.634262+00     7\n",
              "2021-10-05 12:45:58.000193+00     6\n",
              "2021-12-01 08:30:46.660752+00     6\n",
              "2022-03-10 18:21:31.781487+00     6\n",
              "2022-05-31 13:21:55.629867+00     6\n",
              "2021-10-25 16:18:38.586837+00     5\n",
              "2022-04-12 15:57:15.179609+00     5\n",
              "2022-04-12 15:59:29.101096+00     5\n",
              "2021-11-30 10:51:36.702996+00     4\n",
              "2021-12-01 08:33:13.82067+00      4\n",
              "2022-05-12 15:40:05.951342+00     3\n",
              "2022-02-23 13:37:55.038678+00     3\n",
              "2021-08-06 11:28:03.723042+00     3\n",
              "2021-08-06 11:28:03.855344+00     3\n",
              "2022-05-13 06:55:53.403538+00     3\n",
              "2022-02-23 13:31:09.552091+00     3\n",
              "2021-08-06 11:28:16.860332+00     3\n",
              "2021-08-06 11:28:16.846937+00     2\n",
              "2022-04-11 16:27:13.588397+00     2\n",
              "2022-05-04 18:39:01.19219+00      2\n",
              "2021-11-30 10:52:38.553994+00     2\n",
              "2022-04-08 10:56:46.107675+00     2\n",
              "2022-03-16 13:07:12.505595+00     2\n",
              "2021-12-20 16:47:22.619499+00     2\n",
              "2022-05-31 13:22:16.049027+00     2\n",
              "2022-04-08 10:51:16.328443+00     2\n",
              "2021-11-26 08:29:58.261766+00     2\n",
              "2021-10-25 16:29:12.89004+00      1\n",
              "2022-05-04 18:37:59.629671+00     1\n",
              "2021-10-05 12:29:36.542506+00     1\n",
              "2021-12-01 08:33:48.059715+00     1\n",
              "2022-05-04 18:37:59.899018+00     1\n",
              "2021-11-03 14:49:24.05659+00      1\n",
              "2022-05-04 10:25:50.588042+00     1\n",
              "2021-08-06 11:28:16.857538+00     1\n",
              "2021-08-06 11:28:03.954322+00     1\n",
              "2022-04-08 10:57:52.718675+00     1\n",
              "2022-03-16 13:05:03.450626+00     1\n",
              "2022-05-30 17:06:43.204499+00     1\n",
              "2022-04-08 10:57:13.116409+00     1\n",
              "2022-05-20 14:18:40.136044+00     1\n",
              "2022-01-07 09:41:44.286084+00     1\n",
              "2022-05-04 10:24:26.709045+00     1\n",
              "2022-05-20 14:17:30.917297+00     1\n",
              "2022-05-12 15:40:40.039879+00     1\n",
              "Name: MERCHANT_CATEGORIZED_AT, dtype: int64"
            ]
          },
          "execution_count": 20,
          "metadata": {},
          "output_type": "execute_result"
        }
      ],
      "source": [
        "train['MERCHANT_CATEGORIZED_AT'].value_counts()"
      ]
    },
    {
      "cell_type": "code",
      "execution_count": null,
      "metadata": {
        "id": "3nvSrcSTYSnF",
        "outputId": "9490d878-4189-48e1-dc79-19ff267c79af"
      },
      "outputs": [
        {
          "data": {
            "text/plain": [
              "2022-04-12 15:57:05.758311+00    67\n",
              "2022-04-12 15:59:14.139347+00    58\n",
              "2022-03-16 13:05:51.851102+00    49\n",
              "2022-03-16 13:08:19.703288+00    48\n",
              "2022-05-31 13:27:24.704992+00    29\n",
              "2021-09-01 02:20:12.680427+00    23\n",
              "2021-09-01 02:19:31.317098+00    20\n",
              "2022-06-01 10:23:56.42678+00     18\n",
              "2021-10-05 12:29:13.14963+00     17\n",
              "2021-10-05 12:45:58.000193+00    17\n",
              "2022-06-01 10:25:16.7131+00      16\n",
              "2022-05-12 15:40:05.951342+00    13\n",
              "2022-04-12 15:59:29.101096+00    13\n",
              "2021-10-25 16:27:55.188211+00    11\n",
              "2022-03-10 18:21:31.781487+00    11\n",
              "2021-10-25 16:18:38.586837+00    10\n",
              "2022-05-31 13:21:55.629867+00     9\n",
              "2021-12-01 08:30:46.660752+00     9\n",
              "2022-05-12 15:46:32.634262+00     7\n",
              "2022-03-10 18:25:42.112294+00     7\n",
              "2022-05-04 18:39:01.19219+00      7\n",
              "2022-04-08 10:56:46.107675+00     7\n",
              "2022-02-23 13:31:09.552091+00     7\n",
              "2022-04-12 15:57:15.179609+00     6\n",
              "2022-02-23 13:37:55.038678+00     6\n",
              "2022-05-31 13:27:55.17584+00      6\n",
              "2021-12-01 08:33:13.82067+00      6\n",
              "2022-05-04 18:39:01.881199+00     5\n",
              "2022-03-16 13:07:12.505595+00     5\n",
              "2021-11-30 10:51:36.702996+00     4\n",
              "2021-11-26 08:29:58.261766+00     4\n",
              "2022-04-08 10:57:52.718675+00     4\n",
              "2022-05-17 09:37:14.32481+00      4\n",
              "2021-08-06 11:28:16.857538+00     3\n",
              "2022-01-07 09:39:55.446642+00     3\n",
              "2022-05-04 18:37:59.899018+00     3\n",
              "2022-03-16 13:05:03.450626+00     2\n",
              "2021-08-06 11:28:16.846937+00     2\n",
              "2021-10-25 16:29:12.89004+00      2\n",
              "2022-05-04 18:37:59.629671+00     2\n",
              "2021-11-30 10:52:38.553994+00     2\n",
              "2021-08-06 11:28:03.723042+00     1\n",
              "2022-05-12 15:40:40.039879+00     1\n",
              "2021-08-06 11:28:03.855344+00     1\n",
              "2021-10-05 12:29:36.542506+00     1\n",
              "2022-01-25 08:48:47.92674+00      1\n",
              "2021-08-06 11:28:03.289361+00     1\n",
              "2022-05-20 14:17:30.917297+00     1\n",
              "2022-06-06 14:56:01.649597+00     1\n",
              "2021-08-30 15:33:08.560476+00     1\n",
              "2022-02-23 13:31:27.577374+00     1\n",
              "2021-11-26 08:27:16.457175+00     1\n",
              "2021-08-06 11:28:16.860332+00     1\n",
              "2022-06-06 14:58:46.021599+00     1\n",
              "2022-05-04 10:24:26.709045+00     1\n",
              "2021-10-25 16:19:06.928128+00     1\n",
              "2022-05-13 06:55:53.403538+00     1\n",
              "Name: MERCHANT_CATEGORIZED_AT, dtype: int64"
            ]
          },
          "execution_count": 21,
          "metadata": {},
          "output_type": "execute_result"
        }
      ],
      "source": [
        "test['MERCHANT_CATEGORIZED_AT'].value_counts()"
      ]
    },
    {
      "cell_type": "markdown",
      "metadata": {
        "id": "s8aDLqbRYSnG"
      },
      "source": [
        "#### get the year, month, date, day feature from this feature, see if it helps"
      ]
    },
    {
      "cell_type": "markdown",
      "metadata": {
        "id": "KKZZXVCTYSnG"
      },
      "source": [
        "### User_Income"
      ]
    },
    {
      "cell_type": "code",
      "execution_count": null,
      "metadata": {
        "id": "bSibQc2EYSnG",
        "outputId": "5e2ba461-0110-4c84-c777-7cf95122c420"
      },
      "outputs": [
        {
          "data": {
            "text/plain": [
              "10000      70\n",
              "85000      63\n",
              "252000     49\n",
              "200000     49\n",
              "90000      38\n",
              "250000     19\n",
              "150000     17\n",
              "23000      17\n",
              "8000       14\n",
              "750000     13\n",
              "30000       7\n",
              "60000       6\n",
              "100000      4\n",
              "350000      4\n",
              "1000000     3\n",
              "Name: USER_INCOME, dtype: int64"
            ]
          },
          "execution_count": 22,
          "metadata": {},
          "output_type": "execute_result"
        }
      ],
      "source": [
        "train['USER_INCOME'].value_counts()"
      ]
    },
    {
      "cell_type": "code",
      "execution_count": null,
      "metadata": {
        "id": "AYFwk7a1YSnH",
        "outputId": "9a82400d-5ba7-410a-ec34-dcd9805202df"
      },
      "outputs": [
        {
          "data": {
            "text/plain": [
              "10000      118\n",
              "85000      101\n",
              "252000      73\n",
              "200000      63\n",
              "90000       52\n",
              "23000       34\n",
              "150000      25\n",
              "750000      22\n",
              "250000      20\n",
              "8000        16\n",
              "30000       10\n",
              "350000       9\n",
              "100000       9\n",
              "60000        3\n",
              "1000000      1\n",
              "80000        1\n",
              "36000        1\n",
              "Name: USER_INCOME, dtype: int64"
            ]
          },
          "execution_count": 23,
          "metadata": {},
          "output_type": "execute_result"
        }
      ],
      "source": [
        "test['USER_INCOME'].value_counts()"
      ]
    },
    {
      "cell_type": "markdown",
      "metadata": {
        "id": "PjzpRG8xYSnI"
      },
      "source": [
        "#### Since there are two more new user_income levels in test and more in extra data decided to cluster them\n",
        "* clustering was based on near price ranges as seen below"
      ]
    },
    {
      "cell_type": "code",
      "execution_count": null,
      "metadata": {
        "id": "5Ge1ggeIYSnJ",
        "outputId": "95115c29-37c5-48e7-b41d-d8166d8e38fb"
      },
      "outputs": [
        {
          "name": "stdout",
          "output_type": "stream",
          "text": [
            "15\n",
            "15\n",
            "15\n"
          ]
        }
      ],
      "source": [
        "def income_clusters(x):\n",
        "    one=[10000]\n",
        "    two=[85000, 80000]\n",
        "    three=[252000]\n",
        "    four =[200000]\n",
        "    five=[90000]\n",
        "    six =[250000]\n",
        "    seven=[150000]\n",
        "    eight=[23000,21500 ,20000]\n",
        "    nine=[8000,5000]\n",
        "    ten=[750000]\n",
        "    eleven=[30000,36000,35000]\n",
        "    twelve =[60000]\n",
        "    thirteen=[100000]\n",
        "    fourteen = [350000]\n",
        "    fifteen = [1000000]\n",
        "    \n",
        "    if x in one:\n",
        "        return 10000\n",
        "    elif x in two:\n",
        "        return 85000\n",
        "    elif x in three:\n",
        "        return 252000\n",
        "    elif x in four:\n",
        "        return 200000   \n",
        "    elif x in five:\n",
        "        return 90000\n",
        "    if x in six:\n",
        "        return 250000\n",
        "    elif x in seven:\n",
        "        return 150000\n",
        "    elif x in eight:\n",
        "        return 23000\n",
        "    elif x in nine:\n",
        "        return 8000 \n",
        "    elif x in ten:\n",
        "        return 750000\n",
        "    if x in eleven:\n",
        "        return 30000\n",
        "    elif x in twelve:\n",
        "        return 60000\n",
        "    elif x in thirteen:\n",
        "        return 100000\n",
        "    elif x in fourteen:\n",
        "        return 350000 \n",
        "    elif x in fifteen:\n",
        "        return 1000000 \n",
        "test['USER_INCOME'] = test['USER_INCOME'].apply(income_clusters)\n",
        "train['USER_INCOME'] = train['USER_INCOME'].apply(income_clusters)\n",
        "extra['USER_INCOME'] = extra['USER_INCOME'].apply(income_clusters)\n",
        "print(train['USER_INCOME'].nunique())\n",
        "print(test['USER_INCOME'].nunique())\n",
        "print(extra['USER_INCOME'].nunique())    "
      ]
    },
    {
      "cell_type": "markdown",
      "metadata": {
        "id": "BtE5XUa5YSnK"
      },
      "source": [
        "### User_ID"
      ]
    },
    {
      "cell_type": "code",
      "execution_count": null,
      "metadata": {
        "id": "jHE5MUCuYSnL",
        "outputId": "4b8045ce-61af-4838-d3c9-e71c660d54c1"
      },
      "outputs": [
        {
          "data": {
            "text/plain": [
              "ID_1I8XYBWK    56\n",
              "ID_3JA0MAFB    49\n",
              "ID_ECX9BS4A    44\n",
              "ID_ZX4DCF4K    43\n",
              "ID_U9WZMGJZ    38\n",
              "ID_Y0386AT9    17\n",
              "ID_L8QMYB09    14\n",
              "ID_O8P8YS18    14\n",
              "ID_OZANC6XT    13\n",
              "ID_D8FOVVBB    13\n",
              "ID_40L9OTIM     9\n",
              "ID_GR569FUO     7\n",
              "ID_J8O7LHZ2     7\n",
              "ID_WO19RXAS     7\n",
              "ID_R4T8Q46J     6\n",
              "ID_KARF7R4R     6\n",
              "ID_OYT3IDV6     5\n",
              "ID_5Y35KI6Q     5\n",
              "ID_GAQ3PX9G     4\n",
              "ID_3XJU0KQ9     4\n",
              "ID_UJ0YSYEV     4\n",
              "ID_180RJKP4     3\n",
              "ID_CVK8ERW1     2\n",
              "ID_BMPPYJ2U     2\n",
              "ID_A7LQCJFS     1\n",
              "Name: USER_ID, dtype: int64"
            ]
          },
          "execution_count": 25,
          "metadata": {},
          "output_type": "execute_result"
        }
      ],
      "source": [
        "train['USER_ID'].value_counts()"
      ]
    },
    {
      "cell_type": "code",
      "execution_count": null,
      "metadata": {
        "id": "rLUC9maPYSnL",
        "outputId": "c390bd53-73f7-40db-bef4-fc834552d3e6"
      },
      "outputs": [
        {
          "data": {
            "text/plain": [
              "ID_1I8XYBWK    92\n",
              "ID_3JA0MAFB    73\n",
              "ID_ZX4DCF4K    65\n",
              "ID_ECX9BS4A    54\n",
              "ID_U9WZMGJZ    52\n",
              "ID_Y0386AT9    34\n",
              "ID_D8FOVVBB    22\n",
              "ID_GR569FUO    20\n",
              "ID_OYT3IDV6    19\n",
              "ID_O8P8YS18    17\n",
              "ID_L8QMYB09    16\n",
              "ID_OZANC6XT    12\n",
              "ID_40L9OTIM     9\n",
              "ID_3XJU0KQ9     9\n",
              "ID_WO19RXAS     9\n",
              "ID_J8O7LHZ2     9\n",
              "ID_5Y35KI6Q     8\n",
              "ID_KARF7R4R     8\n",
              "ID_CVK8ERW1     6\n",
              "ID_GAQ3PX9G     6\n",
              "ID_R4T8Q46J     5\n",
              "ID_1AMEATOU     3\n",
              "ID_UJ0YSYEV     2\n",
              "ID_A7LQCJFS     2\n",
              "ID_180RJKP4     1\n",
              "ID_QIBWKFP0     1\n",
              "ID_BMPPYJ2U     1\n",
              "ID_9OCPCLOX     1\n",
              "ID_KVE1YQI4     1\n",
              "ID_90M21S6P     1\n",
              "Name: USER_ID, dtype: int64"
            ]
          },
          "execution_count": 26,
          "metadata": {},
          "output_type": "execute_result"
        }
      ],
      "source": [
        "test['USER_ID'].value_counts()"
      ]
    },
    {
      "cell_type": "markdown",
      "metadata": {
        "id": "tIwUM9JhYSnM"
      },
      "source": [
        "#### 5 new customers, meaning that we have to consider this in the stratification scheme \n",
        "* well i never succeeded in this decided to go with StratifiedKFold instead"
      ]
    },
    {
      "cell_type": "markdown",
      "metadata": {
        "id": "vLmU1c7eYSnM"
      },
      "source": [
        "### User_ Household"
      ]
    },
    {
      "cell_type": "code",
      "execution_count": null,
      "metadata": {
        "id": "rt8mG8tsYSnM",
        "outputId": "65e5f96d-5906-475f-8cb3-9d694d5ea753"
      },
      "outputs": [
        {
          "data": {
            "text/plain": [
              "1    126\n",
              "3    100\n",
              "5     76\n",
              "4     38\n",
              "2     26\n",
              "7      4\n",
              "6      3\n",
              "Name: USER_HOUSEHOLD, dtype: int64"
            ]
          },
          "execution_count": 27,
          "metadata": {},
          "output_type": "execute_result"
        }
      ],
      "source": [
        "train['USER_HOUSEHOLD'].value_counts()"
      ]
    },
    {
      "cell_type": "code",
      "execution_count": null,
      "metadata": {
        "id": "1wzKTrOqYSnN",
        "outputId": "c7edc80e-4052-484f-ab8a-4a8dac8913a1"
      },
      "outputs": [
        {
          "data": {
            "text/plain": [
              "1    183\n",
              "3    140\n",
              "5    113\n",
              "2     55\n",
              "4     53\n",
              "7      9\n",
              "9      3\n",
              "6      1\n",
              "8      1\n",
              "Name: USER_HOUSEHOLD, dtype: int64"
            ]
          },
          "execution_count": 28,
          "metadata": {},
          "output_type": "execute_result"
        }
      ],
      "source": [
        "test['USER_HOUSEHOLD'].value_counts()"
      ]
    },
    {
      "cell_type": "markdown",
      "metadata": {
        "id": "oGYOTqXqYSnN"
      },
      "source": [
        "#### More  user_household data in test and extra so cluster them in train"
      ]
    },
    {
      "cell_type": "code",
      "execution_count": null,
      "metadata": {
        "id": "jHYTstvWYSnO",
        "outputId": "a4c31a88-abca-4ded-b7ec-25012ef00f98"
      },
      "outputs": [
        {
          "name": "stdout",
          "output_type": "stream",
          "text": [
            "7\n",
            "7\n",
            "7\n"
          ]
        }
      ],
      "source": [
        "def house_clusters(x):\n",
        "    one=[1]\n",
        "    two=[2]\n",
        "    three=[3]\n",
        "    four =[4]\n",
        "    five=[5]\n",
        "    six =[6]\n",
        "    seven=[7,8,9]\n",
        "\n",
        "    \n",
        "\n",
        "    if x == 1:\n",
        "        return 1\n",
        "    if x == 2:\n",
        "        return 2\n",
        "    if x == 3:\n",
        "        return 3\n",
        "    if x == 4:\n",
        "        return 4\n",
        "    if x == 5:\n",
        "        return 5\n",
        "    if x == 6:\n",
        "        return 6\n",
        "    if x >= 7:\n",
        "        return 7\n",
        "\n",
        "   \n",
        "test['USER_HOUSEHOLD'] = test['USER_HOUSEHOLD'].apply(house_clusters)\n",
        "extra['USER_HOUSEHOLD'] = extra['USER_HOUSEHOLD'].apply(house_clusters)\n",
        "print(train['USER_HOUSEHOLD'].nunique())\n",
        "print(test['USER_HOUSEHOLD'].nunique())\n",
        "print(extra['USER_HOUSEHOLD'].nunique())\n",
        "    "
      ]
    },
    {
      "cell_type": "markdown",
      "metadata": {
        "id": "l4i_E3J-YSnO"
      },
      "source": [
        "### Merchant_Name"
      ]
    },
    {
      "cell_type": "code",
      "execution_count": null,
      "metadata": {
        "id": "M9WAJd-FYSnP",
        "outputId": "fa1b25a5-c87b-4d59-b600-8430702af5a2"
      },
      "outputs": [
        {
          "data": {
            "text/plain": [
              "SAFARICOM OFFERS  TUNUKIWA                          14\n",
              "M-SHWARI ACCOUNT                                    12\n",
              "PETER KENDA                                         10\n",
              "SAFARICOM LIMITED                                   10\n",
              "EQUITY PAYBILL ACCOUNT                               8\n",
              "KPLC PREPAID                                         8\n",
              "CARREFOUR SRT                                        7\n",
              "LEAH NGOGA                                           7\n",
              "SAFARICOM HOME                                       6\n",
              "FATUMA OSORE                                         6\n",
              "SAFARICOM POST PAID                                  5\n",
              "ELIZABETH NYAMBURA                                   5\n",
              "JACKSON ANDIVA                                       4\n",
              "RAPHAEL MWANGI                                       4\n",
              "NHIF                                                 4\n",
              "KAPS PARKING                                         4\n",
              "JERUSA OTIENO                                        4\n",
              "CEDRIC OCHOLA                                        4\n",
              "TELKOM KENYA LIMITED                                 4\n",
              "PETER NJOORA KENDA                                   3\n",
              "DENIS OTIENO                                         3\n",
              "KILELESHWA SUPERSHINE                                3\n",
              "TEOFILO LIGAWA                                       3\n",
              "OILIBYA WAIYAKI                                      3\n",
              "VENDIT LIMITED                                       3\n",
              "TUSKYS -T MALL                                       3\n",
              "KUNE FOOD LAB KENYA LIMITED                          3\n",
              "ENVY VIVA CORPORATE                                  3\n",
              "NAIVAS                                               2\n",
              "JOHN NJIRU GAKUNJU                                   2\n",
              "CHRISTINE OOKO                                       2\n",
              "JERUSA A OTIENO                                      2\n",
              "FLORENCE KANANA                                      2\n",
              "TOTAL K STATE HOUSE 1                                2\n",
              "PETROCITY ENTERPRISES LIMITED                        2\n",
              "MIKE  KOECH                                          2\n",
              "SAMWEL  KIMANI                                       2\n",
              "NAIVAS LIFESTYLE                                     2\n",
              "PESAPAL                                              2\n",
              "PARK N GO                                            2\n",
              "IM BANK C2B                                          2\n",
              "SAMWEL KIMANI                                        2\n",
              "TOTAL - KIAMBU ROAD                                  2\n",
              "ONESMUS  GAKURU                                      2\n",
              "JAVA                                                 2\n",
              "JIMMIE WAIRIMU                                       2\n",
              "SAFARICOM POST                                       2\n",
              "NAIVAS KITENGELA                                     2\n",
              "FARMERS BUTCHERY                                     2\n",
              "KEMAHMWA ENTERPRISE HQ                               2\n",
              "SAFARICOM POSTPAID BUNDLES                           2\n",
              "ALBERT  MBOGO                                        2\n",
              "GLADWELL MBURU                                       2\n",
              "KCB PAYBILL AC                                       2\n",
              "JOSEPH NTHENGE                                       2\n",
              "MICHAEL MUSEMBI                                      2\n",
              "ERIC CHESI                                           2\n",
              "ZILLIONS CREDIT LIMITED                              2\n",
              "NCBA LOOP                                            1\n",
              "VITAMIX FRESH FRUITS AND JUICES                      1\n",
              "AUDRINE  MAKAKA                                      1\n",
              "DENIS OCHIENG OTIENO                                 1\n",
              "NIFTY TIGONI LIMITED                                 1\n",
              "NAOMI  WANJOHI                                       1\n",
              "SHOP AND                                             1\n",
              "MOFFAT OMWENO                                        1\n",
              "MIRIAM  MUNGAI                                       1\n",
              "KRA - NAIROBI COUNTY REVENUE                         1\n",
              "QUENSIN  ROHEYIA                                     1\n",
              "KENNEDY MUREITHI                                     1\n",
              "MELISA ANYONJE MALALA                                1\n",
              "MOSES NGURE                                          1\n",
              "ALCHEMIIST - LEGEND BAR                              1\n",
              "JACKLINE  OMOLO                                      1\n",
              "NIMROD ZIRO                                          1\n",
              "TOTALENERGIES ATHI RIVER 1                           1\n",
              "NAIVAS AGA KHAN WALK                                 1\n",
              "CRAFT - CHUPA CHAP                                   1\n",
              "APS ABC PARKING                                      1\n",
              "ARNELLE OMONDI                                       1\n",
              "ONAIRES CATERERS                                     1\n",
              "JOSEPH MATENGE                                       1\n",
              "PATRICK  MUNYAO                                      1\n",
              "GITHUNGURI SELFRIDGES SUPERMARKET                    1\n",
              "JAVA CIATA MALL                                      1\n",
              "RAPHAEL OWAKO                                        1\n",
              "MARSH WAVOMBA                                        1\n",
              "LANGATA CREAMY                                       1\n",
              "FISH BAY                                             1\n",
              "LOICE OBANDA OTIENO                                  1\n",
              "ASL TD                                               1\n",
              "MICHAEL ACHOCHI                                      1\n",
              "TOTAL ENERGIES KILELESHWA-LEMPIRAS LIMITED           1\n",
              "TUSKYS -CHAP CHAP THIGIRI                            1\n",
              "CITAM BUSINESS FORUM   CBF ON                        1\n",
              "ESTHER  NDIRITU                                      1\n",
              "EQUITY PAYBILL                                       1\n",
              "MARIEKA WINES AND SPIRIT                             1\n",
              "CAPTURE ADVENTURES                                   1\n",
              "RUBIS                                                1\n",
              "PIZZA IN BELLEVUE                                    1\n",
              "NCBA BANK                                            1\n",
              "GREAT IMPACT                                         1\n",
              "RODGERS SIMIYU                                       1\n",
              "COLLINS OUMA                                         1\n",
              "RIO GIFT SHOP                                        1\n",
              "ZUKU  FOR                                            1\n",
              "POA                                                  1\n",
              "MAMBO ITALIA-LAVINGTON                               1\n",
              "FAMILY BANK PESA PAP                                 1\n",
              "JOSEPHINE THUKU                                      1\n",
              "NIMROD MWATELA                                       1\n",
              "LEILA KAINGU                                         1\n",
              "PAYTECH LIMITED                                      1\n",
              "ROBERT KARIUKI                                       1\n",
              "SHELL ST AUSTINS SERVICES STATION                    1\n",
              "KENGELES-GARDEN BAR                                  1\n",
              "NAIROBI JAVA HOUSE SARIT CENTRE                      1\n",
              "KILELESHWA WARD NEIGHBORHOOD ASSOCIATION  KIWANA     1\n",
              "SEVEN EIGHT SIX BUTCHERY                             1\n",
              "NELLY BIKUNDO                                        1\n",
              "THE ORIGINS                                          1\n",
              "NAIROBI JAVA                                         1\n",
              "BETHSHEBA NYAUNDI                                    1\n",
              "DEEJINA LIMITED                                      1\n",
              "HARRISON JUMA AYUAK                                  1\n",
              "NEBERT GITAU                                         1\n",
              "LILIAN OTIENO                                        1\n",
              "OLA ENERGY KILIMANI- TYRE PLUS LIMITED               1\n",
              "AGGREY  MWANGALE                                     1\n",
              "MOHAMED  ZIMBA                                       1\n",
              "PAUL  MUASYA                                         1\n",
              "TOTAL K STATE HOUSE- SHOP                            1\n",
              "UONSDA CHURCH  MOGERE MWAYO TITHE                    1\n",
              "PALAZZO LIMITED - PARKING                            1\n",
              "JULLY AKIN                                           1\n",
              "KILIMANJARO LUNCHEONETTE                             1\n",
              "SILVANO  NGARI                                       1\n",
              "KANGA HARDWARE                                       1\n",
              "TOTALENERGIES KITISURU                               1\n",
              "ASHAKI GRILL AND BBQ                                 1\n",
              "VIBE NAIROBI LIMITED                                 1\n",
              "IPAY LTD                                             1\n",
              "BRIOCHE RUBIS LANGATA                                1\n",
              "QUICK MART FRESH N EASY BYPASS                       1\n",
              "MABENAN CYBER                                        1\n",
              "MEMORIES PRODUCTION STUDIO                           1\n",
              "LILIAN GICHU                                         1\n",
              "CAPTON ENTERPRISES NRBI WEST                         1\n",
              "MYAIRTIME LIMITED                                    1\n",
              "CAFETERIA AND TIN TIN RESTAURANT                     1\n",
              "MBAIRES RESTAURANT 6                                 1\n",
              "CAROLINE KURIA                                       1\n",
              "SKY-GARDEN                                           1\n",
              "JAVA AGAKHAN MAIN                                    1\n",
              "ZURI MEDICAL FUND  EVAN OMONDI                       1\n",
              "GLADYS WANJIRU MWANGI                                1\n",
              "MOGO AUTO LIMITED  KDA                               1\n",
              "THREE BINS SERVICES                                  1\n",
              "GARIDON ENTERPRISES VIA CO-OP                        1\n",
              "TABITHA RAORE                                        1\n",
              "KFC WOODVALE                                         1\n",
              "ENOCK  MAKORI                                        1\n",
              "WAFULA ANNE                                          1\n",
              "IM BANK                                              1\n",
              "JIWEKE TAVERN                                        1\n",
              "CHRISPIN MALOBA                                      1\n",
              "GALITOS BELLEVUE                                     1\n",
              "SIXTUS ABOLALA                                       1\n",
              "IDEAL APPLIANCES                                     1\n",
              "BETHSEBA  MAKOKHA                                    1\n",
              "HELLEN  MURIGI                                       1\n",
              "HILDA  EREGWA                                        1\n",
              "NCBA BANK KENYA PLC 1                                1\n",
              "STEPHEN  OSANGO                                      1\n",
              "DR CECILIA                                           1\n",
              "PESAPAL  FOR                                         1\n",
              "FAHARI RETIREMENT PLAN                               1\n",
              "NAIVAS SUPERMARKET                                   1\n",
              "WINTA WOLDEGABRIEL +254795225400                     1\n",
              "ART MARKET KILELESHWA                                1\n",
              "SAFARICOM POSTPAID                                   1\n",
              "KELVIN OWINO                                         1\n",
              "LIBERTY LIFE                                         1\n",
              "KEZIA  NDINI                                         1\n",
              "DESMOND MATIMU                                       1\n",
              "VINCENT KARIUKI MBURU                                1\n",
              "GLADYS MAURINE                                       1\n",
              "NAIROBI WATER  SEWERAGE CO LTD                       1\n",
              "METROMART LTD                                        1\n",
              "TOTALENERGIES MACHAKOS                               1\n",
              "PAYTECH -THE JUNCTION MALL                           1\n",
              "HUHUS PIZZA LIMITED HO                               1\n",
              "GOODLIFE PHARMACY -SARIT CENTRE 2                    1\n",
              "OWETTE DISHES                                        1\n",
              "VICTOR  WAWERU                                       1\n",
              "BAABAX EXPRESS LIMITED                               1\n",
              "BRIAN  MUNANGWE                                      1\n",
              "SAMUEL  KIBUI                                        1\n",
              "MARY MBUCHA                                          1\n",
              "CITAM KITENGELA   OFFERING  ON                       1\n",
              "BETH GICHU                                           1\n",
              "REPUBLIQOUR HUB                                      1\n",
              "MORRIS  MULWA                                        1\n",
              "LIPA KARO KCB ACCOUNT                                1\n",
              "MBCI   OFFERING  ON                                  1\n",
              "ELIVIN KWAMBOKA MOYWAYWA                             1\n",
              "THE SPOT POOL BAR                                    1\n",
              "STATES BARBERSHOP                                    1\n",
              "CETRICK  MUKALAVAI                                   1\n",
              "OUTSKIRTS PLACE                                      1\n",
              "NABO CAPITAL LTD C2B                                 1\n",
              "WANZA SEKETA                                         1\n",
              "DEEPAL  PATEL                                        1\n",
              "OAKS  CORKS - ONLINE                                 1\n",
              "QUICK MART                                           1\n",
              "OLIVIA AKINYI                                        1\n",
              "RUBIS ENJOY UN AVENUE                                1\n",
              "Name: MERCHANT_NAME, dtype: int64"
            ]
          },
          "execution_count": 30,
          "metadata": {},
          "output_type": "execute_result"
        }
      ],
      "source": [
        "train['MERCHANT_NAME'].value_counts()"
      ]
    },
    {
      "cell_type": "code",
      "execution_count": null,
      "metadata": {
        "id": "2AtvxZTfYSnP",
        "outputId": "0965d627-7a04-4966-af45-f6e392d3b48c"
      },
      "outputs": [
        {
          "data": {
            "text/plain": [
              "FATUMA OSORE                                         17\n",
              "PETER KENDA                                          14\n",
              "SAFARICOM OFFERS  TUNUKIWA                           13\n",
              "KPLC PREPAID                                         12\n",
              "KAPS PARKING                                         11\n",
              "EQUITY PAYBILL ACCOUNT                               11\n",
              "M-SHWARI ACCOUNT                                     10\n",
              "SAFARICOM HOME                                        8\n",
              "SAFARICOM LIMITED                                     8\n",
              "LEAH NGOGA                                            8\n",
              "JACKSON ANDIVA                                        7\n",
              "QUICK MART KIAMBU                                     7\n",
              "RAPHAEL MWANGI                                        7\n",
              "TELKOM KENYA LIMITED                                  5\n",
              "TEOFILO LIGAWA                                        5\n",
              "KCB PAYBILL AC                                        5\n",
              "SAFARICOM POST PAID                                   5\n",
              "CEDRIC OCHOLA                                         5\n",
              "CARREFOUR SRT                                         5\n",
              "MYAIRTIME LIMITED                                     5\n",
              "PETER NJOORA KENDA                                    5\n",
              "JERUSA A OTIENO                                       5\n",
              "DENIS OTIENO                                          4\n",
              "ENVY VIVA CORPORATE                                   4\n",
              "TABITHA RAORE                                         4\n",
              "SAMWEL KIMANI                                         4\n",
              "TUSKYS -T MALL                                        4\n",
              "SHOP AND                                              4\n",
              "NAIVAS LIFESTYLE                                      4\n",
              "METROMART LTD                                         3\n",
              "JERUSA OTIENO                                         3\n",
              "ONESMUS  GAKURU                                       3\n",
              "ELIZABETH NYAMBURA                                    3\n",
              "MBCI   OFFERING  ON                                   3\n",
              "JOSEPH MOGERE                                         3\n",
              "ZUKU  FOR                                             3\n",
              "XGO KENYA LIMITED                                     3\n",
              "ZASH LOAN                                             3\n",
              "TOTAL K STATE HOUSE 1                                 3\n",
              "GITHUNGURI SELFRIDGES SUPERMARKET                     3\n",
              "MICHAEL MUSEMBI                                       2\n",
              "MARIEKA WINES AND SPIRIT                              2\n",
              "TOTAL ROSSLYN SERVICE STATION                         2\n",
              "CAKES BY EUDIE LIMITED                                2\n",
              "DUNCAN  NDUGO                                         2\n",
              "TOTALENERGIES KITISURU                                2\n",
              "KILELESHWA SUPERSHINE                                 2\n",
              "MARY MUGURE KIGO                                      2\n",
              "BAYES                                                 2\n",
              "PETER NGANGA KARUGA                                   2\n",
              "NAIVAS AGA KHAN WALK                                  2\n",
              "GEORGE KAMAU                                          2\n",
              "HOUSE OF CHIC                                         2\n",
              "ALBERT  MBOGO                                         2\n",
              "RISPER  KWANYA                                        2\n",
              "KANDAMOJA APP                                         2\n",
              "TONY WEST LIMITED 5                                   2\n",
              "STANBIC BANK                                          2\n",
              "KRA - NAIROBI COUNTY REVENUE                          2\n",
              "CREDITAREA CAPITAL LIMITED                            2\n",
              "HENRY NG'ENDA                                         2\n",
              "CASH NOW  CASHNOW                                     2\n",
              "JASON WANJOHI                                         2\n",
              "ZALENA KITCHEN                                        2\n",
              "WAKANDA CREDIT LIMITED                                2\n",
              "STEPHEN  OSANGO                                       2\n",
              "PURTIY MWAGIRU                                        2\n",
              "AGNES NGANGA                                          2\n",
              "MYDAWA  FOR                                           2\n",
              "LAURELS LATTE                                         2\n",
              "ZUKU                                                  2\n",
              "ELIVIN KWAMBOKA MOYWAYWA                              2\n",
              "HARRISON JUMA AYUAK                                   2\n",
              "MUCHIRI NDAMBIRI                                      2\n",
              "JOSPHINE WAMBUI HOTEL                                 2\n",
              "KUNE FOOD LAB KENYA LIMITED                           2\n",
              "RUBIS SABAKI                                          2\n",
              "M-SHWARI LOCK SAVINGS                                 2\n",
              "NCBA LOOP                                             2\n",
              "ABSA BANK KENYA PLC                                   2\n",
              "MZIZI NETWORKS                                        2\n",
              "HUHUS PIZZA LIMITED HO                                2\n",
              "ELIZABETH WANGARI                                     2\n",
              "SAFARICOM POSTPAID                                    2\n",
              "NAIROBI JAVA                                          2\n",
              "HENRY MOGERE                                          1\n",
              "ALLSTAR GAS SUPPLIES                                  1\n",
              "ALEX  SAKWA                                           1\n",
              "JUMIA KE  VZEOAQ                                      1\n",
              "CHANDARANA YAYA 1                                     1\n",
              "JULLY AKIN                                            1\n",
              "ENGEN KENYA                                           1\n",
              "ESTHER WANJIKU KARANJA                                1\n",
              "JACINTA MWONGELI KALOKI VIA SMEP                      1\n",
              "DORCAS  WANJOHI                                       1\n",
              "VMX FITNESS LTD  LUCIA MUNANIE WAMBUA                 1\n",
              "FRACIAH  KAGAI                                        1\n",
              "JUDY                                                  1\n",
              "DIRECT PAY                                            1\n",
              "CRAFT - CHUPA CHAP                                    1\n",
              "MICHAEL  NJERU                                        1\n",
              "JOEL  RABEL                                           1\n",
              "DAVID MWANIKI NJOKA                                   1\n",
              "SAFARICOM POSTPAID BUNDLES                            1\n",
              "GLADYS MAURINE                                        1\n",
              "IVY SHIKUMU                                           1\n",
              "JOHN  KIOKO                                           1\n",
              "ODHIAMBO OCHIMBO                                      1\n",
              "NAIVAS KITENGELA                                      1\n",
              "JACKLINE MWAI                                         1\n",
              "FREDRICK  OMENYO                                      1\n",
              "CARREFOUR                                             1\n",
              "STEPHANIE WANGUI                                      1\n",
              "HELLEN OTIENO                                         1\n",
              "SHELL WINDSER                                         1\n",
              "NAIVAS KAMAKIS                                        1\n",
              "WINFRIDA KHATIALA MULAMA                              1\n",
              "MICHELLE  RODROT                                      1\n",
              "THOMAS GITHINJI GATHIOMI                              1\n",
              "JOHN WAITHERA                                         1\n",
              "PATRICK  MASESE                                       1\n",
              "KELVIN NJOKA                                          1\n",
              "ROGERS MORANGA                                        1\n",
              "FAMILY BANK PESA PAP                                  1\n",
              "TOTAL BODY TRANSFORMATION  LUCIA MUNANIE              1\n",
              "RHODA RICHARD                                         1\n",
              "FARMER'S CHOICE STOCKISTS                             1\n",
              "MAMLAKA  HILL                                         1\n",
              "RUSHAB PETROLEUM LIMITED 1                            1\n",
              "MARGARET  GACOMBA                                     1\n",
              "THE WINNING POST LIMITED 1                            1\n",
              "PESAPAL  FOR                                          1\n",
              "RODNEY  WAITE                                         1\n",
              "K UNITY SACCO LIMITED                                 1\n",
              "LEE MBITHI                                            1\n",
              "ELIAS MBURU                                           1\n",
              "PATRICIA  ROMANA                                      1\n",
              "ANASTACIA CHEROBON                                    1\n",
              "NOVACARE PHARMACY                                     1\n",
              "LIBERTY LIFE                                          1\n",
              "SAFARICOM POST                                        1\n",
              "JOHN ONYANGO                                          1\n",
              "GALITOS BELLEVUE                                      1\n",
              "ANKOLE GRILL LIMITED                                  1\n",
              "SHARON GESORA                                         1\n",
              "BERNARD NDUNG'U                                       1\n",
              "GO TV                                                 1\n",
              "CHARLENNE AKETCH OBBO ONYANGO                         1\n",
              "FAYAZ BAKERS KILIFI TOWN SHOP                         1\n",
              "UONSDA CHURCH  TITHE-MAIN                             1\n",
              "TERESA NYARUNDA                                       1\n",
              "CBD-680                                               1\n",
              "JUDY  MUSISIA                                         1\n",
              "THE NGONG ROAD FOREST ASSOCIATION1                    1\n",
              "FATHALLA  ABOUBAKR                                    1\n",
              "POA                                                   1\n",
              "CARREFOUR GLR                                         1\n",
              "NAIROBI FAIRY NIGHT LIGHTS LIMITED  EVAN              1\n",
              "NAOMI  GATHUU                                         1\n",
              "TRASH MANAGER LIMITED                                 1\n",
              "TOTALENERGIES MADARAKA 1                              1\n",
              "SMOOTHIE DJS ENTERPRISE 2                             1\n",
              "STEPHEN  GITHII                                       1\n",
              "JOSEPHINE THUKU                                       1\n",
              "MOUREEN MOMANYI                                       1\n",
              "O-STREAM CREDIT HELA                                  1\n",
              "TINGG CELLULANT                                       1\n",
              "DUKE NYAMARI                                          1\n",
              "STEDMARK GARDENS  RECREATION CENTER KAREN NAIROBI     1\n",
              "THE BOSSBABY                                          1\n",
              "RHODA  MBITHU                                         1\n",
              "JOSEPH NTHENGE                                        1\n",
              "AUDRINE  MAKAKA                                       1\n",
              "PETER  KIHIU                                          1\n",
              "FARMERS BUTCHERY                                      1\n",
              "UCHUMI SUPERMARKET NAIROBI WEST 3                     1\n",
              "FLORENCE KANANA                                       1\n",
              "PIZZA HUT YAYA                                        1\n",
              "FREDRICK  NGATIA                                      1\n",
              "GHARIB HABIB                                          1\n",
              "ALMA APARTMENTS MANAGEMENT CO LTD                     1\n",
              "KEN WINES AND SPIRITS                                 1\n",
              "CHAPA COPY COMPANY - KILELESHWA                       1\n",
              "MARK  MUSISIA                                         1\n",
              "JUDITH MOSIGISI                                       1\n",
              "BLIZZ WINES AND SPIRITS DISTRIBUTORS                  1\n",
              "DORINE ADHIAMBO                                       1\n",
              "OILIBYA WAIYAKI                                       1\n",
              "MATHEW RAPANDO                                        1\n",
              "EDWIN  OMBATI                                         1\n",
              "REUBEN WEMO MEDICAL FUND  MICHEL ON                   1\n",
              "SILVANO  NGARI                                        1\n",
              "JULIA ODOYO                                           1\n",
              "CITAM KAREN   TITHE  ON                               1\n",
              "SAFARICOM LIMITED  ON                                 1\n",
              "WANGARI KINYANJUI                                     1\n",
              "INNOCENT KOJWANG                                      1\n",
              "PLANTY FLOWER AND GARDEN                              1\n",
              "SERENI STORES AND MINIMATT                            1\n",
              "SAFARICOM OFFERS                                      1\n",
              "SMART GYMS                                            1\n",
              "SHOP LOCAL -ALMA                                      1\n",
              "VALENTINE PUB WINE AND SPIRITS  V                     1\n",
              "BRAVINE SUNGAH STOWER                                 1\n",
              "MOGO AUTO LIMITED  KDA                                1\n",
              "KCB PAYBILL                                           1\n",
              "VENY  MAUTI                                           1\n",
              "MARY MUNGAI                                           1\n",
              "ZIMELE UNIT TRUST                                     1\n",
              "CHRISTOHER ONGAYA                                     1\n",
              "SEVEN EIGHT SIX BUTCHERY                              1\n",
              "SAFARILINK AVIATION LIMITED                           1\n",
              "JACKSON  MUSYOKI                                      1\n",
              "NELLY WANJIRU KURIA                                   1\n",
              "ACCESS AFYA                                           1\n",
              "BIG FISH                                              1\n",
              "QUICK MART RUAKA                                      1\n",
              "CHRISTINE MUTISYA                                     1\n",
              "SERENI STORES                                         1\n",
              "PETER  INDIMULI                                       1\n",
              "BARISTAPRO KENYA LTD                                  1\n",
              "CO-OPERATIVE BANK COLLECTION ACCOUNT                  1\n",
              "CARREFOUR  GLR                                        1\n",
              "JANE OKELLO                                           1\n",
              "COCO JAMBO                                            1\n",
              "PESAPAL                                               1\n",
              "JOHN NJIRU GAKUNJU                                    1\n",
              "UONSDA CHURCH  OFFERING-MAIN                          1\n",
              "BATA                                                  1\n",
              "MOTOR CONSULT SERVICES LIMITED VIA NIC BANK           1\n",
              "KENNEDY MUMIA                                         1\n",
              "GOODLIFE PHARMACY WESTLANDS SQUARE                    1\n",
              "ARNICA PHARMACEUTICALS                                1\n",
              "SHELL RIDGEWAYS                                       1\n",
              "KENDRICK  NAMAL                                       1\n",
              "JAVA AGAKHAN MAIN                                     1\n",
              "MBCI  FOR                                             1\n",
              "DUNTON OKOTH                                          1\n",
              "CECILIA  MWANGI                                       1\n",
              "KENYA REVENUE AUTHORITY                               1\n",
              "LOISHOOK  GODWIN                                      1\n",
              "ANTONY  MAKAU                                         1\n",
              "CAROLINE KURIA                                        1\n",
              "ZAVON HEZRON                                          1\n",
              "THE BARNYARD LOUNGE AND GRILL                         1\n",
              "JACKLINE IMINZA                                       1\n",
              "FELIX  KAINDI                                         1\n",
              "ROBERT KARIUKI                                        1\n",
              "PAYTECH LIMITED                                       1\n",
              "LAWRENCE KIMONDO NGATA                                1\n",
              "JULIUS  ANDABWA                                       1\n",
              "ALPHA CAR WASH                                        1\n",
              "MOGO AUTO LIMITED                                     1\n",
              "VITAMIX FRESH FRUITS AND JUICES                       1\n",
              "FRIDAH OWINO                                          1\n",
              "SAMWEL WANGAI                                         1\n",
              "CHRISTINE OOKO                                        1\n",
              "ALLAN WAMBURA                                         1\n",
              "IPAY LTD                                              1\n",
              "JANET MBOGO                                           1\n",
              "GEORGE  GACHERU                                       1\n",
              "RIO GIFT SHOP                                         1\n",
              "TUSKYS -CHAP CHAP THIGIRI                             1\n",
              "STEPHEN  MUGA                                         1\n",
              "SIMON MUNYIRI                                         1\n",
              "BUY DIRECT LIMITED 2                                  1\n",
              "PALLET CAFE LTD                                       1\n",
              "JAMES MUTEGI                                          1\n",
              "PAUL  NGICHO                                          1\n",
              "ARDEN AXIDA ABUOCH                                    1\n",
              "TOTAL - KIAMBU ROAD                                   1\n",
              "TOTAL SIGONA SERVICE STATION                          1\n",
              "CAPTON ENTERPRISES NRBI WEST                          1\n",
              "PHILIP KAGIRI                                         1\n",
              "MAXWELL  OCHIENG                                      1\n",
              "GRIFFINS OBWOGI                                       1\n",
              "MWIRERI BAR                                           1\n",
              "AGNES  KASYOKI                                        1\n",
              "ZURI MEDICAL FUND  EVAN                               1\n",
              "BRIAN OKUKU                                           1\n",
              "MINT N                                                1\n",
              "SKY-GARDEN                                            1\n",
              "CLENICE MBECHE                                        1\n",
              "SHELL UTHIRU TRAVELLERS STATION                       1\n",
              "CLAPPERTON  MUSYOKI                                   1\n",
              "FRANCIS  KABOCHI                                      1\n",
              "DEEJINA LIMITED                                       1\n",
              "JAMES NJOROGE                                         1\n",
              "KEMAHMWA ENTERPRISE HQ                                1\n",
              "JOAN  SAINEPU                                         1\n",
              "FOUR SQUARE FINE CUTS                                 1\n",
              "SANAVAC COMPANY                                       1\n",
              "THE MIKALSENS                                         1\n",
              "LILIAN  MITEI                                         1\n",
              "BOLT FASHIONS                                         1\n",
              "FYTY CARWASH                                          1\n",
              "PETER MANTHI                                          1\n",
              "ASL TD                                                1\n",
              "KENYA MEAT PROCESSORS-DELI                            1\n",
              "JAMES  EKISE                                          1\n",
              "MARTIN NJERU                                          1\n",
              "SENSES ROOFTOP LOUNGE LIMITED                         1\n",
              "TOTAL ENERGIES KILELESHWA-LEMPIRAS LIMITED            1\n",
              "PATRICK KIMUYU                                        1\n",
              "ARTCAFFE TWO RIVERS                                   1\n",
              "JIWEKE TAVERN                                         1\n",
              "ESTHER  NDIRITU                                       1\n",
              "BILLY OMOLO                                           1\n",
              "AMBROSE MWALILI                                       1\n",
              "NAIVAS MOI AVENUE                                     1\n",
              "KELVIN  THUO                                          1\n",
              "GOOGLE PLAYSTORE  GOOGLE PLAY PURCHASE                1\n",
              "FISH BAY                                              1\n",
              "DECATHLON HUB TILL 5                                  1\n",
              "Name: MERCHANT_NAME, dtype: int64"
            ]
          },
          "execution_count": 31,
          "metadata": {},
          "output_type": "execute_result"
        }
      ],
      "source": [
        "test['MERCHANT_NAME'].value_counts()"
      ]
    },
    {
      "cell_type": "markdown",
      "metadata": {
        "id": "ZHu8QqLeYSnQ"
      },
      "source": [
        "#### Even though merchant name, using domain knowledge might be useful because there is no way safaricom sells groceries but there are so many unknown vendors that may add noise to this plus there are new merchants in the test so maybe after the baseline we can work this out .\n",
        "* This is our golf feature, if we can work a way around this feature in a good way then we can really bag the first prize\n"
      ]
    },
    {
      "cell_type": "markdown",
      "metadata": {
        "id": "PZ2-9MCvYSnR"
      },
      "source": [
        "### Binary Columns "
      ]
    },
    {
      "cell_type": "code",
      "execution_count": null,
      "metadata": {
        "id": "T0Zr3WYCYSnS",
        "outputId": "b8cbfbac-0b3f-42e1-edbc-00292b0f71af"
      },
      "outputs": [
        {
          "data": {
            "text/plain": [
              "False    203\n",
              "True     170\n",
              "Name: IS_PURCHASE_PAID_VIA_MPESA_SEND_MONEY, dtype: int64"
            ]
          },
          "execution_count": 32,
          "metadata": {},
          "output_type": "execute_result"
        }
      ],
      "source": [
        "train['IS_PURCHASE_PAID_VIA_MPESA_SEND_MONEY'].value_counts()"
      ]
    },
    {
      "cell_type": "code",
      "execution_count": null,
      "metadata": {
        "id": "oFylQU57YSnU",
        "outputId": "78a8f9d2-b518-491b-d13a-91beb76fec38"
      },
      "outputs": [
        {
          "data": {
            "text/plain": [
              "False    299\n",
              "True     259\n",
              "Name: IS_PURCHASE_PAID_VIA_MPESA_SEND_MONEY, dtype: int64"
            ]
          },
          "execution_count": 33,
          "metadata": {},
          "output_type": "execute_result"
        }
      ],
      "source": [
        "test['IS_PURCHASE_PAID_VIA_MPESA_SEND_MONEY'].value_counts()"
      ]
    },
    {
      "cell_type": "code",
      "execution_count": null,
      "metadata": {
        "id": "ZngDhCugYSnV",
        "outputId": "3312e78d-23e1-44d0-cdbb-8f71a3d8b143"
      },
      "outputs": [
        {
          "data": {
            "text/plain": [
              "Male      203\n",
              "Female    170\n",
              "Name: USER_GENDER, dtype: int64"
            ]
          },
          "execution_count": 34,
          "metadata": {},
          "output_type": "execute_result"
        }
      ],
      "source": [
        "train['USER_GENDER'].value_counts()"
      ]
    },
    {
      "cell_type": "code",
      "execution_count": null,
      "metadata": {
        "id": "BZSaloAFYSnV",
        "outputId": "86486fc6-7ebe-4ff3-943e-eb19bbd8d492"
      },
      "outputs": [
        {
          "data": {
            "text/plain": [
              "Male      312\n",
              "Female    246\n",
              "Name: USER_GENDER, dtype: int64"
            ]
          },
          "execution_count": 35,
          "metadata": {},
          "output_type": "execute_result"
        }
      ],
      "source": [
        "test['USER_GENDER'].value_counts()"
      ]
    },
    {
      "cell_type": "markdown",
      "metadata": {
        "id": "xAVdMyduYSnW"
      },
      "source": [
        "#### So the binary columns are almost equally balanced so fine"
      ]
    },
    {
      "cell_type": "markdown",
      "metadata": {
        "id": "P2llHmvCYSnW"
      },
      "source": [
        "## NUMERICAL COLUMNS"
      ]
    },
    {
      "cell_type": "markdown",
      "metadata": {
        "id": "jGpVdMhvYSnW"
      },
      "source": [
        "### Purchase Value before and after log transformation"
      ]
    },
    {
      "cell_type": "code",
      "execution_count": null,
      "metadata": {
        "id": "HIBSqQ35YSnX",
        "outputId": "57c32d22-7b63-41a2-a724-4525362fc2a8"
      },
      "outputs": [
        {
          "data": {
            "text/plain": [
              "<matplotlib.axes._subplots.AxesSubplot at 0x7f9ccb7d71c0>"
            ]
          },
          "execution_count": 36,
          "metadata": {},
          "output_type": "execute_result"
        },
        {
          "data": {
            "image/png": "[encoded data removed]",
            "text/plain": [
              "<Figure size 432x288 with 1 Axes>"
            ]
          },
          "metadata": {
            "needs_background": "light"
          },
          "output_type": "display_data"
        }
      ],
      "source": [
        "sb.distplot(train['PURCHASE_VALUE'])"
      ]
    },
    {
      "cell_type": "code",
      "execution_count": null,
      "metadata": {
        "id": "zeWFCoTZYSnX",
        "outputId": "b09b074e-0b0b-46e7-9030-1ee87715b3c1"
      },
      "outputs": [
        {
          "data": {
            "text/plain": [
              "<matplotlib.axes._subplots.AxesSubplot at 0x7f9ccb319cd0>"
            ]
          },
          "execution_count": 37,
          "metadata": {},
          "output_type": "execute_result"
        },
        {
          "data": {
            "image/png": "[encoded data removed]",
            "text/plain": [
              "<Figure size 432x288 with 1 Axes>"
            ]
          },
          "metadata": {
            "needs_background": "light"
          },
          "output_type": "display_data"
        }
      ],
      "source": [
        "sb.boxplot(train['PURCHASE_VALUE'])"
      ]
    },
    {
      "cell_type": "code",
      "execution_count": null,
      "metadata": {
        "id": "FMKLZrC7YSnZ",
        "outputId": "c5a729c2-b567-419f-fde2-5a2503eccf3a"
      },
      "outputs": [
        {
          "data": {
            "text/plain": [
              "<matplotlib.axes._subplots.AxesSubplot at 0x7f9ccb2af100>"
            ]
          },
          "execution_count": 38,
          "metadata": {},
          "output_type": "execute_result"
        },
        {
          "data": {
            "image/png": "[encoded data removed]",
            "text/plain": [
              "<Figure size 432x288 with 1 Axes>"
            ]
          },
          "metadata": {
            "needs_background": "light"
          },
          "output_type": "display_data"
        }
      ],
      "source": [
        "sb.distplot(np.log1p(train['PURCHASE_VALUE']))"
      ]
    },
    {
      "cell_type": "code",
      "execution_count": null,
      "metadata": {
        "id": "FKNUedklYSna",
        "outputId": "6ee9267b-3172-43d7-a5a5-a31577a5d1f8"
      },
      "outputs": [
        {
          "data": {
            "text/plain": [
              "<matplotlib.axes._subplots.AxesSubplot at 0x7f9ccb2af400>"
            ]
          },
          "execution_count": 39,
          "metadata": {},
          "output_type": "execute_result"
        },
        {
          "data": {
            "image/png": "[encoded data removed]",
            "text/plain": [
              "<Figure size 432x288 with 1 Axes>"
            ]
          },
          "metadata": {
            "needs_background": "light"
          },
          "output_type": "display_data"
        }
      ],
      "source": [
        "sb.boxplot(np.log1p(train['PURCHASE_VALUE']))"
      ]
    },
    {
      "cell_type": "code",
      "execution_count": null,
      "metadata": {
        "id": "DCCBEDvcYSnc",
        "outputId": "3faee623-3b9f-46b9-c1ce-4927546a7ef3"
      },
      "outputs": [
        {
          "data": {
            "text/plain": [
              "<matplotlib.axes._subplots.AxesSubplot at 0x7f9ccb2068e0>"
            ]
          },
          "execution_count": 40,
          "metadata": {},
          "output_type": "execute_result"
        },
        {
          "data": {
            "image/png": "[encoded data removed]",
            "text/plain": [
              "<Figure size 432x288 with 1 Axes>"
            ]
          },
          "metadata": {
            "needs_background": "light"
          },
          "output_type": "display_data"
        }
      ],
      "source": [
        "sb.boxplot(test['PURCHASE_VALUE'])"
      ]
    },
    {
      "cell_type": "code",
      "execution_count": null,
      "metadata": {
        "id": "DPT__ZoAYSnc",
        "outputId": "a8026da7-fd06-487a-803b-9b091cdfce8d"
      },
      "outputs": [
        {
          "data": {
            "text/plain": [
              "<matplotlib.axes._subplots.AxesSubplot at 0x7f9ccb15e670>"
            ]
          },
          "execution_count": 41,
          "metadata": {},
          "output_type": "execute_result"
        },
        {
          "data": {
            "image/png": "[encoded data removed]",
            "text/plain": [
              "<Figure size 432x288 with 1 Axes>"
            ]
          },
          "metadata": {
            "needs_background": "light"
          },
          "output_type": "display_data"
        }
      ],
      "source": [
        "sb.distplot(np.log1p(test['PURCHASE_VALUE']))"
      ]
    },
    {
      "cell_type": "code",
      "execution_count": null,
      "metadata": {
        "id": "TwLUSG-UYSnd",
        "outputId": "54ff1a36-3139-4f81-fda2-2b857619befd"
      },
      "outputs": [
        {
          "data": {
            "text/plain": [
              "<matplotlib.axes._subplots.AxesSubplot at 0x7f9ccb0ecd60>"
            ]
          },
          "execution_count": 42,
          "metadata": {},
          "output_type": "execute_result"
        },
        {
          "data": {
            "image/png": "[encoded data removed]",
            "text/plain": [
              "<Figure size 432x288 with 1 Axes>"
            ]
          },
          "metadata": {
            "needs_background": "light"
          },
          "output_type": "display_data"
        }
      ],
      "source": [
        "sb.boxplot(test['PURCHASE_VALUE'])"
      ]
    },
    {
      "cell_type": "code",
      "execution_count": null,
      "metadata": {
        "id": "FSbWr3G5YSnd",
        "outputId": "8fe23fcd-f36e-4da3-b0cd-cca0ede39ff8"
      },
      "outputs": [
        {
          "data": {
            "text/plain": [
              "<matplotlib.axes._subplots.AxesSubplot at 0x7f9ccb0b72b0>"
            ]
          },
          "execution_count": 43,
          "metadata": {},
          "output_type": "execute_result"
        },
        {
          "data": {
            "image/png": "[encoded data removed]",
            "text/plain": [
              "<Figure size 432x288 with 1 Axes>"
            ]
          },
          "metadata": {
            "needs_background": "light"
          },
          "output_type": "display_data"
        }
      ],
      "source": [
        "sb.boxplot(np.log1p(test['PURCHASE_VALUE']))"
      ]
    },
    {
      "cell_type": "code",
      "execution_count": null,
      "metadata": {
        "id": "KrFSwIuLYSne",
        "outputId": "a0d53747-6eaa-4bae-94cf-c89ef05e1178"
      },
      "outputs": [
        {
          "data": {
            "text/plain": [
              "<matplotlib.axes._subplots.AxesSubplot at 0x7f9ccb090940>"
            ]
          },
          "execution_count": 44,
          "metadata": {},
          "output_type": "execute_result"
        },
        {
          "data": {
            "image/png": "[encoded data removed]",
            "text/plain": [
              "<Figure size 432x288 with 1 Axes>"
            ]
          },
          "metadata": {
            "needs_background": "light"
          },
          "output_type": "display_data"
        }
      ],
      "source": [
        "sb.boxplot(np.log1p(extra['PURCHASE_VALUE']))"
      ]
    },
    {
      "cell_type": "markdown",
      "metadata": {
        "id": "0yrHb0bjYSnf"
      },
      "source": [
        "#### Notice how when we log transform purchase value everything behaves as a gaussian transformation so this transformation is a must have\n",
        "* Turns out it made the CV score worse why? maybe we need to have those extremes for the categories that are expensive in regards to PURCHASE VALUE"
      ]
    },
    {
      "cell_type": "code",
      "execution_count": null,
      "metadata": {
        "id": "FM_lJlYyYSnf"
      },
      "outputs": [],
      "source": [
        "# train['PURCHASE_VALUE'] = np.log1p(train['PURCHASE_VALUE'])\n",
        "# test['PURCHASE_VALUE'] = np.log1p(test['PURCHASE_VALUE'])\n",
        "# extra['PURCHASE_VALUE'] = np.log1p(extra['PURCHASE_VALUE'])"
      ]
    },
    {
      "cell_type": "markdown",
      "metadata": {
        "id": "jCVDPMNtYSnh"
      },
      "source": [
        "### DATE COLUMNS\n",
        "### Purchased_At "
      ]
    },
    {
      "cell_type": "code",
      "execution_count": null,
      "metadata": {
        "id": "Y-IBapSNYSnh",
        "outputId": "2602cc57-8f96-48a1-d5fe-62d74c84353b"
      },
      "outputs": [
        {
          "data": {
            "text/plain": [
              "Index(['MERCHANT_CATEGORIZED_AT', 'MERCHANT_NAME', 'MERCHANT_CATEGORIZED_AS',\n",
              "       'PURCHASE_VALUE', 'PURCHASED_AT',\n",
              "       'IS_PURCHASE_PAID_VIA_MPESA_SEND_MONEY', 'USER_GENDER',\n",
              "       'USER_HOUSEHOLD', 'USER_INCOME', 'USER_ID', 'Transaction_ID'],\n",
              "      dtype='object')"
            ]
          },
          "execution_count": 46,
          "metadata": {},
          "output_type": "execute_result"
        }
      ],
      "source": [
        "train.columns"
      ]
    },
    {
      "cell_type": "code",
      "execution_count": null,
      "metadata": {
        "id": "v7jjqnkpYSnj",
        "outputId": "921a1707-6502-4e27-8792-84757fe5e86b"
      },
      "outputs": [
        {
          "name": "stdout",
          "output_type": "stream",
          "text": [
            "2021-11-18 11:02:00+00    2\n",
            "2021-08-24 14:53:00+00    2\n",
            "2021-08-04 15:03:00+00    2\n",
            "2021-01-15 15:40:00+00    2\n",
            "2021-10-22 15:49:00+00    2\n",
            "2021-10-11 17:12:00+00    2\n",
            "2019-06-20 08:41:00+00    2\n",
            "2019-03-11 05:38:00+00    2\n",
            "2022-04-07 12:10:00+00    1\n",
            "2022-01-21 11:29:00+00    1\n",
            "2022-02-26 15:38:00+00    1\n",
            "2022-05-14 19:00:00+00    1\n",
            "2022-04-09 07:11:00+00    1\n",
            "2021-12-02 18:37:00+00    1\n",
            "2018-12-05 09:36:00+00    1\n",
            "2022-03-07 20:16:00+00    1\n",
            "2021-12-22 12:13:00+00    1\n",
            "2021-11-19 11:24:00+00    1\n",
            "2022-02-09 04:58:00+00    1\n",
            "2021-11-30 08:24:00+00    1\n",
            "2021-09-11 12:26:00+00    1\n",
            "2022-05-25 10:00:00+00    1\n",
            "2019-03-25 09:46:00+00    1\n",
            "2022-05-12 05:50:00+00    1\n",
            "2021-10-02 14:16:00+00    1\n",
            "2020-03-24 10:10:00+00    1\n",
            "2022-04-05 09:19:00+00    1\n",
            "2021-11-08 10:31:00+00    1\n",
            "2021-09-23 14:40:00+00    1\n",
            "2021-09-27 11:18:00+00    1\n",
            "2021-10-18 06:42:00+00    1\n",
            "2021-11-01 08:56:00+00    1\n",
            "2022-03-27 16:30:00+00    1\n",
            "2021-10-23 17:46:00+00    1\n",
            "2022-06-01 08:40:00+00    1\n",
            "2022-06-02 19:18:00+00    1\n",
            "2021-10-18 14:34:00+00    1\n",
            "2022-06-02 18:59:00+00    1\n",
            "2021-10-20 05:10:00+00    1\n",
            "2022-03-02 08:55:00+00    1\n",
            "2022-03-18 07:05:00+00    1\n",
            "2022-04-12 06:19:00+00    1\n",
            "2022-04-15 18:31:00+00    1\n",
            "2022-01-23 10:53:00+00    1\n",
            "2022-04-14 10:34:00+00    1\n",
            "2021-06-09 11:10:00+00    1\n",
            "2021-11-14 16:32:00+00    1\n",
            "2021-10-01 10:23:00+00    1\n",
            "2021-09-27 15:54:00+00    1\n",
            "2022-04-28 15:13:00+00    1\n",
            "2021-11-19 11:23:00+00    1\n",
            "2021-09-02 10:32:00+00    1\n",
            "2022-06-02 15:23:00+00    1\n",
            "2022-05-01 12:59:00+00    1\n",
            "2022-04-06 07:31:00+00    1\n",
            "2022-03-27 14:00:00+00    1\n",
            "2021-09-30 09:14:00+00    1\n",
            "2022-04-27 13:29:00+00    1\n",
            "2022-04-14 11:51:00+00    1\n",
            "2022-05-18 15:46:00+00    1\n",
            "2022-06-05 17:33:00+00    1\n",
            "2022-04-14 10:42:00+00    1\n",
            "2022-01-06 21:26:00+00    1\n",
            "2022-01-28 13:05:00+00    1\n",
            "2020-01-23 12:40:00+00    1\n",
            "2021-11-19 11:06:00+00    1\n",
            "2022-05-15 08:30:00+00    1\n",
            "2021-10-19 09:02:00+00    1\n",
            "2022-04-05 15:03:00+00    1\n",
            "2022-04-02 06:59:00+00    1\n",
            "2019-09-01 17:42:00+00    1\n",
            "2022-02-22 10:49:00+00    1\n",
            "2022-03-16 07:10:00+00    1\n",
            "2021-11-29 07:46:00+00    1\n",
            "2021-07-30 03:23:00+00    1\n",
            "2022-03-19 21:16:00+00    1\n",
            "2022-04-09 11:11:00+00    1\n",
            "2022-02-20 09:11:00+00    1\n",
            "2021-11-29 15:40:00+00    1\n",
            "2022-04-14 16:42:00+00    1\n",
            "2022-04-27 12:51:00+00    1\n",
            "2022-04-20 12:07:00+00    1\n",
            "2021-07-21 14:36:00+00    1\n",
            "2022-04-09 16:24:00+00    1\n",
            "2021-09-15 12:02:00+00    1\n",
            "2021-09-23 12:28:00+00    1\n",
            "2021-11-03 09:35:00+00    1\n",
            "2022-05-11 15:11:00+00    1\n",
            "2021-10-16 09:30:00+00    1\n",
            "2022-04-13 08:07:00+00    1\n",
            "2022-03-30 11:04:00+00    1\n",
            "2021-10-08 11:07:00+00    1\n",
            "2021-09-28 14:26:00+00    1\n",
            "2021-09-24 10:32:00+00    1\n",
            "2022-05-04 13:56:00+00    1\n",
            "2021-09-17 13:20:00+00    1\n",
            "2021-11-29 16:12:00+00    1\n",
            "2022-04-03 05:57:00+00    1\n",
            "2022-06-02 07:53:00+00    1\n",
            "2022-01-14 06:38:00+00    1\n",
            "2021-09-03 16:00:00+00    1\n",
            "2021-09-17 09:38:00+00    1\n",
            "2022-03-05 20:34:00+00    1\n",
            "2022-02-25 07:47:00+00    1\n",
            "2022-02-28 15:41:00+00    1\n",
            "2022-04-02 09:40:00+00    1\n",
            "2022-04-17 12:35:00+00    1\n",
            "2022-05-23 08:33:00+00    1\n",
            "2022-04-01 06:08:00+00    1\n",
            "2022-04-28 11:22:00+00    1\n",
            "2022-02-07 16:15:00+00    1\n",
            "2021-10-27 15:41:00+00    1\n",
            "2022-05-29 05:26:00+00    1\n",
            "2022-06-02 08:19:00+00    1\n",
            "2020-11-20 10:48:00+00    1\n",
            "2022-05-02 13:09:00+00    1\n",
            "2022-02-06 11:30:00+00    1\n",
            "2021-09-13 11:03:00+00    1\n",
            "2021-11-08 11:41:00+00    1\n",
            "2022-04-10 07:29:00+00    1\n",
            "2021-10-08 10:33:00+00    1\n",
            "2022-04-03 08:39:00+00    1\n",
            "2021-08-26 13:38:00+00    1\n",
            "2021-12-27 20:14:00+00    1\n",
            "2022-04-19 15:16:00+00    1\n",
            "2022-03-22 10:59:00+00    1\n",
            "2022-05-03 07:23:00+00    1\n",
            "2022-02-17 06:08:00+00    1\n",
            "2021-06-11 18:25:00+00    1\n",
            "2022-05-31 14:57:00+00    1\n",
            "2022-04-29 05:16:00+00    1\n",
            "2020-10-04 21:29:00+00    1\n",
            "2020-05-29 08:09:00+00    1\n",
            "2019-07-16 16:39:00+00    1\n",
            "2022-03-31 05:48:00+00    1\n",
            "2019-07-10 04:46:00+00    1\n",
            "2022-01-02 14:46:00+00    1\n",
            "2022-03-26 07:36:00+00    1\n",
            "2021-09-03 06:24:00+00    1\n",
            "2022-05-29 10:31:00+00    1\n",
            "2019-07-03 07:31:00+00    1\n",
            "2019-12-27 09:04:00+00    1\n",
            "2022-01-23 08:53:00+00    1\n",
            "2022-02-06 10:50:00+00    1\n",
            "2021-10-07 10:38:00+00    1\n",
            "2022-06-06 10:45:00+00    1\n",
            "2022-05-21 16:52:00+00    1\n",
            "2022-01-15 11:50:00+00    1\n",
            "2021-11-04 11:57:00+00    1\n",
            "2021-09-21 11:23:00+00    1\n",
            "2021-09-05 06:28:00+00    1\n",
            "2022-01-12 05:19:00+00    1\n",
            "2021-12-02 18:57:00+00    1\n",
            "2021-09-02 18:06:00+00    1\n",
            "2022-04-12 10:40:00+00    1\n",
            "2021-09-28 18:21:00+00    1\n",
            "2021-10-16 07:11:00+00    1\n",
            "2022-04-06 10:57:00+00    1\n",
            "2021-07-25 10:54:00+00    1\n",
            "2022-06-02 15:25:00+00    1\n",
            "2022-04-29 19:27:00+00    1\n",
            "2022-06-06 08:07:00+00    1\n",
            "2022-03-14 08:21:00+00    1\n",
            "2022-05-25 10:22:00+00    1\n",
            "2021-12-17 18:51:00+00    1\n",
            "2022-05-04 13:42:00+00    1\n",
            "2021-11-19 11:59:00+00    1\n",
            "2019-12-31 12:25:00+00    1\n",
            "2021-09-08 05:56:00+00    1\n",
            "2022-01-10 03:04:00+00    1\n",
            "2022-06-06 14:55:00+00    1\n",
            "2021-08-08 07:11:00+00    1\n",
            "2021-07-21 17:46:00+00    1\n",
            "2021-10-09 17:56:00+00    1\n",
            "2022-03-15 10:00:00+00    1\n",
            "2021-05-13 14:28:00+00    1\n",
            "2022-06-05 17:12:00+00    1\n",
            "2020-08-01 08:03:00+00    1\n",
            "2022-02-08 09:51:00+00    1\n",
            "2021-10-19 17:27:00+00    1\n",
            "2022-03-19 11:06:00+00    1\n",
            "2021-12-05 07:20:00+00    1\n",
            "2022-04-26 13:37:00+00    1\n",
            "2022-03-23 11:17:00+00    1\n",
            "2022-05-12 19:07:00+00    1\n",
            "2022-05-12 13:31:00+00    1\n",
            "2022-04-03 05:40:00+00    1\n",
            "2021-09-13 11:51:00+00    1\n",
            "2019-10-05 16:02:00+00    1\n",
            "2022-01-06 05:41:00+00    1\n",
            "2022-03-25 14:33:00+00    1\n",
            "2021-11-30 17:00:00+00    1\n",
            "2022-04-07 06:10:00+00    1\n",
            "2022-05-30 11:29:00+00    1\n",
            "2021-09-22 10:58:00+00    1\n",
            "2021-10-22 06:56:00+00    1\n",
            "2022-05-31 17:02:00+00    1\n",
            "2021-09-21 10:13:00+00    1\n",
            "2022-03-18 06:20:00+00    1\n",
            "2022-03-19 08:52:00+00    1\n",
            "2022-03-29 10:56:00+00    1\n",
            "2021-10-14 12:58:00+00    1\n",
            "2021-03-23 10:23:00+00    1\n",
            "2022-06-02 19:16:00+00    1\n",
            "2022-04-06 09:15:00+00    1\n",
            "2022-03-16 07:12:00+00    1\n",
            "2020-08-17 15:49:00+00    1\n",
            "2022-03-07 16:44:00+00    1\n",
            "2021-10-24 14:12:00+00    1\n",
            "2020-03-21 06:59:00+00    1\n",
            "2022-04-21 19:46:00+00    1\n",
            "2022-06-02 11:09:00+00    1\n",
            "2021-08-28 08:34:00+00    1\n",
            "2022-04-10 10:42:00+00    1\n",
            "2022-05-23 11:23:00+00    1\n",
            "2021-10-08 15:29:00+00    1\n",
            "2021-12-21 18:48:00+00    1\n",
            "2021-06-20 11:36:00+00    1\n",
            "2021-11-24 10:23:00+00    1\n",
            "2022-05-04 13:38:00+00    1\n",
            "2021-08-05 16:40:00+00    1\n",
            "2022-04-08 22:31:00+00    1\n",
            "2021-08-23 13:16:00+00    1\n",
            "2022-04-13 09:01:00+00    1\n",
            "2021-10-04 17:40:00+00    1\n",
            "2021-10-29 15:52:00+00    1\n",
            "2022-04-16 14:34:00+00    1\n",
            "2021-10-29 15:38:00+00    1\n",
            "2021-09-11 18:03:00+00    1\n",
            "2022-01-10 14:12:00+00    1\n",
            "2021-11-18 16:58:00+00    1\n",
            "2021-06-30 14:47:00+00    1\n",
            "2022-05-18 14:30:00+00    1\n",
            "2022-05-30 16:52:00+00    1\n",
            "2021-10-26 15:51:00+00    1\n",
            "2022-03-21 16:05:00+00    1\n",
            "2021-11-04 11:18:00+00    1\n",
            "2021-12-18 15:15:00+00    1\n",
            "2022-03-11 06:49:00+00    1\n",
            "2020-12-28 13:29:00+00    1\n",
            "2021-09-23 08:15:00+00    1\n",
            "2021-06-17 11:17:00+00    1\n",
            "2021-07-16 13:34:00+00    1\n",
            "2021-09-06 07:47:00+00    1\n",
            "2022-06-02 06:42:00+00    1\n",
            "2022-02-19 10:34:00+00    1\n",
            "2022-05-13 14:04:00+00    1\n",
            "2021-10-06 17:11:00+00    1\n",
            "2022-01-08 12:56:00+00    1\n",
            "2022-05-04 15:28:00+00    1\n",
            "2022-02-07 12:16:00+00    1\n",
            "2022-05-27 12:46:00+00    1\n",
            "2021-09-05 15:42:00+00    1\n",
            "2022-03-03 17:48:00+00    1\n",
            "2021-08-07 17:12:00+00    1\n",
            "2019-05-20 15:27:00+00    1\n",
            "2019-12-18 10:41:00+00    1\n",
            "2022-04-21 12:54:00+00    1\n",
            "2022-02-12 09:29:00+00    1\n",
            "2021-09-29 13:32:00+00    1\n",
            "2021-09-08 05:57:00+00    1\n",
            "2021-10-06 17:18:00+00    1\n",
            "2022-05-31 12:04:00+00    1\n",
            "2021-05-06 14:14:00+00    1\n",
            "2022-04-20 15:22:00+00    1\n",
            "2021-09-07 02:25:00+00    1\n",
            "2021-08-25 04:59:00+00    1\n",
            "2021-08-19 15:29:00+00    1\n",
            "2021-11-30 08:03:00+00    1\n",
            "2021-09-04 17:00:00+00    1\n",
            "2022-04-08 21:21:00+00    1\n",
            "2021-09-29 16:20:00+00    1\n",
            "2020-09-15 17:53:00+00    1\n",
            "2019-08-30 13:37:00+00    1\n",
            "2022-05-26 10:23:00+00    1\n",
            "2022-05-15 13:58:00+00    1\n",
            "2022-04-28 06:56:00+00    1\n",
            "2021-10-19 17:32:00+00    1\n",
            "2021-12-14 13:24:00+00    1\n",
            "2021-08-26 07:25:00+00    1\n",
            "2022-03-18 09:08:00+00    1\n",
            "2021-09-22 12:56:00+00    1\n",
            "2021-08-28 08:25:00+00    1\n",
            "2022-03-23 09:17:00+00    1\n",
            "2020-05-10 05:18:00+00    1\n",
            "2022-01-13 19:26:00+00    1\n",
            "2021-08-31 07:04:00+00    1\n",
            "2022-04-14 20:48:00+00    1\n",
            "2021-10-07 11:49:00+00    1\n",
            "2022-05-12 16:03:00+00    1\n",
            "2021-09-13 16:57:00+00    1\n",
            "2021-08-29 16:06:00+00    1\n",
            "2021-10-24 11:23:00+00    1\n",
            "2021-10-05 15:04:00+00    1\n",
            "2022-03-28 16:07:00+00    1\n",
            "2022-03-19 12:53:00+00    1\n",
            "2022-03-26 11:06:00+00    1\n",
            "2019-07-03 16:09:00+00    1\n",
            "2021-07-29 12:23:00+00    1\n",
            "2021-09-03 06:23:00+00    1\n",
            "2021-09-01 04:08:00+00    1\n",
            "2022-05-09 14:54:00+00    1\n",
            "2022-03-27 16:27:00+00    1\n",
            "2021-08-28 11:34:00+00    1\n",
            "2021-06-02 09:12:00+00    1\n",
            "2022-03-27 12:26:00+00    1\n",
            "2021-10-20 14:13:00+00    1\n",
            "2022-03-12 16:52:00+00    1\n",
            "2021-11-03 07:52:00+00    1\n",
            "2022-03-27 14:33:00+00    1\n",
            "2020-04-06 15:55:00+00    1\n",
            "2022-05-15 17:56:00+00    1\n",
            "2021-09-06 07:45:00+00    1\n",
            "2021-10-09 08:53:00+00    1\n",
            "2021-08-03 06:18:00+00    1\n",
            "2021-10-21 04:28:00+00    1\n",
            "2021-10-23 19:42:00+00    1\n",
            "2022-04-11 16:02:00+00    1\n",
            "2022-04-24 17:34:00+00    1\n",
            "2022-04-12 15:34:00+00    1\n",
            "2022-05-12 08:26:00+00    1\n",
            "2022-03-24 16:27:00+00    1\n",
            "2021-06-19 15:05:00+00    1\n",
            "2022-05-13 13:03:00+00    1\n",
            "2021-09-12 11:39:00+00    1\n",
            "2022-04-23 02:30:00+00    1\n",
            "2021-10-15 22:01:00+00    1\n",
            "2021-12-22 17:15:00+00    1\n",
            "2022-04-17 12:07:00+00    1\n",
            "2022-02-04 08:38:00+00    1\n",
            "2021-09-10 08:44:00+00    1\n",
            "2022-05-30 14:40:00+00    1\n",
            "2022-03-27 11:38:00+00    1\n",
            "2022-04-09 00:22:00+00    1\n",
            "2021-10-13 16:36:00+00    1\n",
            "2022-04-12 20:33:00+00    1\n",
            "2022-05-30 13:07:00+00    1\n",
            "2021-08-29 11:28:00+00    1\n",
            "2022-04-14 12:43:00+00    1\n",
            "2021-09-12 18:45:00+00    1\n",
            "2021-12-15 15:09:00+00    1\n",
            "2021-09-19 10:25:00+00    1\n",
            "2022-06-02 19:03:00+00    1\n",
            "2021-10-02 18:15:00+00    1\n",
            "2022-04-14 11:45:00+00    1\n",
            "2022-03-25 15:38:00+00    1\n",
            "2022-01-21 00:45:00+00    1\n",
            "2021-09-01 11:38:00+00    1\n",
            "2022-04-26 18:45:00+00    1\n",
            "2022-05-31 14:01:00+00    1\n",
            "2019-06-03 15:26:00+00    1\n",
            "2022-05-17 13:55:00+00    1\n",
            "2022-04-02 13:42:00+00    1\n",
            "2022-05-31 07:30:00+00    1\n",
            "2022-06-02 18:57:00+00    1\n",
            "2022-02-04 06:33:00+00    1\n",
            "2021-12-22 16:39:00+00    1\n",
            "2021-10-29 16:09:00+00    1\n",
            "2021-08-11 16:09:00+00    1\n",
            "2021-10-04 15:17:00+00    1\n",
            "2022-01-14 22:05:00+00    1\n",
            "2022-04-08 12:38:00+00    1\n",
            "2021-12-09 11:25:00+00    1\n",
            "2021-11-05 08:31:00+00    1\n",
            "2022-03-22 04:06:00+00    1\n",
            "Name: PURCHASED_AT, dtype: int64\n"
          ]
        },
        {
          "data": {
            "text/plain": [
              "Text(0.5, 0, 'PURCHASED_AT')"
            ]
          },
          "execution_count": 47,
          "metadata": {},
          "output_type": "execute_result"
        },
        {
          "data": {
            "image/png": "[encoded data removed]",
            "text/plain": [
              "<Figure size 720x360 with 1 Axes>"
            ]
          },
          "metadata": {
            "needs_background": "light"
          },
          "output_type": "display_data"
        }
      ],
      "source": [
        "print(train['PURCHASED_AT'].value_counts())\n",
        "plt.figure(figsize=(10,5))\n",
        "train['PURCHASED_AT'].value_counts(normalize=True).plot(kind='bar')\n",
        "plt.ylabel('counts')\n",
        "plt.xlabel('PURCHASED_AT')"
      ]
    },
    {
      "cell_type": "markdown",
      "metadata": {
        "id": "Dnm6mwOeYSnk"
      },
      "source": [
        "#### On this, only few dates have more than one feature\n",
        "\n",
        "* is it really important? feed it into the model and let the model do the rest\n",
        "* More Features can be obtained from this e.g diff and cyclic features \n",
        "* No good feature came out of this really except one which was the diff of both which we will see later\n"
      ]
    },
    {
      "cell_type": "markdown",
      "metadata": {
        "id": "lZFyZ68nYSnk"
      },
      "source": [
        "### Meerchannt Categorized at we have looked at it above"
      ]
    },
    {
      "cell_type": "markdown",
      "metadata": {
        "id": "peXMWG7MYSnl"
      },
      "source": [
        "### Single Level Columns(One in extra drop it)"
      ]
    },
    {
      "cell_type": "code",
      "execution_count": null,
      "metadata": {
        "id": "I2NircR6YSnn",
        "outputId": "605205c9-a2ac-4ec1-e571-bb6d8516214b"
      },
      "outputs": [
        {
          "data": {
            "text/plain": [
              "((373, 11), (558, 10), (10000, 8))"
            ]
          },
          "execution_count": 48,
          "metadata": {},
          "output_type": "execute_result"
        }
      ],
      "source": [
        "extra = extra.drop(columns = ['IS_PURCHASE_PAID_VIA_MPESA_SEND_MONEY'])\n",
        "train.shape,test.shape,extra.shape"
      ]
    },
    {
      "cell_type": "markdown",
      "metadata": {
        "id": "Z-8mnniRYSnn"
      },
      "source": [
        "## Target Column"
      ]
    },
    {
      "cell_type": "code",
      "execution_count": null,
      "metadata": {
        "id": "1kD2UuGUYSno",
        "outputId": "2f003cbb-b4ec-49ad-d04d-1274a2db2bf4"
      },
      "outputs": [
        {
          "name": "stdout",
          "output_type": "stream",
          "text": [
            "Bills & Fees        78\n",
            "Groceries           50\n",
            "Data & WiFi         43\n",
            "Miscellaneous       43\n",
            "Family & Friends    41\n",
            "Going out           41\n",
            "Transport & Fuel    29\n",
            "Shopping            21\n",
            "Emergency fund      12\n",
            "Health               6\n",
            "Loan Repayment       5\n",
            "Rent / Mortgage      2\n",
            "Education            2\n",
            "Name: MERCHANT_CATEGORIZED_AS, dtype: int64\n"
          ]
        },
        {
          "data": {
            "text/plain": [
              "Text(0.5, 0, 'MERCHANT_CATEGORIZED_AS')"
            ]
          },
          "execution_count": 49,
          "metadata": {},
          "output_type": "execute_result"
        },
        {
          "data": {
            "image/png": "[encoded data removed]",
            "text/plain": [
              "<Figure size 720x360 with 1 Axes>"
            ]
          },
          "metadata": {
            "needs_background": "light"
          },
          "output_type": "display_data"
        }
      ],
      "source": [
        "print(train['MERCHANT_CATEGORIZED_AS'].value_counts())\n",
        "plt.figure(figsize=(10,5))\n",
        "train['MERCHANT_CATEGORIZED_AS'].value_counts(normalize=True).plot(kind='bar')\n",
        "plt.ylabel('counts')\n",
        "plt.xlabel('MERCHANT_CATEGORIZED_AS')"
      ]
    },
    {
      "cell_type": "markdown",
      "metadata": {
        "id": "NBQO8pJoYSnp"
      },
      "source": [
        "#### Health - 6, Loan Repayment  -5. Rent / Mortgage - 2,Education -2\n",
        "#### the above classes are highly imbalanced "
      ]
    },
    {
      "cell_type": "markdown",
      "metadata": {
        "id": "-0ibUBk3YSnp"
      },
      "source": [
        "## Convcat both datasets for more FE"
      ]
    },
    {
      "cell_type": "code",
      "execution_count": null,
      "metadata": {
        "id": "C7U2OD3_YSnp"
      },
      "outputs": [],
      "source": [
        "#CONCATENATING BOTH THE TEST AND TRAIN FOR EASY DATA MANIPULATON\n",
        "ntrain = train.shape[0]\n",
        "ntest = test.shape[0]\n",
        "data = pd.concat((train, test)).reset_index(drop=True)"
      ]
    },
    {
      "cell_type": "markdown",
      "metadata": {
        "id": "A3zErQz9YSnq"
      },
      "source": [
        "### Binning"
      ]
    },
    {
      "cell_type": "code",
      "execution_count": null,
      "metadata": {
        "id": "nTIBkELqYSnq"
      },
      "outputs": [],
      "source": [
        "def price_range(x):\n",
        "    if x > 8e4:\n",
        "        return 0\n",
        "    elif x > 4e4:\n",
        "        return 1\n",
        "    elif x > 1e4:\n",
        "        return 2\n",
        "    return 3\n",
        "data['price_range'] = data.PURCHASE_VALUE.apply(price_range)\n",
        "extra['price_range'] = extra.PURCHASE_VALUE.apply(price_range)\n",
        "\n",
        "def income_range(x):\n",
        "    x /= 1e6\n",
        "    # print(x)\n",
        "    if x > .08:\n",
        "        return 0\n",
        "    elif x > .04:\n",
        "        return 1\n",
        "    elif x > .015:\n",
        "        return 2\n",
        "    return 3\n",
        "data['income_range'] = data.USER_INCOME.apply(income_range)\n",
        "extra['income_range'] = extra.USER_INCOME.apply(income_range)"
      ]
    },
    {
      "cell_type": "markdown",
      "metadata": {
        "id": "0bMne3sbYSnr"
      },
      "source": [
        "### Feature Interaction"
      ]
    },
    {
      "cell_type": "code",
      "execution_count": null,
      "metadata": {
        "id": "lNn6la1lYSns"
      },
      "outputs": [],
      "source": [
        "data['prod_PURCHASE_INCOME'] = data['PURCHASE_VALUE']/ data['USER_INCOME']"
      ]
    },
    {
      "cell_type": "markdown",
      "metadata": {
        "id": "kXZYZbv3YSns"
      },
      "source": [
        "#### Very powerful feature this one"
      ]
    },
    {
      "cell_type": "markdown",
      "metadata": {
        "id": "R3ezkh0xYSns"
      },
      "source": [
        "### Count Encoding\n",
        "* This also played a huge impact on the Model"
      ]
    },
    {
      "cell_type": "code",
      "execution_count": null,
      "metadata": {
        "id": "XHpuVIceYSnt"
      },
      "outputs": [],
      "source": [
        "col = ['PURCHASE_VALUE','USER_INCOME','USER_HOUSEHOLD','MERCHANT_NAME']\n",
        "\n",
        "## Count of unique features\n",
        "for i in col:\n",
        "    data['count_'+i] = data[i].map(data[i].value_counts())"
      ]
    },
    {
      "cell_type": "markdown",
      "metadata": {
        "id": "1oEsstEkYSnt"
      },
      "source": [
        "### Manual Clustering \n",
        "* Used my domain knowledge but boy was it tiresome :) \n",
        "* Some are not so clean because they clash at some levels\n",
        "* The only clusters i'm confident in are data_wifi, most of health_realted,school, most of the transport related, and shopping but there are some mixed ones in there \n",
        "* Anyways there is a better way to do this using a function plus a combination of regex which i will try later "
      ]
    },
    {
      "cell_type": "code",
      "execution_count": null,
      "metadata": {
        "id": "j-fczgV0YSnu"
      },
      "outputs": [],
      "source": [
        "\n",
        "Data_Wifi =['SAFARICOM OFFERS  TUNUKIWA','SAFARICOM HOME','SAFARICOM LIMITED','MYAIRTIME LIMITED','TELKOM KENYA LIMITED','SAFARICOM POST PAID',\n",
        "           'ZUKU  FOR','ZUKU','GO TV','SAFARICOM POSTPAID','SAFARICOM POSTPAID BUNDLES','SAFARICOM POST','POA','SAFARICOM LIMITED  ON','WANGARI KINYANJUI',\n",
        "            'SAFARICOM OFFERS','DEEJINA LIMITED','SAFARICOM OFFERS   TUNUKIWA ON' ,'SAFARICOM OFFERS  TUNUKIWA ON',\n",
        "             'SAFARICOM SACCO DEPOSIT CONTRIBUTION',\n",
        "             'SAFARICOM POSTPAID BUNDLES  BUNDLES', 'SAFARICOM TEST',\n",
        "             'SAFARICOM RETAIL BURUBURU', 'SAFARICOM RETAIL GALLERIA MALL',\n",
        "             'SAFARICOM WI-FI ZONE' ,'SAFARICOM RETAIL MOI AVE'\n",
        "           ] \n",
        "Health_related = ['GOODLIFE PHARMACY WESTLANDS SQUARE', 'ARNICA PHARMACEUTICALS','MYDAWA  FOR','NOVACARE PHARMACY','REUBEN WEMO MEDICAL FUND  MICHEL ON',\n",
        "         'ACCESS AFYA','GOODLIFE PHARMACY WESTLANDS SQUARE','ARNICA PHARMACEUTICALS','ZURI MEDICAL FUND  EVAN','NHIF',\n",
        "                  'ZURI MEDICAL FUND  EVAN OMONDI','GOODLIFE PHARMACY -SARIT CENTRE 2','PHARMART CHEMIST DIANI','GOODLIFE PHARMACY-TOTAL LANGATA',\n",
        "                  'HEALTHLINK MATCARE','LATEMA ROAD HEALTH CARE CHEMIST - NAIROBI','UHMC EYE CARE  UHMC','HEALTH CARE',\n",
        "                  'AFRICARE CHEMIST KILIFI','MAENDELEO MEDICARE PHARMACY MONROVIA STREET NAIROBI','SAVANNAH HEALTHCARE SERVICES',\n",
        "        'AVENUE HEALTHCARE LTD  JOSIAH TEYA','HEALTHY U-VAN SALE 1','HEALTH STAR PHARMACY', 'HEALTHY U',\n",
        "         'SAVANNAH HEALTHCARE SERVICES', 'AVENUE HEALTHCARE LTD  JOSIAH TEYA'\n",
        "         'ABUNDRO HEALTH SERVICES', 'PENDA HEALTH LIMITED KAWANGWARE','KENS PHAMARCY',\n",
        "        'GOODLIFE PHARMACY WATERFRONT MALL', 'NEEM PHARMACY VALLEY ARCADE',\n",
        "         'AVA PHARMACY LIMITED  AVA ON','GOODLIFE PHARMACY -WATAMU',\n",
        "         'GOODLIFE PHARMACY LAVINGTON','GOODLIFE PHARMACY KILIFI',\n",
        "         'MAENDELEO MEDICARE PHARMACY MONROVIA STREET NAIROBI',\n",
        "         'GOODLIFE PHARMACY SARIT CENTER WESTLANDS',\n",
        "         'GOODLIFE PHARMACY GARDEN CITY MALL','NEEM PHARMACY KILELESHWA BRANCH',\n",
        "         'MEDIMARKET PHARMACY LIMITED','LIFEMED PHARMACY KILIMANI',\n",
        "         'PORTAL PHARMACY LTD-TWO RIVERS MALL', 'DAHLIA PHARMACY LIMITED',\n",
        "         'GOODLIFE PHARMACY VALLEY ARCADE','NEEM PHARMACY KILIMANI',\n",
        "         'NEEM PHARMACY MSA RD','DAMCOPHARMACYLTD', 'WILLBASE PHARMACY LIMITED',\n",
        "         'PESCA PHARMACY LIMITED','JAVA NAIROBI HOSPITAL',  \n",
        "        'NAIROBI ADVENTIST HOSPITAL LIMITED  PATRICIA ROMANA ON',\n",
        "         'THE MATER HOSPITAL - WESTLANDS CLINIC',\n",
        "         'JUJA MODERN HOSPITAL LIMITED  JACKLINE NJOKI',\n",
        "         'AGA KHAN HOSPITAL KILIFI CLINIC','PWANI MEDICAL CENTRE HOSPITAL ROAD',\n",
        "         'PREMIER HOSPITAL LTD','HOSPITALITY FOODS PRIVATE LTD',\n",
        "         'AGA KHAN UNIVERSITY HOSPITAL NBI INPATIENT BILLS  CASUALTYPZP',\n",
        "         'AGA KHAN UNIVERSITY HOSPITAL NBI PEDIATRIC CASUALTY',\n",
        "         'THE MATER HOSPITAL - KASARANI CLINIC',\n",
        "         \"JESSE KAY CHILDREN'S HOSPITAL VIA NCBA\",\n",
        "         'AGA KHAN UNIVERSITY HOSPITAL - RUAKA MEDICAL CENTRE','BELINDA\\'S MEDICAL FUND  ANGELINDIA',\n",
        "         \"NAIROBI WOMEN'S HOSPITAL-ONGATA RONGAI  MAVINE SAM\",                  \n",
        "        'BREEZEPHARM CHEMIST KIAMBU NAIROBI' ,'PHARMA PLUS - SHELL KAREN BRANCH  KAREN ON',\n",
        "\n",
        "         'DOVEYPHARMA CHEMIST- WESTLANDS', 'DOVEYPHARMA CHEMIST KILIMANI','KILIMANI CHILDRENS CLINIC LIMITED  SHANI NJERI',\n",
        "         'AFRICARE CHEMIST KILIFI','BREEZEPHARM CHEMIST LTD',\n",
        "         'ELIEZER CHEMIST VIA KOPO KOPO','ROYPHARM CHEMISTVIA COOP BANK','PHARMA PLUS - SHELL KAREN BRANCH  KAREN',\n",
        "        \n",
        "         'PHARMAPLUS PHARMACEUTICALS',\n",
        "         'PHARMAPLUS PHARMACEUTICALS LTD - KINGARA  KING',\n",
        "         'PHARMAPLUS PHARMACEUTICALS LTD CAPITAL CENTRE  CPL ON',\n",
        "         'BERN  PHARMACEUTICALS' ,'AFRICA GREATNESS PHARMACEUTICALS',\n",
        "         'AFRCA GREATNESS PHARMACEUTICAL CONSULTANT SPRINGVALLEY',\n",
        "         'BUDGET PHARMACEUTICALS LTD', 'PHARMAPLUS PHARMACEUTICALS LTD B  LAV',\n",
        "         'PHARMAPLUS PHARMACEUTICALS LIMITED KIAMBU  KIAMBU',\n",
        "         'LA VIDA PHARMACEUTICALS LIMITED', 'HOPEPHARM PHARMACEUTICAL LIMITED',\n",
        "         'ARNICA PHARMACEUTICALS LTD', 'OPTICA NAIROBI MEGA', 'OPTICA HOUSE','DR CECILIA',\n",
        "                  \n",
        "                 \n",
        "                 \n",
        "                 \n",
        "                 \n",
        "                 ]\n",
        "\n",
        "school = ['HEART TO HEART FOUNDATION  MIKISA SCHOOL','STRATHMORE BUSINESS SCHOOL','UNIVERSITY OF NAIROBI-EXAMINATION'\n",
        " 'UNIVERSITY OF NAIROBI - CHSS VIA ABSA','LIPA KARO KCB ACCOUNT','CITAM BUSINESS FORUM   CBF ON',]\n",
        "Transport_related = ['RUBIS','MOTOR CONSULT SERVICES LIMITED VIA NIC BANK','SHELL RIDGEWAYS','ALPHA CAR WASH','KAPS PARKING','TOTAL K STATE HOUSE',\n",
        "            'TOTAL ROSSLYN SERVICE STATION','TOTALENERGIES KITISURU','KILELESHWA SUPERSHINE','RUBIS SABAKI','ALLSTAR GAS SUPPLIES','CHANDARANA YAYA',\n",
        "            'ENGEN KENYA','SHELL WINDSER','RUSHAB PETROLEUM LIMITED','TOTALENERGIES MADARAKA','OILIBYA WAIYAKI','MOGO AUTO LIMITED  KDA',\n",
        "             'SAFARILINK AVIATION LIMITED','MOTOR CONSULT SERVICES LIMITED VIA NIC BANK','SHELL RIDGEWAYS','PAYTECH LIMITED','ALPHA CAR WASH',\n",
        "            'MOGO AUTO LIMITED','TOTAL - KIAMBU ROAD','TOTAL SIGONA SERVICE STATION','SHELL UTHIRU TRAVELLERS STATION',\n",
        "             'TOTAL ENERGIES KILELESHWA-LEMPIRAS LIMITED','FYTY CARWASH','TOTAL K STATE HOUSE','PETROCITY ENTERPRISES LIMITED',\n",
        "                    'PARK N GO','TOTALENERGIES ATHI RIVER','APS ABC PARKING','TOTAL K STATE HOUSE- SHOP','SHELL ST AUSTINS SERVICES STATION',\n",
        "                     'OLA ENERGY KILIMANI- TYRE PLUS LIMITED','BRIOCHE RUBIS LANGATA','TOTALENERGIES MACHAKOS','ART MARKET KILELESHWA',\n",
        "                    'PALAZZO LIMITED - PARKING','RUBIS ENJOY UN AVENUE','TOTAL K STATE HOUSE 1','CHANDARANA YAYA','TOTALENERGIES MADARAKA',\n",
        "                    'RUSHAB PETROLEUM LIMITED','TOTALENERGIES ATHI RIVER 1',\n",
        "                     'SOTIK TOTAL', 'UTAWALA TOTAL','PARK N GO  YAYA-SP', 'PARK N GO  CIATA','FAVE GAS OIL PETROL STATION',\n",
        "             'GIGIRI TOTAL',\n",
        "                    'TOTALENERGIES DAGORETTI CORNER', 'TOTAL NAIVASHA','JAMBO JET  JAMBOJET','TEXAS ENERGY',\n",
        "             'TOTALENERGIES KIMENDE 2', \n",
        "             'TOTALENERGIES KAREN 1','TOTAL AIRPORT','TOTAL SOUTH' 'TOTAL SOUTH C',\n",
        "                     'LIBYA OIL WESTLANDS FUEL','OIL LIBYA PARKLANDS - FUSION CENTRE',\n",
        " 'OILIBYA BELLEVUE', 'VEEW OIL 2','FAVE GAS OIL PETROL STATION',\n",
        "             'TOTAL ARCADE', 'TOTAL SURVEY',  'TOTAL VOI',\n",
        "             'TOTAL RUAKA - ATLAS PETROLEUM', 'THIKA ROAD TOTAL SERVICE STATION',\n",
        "             'TOTAL KITUSURU' ,'LEMPIRAS LIMITED - TOTAL KILELESHWA',\n",
        "             'TOTAL AIRPORT VIEW-ISLAND 5',\n",
        "             'TOTAL SERVICE STATION CHOKAA', 'TOTALENERGIES KISERIAN 1',\n",
        "             'TOTALENERGIES ONGATA RONGAI','TOTAL NEW UKUNDA SERVICE STATION',\n",
        "             'TOTALENERGIES GIGIRI 1',\n",
        "             'TOTAL KENYATTA AVENUE SS', 'TOTALENERGIES MAI MAHIU','THE PARKING TAVERN',\n",
        "             'THIKA HIGHWAY TOTAL SERVICE STATION','TOTALENERGIES SURVEY',\n",
        "             'RUBIS VALLEY','RUBIS MACHAKOS JUNCTION 2',\n",
        "             'RUBIS EXPRESS DAGORETTI', 'RUBIS EXPRESS OJIJO', 'RUBIS KILIFI',\n",
        "             'RUBIS EXPRESS KARATINA', \n",
        "             'KUKITO-RUBISGIGIRI', 'RUBIS PANGANI','RUBIS THIKA ROAD',\n",
        "             'RUBIS RIRONI JUNCTION', 'RUBIS ENJOY BANANA', 'RUBIS EXPRESS''RUBIS VALLEY','RUBIS MACHAKOS JUNCTION 2',\n",
        "             'RUBIS EXPRESS DAGORETTI', 'RUBIS EXPRESS OJIJO', 'RUBIS KILIFI',\n",
        "             'RUBIS EXPRESS KARATINA', \n",
        "             'KUKITO-RUBISGIGIRI', 'RUBIS PANGANI','RUBIS THIKA ROAD',\n",
        "             'RUBIS RIRONI JUNCTION', 'RUBIS ENJOY BANANA', 'RUBIS EXPRESS',\n",
        "             'AUTOXPRESS','ONE WAY AUTOMOTIVE SOLUTIONS - MEBLY',\n",
        "             'PRIFRASI AUTOHARDWARE', 'AUTOXPRESS NYALI', 'MOWAKA AUTO CENTER',\n",
        "             'AUTO SHINE AND SPARKLE', 'NEPTUNE AUTO PARTS',\n",
        "             'AUTOXPRESS GARDEN CITY MALL', 'AUTOXPRESS GIGIRI',\n",
        "             'AUTOMOBILE ASSOCIATION OF KENYA','SOAPY JOES CAR WASH AND DETAIL','LIDOS CAR SHINE', 'EVOLUTION CARHIRE  TOURS',\n",
        "            'SHELL KAREN SS',\n",
        "              'SHELL TECO','SHELL MOI',\n",
        "             'SHELL KAREN', 'SHELL NAIVASHA', 'SHELL HURLINGHAM SERVICE STATION',\n",
        "             'SHELL MACHAKOS SERVICE STATION', 'SHELL SPANNERIGHT SERVICE STATION',\n",
        "              'SHELL LAVINGTON GREEN SERVICE STATION',\n",
        "              'ASTROL PETROLEUM COMPANY LIMITED - GRILL','RUSHAB PETROLEUM LIMITED 1'\n",
        "              'SHELL BARAKA',\n",
        "              'SHELL RUAI',\n",
        "             'SHELL STATION SQUARE SERVICE STATION',\n",
        "             'SHELL MEMBLEY SERVICE STATION SERVCO PETROLEUM LIMITED',\n",
        "             'KIKUYU SHELL LTD', 'SHELL NANYUKI SERVICE STATION',\n",
        "             'SHELL VOI SERVICE STATION', 'SHELL WESTVIEW SERVICE STATION',\n",
        "              'SHELL BARAKA SS','SHELL THOME SERVICE STATION',\n",
        "             'SHELL WILSON AIRPORT SERVICE STATION' ,'SHELL LIMURU ROAD',\n",
        "             'NEW SIGONA SHELL STATION','SIGONA SHELL SHOP', \n",
        "             'SHELL KARIOKOR SERVICE STATION','INFINITE SHELL KAHAWA-FORECOURT',\n",
        "             'SHELL NEW RUIRU', 'MIDAX PETROLEUM LTD - SHELL GARDEN CITY 2',\n",
        "             'SHELL EASTERN BYPASS SERVICE STATION', 'SHELL ONGATA RONGAI',\n",
        "             'SHELL RUAKA', 'SHELL KEROKA SERVICE STATION'\n",
        "                    ]\n",
        "\n",
        "\n",
        "\n",
        "\n",
        "paybills = ['THREE BINS SERVICES','EQUITY PAYBILL','KPLC PREPAID','EQUITY PAYBILL ACCOUNT','KCB PAYBILL AC','DIRECT PAY','PESAPAL  FOR','TINGG CELLULANT','ALMA APARTMENTS MANAGEMENT CO LTD',\n",
        "        'KCB PAYBILL','BARISTAPRO KENYA LTD','PESAPAL','IPAY LTD','VENDIT LIMITED','NAIROBI WATER  SEWERAGE CO LTD',\n",
        "\n",
        "             'KCB INSURANCE AGENCY LIMITED','SALESIANS OF DON BOSCO HOUSE VIA EQUITY BANK',\n",
        "            'TRINITY INRENATIONAL KINDERGARTEN LTD VIA SCB  TEMI MBARI','MORINGA SCHOOL LIMITED', 'MIATHENE BOYS SECONDARY SCHOOL VIA NBK',\n",
        "            \n",
        "            'IPAY LTD  WEST', 'IPAY LTD  RAFU','M-PESA'\n",
        "             \n",
        "           \n",
        "           \n",
        "           \n",
        "           \n",
        "           \n",
        "           \n",
        "           \n",
        "           \n",
        "           ]\n",
        "friends_smallbiz = ['KFATUMA OSORE','PETER KENDA','LEAH NGOGA','JACKSON ANDIVA','RAPHAEL MWANGI','TEOFILO LIGAWA','CEDRIC OCHOLA',\n",
        "            'PETER NJOORA KENDA','JERUSA A OTIENO','DENIS OTIENO','TABITHA RAORE','SAMWEL KIMANI','JERUSA OTIENO','ONESMUS  GAKURU',\n",
        "            'ELIZABETH NYAMBURA','JOSEPH MOGERE','MICHAEL MUSEMBI','MARIEKA WINES AND SPIRIT','CAKES BY EUDIE LIMITED','DUNCAN  NDUGO',\n",
        "            'MARY MUGURE KIGO','PETER NGANGA KARUGA','GEORGE KAMAU','RISPER  KWANYA','JASON WANJOHI','ZALENA KITCHEN','',\n",
        "            'HENRY NG\\'ENDA','STEPHEN  OSANGO','PURTIY MWAGIRU','AGNES NGANGA','ELIVIN KWAMBOKA MOYWAYWA','HARRISON JUMA AYUAK','MUCHIRI NDAMBIRI',\n",
        "            'JOSPHINE WAMBUI HOTEL','ALBERT  MBOGO','ELIZABETH WANGARI','HENRY MOGERE','ALEX  SAKWA','JULLY AKIN',\n",
        "            'ESTHER WANJIKU KARANJA','JACINTA MWONGELI KALOKI VIA SMEP','DORCAS  WANJOHI','FRACIAH  KAGAI','JUDY','MICHAEL  NJERU',\n",
        "             'JOEL  RABEL','DAVID MWANIKI NJOKA','GLADYS MAURINE','IVY SHIKUMU','JOHN  KIOKO','ODHIAMBO OCHIMBO','JACKLINE MWAI',\n",
        "            'FREDRICK  OMENYO','STEPHANIE WANGUI','HELLEN OTIENO','WINFRIDA KHATIALA MULAMA','MICHELLE  RODROT','THOMAS GITHINJI GATHIOMI',\n",
        "            'JOHN WAITHERA','PATRICK  MASESE','KELVIN NJOKA','ROGERS MORANGA','RHODA RICHARD','MARGARET  GACOMBA','RODNEY  WAITE',\n",
        "             'LEE MBITHI','ELIAS MBURU','PATRICIA  ROMANA','ANASTACIA CHEROBON','JOHN ONYANGO','SHARON GESORA','BERNARD NDUNG\\'U',\n",
        "            'CHARLENNE AKETCH OBBO ONYANGO','FAYAZ BAKERS KILIFI TOWN SHOP','JUDY  MUSISIA','FATHALLA  ABOUBAKR','NAOMI  GATHUU',\n",
        "            'STEPHEN  GITHII','JOSEPHINE THUKU','MOUREEN MOMANYI','DUKE NYAMARI','RHODA  MBITHU','JOSEPH NTHENGE','AUDRINE  MAKAKA',\n",
        "            'PETER  KIHIU','FLORENCE KANANA','GHARIB HABIB','FREDRICK  NGATIA','KEN WINES AND SPIRITS','MARK  MUSISIA',\n",
        "             'JUDITH MOSIGISI','BLIZZ WINES AND SPIRITS DISTRIBUTORS','DORINE ADHIAMBO','MATHEW RAPANDO','EDWIN  OMBATI','SILVANO  NGARI',\n",
        "            'INNOCENT KOJWANG','SHOP LOCAL -ALMA','VALENTINE PUB WINE AND SPIRITS  V','BRAVINE SUNGAH STOWER','JULIA ODOYO','VENY  MAUTI',\n",
        "            'MARY MUNGAI','CHRISTOHER ONGAYA','SEVEN EIGHT SIX BUTCHERY','JACKSON  MUSYOKI','NELLY WANJIRU KURIA','CHRISTINE MUTISYA',\n",
        "             '','PETER  INDIMULI','TERESA NYARUNDA','VITAMIX FRESH FRUITS AND JUICES','KANGA HARDWARE',]\n",
        "\n",
        "shopping = ['QUICK MART KIAMBU','CARREFOUR SRT','TUSKYS -T MALL','SHOP AND','NAIVAS LIFESTYLE','ENVY VIVA CORPORATE',\n",
        "                'METROMART LTD','GITHUNGURI SELFRIDGES SUPERMARKET','NAIVAS AGA KHAN WALK','HOUSE OF CHIC','TONY WEST LIMITED',\n",
        "                'JUMIA KE  VZEOAQ','NAIVAS KITENGELA','CARREFOUR','NAIVAS KAMAKIS','FARMER\\'S CHOICE STOCKISTS','CARREFOUR GLR',\n",
        "                'NAIROBI FAIRY NIGHT LIGHTS LIMITED  EVAN','FARMERS BUTCHERY','UCHUMI SUPERMARKET NAIROBI WEST','SERENI STORES AND MINIMATT','QUICK MART RUAKA',\n",
        "                'SERENI STORES','CARREFOUR  GLR','BATA','TUSKYS -CHAP CHAP THIGIRI','BUY DIRECT LIMITED 2','NAIVAS MOI AVENUE',\n",
        "                'ASL TD','SKY-GARDEN','NAIVAS','QUICK MART FRESH N EASY BYPASS','QUICK MART','NAIVAS SUPERMARKET','IDEAL APPLIANCES',\n",
        "           \n",
        "           'CRISTMART COLLECTIONS', 'QUICKMART NGONG-MILELE MALL','CARREFOUR TWO' ,'CARREFOUR VLM', 'CARREFOUR JCN',\n",
        "             'LOWER KAREN FAMILY MART LIMITED', 'QUICK MART TOM MBOYA','CARREFOUR TWO RIVERS 5' ,'CARRERFOUR MEGA',\n",
        "             'QUICK MART PIONEER NRB', 'QUICK MART LAVINGTON',\n",
        "             'QUICK MART MTWAPA CHAP CHAP', 'DELMART SUPERMARKET',\n",
        "              'SMARTRIX ENTERPRISES','BESTMART LIMITED',\n",
        "             'TWIGA MART SUPERMARKET', 'GMART SELF SERVICE STORE', 'QUICK MART RUIRU',\n",
        "             'QUEENSMART SUPERMARKET','AKAM SMARTTECH LIMITED KILIFI',\n",
        "             'QUICK MART MTWAPA MALL', \n",
        "             'FLAMART SUPERMARKET' 'FLAMART SUPERMARKET-2',\n",
        "              'QUICK MART LIMITED',\n",
        "             'QUICK MART WAIYAKI WAY', 'TASYA MART LTD' 'QUICK MART FEDHA',\n",
        "             'MAXX MART AFRICA LIMITED',\n",
        "             'BROWNSTONE AGENCIES LIMITED - NAIROBI SGR MINI MART SHOP  MINI1',\n",
        "             'MAMKEN MINIMART - SYOKIMAU', 'JOYMART SUPERMARKET VIA KCB',\n",
        "             'COOLMART SUPERMARKET','QUICK MART MACHAKOS PIONEER',\n",
        "             'JOYLAND MINIMART LTD', 'QUICK MART RONGAI' 'QUICK MART RONGAI EXPRESS','ANICARE',\n",
        "               'CARREFOUR TWO' ,'CARREFOUR VLM', 'CARREFOUR JCN', 'CARREFOUR ONLINE',\n",
        "             'CARREFOUR TWO RIVERS 5','CARREFOUR WGT', 'CARREFOUR TRM',\n",
        "             'CARREFOUR TWO RIVERS','CARREFOUR TWO RIVERS 2','CARREFOUR TWO RIVERS 7',\n",
        "             'CARREFOUR GCM','CARREFOUR NCM','CARREFOUR DIANI',\n",
        "             'CARREFOUR TWO RIVERS 3', 'CARREFOUR TWO RIVERS 6', 'CARREFOUR SRT 8','CARRERFOUR MEGA 5',\n",
        "             'CARREFOUR SRT 7','CARREFOUR TWO RIVERS 9',\n",
        "             'TUSKYS -KILIFI','TUSKYS - EMBAKASI', 'TUSKYS DIAMOND PLAZA',\n",
        "             'TUSKYS KAREN', 'TUSKYS -UNITED', 'TUSKYS -CHAPCHAP KAKAMEGA',\n",
        "             'TUSKYS -IMARA', 'TUSKYS -CHIGWARE', 'TUSKYS - UTHIRU', 'TUSKYS -ONGATA',\n",
        "             'TUSKYS -PIONEER', 'TUSKYS KARASHA','NAIVAS SHELL SYOKIMAU',\n",
        "            'NAIVAS NGONG', 'NAIVAS WATERFRONT','NAIVAS SYOKIMAU',\n",
        "             'NAIVAS WATERFRONT KAREN','NAIVAS DEVELOPMENT HOUSE',\n",
        "             'NAIVAS RONALD','NAIVAS MOI', 'NAIVAS SUPERMARKET CIATA MALL OPP PARK',\n",
        "             'NAIVAS NGONG GREENHOUSE','NAIVAS WEST',\n",
        "             'NAIVAS DEVELOPMENT','NAIVAS SUPERMARKET KASARANI',\n",
        "             'NAIVAS MOUNTAIN VIEW', 'NAIVAS KILIFI', 'NAIVAS LIKONI',\n",
        "             'CHANDARANA BUFFALO MALL NAIVASHA', 'NAIVAS KAWANGAWARE',\n",
        "             'NAIVAS CAPITAL CENTER', 'NAIVAS WEST END PLAZA',\n",
        "             'NAIVAS LAVINGTON','NAIVAS NAIROBI CBD EPRESS', 'NAIVAS SOUTH C BRANCH','CLEANSHELF SUPERMARKETS -KIKUYU','POPULAR SUPERMARKET',\n",
        " 'SUPER MARKET SKYLAR', 'FLAMART SUPERMARKET', 'SUPER DUPER COSMETICS LTD'\n",
        " 'SUPER COSMETICS', 'SUPERCOSMETICS LTD', 'SPRINGSSTAR SUPERMARKET',\n",
        " 'VIDEYA SUPERMARKET', 'NICE SUPERMARKET', 'GRAVITY SUPERMARKET',\n",
        "             'NAIVAS THIKA ROAD',\n",
        "              'NAIVAS QWETU','UCHUMI SUPERMARKET NAIROBI WEST 3','QUICK MART FEDHA', 'QUICK MART RONGAI', 'QUICK MART RONGAI EXPRESS',\n",
        "            \n",
        "            'CLEANSHELF SUPERMARKETS - RUAKA', 'FLAMART SUPERMARKET-2',\n",
        "             'KATEX SUPERMARKETS VIA MPAYA', 'V SUPERMARKET LIMITED',\n",
        "             'KARIASUPERMARKETDANDORAPH4', 'CHANDARANA SUPERMARKET LTD - ADLIFE BRANCH',\n",
        "             'VIRTUAL SUPERMARKETS LIMITED', 'CLEAN SHELF SUPERMARKETS-ONGATA RONGAI',\n",
        "             'CHANDARANA SUPERMARKET SIGNATURE BRANCH', 'SHIVLING SUPERMARKET HOMABAY',\n",
        "             'WOTE MINI SUPERMARKET 3', 'KAMINDI SELFRIDGES SUPERMARKETS LTD',\n",
        "             'KABIRIA ECOMATT SUPERMARKET1','BATA WESTGATE MALL', 'BATA HILTON' 'BATA SARIT',\n",
        "               'HOUSE OF LEATHER - MBK','HOUSE OF LEATHER -WESTLANDS',\n",
        "             'HOUSE OF LEATHER-ADAMS ARCADE', 'HOUSE OF LEATHER -ADAMS',\n",
        "             'HOUSE OF LEATHER-HAZINA 2',\n",
        "            \n",
        "   'CLEAN SHELF SUPERMARKETS-KIAMBU',\n",
        " 'CHANDARANA SUPERMARKET ROSSLYNE RIVIERA MALL','SWEETWORLD SUPERMARKET','OYUGIS SUPERMARKET',\n",
        "           \n",
        "           ]\n",
        "\n",
        "restaurants = ['LAURELS LATTE','KUNE FOOD LAB KENYA LIMITED','HUHUS PIZZA LIMITED HO','NAIROBI JAVA','CRAFT - CHUPA CHAP',\n",
        "              'THE WINNING POST LIMITED','GALITOS BELLEVUE','ANKOLE GRILL LIMITED','CBD-680','STEDMARK GARDENS  RECREATION CENTER KAREN NAIROBI',\n",
        "              'PIZZA HUT YAYA','BIG FISH','JAVA AGAKHAN MAIN','THE BARNYARD LOUNGE AND GRILL','PALLET CAFE LTD','ARTCAFFE TWO RIVERS',\n",
        "              'FISH BAY','KENYA MEAT PROCESSORS-DELI','SENSES ROOFTOP LOUNGE LIMITED','JAVA','ALCHEMIIST - LEGEND BAR',\n",
        "              'KENGELES-GARDEN BAR','NAIROBI JAVA HOUSE SARIT CENTRE','JAVA CIATA MALL','PIZZA IN BELLEVUE','MAMBO ITALIA-LAVINGTON',\n",
        "              'NIFTY TIGONI LIMITED','CAPTURE ADVENTURES','MBAIRES RESTAURANT','CAFETERIA AND TIN TIN RESTAURANT','VIBE NAIROBI LIMITED',\n",
        "              'ASHAKI GRILL AND BBQ','KILIMANJARO LUNCHEONETTE','KFC WOODVALE','THE SPOT POOL BAR','OAKS  CORKS - ONLINE',\n",
        "              'OWETTE DISHES','JAVA TOTAL MBAGATHI','ART CAFFE RUBIS BYPASS','PLANET YOGURT -RUBISGIGIRI','CARNIVORE TAMARIND KITCHEN 1',\n",
        "               'CARNIVORE RESTAURANT- HEINEKEN GOLD','ALCHEMIST MAIN BAR','ALCHEMIST - ROOF TOP BAR', 'WINGS ALCHEMIST VIA KOPO KOPO',\n",
        "               'KFC SHELL LAVIGTON DRIVE THROUGH','JAVA SHELL BARAKA','KFC SHELL BURUBURU', 'JAVA NAIVASHA','LAKE NAIVASHA HOLIDAY INN 2',\n",
        "               'KCB SPORTS CLUB -RUARAKA  KCB SPORTS CLUB', 'JAVA KENYA','JAVA ROSSLYN', 'JAVA PEPONI', 'JAVA VALLEY'\n",
        "                 ,'NAIROBI JAVA HOUSE NAKURU',\n",
        "                 'NAIROBI JAVA HOUSE THE JUNCTION MALL', 'JAVA LAVINGTON','KFC',\n",
        "                 'JAVA ROSSLYN RIVEIRA','JAVA MAMA NGINA','JAVA ORBIT',\n",
        "                 'JAVA TWO RIVERS EXPRESS', 'JAVA DIANI' 'JAVA CLYDE',\n",
        "                 'NAIROBI JAVA HOUSE HURLINGHAM','NAIROBI JAVA HOUSE UNIAFRIC HSE',\n",
        "                 'JAVA KENYA -RE', 'JAVA ABC', 'NAIROBI JAVA HOUSE CAPITAL CENTER',\n",
        "                 'JAVA AIRSIDE', 'JAVA PRESTIGE - NBI', 'NAIROBI JAVA HOUSE AGAKHAN','TEXAS BUTCHERY RESTAURANT',\n",
        "                 'JAVA ASTROL','JAVA MONROVIA','NAIROBI JAVA HOUSE SOUTH C',\n",
        "               'TWO RIVERS THEME PARK - RIDES  TWO RIVERS',\n",
        "             'PARKLANDS SPORTS CLUB PAYBILL  N95', 'PARKLANDS SPORTS CLUB PAYBILL  N94',\n",
        "             'PARKLANDS SPORTS CLUB PAYBILL  R27', 'PARKLANDS SPORTS CLUB PAYBILL','ARTCAFFE ONN',\n",
        "             'PARK PLACE', \n",
        "             'CREAMY INN PARKLANDS',\n",
        "             'PARADISE SAFARI PARK LIMITED', 'DESTINY PARK GARDENS KITCHEN','JIWEKE TAVERN',\n",
        "               \n",
        "            'RUIRU SPORTS CLUB PAY BILL  G45', 'RUIRU SPORTS CLUB PAY BILL',\n",
        "             'PARKLANDS SPORTS CLUB PAYBILL  N95', 'PARKLANDS SPORTS CLUB PAYBILL  N94',\n",
        "             'PARKLANDS SPORTS CLUB PAYBILL  R27', 'PARKLANDS SPORTS CLUB PAYBILL',\n",
        "             'JOWAC SPORTS CLUB VIA COOP BANK',               \n",
        "\n",
        "                 'NAIROBI JAVA HOUSE GIGIRI', 'JAVA PARKLANDS', 'JAVA VALLEY ARCADE',\n",
        "               'KFC HUB','KFC KAMAKIS DINE INN', 'KFC SHELL', 'KFC - KIMATHI',\n",
        "             'KFC NORTHVIEW-FRONT COUNTER','KFC- DINE IN MOMBASA RD','MOMBASA GO-KART SHANZU',\n",
        "             'KFC KIMATHI DELIVERY','KFC RONGAI - DINE IN',\n",
        "               \n",
        "            'PIZZA IN', 'PIZZA INN LANGATA', 'PIZZA INN', 'PIZZA PIZZA UJA',\n",
        "             'PIZZA INN- WESTLANDS', 'NGONG ROAD- PIZZA INN', 'HUHUS PIZZA LTD',\n",
        "             'CHICAGO THE PIZZA PLACE LTD','PIZZA DELIGHT KENYA LIMITED',\n",
        "             'PIZZA INN MTWAPA','PIZZA INN LINKS ROAD', 'ST AUSTIN A-PIZZA INN',\n",
        "             'PIZZA INN TWO RIVERS','PIZZA INN RONGAI',\n",
        "               \n",
        "            \"TAI'S CHICKEN GRILL AND COFFEE\",'CHICKEN INN UJA','1824 WHISKEY BAR',\n",
        "             'SPANNERIGHT CHICKEN INN', 'CHICKEN INN', \"TAI'S CHICKEN GRILL WANGIGE\",\n",
        "             'CHICKEN INN KASARANI', 'CHICKEN INN DELTA SHOP', 'CHICKEN INN MTWAPA',\n",
        "             'CHICKEN INN TWO RIVERS', 'CHICKEN HUT LIMITED', 'CHICKEN INN LINKS ROAD',\n",
        "             'CHICKEN INN WESTLANDS', 'FISH CHICKEN BAR LTD 1',\n",
        "             \"TAI'S CHICKEN BUTCHERY KIKUYU\",'SAN DELLA CHICKEN HOUSE',\n",
        "             'CHICKEN INN RONGAI', 'CHICKEN DELIGHT', 'AMBASSADOR CHICKEN INN',   \n",
        "               'THE GRACEFUL CHINESE RESTAURANT WATERFRONT',\n",
        "             'PAPAREMO BEACH RESTAURANT MALINDI',\n",
        "             'THE SOCIAL HOUSE RNB RESTAURANTS AND BARS','NSK SOCIAL BAR',\n",
        "             'BARAZA RESTAURANT-DAGORETTI CORNER',\n",
        "             'WESTGATE SHOPPING MALL  RESTAURANT ON', 'KALABASH BAR AND RESTAURANT 1',\n",
        "             'MBAIRES RESTAURANT 6', 'KAREN KITCHEN RESTAURANT AND GRILL',\n",
        "             'ECHOES BAR AND RESTAURANT 2', 'KAMANGO GARDENS RESTAURANT 3',\n",
        "             'CRAB SHACK RESTAURANT VIA KCB', 'KAVENYA RESTAURANT LIMITED',\n",
        "             'TUPELOAFRICAN RESTAURANT LTD', 'OLIVIERA RESTAURANT LTD',\n",
        "             'COCO JAMBO KILIMANI RESTAURANT  COCO', 'PEPCO MATTEO RESTAURANT LIMITED',\n",
        "             'RESTAURANT SUBTERRAN', 'BRIDGES ORGANIC RESTAURANT LTD NO 2',\n",
        "             'YEMEN RESTAURANT LTD', 'SIGNATURE BAR AND RESTAURANT KAKAMEGA',\n",
        "             'POLO RESTAURANT LIMITED 1','BAR NEXT DOOR VENTURES LTD','GRVL  GEMINI BAR ON','OASIS BAR  EDWIN','WATERHOLE SNACK BAR  MK' ,'THE SOCIAL HOUSE RNB RESTAURANTS AND BARS',\n",
        "            'BARAZA RESTAURANT-DAGORETTI CORNER', 'ON THE GRIND COFFEE BAR LIMITED','THE PLACE BARRESTAURANT','SCARLET BAR AND LOUNGE', 'KALABASH BAR AND RESTAURANT 1',\n",
        "            'ECHOES BAR AND RESTAURANT 2','BLACK GLIVE BAR  RESTAURANT', 'MNARANI CLUB MAIN BAR  LUCIA','JEANS BAR AND RESTAURANT',\n",
        "            'INTERCHANGE BAR AND RESTAURANT','SIGNATURE BAR AND RESTAURANT KAKAMEGA','ZIPANG BAR AND LOUNGE LIMITED',\n",
        "               \n",
        "               \n",
        "            'CLARRET LOUNGE THIGIRI','OUTVEST LOUNGE AND GRILL 3',\n",
        "             'LIWAZA LOUNGE AND CAFA',\"BLACKY'S LOUNGE LIMITED VIA KCB\",\n",
        "             'THE MORAN LOUNGE AND GRILL LTD', 'ZIPANG BAR AND LOUNGE LIMITED',\n",
        "             'LA VARANDA LOUNGE VIA COOP', 'BLUE LOUNGE TG', 'MERCURY LOUNGE AND BAR',\n",
        "               \n",
        "               'VIEWS COFFEE HOUSE 1', 'ROADHOUSE HURLIGHAM',\n",
        "             'SONY SUGAR GUESTHOUSE  LIGAWA', 'ROADHOUSE GRILL DENNIS PRITT RD'\n",
        "             'K1 KLUB HOUSE 1','K1 KLUB HOUSE 3', 'RONGAI CAKE HOUSE LTD',\n",
        "               \n",
        "             'SERENA HOTELS', 'HERON HOTEL  HERON ON', 'TRADEMARK HOTEL -HERO BAR',\n",
        "             'HOTEL RIVERVIEW', 'CHARIOT HOTELS',\n",
        "             'TAMU TAMU HOTEL WOOD VALLEY GROOVE WESTLANDS',\n",
        "             'NAIROBI PACIFIC HOTEL LTD',\n",
        "             'KENYA COMFORT HOTEL POPATLAL MADHAVJI AND BROS LTD',\n",
        "             'WELLS HOTEL LIMITED', 'GREEN PARK HOTEL TAVETA',\n",
        "             'REEF HOTELS CO LTD REEF MOONSHINE  REEF', 'TAITA ROCKS HOTEL VIA KCB',\n",
        "             'MADA HOTELS  KBBR', 'ASHNIL HOTELS LIMITED', 'GREEN PARK HOTEL-RECEPTION',\n",
        "             'BARAKA RESCUE HOTEL VIA COOP BANK', 'BARAKA RESCUE HOTEL1',\n",
        "             \"GRANDPA'S HOTEL WAKIRINYAGA BUILDING JOGOO ROAD HAMZA MAKADARA\",'BARAKA RESCUE HOTEL',\n",
        "             'REEF HOTELS', 'CITY BLUE HOTELS LIMITED',\n",
        "\n",
        "            'GALAXY RESORTS', 'MIALLE SEVENTY TWO RESORT LIMITED','TURTLE BAY BEACH CLUB', 'MUTHAIGA COUNTRY CLUB', 'THIKA SPORT CLUB  CLUB',\n",
        " 'THIKA SPORT CLUB  SWIMMING',  'CLUB DECIMO',\n",
        "             'DEROSCH LTD TA MAKUTI VILLAS RESORT Z',\n",
        "             'ENKASARA RESORT LIMITED VIA CO-OP BANK',\n",
        "'CK LAUNDRY LOUNGE','CASAVERA LOUNGE', 'CIERO SPORTS LOUNGE',\n",
        " 'THE MINT LOUNGE', '17 LOUNGE','RED EAGLES LOUNGE',\n",
        " 'MAKEL SUITES AND LOUNGE', 'JUKWAA LOUNGE', 'AZIZI LOUNGE',\n",
        " 'LAVARANDA LOUNGE','SIXTY FOUR LOUNGE', 'HOMELAND LOUNGE',      \n",
        "'ARTCAFFE','MADMAX KARTING', 'ART CAFFE' ,'ARTCAFFE JUNCTION',\n",
        " 'ARTCAFFE YAYA', 'ARTCAFFE HUB', 'ART CAFFE LAVINGTON MALL', 'ARTCAFFE TWO',\n",
        " 'ART CAFFE WESTMINSTER', 'ARTCAFFE GARDEN CITY', 'ART CAFFE WESTGATE2',\n",
        " 'ART CAFFE NORTHERN BYPASS', 'ART CAFFE OVAL',\n",
        " 'ARTCAFFE KILELESHWA', \n",
        " 'ARTCAFFE VALLEY ARCADE',               \n",
        "\n",
        "              ]\n",
        "\n",
        "\n",
        "loans_savings = ['XGO KENYA LIMITED','M-SHWARI ACCOUNT','ZASH LOAN','BAYES','STANBIC BANK','KANDAMOJA APP','CREDITAREA CAPITAL LIMITED','CASH NOW  CASHNOW',\n",
        "                'WAKANDA CREDIT LIMITED','M-SHWARI LOCK SAVINGS','NCBA LOOP','ABSA BANK KENYA PLC','FAMILY BANK PESA PAP','K UNITY SACCO LIMITED',\n",
        "                 'O-STREAM CREDIT HELA','ZIMELE UNIT TRUST','CO-OPERATIVE BANK COLLECTION ACCOUNT','IM BANK C2B','ZILLIONS CREDIT LIMITED',\n",
        "                 'NCBA BANK','NCBA BANK KENYA PLC','IM BANK','BAABAX EXPRESS LIMITED','NABO CAPITAL LTD C2B','ESTIMMAS INVESTMENTS - HURLIGHAM TOTALSS 3',\n",
        "                 'NCBA BANK LTD CORPORATE  KKL ON', 'EAZZYPAY EQUITY BANK ACCOUNT',\n",
        "                 'NAIROBI CITY COUNTY NATIONAL BANK REVENUE ACCOUNT',\n",
        "                 'BIASHARA PAYBILL VIA FAMILY BANK  TERKI',\n",
        "                 'BIASHARA PAYBILL VIA FAMILY BANK  MANIA',\n",
        "                 'NAIROBI CITY COUNTY NATIONAL BANK REVENUE ACCOUNT  PKN KCV','FAHARI RETIREMENT PLAN',\n",
        "                 'NCBA BANK LTD CORPORATE  K3C',\n",
        "                 'NAIROBI CITY COUNTY NATIONAL BANK REVENUE ACCOUNT  SUNKEN','M-KOPA KENYA LTD',\n",
        "                 'CO-OPERATIVE BANK MONEY TRANSFER','MASS MARKET BANKERS','MH INVESTMENT AND DEVELOPMENT COMPANY LTD VIA CO-OP BANK',\n",
        "                \n",
        "                \n",
        "                \n",
        "                ]\n",
        "miscelenous = ['MBCI   OFFERING  ON','MZIZI NETWORKS','VMX FITNESS LTD  LUCIA MUNANIE WAMBUA','KRA - NAIROBI COUNTY REVENUE','TOTAL BODY TRANSFORMATION  LUCIA MUNANIE',\n",
        "              'MAMLAKA  HILL','LIBERTY LIFE','UONSDA CHURCH  TITHE-MAIN','THE NGONG ROAD FOREST ASSOCIATION1','TRASH MANAGER LIMITED',\n",
        "              'SMOOTHIE DJS ENTERPRISE','THE BOSSBABY','CHAPA COPY COMPANY - KILELESHWA','CITAM KAREN   TITHE  ON','PLANTY FLOWER AND GARDEN',\n",
        "              'SMART GYMS','UONSDA CHURCH  OFFERING-MAIN','KENYA REVENUE AUTHORITY','MBCI  FOR','CAPTON ENTERPRISES NRBI WEST',\n",
        "               'UONSDA CHURCH  MOGERE MWAYO TITHE','KILELESHWA WARD NEIGHBORHOOD ASSOCIATION  KIWANA',\n",
        "              'CITAM KITENGELA   OFFERING  ON','SMART GYMS LIMITED  VALENTINE NJOROG','MBCI  PRAYER CARAVAN','NAIROBI JAVA HOUSE KENYA MEDICAL ASSOCIATION',\n",
        "              'CITAM KITENGELA   TITHE  ON','UONSDA CHURCH  TITHE- MAIN','GOOGLE PLAYSTORE  GOOGLE PLAY PURCHASE',\n",
        "             'KAHAWA SUKARI SDA CHURCH  TITHE OFFERING','SDA CHURCH LAVINGTON DEVELOPMENT  FOR DEVELOPMENT','UONSDA CHURCH  MOGERE MWAYO-TITHE' ,'UONSDA CHURCH  MOGERE- MAIN TITHE',\n",
        " 'UONSDA CHURCH  MAIN TITHE','KICHAKANI MEMBERS CLUB',\n",
        " 'NAIROBI COSMOPOLITAN CONFERENCE LIMITED  TITHE','UONSDA CHURCH  MOGERE MWAYO-OFFERIN','UONSDA CHURCH  MAIN-OFFERING',\n",
        "  'ECITIZEN  VAWQGBE ON','ECITIZEN  APZKQVL ON', 'ECITIZEN  UVPXCEN ON'\n",
        ", 'ECITIZEN  ECAIKQH ON' ,'ECITIZEN  YWUKGLH ON', 'ECITIZEN  QRMYAEZ ON',\n",
        " 'ECITIZEN  ITOUNYE', 'ECITIZEN  SQHTKWE', 'ZEN GARDEN' 'ECITIZEN  VWSHCPJ',\n",
        " 'ECITIZEN  XWLZUQF' ,'ECITIZEN  AOUVSBF','ECITIZEN  STYIZHJ',\n",
        " 'ECITIZEN  YTLVEJP' ,'ECITIZEN  KXGLZJO','ECITIZEN  NQBDEGW',\n",
        " 'ECITIZEN  DCREFML' ,'ECITIZEN  CRPAYLJ','ECITIZEN  GIXDHFZ',\n",
        " 'ECITIZEN  RLZFBIV' ,'ECITIZEN  FZWQNKH','ECITIZEN  VFGIWEU',\n",
        " 'ECITIZEN  QNPZSME' ,'ECITIZEN  XNSPEAD','ECITIZEN  CYOSIQH',\n",
        " 'ECITIZEN  SBZNJHX' ,'ECITIZEN  ZPINTEQ','ECITIZEN  ISRUJKD',\n",
        " 'ECITIZEN  MGOFUCJ' ,'ECITIZEN  YNGTQAI','ECITIZEN  TXREFDY', \n",
        "               \n",
        "'UONSDA CHURCH  KNH LUNCH KITTY',\n",
        " 'NEWLIFE SDA CHURCH  TMI', 'UONSDA CHURCH  MAIN LUNCH KITTY',\n",
        " 'UONSDA CHURCH  TUKULELUNCHMAIN',\n",
        " 'FIRST CHURCH OF CHRIST SCIENTIST NAIROBI',\n",
        " 'KARENGATA SDA CHURCH',\n",
        " 'SEVENTH DAY ADVENTIST CHURCH NAIROBI EAST  THANKSGIVING',               \n",
        "              \n",
        "              ]\n",
        "\n"
      ]
    },
    {
      "cell_type": "code",
      "execution_count": null,
      "metadata": {
        "id": "-8IGfKcjYSnx"
      },
      "outputs": [],
      "source": [
        "def merchant_clusters(x):\n",
        "    one=Data_Wifi\n",
        "    two=Health_related\n",
        "    three=Transport_related\n",
        "    four =paybills\n",
        "    five=friends_smallbiz\n",
        "    six =shopping\n",
        "    seven=restaurants\n",
        "    eight=loans_savings\n",
        "    nine=miscelenous\n",
        "    ten = school\n",
        "    \n",
        "    if x in one:\n",
        "        return 1\n",
        "    elif x in two:\n",
        "        return 2\n",
        "    elif x in three:\n",
        "        return 3\n",
        "    elif x in four:\n",
        "        return 4   \n",
        "    elif x in five:\n",
        "        return 5\n",
        "    if x in six:\n",
        "        return 6\n",
        "    elif x in seven:\n",
        "        return 7\n",
        "    elif x in eight:\n",
        "        return 8\n",
        "    elif x in nine:\n",
        "        return 9\n",
        "    elif x in ten:\n",
        "        return 10 \n",
        "    \n",
        "    \n",
        "\n",
        "data['MERCHANT_NAME_bins'] = data['MERCHANT_NAME'].apply(merchant_clusters)\n",
        "# extra['MERCHANT_NAME_bins'] = extra['MERCHANT_NAME'].apply(merchant_clusters)"
      ]
    },
    {
      "cell_type": "code",
      "execution_count": null,
      "metadata": {
        "id": "LMuQzBz3YSny",
        "outputId": "c611e515-f986-4146-b06d-19f7f6406735"
      },
      "outputs": [
        {
          "data": {
            "text/plain": [
              "MERCHANT_NAME            0\n",
              "PURCHASE_VALUE           0\n",
              "PURCHASED_AT             0\n",
              "USER_GENDER              0\n",
              "USER_HOUSEHOLD           0\n",
              "USER_INCOME              0\n",
              "USER_ID                  0\n",
              "Transaction_ID           0\n",
              "price_range              0\n",
              "income_range             0\n",
              "MERCHANT_NAME_bins    4592\n",
              "dtype: int64"
            ]
          },
          "execution_count": 56,
          "metadata": {},
          "output_type": "execute_result"
        }
      ],
      "source": [
        "extra['MERCHANT_NAME_bins'] = extra['MERCHANT_NAME'].apply(merchant_clusters)\n",
        "extra.isnull().sum()"
      ]
    },
    {
      "cell_type": "code",
      "execution_count": null,
      "metadata": {
        "id": "PryThE3ZYSn0",
        "outputId": "4d314a9a-983b-4098-f33b-212a1d7c7b77"
      },
      "outputs": [
        {
          "data": {
            "text/plain": [
              "(4592, 11)"
            ]
          },
          "execution_count": 57,
          "metadata": {},
          "output_type": "execute_result"
        }
      ],
      "source": [
        "miss = extra[extra['MERCHANT_NAME_bins'].isnull()]\n",
        "miss.shape"
      ]
    },
    {
      "cell_type": "code",
      "execution_count": null,
      "metadata": {
        "id": "0a7rBa3RYSn1",
        "outputId": "5a3dca00-4945-4b5d-9026-4db09633445b"
      },
      "outputs": [
        {
          "data": {
            "text/plain": [
              "MERCHANT_NAME            0\n",
              "PURCHASE_VALUE           0\n",
              "PURCHASED_AT             0\n",
              "USER_GENDER              0\n",
              "USER_HOUSEHOLD           0\n",
              "USER_INCOME              0\n",
              "USER_ID                  0\n",
              "Transaction_ID           0\n",
              "price_range              0\n",
              "income_range             0\n",
              "MERCHANT_NAME_bins    3014\n",
              "dtype: int64"
            ]
          },
          "execution_count": 58,
          "metadata": {},
          "output_type": "execute_result"
        }
      ],
      "source": [
        "miss = miss[miss[\"MERCHANT_NAME\"].str.contains(r'INVEST(?!$)') == False]\n",
        "miss = miss[miss[\"MERCHANT_NAME\"].str.contains(r'SHOP(?!$)') == False]\n",
        "miss = miss[miss[\"MERCHANT_NAME\"].str.contains(r'LT(?!$)') == False]\n",
        "miss = miss[miss[\"MERCHANT_NAME\"].str.contains(r'COUNTY(?!$)') == False]\n",
        "miss = miss[miss[\"MERCHANT_NAME\"].str.contains(r'INVESTMENT(?!$)') == False]\n",
        "miss = miss[miss[\"MERCHANT_NAME\"].str.contains(r'RENT(?!$)') == False]\n",
        "miss = miss[miss[\"MERCHANT_NAME\"].str.contains(r'HOTE(?!$)') == False]\n",
        "miss = miss[miss[\"MERCHANT_NAME\"].str.contains(r'LIMIT(?!$)') == False]\n",
        "miss = miss[miss[\"MERCHANT_NAME\"].str.contains(r'WINE(?!$)') == False]\n",
        "miss = miss[miss[\"MERCHANT_NAME\"].str.contains(r'ACCOUN(?!$)') == False]\n",
        "miss = miss[miss[\"MERCHANT_NAME\"].str.contains(r'ENTERPRIS(?!$)') == False]\n",
        "miss = miss[miss[\"MERCHANT_NAME\"].str.contains(r'SHO(?!$)') == False]\n",
        "miss = miss[miss[\"MERCHANT_NAME\"].str.contains(r'MAR(?!$)') == False]\n",
        "miss = miss[miss[\"MERCHANT_NAME\"].str.contains(r'INSUR(?!$)') == False]\n",
        "miss = miss[miss[\"MERCHANT_NAME\"].str.contains(r'STATI(?!$)') == False]\n",
        "miss = miss[miss[\"MERCHANT_NAME\"].str.contains(r'CHEM(?!$)') == False]\n",
        "miss.isnull().sum()"
      ]
    },
    {
      "cell_type": "code",
      "execution_count": null,
      "metadata": {
        "id": "gYz8i7_5YSn1",
        "outputId": "8912686d-308f-4825-a7fa-57afe0c2d719"
      },
      "outputs": [
        {
          "data": {
            "text/plain": [
              "(5408, 11)"
            ]
          },
          "execution_count": 59,
          "metadata": {},
          "output_type": "execute_result"
        }
      ],
      "source": [
        "extra = extra.dropna()\n",
        "extra.shape"
      ]
    },
    {
      "cell_type": "code",
      "execution_count": null,
      "metadata": {
        "id": "-QUBIybiYSn2",
        "outputId": "1b3024f2-95db-4106-8364-97090790b44a"
      },
      "outputs": [
        {
          "data": {
            "text/plain": [
              "(8422, 11)"
            ]
          },
          "execution_count": 60,
          "metadata": {},
          "output_type": "execute_result"
        }
      ],
      "source": [
        "extra = pd.concat((extra, miss)).reset_index(drop=True)\n",
        "extra.shape"
      ]
    },
    {
      "cell_type": "code",
      "execution_count": null,
      "metadata": {
        "id": "66vVRIZrYSn2",
        "outputId": "4f2f04a4-ab7b-4aad-f5f1-a339e85605e4"
      },
      "outputs": [
        {
          "data": {
            "text/plain": [
              "MERCHANT_NAME            0\n",
              "PURCHASE_VALUE           0\n",
              "PURCHASED_AT             0\n",
              "USER_GENDER              0\n",
              "USER_HOUSEHOLD           0\n",
              "USER_INCOME              0\n",
              "USER_ID                  0\n",
              "Transaction_ID           0\n",
              "price_range              0\n",
              "income_range             0\n",
              "MERCHANT_NAME_bins    3014\n",
              "dtype: int64"
            ]
          },
          "execution_count": 61,
          "metadata": {},
          "output_type": "execute_result"
        }
      ],
      "source": [
        "extra.isnull().sum()"
      ]
    },
    {
      "cell_type": "markdown",
      "metadata": {
        "id": "TnwYHP82YSn3"
      },
      "source": [
        "### Filling in the resultant missing values\n",
        "* filled it with cluster 5(friends_smallbiz) which is a group of peoples names\n"
      ]
    },
    {
      "cell_type": "code",
      "execution_count": null,
      "metadata": {
        "id": "Gc2UxEhWYSn3"
      },
      "outputs": [],
      "source": [
        "for col in data.columns:\n",
        "\n",
        "  if col in ['MERCHANT_NAME_bins']:\n",
        "    data[col] = data[col].fillna(5)\n",
        "    \n"
      ]
    },
    {
      "cell_type": "code",
      "execution_count": null,
      "metadata": {
        "id": "QrBrejw_YSn4"
      },
      "outputs": [],
      "source": [
        "for col in extra.columns:\n",
        "\n",
        "  if col in ['MERCHANT_NAME_bins']:\n",
        "    extra[col] = extra[col].fillna(5)\n",
        "    \n"
      ]
    },
    {
      "cell_type": "markdown",
      "metadata": {
        "id": "j2DIgqsIYSn5"
      },
      "source": [
        "## GroupBy Features using Extra Data\n",
        "* Well at first i thought of trying it with user_id but then i thought what of the new users who are not represented so i went with merchant name instead \n",
        "* Now coming to realize, that grouping with user id makes sense all thanks to you so i will try and let you know the improvement to the CV"
      ]
    },
    {
      "cell_type": "code",
      "execution_count": null,
      "metadata": {
        "id": "xn1ZLQptYSn6",
        "outputId": "d836120b-5825-47a8-ba08-de264592aad0"
      },
      "outputs": [
        {
          "data": {
            "text/html": [
              "<div>\n",
              "<style scoped>\n",
              "    .dataframe tbody tr th:only-of-type {\n",
              "        vertical-align: middle;\n",
              "    }\n",
              "\n",
              "    .dataframe tbody tr th {\n",
              "        vertical-align: top;\n",
              "    }\n",
              "\n",
              "    .dataframe thead th {\n",
              "        text-align: right;\n",
              "    }\n",
              "</style>\n",
              "<table border=\"1\" class=\"dataframe\">\n",
              "  <thead>\n",
              "    <tr style=\"text-align: right;\">\n",
              "      <th></th>\n",
              "      <th>MERCHANT_NAME</th>\n",
              "      <th>PURCHASE_VALUE</th>\n",
              "      <th>PURCHASED_AT</th>\n",
              "      <th>USER_GENDER</th>\n",
              "      <th>USER_HOUSEHOLD</th>\n",
              "      <th>USER_INCOME</th>\n",
              "      <th>USER_ID</th>\n",
              "      <th>Transaction_ID</th>\n",
              "      <th>price_range</th>\n",
              "      <th>income_range</th>\n",
              "      <th>MERCHANT_NAME_bins</th>\n",
              "    </tr>\n",
              "  </thead>\n",
              "  <tbody>\n",
              "    <tr>\n",
              "      <th>0</th>\n",
              "      <td>ACCESS AFYA</td>\n",
              "      <td>1</td>\n",
              "      <td>2021-07-05 11:07:00+00</td>\n",
              "      <td>Male</td>\n",
              "      <td>1</td>\n",
              "      <td>10000</td>\n",
              "      <td>ID_R4T8Q46J</td>\n",
              "      <td>ID_rgne8ij5</td>\n",
              "      <td>3</td>\n",
              "      <td>3</td>\n",
              "      <td>2.0</td>\n",
              "    </tr>\n",
              "    <tr>\n",
              "      <th>1</th>\n",
              "      <td>POA</td>\n",
              "      <td>1500</td>\n",
              "      <td>2021-06-21 19:40:00+00</td>\n",
              "      <td>Male</td>\n",
              "      <td>1</td>\n",
              "      <td>10000</td>\n",
              "      <td>ID_R4T8Q46J</td>\n",
              "      <td>ID_4i2b28b6</td>\n",
              "      <td>3</td>\n",
              "      <td>3</td>\n",
              "      <td>1.0</td>\n",
              "    </tr>\n",
              "    <tr>\n",
              "      <th>2</th>\n",
              "      <td>POA</td>\n",
              "      <td>1500</td>\n",
              "      <td>2021-04-22 18:41:00+00</td>\n",
              "      <td>Male</td>\n",
              "      <td>1</td>\n",
              "      <td>10000</td>\n",
              "      <td>ID_R4T8Q46J</td>\n",
              "      <td>ID_6dvi32yc</td>\n",
              "      <td>3</td>\n",
              "      <td>3</td>\n",
              "      <td>1.0</td>\n",
              "    </tr>\n",
              "    <tr>\n",
              "      <th>3</th>\n",
              "      <td>ACCESS AFYA</td>\n",
              "      <td>1</td>\n",
              "      <td>2021-07-29 13:03:00+00</td>\n",
              "      <td>Male</td>\n",
              "      <td>1</td>\n",
              "      <td>10000</td>\n",
              "      <td>ID_R4T8Q46J</td>\n",
              "      <td>ID_sfk1yxbm</td>\n",
              "      <td>3</td>\n",
              "      <td>3</td>\n",
              "      <td>2.0</td>\n",
              "    </tr>\n",
              "    <tr>\n",
              "      <th>4</th>\n",
              "      <td>POA</td>\n",
              "      <td>1500</td>\n",
              "      <td>2021-01-22 15:45:00+00</td>\n",
              "      <td>Male</td>\n",
              "      <td>1</td>\n",
              "      <td>10000</td>\n",
              "      <td>ID_R4T8Q46J</td>\n",
              "      <td>ID_plxh7ovt</td>\n",
              "      <td>3</td>\n",
              "      <td>3</td>\n",
              "      <td>1.0</td>\n",
              "    </tr>\n",
              "  </tbody>\n",
              "</table>\n",
              "</div>"
            ],
            "text/plain": [
              "  MERCHANT_NAME  PURCHASE_VALUE            PURCHASED_AT USER_GENDER  \\\n",
              "0   ACCESS AFYA               1  2021-07-05 11:07:00+00        Male   \n",
              "1           POA            1500  2021-06-21 19:40:00+00        Male   \n",
              "2           POA            1500  2021-04-22 18:41:00+00        Male   \n",
              "3   ACCESS AFYA               1  2021-07-29 13:03:00+00        Male   \n",
              "4           POA            1500  2021-01-22 15:45:00+00        Male   \n",
              "\n",
              "   USER_HOUSEHOLD  USER_INCOME      USER_ID Transaction_ID  price_range  \\\n",
              "0               1        10000  ID_R4T8Q46J    ID_rgne8ij5            3   \n",
              "1               1        10000  ID_R4T8Q46J    ID_4i2b28b6            3   \n",
              "2               1        10000  ID_R4T8Q46J    ID_6dvi32yc            3   \n",
              "3               1        10000  ID_R4T8Q46J    ID_sfk1yxbm            3   \n",
              "4               1        10000  ID_R4T8Q46J    ID_plxh7ovt            3   \n",
              "\n",
              "   income_range  MERCHANT_NAME_bins  \n",
              "0             3                 2.0  \n",
              "1             3                 1.0  \n",
              "2             3                 1.0  \n",
              "3             3                 2.0  \n",
              "4             3                 1.0  "
            ]
          },
          "execution_count": 64,
          "metadata": {},
          "output_type": "execute_result"
        }
      ],
      "source": [
        "extra.head()"
      ]
    },
    {
      "cell_type": "code",
      "execution_count": null,
      "metadata": {
        "id": "Sw0qwOhPYSn7"
      },
      "outputs": [],
      "source": [
        "from sklearn.preprocessing import LabelEncoder\n",
        "le = LabelEncoder()\n",
        "\n",
        "le_columns = ['USER_GENDER']\n",
        "\n",
        "for col in le_columns:\n",
        "   extra[col] = le.fit_transform(extra[col])"
      ]
    },
    {
      "cell_type": "code",
      "execution_count": null,
      "metadata": {
        "id": "lbauGZnXYSn9"
      },
      "outputs": [],
      "source": [
        "merch_bins_groups = extra.groupby('MERCHANT_NAME_bins').agg(\n",
        "\n",
        "\n",
        "             bins_purchase_merch_min = (\"PURCHASE_VALUE\", \"min\"),\n",
        "             bins_purchase_merch_max = (\"PURCHASE_VALUE\", \"max\"),        \n",
        "             bins_purchase_merch_sum = (\"PURCHASE_VALUE\", \"sum\"),\n",
        "             bins_purchase_merch_mean = (\"PURCHASE_VALUE\", \"mean\"),\n",
        "             bins_purchase_merch_count = (\"PURCHASE_VALUE\", \"count\"),\n",
        "    \n",
        "             bins_income_min = (\"USER_INCOME\", \"min\"),\n",
        "             bins_income_max = (\"USER_INCOME\", \"max\"),        \n",
        "             bins_income_sum = (\"USER_INCOME\", \"sum\"),\n",
        "             bins_income_mean = (\"USER_INCOME\", \"mean\"),\n",
        "    \n",
        "                   \n",
        "\n",
        "                \n",
        "             \n",
        "             ).reset_index()"
      ]
    },
    {
      "cell_type": "code",
      "execution_count": null,
      "metadata": {
        "id": "JlGzbPyEYSn9",
        "outputId": "5160ce34-629a-4cc4-e0a4-1a703386d5bc"
      },
      "outputs": [
        {
          "data": {
            "text/plain": [
              "MERCHANT_NAME_bins           10\n",
              "bins_purchase_merch_min       8\n",
              "bins_purchase_merch_max       8\n",
              "bins_purchase_merch_sum      10\n",
              "bins_purchase_merch_mean     10\n",
              "bins_purchase_merch_count    10\n",
              "bins_income_min               2\n",
              "bins_income_max               2\n",
              "bins_income_sum              10\n",
              "bins_income_mean             10\n",
              "dtype: int64"
            ]
          },
          "execution_count": 67,
          "metadata": {},
          "output_type": "execute_result"
        }
      ],
      "source": [
        "# check unique values in dataset\n",
        "merch_bins_groups.apply(lambda x: len(x.unique()))"
      ]
    },
    {
      "cell_type": "code",
      "execution_count": null,
      "metadata": {
        "id": "kXQTC2swYSn9"
      },
      "outputs": [],
      "source": [
        "# extra_groups.head(5)"
      ]
    },
    {
      "cell_type": "code",
      "execution_count": null,
      "metadata": {
        "id": "vH4aNumCYSn9"
      },
      "outputs": [],
      "source": [
        "# extra_groups.columns"
      ]
    },
    {
      "cell_type": "code",
      "execution_count": null,
      "metadata": {
        "id": "jsYma4RqYSn-",
        "outputId": "5c080869-f880-4c11-f9cb-9a7dac8cbc0c"
      },
      "outputs": [
        {
          "data": {
            "text/plain": [
              "(931, 28)"
            ]
          },
          "execution_count": 70,
          "metadata": {},
          "output_type": "execute_result"
        }
      ],
      "source": [
        "data = pd.merge(data,merch_bins_groups,on=['MERCHANT_NAME_bins'],how ='left')\n",
        "data.shape"
      ]
    },
    {
      "cell_type": "markdown",
      "metadata": {
        "id": "GvH5Rg-pYSn-"
      },
      "source": [
        "### Merchant_Name groups"
      ]
    },
    {
      "cell_type": "code",
      "execution_count": null,
      "metadata": {
        "id": "E8e5Lk2TYSn_"
      },
      "outputs": [],
      "source": [
        "merch_groups = extra.groupby('MERCHANT_NAME').agg(\n",
        "\n",
        "\n",
        "             purchase_merch_min = (\"PURCHASE_VALUE\", \"min\"),\n",
        "             purchase_merch_max = (\"PURCHASE_VALUE\", \"max\"),        \n",
        "             purchase_merch_sum = (\"PURCHASE_VALUE\", \"sum\"),\n",
        "             purchase_merch_mean = (\"PURCHASE_VALUE\", \"mean\"),\n",
        "             purchase_merch_count = (\"PURCHASE_VALUE\", \"count\"),\n",
        "    \n",
        "             income_min = (\"USER_INCOME\", \"min\"),\n",
        "             income_max = (\"USER_INCOME\", \"max\"),        \n",
        "             income_sum = (\"USER_INCOME\", \"sum\"),\n",
        "             income_mean = (\"USER_INCOME\", \"mean\"),\n",
        "    \n",
        "                   \n",
        "\n",
        "                \n",
        "             \n",
        "             ).reset_index()"
      ]
    },
    {
      "cell_type": "code",
      "execution_count": null,
      "metadata": {
        "id": "Uf0SnTaGYSn_",
        "outputId": "61ef7711-5f43-4a56-93c5-202ff8b5f95e"
      },
      "outputs": [
        {
          "data": {
            "text/html": [
              "<div>\n",
              "<style scoped>\n",
              "    .dataframe tbody tr th:only-of-type {\n",
              "        vertical-align: middle;\n",
              "    }\n",
              "\n",
              "    .dataframe tbody tr th {\n",
              "        vertical-align: top;\n",
              "    }\n",
              "\n",
              "    .dataframe thead th {\n",
              "        text-align: right;\n",
              "    }\n",
              "</style>\n",
              "<table border=\"1\" class=\"dataframe\">\n",
              "  <thead>\n",
              "    <tr style=\"text-align: right;\">\n",
              "      <th></th>\n",
              "      <th>MERCHANT_NAME</th>\n",
              "      <th>purchase_merch_min</th>\n",
              "      <th>purchase_merch_max</th>\n",
              "      <th>purchase_merch_sum</th>\n",
              "      <th>purchase_merch_mean</th>\n",
              "      <th>purchase_merch_count</th>\n",
              "      <th>income_min</th>\n",
              "      <th>income_max</th>\n",
              "      <th>income_sum</th>\n",
              "      <th>income_mean</th>\n",
              "    </tr>\n",
              "  </thead>\n",
              "  <tbody>\n",
              "    <tr>\n",
              "      <th>0</th>\n",
              "      <td>17 LOUNGE</td>\n",
              "      <td>1000</td>\n",
              "      <td>1090</td>\n",
              "      <td>2090</td>\n",
              "      <td>1045.0</td>\n",
              "      <td>2</td>\n",
              "      <td>350000</td>\n",
              "      <td>350000</td>\n",
              "      <td>700000</td>\n",
              "      <td>350000.0</td>\n",
              "    </tr>\n",
              "    <tr>\n",
              "      <th>1</th>\n",
              "      <td>1824 WHISKEY BAR</td>\n",
              "      <td>250</td>\n",
              "      <td>1350</td>\n",
              "      <td>3000</td>\n",
              "      <td>750.0</td>\n",
              "      <td>4</td>\n",
              "      <td>10000</td>\n",
              "      <td>10000</td>\n",
              "      <td>40000</td>\n",
              "      <td>10000.0</td>\n",
              "    </tr>\n",
              "    <tr>\n",
              "      <th>2</th>\n",
              "      <td>254 BREWING COMPANY-TAP ROOM</td>\n",
              "      <td>1625</td>\n",
              "      <td>1625</td>\n",
              "      <td>1625</td>\n",
              "      <td>1625.0</td>\n",
              "      <td>1</td>\n",
              "      <td>252000</td>\n",
              "      <td>252000</td>\n",
              "      <td>252000</td>\n",
              "      <td>252000.0</td>\n",
              "    </tr>\n",
              "    <tr>\n",
              "      <th>3</th>\n",
              "      <td>2NK SACCO MAIN</td>\n",
              "      <td>600</td>\n",
              "      <td>600</td>\n",
              "      <td>600</td>\n",
              "      <td>600.0</td>\n",
              "      <td>1</td>\n",
              "      <td>350000</td>\n",
              "      <td>350000</td>\n",
              "      <td>350000</td>\n",
              "      <td>350000.0</td>\n",
              "    </tr>\n",
              "    <tr>\n",
              "      <th>4</th>\n",
              "      <td>2NK SACCO MAIN 1</td>\n",
              "      <td>300</td>\n",
              "      <td>300</td>\n",
              "      <td>300</td>\n",
              "      <td>300.0</td>\n",
              "      <td>1</td>\n",
              "      <td>10000</td>\n",
              "      <td>10000</td>\n",
              "      <td>10000</td>\n",
              "      <td>10000.0</td>\n",
              "    </tr>\n",
              "  </tbody>\n",
              "</table>\n",
              "</div>"
            ],
            "text/plain": [
              "                  MERCHANT_NAME  purchase_merch_min  purchase_merch_max  \\\n",
              "0                     17 LOUNGE                1000                1090   \n",
              "1              1824 WHISKEY BAR                 250                1350   \n",
              "2  254 BREWING COMPANY-TAP ROOM                1625                1625   \n",
              "3                2NK SACCO MAIN                 600                 600   \n",
              "4              2NK SACCO MAIN 1                 300                 300   \n",
              "\n",
              "   purchase_merch_sum  purchase_merch_mean  purchase_merch_count  income_min  \\\n",
              "0                2090               1045.0                     2      350000   \n",
              "1                3000                750.0                     4       10000   \n",
              "2                1625               1625.0                     1      252000   \n",
              "3                 600                600.0                     1      350000   \n",
              "4                 300                300.0                     1       10000   \n",
              "\n",
              "   income_max  income_sum  income_mean  \n",
              "0      350000      700000     350000.0  \n",
              "1       10000       40000      10000.0  \n",
              "2      252000      252000     252000.0  \n",
              "3      350000      350000     350000.0  \n",
              "4       10000       10000      10000.0  "
            ]
          },
          "execution_count": 72,
          "metadata": {},
          "output_type": "execute_result"
        }
      ],
      "source": [
        "merch_groups.head()"
      ]
    },
    {
      "cell_type": "code",
      "execution_count": null,
      "metadata": {
        "id": "6AjEXcm_YSn_",
        "outputId": "f45b385f-db68-4633-d33c-e71eee60b974"
      },
      "outputs": [
        {
          "data": {
            "text/plain": [
              "MERCHANT_NAME           2124\n",
              "purchase_merch_min       500\n",
              "purchase_merch_max       619\n",
              "purchase_merch_sum       800\n",
              "purchase_merch_mean      887\n",
              "purchase_merch_count      53\n",
              "income_min                15\n",
              "income_max                15\n",
              "income_sum               292\n",
              "income_mean              228\n",
              "dtype: int64"
            ]
          },
          "execution_count": 73,
          "metadata": {},
          "output_type": "execute_result"
        }
      ],
      "source": [
        "# check unique values in dataset\n",
        "merch_groups.apply(lambda x: len(x.unique()))"
      ]
    },
    {
      "cell_type": "code",
      "execution_count": null,
      "metadata": {
        "id": "JQAZZSFsYSn_",
        "outputId": "2cd7a1da-a9c9-44b4-b23b-40eb392b4c70"
      },
      "outputs": [
        {
          "data": {
            "text/plain": [
              "(931, 37)"
            ]
          },
          "execution_count": 74,
          "metadata": {},
          "output_type": "execute_result"
        }
      ],
      "source": [
        "data = pd.merge(data,merch_groups,on=['MERCHANT_NAME'],how ='left')\n",
        "data.shape"
      ]
    },
    {
      "cell_type": "code",
      "execution_count": null,
      "metadata": {
        "id": "OOHrBXdpYSoA",
        "outputId": "d56a9e89-7bd7-46f9-a077-bf72f4aab6a7"
      },
      "outputs": [
        {
          "data": {
            "text/plain": [
              "['PURCHASE_VALUE',\n",
              " 'USER_HOUSEHOLD',\n",
              " 'USER_INCOME',\n",
              " 'price_range',\n",
              " 'income_range',\n",
              " 'prod_PURCHASE_INCOME',\n",
              " 'count_PURCHASE_VALUE',\n",
              " 'count_USER_INCOME',\n",
              " 'count_USER_HOUSEHOLD',\n",
              " 'count_MERCHANT_NAME',\n",
              " 'MERCHANT_NAME_bins',\n",
              " 'bins_purchase_merch_min',\n",
              " 'bins_purchase_merch_max',\n",
              " 'bins_purchase_merch_sum',\n",
              " 'bins_purchase_merch_mean',\n",
              " 'bins_purchase_merch_count',\n",
              " 'bins_income_min',\n",
              " 'bins_income_max',\n",
              " 'bins_income_sum',\n",
              " 'bins_income_mean',\n",
              " 'purchase_merch_min',\n",
              " 'purchase_merch_max',\n",
              " 'purchase_merch_sum',\n",
              " 'purchase_merch_mean',\n",
              " 'purchase_merch_count',\n",
              " 'income_min',\n",
              " 'income_max',\n",
              " 'income_sum',\n",
              " 'income_mean']"
            ]
          },
          "execution_count": 75,
          "metadata": {},
          "output_type": "execute_result"
        }
      ],
      "source": [
        "# cat_columns = [col for col in extra.select_dtypes('object').columns]\n",
        "\n",
        "num_columns = [col for col in data.select_dtypes(['int', 'float']).columns if col not in ['MERCHANT_CATEGORIZED_AS',]]\n",
        "num_columns"
      ]
    },
    {
      "cell_type": "code",
      "execution_count": null,
      "metadata": {
        "id": "Z2swbr_DYSoB",
        "outputId": "c4f2e831-c5b5-4b24-efde-bcb26d0e86aa"
      },
      "outputs": [
        {
          "data": {
            "text/plain": [
              "['MERCHANT_NAME', 'PURCHASED_AT', 'USER_ID', 'Transaction_ID']"
            ]
          },
          "execution_count": 76,
          "metadata": {},
          "output_type": "execute_result"
        }
      ],
      "source": [
        "cat_columns = [col for col in extra.select_dtypes('object').columns]\n",
        "cat_columns"
      ]
    },
    {
      "cell_type": "markdown",
      "metadata": {
        "id": "AJ6hiFKHYSoC"
      },
      "source": [
        "#### Fill the resultant missing values with Zeros\n",
        "* Zeros gave me the best result but -9999 gave almost the same cv score"
      ]
    },
    {
      "cell_type": "code",
      "execution_count": null,
      "metadata": {
        "id": "RCJwGFSiYSoD",
        "outputId": "af083997-8f69-44cf-828a-05d810f01f77"
      },
      "outputs": [
        {
          "data": {
            "text/plain": [
              "MERCHANT_CATEGORIZED_AT                    0\n",
              "MERCHANT_NAME                              0\n",
              "MERCHANT_CATEGORIZED_AS                  558\n",
              "PURCHASE_VALUE                             0\n",
              "PURCHASED_AT                               0\n",
              "IS_PURCHASE_PAID_VIA_MPESA_SEND_MONEY      0\n",
              "USER_GENDER                                0\n",
              "USER_HOUSEHOLD                             0\n",
              "USER_INCOME                                0\n",
              "USER_ID                                    0\n",
              "Transaction_ID                             0\n",
              "price_range                                0\n",
              "income_range                               0\n",
              "prod_PURCHASE_INCOME                       0\n",
              "count_PURCHASE_VALUE                       0\n",
              "count_USER_INCOME                          0\n",
              "count_USER_HOUSEHOLD                       0\n",
              "count_MERCHANT_NAME                        0\n",
              "MERCHANT_NAME_bins                         0\n",
              "bins_purchase_merch_min                    0\n",
              "bins_purchase_merch_max                    0\n",
              "bins_purchase_merch_sum                    0\n",
              "bins_purchase_merch_mean                   0\n",
              "bins_purchase_merch_count                  0\n",
              "bins_income_min                            0\n",
              "bins_income_max                            0\n",
              "bins_income_sum                            0\n",
              "bins_income_mean                           0\n",
              "purchase_merch_min                       502\n",
              "purchase_merch_max                       502\n",
              "purchase_merch_sum                       502\n",
              "purchase_merch_mean                      502\n",
              "purchase_merch_count                     502\n",
              "income_min                               502\n",
              "income_max                               502\n",
              "income_sum                               502\n",
              "income_mean                              502\n",
              "dtype: int64"
            ]
          },
          "execution_count": 77,
          "metadata": {},
          "output_type": "execute_result"
        }
      ],
      "source": [
        "data.isnull().sum()"
      ]
    },
    {
      "cell_type": "code",
      "execution_count": null,
      "metadata": {
        "id": "zA4nZM_xYSoD",
        "outputId": "635fa77d-eb20-4b8c-e3cb-b682e77829aa"
      },
      "outputs": [
        {
          "data": {
            "text/plain": [
              "MERCHANT_CATEGORIZED_AT                    0\n",
              "MERCHANT_NAME                              0\n",
              "MERCHANT_CATEGORIZED_AS                  558\n",
              "PURCHASE_VALUE                             0\n",
              "PURCHASED_AT                               0\n",
              "IS_PURCHASE_PAID_VIA_MPESA_SEND_MONEY      0\n",
              "USER_GENDER                                0\n",
              "USER_HOUSEHOLD                             0\n",
              "USER_INCOME                                0\n",
              "USER_ID                                    0\n",
              "Transaction_ID                             0\n",
              "price_range                                0\n",
              "income_range                               0\n",
              "prod_PURCHASE_INCOME                       0\n",
              "count_PURCHASE_VALUE                       0\n",
              "count_USER_INCOME                          0\n",
              "count_USER_HOUSEHOLD                       0\n",
              "count_MERCHANT_NAME                        0\n",
              "MERCHANT_NAME_bins                         0\n",
              "bins_purchase_merch_min                    0\n",
              "bins_purchase_merch_max                    0\n",
              "bins_purchase_merch_sum                    0\n",
              "bins_purchase_merch_mean                   0\n",
              "bins_purchase_merch_count                  0\n",
              "bins_income_min                            0\n",
              "bins_income_max                            0\n",
              "bins_income_sum                            0\n",
              "bins_income_mean                           0\n",
              "purchase_merch_min                         0\n",
              "purchase_merch_max                         0\n",
              "purchase_merch_sum                         0\n",
              "purchase_merch_mean                        0\n",
              "purchase_merch_count                       0\n",
              "income_min                                 0\n",
              "income_max                                 0\n",
              "income_sum                                 0\n",
              "income_mean                                0\n",
              "dtype: int64"
            ]
          },
          "execution_count": 78,
          "metadata": {},
          "output_type": "execute_result"
        }
      ],
      "source": [
        "for col in data.columns:\n",
        "    if col in num_columns:\n",
        "        data[col] = data[col].fillna(0)\n",
        "\n",
        "data.isnull().sum()"
      ]
    },
    {
      "cell_type": "markdown",
      "metadata": {
        "id": "hXIKUk6jYSoE"
      },
      "source": [
        "## Pandas Get Dummies"
      ]
    },
    {
      "cell_type": "code",
      "execution_count": null,
      "metadata": {
        "id": "HKwlrY6WYSoF",
        "outputId": "8095be00-a392-4831-d133-5981e29dfd4c"
      },
      "outputs": [
        {
          "data": {
            "text/html": [
              "<div>\n",
              "<style scoped>\n",
              "    .dataframe tbody tr th:only-of-type {\n",
              "        vertical-align: middle;\n",
              "    }\n",
              "\n",
              "    .dataframe tbody tr th {\n",
              "        vertical-align: top;\n",
              "    }\n",
              "\n",
              "    .dataframe thead th {\n",
              "        text-align: right;\n",
              "    }\n",
              "</style>\n",
              "<table border=\"1\" class=\"dataframe\">\n",
              "  <thead>\n",
              "    <tr style=\"text-align: right;\">\n",
              "      <th></th>\n",
              "      <th>MERCHANT_CATEGORIZED_AT</th>\n",
              "      <th>MERCHANT_NAME</th>\n",
              "      <th>MERCHANT_CATEGORIZED_AS</th>\n",
              "      <th>PURCHASE_VALUE</th>\n",
              "      <th>PURCHASED_AT</th>\n",
              "      <th>USER_HOUSEHOLD</th>\n",
              "      <th>USER_INCOME</th>\n",
              "      <th>USER_ID</th>\n",
              "      <th>Transaction_ID</th>\n",
              "      <th>price_range</th>\n",
              "      <th>...</th>\n",
              "      <th>purchase_merch_mean</th>\n",
              "      <th>purchase_merch_count</th>\n",
              "      <th>income_min</th>\n",
              "      <th>income_max</th>\n",
              "      <th>income_sum</th>\n",
              "      <th>income_mean</th>\n",
              "      <th>IS_PURCHASE_PAID_VIA_MPESA_SEND_MONEY_False</th>\n",
              "      <th>IS_PURCHASE_PAID_VIA_MPESA_SEND_MONEY_True</th>\n",
              "      <th>USER_GENDER_Female</th>\n",
              "      <th>USER_GENDER_Male</th>\n",
              "    </tr>\n",
              "  </thead>\n",
              "  <tbody>\n",
              "    <tr>\n",
              "      <th>0</th>\n",
              "      <td>2022-05-04 10:25:50.588042+00</td>\n",
              "      <td>UONSDA CHURCH  MOGERE MWAYO TITHE</td>\n",
              "      <td>Rent / Mortgage</td>\n",
              "      <td>1700</td>\n",
              "      <td>2022-05-04 13:56:00+00</td>\n",
              "      <td>3</td>\n",
              "      <td>10000</td>\n",
              "      <td>ID_ZX4DCF4K</td>\n",
              "      <td>ID_04mk78fa</td>\n",
              "      <td>3</td>\n",
              "      <td>...</td>\n",
              "      <td>888.571429</td>\n",
              "      <td>7.0</td>\n",
              "      <td>10000.0</td>\n",
              "      <td>10000.0</td>\n",
              "      <td>70000.0</td>\n",
              "      <td>10000.000000</td>\n",
              "      <td>1</td>\n",
              "      <td>0</td>\n",
              "      <td>0</td>\n",
              "      <td>1</td>\n",
              "    </tr>\n",
              "    <tr>\n",
              "      <th>1</th>\n",
              "      <td>2021-10-25 16:18:38.586837+00</td>\n",
              "      <td>PARK N GO</td>\n",
              "      <td>Transport &amp; Fuel</td>\n",
              "      <td>100</td>\n",
              "      <td>2021-10-24 14:12:00+00</td>\n",
              "      <td>4</td>\n",
              "      <td>90000</td>\n",
              "      <td>ID_U9WZMGJZ</td>\n",
              "      <td>ID_04xkfb07</td>\n",
              "      <td>3</td>\n",
              "      <td>...</td>\n",
              "      <td>0.000000</td>\n",
              "      <td>0.0</td>\n",
              "      <td>0.0</td>\n",
              "      <td>0.0</td>\n",
              "      <td>0.0</td>\n",
              "      <td>0.000000</td>\n",
              "      <td>1</td>\n",
              "      <td>0</td>\n",
              "      <td>1</td>\n",
              "      <td>0</td>\n",
              "    </tr>\n",
              "    <tr>\n",
              "      <th>2</th>\n",
              "      <td>2022-05-20 14:17:30.917297+00</td>\n",
              "      <td>SAFARICOM OFFERS  TUNUKIWA</td>\n",
              "      <td>Data &amp; WiFi</td>\n",
              "      <td>20</td>\n",
              "      <td>2022-05-27 12:46:00+00</td>\n",
              "      <td>3</td>\n",
              "      <td>10000</td>\n",
              "      <td>ID_ZX4DCF4K</td>\n",
              "      <td>ID_051urwuw</td>\n",
              "      <td>3</td>\n",
              "      <td>...</td>\n",
              "      <td>41.930365</td>\n",
              "      <td>876.0</td>\n",
              "      <td>8000.0</td>\n",
              "      <td>350000.0</td>\n",
              "      <td>49761000.0</td>\n",
              "      <td>56804.794521</td>\n",
              "      <td>1</td>\n",
              "      <td>0</td>\n",
              "      <td>0</td>\n",
              "      <td>1</td>\n",
              "    </tr>\n",
              "  </tbody>\n",
              "</table>\n",
              "<p>3 rows × 39 columns</p>\n",
              "</div>"
            ],
            "text/plain": [
              "         MERCHANT_CATEGORIZED_AT                      MERCHANT_NAME  \\\n",
              "0  2022-05-04 10:25:50.588042+00  UONSDA CHURCH  MOGERE MWAYO TITHE   \n",
              "1  2021-10-25 16:18:38.586837+00                          PARK N GO   \n",
              "2  2022-05-20 14:17:30.917297+00         SAFARICOM OFFERS  TUNUKIWA   \n",
              "\n",
              "  MERCHANT_CATEGORIZED_AS  PURCHASE_VALUE            PURCHASED_AT  \\\n",
              "0         Rent / Mortgage            1700  2022-05-04 13:56:00+00   \n",
              "1        Transport & Fuel             100  2021-10-24 14:12:00+00   \n",
              "2             Data & WiFi              20  2022-05-27 12:46:00+00   \n",
              "\n",
              "   USER_HOUSEHOLD  USER_INCOME      USER_ID Transaction_ID  price_range  ...  \\\n",
              "0               3        10000  ID_ZX4DCF4K    ID_04mk78fa            3  ...   \n",
              "1               4        90000  ID_U9WZMGJZ    ID_04xkfb07            3  ...   \n",
              "2               3        10000  ID_ZX4DCF4K    ID_051urwuw            3  ...   \n",
              "\n",
              "   purchase_merch_mean  purchase_merch_count  income_min  income_max  \\\n",
              "0           888.571429                   7.0     10000.0     10000.0   \n",
              "1             0.000000                   0.0         0.0         0.0   \n",
              "2            41.930365                 876.0      8000.0    350000.0   \n",
              "\n",
              "   income_sum   income_mean  IS_PURCHASE_PAID_VIA_MPESA_SEND_MONEY_False  \\\n",
              "0     70000.0  10000.000000                                            1   \n",
              "1         0.0      0.000000                                            1   \n",
              "2  49761000.0  56804.794521                                            1   \n",
              "\n",
              "   IS_PURCHASE_PAID_VIA_MPESA_SEND_MONEY_True  USER_GENDER_Female  \\\n",
              "0                                           0                   0   \n",
              "1                                           0                   1   \n",
              "2                                           0                   0   \n",
              "\n",
              "   USER_GENDER_Male  \n",
              "0                 1  \n",
              "1                 0  \n",
              "2                 1  \n",
              "\n",
              "[3 rows x 39 columns]"
            ]
          },
          "execution_count": 79,
          "metadata": {},
          "output_type": "execute_result"
        }
      ],
      "source": [
        "data = pd.get_dummies(data, columns = [\n",
        "'IS_PURCHASE_PAID_VIA_MPESA_SEND_MONEY','USER_GENDER',\n",
        "\n",
        "])\n",
        "data.head(3)"
      ]
    },
    {
      "cell_type": "markdown",
      "metadata": {
        "id": "Upgt10EkYSoG"
      },
      "source": [
        "##  Label Encoding"
      ]
    },
    {
      "cell_type": "code",
      "execution_count": null,
      "metadata": {
        "id": "YZLk1aALYSoG"
      },
      "outputs": [],
      "source": [
        "cat_columns = ['MERCHANT_CATEGORIZED_AS',  'USER_ID', 'Transaction_ID',\n",
        "       'MERCHANT_NAME'\n",
        "]\n"
      ]
    },
    {
      "cell_type": "code",
      "execution_count": null,
      "metadata": {
        "id": "40i6QNJiYSoH"
      },
      "outputs": [],
      "source": [
        "from sklearn.preprocessing import LabelEncoder\n",
        "le = LabelEncoder()\n",
        "\n",
        "le_columns = [col for col in cat_columns if col not in ['MERCHANT_CATEGORIZED_AS','Transaction_ID']]\n",
        "\n",
        "for col in le_columns:\n",
        "   data[col] = le.fit_transform(data[col])"
      ]
    },
    {
      "cell_type": "code",
      "execution_count": null,
      "metadata": {
        "id": "VB8H9MdFYSoI",
        "outputId": "65f5cff8-5f4a-4024-c9fd-e15f5d76c30f"
      },
      "outputs": [
        {
          "data": {
            "text/html": [
              "<div>\n",
              "<style scoped>\n",
              "    .dataframe tbody tr th:only-of-type {\n",
              "        vertical-align: middle;\n",
              "    }\n",
              "\n",
              "    .dataframe tbody tr th {\n",
              "        vertical-align: top;\n",
              "    }\n",
              "\n",
              "    .dataframe thead th {\n",
              "        text-align: right;\n",
              "    }\n",
              "</style>\n",
              "<table border=\"1\" class=\"dataframe\">\n",
              "  <thead>\n",
              "    <tr style=\"text-align: right;\">\n",
              "      <th></th>\n",
              "      <th>MERCHANT_CATEGORIZED_AT</th>\n",
              "      <th>MERCHANT_NAME</th>\n",
              "      <th>MERCHANT_CATEGORIZED_AS</th>\n",
              "      <th>PURCHASE_VALUE</th>\n",
              "      <th>PURCHASED_AT</th>\n",
              "      <th>USER_HOUSEHOLD</th>\n",
              "      <th>USER_INCOME</th>\n",
              "      <th>USER_ID</th>\n",
              "      <th>Transaction_ID</th>\n",
              "      <th>price_range</th>\n",
              "      <th>...</th>\n",
              "      <th>purchase_merch_mean</th>\n",
              "      <th>purchase_merch_count</th>\n",
              "      <th>income_min</th>\n",
              "      <th>income_max</th>\n",
              "      <th>income_sum</th>\n",
              "      <th>income_mean</th>\n",
              "      <th>IS_PURCHASE_PAID_VIA_MPESA_SEND_MONEY_False</th>\n",
              "      <th>IS_PURCHASE_PAID_VIA_MPESA_SEND_MONEY_True</th>\n",
              "      <th>USER_GENDER_Female</th>\n",
              "      <th>USER_GENDER_Male</th>\n",
              "    </tr>\n",
              "  </thead>\n",
              "  <tbody>\n",
              "    <tr>\n",
              "      <th>0</th>\n",
              "      <td>2022-05-04 10:25:50.588042+00</td>\n",
              "      <td>413</td>\n",
              "      <td>Rent / Mortgage</td>\n",
              "      <td>1700</td>\n",
              "      <td>2022-05-04 13:56:00+00</td>\n",
              "      <td>3</td>\n",
              "      <td>10000</td>\n",
              "      <td>29</td>\n",
              "      <td>ID_04mk78fa</td>\n",
              "      <td>3</td>\n",
              "      <td>...</td>\n",
              "      <td>888.571429</td>\n",
              "      <td>7.0</td>\n",
              "      <td>10000.0</td>\n",
              "      <td>10000.0</td>\n",
              "      <td>70000.0</td>\n",
              "      <td>10000.000000</td>\n",
              "      <td>1</td>\n",
              "      <td>0</td>\n",
              "      <td>0</td>\n",
              "      <td>1</td>\n",
              "    </tr>\n",
              "    <tr>\n",
              "      <th>1</th>\n",
              "      <td>2021-10-25 16:18:38.586837+00</td>\n",
              "      <td>299</td>\n",
              "      <td>Transport &amp; Fuel</td>\n",
              "      <td>100</td>\n",
              "      <td>2021-10-24 14:12:00+00</td>\n",
              "      <td>4</td>\n",
              "      <td>90000</td>\n",
              "      <td>25</td>\n",
              "      <td>ID_04xkfb07</td>\n",
              "      <td>3</td>\n",
              "      <td>...</td>\n",
              "      <td>0.000000</td>\n",
              "      <td>0.0</td>\n",
              "      <td>0.0</td>\n",
              "      <td>0.0</td>\n",
              "      <td>0.0</td>\n",
              "      <td>0.000000</td>\n",
              "      <td>1</td>\n",
              "      <td>0</td>\n",
              "      <td>1</td>\n",
              "      <td>0</td>\n",
              "    </tr>\n",
              "    <tr>\n",
              "      <th>2</th>\n",
              "      <td>2022-05-20 14:17:30.917297+00</td>\n",
              "      <td>348</td>\n",
              "      <td>Data &amp; WiFi</td>\n",
              "      <td>20</td>\n",
              "      <td>2022-05-27 12:46:00+00</td>\n",
              "      <td>3</td>\n",
              "      <td>10000</td>\n",
              "      <td>29</td>\n",
              "      <td>ID_051urwuw</td>\n",
              "      <td>3</td>\n",
              "      <td>...</td>\n",
              "      <td>41.930365</td>\n",
              "      <td>876.0</td>\n",
              "      <td>8000.0</td>\n",
              "      <td>350000.0</td>\n",
              "      <td>49761000.0</td>\n",
              "      <td>56804.794521</td>\n",
              "      <td>1</td>\n",
              "      <td>0</td>\n",
              "      <td>0</td>\n",
              "      <td>1</td>\n",
              "    </tr>\n",
              "    <tr>\n",
              "      <th>3</th>\n",
              "      <td>2022-04-12 15:59:14.139347+00</td>\n",
              "      <td>434</td>\n",
              "      <td>Loan Repayment</td>\n",
              "      <td>3800</td>\n",
              "      <td>2022-02-07 12:16:00+00</td>\n",
              "      <td>5</td>\n",
              "      <td>252000</td>\n",
              "      <td>3</td>\n",
              "      <td>ID_0e1om7rz</td>\n",
              "      <td>3</td>\n",
              "      <td>...</td>\n",
              "      <td>0.000000</td>\n",
              "      <td>0.0</td>\n",
              "      <td>0.0</td>\n",
              "      <td>0.0</td>\n",
              "      <td>0.0</td>\n",
              "      <td>0.000000</td>\n",
              "      <td>1</td>\n",
              "      <td>0</td>\n",
              "      <td>0</td>\n",
              "      <td>1</td>\n",
              "    </tr>\n",
              "    <tr>\n",
              "      <th>4</th>\n",
              "      <td>2022-05-04 10:24:26.709045+00</td>\n",
              "      <td>244</td>\n",
              "      <td>Bills &amp; Fees</td>\n",
              "      <td>60</td>\n",
              "      <td>2022-05-04 15:28:00+00</td>\n",
              "      <td>3</td>\n",
              "      <td>10000</td>\n",
              "      <td>29</td>\n",
              "      <td>ID_0kfcoawb</td>\n",
              "      <td>3</td>\n",
              "      <td>...</td>\n",
              "      <td>60.000000</td>\n",
              "      <td>10.0</td>\n",
              "      <td>10000.0</td>\n",
              "      <td>30000.0</td>\n",
              "      <td>140000.0</td>\n",
              "      <td>14000.000000</td>\n",
              "      <td>1</td>\n",
              "      <td>0</td>\n",
              "      <td>0</td>\n",
              "      <td>1</td>\n",
              "    </tr>\n",
              "  </tbody>\n",
              "</table>\n",
              "<p>5 rows × 39 columns</p>\n",
              "</div>"
            ],
            "text/plain": [
              "         MERCHANT_CATEGORIZED_AT  MERCHANT_NAME MERCHANT_CATEGORIZED_AS  \\\n",
              "0  2022-05-04 10:25:50.588042+00            413         Rent / Mortgage   \n",
              "1  2021-10-25 16:18:38.586837+00            299        Transport & Fuel   \n",
              "2  2022-05-20 14:17:30.917297+00            348             Data & WiFi   \n",
              "3  2022-04-12 15:59:14.139347+00            434          Loan Repayment   \n",
              "4  2022-05-04 10:24:26.709045+00            244            Bills & Fees   \n",
              "\n",
              "   PURCHASE_VALUE            PURCHASED_AT  USER_HOUSEHOLD  USER_INCOME  \\\n",
              "0            1700  2022-05-04 13:56:00+00               3        10000   \n",
              "1             100  2021-10-24 14:12:00+00               4        90000   \n",
              "2              20  2022-05-27 12:46:00+00               3        10000   \n",
              "3            3800  2022-02-07 12:16:00+00               5       252000   \n",
              "4              60  2022-05-04 15:28:00+00               3        10000   \n",
              "\n",
              "   USER_ID Transaction_ID  price_range  ...  purchase_merch_mean  \\\n",
              "0       29    ID_04mk78fa            3  ...           888.571429   \n",
              "1       25    ID_04xkfb07            3  ...             0.000000   \n",
              "2       29    ID_051urwuw            3  ...            41.930365   \n",
              "3        3    ID_0e1om7rz            3  ...             0.000000   \n",
              "4       29    ID_0kfcoawb            3  ...            60.000000   \n",
              "\n",
              "   purchase_merch_count  income_min  income_max  income_sum   income_mean  \\\n",
              "0                   7.0     10000.0     10000.0     70000.0  10000.000000   \n",
              "1                   0.0         0.0         0.0         0.0      0.000000   \n",
              "2                 876.0      8000.0    350000.0  49761000.0  56804.794521   \n",
              "3                   0.0         0.0         0.0         0.0      0.000000   \n",
              "4                  10.0     10000.0     30000.0    140000.0  14000.000000   \n",
              "\n",
              "   IS_PURCHASE_PAID_VIA_MPESA_SEND_MONEY_False  \\\n",
              "0                                            1   \n",
              "1                                            1   \n",
              "2                                            1   \n",
              "3                                            1   \n",
              "4                                            1   \n",
              "\n",
              "   IS_PURCHASE_PAID_VIA_MPESA_SEND_MONEY_True  USER_GENDER_Female  \\\n",
              "0                                           0                   0   \n",
              "1                                           0                   1   \n",
              "2                                           0                   0   \n",
              "3                                           0                   0   \n",
              "4                                           0                   0   \n",
              "\n",
              "   USER_GENDER_Male  \n",
              "0                 1  \n",
              "1                 0  \n",
              "2                 1  \n",
              "3                 1  \n",
              "4                 1  \n",
              "\n",
              "[5 rows x 39 columns]"
            ]
          },
          "execution_count": 82,
          "metadata": {},
          "output_type": "execute_result"
        }
      ],
      "source": [
        "data.head()"
      ]
    },
    {
      "cell_type": "markdown",
      "metadata": {
        "id": "x-PDFYGlYSoJ"
      },
      "source": [
        "## Continous Features\n",
        "* The only continous feature we had was purchase_value\n"
      ]
    },
    {
      "cell_type": "markdown",
      "metadata": {
        "id": "i7JAbMhOYSoL"
      },
      "source": [
        "###  Add statistical Information on the Numerical Columns\n",
        "* did not work because the numerical columns behaved as levels of some sort so left it out"
      ]
    },
    {
      "cell_type": "code",
      "execution_count": null,
      "metadata": {
        "id": "vH07bn_NYSoL"
      },
      "outputs": [],
      "source": [
        "# num_cols = ['PURCHASE_VALUE']"
      ]
    },
    {
      "cell_type": "code",
      "execution_count": null,
      "metadata": {
        "id": "KJ4l09i-YSoN"
      },
      "outputs": [],
      "source": [
        "# def add_stats(data, feats):\n",
        "    \n",
        "#     before_ = data.shape[1]\n",
        "#     cols = feats\n",
        "#     data['f_min']   = data[cols].fillna(0).min(axis = 1)\n",
        "#     data['f_max']   = data[cols].fillna(0).max(axis = 1)\n",
        "#     data['f_mean']  = data[cols].fillna(0).mean(axis = 1)\n",
        "#     data['f_sd']    = data[cols].fillna(0).std(axis = 1)\n",
        "#     data['f_median']= data[cols].fillna(0).median(axis = 1)\n",
        "#     data['f_sum']   = data[cols].fillna(0).sum(axis = 1)\n",
        "#     data['f_skew']  = data[cols].fillna(0).skew(axis=1)\n",
        "\n",
        "#     after_ = data.shape[1]\n",
        "#     new_cols = data.iloc[:,before_:after_].columns.tolist()\n",
        "    \n",
        "#     return data, new_cols"
      ]
    },
    {
      "cell_type": "code",
      "execution_count": null,
      "metadata": {
        "id": "xLL_yoOdYSoQ"
      },
      "outputs": [],
      "source": [
        "# data, stat_cols = add_stats(data, [col for col in num_cols])"
      ]
    },
    {
      "cell_type": "code",
      "execution_count": null,
      "metadata": {
        "id": "b9MHwU5SYSoR"
      },
      "outputs": [],
      "source": [
        "# data.head()"
      ]
    },
    {
      "cell_type": "code",
      "execution_count": null,
      "metadata": {
        "id": "hE4ZqSwEYSoS",
        "outputId": "1033b640-74e8-4935-9ec6-d1a9eec921bc"
      },
      "outputs": [
        {
          "data": {
            "text/plain": [
              "MERCHANT_CATEGORIZED_AT                          0\n",
              "MERCHANT_NAME                                    0\n",
              "MERCHANT_CATEGORIZED_AS                        558\n",
              "PURCHASE_VALUE                                   0\n",
              "PURCHASED_AT                                     0\n",
              "USER_HOUSEHOLD                                   0\n",
              "USER_INCOME                                      0\n",
              "USER_ID                                          0\n",
              "Transaction_ID                                   0\n",
              "price_range                                      0\n",
              "income_range                                     0\n",
              "prod_PURCHASE_INCOME                             0\n",
              "count_PURCHASE_VALUE                             0\n",
              "count_USER_INCOME                                0\n",
              "count_USER_HOUSEHOLD                             0\n",
              "count_MERCHANT_NAME                              0\n",
              "MERCHANT_NAME_bins                               0\n",
              "bins_purchase_merch_min                          0\n",
              "bins_purchase_merch_max                          0\n",
              "bins_purchase_merch_sum                          0\n",
              "bins_purchase_merch_mean                         0\n",
              "bins_purchase_merch_count                        0\n",
              "bins_income_min                                  0\n",
              "bins_income_max                                  0\n",
              "bins_income_sum                                  0\n",
              "bins_income_mean                                 0\n",
              "purchase_merch_min                               0\n",
              "purchase_merch_max                               0\n",
              "purchase_merch_sum                               0\n",
              "purchase_merch_mean                              0\n",
              "purchase_merch_count                             0\n",
              "income_min                                       0\n",
              "income_max                                       0\n",
              "income_sum                                       0\n",
              "income_mean                                      0\n",
              "IS_PURCHASE_PAID_VIA_MPESA_SEND_MONEY_False      0\n",
              "IS_PURCHASE_PAID_VIA_MPESA_SEND_MONEY_True       0\n",
              "USER_GENDER_Female                               0\n",
              "USER_GENDER_Male                                 0\n",
              "dtype: int64"
            ]
          },
          "execution_count": 87,
          "metadata": {},
          "output_type": "execute_result"
        }
      ],
      "source": [
        "data.isnull().sum()"
      ]
    },
    {
      "cell_type": "markdown",
      "metadata": {
        "id": "bsGwSE0-YSoS"
      },
      "source": [
        "## Generate Date Features and count encode some of them\n",
        "* Here count encoding of some helped as seen in the model later\n",
        "* Those which didnt i dropped them"
      ]
    },
    {
      "cell_type": "code",
      "execution_count": null,
      "metadata": {
        "id": "q3RfbCZ1YSoV"
      },
      "outputs": [],
      "source": [
        "def basic_features(data, col):\n",
        "\n",
        "    data[col+'year'] = data[col].dt.year\n",
        "    data[col+'year'] = data[col+'year']-min(data[col+'year'])\n",
        "    data[col+'month'] = data[col].dt.month\n",
        "    data[col+'dayofweek'] = data[col].dt.dayofweek\n",
        "    \n",
        "\n",
        "    return data\n",
        "\n",
        "def ddiff_features(data, col1, col2):\n",
        "    \n",
        "    data[col1] = pd.to_datetime(data[col1])\n",
        "    data[col2] = pd.to_datetime(data[col2])\n",
        "    data['MD_'+col1+col2] = ((data[col1] - data[col2])/np.timedelta64(1, 'M')).astype(int, errors='ignore')\n",
        "    data['YD_'+col1+col2] = ((data[col1] - data[col2])/np.timedelta64(1, 'Y')).astype(int, errors='ignore')\n",
        "    data['DD_'+col1+col2] = ((data[col1] - data[col2])/np.timedelta64(1, 'D')).astype(int, errors='ignore')\n",
        "    \n",
        "    return data\n"
      ]
    },
    {
      "cell_type": "code",
      "execution_count": null,
      "metadata": {
        "id": "eLIMSjxOYSoX"
      },
      "outputs": [],
      "source": [
        "data['PURCHASED_AT'] = pd.to_datetime(data['PURCHASED_AT'])\n",
        "data['MERCHANT_CATEGORIZED_AT'] = pd.to_datetime(data['MERCHANT_CATEGORIZED_AT'])"
      ]
    },
    {
      "cell_type": "code",
      "execution_count": null,
      "metadata": {
        "id": "sja9_K7uYSoY"
      },
      "outputs": [],
      "source": [
        "data = basic_features(data, 'PURCHASED_AT')\n",
        "data = basic_features(data,'MERCHANT_CATEGORIZED_AT')"
      ]
    },
    {
      "cell_type": "code",
      "execution_count": null,
      "metadata": {
        "id": "Jc0AY4kiYSoZ"
      },
      "outputs": [],
      "source": [
        "data = ddiff_features(data, 'PURCHASED_AT','MERCHANT_CATEGORIZED_AT')"
      ]
    },
    {
      "cell_type": "code",
      "execution_count": null,
      "metadata": {
        "id": "xN8fv6R0YSoa",
        "outputId": "d6e4f3ef-eb1e-409d-9fc7-6bf2d30bcb54"
      },
      "outputs": [
        {
          "data": {
            "text/plain": [
              "(931, 46)"
            ]
          },
          "execution_count": 92,
          "metadata": {},
          "output_type": "execute_result"
        }
      ],
      "source": [
        "data = data.drop(columns = ['PURCHASED_AT','MERCHANT_CATEGORIZED_AT'])\n",
        "data.shape"
      ]
    },
    {
      "cell_type": "code",
      "execution_count": null,
      "metadata": {
        "id": "5epMEYT5YSoa"
      },
      "outputs": [],
      "source": [
        "# data['month_day'] = data['PURCHASED_ATmonth'].astype(str) + '_' + data['PURCHASED_ATday'].astype(str)\n",
        "# data['month_wkday'] = data['PURCHASED_ATmonth'].astype(str) + '_' + data['PURCHASED_ATdayofweek'].astype(str)"
      ]
    },
    {
      "cell_type": "code",
      "execution_count": null,
      "metadata": {
        "id": "Tr9WC4nZYSob",
        "outputId": "f9ff4ddf-472a-4d88-ae27-fd262a4f9638"
      },
      "outputs": [
        {
          "data": {
            "text/html": [
              "<div>\n",
              "<style scoped>\n",
              "    .dataframe tbody tr th:only-of-type {\n",
              "        vertical-align: middle;\n",
              "    }\n",
              "\n",
              "    .dataframe tbody tr th {\n",
              "        vertical-align: top;\n",
              "    }\n",
              "\n",
              "    .dataframe thead th {\n",
              "        text-align: right;\n",
              "    }\n",
              "</style>\n",
              "<table border=\"1\" class=\"dataframe\">\n",
              "  <thead>\n",
              "    <tr style=\"text-align: right;\">\n",
              "      <th></th>\n",
              "      <th>MERCHANT_NAME</th>\n",
              "      <th>MERCHANT_CATEGORIZED_AS</th>\n",
              "      <th>PURCHASE_VALUE</th>\n",
              "      <th>USER_HOUSEHOLD</th>\n",
              "      <th>USER_INCOME</th>\n",
              "      <th>USER_ID</th>\n",
              "      <th>Transaction_ID</th>\n",
              "      <th>price_range</th>\n",
              "      <th>income_range</th>\n",
              "      <th>prod_PURCHASE_INCOME</th>\n",
              "      <th>...</th>\n",
              "      <th>USER_GENDER_Male</th>\n",
              "      <th>PURCHASED_ATyear</th>\n",
              "      <th>PURCHASED_ATmonth</th>\n",
              "      <th>PURCHASED_ATdayofweek</th>\n",
              "      <th>MERCHANT_CATEGORIZED_ATyear</th>\n",
              "      <th>MERCHANT_CATEGORIZED_ATmonth</th>\n",
              "      <th>MERCHANT_CATEGORIZED_ATdayofweek</th>\n",
              "      <th>MD_PURCHASED_ATMERCHANT_CATEGORIZED_AT</th>\n",
              "      <th>YD_PURCHASED_ATMERCHANT_CATEGORIZED_AT</th>\n",
              "      <th>DD_PURCHASED_ATMERCHANT_CATEGORIZED_AT</th>\n",
              "    </tr>\n",
              "  </thead>\n",
              "  <tbody>\n",
              "    <tr>\n",
              "      <th>0</th>\n",
              "      <td>413</td>\n",
              "      <td>Rent / Mortgage</td>\n",
              "      <td>1700</td>\n",
              "      <td>3</td>\n",
              "      <td>10000</td>\n",
              "      <td>29</td>\n",
              "      <td>ID_04mk78fa</td>\n",
              "      <td>3</td>\n",
              "      <td>3</td>\n",
              "      <td>0.170000</td>\n",
              "      <td>...</td>\n",
              "      <td>1</td>\n",
              "      <td>4</td>\n",
              "      <td>5</td>\n",
              "      <td>2</td>\n",
              "      <td>1</td>\n",
              "      <td>5</td>\n",
              "      <td>2</td>\n",
              "      <td>0</td>\n",
              "      <td>0</td>\n",
              "      <td>0</td>\n",
              "    </tr>\n",
              "    <tr>\n",
              "      <th>1</th>\n",
              "      <td>299</td>\n",
              "      <td>Transport &amp; Fuel</td>\n",
              "      <td>100</td>\n",
              "      <td>4</td>\n",
              "      <td>90000</td>\n",
              "      <td>25</td>\n",
              "      <td>ID_04xkfb07</td>\n",
              "      <td>3</td>\n",
              "      <td>0</td>\n",
              "      <td>0.001111</td>\n",
              "      <td>...</td>\n",
              "      <td>0</td>\n",
              "      <td>3</td>\n",
              "      <td>10</td>\n",
              "      <td>6</td>\n",
              "      <td>0</td>\n",
              "      <td>10</td>\n",
              "      <td>0</td>\n",
              "      <td>0</td>\n",
              "      <td>0</td>\n",
              "      <td>-1</td>\n",
              "    </tr>\n",
              "    <tr>\n",
              "      <th>2</th>\n",
              "      <td>348</td>\n",
              "      <td>Data &amp; WiFi</td>\n",
              "      <td>20</td>\n",
              "      <td>3</td>\n",
              "      <td>10000</td>\n",
              "      <td>29</td>\n",
              "      <td>ID_051urwuw</td>\n",
              "      <td>3</td>\n",
              "      <td>3</td>\n",
              "      <td>0.002000</td>\n",
              "      <td>...</td>\n",
              "      <td>1</td>\n",
              "      <td>4</td>\n",
              "      <td>5</td>\n",
              "      <td>4</td>\n",
              "      <td>1</td>\n",
              "      <td>5</td>\n",
              "      <td>4</td>\n",
              "      <td>0</td>\n",
              "      <td>0</td>\n",
              "      <td>6</td>\n",
              "    </tr>\n",
              "    <tr>\n",
              "      <th>3</th>\n",
              "      <td>434</td>\n",
              "      <td>Loan Repayment</td>\n",
              "      <td>3800</td>\n",
              "      <td>5</td>\n",
              "      <td>252000</td>\n",
              "      <td>3</td>\n",
              "      <td>ID_0e1om7rz</td>\n",
              "      <td>3</td>\n",
              "      <td>0</td>\n",
              "      <td>0.015079</td>\n",
              "      <td>...</td>\n",
              "      <td>1</td>\n",
              "      <td>4</td>\n",
              "      <td>2</td>\n",
              "      <td>0</td>\n",
              "      <td>1</td>\n",
              "      <td>4</td>\n",
              "      <td>1</td>\n",
              "      <td>-2</td>\n",
              "      <td>0</td>\n",
              "      <td>-64</td>\n",
              "    </tr>\n",
              "    <tr>\n",
              "      <th>4</th>\n",
              "      <td>244</td>\n",
              "      <td>Bills &amp; Fees</td>\n",
              "      <td>60</td>\n",
              "      <td>3</td>\n",
              "      <td>10000</td>\n",
              "      <td>29</td>\n",
              "      <td>ID_0kfcoawb</td>\n",
              "      <td>3</td>\n",
              "      <td>3</td>\n",
              "      <td>0.006000</td>\n",
              "      <td>...</td>\n",
              "      <td>1</td>\n",
              "      <td>4</td>\n",
              "      <td>5</td>\n",
              "      <td>2</td>\n",
              "      <td>1</td>\n",
              "      <td>5</td>\n",
              "      <td>2</td>\n",
              "      <td>0</td>\n",
              "      <td>0</td>\n",
              "      <td>0</td>\n",
              "    </tr>\n",
              "  </tbody>\n",
              "</table>\n",
              "<p>5 rows × 46 columns</p>\n",
              "</div>"
            ],
            "text/plain": [
              "   MERCHANT_NAME MERCHANT_CATEGORIZED_AS  PURCHASE_VALUE  USER_HOUSEHOLD  \\\n",
              "0            413         Rent / Mortgage            1700               3   \n",
              "1            299        Transport & Fuel             100               4   \n",
              "2            348             Data & WiFi              20               3   \n",
              "3            434          Loan Repayment            3800               5   \n",
              "4            244            Bills & Fees              60               3   \n",
              "\n",
              "   USER_INCOME  USER_ID Transaction_ID  price_range  income_range  \\\n",
              "0        10000       29    ID_04mk78fa            3             3   \n",
              "1        90000       25    ID_04xkfb07            3             0   \n",
              "2        10000       29    ID_051urwuw            3             3   \n",
              "3       252000        3    ID_0e1om7rz            3             0   \n",
              "4        10000       29    ID_0kfcoawb            3             3   \n",
              "\n",
              "   prod_PURCHASE_INCOME  ...  USER_GENDER_Male  PURCHASED_ATyear  \\\n",
              "0              0.170000  ...                 1                 4   \n",
              "1              0.001111  ...                 0                 3   \n",
              "2              0.002000  ...                 1                 4   \n",
              "3              0.015079  ...                 1                 4   \n",
              "4              0.006000  ...                 1                 4   \n",
              "\n",
              "   PURCHASED_ATmonth  PURCHASED_ATdayofweek  MERCHANT_CATEGORIZED_ATyear  \\\n",
              "0                  5                      2                            1   \n",
              "1                 10                      6                            0   \n",
              "2                  5                      4                            1   \n",
              "3                  2                      0                            1   \n",
              "4                  5                      2                            1   \n",
              "\n",
              "   MERCHANT_CATEGORIZED_ATmonth  MERCHANT_CATEGORIZED_ATdayofweek  \\\n",
              "0                             5                                 2   \n",
              "1                            10                                 0   \n",
              "2                             5                                 4   \n",
              "3                             4                                 1   \n",
              "4                             5                                 2   \n",
              "\n",
              "   MD_PURCHASED_ATMERCHANT_CATEGORIZED_AT  \\\n",
              "0                                       0   \n",
              "1                                       0   \n",
              "2                                       0   \n",
              "3                                      -2   \n",
              "4                                       0   \n",
              "\n",
              "   YD_PURCHASED_ATMERCHANT_CATEGORIZED_AT  \\\n",
              "0                                       0   \n",
              "1                                       0   \n",
              "2                                       0   \n",
              "3                                       0   \n",
              "4                                       0   \n",
              "\n",
              "   DD_PURCHASED_ATMERCHANT_CATEGORIZED_AT  \n",
              "0                                       0  \n",
              "1                                      -1  \n",
              "2                                       6  \n",
              "3                                     -64  \n",
              "4                                       0  \n",
              "\n",
              "[5 rows x 46 columns]"
            ]
          },
          "execution_count": 94,
          "metadata": {},
          "output_type": "execute_result"
        }
      ],
      "source": [
        "data.head()"
      ]
    },
    {
      "cell_type": "code",
      "execution_count": null,
      "metadata": {
        "id": "RE0V-hHNYSob"
      },
      "outputs": [],
      "source": [
        "col = ['DD_PURCHASED_ATMERCHANT_CATEGORIZED_AT']\n",
        "\n",
        "## Count of unique features\n",
        "for i in col:\n",
        "    data['count_'+i] = data[i].map(data[i].value_counts())"
      ]
    },
    {
      "cell_type": "code",
      "execution_count": null,
      "metadata": {
        "id": "wox25j7NYSoc"
      },
      "outputs": [],
      "source": [
        "# from sklearn.preprocessing import LabelEncoder\n",
        "# le = LabelEncoder()\n",
        "\n",
        "# le_columns = ['month_day','month_wkday']\n",
        "\n",
        "# for col in le_columns:\n",
        "#    data[col] = le.fit_transform(data[col])"
      ]
    },
    {
      "cell_type": "code",
      "execution_count": null,
      "metadata": {
        "id": "dOfltzcoYSoc",
        "outputId": "bb7fa46c-57df-4fba-ce32-066e125eeb29"
      },
      "outputs": [
        {
          "data": {
            "text/html": [
              "<div>\n",
              "<style scoped>\n",
              "    .dataframe tbody tr th:only-of-type {\n",
              "        vertical-align: middle;\n",
              "    }\n",
              "\n",
              "    .dataframe tbody tr th {\n",
              "        vertical-align: top;\n",
              "    }\n",
              "\n",
              "    .dataframe thead th {\n",
              "        text-align: right;\n",
              "    }\n",
              "</style>\n",
              "<table border=\"1\" class=\"dataframe\">\n",
              "  <thead>\n",
              "    <tr style=\"text-align: right;\">\n",
              "      <th></th>\n",
              "      <th>MERCHANT_NAME</th>\n",
              "      <th>MERCHANT_CATEGORIZED_AS</th>\n",
              "      <th>PURCHASE_VALUE</th>\n",
              "      <th>USER_HOUSEHOLD</th>\n",
              "      <th>USER_INCOME</th>\n",
              "      <th>USER_ID</th>\n",
              "      <th>Transaction_ID</th>\n",
              "      <th>price_range</th>\n",
              "      <th>income_range</th>\n",
              "      <th>prod_PURCHASE_INCOME</th>\n",
              "      <th>...</th>\n",
              "      <th>PURCHASED_ATyear</th>\n",
              "      <th>PURCHASED_ATmonth</th>\n",
              "      <th>PURCHASED_ATdayofweek</th>\n",
              "      <th>MERCHANT_CATEGORIZED_ATyear</th>\n",
              "      <th>MERCHANT_CATEGORIZED_ATmonth</th>\n",
              "      <th>MERCHANT_CATEGORIZED_ATdayofweek</th>\n",
              "      <th>MD_PURCHASED_ATMERCHANT_CATEGORIZED_AT</th>\n",
              "      <th>YD_PURCHASED_ATMERCHANT_CATEGORIZED_AT</th>\n",
              "      <th>DD_PURCHASED_ATMERCHANT_CATEGORIZED_AT</th>\n",
              "      <th>count_DD_PURCHASED_ATMERCHANT_CATEGORIZED_AT</th>\n",
              "    </tr>\n",
              "  </thead>\n",
              "  <tbody>\n",
              "    <tr>\n",
              "      <th>0</th>\n",
              "      <td>413</td>\n",
              "      <td>Rent / Mortgage</td>\n",
              "      <td>1700</td>\n",
              "      <td>3</td>\n",
              "      <td>10000</td>\n",
              "      <td>29</td>\n",
              "      <td>ID_04mk78fa</td>\n",
              "      <td>3</td>\n",
              "      <td>3</td>\n",
              "      <td>0.170000</td>\n",
              "      <td>...</td>\n",
              "      <td>4</td>\n",
              "      <td>5</td>\n",
              "      <td>2</td>\n",
              "      <td>1</td>\n",
              "      <td>5</td>\n",
              "      <td>2</td>\n",
              "      <td>0</td>\n",
              "      <td>0</td>\n",
              "      <td>0</td>\n",
              "      <td>72</td>\n",
              "    </tr>\n",
              "    <tr>\n",
              "      <th>1</th>\n",
              "      <td>299</td>\n",
              "      <td>Transport &amp; Fuel</td>\n",
              "      <td>100</td>\n",
              "      <td>4</td>\n",
              "      <td>90000</td>\n",
              "      <td>25</td>\n",
              "      <td>ID_04xkfb07</td>\n",
              "      <td>3</td>\n",
              "      <td>0</td>\n",
              "      <td>0.001111</td>\n",
              "      <td>...</td>\n",
              "      <td>3</td>\n",
              "      <td>10</td>\n",
              "      <td>6</td>\n",
              "      <td>0</td>\n",
              "      <td>10</td>\n",
              "      <td>0</td>\n",
              "      <td>0</td>\n",
              "      <td>0</td>\n",
              "      <td>-1</td>\n",
              "      <td>18</td>\n",
              "    </tr>\n",
              "    <tr>\n",
              "      <th>2</th>\n",
              "      <td>348</td>\n",
              "      <td>Data &amp; WiFi</td>\n",
              "      <td>20</td>\n",
              "      <td>3</td>\n",
              "      <td>10000</td>\n",
              "      <td>29</td>\n",
              "      <td>ID_051urwuw</td>\n",
              "      <td>3</td>\n",
              "      <td>3</td>\n",
              "      <td>0.002000</td>\n",
              "      <td>...</td>\n",
              "      <td>4</td>\n",
              "      <td>5</td>\n",
              "      <td>4</td>\n",
              "      <td>1</td>\n",
              "      <td>5</td>\n",
              "      <td>4</td>\n",
              "      <td>0</td>\n",
              "      <td>0</td>\n",
              "      <td>6</td>\n",
              "      <td>18</td>\n",
              "    </tr>\n",
              "    <tr>\n",
              "      <th>3</th>\n",
              "      <td>434</td>\n",
              "      <td>Loan Repayment</td>\n",
              "      <td>3800</td>\n",
              "      <td>5</td>\n",
              "      <td>252000</td>\n",
              "      <td>3</td>\n",
              "      <td>ID_0e1om7rz</td>\n",
              "      <td>3</td>\n",
              "      <td>0</td>\n",
              "      <td>0.015079</td>\n",
              "      <td>...</td>\n",
              "      <td>4</td>\n",
              "      <td>2</td>\n",
              "      <td>0</td>\n",
              "      <td>1</td>\n",
              "      <td>4</td>\n",
              "      <td>1</td>\n",
              "      <td>-2</td>\n",
              "      <td>0</td>\n",
              "      <td>-64</td>\n",
              "      <td>4</td>\n",
              "    </tr>\n",
              "    <tr>\n",
              "      <th>4</th>\n",
              "      <td>244</td>\n",
              "      <td>Bills &amp; Fees</td>\n",
              "      <td>60</td>\n",
              "      <td>3</td>\n",
              "      <td>10000</td>\n",
              "      <td>29</td>\n",
              "      <td>ID_0kfcoawb</td>\n",
              "      <td>3</td>\n",
              "      <td>3</td>\n",
              "      <td>0.006000</td>\n",
              "      <td>...</td>\n",
              "      <td>4</td>\n",
              "      <td>5</td>\n",
              "      <td>2</td>\n",
              "      <td>1</td>\n",
              "      <td>5</td>\n",
              "      <td>2</td>\n",
              "      <td>0</td>\n",
              "      <td>0</td>\n",
              "      <td>0</td>\n",
              "      <td>72</td>\n",
              "    </tr>\n",
              "  </tbody>\n",
              "</table>\n",
              "<p>5 rows × 47 columns</p>\n",
              "</div>"
            ],
            "text/plain": [
              "   MERCHANT_NAME MERCHANT_CATEGORIZED_AS  PURCHASE_VALUE  USER_HOUSEHOLD  \\\n",
              "0            413         Rent / Mortgage            1700               3   \n",
              "1            299        Transport & Fuel             100               4   \n",
              "2            348             Data & WiFi              20               3   \n",
              "3            434          Loan Repayment            3800               5   \n",
              "4            244            Bills & Fees              60               3   \n",
              "\n",
              "   USER_INCOME  USER_ID Transaction_ID  price_range  income_range  \\\n",
              "0        10000       29    ID_04mk78fa            3             3   \n",
              "1        90000       25    ID_04xkfb07            3             0   \n",
              "2        10000       29    ID_051urwuw            3             3   \n",
              "3       252000        3    ID_0e1om7rz            3             0   \n",
              "4        10000       29    ID_0kfcoawb            3             3   \n",
              "\n",
              "   prod_PURCHASE_INCOME  ...  PURCHASED_ATyear  PURCHASED_ATmonth  \\\n",
              "0              0.170000  ...                 4                  5   \n",
              "1              0.001111  ...                 3                 10   \n",
              "2              0.002000  ...                 4                  5   \n",
              "3              0.015079  ...                 4                  2   \n",
              "4              0.006000  ...                 4                  5   \n",
              "\n",
              "   PURCHASED_ATdayofweek  MERCHANT_CATEGORIZED_ATyear  \\\n",
              "0                      2                            1   \n",
              "1                      6                            0   \n",
              "2                      4                            1   \n",
              "3                      0                            1   \n",
              "4                      2                            1   \n",
              "\n",
              "   MERCHANT_CATEGORIZED_ATmonth  MERCHANT_CATEGORIZED_ATdayofweek  \\\n",
              "0                             5                                 2   \n",
              "1                            10                                 0   \n",
              "2                             5                                 4   \n",
              "3                             4                                 1   \n",
              "4                             5                                 2   \n",
              "\n",
              "   MD_PURCHASED_ATMERCHANT_CATEGORIZED_AT  \\\n",
              "0                                       0   \n",
              "1                                       0   \n",
              "2                                       0   \n",
              "3                                      -2   \n",
              "4                                       0   \n",
              "\n",
              "   YD_PURCHASED_ATMERCHANT_CATEGORIZED_AT  \\\n",
              "0                                       0   \n",
              "1                                       0   \n",
              "2                                       0   \n",
              "3                                       0   \n",
              "4                                       0   \n",
              "\n",
              "   DD_PURCHASED_ATMERCHANT_CATEGORIZED_AT  \\\n",
              "0                                       0   \n",
              "1                                      -1   \n",
              "2                                       6   \n",
              "3                                     -64   \n",
              "4                                       0   \n",
              "\n",
              "   count_DD_PURCHASED_ATMERCHANT_CATEGORIZED_AT  \n",
              "0                                            72  \n",
              "1                                            18  \n",
              "2                                            18  \n",
              "3                                             4  \n",
              "4                                            72  \n",
              "\n",
              "[5 rows x 47 columns]"
            ]
          },
          "execution_count": 97,
          "metadata": {},
          "output_type": "execute_result"
        }
      ],
      "source": [
        "data.head()"
      ]
    },
    {
      "cell_type": "markdown",
      "metadata": {
        "id": "U7sgBGhbYSod"
      },
      "source": [
        "## Separate the combined dataset"
      ]
    },
    {
      "cell_type": "code",
      "execution_count": null,
      "metadata": {
        "id": "zCrcR4sTYSod",
        "outputId": "0aa82cbe-8fe1-419b-fad8-722965359129"
      },
      "outputs": [
        {
          "data": {
            "text/plain": [
              "((373, 47), (558, 47))"
            ]
          },
          "execution_count": 98,
          "metadata": {},
          "output_type": "execute_result"
        }
      ],
      "source": [
        "# Separate train and test data from the combined dataframe\n",
        "train_df = data[:ntrain]\n",
        "test_df = data[ntrain:]\n",
        "\n",
        "# Check the shapes of the split dataset\n",
        "train_df.shape, test_df.shape"
      ]
    },
    {
      "cell_type": "markdown",
      "metadata": {
        "id": "7XGd-ciKYSoe"
      },
      "source": [
        "### Label Encode the Target"
      ]
    },
    {
      "cell_type": "code",
      "execution_count": null,
      "metadata": {
        "id": "zq2t-aUhYSof",
        "outputId": "27b3d583-7016-4498-dbfd-ead1f7ab1d1d"
      },
      "outputs": [
        {
          "data": {
            "text/plain": [
              "Bills & Fees        78\n",
              "Groceries           50\n",
              "Data & WiFi         43\n",
              "Miscellaneous       43\n",
              "Family & Friends    41\n",
              "Going out           41\n",
              "Transport & Fuel    29\n",
              "Shopping            21\n",
              "Emergency fund      12\n",
              "Health               6\n",
              "Loan Repayment       5\n",
              "Rent / Mortgage      2\n",
              "Education            2\n",
              "Name: MERCHANT_CATEGORIZED_AS, dtype: int64"
            ]
          },
          "execution_count": 99,
          "metadata": {},
          "output_type": "execute_result"
        }
      ],
      "source": [
        "train['MERCHANT_CATEGORIZED_AS'].value_counts()"
      ]
    },
    {
      "cell_type": "code",
      "execution_count": null,
      "metadata": {
        "id": "zYfjPc75YSoh"
      },
      "outputs": [],
      "source": [
        "for col in ['MERCHANT_CATEGORIZED_AS']:\n",
        "   train_df[col] = le.fit_transform(train_df[col])"
      ]
    },
    {
      "cell_type": "markdown",
      "metadata": {
        "id": "x_l1kH3CYSoi"
      },
      "source": [
        "## KMEANS Clustering\n",
        "* Decided to use MERCHANT_NAME because thats our gold feature and purchase value\n",
        "* Later decided onky on merchant_name which was the only one that led to an improvement"
      ]
    },
    {
      "cell_type": "code",
      "execution_count": null,
      "metadata": {
        "id": "dSrCyBeUYSoi"
      },
      "outputs": [],
      "source": [
        "\n",
        "clust = ['MERCHANT_NAME']\n",
        "train = train_df.copy()"
      ]
    },
    {
      "cell_type": "markdown",
      "metadata": {
        "id": "MkFqcaGgYSoi"
      },
      "source": [
        "#### The function below just shows us what is the best number of clusters to use "
      ]
    },
    {
      "cell_type": "code",
      "execution_count": null,
      "metadata": {
        "id": "hvJ7PaL3YSoj",
        "outputId": "f60a9be2-fcd0-4b44-b848-bc3697d64523"
      },
      "outputs": [
        {
          "name": "stdout",
          "output_type": "stream",
          "text": [
            "MERCHANT_NAME 49142.47040920552\n"
          ]
        },
        {
          "data": {
            "image/png": "[encoded data removed]",
            "text/plain": [
              "<Figure size 432x288 with 1 Axes>"
            ]
          },
          "metadata": {
            "needs_background": "light"
          },
          "output_type": "display_data"
        }
      ],
      "source": [
        "from sklearn.cluster import KMeans\n",
        "for j in clust:\n",
        "    distortions = []\n",
        "    if train[j].dtype == object: # One-Hot encode data if it is categorical\n",
        "        dummies = pd.get_dummies(train[j], drop_first=True)\n",
        "        for i in range(1, 11):\n",
        "            km = KMeans(\n",
        "                n_clusters=i, init='k-means++',\n",
        "                n_init=20, max_iter=300,\n",
        "                tol=1e-04, random_state=0\n",
        "            )\n",
        "            km.fit(dummies)\n",
        "            distortions.append(km.inertia_)\n",
        "\n",
        "        # plot\n",
        "        print(j, km.inertia_)\n",
        "        plt.plot(range(1, 11), distortions, marker='o')\n",
        "        plt.xlabel('Number of clusters')\n",
        "        plt.ylabel('Distortion')\n",
        "        plt.show()\n",
        "    \n",
        "    else:\n",
        "        for i in range(1, 11):\n",
        "            km = KMeans(\n",
        "                n_clusters=i, init='k-means++',\n",
        "                n_init=20, max_iter=300,\n",
        "                tol=1e-04, random_state=0\n",
        "            )\n",
        "            km.fit(pd.DataFrame(train[j]))\n",
        "            distortions.append(km.inertia_)\n",
        "\n",
        "        # plot\n",
        "\n",
        "        print(j, km.inertia_)\n",
        "        plt.plot(range(1, 11), distortions, marker='o')\n",
        "        plt.xlabel('Number of clusters')\n",
        "        plt.ylabel('Distortion')\n",
        "        plt.show()\n",
        "\n"
      ]
    },
    {
      "cell_type": "markdown",
      "metadata": {
        "id": "03jNvw_WYSok"
      },
      "source": [
        "#### Six gave the best score on the CV"
      ]
    },
    {
      "cell_type": "code",
      "execution_count": null,
      "metadata": {
        "id": "O00T8aW7YSom"
      },
      "outputs": [],
      "source": [
        "kmeans = KMeans(\n",
        "        n_clusters=6, init='k-means++',\n",
        "        n_init=20, max_iter=300,\n",
        "        tol=1e-04, random_state=0\n",
        "    )"
      ]
    },
    {
      "cell_type": "code",
      "execution_count": null,
      "metadata": {
        "id": "Xvqgu5kUYSom"
      },
      "outputs": [],
      "source": [
        "test = test_df.copy()"
      ]
    },
    {
      "cell_type": "code",
      "execution_count": null,
      "metadata": {
        "id": "KNb8tzBUYSom"
      },
      "outputs": [],
      "source": [
        "%%capture \n",
        "#To avoid clumsy cell output\n",
        "\n",
        "for col in clust:\n",
        "    if train[col].dtype == object:\n",
        "        dummies = pd.get_dummies(train[col], drop_first=True)\n",
        "        test_dum = pd.get_dummies(test[col], drop_first=True)\n",
        "        kmeans.fit(dummies)\n",
        "        train[col+'_grouped'] = kmeans.labels_\n",
        "        test[col+'_grouped'] = kmeans.predict(test_dum)\n",
        "    else:\n",
        "        kmeans.fit(pd.DataFrame(train[col]))\n",
        "        train[col+'_grouped'] = kmeans.labels_\n",
        "        test[col+'_grouped'] = kmeans.predict(pd.DataFrame(test[col]))\n"
      ]
    },
    {
      "cell_type": "code",
      "execution_count": null,
      "metadata": {
        "id": "M15pHUOTYSon",
        "outputId": "8b5c5b3b-d9c0-4973-dbb5-ead1a33d5bfc"
      },
      "outputs": [
        {
          "data": {
            "text/plain": [
              "((373, 48), (558, 48))"
            ]
          },
          "execution_count": 106,
          "metadata": {},
          "output_type": "execute_result"
        }
      ],
      "source": [
        "train.shape, test.shape"
      ]
    },
    {
      "cell_type": "code",
      "execution_count": null,
      "metadata": {
        "id": "NzxSpWwnYSoo",
        "outputId": "5df3ddb7-3700-4dd0-92db-7050788427e8"
      },
      "outputs": [
        {
          "data": {
            "text/html": [
              "<div>\n",
              "<style scoped>\n",
              "    .dataframe tbody tr th:only-of-type {\n",
              "        vertical-align: middle;\n",
              "    }\n",
              "\n",
              "    .dataframe tbody tr th {\n",
              "        vertical-align: top;\n",
              "    }\n",
              "\n",
              "    .dataframe thead th {\n",
              "        text-align: right;\n",
              "    }\n",
              "</style>\n",
              "<table border=\"1\" class=\"dataframe\">\n",
              "  <thead>\n",
              "    <tr style=\"text-align: right;\">\n",
              "      <th></th>\n",
              "      <th>MERCHANT_NAME</th>\n",
              "      <th>MERCHANT_CATEGORIZED_AS</th>\n",
              "      <th>PURCHASE_VALUE</th>\n",
              "      <th>USER_HOUSEHOLD</th>\n",
              "      <th>USER_INCOME</th>\n",
              "      <th>USER_ID</th>\n",
              "      <th>Transaction_ID</th>\n",
              "      <th>price_range</th>\n",
              "      <th>income_range</th>\n",
              "      <th>prod_PURCHASE_INCOME</th>\n",
              "      <th>...</th>\n",
              "      <th>PURCHASED_ATmonth</th>\n",
              "      <th>PURCHASED_ATdayofweek</th>\n",
              "      <th>MERCHANT_CATEGORIZED_ATyear</th>\n",
              "      <th>MERCHANT_CATEGORIZED_ATmonth</th>\n",
              "      <th>MERCHANT_CATEGORIZED_ATdayofweek</th>\n",
              "      <th>MD_PURCHASED_ATMERCHANT_CATEGORIZED_AT</th>\n",
              "      <th>YD_PURCHASED_ATMERCHANT_CATEGORIZED_AT</th>\n",
              "      <th>DD_PURCHASED_ATMERCHANT_CATEGORIZED_AT</th>\n",
              "      <th>count_DD_PURCHASED_ATMERCHANT_CATEGORIZED_AT</th>\n",
              "      <th>MERCHANT_NAME_grouped</th>\n",
              "    </tr>\n",
              "  </thead>\n",
              "  <tbody>\n",
              "    <tr>\n",
              "      <th>0</th>\n",
              "      <td>413</td>\n",
              "      <td>10</td>\n",
              "      <td>1700</td>\n",
              "      <td>3</td>\n",
              "      <td>10000</td>\n",
              "      <td>29</td>\n",
              "      <td>ID_04mk78fa</td>\n",
              "      <td>3</td>\n",
              "      <td>3</td>\n",
              "      <td>0.170000</td>\n",
              "      <td>...</td>\n",
              "      <td>5</td>\n",
              "      <td>2</td>\n",
              "      <td>1</td>\n",
              "      <td>5</td>\n",
              "      <td>2</td>\n",
              "      <td>0</td>\n",
              "      <td>0</td>\n",
              "      <td>0</td>\n",
              "      <td>72</td>\n",
              "      <td>3</td>\n",
              "    </tr>\n",
              "    <tr>\n",
              "      <th>1</th>\n",
              "      <td>299</td>\n",
              "      <td>12</td>\n",
              "      <td>100</td>\n",
              "      <td>4</td>\n",
              "      <td>90000</td>\n",
              "      <td>25</td>\n",
              "      <td>ID_04xkfb07</td>\n",
              "      <td>3</td>\n",
              "      <td>0</td>\n",
              "      <td>0.001111</td>\n",
              "      <td>...</td>\n",
              "      <td>10</td>\n",
              "      <td>6</td>\n",
              "      <td>0</td>\n",
              "      <td>10</td>\n",
              "      <td>0</td>\n",
              "      <td>0</td>\n",
              "      <td>0</td>\n",
              "      <td>-1</td>\n",
              "      <td>18</td>\n",
              "      <td>5</td>\n",
              "    </tr>\n",
              "    <tr>\n",
              "      <th>2</th>\n",
              "      <td>348</td>\n",
              "      <td>1</td>\n",
              "      <td>20</td>\n",
              "      <td>3</td>\n",
              "      <td>10000</td>\n",
              "      <td>29</td>\n",
              "      <td>ID_051urwuw</td>\n",
              "      <td>3</td>\n",
              "      <td>3</td>\n",
              "      <td>0.002000</td>\n",
              "      <td>...</td>\n",
              "      <td>5</td>\n",
              "      <td>4</td>\n",
              "      <td>1</td>\n",
              "      <td>5</td>\n",
              "      <td>4</td>\n",
              "      <td>0</td>\n",
              "      <td>0</td>\n",
              "      <td>6</td>\n",
              "      <td>18</td>\n",
              "      <td>1</td>\n",
              "    </tr>\n",
              "    <tr>\n",
              "      <th>3</th>\n",
              "      <td>434</td>\n",
              "      <td>8</td>\n",
              "      <td>3800</td>\n",
              "      <td>5</td>\n",
              "      <td>252000</td>\n",
              "      <td>3</td>\n",
              "      <td>ID_0e1om7rz</td>\n",
              "      <td>3</td>\n",
              "      <td>0</td>\n",
              "      <td>0.015079</td>\n",
              "      <td>...</td>\n",
              "      <td>2</td>\n",
              "      <td>0</td>\n",
              "      <td>1</td>\n",
              "      <td>4</td>\n",
              "      <td>1</td>\n",
              "      <td>-2</td>\n",
              "      <td>0</td>\n",
              "      <td>-64</td>\n",
              "      <td>4</td>\n",
              "      <td>3</td>\n",
              "    </tr>\n",
              "    <tr>\n",
              "      <th>4</th>\n",
              "      <td>244</td>\n",
              "      <td>0</td>\n",
              "      <td>60</td>\n",
              "      <td>3</td>\n",
              "      <td>10000</td>\n",
              "      <td>29</td>\n",
              "      <td>ID_0kfcoawb</td>\n",
              "      <td>3</td>\n",
              "      <td>3</td>\n",
              "      <td>0.006000</td>\n",
              "      <td>...</td>\n",
              "      <td>5</td>\n",
              "      <td>2</td>\n",
              "      <td>1</td>\n",
              "      <td>5</td>\n",
              "      <td>2</td>\n",
              "      <td>0</td>\n",
              "      <td>0</td>\n",
              "      <td>0</td>\n",
              "      <td>72</td>\n",
              "      <td>5</td>\n",
              "    </tr>\n",
              "  </tbody>\n",
              "</table>\n",
              "<p>5 rows × 48 columns</p>\n",
              "</div>"
            ],
            "text/plain": [
              "   MERCHANT_NAME  MERCHANT_CATEGORIZED_AS  PURCHASE_VALUE  USER_HOUSEHOLD  \\\n",
              "0            413                       10            1700               3   \n",
              "1            299                       12             100               4   \n",
              "2            348                        1              20               3   \n",
              "3            434                        8            3800               5   \n",
              "4            244                        0              60               3   \n",
              "\n",
              "   USER_INCOME  USER_ID Transaction_ID  price_range  income_range  \\\n",
              "0        10000       29    ID_04mk78fa            3             3   \n",
              "1        90000       25    ID_04xkfb07            3             0   \n",
              "2        10000       29    ID_051urwuw            3             3   \n",
              "3       252000        3    ID_0e1om7rz            3             0   \n",
              "4        10000       29    ID_0kfcoawb            3             3   \n",
              "\n",
              "   prod_PURCHASE_INCOME  ...  PURCHASED_ATmonth  PURCHASED_ATdayofweek  \\\n",
              "0              0.170000  ...                  5                      2   \n",
              "1              0.001111  ...                 10                      6   \n",
              "2              0.002000  ...                  5                      4   \n",
              "3              0.015079  ...                  2                      0   \n",
              "4              0.006000  ...                  5                      2   \n",
              "\n",
              "   MERCHANT_CATEGORIZED_ATyear  MERCHANT_CATEGORIZED_ATmonth  \\\n",
              "0                            1                             5   \n",
              "1                            0                            10   \n",
              "2                            1                             5   \n",
              "3                            1                             4   \n",
              "4                            1                             5   \n",
              "\n",
              "   MERCHANT_CATEGORIZED_ATdayofweek  MD_PURCHASED_ATMERCHANT_CATEGORIZED_AT  \\\n",
              "0                                 2                                       0   \n",
              "1                                 0                                       0   \n",
              "2                                 4                                       0   \n",
              "3                                 1                                      -2   \n",
              "4                                 2                                       0   \n",
              "\n",
              "   YD_PURCHASED_ATMERCHANT_CATEGORIZED_AT  \\\n",
              "0                                       0   \n",
              "1                                       0   \n",
              "2                                       0   \n",
              "3                                       0   \n",
              "4                                       0   \n",
              "\n",
              "   DD_PURCHASED_ATMERCHANT_CATEGORIZED_AT  \\\n",
              "0                                       0   \n",
              "1                                      -1   \n",
              "2                                       6   \n",
              "3                                     -64   \n",
              "4                                       0   \n",
              "\n",
              "   count_DD_PURCHASED_ATMERCHANT_CATEGORIZED_AT  MERCHANT_NAME_grouped  \n",
              "0                                            72                      3  \n",
              "1                                            18                      5  \n",
              "2                                            18                      1  \n",
              "3                                             4                      3  \n",
              "4                                            72                      5  \n",
              "\n",
              "[5 rows x 48 columns]"
            ]
          },
          "execution_count": 107,
          "metadata": {},
          "output_type": "execute_result"
        }
      ],
      "source": [
        "train.head()"
      ]
    },
    {
      "cell_type": "markdown",
      "metadata": {
        "id": "3nORoEC7YSop"
      },
      "source": [
        "## Correlation"
      ]
    },
    {
      "cell_type": "markdown",
      "metadata": {
        "id": "AWW8oxw2YSop"
      },
      "source": [
        "### 1. Negative correlation with the target"
      ]
    },
    {
      "cell_type": "code",
      "execution_count": null,
      "metadata": {
        "id": "ER4ao5MCYSoq",
        "outputId": "fdbb0135-7765-49ae-b740-c096125500af"
      },
      "outputs": [
        {
          "data": {
            "text/plain": [
              "count_MERCHANT_NAME                            -0.296200\n",
              "income_sum                                     -0.272344\n",
              "purchase_merch_count                           -0.264912\n",
              "USER_ID                                        -0.229815\n",
              "bins_purchase_merch_max                        -0.217279\n",
              "purchase_merch_sum                             -0.201388\n",
              "count_DD_PURCHASED_ATMERCHANT_CATEGORIZED_AT   -0.199362\n",
              "purchase_merch_max                             -0.186184\n",
              "income_range                                   -0.161370\n",
              "MERCHANT_CATEGORIZED_ATyear                    -0.103929\n",
              "PURCHASED_ATyear                               -0.090130\n",
              "prod_PURCHASE_INCOME                           -0.089648\n",
              "count_USER_INCOME                              -0.087789\n",
              "IS_PURCHASE_PAID_VIA_MPESA_SEND_MONEY_True     -0.086870\n",
              "PURCHASE_VALUE                                 -0.074565\n",
              "USER_GENDER_Male                               -0.073213\n",
              "count_USER_HOUSEHOLD                           -0.070416\n",
              "bins_purchase_merch_mean                       -0.054275\n",
              "bins_income_min                                -0.053735\n",
              "income_max                                     -0.051826\n",
              "bins_purchase_merch_count                      -0.039784\n",
              "count_PURCHASE_VALUE                           -0.028634\n",
              "MERCHANT_CATEGORIZED_ATdayofweek               -0.014641\n",
              "USER_HOUSEHOLD                                 -0.012197\n",
              "Name: MERCHANT_CATEGORIZED_AS, dtype: float64"
            ]
          },
          "execution_count": 108,
          "metadata": {},
          "output_type": "execute_result"
        }
      ],
      "source": [
        "train.corr()['MERCHANT_CATEGORIZED_AS'].sort_values()[train.corr()['MERCHANT_CATEGORIZED_AS'].sort_values() < 0]"
      ]
    },
    {
      "cell_type": "markdown",
      "metadata": {
        "id": "8z1xy2JYYSor"
      },
      "source": [
        "### 2. Positive correlation with the Target"
      ]
    },
    {
      "cell_type": "code",
      "execution_count": null,
      "metadata": {
        "id": "LTnPb3xhYSos",
        "outputId": "46e2f3cf-039e-490e-a922-a3ab1c0bbdfa"
      },
      "outputs": [
        {
          "data": {
            "text/plain": [
              "purchase_merch_mean                            0.001101\n",
              "bins_income_sum                                0.008894\n",
              "DD_PURCHASED_ATMERCHANT_CATEGORIZED_AT         0.024230\n",
              "MD_PURCHASED_ATMERCHANT_CATEGORIZED_AT         0.030059\n",
              "PURCHASED_ATdayofweek                          0.030761\n",
              "bins_purchase_merch_sum                        0.041652\n",
              "USER_INCOME                                    0.041954\n",
              "YD_PURCHASED_ATMERCHANT_CATEGORIZED_AT         0.045564\n",
              "income_mean                                    0.049303\n",
              "bins_income_max                                0.053735\n",
              "purchase_merch_min                             0.054469\n",
              "MERCHANT_CATEGORIZED_ATmonth                   0.057745\n",
              "price_range                                    0.066434\n",
              "MERCHANT_NAME                                  0.067395\n",
              "USER_GENDER_Female                             0.073213\n",
              "IS_PURCHASE_PAID_VIA_MPESA_SEND_MONEY_False    0.086870\n",
              "MERCHANT_NAME_bins                             0.120163\n",
              "bins_income_mean                               0.124249\n",
              "PURCHASED_ATmonth                              0.187533\n",
              "MERCHANT_NAME_grouped                          0.225183\n",
              "income_min                                     0.262836\n",
              "bins_purchase_merch_min                        0.339801\n",
              "MERCHANT_CATEGORIZED_AS                        1.000000\n",
              "Name: MERCHANT_CATEGORIZED_AS, dtype: float64"
            ]
          },
          "execution_count": 109,
          "metadata": {},
          "output_type": "execute_result"
        }
      ],
      "source": [
        "train.corr()['MERCHANT_CATEGORIZED_AS'].sort_values()[train.corr()['MERCHANT_CATEGORIZED_AS'].sort_values() >0]"
      ]
    },
    {
      "cell_type": "markdown",
      "metadata": {
        "id": "zQZ1IGzbYSot"
      },
      "source": [
        "## Save the new datasets"
      ]
    },
    {
      "cell_type": "code",
      "execution_count": null,
      "metadata": {
        "id": "Fm2StfJLYSot"
      },
      "outputs": [],
      "source": [
        "# train_df.to_csv('train_noagegroups.csv',index=False)\n",
        "# test_df.to_csv('test_noagegroups.csv',index=False)\n",
        "train.to_csv('alvintrain_base.csv',index=False)\n",
        "test.to_csv('alvintest_base.csv',index=False)"
      ]
    },
    {
      "cell_type": "code",
      "execution_count": null,
      "metadata": {
        "id": "KStZjmSlYSot"
      },
      "outputs": [],
      "source": [
        ""
      ]
    }
  ],
  "metadata": {
    "kernelspec": {
      "display_name": "Python 3 (ipykernel)",
      "language": "python",
      "name": "python3"
    },
    "language_info": {
      "codemirror_mode": {
        "name": "ipython",
        "version": 3
      },
      "file_extension": ".py",
      "mimetype": "text/x-python",
      "name": "python",
      "nbconvert_exporter": "python",
      "pygments_lexer": "ipython3",
      "version": "3.8.10"
    },
    "colab": {
      "name": "alvinseda- updatedEDA.ipynb",
      "provenance": [],
      "include_colab_link": true
    }
  },
  "nbformat": 4,
  "nbformat_minor": 0
}